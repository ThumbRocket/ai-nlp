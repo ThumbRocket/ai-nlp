{
  "cells": [
    {
      "cell_type": "markdown",
      "metadata": {
        "id": "skCfWpwydiYY"
      },
      "source": [
        "# Week1: Simple Spam Mail Classifier\n",
        "\n",
        "## 1. Introduction to NLP\n",
        "\n",
        "Let's have a taste of NLP by exploring how ChatGPT, which is widely used these days, began the era of Large Language Models.\n",
        "\n",
        "Using GPT2 to understand how ChatGPT works internally.\n",
        "\n",
        "## 2. Spam Mail Classifier\n",
        "\n",
        "Create a spam mail classifier based on what's learned in the lecture.\n",
        "\n",
        "Building the model in the order presented in the lecture and observing the results.\n",
        "\n",
        "#### a. Rule-Based Classifier without NLP\n",
        "\n",
        "Create a classifier using a simple rule without NLP.\n",
        "\n",
        "#### 0. Evaluation\n",
        "\n",
        "Evaluate the results of the model created earlier.\n",
        "\n",
        "#### b. Basic Word Processing!\n",
        "\n",
        "Enhance the classifier using simple NLP techniques.\n",
        "\n",
        "#### c. Word Preprocessing\n",
        "\n",
        "Implementing how to preprocess words according to what's learned in the lecture, so that classification can be as accurate as possible without exceptions.\n",
        "\n",
        "#### d. Similarity-Based Processing\n",
        "\n",
        "Further improve the NLP-based model using similarity functions.\n",
        "\n",
        "## 3. [Extra] Tokenization with BERT\n",
        "\n",
        "Represent the tokenization from 2-c. as vectors using BERT."
      ]
    },
    {
      "cell_type": "markdown",
      "metadata": {
        "id": "2hK0v2tmOB7L"
      },
      "source": [
        "#### Package Download"
      ]
    },
    {
      "cell_type": "code",
      "execution_count": 1,
      "metadata": {
        "id": "Wjm4FsGoOAnT"
      },
      "outputs": [],
      "source": [
        "!pip install --quiet gdown pandas nltk fast-edit-distance"
      ]
    },
    {
      "cell_type": "code",
      "execution_count": 2,
      "metadata": {
        "colab": {
          "base_uri": "https://localhost:8080/"
        },
        "id": "MDXARMJYqqyu",
        "outputId": "8afc4642-bbdb-483d-aa8f-d176a91808d5"
      },
      "outputs": [
        {
          "name": "stderr",
          "output_type": "stream",
          "text": [
            "[nltk_data] Downloading package stopwords to /home/devrok/nltk_data...\n",
            "[nltk_data]   Package stopwords is already up-to-date!\n",
            "[nltk_data] Downloading package wordnet to /home/devrok/nltk_data...\n",
            "[nltk_data]   Package wordnet is already up-to-date!\n",
            "[nltk_data] Downloading package punkt to /home/devrok/nltk_data...\n",
            "[nltk_data]   Package punkt is already up-to-date!\n"
          ]
        },
        {
          "data": {
            "text/plain": [
              "True"
            ]
          },
          "execution_count": 2,
          "metadata": {},
          "output_type": "execute_result"
        }
      ],
      "source": [
        "# nltk package init for lemmatization, stemming\n",
        "import nltk\n",
        "nltk.download('stopwords')\n",
        "nltk.download('wordnet')\n",
        "nltk.download('punkt')"
      ]
    },
    {
      "cell_type": "markdown",
      "metadata": {
        "id": "77dSU75spGmO"
      },
      "source": [
        "## 1. Introduction to NLP\n",
        "\n",
        "Natural Language Processing (NLP) stands at the forefront of modern artificial intelligence, enabling machines to understand, interpret, and generate human language. In this section, we embark on a journey to explore the fundamentals of NLP and its practical applications, with a focus on ChatGPT, one of the most widely used models in the field.\n",
        "\n",
        "### Understanding the Significance of NLP\n",
        "\n",
        "NLP has revolutionized various domains, including machine translation, sentiment analysis, question answering systems, and text summarization. Its applications range from enhancing search engines to enabling virtual assistants like Siri and Alexa to interact with users in natural language.\n",
        "\n",
        "### ChatGPT: A Glimpse into the Era of Large Language Models (LLMs)\n",
        "\n",
        "We delve into the evolution of NLP with the advent of Large Language Models (LLMs) like ChatGPT. These models, powered by vast amounts of data and advanced neural network architectures such as GPT-2 and GPT-3, have pushed the boundaries of natural language understanding and generation.\n",
        "\n",
        "### Objectives of the Section\n",
        "\n",
        "- Introduce the fundamental concepts of NLP.\n",
        "- Highlight the transformative impact of NLP on various industries.\n",
        "- Explore the role of ChatGPT in advancing NLP technology.\n",
        "- Familiarize ourselves with the workings of GPT-2 as a precursor to ChatGPT.\n",
        "\n",
        "### Key Topics Covered\n",
        "\n",
        "- Overview of NLP: Basic concepts and applications.\n",
        "- Evolution of Large Language Models: From GPT-2 to ChatGPT.\n",
        "- Exploring GPT-2: Understanding its architecture and capabilities.\n",
        "\n",
        "### Why It Matters\n",
        "\n",
        "Understanding the basics of NLP and the underlying mechanisms of LLMs like ChatGPT is crucial for anyone venturing into the field of artificial intelligence, data science, or natural language understanding. This section sets the stage for the practical experimentation and model building exercises that follow, laying a solid foundation for further exploration into the exciting realm of NLP.\n"
      ]
    },
    {
      "cell_type": "markdown",
      "metadata": {
        "id": "q9jwriPtSNWl"
      },
      "source": [
        "### Experimenting with GPT2\n",
        "\n",
        "To gain insights into the workings of ChatGPT, we leverage GPT-2, a precursor to ChatGPT, to explore its internal mechanisms. By understanding how GPT-2 processes text and generates responses, we lay the groundwork for building our own NLP-based solutions in subsequent sections.\n"
      ]
    },
    {
      "cell_type": "code",
      "execution_count": 3,
      "metadata": {
        "id": "NTRFSeWUpFhO"
      },
      "outputs": [
        {
          "name": "stderr",
          "output_type": "stream",
          "text": [
            "/home/devrok/.conda/envs/nlp_pt/lib/python3.10/site-packages/transformers/tokenization_utils_base.py:1601: FutureWarning: `clean_up_tokenization_spaces` was not set. It will be set to `True` by default. This behavior will be depracted in transformers v4.45, and will be then set to `False` by default. For more details check this issue: https://github.com/huggingface/transformers/issues/31884\n",
            "  warnings.warn(\n"
          ]
        }
      ],
      "source": [
        "# model, tokenization init.\n",
        "from transformers import AutoModelForCausalLM, AutoTokenizer\n",
        "\n",
        "model = AutoModelForCausalLM.from_pretrained(\"gpt2\") # model과\n",
        "tokenizer = AutoTokenizer.from_pretrained(\"gpt2\") # tokenizer 다운"
      ]
    },
    {
      "cell_type": "code",
      "execution_count": 4,
      "metadata": {
        "id": "C0rYOde3pXKT"
      },
      "outputs": [],
      "source": [
        "prompt = \"GPT2 is a model developed by OpenAI.\""
      ]
    },
    {
      "cell_type": "code",
      "execution_count": 5,
      "metadata": {
        "colab": {
          "base_uri": "https://localhost:8080/"
        },
        "id": "hLSUfJZ_pYRL",
        "outputId": "6419041f-49c9-4b49-8c19-60935d7148da"
      },
      "outputs": [
        {
          "data": {
            "text/plain": [
              "tensor([[   38, 11571,    17,   318,   257,  2746,  4166,   416,  4946, 20185,\n",
              "            13]])"
            ]
          },
          "execution_count": 5,
          "metadata": {},
          "output_type": "execute_result"
        }
      ],
      "source": [
        "# string -> vector\n",
        "input_ids = tokenizer(prompt, return_tensors=\"pt\").input_ids # return_tensors=\"pt\" : tokenizer를 pytorch로 변환\n",
        "input_ids"
      ]
    },
    {
      "cell_type": "code",
      "execution_count": 6,
      "metadata": {
        "colab": {
          "base_uri": "https://localhost:8080/"
        },
        "id": "Mg_cjvTOQ2XU",
        "outputId": "6e779c8a-7c9b-4fd2-cfe3-88d5af4bb728"
      },
      "outputs": [
        {
          "data": {
            "text/plain": [
              "('G', 'PT', '2', ' is')"
            ]
          },
          "execution_count": 6,
          "metadata": {},
          "output_type": "execute_result"
        }
      ],
      "source": [
        "# tokenizer 확인\n",
        "tokenizer.decode(38), tokenizer.decode(11571), tokenizer.decode(17), tokenizer.decode(318)"
      ]
    },
    {
      "cell_type": "code",
      "execution_count": 7,
      "metadata": {
        "colab": {
          "base_uri": "https://localhost:8080/"
        },
        "id": "at7K4TZSpZx8",
        "outputId": "db0e6917-7c5a-481f-dd18-92ccf79c764d"
      },
      "outputs": [
        {
          "name": "stderr",
          "output_type": "stream",
          "text": [
            "The attention mask and the pad token id were not set. As a consequence, you may observe unexpected behavior. Please pass your input's `attention_mask` to obtain reliable results.\n",
            "Setting `pad_token_id` to `eos_token_id`:50256 for open-end generation.\n",
            "The attention mask is not set and cannot be inferred from input because pad token is same as eos token. As a consequence, you may observe unexpected behavior. Please pass your input's `attention_mask` to obtain reliable results.\n"
          ]
        },
        {
          "data": {
            "text/plain": [
              "tensor([[   38, 11571,    17,   318,   257,  2746,  4166,   416,  4946, 20185,\n",
              "            13,   383,  3061,   286,   428,  3348,   318,   284,  2423,   262,\n",
              "          1459,  1181,   286,  3725,  5115, 17019,  7686,   290,   703,   484,\n",
              "           460,   307,  5625,   284,   584,  4959,    13,   770,  3348, 12932,\n",
              "           284,  2148,   257,   517,  9432,  6764,   286,   262,  4096, 10838,\n",
              "           416,   543,   428,   318,  5625,   284, 17019,  7686,    13,   770,\n",
              "          3164,   468,   587,  9713,   287,   428,  3348,   867,  1661,    13,\n",
              "           383,  4031,   286,   428,  3348,   318,   284, 11589,  2209,   262,\n",
              "          2276,  2428,  4376,   290,   284, 18077,   257,   517,  6496,  3164,\n",
              "            13, 50256]])"
            ]
          },
          "execution_count": 7,
          "metadata": {},
          "output_type": "execute_result"
        }
      ],
      "source": [
        "# vector -> GPT2 -> vector\n",
        "gen_tokens = model.generate(\n",
        "    input_ids, # token화된 문장\n",
        "    do_sample=True, # sampling을 이용하여 단어를 무작위로 선택\n",
        "    temperature=0.9, # 1에 가까울수록 확률이 높은 단어 선택\n",
        "    max_length=100,\n",
        ")\n",
        "\n",
        "gen_tokens\n",
        "#[38, 11571, 17, 318, 257, 2746, 4166, 416, 4946, 20185, 13, .... ]을 보고 뒷부분을 생성"
      ]
    },
    {
      "cell_type": "code",
      "execution_count": 8,
      "metadata": {
        "colab": {
          "base_uri": "https://localhost:8080/",
          "height": 72
        },
        "id": "SJu7ejtppbKr",
        "outputId": "4d7e2619-b0f4-4a33-82f3-d7d8b29f7cb5"
      },
      "outputs": [
        {
          "data": {
            "text/plain": [
              "'GPT2 is a model developed by OpenAI. The goal of this paper is to review the current state of knowledge regarding neural networks and how they can be applied to other purposes. This paper seeks to provide a more objective description of the basic concepts by which this is applied to neural networks. This approach has been studied in this paper many times. The aim of this paper is to briefly address the general issues raised and to propose a more detailed approach.<|endoftext|>'"
            ]
          },
          "execution_count": 8,
          "metadata": {},
          "output_type": "execute_result"
        }
      ],
      "source": [
        "# vector -> string\n",
        "gen_text = tokenizer.batch_decode(gen_tokens)[0] # list 자료 형태 [0] 없어도 됨\n",
        "gen_text # 그럴듯한 문장 생성"
      ]
    },
    {
      "cell_type": "markdown",
      "metadata": {
        "id": "rUkdVAgvp84F"
      },
      "source": [
        "### Experimenting with ChatGPT\n",
        "\n",
        "We conduct hands-on experiments with ChatGPT to gain practical insights into its capabilities and behavior. By interacting with ChatGPT and observing its responses, we deepen our understanding of its language processing abilities and explore its potential applications in various scenarios."
      ]
    },
    {
      "cell_type": "code",
      "execution_count": 9,
      "metadata": {
        "id": "HjsYrxStqM8Y"
      },
      "outputs": [],
      "source": [
        "# 각각의 gpt가 답변한 내용들\n",
        "gpt3_5 = \"Close! It’s actually GPT-3, the third iteration of the Generative Pre-trained Transformer model, developed by OpenAI. GPT-2 is the predecessor to GPT-3.\"\n",
        "\n",
        "gpt4 = \"\"\"\n",
        "Yes, that's correct!\n",
        "GPT-2, or the second version of the Generative Pre-trained Transformer, is a model developed by OpenAI.\n",
        "It's an advanced language processing AI model that uses a transformer-based machine learning technique to generate human-like text.\n",
        "GPT-2 can comprehend and generate coherent and contextually relevant text based on a given prompt, making it useful for a variety of applications like text completion, summarization, and even generating creative writing.\n",
        "\"\"\"\n",
        "\n",
        "gpt4o = \"\"\"\n",
        "GPT-2 is a language model developed by OpenAI. It is part of a family of Generative Pre-trained Transformers (GPT) that use deep learning techniques to generate human-like text based on the input provided. Here are some key points about GPT-2:\n",
        "\n",
        "Release Date: GPT-2 was introduced by OpenAI in February 2019.\n",
        "Architecture: It uses a transformer architecture, which is a type of deep learning model designed for sequence-to-sequence tasks, such as translation and text generation.\n",
        "Training Data: GPT-2 was trained on a diverse dataset of internet text. The dataset is large and varied, enabling the model to generate coherent and contextually relevant text across a wide range of topics.\n",
        "Size Variants: GPT-2 comes in several size variants, with different numbers of parameters (the weights in the model):\n",
        "117 million parameters\n",
        "345 million parameters\n",
        "762 million parameters\n",
        "1.5 billion parameters (the largest version)\n",
        "Capabilities: GPT-2 can perform a variety of natural language processing tasks, such as text completion, translation, summarization, and question answering, without needing task-specific training data.\n",
        "Controversy and Concerns: Upon its release, there were concerns about the potential misuse of GPT-2, such as generating misleading news or spam. This led OpenAI to initially withhold the full model and release it gradually, starting with smaller versions and finally releasing the full model after thorough evaluation of its impact.\n",
        "Successor: GPT-2 was succeeded by GPT-3, which is significantly larger and more powerful, with 175 billion parameters. GPT-3 further enhanced the capabilities demonstrated by GPT-2.\n",
        "Overall, GPT-2 marked a significant advancement in the field of natural language processing and paved the way for subsequent developments in AI language models.\n",
        "\"\"\""
      ]
    },
    {
      "cell_type": "markdown",
      "metadata": {
        "id": "FoNoJUm8TktA"
      },
      "source": [
        "## 2. Spam Mail Classifier\n",
        "\n",
        "In this section, we focus on building a spam mail classifier using various techniques learned in the lecture. We follow a structured approach to develop and evaluate the classifier's performance, starting from simple rule-based methods to more sophisticated NLP-based models. Through this process, we aim to understand the effectiveness of different approaches in accurately identifying and classifying spam emails.\n",
        "\n",
        "### Objectives:\n",
        "- Develop a spam mail classifier based on lecture materials.\n",
        "- Evaluate classifier performance using different techniques.\n",
        "- Compare effectiveness of rule-based and NLP-based approaches.\n",
        "\n",
        "### Key Steps:\n",
        "1. **Rule-Based Classifier without NLP:** Implement a basic classifier using predefined rules.\n",
        "2. **Basic Word Processing:** Enhance classifier using simple NLP techniques.\n",
        "3. **Word Preprocessing:** Implement advanced word preprocessing methods for improved classification.\n",
        "4. **Similarity-Based Processing:** Further refine classifier using similarity functions and NLP-based techniques.\n",
        "\n",
        "### Evaluation:\n",
        "- Assess classifier performance at each stage.\n",
        "- Compare results to determine effectiveness of different approaches.\n",
        "- Identify strengths and limitations of rule-based and NLP-based methods.\n",
        "\n",
        "### Importance:\n",
        "Developing a spam mail classifier provides practical insights into applying NLP techniques for text classification tasks. This section enables us to understand the challenges involved in spam detection and the role of NLP in addressing them, contributing to our overall understanding of natural language processing applications."
      ]
    },
    {
      "cell_type": "markdown",
      "metadata": {
        "id": "rDt3E8OcgRsy"
      },
      "source": [
        "RAG(Real-time Abstractive Generation)는 최근 자연어 처리(NLP) 분야에서 사용되는 기술 중 하나입니다. 이 기술은 주어진 질문에 대해 실시간으로 관련된 정보를 검색하여 요약하고, 이를 바탕으로 응답을 생성하는 방식으로 동작합니다. RAG의 주요 구성 요소는 다음과 같습니다:\n",
        "\n",
        "Retriever: 주어진 질문에 대한 관련 문서를 검색하는 역할을 합니다. 검색 엔진이나 데이터베이스에서 관련 정보를 찾아냅니다.\n",
        "Generator: 검색된 문서를 바탕으로 응답을 생성하는 역할을 합니다. GPT-3와 같은 대규모 언어 모델을 사용하여 자연스럽고 일관성 있는 텍스트를 생성합니다.\n",
        "이러한 RAG 모델은 특히 대화형 AI, 질문 응답 시스템, 챗봇 등에서 유용하게 사용될 수 있습니다. 예를 들어, 특정 주제에 대한 질문이 주어지면, 먼저 관련 정보를 검색하고, 그 정보를 요약하여 사용자에게 적절한 응답을 제공하는 방식입니다.\n",
        "\n",
        "RAG는 기존의 단순한 정보 검색 모델보다 더 정교하고, 사용자가 원하는 정보를 더 정확하게 제공할 수 있다는 장점이 있습니다."
      ]
    },
    {
      "cell_type": "markdown",
      "metadata": {
        "id": "sqhJow8-zQAX"
      },
      "source": [
        "### Prepare Dataset\n",
        "\n",
        "* Spam Mail Dataset\n",
        "[Dataset Reference](https://www.kaggle.com/datasets/venky73/spam-mails-dataset?resource=download&SSORegistrationToken=CfDJ8B5GsGLMFaFLm6_4BsA80RS4BAT0LRVbH6iNxvo5aSOHX-1pg5QGq6ge5mtJU8nMIokHC1zedaT2IXaj98xFPqxsKGkKG4FktgUQIoWDCGIz6XGDNs5_0Y4gPevVU07z61T2d0z6mY1g98ljAzOE-DlkPT8k1zBPqyzX_d7yQJMR_49mt5pxs-_6WdFhdSu1B9pFDEnajFKk3QF791dEJp_4ok6NubwwwPyfQQ-O6yBAi9Z9VpkXVBtMIzXMO7_FeAidYdW5uSivFrnz2hmfv0yxmfq-GgNYXfPoAMvasqdAktgKRiFSI-GZATODMfnjFq1q40TDOQu7ZGg8b_9pwx40zhTxCNU9)"
      ]
    },
    {
      "cell_type": "code",
      "execution_count": 10,
      "metadata": {
        "colab": {
          "base_uri": "https://localhost:8080/",
          "height": 107
        },
        "id": "sruK3HY1EW5U",
        "outputId": "716143b2-68af-4b3e-de04-f3f9da416581"
      },
      "outputs": [
        {
          "name": "stderr",
          "output_type": "stream",
          "text": [
            "Downloading...\n",
            "From: https://drive.google.com/uc?id=1Ua1q2hOfN25B6H8PDWXl4yViE_cNj3mp\n",
            "To: /home/devrok/aiexpert/ai-nlp/04_NLP_Theory/spam_dataset.tsv\n",
            "100%|██████████| 5.50M/5.50M [00:00<00:00, 16.3MB/s]\n"
          ]
        },
        {
          "data": {
            "text/plain": [
              "'spam_dataset.tsv'"
            ]
          },
          "execution_count": 10,
          "metadata": {},
          "output_type": "execute_result"
        }
      ],
      "source": [
        "# download spam/ham dataset\n",
        "import gdown\n",
        "from pathlib import Path\n",
        "\n",
        "url = 'https://drive.google.com/uc?id=1Ua1q2hOfN25B6H8PDWXl4yViE_cNj3mp'\n",
        "dataset_path = Path('./spam_dataset.tsv')\n",
        "gdown.download(url, str(dataset_path), quiet=False)"
      ]
    },
    {
      "cell_type": "markdown",
      "metadata": {
        "id": "rn8-WynHzWvI"
      },
      "source": [
        "### Dataset Inspection"
      ]
    },
    {
      "cell_type": "code",
      "execution_count": 11,
      "metadata": {
        "id": "w_uCP6J0fxRW"
      },
      "outputs": [],
      "source": [
        "import pandas as pd\n",
        "df = pd.read_csv(dataset_path, sep=\"\\t\")"
      ]
    },
    {
      "cell_type": "code",
      "execution_count": 12,
      "metadata": {
        "colab": {
          "base_uri": "https://localhost:8080/",
          "height": 424
        },
        "id": "sjG8K10dP4RX",
        "outputId": "fd1aa98b-1620-42b0-d311-7cbec3822f50"
      },
      "outputs": [
        {
          "data": {
            "text/html": [
              "<div>\n",
              "<style scoped>\n",
              "    .dataframe tbody tr th:only-of-type {\n",
              "        vertical-align: middle;\n",
              "    }\n",
              "\n",
              "    .dataframe tbody tr th {\n",
              "        vertical-align: top;\n",
              "    }\n",
              "\n",
              "    .dataframe thead th {\n",
              "        text-align: right;\n",
              "    }\n",
              "</style>\n",
              "<table border=\"1\" class=\"dataframe\">\n",
              "  <thead>\n",
              "    <tr style=\"text-align: right;\">\n",
              "      <th></th>\n",
              "      <th>Unnamed: 0</th>\n",
              "      <th>label</th>\n",
              "      <th>text</th>\n",
              "      <th>label_num</th>\n",
              "    </tr>\n",
              "  </thead>\n",
              "  <tbody>\n",
              "    <tr>\n",
              "      <th>0</th>\n",
              "      <td>605</td>\n",
              "      <td>ham</td>\n",
              "      <td>Subject: enron methanol ; meter # : 988291\\r\\n...</td>\n",
              "      <td>0</td>\n",
              "    </tr>\n",
              "    <tr>\n",
              "      <th>1</th>\n",
              "      <td>2349</td>\n",
              "      <td>ham</td>\n",
              "      <td>Subject: hpl nom for january 9 , 2001\\r\\n( see...</td>\n",
              "      <td>0</td>\n",
              "    </tr>\n",
              "    <tr>\n",
              "      <th>2</th>\n",
              "      <td>3624</td>\n",
              "      <td>ham</td>\n",
              "      <td>Subject: neon retreat\\r\\nho ho ho , we ' re ar...</td>\n",
              "      <td>0</td>\n",
              "    </tr>\n",
              "    <tr>\n",
              "      <th>3</th>\n",
              "      <td>4685</td>\n",
              "      <td>spam</td>\n",
              "      <td>Subject: photoshop , windows , office . cheap ...</td>\n",
              "      <td>1</td>\n",
              "    </tr>\n",
              "    <tr>\n",
              "      <th>4</th>\n",
              "      <td>2030</td>\n",
              "      <td>ham</td>\n",
              "      <td>Subject: re : indian springs\\r\\nthis deal is t...</td>\n",
              "      <td>0</td>\n",
              "    </tr>\n",
              "    <tr>\n",
              "      <th>...</th>\n",
              "      <td>...</td>\n",
              "      <td>...</td>\n",
              "      <td>...</td>\n",
              "      <td>...</td>\n",
              "    </tr>\n",
              "    <tr>\n",
              "      <th>5166</th>\n",
              "      <td>1518</td>\n",
              "      <td>ham</td>\n",
              "      <td>Subject: put the 10 on the ft\\r\\nthe transport...</td>\n",
              "      <td>0</td>\n",
              "    </tr>\n",
              "    <tr>\n",
              "      <th>5167</th>\n",
              "      <td>404</td>\n",
              "      <td>ham</td>\n",
              "      <td>Subject: 3 / 4 / 2000 and following noms\\r\\nhp...</td>\n",
              "      <td>0</td>\n",
              "    </tr>\n",
              "    <tr>\n",
              "      <th>5168</th>\n",
              "      <td>2933</td>\n",
              "      <td>ham</td>\n",
              "      <td>Subject: calpine daily gas nomination\\r\\n&gt;\\r\\n...</td>\n",
              "      <td>0</td>\n",
              "    </tr>\n",
              "    <tr>\n",
              "      <th>5169</th>\n",
              "      <td>1409</td>\n",
              "      <td>ham</td>\n",
              "      <td>Subject: industrial worksheets for august 2000...</td>\n",
              "      <td>0</td>\n",
              "    </tr>\n",
              "    <tr>\n",
              "      <th>5170</th>\n",
              "      <td>4807</td>\n",
              "      <td>spam</td>\n",
              "      <td>Subject: important online banking alert\\r\\ndea...</td>\n",
              "      <td>1</td>\n",
              "    </tr>\n",
              "  </tbody>\n",
              "</table>\n",
              "<p>5171 rows × 4 columns</p>\n",
              "</div>"
            ],
            "text/plain": [
              "      Unnamed: 0 label                                               text  \\\n",
              "0            605   ham  Subject: enron methanol ; meter # : 988291\\r\\n...   \n",
              "1           2349   ham  Subject: hpl nom for january 9 , 2001\\r\\n( see...   \n",
              "2           3624   ham  Subject: neon retreat\\r\\nho ho ho , we ' re ar...   \n",
              "3           4685  spam  Subject: photoshop , windows , office . cheap ...   \n",
              "4           2030   ham  Subject: re : indian springs\\r\\nthis deal is t...   \n",
              "...          ...   ...                                                ...   \n",
              "5166        1518   ham  Subject: put the 10 on the ft\\r\\nthe transport...   \n",
              "5167         404   ham  Subject: 3 / 4 / 2000 and following noms\\r\\nhp...   \n",
              "5168        2933   ham  Subject: calpine daily gas nomination\\r\\n>\\r\\n...   \n",
              "5169        1409   ham  Subject: industrial worksheets for august 2000...   \n",
              "5170        4807  spam  Subject: important online banking alert\\r\\ndea...   \n",
              "\n",
              "      label_num  \n",
              "0             0  \n",
              "1             0  \n",
              "2             0  \n",
              "3             1  \n",
              "4             0  \n",
              "...         ...  \n",
              "5166          0  \n",
              "5167          0  \n",
              "5168          0  \n",
              "5169          0  \n",
              "5170          1  \n",
              "\n",
              "[5171 rows x 4 columns]"
            ]
          },
          "execution_count": 12,
          "metadata": {},
          "output_type": "execute_result"
        }
      ],
      "source": [
        "# check how data looks like\n",
        "df # label_num -> 0 : ham, 1 : spam"
      ]
    },
    {
      "cell_type": "code",
      "execution_count": 13,
      "metadata": {
        "colab": {
          "base_uri": "https://localhost:8080/",
          "height": 430
        },
        "id": "S0H7hv53Ss1j",
        "outputId": "fc4c35c1-7d03-42d2-bac6-9b24adf56074"
      },
      "outputs": [
        {
          "data": {
            "image/png": "[encoded data removed]",
            "text/plain": [
              "<Figure size 640x480 with 1 Axes>"
            ]
          },
          "metadata": {},
          "output_type": "display_data"
        }
      ],
      "source": [
        "# @title label\n",
        "\n",
        "from matplotlib import pyplot as plt\n",
        "import seaborn as sns\n",
        "df.groupby('label').size().plot(kind='barh', color=sns.palettes.mpl_palette('Dark2'))\n",
        "plt.gca().spines[['top', 'right',]].set_visible(False)"
      ]
    },
    {
      "cell_type": "code",
      "execution_count": 14,
      "metadata": {
        "colab": {
          "base_uri": "https://localhost:8080/"
        },
        "id": "EB6jb1Ojk4RA",
        "outputId": "4f145407-e8f5-4f4f-c545-8fc02d86cd0e"
      },
      "outputs": [
        {
          "name": "stdout",
          "output_type": "stream",
          "text": [
            "<class 'pandas.core.frame.DataFrame'>\n",
            "RangeIndex: 5171 entries, 0 to 5170\n",
            "Data columns (total 4 columns):\n",
            " #   Column      Non-Null Count  Dtype \n",
            "---  ------      --------------  ----- \n",
            " 0   Unnamed: 0  5171 non-null   int64 \n",
            " 1   label       5171 non-null   object\n",
            " 2   text        5171 non-null   object\n",
            " 3   label_num   5171 non-null   int64 \n",
            "dtypes: int64(2), object(2)\n",
            "memory usage: 161.7+ KB\n"
          ]
        }
      ],
      "source": [
        "# check types\n",
        "df.info()"
      ]
    },
    {
      "cell_type": "code",
      "execution_count": 15,
      "metadata": {
        "colab": {
          "base_uri": "https://localhost:8080/",
          "height": 430
        },
        "id": "cdhiqZbYSUZP",
        "outputId": "e526efc3-4869-4b47-ad62-447d5f90f3ea"
      },
      "outputs": [
        {
          "data": {
            "image/png": "[encoded data removed]",
            "text/plain": [
              "<Figure size 640x480 with 1 Axes>"
            ]
          },
          "metadata": {},
          "output_type": "display_data"
        }
      ],
      "source": [
        "# distribution inspection\n",
        "from matplotlib import pyplot as plt\n",
        "import seaborn as sns\n",
        "df.groupby('label').size().plot(kind='barh', color=sns.palettes.mpl_palette('Dark2'))\n",
        "plt.gca().spines[['top', 'right',]].set_visible(False)"
      ]
    },
    {
      "cell_type": "code",
      "execution_count": 16,
      "metadata": {
        "colab": {
          "base_uri": "https://localhost:8080/",
          "height": 72
        },
        "id": "A9-W9YhDSpN8",
        "outputId": "de005df6-558d-48db-c05d-82b002fdd9a1"
      },
      "outputs": [
        {
          "data": {
            "text/plain": [
              "'Subject: photoshop , windows , office . cheap . main trending\\r\\nabasements darer prudently fortuitous undergone\\r\\nlighthearted charm orinoco taster\\r\\nrailroad affluent pornographic cuvier\\r\\nirvin parkhouse blameworthy chlorophyll\\r\\nrobed diagrammatic fogarty clears bayda\\r\\ninconveniencing managing represented smartness hashish\\r\\nacademies shareholders unload badness\\r\\ndanielson pure caffein\\r\\nspaniard chargeable levin\\r\\n'"
            ]
          },
          "execution_count": 16,
          "metadata": {},
          "output_type": "execute_result"
        }
      ],
      "source": [
        "# text_example\n",
        "df.iloc[3][\"text\"]"
      ]
    },
    {
      "cell_type": "markdown",
      "metadata": {
        "id": "8Qr9py3GCE2b"
      },
      "source": [
        "### a. Rule-Based Classifier without NLP\n",
        "\n",
        "In this subsection, we begin by implementing a basic spam mail classifier using a rule-based approach without relying on NLP techniques. We define simple rules or criteria based on known characteristics of spam emails, such as **length** of the email. By employing this straightforward method, we aim to establish a baseline for spam classification and evaluate its effectiveness in distinguishing between spam and ham emails.\n",
        "\n",
        "### Objectives:\n",
        "- Develop a rule-based classifier for spam mail detection.\n",
        "- Define rules based on common characteristics of spam emails.\n",
        "\n",
        "### Key Steps:\n",
        "1. **Rule Definition:** Identify key features or patterns indicative of spam emails.\n",
        "2. **Classifier Implementation:** Translate rules into algorithmic logic for classification.\n",
        "\n",
        "\n",
        "### Importance:\n",
        "Building a rule-based classifier provides a fundamental understanding of spam detection methods and serves as a benchmark for comparing more sophisticated approaches. This subsection lays the groundwork for exploring advanced NLP techniques in subsequent sections, contributing to our overall understanding of spam mail classification.\n"
      ]
    },
    {
      "cell_type": "code",
      "execution_count": 17,
      "metadata": {
        "colab": {
          "base_uri": "https://localhost:8080/",
          "height": 424
        },
        "id": "v0XR6GJjSzsG",
        "outputId": "b729da49-ae1d-4294-f227-201625be6785"
      },
      "outputs": [
        {
          "data": {
            "text/html": [
              "<div>\n",
              "<style scoped>\n",
              "    .dataframe tbody tr th:only-of-type {\n",
              "        vertical-align: middle;\n",
              "    }\n",
              "\n",
              "    .dataframe tbody tr th {\n",
              "        vertical-align: top;\n",
              "    }\n",
              "\n",
              "    .dataframe thead th {\n",
              "        text-align: right;\n",
              "    }\n",
              "</style>\n",
              "<table border=\"1\" class=\"dataframe\">\n",
              "  <thead>\n",
              "    <tr style=\"text-align: right;\">\n",
              "      <th></th>\n",
              "      <th>Unnamed: 0</th>\n",
              "      <th>label</th>\n",
              "      <th>text</th>\n",
              "      <th>label_num</th>\n",
              "      <th>model_without_nlp</th>\n",
              "    </tr>\n",
              "  </thead>\n",
              "  <tbody>\n",
              "    <tr>\n",
              "      <th>0</th>\n",
              "      <td>605</td>\n",
              "      <td>ham</td>\n",
              "      <td>Subject: enron methanol ; meter # : 988291\\r\\n...</td>\n",
              "      <td>0</td>\n",
              "      <td>0</td>\n",
              "    </tr>\n",
              "    <tr>\n",
              "      <th>1</th>\n",
              "      <td>2349</td>\n",
              "      <td>ham</td>\n",
              "      <td>Subject: hpl nom for january 9 , 2001\\r\\n( see...</td>\n",
              "      <td>0</td>\n",
              "      <td>0</td>\n",
              "    </tr>\n",
              "    <tr>\n",
              "      <th>2</th>\n",
              "      <td>3624</td>\n",
              "      <td>ham</td>\n",
              "      <td>Subject: neon retreat\\r\\nho ho ho , we ' re ar...</td>\n",
              "      <td>0</td>\n",
              "      <td>1</td>\n",
              "    </tr>\n",
              "    <tr>\n",
              "      <th>3</th>\n",
              "      <td>4685</td>\n",
              "      <td>spam</td>\n",
              "      <td>Subject: photoshop , windows , office . cheap ...</td>\n",
              "      <td>1</td>\n",
              "      <td>0</td>\n",
              "    </tr>\n",
              "    <tr>\n",
              "      <th>4</th>\n",
              "      <td>2030</td>\n",
              "      <td>ham</td>\n",
              "      <td>Subject: re : indian springs\\r\\nthis deal is t...</td>\n",
              "      <td>0</td>\n",
              "      <td>0</td>\n",
              "    </tr>\n",
              "    <tr>\n",
              "      <th>...</th>\n",
              "      <td>...</td>\n",
              "      <td>...</td>\n",
              "      <td>...</td>\n",
              "      <td>...</td>\n",
              "      <td>...</td>\n",
              "    </tr>\n",
              "    <tr>\n",
              "      <th>5166</th>\n",
              "      <td>1518</td>\n",
              "      <td>ham</td>\n",
              "      <td>Subject: put the 10 on the ft\\r\\nthe transport...</td>\n",
              "      <td>0</td>\n",
              "      <td>0</td>\n",
              "    </tr>\n",
              "    <tr>\n",
              "      <th>5167</th>\n",
              "      <td>404</td>\n",
              "      <td>ham</td>\n",
              "      <td>Subject: 3 / 4 / 2000 and following noms\\r\\nhp...</td>\n",
              "      <td>0</td>\n",
              "      <td>1</td>\n",
              "    </tr>\n",
              "    <tr>\n",
              "      <th>5168</th>\n",
              "      <td>2933</td>\n",
              "      <td>ham</td>\n",
              "      <td>Subject: calpine daily gas nomination\\r\\n&gt;\\r\\n...</td>\n",
              "      <td>0</td>\n",
              "      <td>0</td>\n",
              "    </tr>\n",
              "    <tr>\n",
              "      <th>5169</th>\n",
              "      <td>1409</td>\n",
              "      <td>ham</td>\n",
              "      <td>Subject: industrial worksheets for august 2000...</td>\n",
              "      <td>0</td>\n",
              "      <td>0</td>\n",
              "    </tr>\n",
              "    <tr>\n",
              "      <th>5170</th>\n",
              "      <td>4807</td>\n",
              "      <td>spam</td>\n",
              "      <td>Subject: important online banking alert\\r\\ndea...</td>\n",
              "      <td>1</td>\n",
              "      <td>1</td>\n",
              "    </tr>\n",
              "  </tbody>\n",
              "</table>\n",
              "<p>5171 rows × 5 columns</p>\n",
              "</div>"
            ],
            "text/plain": [
              "      Unnamed: 0 label                                               text  \\\n",
              "0            605   ham  Subject: enron methanol ; meter # : 988291\\r\\n...   \n",
              "1           2349   ham  Subject: hpl nom for january 9 , 2001\\r\\n( see...   \n",
              "2           3624   ham  Subject: neon retreat\\r\\nho ho ho , we ' re ar...   \n",
              "3           4685  spam  Subject: photoshop , windows , office . cheap ...   \n",
              "4           2030   ham  Subject: re : indian springs\\r\\nthis deal is t...   \n",
              "...          ...   ...                                                ...   \n",
              "5166        1518   ham  Subject: put the 10 on the ft\\r\\nthe transport...   \n",
              "5167         404   ham  Subject: 3 / 4 / 2000 and following noms\\r\\nhp...   \n",
              "5168        2933   ham  Subject: calpine daily gas nomination\\r\\n>\\r\\n...   \n",
              "5169        1409   ham  Subject: industrial worksheets for august 2000...   \n",
              "5170        4807  spam  Subject: important online banking alert\\r\\ndea...   \n",
              "\n",
              "      label_num  model_without_nlp  \n",
              "0             0                  0  \n",
              "1             0                  0  \n",
              "2             0                  1  \n",
              "3             1                  0  \n",
              "4             0                  0  \n",
              "...         ...                ...  \n",
              "5166          0                  0  \n",
              "5167          0                  1  \n",
              "5168          0                  0  \n",
              "5169          0                  0  \n",
              "5170          1                  1  \n",
              "\n",
              "[5171 rows x 5 columns]"
            ]
          },
          "execution_count": 17,
          "metadata": {},
          "output_type": "execute_result"
        }
      ],
      "source": [
        "# rule definition\n",
        "# 규칙기반으로 spam mail 분류\n",
        "length_threshold = 750\n",
        "\n",
        "df[\"model_without_nlp\"] = df[\"text\"].apply(lambda txt: 1 if len(txt) > length_threshold else 0) # 1 : sapm, 0 : not spam\n",
        "# 특정 길이 이상은 spam으로 분류\n",
        "df"
      ]
    },
    {
      "cell_type": "code",
      "execution_count": 18,
      "metadata": {
        "colab": {
          "base_uri": "https://localhost:8080/",
          "height": 430
        },
        "id": "kI1MkLGJUcMw",
        "outputId": "a39e89b1-049c-4d9f-d2b5-a6471f1016fb"
      },
      "outputs": [
        {
          "data": {
            "image/png": "[encoded data removed]",
            "text/plain": [
              "<Figure size 640x480 with 1 Axes>"
            ]
          },
          "metadata": {},
          "output_type": "display_data"
        }
      ],
      "source": [
        "# distribution check\n",
        "from matplotlib import pyplot as plt\n",
        "import seaborn as sns\n",
        "df.groupby('model_without_nlp').size().plot(kind='barh', color=sns.palettes.mpl_palette('Dark2'))\n",
        "plt.gca().spines[['top', 'right',]].set_visible(False)"
      ]
    },
    {
      "cell_type": "markdown",
      "metadata": {
        "id": "phKaybdbzPSA"
      },
      "source": [
        "### b. Evaluation Metrics\n",
        "Implement followings as function.\n",
        "\n",
        "#### Precision\n",
        "Precision quantifies the proportion of correctly classified spam emails out of all emails classified as spam. It is calculated as the ratio of true positives (correctly classified spam emails) to the sum of true positives and false positives (legitimate emails incorrectly classified as spam). Precision helps assess the classifier's ability to avoid misclassifying legitimate emails as spam.\n",
        "\n",
        "#### Recall\n",
        "Recall, also known as sensitivity, measures the proportion of correctly classified spam emails out of all actual spam emails. It is calculated as the ratio of true positives to the sum of true positives and false negatives (spam emails incorrectly classified as legitimate). Recall indicates the classifier's ability to identify all instances of spam.\n",
        "\n",
        "#### F1 Score\n",
        "The F1 score is the harmonic mean of precision and recall, providing a balanced evaluation metric that considers both false positives and false negatives. It is calculated as the weighted average of precision and recall, with a higher value indicating better overall performance. The F1 score is particularly useful when dealing with imbalanced datasets, where precision and recall may provide conflicting insights.\n",
        "\n",
        "#### Importance:\n",
        "Evaluating the classifier using multiple metrics, including F1 score, ensures a comprehensive understanding of its performance across different aspects of classification. By considering precision, recall, and their harmonic mean, we gain insights into the classifier's ability to accurately detect spam while minimizing false positives and false negatives.\n"
      ]
    },
    {
      "cell_type": "code",
      "execution_count": 19,
      "metadata": {
        "colab": {
          "base_uri": "https://localhost:8080/"
        },
        "id": "-SE7VDyYqFsK",
        "outputId": "9e2c2459-8790-45e8-d768-708364b03ca3"
      },
      "outputs": [
        {
          "name": "stdout",
          "output_type": "stream",
          "text": [
            "<zip object at 0x73d6e068f580>\n",
            "('a', 1) ('b', 2) ('c', 3)\n"
          ]
        }
      ],
      "source": [
        "# zip test\n",
        "a1 = [\"a\", \"b\", \"c\"]\n",
        "b1 = [1, 2, 3]\n",
        "\n",
        "print(zip(a1,b1))\n",
        "print(*zip(a1,b1))\n",
        "# tuple쌍으로 만들어주는 iterator"
      ]
    },
    {
      "cell_type": "code",
      "execution_count": 20,
      "metadata": {
        "id": "Zxjr8paGV4pV"
      },
      "outputs": [],
      "source": [
        "from typing import List\n",
        "\n",
        "def confusion_matrix(reals: List[int], predicts: List[int]): #def confusion_matrix(arg1 name: arg1 type, ...):\n",
        "  tp, fp, fn, tn = 0, 0, 0, 0\n",
        "  for r_val, p_val in zip(reals, predicts):\n",
        "    if r_val == 1:\n",
        "      if p_val == 1:\n",
        "        tp += 1\n",
        "      else:\n",
        "        fn += 1\n",
        "    else:\n",
        "      if p_val == 1:\n",
        "        fp += 1\n",
        "      else:\n",
        "        tn += 1\n",
        "  print(f\"total: {tp + fp + fn + tn}\")\n",
        "  return tp, fp, fn, tn\n",
        "\n",
        "# !!! be aware of zero-division !!!\n",
        "def precision(tp, fp, fn, tn):\n",
        "  return tp / (tp + fp) if (tp + fp) != 0 else 0\n",
        "\n",
        "# !!! be aware of zero-division !!!\n",
        "def recall(tp, fp, fn, tn):\n",
        "  return tp / (tp + fn) if (tp + fn) != 0 else 0\n",
        "\n",
        "# !!! be aware of zero-division !!!\n",
        "def f1_score(tp, fp, fn, tn):\n",
        "  p = precision(tp, fp, fn, tn)\n",
        "  r = recall(tp, fp, fn, tn)\n",
        "  return 2*p*r / (p + r) if (p + r) != 0 else 0\n",
        "\n",
        "def print_metrics(tp, fp, fn, tn):\n",
        "  p = precision(tp, fp, fn, tn)\n",
        "  r = recall(tp, fp, fn, tn)\n",
        "  f1 = f1_score(tp, fp, fn, tn)\n",
        "\n",
        "  print(f\"tp: {tp}, fp: {fp}, fn: {fn}, tn: {tn}\")\n",
        "  print(f\"precision: {p}, recall: {r}, f1: {f1}\")"
      ]
    },
    {
      "cell_type": "code",
      "execution_count": 21,
      "metadata": {
        "colab": {
          "base_uri": "https://localhost:8080/"
        },
        "id": "_rMCCu5beZE6",
        "outputId": "fbb920b1-ae11-4b10-a9a4-a57b679d5740"
      },
      "outputs": [
        {
          "name": "stdout",
          "output_type": "stream",
          "text": [
            "total: 5171\n",
            "tp: 595, fp: 1442, fn: 904, tn: 2230\n",
            "precision: 0.2920962199312715, recall: 0.39693128752501666, f1: 0.33653846153846156\n"
          ]
        }
      ],
      "source": [
        "# evaluation\n",
        "real_labels = df[\"label_num\"].tolist() # 정답 label\n",
        "without_nlp_predicts = df[\"model_without_nlp\"].tolist() # rule based로 예측된 label\n",
        "\n",
        "print_metrics(*confusion_matrix(real_labels, without_nlp_predicts))"
      ]
    },
    {
      "cell_type": "code",
      "execution_count": 22,
      "metadata": {
        "colab": {
          "base_uri": "https://localhost:8080/"
        },
        "id": "rtKQyD_BkZ6N",
        "outputId": "dd452670-7b1b-4b54-fcef-4d343042ba47"
      },
      "outputs": [
        {
          "name": "stdout",
          "output_type": "stream",
          "text": [
            "total: 5171\n"
          ]
        },
        {
          "data": {
            "text/plain": [
              "(595, 1442, 904, 2230)"
            ]
          },
          "execution_count": 22,
          "metadata": {},
          "output_type": "execute_result"
        }
      ],
      "source": [
        "confusion_matrix(real_labels, without_nlp_predicts)"
      ]
    },
    {
      "cell_type": "markdown",
      "metadata": {
        "id": "yes75rSjzYq_"
      },
      "source": [
        "### c. Basic Word Processing\n",
        "\n",
        "In this subsection, we enhance the spam mail classifier by incorporating basic natural language processing (NLP) techniques. By leveraging simple NLP methods, such as tokenization and stemming, we aim to improve the classifier's ability to understand and process textual data. This enhancement allows us to capture more nuanced features of spam emails and refine the classification process for better accuracy and effectiveness.\n",
        "\n",
        "### Objectives:\n",
        "- Apply basic NLP techniques to preprocess textual data.\n",
        "- Enhance the classifier's ability to capture relevant features of spam emails.\n",
        "- Improve classification accuracy and effectiveness compared to the rule-based approach.\n",
        "\n",
        "### Key Steps:\n",
        "1. **Keywords:** Check whether the keyword is in the mail. If the keyword is in the mail filter as spam and otherwise ham.\n",
        "2. **Regex:** Use regex to catch the keywords.\n",
        "3. **Edit Distance:**: Utilizing the edit distance to catch some words that is modified.\n",
        "4. **NLTK**: Use NLTK to improve method 1-3.\n",
        "  1. **Text Tokenization:** Break down email text into individual tokens or words to facilitate analysis and processing.\n",
        "  2. **Stemming or Lemmatization:** Reduce words to their root form to standardize vocabulary and improve feature extraction.\n",
        "  3. **Stopword Removal:** Eliminate common words (stopwords) that carry little semantic meaning to focus on informative content.\n",
        "\n",
        "### Evaluation:\n",
        "- Assess classifier performance using the same evaluation metrics as in Section 2-a (Accuracy, Precision, Recall, F1 Score).\n",
        "- Compare results with the rule-based classifier to measure improvement in classification accuracy and effectiveness.\n",
        "\n",
        "### Importance:\n",
        "Incorporating basic NLP techniques enhances the classifier's ability to understand and process textual data, leading to more accurate spam classification. This subsection lays the foundation for exploring advanced NLP methods in subsequent sections, further improving the classifier's performance and contributing to our understanding of text classification tasks.\n"
      ]
    },
    {
      "cell_type": "markdown",
      "metadata": {
        "id": "e47i9T46W8RS"
      },
      "source": [
        "#### c-1. Keywords\n",
        "Implement the following logic:\n",
        "If keyword is in the mail, classify it as spam."
      ]
    },
    {
      "cell_type": "code",
      "execution_count": 23,
      "metadata": {
        "colab": {
          "base_uri": "https://localhost:8080/"
        },
        "id": "ZiJQEWJUxxKC",
        "outputId": "bcd409b2-ade9-4688-9bf5-1e8e0c56b214"
      },
      "outputs": [
        {
          "data": {
            "text/plain": [
              "68"
            ]
          },
          "execution_count": 23,
          "metadata": {},
          "output_type": "execute_result"
        }
      ],
      "source": [
        "# Keyword Reference: https://lix-it.com/blog/spam-trigger-words/#:~:text=Some%20common%20spam%20trigger%20words,entice%20the%20recipient%20into%20taking\n",
        "keywords = ['$', '$$$', 'affordable', 'amazing', 'apply', 'bargain', 'bonus', 'buy', 'buy', 'call', 'cards', 'cash', 'cash', 'certified', 'chance', 'cheap', 'clearance', 'click', 'compare', 'credit', 'deal', 'discount', 'fantastic', 'free', 'great', 'instant', 'lowest price', 'marketing solutions', 'no questions asked', 'open', 'order', 'prize', 'sale', 'sales', 'sample', 'satisfaction', 'save', 'sign up', 'solution', 'special ', 'subscribe', 'success', 'trial', 'unlimited', 'win', 'winner', 'act', 'brand', 'congratulations', 'consultation', 'expires', 'free', 'gift', 'guaranteed', 'lifetime', 'limited', 'membership', 'millions', 'new', 'obligation', 'offer', 'offer', 'only', 'order', 'pay', 'percent', 'price', 'promotion', 'rates', 'refund', 'sales', 'satisfaction', 'satisfied', 'supplies', 'trial', 'urgent', 'winner']\n",
        "# spam mail에 들어있는 keyword\n",
        "keywords = list(set(keywords)) # set 중복요소 제거\n",
        "len(keywords)"
      ]
    },
    {
      "cell_type": "code",
      "execution_count": 24,
      "metadata": {
        "colab": {
          "base_uri": "https://localhost:8080/"
        },
        "id": "IFQ3p0nZrfoM",
        "outputId": "574a0c99-51c8-47b9-ca5e-de3813a822ac"
      },
      "outputs": [
        {
          "data": {
            "text/plain": [
              "['click',\n",
              " '$$$',\n",
              " 'lifetime',\n",
              " 'rates',\n",
              " 'sales',\n",
              " 'clearance',\n",
              " 'certified',\n",
              " 'obligation',\n",
              " 'consultation',\n",
              " 'sample']"
            ]
          },
          "execution_count": 24,
          "metadata": {},
          "output_type": "execute_result"
        }
      ],
      "source": [
        "keywords[:10]\n"
      ]
    },
    {
      "cell_type": "code",
      "execution_count": 25,
      "metadata": {
        "colab": {
          "base_uri": "https://localhost:8080/",
          "height": 424
        },
        "id": "LGKkm12tfoGu",
        "outputId": "3374ae8b-d886-4281-8aa9-999329ea7269"
      },
      "outputs": [
        {
          "data": {
            "text/html": [
              "<div>\n",
              "<style scoped>\n",
              "    .dataframe tbody tr th:only-of-type {\n",
              "        vertical-align: middle;\n",
              "    }\n",
              "\n",
              "    .dataframe tbody tr th {\n",
              "        vertical-align: top;\n",
              "    }\n",
              "\n",
              "    .dataframe thead th {\n",
              "        text-align: right;\n",
              "    }\n",
              "</style>\n",
              "<table border=\"1\" class=\"dataframe\">\n",
              "  <thead>\n",
              "    <tr style=\"text-align: right;\">\n",
              "      <th></th>\n",
              "      <th>Unnamed: 0</th>\n",
              "      <th>label</th>\n",
              "      <th>text</th>\n",
              "      <th>label_num</th>\n",
              "      <th>model_without_nlp</th>\n",
              "      <th>model_rule_based</th>\n",
              "    </tr>\n",
              "  </thead>\n",
              "  <tbody>\n",
              "    <tr>\n",
              "      <th>0</th>\n",
              "      <td>605</td>\n",
              "      <td>ham</td>\n",
              "      <td>Subject: enron methanol ; meter # : 988291\\r\\n...</td>\n",
              "      <td>0</td>\n",
              "      <td>0</td>\n",
              "      <td>1</td>\n",
              "    </tr>\n",
              "    <tr>\n",
              "      <th>1</th>\n",
              "      <td>2349</td>\n",
              "      <td>ham</td>\n",
              "      <td>Subject: hpl nom for january 9 , 2001\\r\\n( see...</td>\n",
              "      <td>0</td>\n",
              "      <td>0</td>\n",
              "      <td>0</td>\n",
              "    </tr>\n",
              "    <tr>\n",
              "      <th>2</th>\n",
              "      <td>3624</td>\n",
              "      <td>ham</td>\n",
              "      <td>Subject: neon retreat\\r\\nho ho ho , we ' re ar...</td>\n",
              "      <td>0</td>\n",
              "      <td>1</td>\n",
              "      <td>1</td>\n",
              "    </tr>\n",
              "    <tr>\n",
              "      <th>3</th>\n",
              "      <td>4685</td>\n",
              "      <td>spam</td>\n",
              "      <td>Subject: photoshop , windows , office . cheap ...</td>\n",
              "      <td>1</td>\n",
              "      <td>0</td>\n",
              "      <td>1</td>\n",
              "    </tr>\n",
              "    <tr>\n",
              "      <th>4</th>\n",
              "      <td>2030</td>\n",
              "      <td>ham</td>\n",
              "      <td>Subject: re : indian springs\\r\\nthis deal is t...</td>\n",
              "      <td>0</td>\n",
              "      <td>0</td>\n",
              "      <td>1</td>\n",
              "    </tr>\n",
              "    <tr>\n",
              "      <th>...</th>\n",
              "      <td>...</td>\n",
              "      <td>...</td>\n",
              "      <td>...</td>\n",
              "      <td>...</td>\n",
              "      <td>...</td>\n",
              "      <td>...</td>\n",
              "    </tr>\n",
              "    <tr>\n",
              "      <th>5166</th>\n",
              "      <td>1518</td>\n",
              "      <td>ham</td>\n",
              "      <td>Subject: put the 10 on the ft\\r\\nthe transport...</td>\n",
              "      <td>0</td>\n",
              "      <td>0</td>\n",
              "      <td>1</td>\n",
              "    </tr>\n",
              "    <tr>\n",
              "      <th>5167</th>\n",
              "      <td>404</td>\n",
              "      <td>ham</td>\n",
              "      <td>Subject: 3 / 4 / 2000 and following noms\\r\\nhp...</td>\n",
              "      <td>0</td>\n",
              "      <td>1</td>\n",
              "      <td>1</td>\n",
              "    </tr>\n",
              "    <tr>\n",
              "      <th>5168</th>\n",
              "      <td>2933</td>\n",
              "      <td>ham</td>\n",
              "      <td>Subject: calpine daily gas nomination\\r\\n&gt;\\r\\n...</td>\n",
              "      <td>0</td>\n",
              "      <td>0</td>\n",
              "      <td>0</td>\n",
              "    </tr>\n",
              "    <tr>\n",
              "      <th>5169</th>\n",
              "      <td>1409</td>\n",
              "      <td>ham</td>\n",
              "      <td>Subject: industrial worksheets for august 2000...</td>\n",
              "      <td>0</td>\n",
              "      <td>0</td>\n",
              "      <td>1</td>\n",
              "    </tr>\n",
              "    <tr>\n",
              "      <th>5170</th>\n",
              "      <td>4807</td>\n",
              "      <td>spam</td>\n",
              "      <td>Subject: important online banking alert\\r\\ndea...</td>\n",
              "      <td>1</td>\n",
              "      <td>1</td>\n",
              "      <td>1</td>\n",
              "    </tr>\n",
              "  </tbody>\n",
              "</table>\n",
              "<p>5171 rows × 6 columns</p>\n",
              "</div>"
            ],
            "text/plain": [
              "      Unnamed: 0 label                                               text  \\\n",
              "0            605   ham  Subject: enron methanol ; meter # : 988291\\r\\n...   \n",
              "1           2349   ham  Subject: hpl nom for january 9 , 2001\\r\\n( see...   \n",
              "2           3624   ham  Subject: neon retreat\\r\\nho ho ho , we ' re ar...   \n",
              "3           4685  spam  Subject: photoshop , windows , office . cheap ...   \n",
              "4           2030   ham  Subject: re : indian springs\\r\\nthis deal is t...   \n",
              "...          ...   ...                                                ...   \n",
              "5166        1518   ham  Subject: put the 10 on the ft\\r\\nthe transport...   \n",
              "5167         404   ham  Subject: 3 / 4 / 2000 and following noms\\r\\nhp...   \n",
              "5168        2933   ham  Subject: calpine daily gas nomination\\r\\n>\\r\\n...   \n",
              "5169        1409   ham  Subject: industrial worksheets for august 2000...   \n",
              "5170        4807  spam  Subject: important online banking alert\\r\\ndea...   \n",
              "\n",
              "      label_num  model_without_nlp  model_rule_based  \n",
              "0             0                  0                 1  \n",
              "1             0                  0                 0  \n",
              "2             0                  1                 1  \n",
              "3             1                  0                 1  \n",
              "4             0                  0                 1  \n",
              "...         ...                ...               ...  \n",
              "5166          0                  0                 1  \n",
              "5167          0                  1                 1  \n",
              "5168          0                  0                 0  \n",
              "5169          0                  0                 1  \n",
              "5170          1                  1                 1  \n",
              "\n",
              "[5171 rows x 6 columns]"
            ]
          },
          "execution_count": 25,
          "metadata": {},
          "output_type": "execute_result"
        }
      ],
      "source": [
        "# logic\n",
        "def keyword_in_text(text):\n",
        "  return 1 if any(keyword in text for keyword in keywords) else 0\n",
        "  #for keyword in keywords:\n",
        "  #  if keyword in text:\n",
        "  #    return 1\n",
        "  #return 0\n",
        "\n",
        "df[\"model_rule_based\"] = df[\"text\"].apply(lambda txt: keyword_in_text(txt))\n",
        "df"
      ]
    },
    {
      "cell_type": "code",
      "execution_count": 26,
      "metadata": {
        "colab": {
          "base_uri": "https://localhost:8080/"
        },
        "id": "8v9WuEAqsBY4",
        "outputId": "cc78c4a2-84e5-4882-ead1-f4e85da266bf"
      },
      "outputs": [
        {
          "data": {
            "text/plain": [
              "(True, False)"
            ]
          },
          "execution_count": 26,
          "metadata": {},
          "output_type": "execute_result"
        }
      ],
      "source": [
        "# membership 연산자 in\n",
        "a = [1,2,3]\n",
        "1 in a, 5 in a"
      ]
    },
    {
      "cell_type": "code",
      "execution_count": 27,
      "metadata": {
        "colab": {
          "base_uri": "https://localhost:8080/"
        },
        "id": "-MiywXyFksGV",
        "outputId": "59f5dd75-5b63-4746-acf0-ca61d91a4f92"
      },
      "outputs": [
        {
          "name": "stdout",
          "output_type": "stream",
          "text": [
            "total: 5171\n",
            "tp: 1246, fp: 2722, fn: 253, tn: 950\n",
            "precision: 0.31401209677419356, recall: 0.8312208138759173, f1: 0.4558258642765685\n"
          ]
        }
      ],
      "source": [
        "# evaluation\n",
        "rule_based_predicts = df[\"model_rule_based\"].tolist()\n",
        "\n",
        "print_metrics(*confusion_matrix(real_labels, rule_based_predicts))"
      ]
    },
    {
      "cell_type": "markdown",
      "metadata": {
        "id": "Wd9Rznlq0C1b"
      },
      "source": [
        "#### c-2. Regex\n",
        "\n"
      ]
    },
    {
      "cell_type": "code",
      "execution_count": 28,
      "metadata": {
        "colab": {
          "base_uri": "https://localhost:8080/"
        },
        "id": "B5xOmNrTqKov",
        "outputId": "09399e9c-67ee-4692-f6b8-5dad923fbb2b"
      },
      "outputs": [
        {
          "data": {
            "text/plain": [
              "<re.Match object; span=(20, 30), match='worksheets'>"
            ]
          },
          "execution_count": 28,
          "metadata": {},
          "output_type": "execute_result"
        }
      ],
      "source": [
        "# example of regex\n",
        "import re\n",
        "# 대소문자 구분 : re.IGNORECASE\n",
        "a = re.search(\"work\\D+\", \"Subject: industrial worksheets\", re.IGNORECASE)\n",
        "a"
      ]
    },
    {
      "cell_type": "code",
      "execution_count": 29,
      "metadata": {
        "colab": {
          "base_uri": "https://localhost:8080/",
          "height": 424
        },
        "id": "YqhPHjtMpu8T",
        "outputId": "044315b1-8cfd-4b4b-f68d-c8c8958fbcc3"
      },
      "outputs": [
        {
          "data": {
            "text/html": [
              "<div>\n",
              "<style scoped>\n",
              "    .dataframe tbody tr th:only-of-type {\n",
              "        vertical-align: middle;\n",
              "    }\n",
              "\n",
              "    .dataframe tbody tr th {\n",
              "        vertical-align: top;\n",
              "    }\n",
              "\n",
              "    .dataframe thead th {\n",
              "        text-align: right;\n",
              "    }\n",
              "</style>\n",
              "<table border=\"1\" class=\"dataframe\">\n",
              "  <thead>\n",
              "    <tr style=\"text-align: right;\">\n",
              "      <th></th>\n",
              "      <th>Unnamed: 0</th>\n",
              "      <th>label</th>\n",
              "      <th>text</th>\n",
              "      <th>label_num</th>\n",
              "      <th>model_without_nlp</th>\n",
              "      <th>model_rule_based</th>\n",
              "      <th>model_regex</th>\n",
              "    </tr>\n",
              "  </thead>\n",
              "  <tbody>\n",
              "    <tr>\n",
              "      <th>0</th>\n",
              "      <td>605</td>\n",
              "      <td>ham</td>\n",
              "      <td>Subject: enron methanol ; meter # : 988291\\r\\n...</td>\n",
              "      <td>0</td>\n",
              "      <td>0</td>\n",
              "      <td>1</td>\n",
              "      <td>1</td>\n",
              "    </tr>\n",
              "    <tr>\n",
              "      <th>1</th>\n",
              "      <td>2349</td>\n",
              "      <td>ham</td>\n",
              "      <td>Subject: hpl nom for january 9 , 2001\\r\\n( see...</td>\n",
              "      <td>0</td>\n",
              "      <td>0</td>\n",
              "      <td>0</td>\n",
              "      <td>0</td>\n",
              "    </tr>\n",
              "    <tr>\n",
              "      <th>2</th>\n",
              "      <td>3624</td>\n",
              "      <td>ham</td>\n",
              "      <td>Subject: neon retreat\\r\\nho ho ho , we ' re ar...</td>\n",
              "      <td>0</td>\n",
              "      <td>1</td>\n",
              "      <td>1</td>\n",
              "      <td>1</td>\n",
              "    </tr>\n",
              "    <tr>\n",
              "      <th>3</th>\n",
              "      <td>4685</td>\n",
              "      <td>spam</td>\n",
              "      <td>Subject: photoshop , windows , office . cheap ...</td>\n",
              "      <td>1</td>\n",
              "      <td>0</td>\n",
              "      <td>1</td>\n",
              "      <td>1</td>\n",
              "    </tr>\n",
              "    <tr>\n",
              "      <th>4</th>\n",
              "      <td>2030</td>\n",
              "      <td>ham</td>\n",
              "      <td>Subject: re : indian springs\\r\\nthis deal is t...</td>\n",
              "      <td>0</td>\n",
              "      <td>0</td>\n",
              "      <td>1</td>\n",
              "      <td>1</td>\n",
              "    </tr>\n",
              "    <tr>\n",
              "      <th>...</th>\n",
              "      <td>...</td>\n",
              "      <td>...</td>\n",
              "      <td>...</td>\n",
              "      <td>...</td>\n",
              "      <td>...</td>\n",
              "      <td>...</td>\n",
              "      <td>...</td>\n",
              "    </tr>\n",
              "    <tr>\n",
              "      <th>5166</th>\n",
              "      <td>1518</td>\n",
              "      <td>ham</td>\n",
              "      <td>Subject: put the 10 on the ft\\r\\nthe transport...</td>\n",
              "      <td>0</td>\n",
              "      <td>0</td>\n",
              "      <td>1</td>\n",
              "      <td>1</td>\n",
              "    </tr>\n",
              "    <tr>\n",
              "      <th>5167</th>\n",
              "      <td>404</td>\n",
              "      <td>ham</td>\n",
              "      <td>Subject: 3 / 4 / 2000 and following noms\\r\\nhp...</td>\n",
              "      <td>0</td>\n",
              "      <td>1</td>\n",
              "      <td>1</td>\n",
              "      <td>1</td>\n",
              "    </tr>\n",
              "    <tr>\n",
              "      <th>5168</th>\n",
              "      <td>2933</td>\n",
              "      <td>ham</td>\n",
              "      <td>Subject: calpine daily gas nomination\\r\\n&gt;\\r\\n...</td>\n",
              "      <td>0</td>\n",
              "      <td>0</td>\n",
              "      <td>0</td>\n",
              "      <td>0</td>\n",
              "    </tr>\n",
              "    <tr>\n",
              "      <th>5169</th>\n",
              "      <td>1409</td>\n",
              "      <td>ham</td>\n",
              "      <td>Subject: industrial worksheets for august 2000...</td>\n",
              "      <td>0</td>\n",
              "      <td>0</td>\n",
              "      <td>1</td>\n",
              "      <td>1</td>\n",
              "    </tr>\n",
              "    <tr>\n",
              "      <th>5170</th>\n",
              "      <td>4807</td>\n",
              "      <td>spam</td>\n",
              "      <td>Subject: important online banking alert\\r\\ndea...</td>\n",
              "      <td>1</td>\n",
              "      <td>1</td>\n",
              "      <td>1</td>\n",
              "      <td>1</td>\n",
              "    </tr>\n",
              "  </tbody>\n",
              "</table>\n",
              "<p>5171 rows × 7 columns</p>\n",
              "</div>"
            ],
            "text/plain": [
              "      Unnamed: 0 label                                               text  \\\n",
              "0            605   ham  Subject: enron methanol ; meter # : 988291\\r\\n...   \n",
              "1           2349   ham  Subject: hpl nom for january 9 , 2001\\r\\n( see...   \n",
              "2           3624   ham  Subject: neon retreat\\r\\nho ho ho , we ' re ar...   \n",
              "3           4685  spam  Subject: photoshop , windows , office . cheap ...   \n",
              "4           2030   ham  Subject: re : indian springs\\r\\nthis deal is t...   \n",
              "...          ...   ...                                                ...   \n",
              "5166        1518   ham  Subject: put the 10 on the ft\\r\\nthe transport...   \n",
              "5167         404   ham  Subject: 3 / 4 / 2000 and following noms\\r\\nhp...   \n",
              "5168        2933   ham  Subject: calpine daily gas nomination\\r\\n>\\r\\n...   \n",
              "5169        1409   ham  Subject: industrial worksheets for august 2000...   \n",
              "5170        4807  spam  Subject: important online banking alert\\r\\ndea...   \n",
              "\n",
              "      label_num  model_without_nlp  model_rule_based  model_regex  \n",
              "0             0                  0                 1            1  \n",
              "1             0                  0                 0            0  \n",
              "2             0                  1                 1            1  \n",
              "3             1                  0                 1            1  \n",
              "4             0                  0                 1            1  \n",
              "...         ...                ...               ...          ...  \n",
              "5166          0                  0                 1            1  \n",
              "5167          0                  1                 1            1  \n",
              "5168          0                  0                 0            0  \n",
              "5169          0                  0                 1            1  \n",
              "5170          1                  1                 1            1  \n",
              "\n",
              "[5171 rows x 7 columns]"
            ]
          },
          "execution_count": 29,
          "metadata": {},
          "output_type": "execute_result"
        }
      ],
      "source": [
        "# logic\n",
        "def keyword_regex(text):\n",
        "    return 1 if any(re.search(f\"{keyword}\\D+\", text, re.IGNORECASE) for keyword in keywords) else 0\n",
        "#  for keyword in keywords:\n",
        "#    if re.search(f\"{keyword}\\D+\", text, re.IGNORECASE):\n",
        "#      return 1\n",
        "#  return 0\n",
        "\n",
        "df[\"model_regex\"] = df[\"text\"].apply(lambda txt: keyword_regex(txt))\n",
        "df"
      ]
    },
    {
      "cell_type": "code",
      "execution_count": 30,
      "metadata": {
        "colab": {
          "base_uri": "https://localhost:8080/"
        },
        "id": "9bpCZtPGq5Ad",
        "outputId": "4a761658-f89a-4188-bc03-52794df50633"
      },
      "outputs": [
        {
          "name": "stdout",
          "output_type": "stream",
          "text": [
            "total: 5171\n",
            "tp: 1352, fp: 2719, fn: 147, tn: 953\n",
            "precision: 0.3321051338737411, recall: 0.9019346230820547, f1: 0.4854578096947935\n"
          ]
        }
      ],
      "source": [
        "# evaluation\n",
        "regex_predicts = df[\"model_regex\"].tolist()\n",
        "\n",
        "print_metrics(*confusion_matrix(real_labels, regex_predicts))"
      ]
    },
    {
      "cell_type": "markdown",
      "metadata": {
        "id": "MM52iV-cKhfz"
      },
      "source": [
        "#### c-3. Edit Distance"
      ]
    },
    {
      "cell_type": "code",
      "execution_count": 31,
      "metadata": {
        "id": "LGiak9f6j-j4"
      },
      "outputs": [],
      "source": [
        "# implementation of edit distance\n",
        "# sentance간 distance 측정\n",
        "def edit_distance(str1, str2, m, n):\n",
        "    # Reference: https://www.geeksforgeeks.org/edit-distance-dp-5/\n",
        "    # If first string is empty, the only option is to\n",
        "    # insert all characters of second string into first\n",
        "    if m == 0:\n",
        "        return n\n",
        "\n",
        "    # If second string is empty, the only option is to\n",
        "    # remove all characters of first string\n",
        "    if n == 0:\n",
        "        return m\n",
        "\n",
        "    # If last characters of two strings are same, nothing\n",
        "    # much to do. Ignore last characters and get count for\n",
        "    # remaining strings.\n",
        "    if str1[m-1] == str2[n-1]:\n",
        "        return edit_distance(str1, str2, m-1, n-1)\n",
        "\n",
        "    # If last characters are not same, consider all three\n",
        "    # operations on last character of first string, recursively\n",
        "    # compute minimum cost for all three operations and take\n",
        "    # minimum of three values.\n",
        "    return 1 + min(\n",
        "        edit_distance(str1, str2, m, n-1),    # Insert\n",
        "        edit_distance(str1, str2, m-1, n),    # Remove\n",
        "        edit_distance(str1, str2, m-1, n-1)    # Replace\n",
        "    )"
      ]
    },
    {
      "cell_type": "code",
      "execution_count": 32,
      "metadata": {
        "colab": {
          "base_uri": "https://localhost:8080/"
        },
        "id": "5aII9TYzkOYH",
        "outputId": "e8e95ad9-84eb-4ca9-87ca-f3158e6353f2"
      },
      "outputs": [
        {
          "name": "stdout",
          "output_type": "stream",
          "text": [
            "3\n"
          ]
        }
      ],
      "source": [
        "# edit distance example\n",
        "str1 = \"GEEXSFRGEEKKS\"\n",
        "#          P  I   R\n",
        "str2 = \"GEEKSFORGEEKS\"\n",
        "print(edit_distance(str1, str2, len(str1), len(str2)))\n",
        "# 3부분의 차이가 발생"
      ]
    },
    {
      "cell_type": "markdown",
      "metadata": {
        "id": "n5wEVS1Uk_x-"
      },
      "source": [
        "##### Logic for Edit Distance based Filter\n",
        "1. Split the email into list of words\n",
        "2. Measure edit distance between each word in email and each keyword.\n",
        "3. Classify the email with similarity higher than threshold as spam."
      ]
    },
    {
      "cell_type": "code",
      "execution_count": 33,
      "metadata": {
        "colab": {
          "base_uri": "https://localhost:8080/"
        },
        "id": "jTXI6ojPtAdB",
        "outputId": "af29b9bc-2b2b-49eb-c193-274e56c9ca90"
      },
      "outputs": [
        {
          "name": "stdout",
          "output_type": "stream",
          "text": [
            "<map object at 0x73d6e073a260>\n",
            "4 9 12\n"
          ]
        }
      ],
      "source": [
        "# map -> func를 받아 iterator 처리\n",
        "print(map(lambda x, y: x+y, [1,2,3], [3,7,9])) # iterator\n",
        "print(*map(lambda x, y: x+y, [1,2,3], [3,7,9])) # unpack"
      ]
    },
    {
      "cell_type": "code",
      "execution_count": 34,
      "metadata": {
        "colab": {
          "base_uri": "https://localhost:8080/"
        },
        "id": "8jkU7b2muD9Z",
        "outputId": "c36af56b-21ee-41ad-c0c1-5a224700d3b2"
      },
      "outputs": [
        {
          "data": {
            "text/plain": [
              "['Subject:',\n",
              " 'hpl',\n",
              " 'nom',\n",
              " 'for',\n",
              " 'january',\n",
              " '9',\n",
              " ',',\n",
              " '2001',\n",
              " '(',\n",
              " 'see',\n",
              " 'attached',\n",
              " 'file',\n",
              " ':',\n",
              " 'hplnol',\n",
              " '09',\n",
              " '.',\n",
              " 'xls',\n",
              " ')',\n",
              " '-',\n",
              " 'hplnol',\n",
              " '09',\n",
              " '.',\n",
              " 'xls']"
            ]
          },
          "execution_count": 34,
          "metadata": {},
          "output_type": "execute_result"
        }
      ],
      "source": [
        "df.loc[1, \"text\"].split()"
      ]
    },
    {
      "cell_type": "code",
      "execution_count": 35,
      "metadata": {
        "colab": {
          "base_uri": "https://localhost:8080/",
          "height": 424
        },
        "id": "5k19d1mBlu-Z",
        "outputId": "11652bc3-fb72-48bd-e280-cbd43d6bf5a0"
      },
      "outputs": [
        {
          "data": {
            "text/html": [
              "<div>\n",
              "<style scoped>\n",
              "    .dataframe tbody tr th:only-of-type {\n",
              "        vertical-align: middle;\n",
              "    }\n",
              "\n",
              "    .dataframe tbody tr th {\n",
              "        vertical-align: top;\n",
              "    }\n",
              "\n",
              "    .dataframe thead th {\n",
              "        text-align: right;\n",
              "    }\n",
              "</style>\n",
              "<table border=\"1\" class=\"dataframe\">\n",
              "  <thead>\n",
              "    <tr style=\"text-align: right;\">\n",
              "      <th></th>\n",
              "      <th>Unnamed: 0</th>\n",
              "      <th>label</th>\n",
              "      <th>text</th>\n",
              "      <th>label_num</th>\n",
              "      <th>model_without_nlp</th>\n",
              "      <th>model_rule_based</th>\n",
              "      <th>model_regex</th>\n",
              "      <th>words</th>\n",
              "    </tr>\n",
              "  </thead>\n",
              "  <tbody>\n",
              "    <tr>\n",
              "      <th>0</th>\n",
              "      <td>605</td>\n",
              "      <td>ham</td>\n",
              "      <td>Subject: enron methanol ; meter # : 988291\\r\\n...</td>\n",
              "      <td>0</td>\n",
              "      <td>0</td>\n",
              "      <td>1</td>\n",
              "      <td>1</td>\n",
              "      <td>[subject:, enron, methanol, ;, meter, #, :, 98...</td>\n",
              "    </tr>\n",
              "    <tr>\n",
              "      <th>1</th>\n",
              "      <td>2349</td>\n",
              "      <td>ham</td>\n",
              "      <td>Subject: hpl nom for january 9 , 2001\\r\\n( see...</td>\n",
              "      <td>0</td>\n",
              "      <td>0</td>\n",
              "      <td>0</td>\n",
              "      <td>0</td>\n",
              "      <td>[subject:, hpl, nom, for, january, 9, ,, 2001,...</td>\n",
              "    </tr>\n",
              "    <tr>\n",
              "      <th>2</th>\n",
              "      <td>3624</td>\n",
              "      <td>ham</td>\n",
              "      <td>Subject: neon retreat\\r\\nho ho ho , we ' re ar...</td>\n",
              "      <td>0</td>\n",
              "      <td>1</td>\n",
              "      <td>1</td>\n",
              "      <td>1</td>\n",
              "      <td>[subject:, neon, retreat, ho, ho, ho, ,, we, '...</td>\n",
              "    </tr>\n",
              "    <tr>\n",
              "      <th>3</th>\n",
              "      <td>4685</td>\n",
              "      <td>spam</td>\n",
              "      <td>Subject: photoshop , windows , office . cheap ...</td>\n",
              "      <td>1</td>\n",
              "      <td>0</td>\n",
              "      <td>1</td>\n",
              "      <td>1</td>\n",
              "      <td>[subject:, photoshop, ,, windows, ,, office, ....</td>\n",
              "    </tr>\n",
              "    <tr>\n",
              "      <th>4</th>\n",
              "      <td>2030</td>\n",
              "      <td>ham</td>\n",
              "      <td>Subject: re : indian springs\\r\\nthis deal is t...</td>\n",
              "      <td>0</td>\n",
              "      <td>0</td>\n",
              "      <td>1</td>\n",
              "      <td>1</td>\n",
              "      <td>[subject:, re, :, indian, springs, this, deal,...</td>\n",
              "    </tr>\n",
              "    <tr>\n",
              "      <th>...</th>\n",
              "      <td>...</td>\n",
              "      <td>...</td>\n",
              "      <td>...</td>\n",
              "      <td>...</td>\n",
              "      <td>...</td>\n",
              "      <td>...</td>\n",
              "      <td>...</td>\n",
              "      <td>...</td>\n",
              "    </tr>\n",
              "    <tr>\n",
              "      <th>5166</th>\n",
              "      <td>1518</td>\n",
              "      <td>ham</td>\n",
              "      <td>Subject: put the 10 on the ft\\r\\nthe transport...</td>\n",
              "      <td>0</td>\n",
              "      <td>0</td>\n",
              "      <td>1</td>\n",
              "      <td>1</td>\n",
              "      <td>[subject:, put, the, 10, on, the, ft, the, tra...</td>\n",
              "    </tr>\n",
              "    <tr>\n",
              "      <th>5167</th>\n",
              "      <td>404</td>\n",
              "      <td>ham</td>\n",
              "      <td>Subject: 3 / 4 / 2000 and following noms\\r\\nhp...</td>\n",
              "      <td>0</td>\n",
              "      <td>1</td>\n",
              "      <td>1</td>\n",
              "      <td>1</td>\n",
              "      <td>[subject:, 3, /, 4, /, 2000, and, following, n...</td>\n",
              "    </tr>\n",
              "    <tr>\n",
              "      <th>5168</th>\n",
              "      <td>2933</td>\n",
              "      <td>ham</td>\n",
              "      <td>Subject: calpine daily gas nomination\\r\\n&gt;\\r\\n...</td>\n",
              "      <td>0</td>\n",
              "      <td>0</td>\n",
              "      <td>0</td>\n",
              "      <td>0</td>\n",
              "      <td>[subject:, calpine, daily, gas, nomination, &gt;,...</td>\n",
              "    </tr>\n",
              "    <tr>\n",
              "      <th>5169</th>\n",
              "      <td>1409</td>\n",
              "      <td>ham</td>\n",
              "      <td>Subject: industrial worksheets for august 2000...</td>\n",
              "      <td>0</td>\n",
              "      <td>0</td>\n",
              "      <td>1</td>\n",
              "      <td>1</td>\n",
              "      <td>[subject:, industrial, worksheets, for, august...</td>\n",
              "    </tr>\n",
              "    <tr>\n",
              "      <th>5170</th>\n",
              "      <td>4807</td>\n",
              "      <td>spam</td>\n",
              "      <td>Subject: important online banking alert\\r\\ndea...</td>\n",
              "      <td>1</td>\n",
              "      <td>1</td>\n",
              "      <td>1</td>\n",
              "      <td>1</td>\n",
              "      <td>[subject:, important, online, banking, alert, ...</td>\n",
              "    </tr>\n",
              "  </tbody>\n",
              "</table>\n",
              "<p>5171 rows × 8 columns</p>\n",
              "</div>"
            ],
            "text/plain": [
              "      Unnamed: 0 label                                               text  \\\n",
              "0            605   ham  Subject: enron methanol ; meter # : 988291\\r\\n...   \n",
              "1           2349   ham  Subject: hpl nom for january 9 , 2001\\r\\n( see...   \n",
              "2           3624   ham  Subject: neon retreat\\r\\nho ho ho , we ' re ar...   \n",
              "3           4685  spam  Subject: photoshop , windows , office . cheap ...   \n",
              "4           2030   ham  Subject: re : indian springs\\r\\nthis deal is t...   \n",
              "...          ...   ...                                                ...   \n",
              "5166        1518   ham  Subject: put the 10 on the ft\\r\\nthe transport...   \n",
              "5167         404   ham  Subject: 3 / 4 / 2000 and following noms\\r\\nhp...   \n",
              "5168        2933   ham  Subject: calpine daily gas nomination\\r\\n>\\r\\n...   \n",
              "5169        1409   ham  Subject: industrial worksheets for august 2000...   \n",
              "5170        4807  spam  Subject: important online banking alert\\r\\ndea...   \n",
              "\n",
              "      label_num  model_without_nlp  model_rule_based  model_regex  \\\n",
              "0             0                  0                 1            1   \n",
              "1             0                  0                 0            0   \n",
              "2             0                  1                 1            1   \n",
              "3             1                  0                 1            1   \n",
              "4             0                  0                 1            1   \n",
              "...         ...                ...               ...          ...   \n",
              "5166          0                  0                 1            1   \n",
              "5167          0                  1                 1            1   \n",
              "5168          0                  0                 0            0   \n",
              "5169          0                  0                 1            1   \n",
              "5170          1                  1                 1            1   \n",
              "\n",
              "                                                  words  \n",
              "0     [subject:, enron, methanol, ;, meter, #, :, 98...  \n",
              "1     [subject:, hpl, nom, for, january, 9, ,, 2001,...  \n",
              "2     [subject:, neon, retreat, ho, ho, ho, ,, we, '...  \n",
              "3     [subject:, photoshop, ,, windows, ,, office, ....  \n",
              "4     [subject:, re, :, indian, springs, this, deal,...  \n",
              "...                                                 ...  \n",
              "5166  [subject:, put, the, 10, on, the, ft, the, tra...  \n",
              "5167  [subject:, 3, /, 4, /, 2000, and, following, n...  \n",
              "5168  [subject:, calpine, daily, gas, nomination, >,...  \n",
              "5169  [subject:, industrial, worksheets, for, august...  \n",
              "5170  [subject:, important, online, banking, alert, ...  \n",
              "\n",
              "[5171 rows x 8 columns]"
            ]
          },
          "execution_count": 35,
          "metadata": {},
          "output_type": "execute_result"
        }
      ],
      "source": [
        "# 각열의 text를 받아 split 후 lower\n",
        "df[\"words\"] = df[\"text\"].apply(lambda txt: list(map(lambda w: w.lower(), txt.split())))\n",
        "df"
      ]
    },
    {
      "cell_type": "markdown",
      "metadata": {
        "id": "IIoCT2yrZj45"
      },
      "source": [
        "#### Stopword Removal"
      ]
    },
    {
      "cell_type": "code",
      "execution_count": 36,
      "metadata": {
        "colab": {
          "base_uri": "https://localhost:8080/"
        },
        "id": "4L60NyukZn18",
        "outputId": "f4ff9545-0c04-4203-aba3-1d5a4db42029"
      },
      "outputs": [
        {
          "name": "stdout",
          "output_type": "stream",
          "text": [
            "179\n",
            "['will', 'as', 'of', 'doesn', 'there', 'why', 'd', \"aren't\", 'our', 'so']\n",
            "[':', '/', '?', '!', '{', '(', '>', '*', '+', '-']\n"
          ]
        }
      ],
      "source": [
        "from nltk.corpus import stopwords\n",
        "STOPWORDS = set(stopwords.words(\"english\"))\n",
        "# 영어에서 큰 의미가 없는 word집합\n",
        "\n",
        "from string import punctuation\n",
        "PUNCTUATIONS = set(punctuation)\n",
        "# 특수기호\n",
        "\n",
        "print(len(STOPWORDS))\n",
        "print(list(STOPWORDS)[:10])\n",
        "print(list(PUNCTUATIONS)[:10])"
      ]
    },
    {
      "cell_type": "code",
      "execution_count": 37,
      "metadata": {
        "colab": {
          "base_uri": "https://localhost:8080/",
          "height": 36
        },
        "id": "AHU7J6aD2mE7",
        "outputId": "581443c5-a20e-4a34-db54-ad0c1eab918f"
      },
      "outputs": [
        {
          "data": {
            "text/plain": [
              "'  hello,    world!.  fff'"
            ]
          },
          "execution_count": 37,
          "metadata": {},
          "output_type": "execute_result"
        }
      ],
      "source": [
        "\"  hello,    world!.  fff.\".strip(\"\".join([\"!\", \".\", \",\"]))"
      ]
    },
    {
      "cell_type": "code",
      "execution_count": 38,
      "metadata": {
        "colab": {
          "base_uri": "https://localhost:8080/",
          "height": 36
        },
        "id": "4caprnRJ3EvO",
        "outputId": "99c96985-9613-4ca7-859f-2c10a30a4f25"
      },
      "outputs": [
        {
          "data": {
            "text/plain": [
              "'!.,'"
            ]
          },
          "execution_count": 38,
          "metadata": {},
          "output_type": "execute_result"
        }
      ],
      "source": [
        "\"\".join([\"!\", \".\", \",\"])"
      ]
    },
    {
      "cell_type": "code",
      "execution_count": 39,
      "metadata": {
        "colab": {
          "base_uri": "https://localhost:8080/"
        },
        "id": "hzwMVowY8PkH",
        "outputId": "3a353ad6-9dff-4622-8fde-b3c6eb36a202"
      },
      "outputs": [
        {
          "name": "stdout",
          "output_type": "stream",
          "text": [
            "['Hello', ',', 'world', 'This', 'is', 'an', 'example']\n"
          ]
        }
      ],
      "source": [
        "tokens = ['Hello', ',', 'world', '!', 'This', 'is', 'an', 'example', '.']\n",
        "PUNCTUATIONS = {'He', '.', '!', '?'}\n",
        "\n",
        "# PUNCTUATIONS에 포함된 문장 부호를 제거\n",
        "tokens = [t for t in tokens if t not in PUNCTUATIONS]\n",
        "\n",
        "print(tokens)  # ['Hello', 'world', 'This', 'is', 'an', 'example']"
      ]
    },
    {
      "cell_type": "code",
      "execution_count": 40,
      "metadata": {
        "colab": {
          "base_uri": "https://localhost:8080/"
        },
        "id": "pn1VjtNy8ctV",
        "outputId": "a4f266c5-6b9d-4758-e35e-d2b44903cfe3"
      },
      "outputs": [
        {
          "data": {
            "text/plain": [
              "False"
            ]
          },
          "execution_count": 40,
          "metadata": {},
          "output_type": "execute_result"
        }
      ],
      "source": [
        "\"b\" not in \"abcd\""
      ]
    },
    {
      "cell_type": "code",
      "execution_count": 41,
      "metadata": {
        "id": "_1u9S0hrqDFh"
      },
      "outputs": [],
      "source": [
        "# logic\n",
        "# 불용문자 제거\n",
        "def regularize_tokens(tokens: List[str]):\n",
        "    tokens = [t.strip() for t in tokens] # 문자열의 시작과 끝에서 공백 제거\n",
        "    tokens = [t.strip(\"\".join(PUNCTUATIONS)) for t in tokens] # 문자열의 시작과 끝에서 \"\".join(PUNCTUATIONS)에 해당하는 공백제거\n",
        "    tokens = [t for t in tokens if len(t) > 1] # 문자열 길이가 2 이상인 문자만 저장\n",
        "    tokens = [t for t in tokens if t not in STOPWORDS] # STOPWORDS가 아닌 경우만 저장\n",
        "    tokens = [t for t in tokens if t not in PUNCTUATIONS] # PUNCTUATIONS가 아닌 경우만 저장\n",
        "    tokens = [t for t in tokens if not re.match(r\"^\\d+?\\.\\d+?$\", t)]  # e.g., 1.23 숫자 제거\n",
        "    tokens = [t for t in tokens if not re.match(r\"^\\d+?\\,\\d+?$\", t)]  # e.g., 1,234 숫자제거\n",
        "    tokens = [t for t in tokens if not t.isnumeric()]  # e.g., 123 숫자제거\n",
        "    return tokens"
      ]
    },
    {
      "cell_type": "code",
      "execution_count": 42,
      "metadata": {
        "colab": {
          "base_uri": "https://localhost:8080/",
          "height": 424
        },
        "id": "NhTbj0KvqgXw",
        "outputId": "d5017183-be63-4bf2-fdf7-f9235f77579e"
      },
      "outputs": [
        {
          "data": {
            "text/html": [
              "<div>\n",
              "<style scoped>\n",
              "    .dataframe tbody tr th:only-of-type {\n",
              "        vertical-align: middle;\n",
              "    }\n",
              "\n",
              "    .dataframe tbody tr th {\n",
              "        vertical-align: top;\n",
              "    }\n",
              "\n",
              "    .dataframe thead th {\n",
              "        text-align: right;\n",
              "    }\n",
              "</style>\n",
              "<table border=\"1\" class=\"dataframe\">\n",
              "  <thead>\n",
              "    <tr style=\"text-align: right;\">\n",
              "      <th></th>\n",
              "      <th>Unnamed: 0</th>\n",
              "      <th>label</th>\n",
              "      <th>text</th>\n",
              "      <th>label_num</th>\n",
              "      <th>model_without_nlp</th>\n",
              "      <th>model_rule_based</th>\n",
              "      <th>model_regex</th>\n",
              "      <th>words</th>\n",
              "    </tr>\n",
              "  </thead>\n",
              "  <tbody>\n",
              "    <tr>\n",
              "      <th>0</th>\n",
              "      <td>605</td>\n",
              "      <td>ham</td>\n",
              "      <td>Subject: enron methanol ; meter # : 988291\\r\\n...</td>\n",
              "      <td>0</td>\n",
              "      <td>0</td>\n",
              "      <td>1</td>\n",
              "      <td>1</td>\n",
              "      <td>[subject:, nron, methanol, meter, follow, th, ...</td>\n",
              "    </tr>\n",
              "    <tr>\n",
              "      <th>1</th>\n",
              "      <td>2349</td>\n",
              "      <td>ham</td>\n",
              "      <td>Subject: hpl nom for january 9 , 2001\\r\\n( see...</td>\n",
              "      <td>0</td>\n",
              "      <td>0</td>\n",
              "      <td>0</td>\n",
              "      <td>0</td>\n",
              "      <td>[subject:, hpl, nom, january, attached, fil, h...</td>\n",
              "    </tr>\n",
              "    <tr>\n",
              "      <th>2</th>\n",
              "      <td>3624</td>\n",
              "      <td>ham</td>\n",
              "      <td>Subject: neon retreat\\r\\nho ho ho , we ' re ar...</td>\n",
              "      <td>0</td>\n",
              "      <td>1</td>\n",
              "      <td>1</td>\n",
              "      <td>1</td>\n",
              "      <td>[subject:, neon, retreat, ho, ho, ho, around, ...</td>\n",
              "    </tr>\n",
              "    <tr>\n",
              "      <th>3</th>\n",
              "      <td>4685</td>\n",
              "      <td>spam</td>\n",
              "      <td>Subject: photoshop , windows , office . cheap ...</td>\n",
              "      <td>1</td>\n",
              "      <td>0</td>\n",
              "      <td>1</td>\n",
              "      <td>1</td>\n",
              "      <td>[subject:, photoshop, windows, offic, cheap, m...</td>\n",
              "    </tr>\n",
              "    <tr>\n",
              "      <th>4</th>\n",
              "      <td>2030</td>\n",
              "      <td>ham</td>\n",
              "      <td>Subject: re : indian springs\\r\\nthis deal is t...</td>\n",
              "      <td>0</td>\n",
              "      <td>0</td>\n",
              "      <td>1</td>\n",
              "      <td>1</td>\n",
              "      <td>[subject:, indian, springs, deal, book, th, te...</td>\n",
              "    </tr>\n",
              "    <tr>\n",
              "      <th>...</th>\n",
              "      <td>...</td>\n",
              "      <td>...</td>\n",
              "      <td>...</td>\n",
              "      <td>...</td>\n",
              "      <td>...</td>\n",
              "      <td>...</td>\n",
              "      <td>...</td>\n",
              "      <td>...</td>\n",
              "    </tr>\n",
              "    <tr>\n",
              "      <th>5166</th>\n",
              "      <td>1518</td>\n",
              "      <td>ham</td>\n",
              "      <td>Subject: put the 10 on the ft\\r\\nthe transport...</td>\n",
              "      <td>0</td>\n",
              "      <td>0</td>\n",
              "      <td>1</td>\n",
              "      <td>1</td>\n",
              "      <td>[subject:, put, th, th, ft, th, transport, vol...</td>\n",
              "    </tr>\n",
              "    <tr>\n",
              "      <th>5167</th>\n",
              "      <td>404</td>\n",
              "      <td>ham</td>\n",
              "      <td>Subject: 3 / 4 / 2000 and following noms\\r\\nhp...</td>\n",
              "      <td>0</td>\n",
              "      <td>1</td>\n",
              "      <td>1</td>\n",
              "      <td>1</td>\n",
              "      <td>[subject:, following, noms, hpl, tak, th, xtra...</td>\n",
              "    </tr>\n",
              "    <tr>\n",
              "      <th>5168</th>\n",
              "      <td>2933</td>\n",
              "      <td>ham</td>\n",
              "      <td>Subject: calpine daily gas nomination\\r\\n&gt;\\r\\n...</td>\n",
              "      <td>0</td>\n",
              "      <td>0</td>\n",
              "      <td>0</td>\n",
              "      <td>0</td>\n",
              "      <td>[subject:, calpin, daily, gas, nomination, jul...</td>\n",
              "    </tr>\n",
              "    <tr>\n",
              "      <th>5169</th>\n",
              "      <td>1409</td>\n",
              "      <td>ham</td>\n",
              "      <td>Subject: industrial worksheets for august 2000...</td>\n",
              "      <td>0</td>\n",
              "      <td>0</td>\n",
              "      <td>1</td>\n",
              "      <td>1</td>\n",
              "      <td>[subject:, industrial, worksheets, august, act...</td>\n",
              "    </tr>\n",
              "    <tr>\n",
              "      <th>5170</th>\n",
              "      <td>4807</td>\n",
              "      <td>spam</td>\n",
              "      <td>Subject: important online banking alert\\r\\ndea...</td>\n",
              "      <td>1</td>\n",
              "      <td>1</td>\n",
              "      <td>1</td>\n",
              "      <td>1</td>\n",
              "      <td>[subject:, important, onlin, banking, alert, d...</td>\n",
              "    </tr>\n",
              "  </tbody>\n",
              "</table>\n",
              "<p>5171 rows × 8 columns</p>\n",
              "</div>"
            ],
            "text/plain": [
              "      Unnamed: 0 label                                               text  \\\n",
              "0            605   ham  Subject: enron methanol ; meter # : 988291\\r\\n...   \n",
              "1           2349   ham  Subject: hpl nom for january 9 , 2001\\r\\n( see...   \n",
              "2           3624   ham  Subject: neon retreat\\r\\nho ho ho , we ' re ar...   \n",
              "3           4685  spam  Subject: photoshop , windows , office . cheap ...   \n",
              "4           2030   ham  Subject: re : indian springs\\r\\nthis deal is t...   \n",
              "...          ...   ...                                                ...   \n",
              "5166        1518   ham  Subject: put the 10 on the ft\\r\\nthe transport...   \n",
              "5167         404   ham  Subject: 3 / 4 / 2000 and following noms\\r\\nhp...   \n",
              "5168        2933   ham  Subject: calpine daily gas nomination\\r\\n>\\r\\n...   \n",
              "5169        1409   ham  Subject: industrial worksheets for august 2000...   \n",
              "5170        4807  spam  Subject: important online banking alert\\r\\ndea...   \n",
              "\n",
              "      label_num  model_without_nlp  model_rule_based  model_regex  \\\n",
              "0             0                  0                 1            1   \n",
              "1             0                  0                 0            0   \n",
              "2             0                  1                 1            1   \n",
              "3             1                  0                 1            1   \n",
              "4             0                  0                 1            1   \n",
              "...         ...                ...               ...          ...   \n",
              "5166          0                  0                 1            1   \n",
              "5167          0                  1                 1            1   \n",
              "5168          0                  0                 0            0   \n",
              "5169          0                  0                 1            1   \n",
              "5170          1                  1                 1            1   \n",
              "\n",
              "                                                  words  \n",
              "0     [subject:, nron, methanol, meter, follow, th, ...  \n",
              "1     [subject:, hpl, nom, january, attached, fil, h...  \n",
              "2     [subject:, neon, retreat, ho, ho, ho, around, ...  \n",
              "3     [subject:, photoshop, windows, offic, cheap, m...  \n",
              "4     [subject:, indian, springs, deal, book, th, te...  \n",
              "...                                                 ...  \n",
              "5166  [subject:, put, th, th, ft, th, transport, vol...  \n",
              "5167  [subject:, following, noms, hpl, tak, th, xtra...  \n",
              "5168  [subject:, calpin, daily, gas, nomination, jul...  \n",
              "5169  [subject:, industrial, worksheets, august, act...  \n",
              "5170  [subject:, important, onlin, banking, alert, d...  \n",
              "\n",
              "[5171 rows x 8 columns]"
            ]
          },
          "execution_count": 42,
          "metadata": {},
          "output_type": "execute_result"
        }
      ],
      "source": [
        "# logic\n",
        "df[\"words\"] = df[\"words\"].apply(lambda ws: regularize_tokens(ws)) #불용어 제거\n",
        "df"
      ]
    },
    {
      "cell_type": "code",
      "execution_count": 43,
      "metadata": {
        "colab": {
          "base_uri": "https://localhost:8080/"
        },
        "id": "YNjjVfHpYUEt",
        "outputId": "bfd49e54-a7fc-4807-ebaa-7f12f1b4bf6f"
      },
      "outputs": [
        {
          "data": {
            "text/plain": [
              "3"
            ]
          },
          "execution_count": 43,
          "metadata": {},
          "output_type": "execute_result"
        }
      ],
      "source": [
        "from fast_edit_distance import edit_distance as f_edit_distance # 단어간 distance를 계산하는 module\n",
        "f_edit_distance(\"hello\", \"hsseello\")"
      ]
    },
    {
      "cell_type": "code",
      "execution_count": 44,
      "metadata": {
        "colab": {
          "base_uri": "https://localhost:8080/"
        },
        "id": "n1VTH_ib_GK1",
        "outputId": "14f161ee-9e0d-4adc-82d6-273b4e0ea587"
      },
      "outputs": [
        {
          "name": "stderr",
          "output_type": "stream",
          "text": [
            "huggingface/tokenizers: The current process just got forked, after parallelism has already been used. Disabling parallelism to avoid deadlocks...\n",
            "To disable this warning, you can either:\n",
            "\t- Avoid using `tokenizers` before the fork if possible\n",
            "\t- Explicitly set the environment variable TOKENIZERS_PARALLELISM=(true | false)\n"
          ]
        },
        {
          "name": "stdout",
          "output_type": "stream",
          "text": [
            "Requirement already satisfied: ipdb in /home/devrok/.conda/envs/nlp_pt/lib/python3.10/site-packages (0.13.13)\n",
            "Requirement already satisfied: ipython>=7.31.1 in /home/devrok/.conda/envs/nlp_pt/lib/python3.10/site-packages (from ipdb) (8.26.0)\n",
            "Requirement already satisfied: tomli in /home/devrok/.conda/envs/nlp_pt/lib/python3.10/site-packages (from ipdb) (2.0.1)\n",
            "Requirement already satisfied: decorator in /home/devrok/.conda/envs/nlp_pt/lib/python3.10/site-packages (from ipdb) (5.1.1)\n",
            "Requirement already satisfied: jedi>=0.16 in /home/devrok/.conda/envs/nlp_pt/lib/python3.10/site-packages (from ipython>=7.31.1->ipdb) (0.19.1)\n",
            "Requirement already satisfied: matplotlib-inline in /home/devrok/.conda/envs/nlp_pt/lib/python3.10/site-packages (from ipython>=7.31.1->ipdb) (0.1.7)\n",
            "Requirement already satisfied: prompt-toolkit<3.1.0,>=3.0.41 in /home/devrok/.conda/envs/nlp_pt/lib/python3.10/site-packages (from ipython>=7.31.1->ipdb) (3.0.47)\n",
            "Requirement already satisfied: pygments>=2.4.0 in /home/devrok/.conda/envs/nlp_pt/lib/python3.10/site-packages (from ipython>=7.31.1->ipdb) (2.18.0)\n",
            "Requirement already satisfied: stack-data in /home/devrok/.conda/envs/nlp_pt/lib/python3.10/site-packages (from ipython>=7.31.1->ipdb) (0.6.2)\n",
            "Requirement already satisfied: traitlets>=5.13.0 in /home/devrok/.conda/envs/nlp_pt/lib/python3.10/site-packages (from ipython>=7.31.1->ipdb) (5.14.3)\n",
            "Requirement already satisfied: exceptiongroup in /home/devrok/.conda/envs/nlp_pt/lib/python3.10/site-packages (from ipython>=7.31.1->ipdb) (1.2.2)\n",
            "Requirement already satisfied: typing-extensions>=4.6 in /home/devrok/.conda/envs/nlp_pt/lib/python3.10/site-packages (from ipython>=7.31.1->ipdb) (4.12.2)\n",
            "Requirement already satisfied: pexpect>4.3 in /home/devrok/.conda/envs/nlp_pt/lib/python3.10/site-packages (from ipython>=7.31.1->ipdb) (4.9.0)\n",
            "Requirement already satisfied: parso<0.9.0,>=0.8.3 in /home/devrok/.conda/envs/nlp_pt/lib/python3.10/site-packages (from jedi>=0.16->ipython>=7.31.1->ipdb) (0.8.4)\n",
            "Requirement already satisfied: ptyprocess>=0.5 in /home/devrok/.conda/envs/nlp_pt/lib/python3.10/site-packages (from pexpect>4.3->ipython>=7.31.1->ipdb) (0.7.0)\n",
            "Requirement already satisfied: wcwidth in /home/devrok/.conda/envs/nlp_pt/lib/python3.10/site-packages (from prompt-toolkit<3.1.0,>=3.0.41->ipython>=7.31.1->ipdb) (0.2.13)\n",
            "Requirement already satisfied: executing>=1.2.0 in /home/devrok/.conda/envs/nlp_pt/lib/python3.10/site-packages (from stack-data->ipython>=7.31.1->ipdb) (2.0.1)\n",
            "Requirement already satisfied: asttokens>=2.1.0 in /home/devrok/.conda/envs/nlp_pt/lib/python3.10/site-packages (from stack-data->ipython>=7.31.1->ipdb) (2.4.1)\n",
            "Requirement already satisfied: pure-eval in /home/devrok/.conda/envs/nlp_pt/lib/python3.10/site-packages (from stack-data->ipython>=7.31.1->ipdb) (0.2.3)\n",
            "Requirement already satisfied: six>=1.12.0 in /home/devrok/.conda/envs/nlp_pt/lib/python3.10/site-packages (from asttokens>=2.1.0->stack-data->ipython>=7.31.1->ipdb) (1.16.0)\n"
          ]
        }
      ],
      "source": [
        "!pip install ipdb"
      ]
    },
    {
      "cell_type": "code",
      "execution_count": 45,
      "metadata": {
        "colab": {
          "base_uri": "https://localhost:8080/"
        },
        "id": "7geByCCa_yTU",
        "outputId": "c7f1d40d-c516-4db0-c2dd-19ec6260ec46"
      },
      "outputs": [
        {
          "data": {
            "text/plain": [
              "7"
            ]
          },
          "execution_count": 45,
          "metadata": {},
          "output_type": "execute_result"
        }
      ],
      "source": [
        "#chance\n",
        "#subject:\n",
        "f_edit_distance(\"chance\", \"subject:\")"
      ]
    },
    {
      "cell_type": "code",
      "execution_count": 46,
      "metadata": {
        "colab": {
          "base_uri": "https://localhost:8080/",
          "height": 442
        },
        "collapsed": true,
        "id": "ZMVl3PfEkpKV",
        "outputId": "804d5b73-058e-4563-8a2e-d37716b54f01"
      },
      "outputs": [
        {
          "name": "stderr",
          "output_type": "stream",
          "text": [
            "Measuring edit distance: 100%|██████████| 5171/5171 [00:17<00:00, 293.44it/s]\n"
          ]
        },
        {
          "data": {
            "text/html": [
              "<div>\n",
              "<style scoped>\n",
              "    .dataframe tbody tr th:only-of-type {\n",
              "        vertical-align: middle;\n",
              "    }\n",
              "\n",
              "    .dataframe tbody tr th {\n",
              "        vertical-align: top;\n",
              "    }\n",
              "\n",
              "    .dataframe thead th {\n",
              "        text-align: right;\n",
              "    }\n",
              "</style>\n",
              "<table border=\"1\" class=\"dataframe\">\n",
              "  <thead>\n",
              "    <tr style=\"text-align: right;\">\n",
              "      <th></th>\n",
              "      <th>Unnamed: 0</th>\n",
              "      <th>label</th>\n",
              "      <th>text</th>\n",
              "      <th>label_num</th>\n",
              "      <th>model_without_nlp</th>\n",
              "      <th>model_rule_based</th>\n",
              "      <th>model_regex</th>\n",
              "      <th>words</th>\n",
              "      <th>edit_distance</th>\n",
              "    </tr>\n",
              "  </thead>\n",
              "  <tbody>\n",
              "    <tr>\n",
              "      <th>0</th>\n",
              "      <td>605</td>\n",
              "      <td>ham</td>\n",
              "      <td>Subject: enron methanol ; meter # : 988291\\r\\n...</td>\n",
              "      <td>0</td>\n",
              "      <td>0</td>\n",
              "      <td>1</td>\n",
              "      <td>1</td>\n",
              "      <td>[subject:, nron, methanol, meter, follow, th, ...</td>\n",
              "      <td>6.818311</td>\n",
              "    </tr>\n",
              "    <tr>\n",
              "      <th>1</th>\n",
              "      <td>2349</td>\n",
              "      <td>ham</td>\n",
              "      <td>Subject: hpl nom for january 9 , 2001\\r\\n( see...</td>\n",
              "      <td>0</td>\n",
              "      <td>0</td>\n",
              "      <td>0</td>\n",
              "      <td>0</td>\n",
              "      <td>[subject:, hpl, nom, january, attached, fil, h...</td>\n",
              "      <td>6.775000</td>\n",
              "    </tr>\n",
              "    <tr>\n",
              "      <th>2</th>\n",
              "      <td>3624</td>\n",
              "      <td>ham</td>\n",
              "      <td>Subject: neon retreat\\r\\nho ho ho , we ' re ar...</td>\n",
              "      <td>0</td>\n",
              "      <td>1</td>\n",
              "      <td>1</td>\n",
              "      <td>1</td>\n",
              "      <td>[subject:, neon, retreat, ho, ho, ho, around, ...</td>\n",
              "      <td>6.692322</td>\n",
              "    </tr>\n",
              "    <tr>\n",
              "      <th>3</th>\n",
              "      <td>4685</td>\n",
              "      <td>spam</td>\n",
              "      <td>Subject: photoshop , windows , office . cheap ...</td>\n",
              "      <td>1</td>\n",
              "      <td>0</td>\n",
              "      <td>1</td>\n",
              "      <td>1</td>\n",
              "      <td>[subject:, photoshop, windows, offic, cheap, m...</td>\n",
              "      <td>7.801136</td>\n",
              "    </tr>\n",
              "    <tr>\n",
              "      <th>4</th>\n",
              "      <td>2030</td>\n",
              "      <td>ham</td>\n",
              "      <td>Subject: re : indian springs\\r\\nthis deal is t...</td>\n",
              "      <td>0</td>\n",
              "      <td>0</td>\n",
              "      <td>1</td>\n",
              "      <td>1</td>\n",
              "      <td>[subject:, indian, springs, deal, book, th, te...</td>\n",
              "      <td>6.767004</td>\n",
              "    </tr>\n",
              "    <tr>\n",
              "      <th>...</th>\n",
              "      <td>...</td>\n",
              "      <td>...</td>\n",
              "      <td>...</td>\n",
              "      <td>...</td>\n",
              "      <td>...</td>\n",
              "      <td>...</td>\n",
              "      <td>...</td>\n",
              "      <td>...</td>\n",
              "      <td>...</td>\n",
              "    </tr>\n",
              "    <tr>\n",
              "      <th>5166</th>\n",
              "      <td>1518</td>\n",
              "      <td>ham</td>\n",
              "      <td>Subject: put the 10 on the ft\\r\\nthe transport...</td>\n",
              "      <td>0</td>\n",
              "      <td>0</td>\n",
              "      <td>1</td>\n",
              "      <td>1</td>\n",
              "      <td>[subject:, put, th, th, ft, th, transport, vol...</td>\n",
              "      <td>6.779789</td>\n",
              "    </tr>\n",
              "    <tr>\n",
              "      <th>5167</th>\n",
              "      <td>404</td>\n",
              "      <td>ham</td>\n",
              "      <td>Subject: 3 / 4 / 2000 and following noms\\r\\nhp...</td>\n",
              "      <td>0</td>\n",
              "      <td>1</td>\n",
              "      <td>1</td>\n",
              "      <td>1</td>\n",
              "      <td>[subject:, following, noms, hpl, tak, th, xtra...</td>\n",
              "      <td>6.668791</td>\n",
              "    </tr>\n",
              "    <tr>\n",
              "      <th>5168</th>\n",
              "      <td>2933</td>\n",
              "      <td>ham</td>\n",
              "      <td>Subject: calpine daily gas nomination\\r\\n&gt;\\r\\n...</td>\n",
              "      <td>0</td>\n",
              "      <td>0</td>\n",
              "      <td>0</td>\n",
              "      <td>0</td>\n",
              "      <td>[subject:, calpin, daily, gas, nomination, jul...</td>\n",
              "      <td>6.828676</td>\n",
              "    </tr>\n",
              "    <tr>\n",
              "      <th>5169</th>\n",
              "      <td>1409</td>\n",
              "      <td>ham</td>\n",
              "      <td>Subject: industrial worksheets for august 2000...</td>\n",
              "      <td>0</td>\n",
              "      <td>0</td>\n",
              "      <td>1</td>\n",
              "      <td>1</td>\n",
              "      <td>[subject:, industrial, worksheets, august, act...</td>\n",
              "      <td>7.225840</td>\n",
              "    </tr>\n",
              "    <tr>\n",
              "      <th>5170</th>\n",
              "      <td>4807</td>\n",
              "      <td>spam</td>\n",
              "      <td>Subject: important online banking alert\\r\\ndea...</td>\n",
              "      <td>1</td>\n",
              "      <td>1</td>\n",
              "      <td>1</td>\n",
              "      <td>1</td>\n",
              "      <td>[subject:, important, onlin, banking, alert, d...</td>\n",
              "      <td>6.909502</td>\n",
              "    </tr>\n",
              "  </tbody>\n",
              "</table>\n",
              "<p>5171 rows × 9 columns</p>\n",
              "</div>"
            ],
            "text/plain": [
              "      Unnamed: 0 label                                               text  \\\n",
              "0            605   ham  Subject: enron methanol ; meter # : 988291\\r\\n...   \n",
              "1           2349   ham  Subject: hpl nom for january 9 , 2001\\r\\n( see...   \n",
              "2           3624   ham  Subject: neon retreat\\r\\nho ho ho , we ' re ar...   \n",
              "3           4685  spam  Subject: photoshop , windows , office . cheap ...   \n",
              "4           2030   ham  Subject: re : indian springs\\r\\nthis deal is t...   \n",
              "...          ...   ...                                                ...   \n",
              "5166        1518   ham  Subject: put the 10 on the ft\\r\\nthe transport...   \n",
              "5167         404   ham  Subject: 3 / 4 / 2000 and following noms\\r\\nhp...   \n",
              "5168        2933   ham  Subject: calpine daily gas nomination\\r\\n>\\r\\n...   \n",
              "5169        1409   ham  Subject: industrial worksheets for august 2000...   \n",
              "5170        4807  spam  Subject: important online banking alert\\r\\ndea...   \n",
              "\n",
              "      label_num  model_without_nlp  model_rule_based  model_regex  \\\n",
              "0             0                  0                 1            1   \n",
              "1             0                  0                 0            0   \n",
              "2             0                  1                 1            1   \n",
              "3             1                  0                 1            1   \n",
              "4             0                  0                 1            1   \n",
              "...         ...                ...               ...          ...   \n",
              "5166          0                  0                 1            1   \n",
              "5167          0                  1                 1            1   \n",
              "5168          0                  0                 0            0   \n",
              "5169          0                  0                 1            1   \n",
              "5170          1                  1                 1            1   \n",
              "\n",
              "                                                  words  edit_distance  \n",
              "0     [subject:, nron, methanol, meter, follow, th, ...       6.818311  \n",
              "1     [subject:, hpl, nom, january, attached, fil, h...       6.775000  \n",
              "2     [subject:, neon, retreat, ho, ho, ho, around, ...       6.692322  \n",
              "3     [subject:, photoshop, windows, offic, cheap, m...       7.801136  \n",
              "4     [subject:, indian, springs, deal, book, th, te...       6.767004  \n",
              "...                                                 ...            ...  \n",
              "5166  [subject:, put, th, th, ft, th, transport, vol...       6.779789  \n",
              "5167  [subject:, following, noms, hpl, tak, th, xtra...       6.668791  \n",
              "5168  [subject:, calpin, daily, gas, nomination, jul...       6.828676  \n",
              "5169  [subject:, industrial, worksheets, august, act...       7.225840  \n",
              "5170  [subject:, important, onlin, banking, alert, d...       6.909502  \n",
              "\n",
              "[5171 rows x 9 columns]"
            ]
          },
          "execution_count": 46,
          "metadata": {},
          "output_type": "execute_result"
        }
      ],
      "source": [
        "# logic\n",
        "import random\n",
        "#import ipdb\n",
        "from fast_edit_distance import edit_distance as f_edit_distance\n",
        "\n",
        "from tqdm import tqdm\n",
        "tqdm.pandas(desc=\"Measuring edit distance\")\n",
        "\n",
        "def edit_distance_per_keyword(ws: List[str]):\n",
        "  # return normalized total sum of edit distance of each word in ws.\n",
        "  # normalization: consider the length of both keywords and ws.\n",
        "  distance = 0\n",
        "  # keywords = ['$', '$$$', 'affordable', 'amazing',,,,, 스팸이 포함하는 keyword\n",
        "  #ipdb.set_trace()\n",
        "  for keyword in keywords:\n",
        "    for w in ws:\n",
        "      distance += f_edit_distance(keyword, w)\n",
        "  return distance / (len(keywords) * len(ws)) # distance의 평균\n",
        "\n",
        "\n",
        "df[\"edit_distance\"] = df[\"words\"].progress_apply(lambda txts: edit_distance_per_keyword(txts))\n",
        "df"
      ]
    },
    {
      "cell_type": "code",
      "execution_count": 47,
      "metadata": {
        "colab": {
          "base_uri": "https://localhost:8080/",
          "height": 452
        },
        "id": "AXikvkpqo53G",
        "outputId": "de30d4d1-12d7-4858-8b7a-99a2c2026c3f"
      },
      "outputs": [
        {
          "data": {
            "image/png": "[encoded data removed]",
            "text/plain": [
              "<Figure size 640x480 with 1 Axes>"
            ]
          },
          "metadata": {},
          "output_type": "display_data"
        }
      ],
      "source": [
        "# check distribution\n",
        "from matplotlib import pyplot as plt\n",
        "df['edit_distance'].plot(kind='hist', bins=20, title='edit_distance')\n",
        "plt.gca().spines[['top', 'right',]].set_visible(False)"
      ]
    },
    {
      "cell_type": "code",
      "execution_count": 48,
      "metadata": {
        "colab": {
          "base_uri": "https://localhost:8080/"
        },
        "id": "oB29txqDo-V1",
        "outputId": "88de2faf-4047-40f4-90ba-197ef7008fea"
      },
      "outputs": [
        {
          "name": "stdout",
          "output_type": "stream",
          "text": [
            "total: 5171\n",
            "tp: 546, fp: 340, fn: 953, tn: 3332\n",
            "precision: 0.6162528216704289, recall: 0.3642428285523682, f1: 0.45786163522012574\n"
          ]
        }
      ],
      "source": [
        "# evaluation\n",
        "edit_distance_threshold = 7\n",
        "df[\"model_edit_distance\"] = df['edit_distance'] > edit_distance_threshold\n",
        "edit_distance_predicts = df[\"model_edit_distance\"].tolist()\n",
        "\n",
        "print_metrics(*confusion_matrix(real_labels, edit_distance_predicts))"
      ]
    },
    {
      "cell_type": "markdown",
      "metadata": {
        "id": "XqyIeH74LUCl"
      },
      "source": [
        "#### c-4. NLTK\n",
        "1. Case\n",
        "2. Lemmatization\n",
        "3. Stemming"
      ]
    },
    {
      "cell_type": "markdown",
      "metadata": {
        "id": "0Dy-5NaRgMVL"
      },
      "source": [
        "##### Tokenization"
      ]
    },
    {
      "cell_type": "code",
      "execution_count": 49,
      "metadata": {},
      "outputs": [
        {
          "name": "stderr",
          "output_type": "stream",
          "text": [
            "[nltk_data] Downloading package punkt_tab to /home/devrok/nltk_data...\n",
            "[nltk_data]   Package punkt_tab is already up-to-date!\n"
          ]
        },
        {
          "data": {
            "text/plain": [
              "True"
            ]
          },
          "execution_count": 49,
          "metadata": {},
          "output_type": "execute_result"
        }
      ],
      "source": [
        "import nltk\n",
        "nltk.download('punkt_tab')"
      ]
    },
    {
      "cell_type": "code",
      "execution_count": 50,
      "metadata": {
        "colab": {
          "base_uri": "https://localhost:8080/",
          "height": 1000
        },
        "id": "L3elNk87gKP9",
        "outputId": "079b1690-04fb-4bb1-979c-83e9e169b077"
      },
      "outputs": [
        {
          "name": "stderr",
          "output_type": "stream",
          "text": [
            "Measuring edit distance: 100%|██████████| 5171/5171 [01:21<00:00, 63.11it/s]\n",
            "Measuring edit distance: 100%|██████████| 5171/5171 [00:00<00:00, 33477.11it/s]\n",
            "Measuring edit distance: 100%|██████████| 5171/5171 [00:01<00:00, 4035.96it/s]\n"
          ]
        },
        {
          "data": {
            "text/html": [
              "<div>\n",
              "<style scoped>\n",
              "    .dataframe tbody tr th:only-of-type {\n",
              "        vertical-align: middle;\n",
              "    }\n",
              "\n",
              "    .dataframe tbody tr th {\n",
              "        vertical-align: top;\n",
              "    }\n",
              "\n",
              "    .dataframe thead th {\n",
              "        text-align: right;\n",
              "    }\n",
              "</style>\n",
              "<table border=\"1\" class=\"dataframe\">\n",
              "  <thead>\n",
              "    <tr style=\"text-align: right;\">\n",
              "      <th></th>\n",
              "      <th>Unnamed: 0</th>\n",
              "      <th>label</th>\n",
              "      <th>text</th>\n",
              "      <th>label_num</th>\n",
              "      <th>model_without_nlp</th>\n",
              "      <th>model_rule_based</th>\n",
              "      <th>model_regex</th>\n",
              "      <th>words</th>\n",
              "      <th>edit_distance</th>\n",
              "      <th>model_edit_distance</th>\n",
              "      <th>nltk_tokens</th>\n",
              "      <th>nltk_lower_tokens</th>\n",
              "      <th>nltk_words</th>\n",
              "    </tr>\n",
              "  </thead>\n",
              "  <tbody>\n",
              "    <tr>\n",
              "      <th>0</th>\n",
              "      <td>605</td>\n",
              "      <td>ham</td>\n",
              "      <td>Subject: enron methanol ; meter # : 988291\\r\\n...</td>\n",
              "      <td>0</td>\n",
              "      <td>0</td>\n",
              "      <td>1</td>\n",
              "      <td>1</td>\n",
              "      <td>[subject:, nron, methanol, meter, follow, th, ...</td>\n",
              "      <td>6.818311</td>\n",
              "      <td>False</td>\n",
              "      <td>[Subject, :, enron, methanol, ;, meter, #, :, ...</td>\n",
              "      <td>[subject, :, enron, methanol, ;, meter, #, :, ...</td>\n",
              "      <td>[subject, nron, methanol, meter, follow, th, g...</td>\n",
              "    </tr>\n",
              "    <tr>\n",
              "      <th>1</th>\n",
              "      <td>2349</td>\n",
              "      <td>ham</td>\n",
              "      <td>Subject: hpl nom for january 9 , 2001\\r\\n( see...</td>\n",
              "      <td>0</td>\n",
              "      <td>0</td>\n",
              "      <td>0</td>\n",
              "      <td>0</td>\n",
              "      <td>[subject:, hpl, nom, january, attached, fil, h...</td>\n",
              "      <td>6.775000</td>\n",
              "      <td>False</td>\n",
              "      <td>[Subject, :, hpl, nom, for, january, 9, ,, 200...</td>\n",
              "      <td>[subject, :, hpl, nom, for, january, 9, ,, 200...</td>\n",
              "      <td>[subject, hpl, nom, january, attached, fil, hp...</td>\n",
              "    </tr>\n",
              "    <tr>\n",
              "      <th>2</th>\n",
              "      <td>3624</td>\n",
              "      <td>ham</td>\n",
              "      <td>Subject: neon retreat\\r\\nho ho ho , we ' re ar...</td>\n",
              "      <td>0</td>\n",
              "      <td>1</td>\n",
              "      <td>1</td>\n",
              "      <td>1</td>\n",
              "      <td>[subject:, neon, retreat, ho, ho, ho, around, ...</td>\n",
              "      <td>6.692322</td>\n",
              "      <td>False</td>\n",
              "      <td>[Subject, :, neon, retreat, ho, ho, ho, ,, we,...</td>\n",
              "      <td>[subject, :, neon, retreat, ho, ho, ho, ,, we,...</td>\n",
              "      <td>[subject, neon, retreat, ho, ho, ho, around, w...</td>\n",
              "    </tr>\n",
              "    <tr>\n",
              "      <th>3</th>\n",
              "      <td>4685</td>\n",
              "      <td>spam</td>\n",
              "      <td>Subject: photoshop , windows , office . cheap ...</td>\n",
              "      <td>1</td>\n",
              "      <td>0</td>\n",
              "      <td>1</td>\n",
              "      <td>1</td>\n",
              "      <td>[subject:, photoshop, windows, offic, cheap, m...</td>\n",
              "      <td>7.801136</td>\n",
              "      <td>True</td>\n",
              "      <td>[Subject, :, photoshop, ,, windows, ,, office,...</td>\n",
              "      <td>[subject, :, photoshop, ,, windows, ,, office,...</td>\n",
              "      <td>[subject, photoshop, windows, offic, cheap, ma...</td>\n",
              "    </tr>\n",
              "    <tr>\n",
              "      <th>4</th>\n",
              "      <td>2030</td>\n",
              "      <td>ham</td>\n",
              "      <td>Subject: re : indian springs\\r\\nthis deal is t...</td>\n",
              "      <td>0</td>\n",
              "      <td>0</td>\n",
              "      <td>1</td>\n",
              "      <td>1</td>\n",
              "      <td>[subject:, indian, springs, deal, book, th, te...</td>\n",
              "      <td>6.767004</td>\n",
              "      <td>False</td>\n",
              "      <td>[Subject, :, re, :, indian, springs, this, dea...</td>\n",
              "      <td>[subject, :, re, :, indian, springs, this, dea...</td>\n",
              "      <td>[subject, indian, springs, deal, book, th, tec...</td>\n",
              "    </tr>\n",
              "    <tr>\n",
              "      <th>...</th>\n",
              "      <td>...</td>\n",
              "      <td>...</td>\n",
              "      <td>...</td>\n",
              "      <td>...</td>\n",
              "      <td>...</td>\n",
              "      <td>...</td>\n",
              "      <td>...</td>\n",
              "      <td>...</td>\n",
              "      <td>...</td>\n",
              "      <td>...</td>\n",
              "      <td>...</td>\n",
              "      <td>...</td>\n",
              "      <td>...</td>\n",
              "    </tr>\n",
              "    <tr>\n",
              "      <th>5166</th>\n",
              "      <td>1518</td>\n",
              "      <td>ham</td>\n",
              "      <td>Subject: put the 10 on the ft\\r\\nthe transport...</td>\n",
              "      <td>0</td>\n",
              "      <td>0</td>\n",
              "      <td>1</td>\n",
              "      <td>1</td>\n",
              "      <td>[subject:, put, th, th, ft, th, transport, vol...</td>\n",
              "      <td>6.779789</td>\n",
              "      <td>False</td>\n",
              "      <td>[Subject, :, put, the, 10, on, the, ft, the, t...</td>\n",
              "      <td>[subject, :, put, the, 10, on, the, ft, the, t...</td>\n",
              "      <td>[subject, put, th, th, ft, th, transport, volu...</td>\n",
              "    </tr>\n",
              "    <tr>\n",
              "      <th>5167</th>\n",
              "      <td>404</td>\n",
              "      <td>ham</td>\n",
              "      <td>Subject: 3 / 4 / 2000 and following noms\\r\\nhp...</td>\n",
              "      <td>0</td>\n",
              "      <td>1</td>\n",
              "      <td>1</td>\n",
              "      <td>1</td>\n",
              "      <td>[subject:, following, noms, hpl, tak, th, xtra...</td>\n",
              "      <td>6.668791</td>\n",
              "      <td>False</td>\n",
              "      <td>[Subject, :, 3, /, 4, /, 2000, and, following,...</td>\n",
              "      <td>[subject, :, 3, /, 4, /, 2000, and, following,...</td>\n",
              "      <td>[subject, following, noms, hpl, tak, th, xtra,...</td>\n",
              "    </tr>\n",
              "    <tr>\n",
              "      <th>5168</th>\n",
              "      <td>2933</td>\n",
              "      <td>ham</td>\n",
              "      <td>Subject: calpine daily gas nomination\\r\\n&gt;\\r\\n...</td>\n",
              "      <td>0</td>\n",
              "      <td>0</td>\n",
              "      <td>0</td>\n",
              "      <td>0</td>\n",
              "      <td>[subject:, calpin, daily, gas, nomination, jul...</td>\n",
              "      <td>6.828676</td>\n",
              "      <td>False</td>\n",
              "      <td>[Subject, :, calpine, daily, gas, nomination, ...</td>\n",
              "      <td>[subject, :, calpine, daily, gas, nomination, ...</td>\n",
              "      <td>[subject, calpin, daily, gas, nomination, juli...</td>\n",
              "    </tr>\n",
              "    <tr>\n",
              "      <th>5169</th>\n",
              "      <td>1409</td>\n",
              "      <td>ham</td>\n",
              "      <td>Subject: industrial worksheets for august 2000...</td>\n",
              "      <td>0</td>\n",
              "      <td>0</td>\n",
              "      <td>1</td>\n",
              "      <td>1</td>\n",
              "      <td>[subject:, industrial, worksheets, august, act...</td>\n",
              "      <td>7.225840</td>\n",
              "      <td>True</td>\n",
              "      <td>[Subject, :, industrial, worksheets, for, augu...</td>\n",
              "      <td>[subject, :, industrial, worksheets, for, augu...</td>\n",
              "      <td>[subject, industrial, worksheets, august, acti...</td>\n",
              "    </tr>\n",
              "    <tr>\n",
              "      <th>5170</th>\n",
              "      <td>4807</td>\n",
              "      <td>spam</td>\n",
              "      <td>Subject: important online banking alert\\r\\ndea...</td>\n",
              "      <td>1</td>\n",
              "      <td>1</td>\n",
              "      <td>1</td>\n",
              "      <td>1</td>\n",
              "      <td>[subject:, important, onlin, banking, alert, d...</td>\n",
              "      <td>6.909502</td>\n",
              "      <td>False</td>\n",
              "      <td>[Subject, :, important, online, banking, alert...</td>\n",
              "      <td>[subject, :, important, online, banking, alert...</td>\n",
              "      <td>[subject, important, onlin, banking, alert, de...</td>\n",
              "    </tr>\n",
              "  </tbody>\n",
              "</table>\n",
              "<p>5171 rows × 13 columns</p>\n",
              "</div>"
            ],
            "text/plain": [
              "      Unnamed: 0 label                                               text  \\\n",
              "0            605   ham  Subject: enron methanol ; meter # : 988291\\r\\n...   \n",
              "1           2349   ham  Subject: hpl nom for january 9 , 2001\\r\\n( see...   \n",
              "2           3624   ham  Subject: neon retreat\\r\\nho ho ho , we ' re ar...   \n",
              "3           4685  spam  Subject: photoshop , windows , office . cheap ...   \n",
              "4           2030   ham  Subject: re : indian springs\\r\\nthis deal is t...   \n",
              "...          ...   ...                                                ...   \n",
              "5166        1518   ham  Subject: put the 10 on the ft\\r\\nthe transport...   \n",
              "5167         404   ham  Subject: 3 / 4 / 2000 and following noms\\r\\nhp...   \n",
              "5168        2933   ham  Subject: calpine daily gas nomination\\r\\n>\\r\\n...   \n",
              "5169        1409   ham  Subject: industrial worksheets for august 2000...   \n",
              "5170        4807  spam  Subject: important online banking alert\\r\\ndea...   \n",
              "\n",
              "      label_num  model_without_nlp  model_rule_based  model_regex  \\\n",
              "0             0                  0                 1            1   \n",
              "1             0                  0                 0            0   \n",
              "2             0                  1                 1            1   \n",
              "3             1                  0                 1            1   \n",
              "4             0                  0                 1            1   \n",
              "...         ...                ...               ...          ...   \n",
              "5166          0                  0                 1            1   \n",
              "5167          0                  1                 1            1   \n",
              "5168          0                  0                 0            0   \n",
              "5169          0                  0                 1            1   \n",
              "5170          1                  1                 1            1   \n",
              "\n",
              "                                                  words  edit_distance  \\\n",
              "0     [subject:, nron, methanol, meter, follow, th, ...       6.818311   \n",
              "1     [subject:, hpl, nom, january, attached, fil, h...       6.775000   \n",
              "2     [subject:, neon, retreat, ho, ho, ho, around, ...       6.692322   \n",
              "3     [subject:, photoshop, windows, offic, cheap, m...       7.801136   \n",
              "4     [subject:, indian, springs, deal, book, th, te...       6.767004   \n",
              "...                                                 ...            ...   \n",
              "5166  [subject:, put, th, th, ft, th, transport, vol...       6.779789   \n",
              "5167  [subject:, following, noms, hpl, tak, th, xtra...       6.668791   \n",
              "5168  [subject:, calpin, daily, gas, nomination, jul...       6.828676   \n",
              "5169  [subject:, industrial, worksheets, august, act...       7.225840   \n",
              "5170  [subject:, important, onlin, banking, alert, d...       6.909502   \n",
              "\n",
              "      model_edit_distance                                        nltk_tokens  \\\n",
              "0                   False  [Subject, :, enron, methanol, ;, meter, #, :, ...   \n",
              "1                   False  [Subject, :, hpl, nom, for, january, 9, ,, 200...   \n",
              "2                   False  [Subject, :, neon, retreat, ho, ho, ho, ,, we,...   \n",
              "3                    True  [Subject, :, photoshop, ,, windows, ,, office,...   \n",
              "4                   False  [Subject, :, re, :, indian, springs, this, dea...   \n",
              "...                   ...                                                ...   \n",
              "5166                False  [Subject, :, put, the, 10, on, the, ft, the, t...   \n",
              "5167                False  [Subject, :, 3, /, 4, /, 2000, and, following,...   \n",
              "5168                False  [Subject, :, calpine, daily, gas, nomination, ...   \n",
              "5169                 True  [Subject, :, industrial, worksheets, for, augu...   \n",
              "5170                False  [Subject, :, important, online, banking, alert...   \n",
              "\n",
              "                                      nltk_lower_tokens  \\\n",
              "0     [subject, :, enron, methanol, ;, meter, #, :, ...   \n",
              "1     [subject, :, hpl, nom, for, january, 9, ,, 200...   \n",
              "2     [subject, :, neon, retreat, ho, ho, ho, ,, we,...   \n",
              "3     [subject, :, photoshop, ,, windows, ,, office,...   \n",
              "4     [subject, :, re, :, indian, springs, this, dea...   \n",
              "...                                                 ...   \n",
              "5166  [subject, :, put, the, 10, on, the, ft, the, t...   \n",
              "5167  [subject, :, 3, /, 4, /, 2000, and, following,...   \n",
              "5168  [subject, :, calpine, daily, gas, nomination, ...   \n",
              "5169  [subject, :, industrial, worksheets, for, augu...   \n",
              "5170  [subject, :, important, online, banking, alert...   \n",
              "\n",
              "                                             nltk_words  \n",
              "0     [subject, nron, methanol, meter, follow, th, g...  \n",
              "1     [subject, hpl, nom, january, attached, fil, hp...  \n",
              "2     [subject, neon, retreat, ho, ho, ho, around, w...  \n",
              "3     [subject, photoshop, windows, offic, cheap, ma...  \n",
              "4     [subject, indian, springs, deal, book, th, tec...  \n",
              "...                                                 ...  \n",
              "5166  [subject, put, th, th, ft, th, transport, volu...  \n",
              "5167  [subject, following, noms, hpl, tak, th, xtra,...  \n",
              "5168  [subject, calpin, daily, gas, nomination, juli...  \n",
              "5169  [subject, industrial, worksheets, august, acti...  \n",
              "5170  [subject, important, onlin, banking, alert, de...  \n",
              "\n",
              "[5171 rows x 13 columns]"
            ]
          },
          "execution_count": 50,
          "metadata": {},
          "output_type": "execute_result"
        }
      ],
      "source": [
        "from nltk.tokenize import word_tokenize\n",
        "df[\"nltk_tokens\"] = df[\"text\"].progress_apply(lambda txts: word_tokenize(txts)) # 파이썬에 있는 torken module 이용\n",
        "\n",
        "def str_lower(ts: List[str]):\n",
        "  l = []\n",
        "  for t in ts:\n",
        "    l.append(t.lower())\n",
        "  return l\n",
        "\n",
        "df[\"nltk_lower_tokens\"] = df[\"nltk_tokens\"].progress_apply(lambda txts: str_lower(txts))\n",
        "df[\"nltk_words\"] = df[\"nltk_lower_tokens\"].progress_apply(lambda txts: regularize_tokens(txts)) # token를 정규화\n",
        "df"
      ]
    },
    {
      "cell_type": "markdown",
      "metadata": {
        "id": "cCo3tYNCc5kr"
      },
      "source": [
        "##### Lemmatization\n",
        "Examples of lemmatization:\n",
        "\n",
        "-> rocks : rock\n",
        "\n",
        "-> corpora : corpus\n",
        "\n",
        "-> better : good\n",
        "\n",
        "### Method1: Rule based\n",
        "Word: “walked”\n",
        "\n",
        "Rule Application: Remove “-ed”\n",
        "\n",
        "Result: “walk\n",
        "\n",
        "### Method2: Dictionary based\n",
        "\n",
        "‘running’ -> ‘run’\n",
        "\n",
        "‘better’ -> ‘good’\n",
        "\n",
        "‘went’ -> ‘go’\n",
        "\n",
        "### Method3: ML based (NLTK)\n"
      ]
    },
    {
      "cell_type": "code",
      "execution_count": 51,
      "metadata": {
        "colab": {
          "base_uri": "https://localhost:8080/"
        },
        "id": "YcioUi8FdCPV",
        "outputId": "b9c7a245-2e47-414d-80e8-342a9b7fad5d"
      },
      "outputs": [
        {
          "name": "stdout",
          "output_type": "stream",
          "text": [
            "rocks : rock\n",
            "corpora : corpus\n",
            "daaaam : dump\n",
            "daaaam : child\n"
          ]
        }
      ],
      "source": [
        "# example\n",
        "# Reference: https://www.geeksforgeeks.org/python-lemmatization-with-nltk/\n",
        "from nltk.stem import WordNetLemmatizer # 표제어 추출 module\n",
        "\n",
        "lemmatizer = WordNetLemmatizer()\n",
        "\n",
        "print(\"rocks :\", lemmatizer.lemmatize(\"rocks\"))\n",
        "print(\"corpora :\", lemmatizer.lemmatize(\"corpora\"))"
      ]
    },
    {
      "cell_type": "code",
      "execution_count": 52,
      "metadata": {
        "colab": {
          "base_uri": "https://localhost:8080/"
        },
        "id": "TZA5l7KuDwd_",
        "outputId": "1e4752d7-c90b-46bc-a337-d670d158df51"
      },
      "outputs": [
        {
          "name": "stderr",
          "output_type": "stream",
          "text": [
            "huggingface/tokenizers: The current process just got forked, after parallelism has already been used. Disabling parallelism to avoid deadlocks...\n",
            "To disable this warning, you can either:\n",
            "\t- Avoid using `tokenizers` before the fork if possible\n",
            "\t- Explicitly set the environment variable TOKENIZERS_PARALLELISM=(true | false)\n"
          ]
        },
        {
          "name": "stdout",
          "output_type": "stream",
          "text": [
            "Requirement already satisfied: nltk in /home/devrok/.conda/envs/nlp_pt/lib/python3.10/site-packages (3.8.2)\n",
            "Requirement already satisfied: click in /home/devrok/.conda/envs/nlp_pt/lib/python3.10/site-packages (from nltk) (8.1.7)\n",
            "Requirement already satisfied: joblib in /home/devrok/.conda/envs/nlp_pt/lib/python3.10/site-packages (from nltk) (1.4.2)\n",
            "Requirement already satisfied: regex>=2021.8.3 in /home/devrok/.conda/envs/nlp_pt/lib/python3.10/site-packages (from nltk) (2024.7.24)\n",
            "Requirement already satisfied: tqdm in /home/devrok/.conda/envs/nlp_pt/lib/python3.10/site-packages (from nltk) (4.66.5)\n"
          ]
        }
      ],
      "source": [
        "!pip install nltk"
      ]
    },
    {
      "cell_type": "code",
      "execution_count": 53,
      "metadata": {},
      "outputs": [
        {
          "name": "stderr",
          "output_type": "stream",
          "text": [
            "[nltk_data] Downloading package averaged_perceptron_tagger to\n",
            "[nltk_data]     /home/devrok/nltk_data...\n",
            "[nltk_data]   Package averaged_perceptron_tagger is already up-to-\n",
            "[nltk_data]       date!\n"
          ]
        },
        {
          "data": {
            "text/plain": [
              "True"
            ]
          },
          "execution_count": 53,
          "metadata": {},
          "output_type": "execute_result"
        }
      ],
      "source": [
        "import nltk\n",
        "nltk.download('averaged_perceptron_tagger')"
      ]
    },
    {
      "cell_type": "code",
      "execution_count": 54,
      "metadata": {
        "colab": {
          "base_uri": "https://localhost:8080/",
          "height": 513
        },
        "id": "1CU5pibgb5DZ",
        "outputId": "85cbc339-ff8c-4c9c-f4bf-7e924f2a5ea5"
      },
      "outputs": [
        {
          "name": "stderr",
          "output_type": "stream",
          "text": [
            "Lemmatizing...: 100%|██████████| 5171/5171 [00:01<00:00, 3521.19it/s]\n"
          ]
        },
        {
          "data": {
            "text/html": [
              "<div>\n",
              "<style scoped>\n",
              "    .dataframe tbody tr th:only-of-type {\n",
              "        vertical-align: middle;\n",
              "    }\n",
              "\n",
              "    .dataframe tbody tr th {\n",
              "        vertical-align: top;\n",
              "    }\n",
              "\n",
              "    .dataframe thead th {\n",
              "        text-align: right;\n",
              "    }\n",
              "</style>\n",
              "<table border=\"1\" class=\"dataframe\">\n",
              "  <thead>\n",
              "    <tr style=\"text-align: right;\">\n",
              "      <th></th>\n",
              "      <th>nltk_words</th>\n",
              "      <th>lemma</th>\n",
              "    </tr>\n",
              "  </thead>\n",
              "  <tbody>\n",
              "    <tr>\n",
              "      <th>0</th>\n",
              "      <td>[subject, nron, methanol, meter, follow, th, g...</td>\n",
              "      <td>[subject, nron, methanol, meter, follow, th, g...</td>\n",
              "    </tr>\n",
              "    <tr>\n",
              "      <th>1</th>\n",
              "      <td>[subject, hpl, nom, january, attached, fil, hp...</td>\n",
              "      <td>[subject, hpl, nom, january, attached, fil, hp...</td>\n",
              "    </tr>\n",
              "    <tr>\n",
              "      <th>2</th>\n",
              "      <td>[subject, neon, retreat, ho, ho, ho, around, w...</td>\n",
              "      <td>[subject, neon, retreat, ho, ho, ho, around, w...</td>\n",
              "    </tr>\n",
              "    <tr>\n",
              "      <th>3</th>\n",
              "      <td>[subject, photoshop, windows, offic, cheap, ma...</td>\n",
              "      <td>[subject, photoshop, window, offic, cheap, mai...</td>\n",
              "    </tr>\n",
              "    <tr>\n",
              "      <th>4</th>\n",
              "      <td>[subject, indian, springs, deal, book, th, tec...</td>\n",
              "      <td>[subject, indian, spring, deal, book, th, teco...</td>\n",
              "    </tr>\n",
              "    <tr>\n",
              "      <th>...</th>\n",
              "      <td>...</td>\n",
              "      <td>...</td>\n",
              "    </tr>\n",
              "    <tr>\n",
              "      <th>5166</th>\n",
              "      <td>[subject, put, th, th, ft, th, transport, volu...</td>\n",
              "      <td>[subject, put, th, th, ft, th, transport, volu...</td>\n",
              "    </tr>\n",
              "    <tr>\n",
              "      <th>5167</th>\n",
              "      <td>[subject, following, noms, hpl, tak, th, xtra,...</td>\n",
              "      <td>[subject, following, noms, hpl, tak, th, xtra,...</td>\n",
              "    </tr>\n",
              "    <tr>\n",
              "      <th>5168</th>\n",
              "      <td>[subject, calpin, daily, gas, nomination, juli...</td>\n",
              "      <td>[subject, calpin, daily, gas, nomination, juli...</td>\n",
              "    </tr>\n",
              "    <tr>\n",
              "      <th>5169</th>\n",
              "      <td>[subject, industrial, worksheets, august, acti...</td>\n",
              "      <td>[subject, industrial, worksheet, august, activ...</td>\n",
              "    </tr>\n",
              "    <tr>\n",
              "      <th>5170</th>\n",
              "      <td>[subject, important, onlin, banking, alert, de...</td>\n",
              "      <td>[subject, important, onlin, banking, alert, de...</td>\n",
              "    </tr>\n",
              "  </tbody>\n",
              "</table>\n",
              "<p>5171 rows × 2 columns</p>\n",
              "</div>"
            ],
            "text/plain": [
              "                                             nltk_words  \\\n",
              "0     [subject, nron, methanol, meter, follow, th, g...   \n",
              "1     [subject, hpl, nom, january, attached, fil, hp...   \n",
              "2     [subject, neon, retreat, ho, ho, ho, around, w...   \n",
              "3     [subject, photoshop, windows, offic, cheap, ma...   \n",
              "4     [subject, indian, springs, deal, book, th, tec...   \n",
              "...                                                 ...   \n",
              "5166  [subject, put, th, th, ft, th, transport, volu...   \n",
              "5167  [subject, following, noms, hpl, tak, th, xtra,...   \n",
              "5168  [subject, calpin, daily, gas, nomination, juli...   \n",
              "5169  [subject, industrial, worksheets, august, acti...   \n",
              "5170  [subject, important, onlin, banking, alert, de...   \n",
              "\n",
              "                                                  lemma  \n",
              "0     [subject, nron, methanol, meter, follow, th, g...  \n",
              "1     [subject, hpl, nom, january, attached, fil, hp...  \n",
              "2     [subject, neon, retreat, ho, ho, ho, around, w...  \n",
              "3     [subject, photoshop, window, offic, cheap, mai...  \n",
              "4     [subject, indian, spring, deal, book, th, teco...  \n",
              "...                                                 ...  \n",
              "5166  [subject, put, th, th, ft, th, transport, volu...  \n",
              "5167  [subject, following, noms, hpl, tak, th, xtra,...  \n",
              "5168  [subject, calpin, daily, gas, nomination, juli...  \n",
              "5169  [subject, industrial, worksheet, august, activ...  \n",
              "5170  [subject, important, onlin, banking, alert, de...  \n",
              "\n",
              "[5171 rows x 2 columns]"
            ]
          },
          "execution_count": 54,
          "metadata": {},
          "output_type": "execute_result"
        }
      ],
      "source": [
        "# logic\n",
        "from fast_edit_distance import edit_distance as f_edit_distance\n",
        "from tqdm import tqdm\n",
        "tqdm.pandas(desc=\"Lemmatizing...\")\n",
        "\n",
        "\n",
        "def lemmatize(ws: List[str]):\n",
        "  return [lemmatizer.lemmatize(w) for w in ws]\n",
        "  #l = []\n",
        "  #for w in ws:\n",
        "  #  pos_tag = nltk.pos_tag([w])[0][1]\n",
        "  #  l.append(lemmatizer.lemmatize(w, pos=pos_tag.lower()))\n",
        "  #return l\n",
        "\n",
        "df[\"lemma\"] = df[\"nltk_words\"].progress_apply(lambda txts: lemmatize(txts))\n",
        "\n",
        "\n",
        "df.loc[:, [\"nltk_words\", \"lemma\"]]"
      ]
    },
    {
      "cell_type": "markdown",
      "metadata": {
        "id": "aU1PxrzTdgTw"
      },
      "source": [
        "##### Stemming\n"
      ]
    },
    {
      "cell_type": "code",
      "execution_count": 60,
      "metadata": {
        "colab": {
          "base_uri": "https://localhost:8080/"
        },
        "id": "utyuLXwvdfxH",
        "outputId": "aa025ce7-2ee6-4609-ba50-a71ca9374a04"
      },
      "outputs": [
        {
          "name": "stdout",
          "output_type": "stream",
          "text": [
            "program  :  program\n",
            "programs  :  program\n",
            "programmer  :  programm\n",
            "programming  :  program\n",
            "programmers  :  programm\n"
          ]
        }
      ],
      "source": [
        "# example\n",
        "# Reference: https://www.geeksforgeeks.org/python-stemming-words-with-nltk/\n",
        "# import these modules\n",
        "from nltk.stem import PorterStemmer\n",
        "\n",
        "ps = PorterStemmer()\n",
        "\n",
        "# choose some words to be stemmed\n",
        "words = [\"program\", \"programs\", \"programmer\", \"programming\", \"programmers\"]\n",
        "\n",
        "for w in words:\n",
        "    print(w, \" : \", ps.stem(w))"
      ]
    },
    {
      "cell_type": "code",
      "execution_count": 61,
      "metadata": {
        "colab": {
          "base_uri": "https://localhost:8080/",
          "height": 442
        },
        "id": "oBy1AdJYgF5q",
        "outputId": "f846319b-2141-4bd9-bbc9-dc223eeb0161"
      },
      "outputs": [
        {
          "name": "stderr",
          "output_type": "stream",
          "text": [
            "Stemming...: 100%|██████████| 5171/5171 [00:06<00:00, 772.15it/s]\n"
          ]
        },
        {
          "data": {
            "text/html": [
              "<div>\n",
              "<style scoped>\n",
              "    .dataframe tbody tr th:only-of-type {\n",
              "        vertical-align: middle;\n",
              "    }\n",
              "\n",
              "    .dataframe tbody tr th {\n",
              "        vertical-align: top;\n",
              "    }\n",
              "\n",
              "    .dataframe thead th {\n",
              "        text-align: right;\n",
              "    }\n",
              "</style>\n",
              "<table border=\"1\" class=\"dataframe\">\n",
              "  <thead>\n",
              "    <tr style=\"text-align: right;\">\n",
              "      <th></th>\n",
              "      <th>nltk_words</th>\n",
              "      <th>lemma</th>\n",
              "      <th>stems</th>\n",
              "    </tr>\n",
              "  </thead>\n",
              "  <tbody>\n",
              "    <tr>\n",
              "      <th>0</th>\n",
              "      <td>[subject, nron, methanol, meter, follow, th, g...</td>\n",
              "      <td>[subject, nron, methanol, meter, follow, th, g...</td>\n",
              "      <td>[subject, nron, methanol, meter, follow, th, g...</td>\n",
              "    </tr>\n",
              "    <tr>\n",
              "      <th>1</th>\n",
              "      <td>[subject, hpl, nom, january, attached, fil, hp...</td>\n",
              "      <td>[subject, hpl, nom, january, attached, fil, hp...</td>\n",
              "      <td>[subject, hpl, nom, januari, attach, fil, hpln...</td>\n",
              "    </tr>\n",
              "    <tr>\n",
              "      <th>2</th>\n",
              "      <td>[subject, neon, retreat, ho, ho, ho, around, w...</td>\n",
              "      <td>[subject, neon, retreat, ho, ho, ho, around, w...</td>\n",
              "      <td>[subject, neon, retreat, ho, ho, ho, around, w...</td>\n",
              "    </tr>\n",
              "    <tr>\n",
              "      <th>3</th>\n",
              "      <td>[subject, photoshop, windows, offic, cheap, ma...</td>\n",
              "      <td>[subject, photoshop, window, offic, cheap, mai...</td>\n",
              "      <td>[subject, photoshop, window, offic, cheap, mai...</td>\n",
              "    </tr>\n",
              "    <tr>\n",
              "      <th>4</th>\n",
              "      <td>[subject, indian, springs, deal, book, th, tec...</td>\n",
              "      <td>[subject, indian, spring, deal, book, th, teco...</td>\n",
              "      <td>[subject, indian, spring, deal, book, th, teco...</td>\n",
              "    </tr>\n",
              "    <tr>\n",
              "      <th>...</th>\n",
              "      <td>...</td>\n",
              "      <td>...</td>\n",
              "      <td>...</td>\n",
              "    </tr>\n",
              "    <tr>\n",
              "      <th>5166</th>\n",
              "      <td>[subject, put, th, th, ft, th, transport, volu...</td>\n",
              "      <td>[subject, put, th, th, ft, th, transport, volu...</td>\n",
              "      <td>[subject, put, th, th, ft, th, transport, volu...</td>\n",
              "    </tr>\n",
              "    <tr>\n",
              "      <th>5167</th>\n",
              "      <td>[subject, following, noms, hpl, tak, th, xtra,...</td>\n",
              "      <td>[subject, following, noms, hpl, tak, th, xtra,...</td>\n",
              "      <td>[subject, follow, nom, hpl, tak, th, xtra, mmc...</td>\n",
              "    </tr>\n",
              "    <tr>\n",
              "      <th>5168</th>\n",
              "      <td>[subject, calpin, daily, gas, nomination, juli...</td>\n",
              "      <td>[subject, calpin, daily, gas, nomination, juli...</td>\n",
              "      <td>[subject, calpin, daili, ga, nomin, juli, ment...</td>\n",
              "    </tr>\n",
              "    <tr>\n",
              "      <th>5169</th>\n",
              "      <td>[subject, industrial, worksheets, august, acti...</td>\n",
              "      <td>[subject, industrial, worksheet, august, activ...</td>\n",
              "      <td>[subject, industri, worksheet, august, activ, ...</td>\n",
              "    </tr>\n",
              "    <tr>\n",
              "      <th>5170</th>\n",
              "      <td>[subject, important, onlin, banking, alert, de...</td>\n",
              "      <td>[subject, important, onlin, banking, alert, de...</td>\n",
              "      <td>[subject, import, onlin, bank, alert, dear, va...</td>\n",
              "    </tr>\n",
              "  </tbody>\n",
              "</table>\n",
              "<p>5171 rows × 3 columns</p>\n",
              "</div>"
            ],
            "text/plain": [
              "                                             nltk_words  \\\n",
              "0     [subject, nron, methanol, meter, follow, th, g...   \n",
              "1     [subject, hpl, nom, january, attached, fil, hp...   \n",
              "2     [subject, neon, retreat, ho, ho, ho, around, w...   \n",
              "3     [subject, photoshop, windows, offic, cheap, ma...   \n",
              "4     [subject, indian, springs, deal, book, th, tec...   \n",
              "...                                                 ...   \n",
              "5166  [subject, put, th, th, ft, th, transport, volu...   \n",
              "5167  [subject, following, noms, hpl, tak, th, xtra,...   \n",
              "5168  [subject, calpin, daily, gas, nomination, juli...   \n",
              "5169  [subject, industrial, worksheets, august, acti...   \n",
              "5170  [subject, important, onlin, banking, alert, de...   \n",
              "\n",
              "                                                  lemma  \\\n",
              "0     [subject, nron, methanol, meter, follow, th, g...   \n",
              "1     [subject, hpl, nom, january, attached, fil, hp...   \n",
              "2     [subject, neon, retreat, ho, ho, ho, around, w...   \n",
              "3     [subject, photoshop, window, offic, cheap, mai...   \n",
              "4     [subject, indian, spring, deal, book, th, teco...   \n",
              "...                                                 ...   \n",
              "5166  [subject, put, th, th, ft, th, transport, volu...   \n",
              "5167  [subject, following, noms, hpl, tak, th, xtra,...   \n",
              "5168  [subject, calpin, daily, gas, nomination, juli...   \n",
              "5169  [subject, industrial, worksheet, august, activ...   \n",
              "5170  [subject, important, onlin, banking, alert, de...   \n",
              "\n",
              "                                                  stems  \n",
              "0     [subject, nron, methanol, meter, follow, th, g...  \n",
              "1     [subject, hpl, nom, januari, attach, fil, hpln...  \n",
              "2     [subject, neon, retreat, ho, ho, ho, around, w...  \n",
              "3     [subject, photoshop, window, offic, cheap, mai...  \n",
              "4     [subject, indian, spring, deal, book, th, teco...  \n",
              "...                                                 ...  \n",
              "5166  [subject, put, th, th, ft, th, transport, volu...  \n",
              "5167  [subject, follow, nom, hpl, tak, th, xtra, mmc...  \n",
              "5168  [subject, calpin, daili, ga, nomin, juli, ment...  \n",
              "5169  [subject, industri, worksheet, august, activ, ...  \n",
              "5170  [subject, import, onlin, bank, alert, dear, va...  \n",
              "\n",
              "[5171 rows x 3 columns]"
            ]
          },
          "execution_count": 61,
          "metadata": {},
          "output_type": "execute_result"
        }
      ],
      "source": [
        "# logic\n",
        "from tqdm import tqdm\n",
        "tqdm.pandas(desc=\"Stemming...\")\n",
        "\n",
        "\n",
        "def stemming(ws: List[str]):\n",
        "  return [\n",
        "      ps.stem(w)\n",
        "      for w in ws\n",
        "  ]\n",
        "\n",
        "df[\"stems\"] = df[\"lemma\"].progress_apply(lambda txts: stemming(txts))\n",
        "df.loc[:, [\"nltk_words\", \"lemma\", \"stems\"]]\n",
        "#[subject, neon, retreat, ho, ho, ho, around, -> ho : stemming이 안되는 곳"
      ]
    },
    {
      "cell_type": "markdown",
      "metadata": {
        "id": "chF0FGsNhOLo"
      },
      "source": [
        "##### Lemmatize and Stem the keywords!"
      ]
    },
    {
      "cell_type": "code",
      "execution_count": 62,
      "metadata": {
        "colab": {
          "base_uri": "https://localhost:8080/"
        },
        "collapsed": true,
        "id": "MVvCCy5vhNzQ",
        "outputId": "3d66267f-00c0-4404-c1cc-b2009614ba6c"
      },
      "outputs": [
        {
          "name": "stdout",
          "output_type": "stream",
          "text": [
            "['click', '$$$', 'lifetime', 'rates', 'sales', 'clearance', 'certified', 'obligation', 'consultation', 'sample']\n",
            "['solut', 'subscrib', 'click', '$$$', 'afford', 'marketing solut', 'bonu', 'no questions ask', 'guarante', 'expir']\n"
          ]
        }
      ],
      "source": [
        "lemmatized_keywords = lemmatize(keywords)\n",
        "stemmed_keywords = stemming(lemmatized_keywords)\n",
        "clean_keywords = list(set(stemmed_keywords))\n",
        "print(keywords[:10])\n",
        "print(clean_keywords[:10])"
      ]
    },
    {
      "cell_type": "markdown",
      "metadata": {
        "id": "uB_hMmi2QVIH"
      },
      "source": [
        "#### c-5. apply NLTK to method c-2, c-3"
      ]
    },
    {
      "cell_type": "markdown",
      "metadata": {
        "id": "_4SLTE_hj5yy"
      },
      "source": [
        "##### Regex"
      ]
    },
    {
      "cell_type": "code",
      "execution_count": 63,
      "metadata": {
        "colab": {
          "base_uri": "https://localhost:8080/",
          "height": 1000
        },
        "id": "VBNn9N9bwntS",
        "outputId": "f2041eac-4d61-4c50-b065-a32107394c6d"
      },
      "outputs": [
        {
          "name": "stderr",
          "output_type": "stream",
          "text": [
            "Stemming...: 100%|██████████| 5171/5171 [00:17<00:00, 288.77it/s]\n"
          ]
        },
        {
          "data": {
            "text/html": [
              "<div>\n",
              "<style scoped>\n",
              "    .dataframe tbody tr th:only-of-type {\n",
              "        vertical-align: middle;\n",
              "    }\n",
              "\n",
              "    .dataframe tbody tr th {\n",
              "        vertical-align: top;\n",
              "    }\n",
              "\n",
              "    .dataframe thead th {\n",
              "        text-align: right;\n",
              "    }\n",
              "</style>\n",
              "<table border=\"1\" class=\"dataframe\">\n",
              "  <thead>\n",
              "    <tr style=\"text-align: right;\">\n",
              "      <th></th>\n",
              "      <th>Unnamed: 0</th>\n",
              "      <th>label</th>\n",
              "      <th>text</th>\n",
              "      <th>label_num</th>\n",
              "      <th>model_without_nlp</th>\n",
              "      <th>model_rule_based</th>\n",
              "      <th>model_regex</th>\n",
              "      <th>words</th>\n",
              "      <th>edit_distance</th>\n",
              "      <th>model_edit_distance</th>\n",
              "      <th>nltk_tokens</th>\n",
              "      <th>nltk_lower_tokens</th>\n",
              "      <th>nltk_words</th>\n",
              "      <th>lemma</th>\n",
              "      <th>stems</th>\n",
              "      <th>model_clean_regex</th>\n",
              "    </tr>\n",
              "  </thead>\n",
              "  <tbody>\n",
              "    <tr>\n",
              "      <th>0</th>\n",
              "      <td>605</td>\n",
              "      <td>ham</td>\n",
              "      <td>Subject: enron methanol ; meter # : 988291\\r\\n...</td>\n",
              "      <td>0</td>\n",
              "      <td>0</td>\n",
              "      <td>1</td>\n",
              "      <td>1</td>\n",
              "      <td>[subject:, nron, methanol, meter, follow, th, ...</td>\n",
              "      <td>6.818311</td>\n",
              "      <td>False</td>\n",
              "      <td>[Subject, :, enron, methanol, ;, meter, #, :, ...</td>\n",
              "      <td>[subject, :, enron, methanol, ;, meter, #, :, ...</td>\n",
              "      <td>[subject, nron, methanol, meter, follow, th, g...</td>\n",
              "      <td>[subject, nron, methanol, meter, follow, th, g...</td>\n",
              "      <td>[subject, nron, methanol, meter, follow, th, g...</td>\n",
              "      <td>1</td>\n",
              "    </tr>\n",
              "    <tr>\n",
              "      <th>1</th>\n",
              "      <td>2349</td>\n",
              "      <td>ham</td>\n",
              "      <td>Subject: hpl nom for january 9 , 2001\\r\\n( see...</td>\n",
              "      <td>0</td>\n",
              "      <td>0</td>\n",
              "      <td>0</td>\n",
              "      <td>0</td>\n",
              "      <td>[subject:, hpl, nom, january, attached, fil, h...</td>\n",
              "      <td>6.775000</td>\n",
              "      <td>False</td>\n",
              "      <td>[Subject, :, hpl, nom, for, january, 9, ,, 200...</td>\n",
              "      <td>[subject, :, hpl, nom, for, january, 9, ,, 200...</td>\n",
              "      <td>[subject, hpl, nom, january, attached, fil, hp...</td>\n",
              "      <td>[subject, hpl, nom, january, attached, fil, hp...</td>\n",
              "      <td>[subject, hpl, nom, januari, attach, fil, hpln...</td>\n",
              "      <td>0</td>\n",
              "    </tr>\n",
              "    <tr>\n",
              "      <th>2</th>\n",
              "      <td>3624</td>\n",
              "      <td>ham</td>\n",
              "      <td>Subject: neon retreat\\r\\nho ho ho , we ' re ar...</td>\n",
              "      <td>0</td>\n",
              "      <td>1</td>\n",
              "      <td>1</td>\n",
              "      <td>1</td>\n",
              "      <td>[subject:, neon, retreat, ho, ho, ho, around, ...</td>\n",
              "      <td>6.692322</td>\n",
              "      <td>False</td>\n",
              "      <td>[Subject, :, neon, retreat, ho, ho, ho, ,, we,...</td>\n",
              "      <td>[subject, :, neon, retreat, ho, ho, ho, ,, we,...</td>\n",
              "      <td>[subject, neon, retreat, ho, ho, ho, around, w...</td>\n",
              "      <td>[subject, neon, retreat, ho, ho, ho, around, w...</td>\n",
              "      <td>[subject, neon, retreat, ho, ho, ho, around, w...</td>\n",
              "      <td>0</td>\n",
              "    </tr>\n",
              "    <tr>\n",
              "      <th>3</th>\n",
              "      <td>4685</td>\n",
              "      <td>spam</td>\n",
              "      <td>Subject: photoshop , windows , office . cheap ...</td>\n",
              "      <td>1</td>\n",
              "      <td>0</td>\n",
              "      <td>1</td>\n",
              "      <td>1</td>\n",
              "      <td>[subject:, photoshop, windows, offic, cheap, m...</td>\n",
              "      <td>7.801136</td>\n",
              "      <td>True</td>\n",
              "      <td>[Subject, :, photoshop, ,, windows, ,, office,...</td>\n",
              "      <td>[subject, :, photoshop, ,, windows, ,, office,...</td>\n",
              "      <td>[subject, photoshop, windows, offic, cheap, ma...</td>\n",
              "      <td>[subject, photoshop, window, offic, cheap, mai...</td>\n",
              "      <td>[subject, photoshop, window, offic, cheap, mai...</td>\n",
              "      <td>1</td>\n",
              "    </tr>\n",
              "    <tr>\n",
              "      <th>4</th>\n",
              "      <td>2030</td>\n",
              "      <td>ham</td>\n",
              "      <td>Subject: re : indian springs\\r\\nthis deal is t...</td>\n",
              "      <td>0</td>\n",
              "      <td>0</td>\n",
              "      <td>1</td>\n",
              "      <td>1</td>\n",
              "      <td>[subject:, indian, springs, deal, book, th, te...</td>\n",
              "      <td>6.767004</td>\n",
              "      <td>False</td>\n",
              "      <td>[Subject, :, re, :, indian, springs, this, dea...</td>\n",
              "      <td>[subject, :, re, :, indian, springs, this, dea...</td>\n",
              "      <td>[subject, indian, springs, deal, book, th, tec...</td>\n",
              "      <td>[subject, indian, spring, deal, book, th, teco...</td>\n",
              "      <td>[subject, indian, spring, deal, book, th, teco...</td>\n",
              "      <td>0</td>\n",
              "    </tr>\n",
              "    <tr>\n",
              "      <th>...</th>\n",
              "      <td>...</td>\n",
              "      <td>...</td>\n",
              "      <td>...</td>\n",
              "      <td>...</td>\n",
              "      <td>...</td>\n",
              "      <td>...</td>\n",
              "      <td>...</td>\n",
              "      <td>...</td>\n",
              "      <td>...</td>\n",
              "      <td>...</td>\n",
              "      <td>...</td>\n",
              "      <td>...</td>\n",
              "      <td>...</td>\n",
              "      <td>...</td>\n",
              "      <td>...</td>\n",
              "      <td>...</td>\n",
              "    </tr>\n",
              "    <tr>\n",
              "      <th>5166</th>\n",
              "      <td>1518</td>\n",
              "      <td>ham</td>\n",
              "      <td>Subject: put the 10 on the ft\\r\\nthe transport...</td>\n",
              "      <td>0</td>\n",
              "      <td>0</td>\n",
              "      <td>1</td>\n",
              "      <td>1</td>\n",
              "      <td>[subject:, put, th, th, ft, th, transport, vol...</td>\n",
              "      <td>6.779789</td>\n",
              "      <td>False</td>\n",
              "      <td>[Subject, :, put, the, 10, on, the, ft, the, t...</td>\n",
              "      <td>[subject, :, put, the, 10, on, the, ft, the, t...</td>\n",
              "      <td>[subject, put, th, th, ft, th, transport, volu...</td>\n",
              "      <td>[subject, put, th, th, ft, th, transport, volu...</td>\n",
              "      <td>[subject, put, th, th, ft, th, transport, volu...</td>\n",
              "      <td>0</td>\n",
              "    </tr>\n",
              "    <tr>\n",
              "      <th>5167</th>\n",
              "      <td>404</td>\n",
              "      <td>ham</td>\n",
              "      <td>Subject: 3 / 4 / 2000 and following noms\\r\\nhp...</td>\n",
              "      <td>0</td>\n",
              "      <td>1</td>\n",
              "      <td>1</td>\n",
              "      <td>1</td>\n",
              "      <td>[subject:, following, noms, hpl, tak, th, xtra...</td>\n",
              "      <td>6.668791</td>\n",
              "      <td>False</td>\n",
              "      <td>[Subject, :, 3, /, 4, /, 2000, and, following,...</td>\n",
              "      <td>[subject, :, 3, /, 4, /, 2000, and, following,...</td>\n",
              "      <td>[subject, following, noms, hpl, tak, th, xtra,...</td>\n",
              "      <td>[subject, following, noms, hpl, tak, th, xtra,...</td>\n",
              "      <td>[subject, follow, nom, hpl, tak, th, xtra, mmc...</td>\n",
              "      <td>0</td>\n",
              "    </tr>\n",
              "    <tr>\n",
              "      <th>5168</th>\n",
              "      <td>2933</td>\n",
              "      <td>ham</td>\n",
              "      <td>Subject: calpine daily gas nomination\\r\\n&gt;\\r\\n...</td>\n",
              "      <td>0</td>\n",
              "      <td>0</td>\n",
              "      <td>0</td>\n",
              "      <td>0</td>\n",
              "      <td>[subject:, calpin, daily, gas, nomination, jul...</td>\n",
              "      <td>6.828676</td>\n",
              "      <td>False</td>\n",
              "      <td>[Subject, :, calpine, daily, gas, nomination, ...</td>\n",
              "      <td>[subject, :, calpine, daily, gas, nomination, ...</td>\n",
              "      <td>[subject, calpin, daily, gas, nomination, juli...</td>\n",
              "      <td>[subject, calpin, daily, gas, nomination, juli...</td>\n",
              "      <td>[subject, calpin, daili, ga, nomin, juli, ment...</td>\n",
              "      <td>0</td>\n",
              "    </tr>\n",
              "    <tr>\n",
              "      <th>5169</th>\n",
              "      <td>1409</td>\n",
              "      <td>ham</td>\n",
              "      <td>Subject: industrial worksheets for august 2000...</td>\n",
              "      <td>0</td>\n",
              "      <td>0</td>\n",
              "      <td>1</td>\n",
              "      <td>1</td>\n",
              "      <td>[subject:, industrial, worksheets, august, act...</td>\n",
              "      <td>7.225840</td>\n",
              "      <td>True</td>\n",
              "      <td>[Subject, :, industrial, worksheets, for, augu...</td>\n",
              "      <td>[subject, :, industrial, worksheets, for, augu...</td>\n",
              "      <td>[subject, industrial, worksheets, august, acti...</td>\n",
              "      <td>[subject, industrial, worksheet, august, activ...</td>\n",
              "      <td>[subject, industri, worksheet, august, activ, ...</td>\n",
              "      <td>1</td>\n",
              "    </tr>\n",
              "    <tr>\n",
              "      <th>5170</th>\n",
              "      <td>4807</td>\n",
              "      <td>spam</td>\n",
              "      <td>Subject: important online banking alert\\r\\ndea...</td>\n",
              "      <td>1</td>\n",
              "      <td>1</td>\n",
              "      <td>1</td>\n",
              "      <td>1</td>\n",
              "      <td>[subject:, important, onlin, banking, alert, d...</td>\n",
              "      <td>6.909502</td>\n",
              "      <td>False</td>\n",
              "      <td>[Subject, :, important, online, banking, alert...</td>\n",
              "      <td>[subject, :, important, online, banking, alert...</td>\n",
              "      <td>[subject, important, onlin, banking, alert, de...</td>\n",
              "      <td>[subject, important, onlin, banking, alert, de...</td>\n",
              "      <td>[subject, import, onlin, bank, alert, dear, va...</td>\n",
              "      <td>1</td>\n",
              "    </tr>\n",
              "  </tbody>\n",
              "</table>\n",
              "<p>5171 rows × 16 columns</p>\n",
              "</div>"
            ],
            "text/plain": [
              "      Unnamed: 0 label                                               text  \\\n",
              "0            605   ham  Subject: enron methanol ; meter # : 988291\\r\\n...   \n",
              "1           2349   ham  Subject: hpl nom for january 9 , 2001\\r\\n( see...   \n",
              "2           3624   ham  Subject: neon retreat\\r\\nho ho ho , we ' re ar...   \n",
              "3           4685  spam  Subject: photoshop , windows , office . cheap ...   \n",
              "4           2030   ham  Subject: re : indian springs\\r\\nthis deal is t...   \n",
              "...          ...   ...                                                ...   \n",
              "5166        1518   ham  Subject: put the 10 on the ft\\r\\nthe transport...   \n",
              "5167         404   ham  Subject: 3 / 4 / 2000 and following noms\\r\\nhp...   \n",
              "5168        2933   ham  Subject: calpine daily gas nomination\\r\\n>\\r\\n...   \n",
              "5169        1409   ham  Subject: industrial worksheets for august 2000...   \n",
              "5170        4807  spam  Subject: important online banking alert\\r\\ndea...   \n",
              "\n",
              "      label_num  model_without_nlp  model_rule_based  model_regex  \\\n",
              "0             0                  0                 1            1   \n",
              "1             0                  0                 0            0   \n",
              "2             0                  1                 1            1   \n",
              "3             1                  0                 1            1   \n",
              "4             0                  0                 1            1   \n",
              "...         ...                ...               ...          ...   \n",
              "5166          0                  0                 1            1   \n",
              "5167          0                  1                 1            1   \n",
              "5168          0                  0                 0            0   \n",
              "5169          0                  0                 1            1   \n",
              "5170          1                  1                 1            1   \n",
              "\n",
              "                                                  words  edit_distance  \\\n",
              "0     [subject:, nron, methanol, meter, follow, th, ...       6.818311   \n",
              "1     [subject:, hpl, nom, january, attached, fil, h...       6.775000   \n",
              "2     [subject:, neon, retreat, ho, ho, ho, around, ...       6.692322   \n",
              "3     [subject:, photoshop, windows, offic, cheap, m...       7.801136   \n",
              "4     [subject:, indian, springs, deal, book, th, te...       6.767004   \n",
              "...                                                 ...            ...   \n",
              "5166  [subject:, put, th, th, ft, th, transport, vol...       6.779789   \n",
              "5167  [subject:, following, noms, hpl, tak, th, xtra...       6.668791   \n",
              "5168  [subject:, calpin, daily, gas, nomination, jul...       6.828676   \n",
              "5169  [subject:, industrial, worksheets, august, act...       7.225840   \n",
              "5170  [subject:, important, onlin, banking, alert, d...       6.909502   \n",
              "\n",
              "      model_edit_distance                                        nltk_tokens  \\\n",
              "0                   False  [Subject, :, enron, methanol, ;, meter, #, :, ...   \n",
              "1                   False  [Subject, :, hpl, nom, for, january, 9, ,, 200...   \n",
              "2                   False  [Subject, :, neon, retreat, ho, ho, ho, ,, we,...   \n",
              "3                    True  [Subject, :, photoshop, ,, windows, ,, office,...   \n",
              "4                   False  [Subject, :, re, :, indian, springs, this, dea...   \n",
              "...                   ...                                                ...   \n",
              "5166                False  [Subject, :, put, the, 10, on, the, ft, the, t...   \n",
              "5167                False  [Subject, :, 3, /, 4, /, 2000, and, following,...   \n",
              "5168                False  [Subject, :, calpine, daily, gas, nomination, ...   \n",
              "5169                 True  [Subject, :, industrial, worksheets, for, augu...   \n",
              "5170                False  [Subject, :, important, online, banking, alert...   \n",
              "\n",
              "                                      nltk_lower_tokens  \\\n",
              "0     [subject, :, enron, methanol, ;, meter, #, :, ...   \n",
              "1     [subject, :, hpl, nom, for, january, 9, ,, 200...   \n",
              "2     [subject, :, neon, retreat, ho, ho, ho, ,, we,...   \n",
              "3     [subject, :, photoshop, ,, windows, ,, office,...   \n",
              "4     [subject, :, re, :, indian, springs, this, dea...   \n",
              "...                                                 ...   \n",
              "5166  [subject, :, put, the, 10, on, the, ft, the, t...   \n",
              "5167  [subject, :, 3, /, 4, /, 2000, and, following,...   \n",
              "5168  [subject, :, calpine, daily, gas, nomination, ...   \n",
              "5169  [subject, :, industrial, worksheets, for, augu...   \n",
              "5170  [subject, :, important, online, banking, alert...   \n",
              "\n",
              "                                             nltk_words  \\\n",
              "0     [subject, nron, methanol, meter, follow, th, g...   \n",
              "1     [subject, hpl, nom, january, attached, fil, hp...   \n",
              "2     [subject, neon, retreat, ho, ho, ho, around, w...   \n",
              "3     [subject, photoshop, windows, offic, cheap, ma...   \n",
              "4     [subject, indian, springs, deal, book, th, tec...   \n",
              "...                                                 ...   \n",
              "5166  [subject, put, th, th, ft, th, transport, volu...   \n",
              "5167  [subject, following, noms, hpl, tak, th, xtra,...   \n",
              "5168  [subject, calpin, daily, gas, nomination, juli...   \n",
              "5169  [subject, industrial, worksheets, august, acti...   \n",
              "5170  [subject, important, onlin, banking, alert, de...   \n",
              "\n",
              "                                                  lemma  \\\n",
              "0     [subject, nron, methanol, meter, follow, th, g...   \n",
              "1     [subject, hpl, nom, january, attached, fil, hp...   \n",
              "2     [subject, neon, retreat, ho, ho, ho, around, w...   \n",
              "3     [subject, photoshop, window, offic, cheap, mai...   \n",
              "4     [subject, indian, spring, deal, book, th, teco...   \n",
              "...                                                 ...   \n",
              "5166  [subject, put, th, th, ft, th, transport, volu...   \n",
              "5167  [subject, following, noms, hpl, tak, th, xtra,...   \n",
              "5168  [subject, calpin, daily, gas, nomination, juli...   \n",
              "5169  [subject, industrial, worksheet, august, activ...   \n",
              "5170  [subject, important, onlin, banking, alert, de...   \n",
              "\n",
              "                                                  stems  model_clean_regex  \n",
              "0     [subject, nron, methanol, meter, follow, th, g...                  1  \n",
              "1     [subject, hpl, nom, januari, attach, fil, hpln...                  0  \n",
              "2     [subject, neon, retreat, ho, ho, ho, around, w...                  0  \n",
              "3     [subject, photoshop, window, offic, cheap, mai...                  1  \n",
              "4     [subject, indian, spring, deal, book, th, teco...                  0  \n",
              "...                                                 ...                ...  \n",
              "5166  [subject, put, th, th, ft, th, transport, volu...                  0  \n",
              "5167  [subject, follow, nom, hpl, tak, th, xtra, mmc...                  0  \n",
              "5168  [subject, calpin, daili, ga, nomin, juli, ment...                  0  \n",
              "5169  [subject, industri, worksheet, august, activ, ...                  1  \n",
              "5170  [subject, import, onlin, bank, alert, dear, va...                  1  \n",
              "\n",
              "[5171 rows x 16 columns]"
            ]
          },
          "execution_count": 63,
          "metadata": {},
          "output_type": "execute_result"
        }
      ],
      "source": [
        "def clean_keyword_regex(text):\n",
        "  # copy your logic on section c-2.\n",
        "  # use clean_keywords instead of keywords\n",
        "  for keyword in clean_keywords:\n",
        "    for t in text:\n",
        "      if re.search(f\"{keyword}\\D+\", t, re.IGNORECASE):\n",
        "        return 1\n",
        "  return 0\n",
        "\n",
        "df[\"model_clean_regex\"] = df[\"stems\"].progress_apply(lambda txt: clean_keyword_regex(txt))\n",
        "df"
      ]
    },
    {
      "cell_type": "code",
      "execution_count": 64,
      "metadata": {
        "colab": {
          "base_uri": "https://localhost:8080/"
        },
        "id": "E3Ww1dnRi0Ro",
        "outputId": "2f42644f-124d-489b-f559-7d19c6e73411"
      },
      "outputs": [
        {
          "name": "stdout",
          "output_type": "stream",
          "text": [
            "total: 5171\n",
            "tp: 787, fp: 1344, fn: 712, tn: 2328\n",
            "precision: 0.3693101830126701, recall: 0.5250166777851901, f1: 0.4336088154269972\n"
          ]
        }
      ],
      "source": [
        "# previous\n",
        "# precision: 0.3321051338737411, recall: 0.9019346230820547, f1: 0.4854578096947935\n",
        "clean_regex_predicts = df[\"model_clean_regex\"].tolist()\n",
        "\n",
        "print_metrics(*confusion_matrix(real_labels, clean_regex_predicts))"
      ]
    },
    {
      "cell_type": "markdown",
      "metadata": {
        "id": "QnL586ILkMQ-"
      },
      "source": [
        "##### Edit distance"
      ]
    },
    {
      "cell_type": "code",
      "execution_count": 65,
      "metadata": {
        "colab": {
          "base_uri": "https://localhost:8080/",
          "height": 442
        },
        "id": "jS589AXUi59y",
        "outputId": "7d4fe59d-d9ca-4f64-bcc0-d03e05359512"
      },
      "outputs": [
        {
          "name": "stderr",
          "output_type": "stream",
          "text": [
            "Measuring edit distance: 100%|██████████| 5171/5171 [00:16<00:00, 309.43it/s]\n"
          ]
        },
        {
          "data": {
            "text/html": [
              "<div>\n",
              "<style scoped>\n",
              "    .dataframe tbody tr th:only-of-type {\n",
              "        vertical-align: middle;\n",
              "    }\n",
              "\n",
              "    .dataframe tbody tr th {\n",
              "        vertical-align: top;\n",
              "    }\n",
              "\n",
              "    .dataframe thead th {\n",
              "        text-align: right;\n",
              "    }\n",
              "</style>\n",
              "<table border=\"1\" class=\"dataframe\">\n",
              "  <thead>\n",
              "    <tr style=\"text-align: right;\">\n",
              "      <th></th>\n",
              "      <th>stems</th>\n",
              "      <th>clean_edit_distance</th>\n",
              "    </tr>\n",
              "  </thead>\n",
              "  <tbody>\n",
              "    <tr>\n",
              "      <th>0</th>\n",
              "      <td>[subject, nron, methanol, meter, follow, th, g...</td>\n",
              "      <td>6.585389</td>\n",
              "    </tr>\n",
              "    <tr>\n",
              "      <th>1</th>\n",
              "      <td>[subject, hpl, nom, januari, attach, fil, hpln...</td>\n",
              "      <td>6.661765</td>\n",
              "    </tr>\n",
              "    <tr>\n",
              "      <th>2</th>\n",
              "      <td>[subject, neon, retreat, ho, ho, ho, around, w...</td>\n",
              "      <td>6.503014</td>\n",
              "    </tr>\n",
              "    <tr>\n",
              "      <th>3</th>\n",
              "      <td>[subject, photoshop, window, offic, cheap, mai...</td>\n",
              "      <td>7.185829</td>\n",
              "    </tr>\n",
              "    <tr>\n",
              "      <th>4</th>\n",
              "      <td>[subject, indian, spring, deal, book, th, teco...</td>\n",
              "      <td>6.524816</td>\n",
              "    </tr>\n",
              "    <tr>\n",
              "      <th>...</th>\n",
              "      <td>...</td>\n",
              "      <td>...</td>\n",
              "    </tr>\n",
              "    <tr>\n",
              "      <th>5166</th>\n",
              "      <td>[subject, put, th, th, ft, th, transport, volu...</td>\n",
              "      <td>6.682127</td>\n",
              "    </tr>\n",
              "    <tr>\n",
              "      <th>5167</th>\n",
              "      <td>[subject, follow, nom, hpl, tak, th, xtra, mmc...</td>\n",
              "      <td>6.536601</td>\n",
              "    </tr>\n",
              "    <tr>\n",
              "      <th>5168</th>\n",
              "      <td>[subject, calpin, daili, ga, nomin, juli, ment...</td>\n",
              "      <td>6.527206</td>\n",
              "    </tr>\n",
              "    <tr>\n",
              "      <th>5169</th>\n",
              "      <td>[subject, industri, worksheet, august, activ, ...</td>\n",
              "      <td>6.805212</td>\n",
              "    </tr>\n",
              "    <tr>\n",
              "      <th>5170</th>\n",
              "      <td>[subject, import, onlin, bank, alert, dear, va...</td>\n",
              "      <td>6.591912</td>\n",
              "    </tr>\n",
              "  </tbody>\n",
              "</table>\n",
              "<p>5171 rows × 2 columns</p>\n",
              "</div>"
            ],
            "text/plain": [
              "                                                  stems  clean_edit_distance\n",
              "0     [subject, nron, methanol, meter, follow, th, g...             6.585389\n",
              "1     [subject, hpl, nom, januari, attach, fil, hpln...             6.661765\n",
              "2     [subject, neon, retreat, ho, ho, ho, around, w...             6.503014\n",
              "3     [subject, photoshop, window, offic, cheap, mai...             7.185829\n",
              "4     [subject, indian, spring, deal, book, th, teco...             6.524816\n",
              "...                                                 ...                  ...\n",
              "5166  [subject, put, th, th, ft, th, transport, volu...             6.682127\n",
              "5167  [subject, follow, nom, hpl, tak, th, xtra, mmc...             6.536601\n",
              "5168  [subject, calpin, daili, ga, nomin, juli, ment...             6.527206\n",
              "5169  [subject, industri, worksheet, august, activ, ...             6.805212\n",
              "5170  [subject, import, onlin, bank, alert, dear, va...             6.591912\n",
              "\n",
              "[5171 rows x 2 columns]"
            ]
          },
          "execution_count": 65,
          "metadata": {},
          "output_type": "execute_result"
        }
      ],
      "source": [
        "from tqdm import tqdm\n",
        "tqdm.pandas(desc=\"Measuring edit distance\")\n",
        "\n",
        "\n",
        "def clean_edit_distance_per_keyword(ws: List[str]):\n",
        "  # copy your logic on section c-3.\n",
        "  # use clean_keywords instead of keywords\n",
        "  distance = 0\n",
        "  for keyword in keywords:\n",
        "    for w in ws:\n",
        "      distance += f_edit_distance(keyword, w)\n",
        "  return distance / (len(keywords) * len(ws))\n",
        "\n",
        "df[\"clean_edit_distance\"] = df[\"stems\"].progress_apply(lambda txts: clean_edit_distance_per_keyword(txts))\n",
        "df.loc[:, [\"stems\", \"clean_edit_distance\"]]"
      ]
    },
    {
      "cell_type": "code",
      "execution_count": 66,
      "metadata": {
        "colab": {
          "base_uri": "https://localhost:8080/",
          "height": 452
        },
        "id": "gKRpsNIqjRjR",
        "outputId": "02487fc9-477b-4e31-edb4-0fdff3191f83"
      },
      "outputs": [
        {
          "data": {
            "image/png": "[encoded data removed]",
            "text/plain": [
              "<Figure size 640x480 with 1 Axes>"
            ]
          },
          "metadata": {},
          "output_type": "display_data"
        }
      ],
      "source": [
        "from matplotlib import pyplot as plt\n",
        "df['clean_edit_distance'].plot(kind='hist', bins=20, title='clean_edit_distance')\n",
        "plt.gca().spines[['top', 'right',]].set_visible(False)"
      ]
    },
    {
      "cell_type": "code",
      "execution_count": 67,
      "metadata": {
        "colab": {
          "base_uri": "https://localhost:8080/"
        },
        "id": "qCSMk_d_jT4t",
        "outputId": "cc0e138a-dd87-4575-fb34-63dcf197dac4"
      },
      "outputs": [
        {
          "name": "stdout",
          "output_type": "stream",
          "text": [
            "total: 5171\n",
            "tp: 1499, fp: 3672, fn: 0, tn: 0\n",
            "precision: 0.2898859021465867, recall: 1.0, f1: 0.4494752623688156\n"
          ]
        }
      ],
      "source": [
        "# previous\n",
        "# precision: 0.5656108597285068, recall: 0.41694462975316876, f1: 0.4800307219662059\n",
        "\n",
        "edit_distance_threshold = 6\n",
        "df[\"model_clean_edit_distance\"] = df['clean_edit_distance'] > edit_distance_threshold\n",
        "clean_edit_distance_predicts = df[\"model_clean_edit_distance\"].tolist()\n",
        "\n",
        "print_metrics(*confusion_matrix(real_labels, clean_edit_distance_predicts))"
      ]
    },
    {
      "cell_type": "markdown",
      "metadata": {
        "id": "qiU7TjkVAJZD"
      },
      "source": [
        "[4, 3, 1 ...] -> 각 단어간의 등장횟수 vector -> 특정벡터는 label 1로 판단"
      ]
    },
    {
      "cell_type": "markdown",
      "metadata": {
        "id": "SptSzgPe8IpE"
      },
      "source": [
        "## Implement with scikit-learn!\n",
        "\n",
        "* In this section we are going to use **counter vectorizer** to build a classifier.\n"
      ]
    },
    {
      "cell_type": "code",
      "execution_count": 68,
      "metadata": {
        "colab": {
          "base_uri": "https://localhost:8080/"
        },
        "id": "q-K40nTa8HFQ",
        "outputId": "26fdd097-e378-47b0-85b8-e280986f8c66"
      },
      "outputs": [
        {
          "name": "stdout",
          "output_type": "stream",
          "text": [
            "Help on class CountVectorizer in module sklearn.feature_extraction.text:\n",
            "\n",
            "class CountVectorizer(_VectorizerMixin, sklearn.base.BaseEstimator)\n",
            " |  CountVectorizer(*, input='content', encoding='utf-8', decode_error='strict', strip_accents=None, lowercase=True, preprocessor=None, tokenizer=None, stop_words=None, token_pattern='(?u)\\\\b\\\\w\\\\w+\\\\b', ngram_range=(1, 1), analyzer='word', max_df=1.0, min_df=1, max_features=None, vocabulary=None, binary=False, dtype=<class 'numpy.int64'>)\n",
            " |  \n",
            " |  Convert a collection of text documents to a matrix of token counts.\n",
            " |  \n",
            " |  This implementation produces a sparse representation of the counts using\n",
            " |  scipy.sparse.csr_matrix.\n",
            " |  \n",
            " |  If you do not provide an a-priori dictionary and you do not use an analyzer\n",
            " |  that does some kind of feature selection then the number of features will\n",
            " |  be equal to the vocabulary size found by analyzing the data.\n",
            " |  \n",
            " |  For an efficiency comparison of the different feature extractors, see\n",
            " |  :ref:`sphx_glr_auto_examples_text_plot_hashing_vs_dict_vectorizer.py`.\n",
            " |  \n",
            " |  Read more in the :ref:`User Guide <text_feature_extraction>`.\n",
            " |  \n",
            " |  Parameters\n",
            " |  ----------\n",
            " |  input : {'filename', 'file', 'content'}, default='content'\n",
            " |      - If `'filename'`, the sequence passed as an argument to fit is\n",
            " |        expected to be a list of filenames that need reading to fetch\n",
            " |        the raw content to analyze.\n",
            " |  \n",
            " |      - If `'file'`, the sequence items must have a 'read' method (file-like\n",
            " |        object) that is called to fetch the bytes in memory.\n",
            " |  \n",
            " |      - If `'content'`, the input is expected to be a sequence of items that\n",
            " |        can be of type string or byte.\n",
            " |  \n",
            " |  encoding : str, default='utf-8'\n",
            " |      If bytes or files are given to analyze, this encoding is used to\n",
            " |      decode.\n",
            " |  \n",
            " |  decode_error : {'strict', 'ignore', 'replace'}, default='strict'\n",
            " |      Instruction on what to do if a byte sequence is given to analyze that\n",
            " |      contains characters not of the given `encoding`. By default, it is\n",
            " |      'strict', meaning that a UnicodeDecodeError will be raised. Other\n",
            " |      values are 'ignore' and 'replace'.\n",
            " |  \n",
            " |  strip_accents : {'ascii', 'unicode'} or callable, default=None\n",
            " |      Remove accents and perform other character normalization\n",
            " |      during the preprocessing step.\n",
            " |      'ascii' is a fast method that only works on characters that have\n",
            " |      a direct ASCII mapping.\n",
            " |      'unicode' is a slightly slower method that works on any characters.\n",
            " |      None (default) means no character normalization is performed.\n",
            " |  \n",
            " |      Both 'ascii' and 'unicode' use NFKD normalization from\n",
            " |      :func:`unicodedata.normalize`.\n",
            " |  \n",
            " |  lowercase : bool, default=True\n",
            " |      Convert all characters to lowercase before tokenizing.\n",
            " |  \n",
            " |  preprocessor : callable, default=None\n",
            " |      Override the preprocessing (strip_accents and lowercase) stage while\n",
            " |      preserving the tokenizing and n-grams generation steps.\n",
            " |      Only applies if ``analyzer`` is not callable.\n",
            " |  \n",
            " |  tokenizer : callable, default=None\n",
            " |      Override the string tokenization step while preserving the\n",
            " |      preprocessing and n-grams generation steps.\n",
            " |      Only applies if ``analyzer == 'word'``.\n",
            " |  \n",
            " |  stop_words : {'english'}, list, default=None\n",
            " |      If 'english', a built-in stop word list for English is used.\n",
            " |      There are several known issues with 'english' and you should\n",
            " |      consider an alternative (see :ref:`stop_words`).\n",
            " |  \n",
            " |      If a list, that list is assumed to contain stop words, all of which\n",
            " |      will be removed from the resulting tokens.\n",
            " |      Only applies if ``analyzer == 'word'``.\n",
            " |  \n",
            " |      If None, no stop words will be used. In this case, setting `max_df`\n",
            " |      to a higher value, such as in the range (0.7, 1.0), can automatically detect\n",
            " |      and filter stop words based on intra corpus document frequency of terms.\n",
            " |  \n",
            " |  token_pattern : str or None, default=r\"(?u)\\\\b\\\\w\\\\w+\\\\b\"\n",
            " |      Regular expression denoting what constitutes a \"token\", only used\n",
            " |      if ``analyzer == 'word'``. The default regexp select tokens of 2\n",
            " |      or more alphanumeric characters (punctuation is completely ignored\n",
            " |      and always treated as a token separator).\n",
            " |  \n",
            " |      If there is a capturing group in token_pattern then the\n",
            " |      captured group content, not the entire match, becomes the token.\n",
            " |      At most one capturing group is permitted.\n",
            " |  \n",
            " |  ngram_range : tuple (min_n, max_n), default=(1, 1)\n",
            " |      The lower and upper boundary of the range of n-values for different\n",
            " |      word n-grams or char n-grams to be extracted. All values of n such\n",
            " |      such that min_n <= n <= max_n will be used. For example an\n",
            " |      ``ngram_range`` of ``(1, 1)`` means only unigrams, ``(1, 2)`` means\n",
            " |      unigrams and bigrams, and ``(2, 2)`` means only bigrams.\n",
            " |      Only applies if ``analyzer`` is not callable.\n",
            " |  \n",
            " |  analyzer : {'word', 'char', 'char_wb'} or callable, default='word'\n",
            " |      Whether the feature should be made of word n-gram or character\n",
            " |      n-grams.\n",
            " |      Option 'char_wb' creates character n-grams only from text inside\n",
            " |      word boundaries; n-grams at the edges of words are padded with space.\n",
            " |  \n",
            " |      If a callable is passed it is used to extract the sequence of features\n",
            " |      out of the raw, unprocessed input.\n",
            " |  \n",
            " |      .. versionchanged:: 0.21\n",
            " |  \n",
            " |      Since v0.21, if ``input`` is ``filename`` or ``file``, the data is\n",
            " |      first read from the file and then passed to the given callable\n",
            " |      analyzer.\n",
            " |  \n",
            " |  max_df : float in range [0.0, 1.0] or int, default=1.0\n",
            " |      When building the vocabulary ignore terms that have a document\n",
            " |      frequency strictly higher than the given threshold (corpus-specific\n",
            " |      stop words).\n",
            " |      If float, the parameter represents a proportion of documents, integer\n",
            " |      absolute counts.\n",
            " |      This parameter is ignored if vocabulary is not None.\n",
            " |  \n",
            " |  min_df : float in range [0.0, 1.0] or int, default=1\n",
            " |      When building the vocabulary ignore terms that have a document\n",
            " |      frequency strictly lower than the given threshold. This value is also\n",
            " |      called cut-off in the literature.\n",
            " |      If float, the parameter represents a proportion of documents, integer\n",
            " |      absolute counts.\n",
            " |      This parameter is ignored if vocabulary is not None.\n",
            " |  \n",
            " |  max_features : int, default=None\n",
            " |      If not None, build a vocabulary that only consider the top\n",
            " |      `max_features` ordered by term frequency across the corpus.\n",
            " |      Otherwise, all features are used.\n",
            " |  \n",
            " |      This parameter is ignored if vocabulary is not None.\n",
            " |  \n",
            " |  vocabulary : Mapping or iterable, default=None\n",
            " |      Either a Mapping (e.g., a dict) where keys are terms and values are\n",
            " |      indices in the feature matrix, or an iterable over terms. If not\n",
            " |      given, a vocabulary is determined from the input documents. Indices\n",
            " |      in the mapping should not be repeated and should not have any gap\n",
            " |      between 0 and the largest index.\n",
            " |  \n",
            " |  binary : bool, default=False\n",
            " |      If True, all non zero counts are set to 1. This is useful for discrete\n",
            " |      probabilistic models that model binary events rather than integer\n",
            " |      counts.\n",
            " |  \n",
            " |  dtype : dtype, default=np.int64\n",
            " |      Type of the matrix returned by fit_transform() or transform().\n",
            " |  \n",
            " |  Attributes\n",
            " |  ----------\n",
            " |  vocabulary_ : dict\n",
            " |      A mapping of terms to feature indices.\n",
            " |  \n",
            " |  fixed_vocabulary_ : bool\n",
            " |      True if a fixed vocabulary of term to indices mapping\n",
            " |      is provided by the user.\n",
            " |  \n",
            " |  See Also\n",
            " |  --------\n",
            " |  HashingVectorizer : Convert a collection of text documents to a\n",
            " |      matrix of token counts.\n",
            " |  \n",
            " |  TfidfVectorizer : Convert a collection of raw documents to a matrix\n",
            " |      of TF-IDF features.\n",
            " |  \n",
            " |  Examples\n",
            " |  --------\n",
            " |  >>> from sklearn.feature_extraction.text import CountVectorizer\n",
            " |  >>> corpus = [\n",
            " |  ...     'This is the first document.',\n",
            " |  ...     'This document is the second document.',\n",
            " |  ...     'And this is the third one.',\n",
            " |  ...     'Is this the first document?',\n",
            " |  ... ]\n",
            " |  >>> vectorizer = CountVectorizer()\n",
            " |  >>> X = vectorizer.fit_transform(corpus)\n",
            " |  >>> vectorizer.get_feature_names_out()\n",
            " |  array(['and', 'document', 'first', 'is', 'one', 'second', 'the', 'third',\n",
            " |         'this'], ...)\n",
            " |  >>> print(X.toarray())\n",
            " |  [[0 1 1 1 0 0 1 0 1]\n",
            " |   [0 2 0 1 0 1 1 0 1]\n",
            " |   [1 0 0 1 1 0 1 1 1]\n",
            " |   [0 1 1 1 0 0 1 0 1]]\n",
            " |  >>> vectorizer2 = CountVectorizer(analyzer='word', ngram_range=(2, 2))\n",
            " |  >>> X2 = vectorizer2.fit_transform(corpus)\n",
            " |  >>> vectorizer2.get_feature_names_out()\n",
            " |  array(['and this', 'document is', 'first document', 'is the', 'is this',\n",
            " |         'second document', 'the first', 'the second', 'the third', 'third one',\n",
            " |         'this document', 'this is', 'this the'], ...)\n",
            " |   >>> print(X2.toarray())\n",
            " |   [[0 0 1 1 0 0 1 0 0 0 0 1 0]\n",
            " |   [0 1 0 1 0 1 0 1 0 0 1 0 0]\n",
            " |   [1 0 0 1 0 0 0 0 1 1 0 1 0]\n",
            " |   [0 0 1 0 1 0 1 0 0 0 0 0 1]]\n",
            " |  \n",
            " |  Method resolution order:\n",
            " |      CountVectorizer\n",
            " |      _VectorizerMixin\n",
            " |      sklearn.base.BaseEstimator\n",
            " |      sklearn.utils._estimator_html_repr._HTMLDocumentationLinkMixin\n",
            " |      sklearn.utils._metadata_requests._MetadataRequester\n",
            " |      builtins.object\n",
            " |  \n",
            " |  Methods defined here:\n",
            " |  \n",
            " |  __init__(self, *, input='content', encoding='utf-8', decode_error='strict', strip_accents=None, lowercase=True, preprocessor=None, tokenizer=None, stop_words=None, token_pattern='(?u)\\\\b\\\\w\\\\w+\\\\b', ngram_range=(1, 1), analyzer='word', max_df=1.0, min_df=1, max_features=None, vocabulary=None, binary=False, dtype=<class 'numpy.int64'>)\n",
            " |      Initialize self.  See help(type(self)) for accurate signature.\n",
            " |  \n",
            " |  fit(self, raw_documents, y=None)\n",
            " |      Learn a vocabulary dictionary of all tokens in the raw documents.\n",
            " |      \n",
            " |      Parameters\n",
            " |      ----------\n",
            " |      raw_documents : iterable\n",
            " |          An iterable which generates either str, unicode or file objects.\n",
            " |      \n",
            " |      y : None\n",
            " |          This parameter is ignored.\n",
            " |      \n",
            " |      Returns\n",
            " |      -------\n",
            " |      self : object\n",
            " |          Fitted vectorizer.\n",
            " |  \n",
            " |  fit_transform(self, raw_documents, y=None)\n",
            " |      Learn the vocabulary dictionary and return document-term matrix.\n",
            " |      \n",
            " |      This is equivalent to fit followed by transform, but more efficiently\n",
            " |      implemented.\n",
            " |      \n",
            " |      Parameters\n",
            " |      ----------\n",
            " |      raw_documents : iterable\n",
            " |          An iterable which generates either str, unicode or file objects.\n",
            " |      \n",
            " |      y : None\n",
            " |          This parameter is ignored.\n",
            " |      \n",
            " |      Returns\n",
            " |      -------\n",
            " |      X : array of shape (n_samples, n_features)\n",
            " |          Document-term matrix.\n",
            " |  \n",
            " |  get_feature_names_out(self, input_features=None)\n",
            " |      Get output feature names for transformation.\n",
            " |      \n",
            " |      Parameters\n",
            " |      ----------\n",
            " |      input_features : array-like of str or None, default=None\n",
            " |          Not used, present here for API consistency by convention.\n",
            " |      \n",
            " |      Returns\n",
            " |      -------\n",
            " |      feature_names_out : ndarray of str objects\n",
            " |          Transformed feature names.\n",
            " |  \n",
            " |  inverse_transform(self, X)\n",
            " |      Return terms per document with nonzero entries in X.\n",
            " |      \n",
            " |      Parameters\n",
            " |      ----------\n",
            " |      X : {array-like, sparse matrix} of shape (n_samples, n_features)\n",
            " |          Document-term matrix.\n",
            " |      \n",
            " |      Returns\n",
            " |      -------\n",
            " |      X_inv : list of arrays of shape (n_samples,)\n",
            " |          List of arrays of terms.\n",
            " |  \n",
            " |  set_fit_request(self: sklearn.feature_extraction.text.CountVectorizer, *, raw_documents: Union[bool, NoneType, str] = '$UNCHANGED$') -> sklearn.feature_extraction.text.CountVectorizer\n",
            " |      Request metadata passed to the ``fit`` method.\n",
            " |      \n",
            " |      Note that this method is only relevant if\n",
            " |      ``enable_metadata_routing=True`` (see :func:`sklearn.set_config`).\n",
            " |      Please see :ref:`User Guide <metadata_routing>` on how the routing\n",
            " |      mechanism works.\n",
            " |      \n",
            " |      The options for each parameter are:\n",
            " |      \n",
            " |      - ``True``: metadata is requested, and passed to ``fit`` if provided. The request is ignored if metadata is not provided.\n",
            " |      \n",
            " |      - ``False``: metadata is not requested and the meta-estimator will not pass it to ``fit``.\n",
            " |      \n",
            " |      - ``None``: metadata is not requested, and the meta-estimator will raise an error if the user provides it.\n",
            " |      \n",
            " |      - ``str``: metadata should be passed to the meta-estimator with this given alias instead of the original name.\n",
            " |      \n",
            " |      The default (``sklearn.utils.metadata_routing.UNCHANGED``) retains the\n",
            " |      existing request. This allows you to change the request for some\n",
            " |      parameters and not others.\n",
            " |      \n",
            " |      .. versionadded:: 1.3\n",
            " |      \n",
            " |      .. note::\n",
            " |          This method is only relevant if this estimator is used as a\n",
            " |          sub-estimator of a meta-estimator, e.g. used inside a\n",
            " |          :class:`~sklearn.pipeline.Pipeline`. Otherwise it has no effect.\n",
            " |      \n",
            " |      Parameters\n",
            " |      ----------\n",
            " |      raw_documents : str, True, False, or None,                     default=sklearn.utils.metadata_routing.UNCHANGED\n",
            " |          Metadata routing for ``raw_documents`` parameter in ``fit``.\n",
            " |      \n",
            " |      Returns\n",
            " |      -------\n",
            " |      self : object\n",
            " |          The updated object.\n",
            " |  \n",
            " |  set_transform_request(self: sklearn.feature_extraction.text.CountVectorizer, *, raw_documents: Union[bool, NoneType, str] = '$UNCHANGED$') -> sklearn.feature_extraction.text.CountVectorizer\n",
            " |      Request metadata passed to the ``transform`` method.\n",
            " |      \n",
            " |      Note that this method is only relevant if\n",
            " |      ``enable_metadata_routing=True`` (see :func:`sklearn.set_config`).\n",
            " |      Please see :ref:`User Guide <metadata_routing>` on how the routing\n",
            " |      mechanism works.\n",
            " |      \n",
            " |      The options for each parameter are:\n",
            " |      \n",
            " |      - ``True``: metadata is requested, and passed to ``transform`` if provided. The request is ignored if metadata is not provided.\n",
            " |      \n",
            " |      - ``False``: metadata is not requested and the meta-estimator will not pass it to ``transform``.\n",
            " |      \n",
            " |      - ``None``: metadata is not requested, and the meta-estimator will raise an error if the user provides it.\n",
            " |      \n",
            " |      - ``str``: metadata should be passed to the meta-estimator with this given alias instead of the original name.\n",
            " |      \n",
            " |      The default (``sklearn.utils.metadata_routing.UNCHANGED``) retains the\n",
            " |      existing request. This allows you to change the request for some\n",
            " |      parameters and not others.\n",
            " |      \n",
            " |      .. versionadded:: 1.3\n",
            " |      \n",
            " |      .. note::\n",
            " |          This method is only relevant if this estimator is used as a\n",
            " |          sub-estimator of a meta-estimator, e.g. used inside a\n",
            " |          :class:`~sklearn.pipeline.Pipeline`. Otherwise it has no effect.\n",
            " |      \n",
            " |      Parameters\n",
            " |      ----------\n",
            " |      raw_documents : str, True, False, or None,                     default=sklearn.utils.metadata_routing.UNCHANGED\n",
            " |          Metadata routing for ``raw_documents`` parameter in ``transform``.\n",
            " |      \n",
            " |      Returns\n",
            " |      -------\n",
            " |      self : object\n",
            " |          The updated object.\n",
            " |  \n",
            " |  transform(self, raw_documents)\n",
            " |      Transform documents to document-term matrix.\n",
            " |      \n",
            " |      Extract token counts out of raw text documents using the vocabulary\n",
            " |      fitted with fit or the one provided to the constructor.\n",
            " |      \n",
            " |      Parameters\n",
            " |      ----------\n",
            " |      raw_documents : iterable\n",
            " |          An iterable which generates either str, unicode or file objects.\n",
            " |      \n",
            " |      Returns\n",
            " |      -------\n",
            " |      X : sparse matrix of shape (n_samples, n_features)\n",
            " |          Document-term matrix.\n",
            " |  \n",
            " |  ----------------------------------------------------------------------\n",
            " |  Data and other attributes defined here:\n",
            " |  \n",
            " |  __annotations__ = {'_parameter_constraints': <class 'dict'>}\n",
            " |  \n",
            " |  ----------------------------------------------------------------------\n",
            " |  Methods inherited from _VectorizerMixin:\n",
            " |  \n",
            " |  build_analyzer(self)\n",
            " |      Return a callable to process input data.\n",
            " |      \n",
            " |      The callable handles preprocessing, tokenization, and n-grams generation.\n",
            " |      \n",
            " |      Returns\n",
            " |      -------\n",
            " |      analyzer: callable\n",
            " |          A function to handle preprocessing, tokenization\n",
            " |          and n-grams generation.\n",
            " |  \n",
            " |  build_preprocessor(self)\n",
            " |      Return a function to preprocess the text before tokenization.\n",
            " |      \n",
            " |      Returns\n",
            " |      -------\n",
            " |      preprocessor: callable\n",
            " |            A function to preprocess the text before tokenization.\n",
            " |  \n",
            " |  build_tokenizer(self)\n",
            " |      Return a function that splits a string into a sequence of tokens.\n",
            " |      \n",
            " |      Returns\n",
            " |      -------\n",
            " |      tokenizer: callable\n",
            " |            A function to split a string into a sequence of tokens.\n",
            " |  \n",
            " |  decode(self, doc)\n",
            " |      Decode the input into a string of unicode symbols.\n",
            " |      \n",
            " |      The decoding strategy depends on the vectorizer parameters.\n",
            " |      \n",
            " |      Parameters\n",
            " |      ----------\n",
            " |      doc : bytes or str\n",
            " |          The string to decode.\n",
            " |      \n",
            " |      Returns\n",
            " |      -------\n",
            " |      doc: str\n",
            " |          A string of unicode symbols.\n",
            " |  \n",
            " |  get_stop_words(self)\n",
            " |      Build or fetch the effective stop words list.\n",
            " |      \n",
            " |      Returns\n",
            " |      -------\n",
            " |      stop_words: list or None\n",
            " |              A list of stop words.\n",
            " |  \n",
            " |  ----------------------------------------------------------------------\n",
            " |  Data descriptors inherited from _VectorizerMixin:\n",
            " |  \n",
            " |  __dict__\n",
            " |      dictionary for instance variables (if defined)\n",
            " |  \n",
            " |  __weakref__\n",
            " |      list of weak references to the object (if defined)\n",
            " |  \n",
            " |  ----------------------------------------------------------------------\n",
            " |  Methods inherited from sklearn.base.BaseEstimator:\n",
            " |  \n",
            " |  __getstate__(self)\n",
            " |  \n",
            " |  __repr__(self, N_CHAR_MAX=700)\n",
            " |      Return repr(self).\n",
            " |  \n",
            " |  __setstate__(self, state)\n",
            " |  \n",
            " |  __sklearn_clone__(self)\n",
            " |  \n",
            " |  get_params(self, deep=True)\n",
            " |      Get parameters for this estimator.\n",
            " |      \n",
            " |      Parameters\n",
            " |      ----------\n",
            " |      deep : bool, default=True\n",
            " |          If True, will return the parameters for this estimator and\n",
            " |          contained subobjects that are estimators.\n",
            " |      \n",
            " |      Returns\n",
            " |      -------\n",
            " |      params : dict\n",
            " |          Parameter names mapped to their values.\n",
            " |  \n",
            " |  set_params(self, **params)\n",
            " |      Set the parameters of this estimator.\n",
            " |      \n",
            " |      The method works on simple estimators as well as on nested objects\n",
            " |      (such as :class:`~sklearn.pipeline.Pipeline`). The latter have\n",
            " |      parameters of the form ``<component>__<parameter>`` so that it's\n",
            " |      possible to update each component of a nested object.\n",
            " |      \n",
            " |      Parameters\n",
            " |      ----------\n",
            " |      **params : dict\n",
            " |          Estimator parameters.\n",
            " |      \n",
            " |      Returns\n",
            " |      -------\n",
            " |      self : estimator instance\n",
            " |          Estimator instance.\n",
            " |  \n",
            " |  ----------------------------------------------------------------------\n",
            " |  Methods inherited from sklearn.utils._metadata_requests._MetadataRequester:\n",
            " |  \n",
            " |  get_metadata_routing(self)\n",
            " |      Get metadata routing of this object.\n",
            " |      \n",
            " |      Please check :ref:`User Guide <metadata_routing>` on how the routing\n",
            " |      mechanism works.\n",
            " |      \n",
            " |      Returns\n",
            " |      -------\n",
            " |      routing : MetadataRequest\n",
            " |          A :class:`~sklearn.utils.metadata_routing.MetadataRequest` encapsulating\n",
            " |          routing information.\n",
            " |  \n",
            " |  ----------------------------------------------------------------------\n",
            " |  Class methods inherited from sklearn.utils._metadata_requests._MetadataRequester:\n",
            " |  \n",
            " |  __init_subclass__(**kwargs) from builtins.type\n",
            " |      Set the ``set_{method}_request`` methods.\n",
            " |      \n",
            " |      This uses PEP-487 [1]_ to set the ``set_{method}_request`` methods. It\n",
            " |      looks for the information available in the set default values which are\n",
            " |      set using ``__metadata_request__*`` class attributes, or inferred\n",
            " |      from method signatures.\n",
            " |      \n",
            " |      The ``__metadata_request__*`` class attributes are used when a method\n",
            " |      does not explicitly accept a metadata through its arguments or if the\n",
            " |      developer would like to specify a request value for those metadata\n",
            " |      which are different from the default ``None``.\n",
            " |      \n",
            " |      References\n",
            " |      ----------\n",
            " |      .. [1] https://www.python.org/dev/peps/pep-0487\n",
            "\n"
          ]
        }
      ],
      "source": [
        "from sklearn.feature_extraction.text import CountVectorizer\n",
        "help(CountVectorizer)"
      ]
    },
    {
      "cell_type": "code",
      "execution_count": 69,
      "metadata": {
        "id": "o6i6x1jL8LA3"
      },
      "outputs": [],
      "source": [
        "# as we are trying to use regression, which requires training, we will split the dataset into train and test.\n",
        "\n",
        "from sklearn.model_selection import train_test_split\n",
        "train_X, test_X, train_y, test_y = train_test_split(df[\"text\"],df[\"label_num\"], test_size=0.2, random_state=10)"
      ]
    },
    {
      "cell_type": "code",
      "execution_count": 70,
      "metadata": {
        "colab": {
          "base_uri": "https://localhost:8080/"
        },
        "id": "oVFHht4nBt_C",
        "outputId": "d4ff2535-e7ef-4755-a702-30372cf0e66c"
      },
      "outputs": [
        {
          "data": {
            "text/plain": [
              "4136.8"
            ]
          },
          "execution_count": 70,
          "metadata": {},
          "output_type": "execute_result"
        }
      ],
      "source": [
        "len(df)*0.8"
      ]
    },
    {
      "cell_type": "code",
      "execution_count": 71,
      "metadata": {
        "colab": {
          "base_uri": "https://localhost:8080/"
        },
        "id": "YkNLmruHA4dU",
        "outputId": "da5e4185-354d-44eb-a67d-b68c0d3a4208"
      },
      "outputs": [
        {
          "data": {
            "text/plain": [
              "4164    Subject: enron / hpl actuals for sept . 11 , 2...\n",
              "113     Subject: mitchell gas services 2 / 00\\r\\n- - -...\n",
              "2697    Subject: jan . 01 sale to texas general land o...\n",
              "737     Subject: fw : crosstex energy , driscoll ranch...\n",
              "4214    Subject: no more anxiety ! valium % xanax are ...\n",
              "                              ...                        \n",
              "1180    Subject: re : may activity survey\\r\\nthanks , ...\n",
              "3441    Subject: hi paliourg all available meds . avai...\n",
              "1344    Subject: abazis @ iit . demokritos . gr : new ...\n",
              "4623    Subject: re : flow volumes at oxy gladewater ,...\n",
              "1289    Subject: calpine daily gas nomination\\r\\n>\\r\\n...\n",
              "Name: text, Length: 4136, dtype: object"
            ]
          },
          "execution_count": 71,
          "metadata": {},
          "output_type": "execute_result"
        }
      ],
      "source": [
        "train_X"
      ]
    },
    {
      "cell_type": "code",
      "execution_count": 72,
      "metadata": {
        "colab": {
          "base_uri": "https://localhost:8080/"
        },
        "id": "EL3RZnkrA78U",
        "outputId": "15c0558d-edf6-4d3a-9c18-6fea34d31f65"
      },
      "outputs": [
        {
          "data": {
            "text/plain": [
              "4164    0\n",
              "113     0\n",
              "2697    0\n",
              "737     0\n",
              "4214    1\n",
              "       ..\n",
              "1180    0\n",
              "3441    1\n",
              "1344    1\n",
              "4623    0\n",
              "1289    0\n",
              "Name: label_num, Length: 4136, dtype: int64"
            ]
          },
          "execution_count": 72,
          "metadata": {},
          "output_type": "execute_result"
        }
      ],
      "source": [
        "train_y # spam, non spam label"
      ]
    },
    {
      "cell_type": "code",
      "execution_count": 73,
      "metadata": {
        "id": "QGP5fhN28MGG"
      },
      "outputs": [],
      "source": [
        "vectorizer = CountVectorizer(stop_words='english', lowercase=True) # stop_words : 불용어 제거 언어 선택, lowercase : 대소문자 구분 없이"
      ]
    },
    {
      "cell_type": "code",
      "execution_count": 74,
      "metadata": {
        "colab": {
          "base_uri": "https://localhost:8080/"
        },
        "id": "Xb-yZD_ULSs9",
        "outputId": "7e001c32-2184-4e11-84e1-68d98071538c"
      },
      "outputs": [
        {
          "name": "stdout",
          "output_type": "stream",
          "text": [
            "['213423' '243' 'f24fsf245' 'fsdf' 'sdfsdf']\n"
          ]
        }
      ],
      "source": [
        "vectorizer.fit([\"fsdf 213423 sdfsdf 243 f24fsf245\"])\n",
        "print(vectorizer.get_feature_names_out())"
      ]
    },
    {
      "cell_type": "code",
      "execution_count": 75,
      "metadata": {
        "colab": {
          "base_uri": "https://localhost:8080/"
        },
        "id": "ihHhohST8M6x",
        "outputId": "45f5dd38-b42d-4d9f-b7c3-d6f27217c671"
      },
      "outputs": [
        {
          "name": "stdout",
          "output_type": "stream",
          "text": [
            "['00' '000' '0000' '000000' '000000000002858' '000080' '0001' '00018'\n",
            " '00020608' '0004' '0005' '0008' '001' '0010' '0012' '002' '0022' '00221'\n",
            " '0025' '0027']\n",
            "['zxgwvpiadobe' 'zxgwvpihere' 'zxgwvpiimg' 'zxgwvpimacromedia'\n",
            " 'zxgwvpimicrosoft' 'zxgwvpinorton' 'zxjcxz' 'zxklh' 'zxzmcnbf' 'zyban'\n",
            " 'zykfe' 'zyl' 'zynve' 'zyrtec' 'zyyqywp' 'zzn' 'zzo' 'zzocb' 'zzso'\n",
            " 'zzsyt']\n"
          ]
        }
      ],
      "source": [
        "# build vocabulary with training data and see what's in it.\n",
        "vectorizer.fit(train_X)\n",
        "print(vectorizer.get_feature_names_out()[0:20]) # get_feature_names_out()를 사용하면 CountVectorizer가 텍스트 데이터에서 추출한 고유 단어들의 목록 추출\n",
        "print(vectorizer.get_feature_names_out()[-20:])"
      ]
    },
    {
      "cell_type": "code",
      "execution_count": 76,
      "metadata": {
        "colab": {
          "base_uri": "https://localhost:8080/"
        },
        "id": "ekc4oebACJi7",
        "outputId": "9d49490c-ea21-4bea-ca89-253c1e0336d6"
      },
      "outputs": [
        {
          "data": {
            "text/plain": [
              "44268"
            ]
          },
          "execution_count": 76,
          "metadata": {},
          "output_type": "execute_result"
        }
      ],
      "source": [
        "len(vectorizer.get_feature_names_out())"
      ]
    },
    {
      "cell_type": "code",
      "execution_count": 77,
      "metadata": {
        "id": "KRJo4YTp8NxJ"
      },
      "outputs": [],
      "source": [
        "# vecotrize both train and test with the fit vectorizer\n",
        "train_X_vector = vectorizer.transform(train_X)\n",
        "test_X_vector = vectorizer.transform(test_X)"
      ]
    },
    {
      "cell_type": "code",
      "execution_count": 78,
      "metadata": {
        "colab": {
          "base_uri": "https://localhost:8080/"
        },
        "id": "Xr27Yq3n8OlC",
        "outputId": "92e8c99f-4327-4601-c0a4-780c82bf1c04"
      },
      "outputs": [
        {
          "name": "stdout",
          "output_type": "stream",
          "text": [
            "4164    Subject: enron / hpl actuals for sept . 11 , 2...\n",
            "113     Subject: mitchell gas services 2 / 00\\r\\n- - -...\n",
            "2697    Subject: jan . 01 sale to texas general land o...\n",
            "737     Subject: fw : crosstex energy , driscoll ranch...\n",
            "4214    Subject: no more anxiety ! valium % xanax are ...\n",
            "                              ...                        \n",
            "1180    Subject: re : may activity survey\\r\\nthanks , ...\n",
            "3441    Subject: hi paliourg all available meds . avai...\n",
            "1344    Subject: abazis @ iit . demokritos . gr : new ...\n",
            "4623    Subject: re : flow volumes at oxy gladewater ,...\n",
            "1289    Subject: calpine daily gas nomination\\r\\n>\\r\\n...\n",
            "Name: text, Length: 4136, dtype: object\n"
          ]
        }
      ],
      "source": [
        "print(train_X)"
      ]
    },
    {
      "cell_type": "code",
      "execution_count": 79,
      "metadata": {
        "colab": {
          "base_uri": "https://localhost:8080/"
        },
        "id": "8XHgsr-RNU4D",
        "outputId": "be6a8e93-94a9-4eb0-c692-208b6180b73c"
      },
      "outputs": [
        {
          "name": "stdout",
          "output_type": "stream",
          "text": [
            "Subject: enron / hpl actuals for sept . 11 , 2000\n",
            "teco tap 25 . 000 / enron ; 125 . 000 / hpl gas daily\n",
            "ls hpl lsk ic 15 . 000 / enron\n",
            "327\n"
          ]
        }
      ],
      "source": [
        "print(train_X[4164])\n",
        "print(len(train_X[0]))"
      ]
    },
    {
      "cell_type": "code",
      "execution_count": 80,
      "metadata": {
        "colab": {
          "base_uri": "https://localhost:8080/"
        },
        "id": "4omI1lOSP2oj",
        "outputId": "a83f6b6e-3506-49d0-c802-0465cde52683"
      },
      "outputs": [
        {
          "name": "stdout",
          "output_type": "stream",
          "text": [
            "['document' 'new' 'second']\n",
            "<Compressed Sparse Row sparse matrix of dtype 'int64'\n",
            "\twith 8 stored elements and shape (6, 3)>\n",
            "  Coords\tValues\n",
            "  (0, 0)\t1\n",
            "  (0, 1)\t1\n",
            "  (1, 0)\t1\n",
            "  (2, 0)\t2\n",
            "  (2, 2)\t1\n",
            "  (4, 0)\t1\n",
            "  (5, 0)\t1\n",
            "  (5, 1)\t1\n",
            "[[1 1 0]\n",
            " [1 0 0]\n",
            " [2 0 1]\n",
            " [0 0 0]\n",
            " [1 0 0]\n",
            " [1 1 0]]\n"
          ]
        }
      ],
      "source": [
        "# 예시\n",
        "from sklearn.feature_extraction.text import CountVectorizer\n",
        "\n",
        "# 예시 데이터\n",
        "ex_x = [\"This is a new document.\", \"This is the first document.\", \"This document is the second document.\", \"And this is the third one.\", \"Is this the first document?\", \"This is a new document.\"]\n",
        "\n",
        "# CountVectorizer 객체 생성 및 학습\n",
        "exvectorizer = CountVectorizer(stop_words='english', lowercase=True)\n",
        "exvectorizer.fit(ex_x)\n",
        "\n",
        "# 훈련 데이터 벡터화\n",
        "ex_x_vector = exvectorizer.transform(ex_x)\n",
        "print(exvectorizer.get_feature_names_out())\n",
        "print(ex_x_vector) # 단어 등장횟수를 벡터로\n",
        "print(ex_x_vector.toarray()) # row : 문장, col : courup"
      ]
    },
    {
      "cell_type": "code",
      "execution_count": 81,
      "metadata": {
        "colab": {
          "base_uri": "https://localhost:8080/"
        },
        "id": "I0z074dn8PXE",
        "outputId": "4a90e747-b9c7-4d73-e495-1be62c93864f"
      },
      "outputs": [
        {
          "name": "stdout",
          "output_type": "stream",
          "text": [
            "<Compressed Sparse Row sparse matrix of dtype 'int64'\n",
            "\twith 18 stored elements and shape (1, 44268)>\n",
            "  Coords\tValues\n",
            "  (0, 1)\t3\n",
            "  (0, 341)\t1\n",
            "  (0, 438)\t1\n",
            "  (0, 689)\t1\n",
            "  (0, 967)\t1\n",
            "  (0, 1222)\t1\n",
            "  (0, 4523)\t1\n",
            "  (0, 13473)\t1\n",
            "  (0, 16671)\t3\n",
            "  (0, 19293)\t1\n",
            "  (0, 21717)\t3\n",
            "  (0, 22059)\t1\n",
            "  (0, 26206)\t1\n",
            "  (0, 26214)\t1\n",
            "  (0, 36336)\t1\n",
            "  (0, 38409)\t1\n",
            "  (0, 39106)\t1\n",
            "  (0, 39271)\t1\n",
            "[0, 3, 0, 0, 0, 0, 0, 0, 0, 0]\n"
          ]
        }
      ],
      "source": [
        "print(train_X_vector[0])\n",
        "print(train_X_vector[0].toarray().tolist()[0][:10])"
      ]
    },
    {
      "cell_type": "code",
      "execution_count": 82,
      "metadata": {
        "colab": {
          "base_uri": "https://localhost:8080/"
        },
        "id": "VJEwptPq8Q_V",
        "outputId": "f6363c94-4bb1-4d8e-cffc-a0e218ebaebe"
      },
      "outputs": [
        {
          "data": {
            "text/plain": [
              "[array(['00', '000'], dtype='<U24')]"
            ]
          },
          "execution_count": 82,
          "metadata": {},
          "output_type": "execute_result"
        }
      ],
      "source": [
        "vectorizer.inverse_transform([[1, 30]])"
      ]
    },
    {
      "cell_type": "code",
      "execution_count": 83,
      "metadata": {
        "colab": {
          "base_uri": "https://localhost:8080/",
          "height": 75
        },
        "id": "5QP5KbDm8qqt",
        "outputId": "9123881b-6a05-44e8-bac1-90b1639a2a05"
      },
      "outputs": [
        {
          "data": {
            "text/html": [
              "<style>#sk-container-id-1 {\n",
              "  /* Definition of color scheme common for light and dark mode */\n",
              "  --sklearn-color-text: black;\n",
              "  --sklearn-color-line: gray;\n",
              "  /* Definition of color scheme for unfitted estimators */\n",
              "  --sklearn-color-unfitted-level-0: #fff5e6;\n",
              "  --sklearn-color-unfitted-level-1: #f6e4d2;\n",
              "  --sklearn-color-unfitted-level-2: #ffe0b3;\n",
              "  --sklearn-color-unfitted-level-3: chocolate;\n",
              "  /* Definition of color scheme for fitted estimators */\n",
              "  --sklearn-color-fitted-level-0: #f0f8ff;\n",
              "  --sklearn-color-fitted-level-1: #d4ebff;\n",
              "  --sklearn-color-fitted-level-2: #b3dbfd;\n",
              "  --sklearn-color-fitted-level-3: cornflowerblue;\n",
              "\n",
              "  /* Specific color for light theme */\n",
              "  --sklearn-color-text-on-default-background: var(--sg-text-color, var(--theme-code-foreground, var(--jp-content-font-color1, black)));\n",
              "  --sklearn-color-background: var(--sg-background-color, var(--theme-background, var(--jp-layout-color0, white)));\n",
              "  --sklearn-color-border-box: var(--sg-text-color, var(--theme-code-foreground, var(--jp-content-font-color1, black)));\n",
              "  --sklearn-color-icon: #696969;\n",
              "\n",
              "  @media (prefers-color-scheme: dark) {\n",
              "    /* Redefinition of color scheme for dark theme */\n",
              "    --sklearn-color-text-on-default-background: var(--sg-text-color, var(--theme-code-foreground, var(--jp-content-font-color1, white)));\n",
              "    --sklearn-color-background: var(--sg-background-color, var(--theme-background, var(--jp-layout-color0, #111)));\n",
              "    --sklearn-color-border-box: var(--sg-text-color, var(--theme-code-foreground, var(--jp-content-font-color1, white)));\n",
              "    --sklearn-color-icon: #878787;\n",
              "  }\n",
              "}\n",
              "\n",
              "#sk-container-id-1 {\n",
              "  color: var(--sklearn-color-text);\n",
              "}\n",
              "\n",
              "#sk-container-id-1 pre {\n",
              "  padding: 0;\n",
              "}\n",
              "\n",
              "#sk-container-id-1 input.sk-hidden--visually {\n",
              "  border: 0;\n",
              "  clip: rect(1px 1px 1px 1px);\n",
              "  clip: rect(1px, 1px, 1px, 1px);\n",
              "  height: 1px;\n",
              "  margin: -1px;\n",
              "  overflow: hidden;\n",
              "  padding: 0;\n",
              "  position: absolute;\n",
              "  width: 1px;\n",
              "}\n",
              "\n",
              "#sk-container-id-1 div.sk-dashed-wrapped {\n",
              "  border: 1px dashed var(--sklearn-color-line);\n",
              "  margin: 0 0.4em 0.5em 0.4em;\n",
              "  box-sizing: border-box;\n",
              "  padding-bottom: 0.4em;\n",
              "  background-color: var(--sklearn-color-background);\n",
              "}\n",
              "\n",
              "#sk-container-id-1 div.sk-container {\n",
              "  /* jupyter's `normalize.less` sets `[hidden] { display: none; }`\n",
              "     but bootstrap.min.css set `[hidden] { display: none !important; }`\n",
              "     so we also need the `!important` here to be able to override the\n",
              "     default hidden behavior on the sphinx rendered scikit-learn.org.\n",
              "     See: https://github.com/scikit-learn/scikit-learn/issues/21755 */\n",
              "  display: inline-block !important;\n",
              "  position: relative;\n",
              "}\n",
              "\n",
              "#sk-container-id-1 div.sk-text-repr-fallback {\n",
              "  display: none;\n",
              "}\n",
              "\n",
              "div.sk-parallel-item,\n",
              "div.sk-serial,\n",
              "div.sk-item {\n",
              "  /* draw centered vertical line to link estimators */\n",
              "  background-image: linear-gradient(var(--sklearn-color-text-on-default-background), var(--sklearn-color-text-on-default-background));\n",
              "  background-size: 2px 100%;\n",
              "  background-repeat: no-repeat;\n",
              "  background-position: center center;\n",
              "}\n",
              "\n",
              "/* Parallel-specific style estimator block */\n",
              "\n",
              "#sk-container-id-1 div.sk-parallel-item::after {\n",
              "  content: \"\";\n",
              "  width: 100%;\n",
              "  border-bottom: 2px solid var(--sklearn-color-text-on-default-background);\n",
              "  flex-grow: 1;\n",
              "}\n",
              "\n",
              "#sk-container-id-1 div.sk-parallel {\n",
              "  display: flex;\n",
              "  align-items: stretch;\n",
              "  justify-content: center;\n",
              "  background-color: var(--sklearn-color-background);\n",
              "  position: relative;\n",
              "}\n",
              "\n",
              "#sk-container-id-1 div.sk-parallel-item {\n",
              "  display: flex;\n",
              "  flex-direction: column;\n",
              "}\n",
              "\n",
              "#sk-container-id-1 div.sk-parallel-item:first-child::after {\n",
              "  align-self: flex-end;\n",
              "  width: 50%;\n",
              "}\n",
              "\n",
              "#sk-container-id-1 div.sk-parallel-item:last-child::after {\n",
              "  align-self: flex-start;\n",
              "  width: 50%;\n",
              "}\n",
              "\n",
              "#sk-container-id-1 div.sk-parallel-item:only-child::after {\n",
              "  width: 0;\n",
              "}\n",
              "\n",
              "/* Serial-specific style estimator block */\n",
              "\n",
              "#sk-container-id-1 div.sk-serial {\n",
              "  display: flex;\n",
              "  flex-direction: column;\n",
              "  align-items: center;\n",
              "  background-color: var(--sklearn-color-background);\n",
              "  padding-right: 1em;\n",
              "  padding-left: 1em;\n",
              "}\n",
              "\n",
              "\n",
              "/* Toggleable style: style used for estimator/Pipeline/ColumnTransformer box that is\n",
              "clickable and can be expanded/collapsed.\n",
              "- Pipeline and ColumnTransformer use this feature and define the default style\n",
              "- Estimators will overwrite some part of the style using the `sk-estimator` class\n",
              "*/\n",
              "\n",
              "/* Pipeline and ColumnTransformer style (default) */\n",
              "\n",
              "#sk-container-id-1 div.sk-toggleable {\n",
              "  /* Default theme specific background. It is overwritten whether we have a\n",
              "  specific estimator or a Pipeline/ColumnTransformer */\n",
              "  background-color: var(--sklearn-color-background);\n",
              "}\n",
              "\n",
              "/* Toggleable label */\n",
              "#sk-container-id-1 label.sk-toggleable__label {\n",
              "  cursor: pointer;\n",
              "  display: block;\n",
              "  width: 100%;\n",
              "  margin-bottom: 0;\n",
              "  padding: 0.5em;\n",
              "  box-sizing: border-box;\n",
              "  text-align: center;\n",
              "}\n",
              "\n",
              "#sk-container-id-1 label.sk-toggleable__label-arrow:before {\n",
              "  /* Arrow on the left of the label */\n",
              "  content: \"▸\";\n",
              "  float: left;\n",
              "  margin-right: 0.25em;\n",
              "  color: var(--sklearn-color-icon);\n",
              "}\n",
              "\n",
              "#sk-container-id-1 label.sk-toggleable__label-arrow:hover:before {\n",
              "  color: var(--sklearn-color-text);\n",
              "}\n",
              "\n",
              "/* Toggleable content - dropdown */\n",
              "\n",
              "#sk-container-id-1 div.sk-toggleable__content {\n",
              "  max-height: 0;\n",
              "  max-width: 0;\n",
              "  overflow: hidden;\n",
              "  text-align: left;\n",
              "  /* unfitted */\n",
              "  background-color: var(--sklearn-color-unfitted-level-0);\n",
              "}\n",
              "\n",
              "#sk-container-id-1 div.sk-toggleable__content.fitted {\n",
              "  /* fitted */\n",
              "  background-color: var(--sklearn-color-fitted-level-0);\n",
              "}\n",
              "\n",
              "#sk-container-id-1 div.sk-toggleable__content pre {\n",
              "  margin: 0.2em;\n",
              "  border-radius: 0.25em;\n",
              "  color: var(--sklearn-color-text);\n",
              "  /* unfitted */\n",
              "  background-color: var(--sklearn-color-unfitted-level-0);\n",
              "}\n",
              "\n",
              "#sk-container-id-1 div.sk-toggleable__content.fitted pre {\n",
              "  /* unfitted */\n",
              "  background-color: var(--sklearn-color-fitted-level-0);\n",
              "}\n",
              "\n",
              "#sk-container-id-1 input.sk-toggleable__control:checked~div.sk-toggleable__content {\n",
              "  /* Expand drop-down */\n",
              "  max-height: 200px;\n",
              "  max-width: 100%;\n",
              "  overflow: auto;\n",
              "}\n",
              "\n",
              "#sk-container-id-1 input.sk-toggleable__control:checked~label.sk-toggleable__label-arrow:before {\n",
              "  content: \"▾\";\n",
              "}\n",
              "\n",
              "/* Pipeline/ColumnTransformer-specific style */\n",
              "\n",
              "#sk-container-id-1 div.sk-label input.sk-toggleable__control:checked~label.sk-toggleable__label {\n",
              "  color: var(--sklearn-color-text);\n",
              "  background-color: var(--sklearn-color-unfitted-level-2);\n",
              "}\n",
              "\n",
              "#sk-container-id-1 div.sk-label.fitted input.sk-toggleable__control:checked~label.sk-toggleable__label {\n",
              "  background-color: var(--sklearn-color-fitted-level-2);\n",
              "}\n",
              "\n",
              "/* Estimator-specific style */\n",
              "\n",
              "/* Colorize estimator box */\n",
              "#sk-container-id-1 div.sk-estimator input.sk-toggleable__control:checked~label.sk-toggleable__label {\n",
              "  /* unfitted */\n",
              "  background-color: var(--sklearn-color-unfitted-level-2);\n",
              "}\n",
              "\n",
              "#sk-container-id-1 div.sk-estimator.fitted input.sk-toggleable__control:checked~label.sk-toggleable__label {\n",
              "  /* fitted */\n",
              "  background-color: var(--sklearn-color-fitted-level-2);\n",
              "}\n",
              "\n",
              "#sk-container-id-1 div.sk-label label.sk-toggleable__label,\n",
              "#sk-container-id-1 div.sk-label label {\n",
              "  /* The background is the default theme color */\n",
              "  color: var(--sklearn-color-text-on-default-background);\n",
              "}\n",
              "\n",
              "/* On hover, darken the color of the background */\n",
              "#sk-container-id-1 div.sk-label:hover label.sk-toggleable__label {\n",
              "  color: var(--sklearn-color-text);\n",
              "  background-color: var(--sklearn-color-unfitted-level-2);\n",
              "}\n",
              "\n",
              "/* Label box, darken color on hover, fitted */\n",
              "#sk-container-id-1 div.sk-label.fitted:hover label.sk-toggleable__label.fitted {\n",
              "  color: var(--sklearn-color-text);\n",
              "  background-color: var(--sklearn-color-fitted-level-2);\n",
              "}\n",
              "\n",
              "/* Estimator label */\n",
              "\n",
              "#sk-container-id-1 div.sk-label label {\n",
              "  font-family: monospace;\n",
              "  font-weight: bold;\n",
              "  display: inline-block;\n",
              "  line-height: 1.2em;\n",
              "}\n",
              "\n",
              "#sk-container-id-1 div.sk-label-container {\n",
              "  text-align: center;\n",
              "}\n",
              "\n",
              "/* Estimator-specific */\n",
              "#sk-container-id-1 div.sk-estimator {\n",
              "  font-family: monospace;\n",
              "  border: 1px dotted var(--sklearn-color-border-box);\n",
              "  border-radius: 0.25em;\n",
              "  box-sizing: border-box;\n",
              "  margin-bottom: 0.5em;\n",
              "  /* unfitted */\n",
              "  background-color: var(--sklearn-color-unfitted-level-0);\n",
              "}\n",
              "\n",
              "#sk-container-id-1 div.sk-estimator.fitted {\n",
              "  /* fitted */\n",
              "  background-color: var(--sklearn-color-fitted-level-0);\n",
              "}\n",
              "\n",
              "/* on hover */\n",
              "#sk-container-id-1 div.sk-estimator:hover {\n",
              "  /* unfitted */\n",
              "  background-color: var(--sklearn-color-unfitted-level-2);\n",
              "}\n",
              "\n",
              "#sk-container-id-1 div.sk-estimator.fitted:hover {\n",
              "  /* fitted */\n",
              "  background-color: var(--sklearn-color-fitted-level-2);\n",
              "}\n",
              "\n",
              "/* Specification for estimator info (e.g. \"i\" and \"?\") */\n",
              "\n",
              "/* Common style for \"i\" and \"?\" */\n",
              "\n",
              ".sk-estimator-doc-link,\n",
              "a:link.sk-estimator-doc-link,\n",
              "a:visited.sk-estimator-doc-link {\n",
              "  float: right;\n",
              "  font-size: smaller;\n",
              "  line-height: 1em;\n",
              "  font-family: monospace;\n",
              "  background-color: var(--sklearn-color-background);\n",
              "  border-radius: 1em;\n",
              "  height: 1em;\n",
              "  width: 1em;\n",
              "  text-decoration: none !important;\n",
              "  margin-left: 1ex;\n",
              "  /* unfitted */\n",
              "  border: var(--sklearn-color-unfitted-level-1) 1pt solid;\n",
              "  color: var(--sklearn-color-unfitted-level-1);\n",
              "}\n",
              "\n",
              ".sk-estimator-doc-link.fitted,\n",
              "a:link.sk-estimator-doc-link.fitted,\n",
              "a:visited.sk-estimator-doc-link.fitted {\n",
              "  /* fitted */\n",
              "  border: var(--sklearn-color-fitted-level-1) 1pt solid;\n",
              "  color: var(--sklearn-color-fitted-level-1);\n",
              "}\n",
              "\n",
              "/* On hover */\n",
              "div.sk-estimator:hover .sk-estimator-doc-link:hover,\n",
              ".sk-estimator-doc-link:hover,\n",
              "div.sk-label-container:hover .sk-estimator-doc-link:hover,\n",
              ".sk-estimator-doc-link:hover {\n",
              "  /* unfitted */\n",
              "  background-color: var(--sklearn-color-unfitted-level-3);\n",
              "  color: var(--sklearn-color-background);\n",
              "  text-decoration: none;\n",
              "}\n",
              "\n",
              "div.sk-estimator.fitted:hover .sk-estimator-doc-link.fitted:hover,\n",
              ".sk-estimator-doc-link.fitted:hover,\n",
              "div.sk-label-container:hover .sk-estimator-doc-link.fitted:hover,\n",
              ".sk-estimator-doc-link.fitted:hover {\n",
              "  /* fitted */\n",
              "  background-color: var(--sklearn-color-fitted-level-3);\n",
              "  color: var(--sklearn-color-background);\n",
              "  text-decoration: none;\n",
              "}\n",
              "\n",
              "/* Span, style for the box shown on hovering the info icon */\n",
              ".sk-estimator-doc-link span {\n",
              "  display: none;\n",
              "  z-index: 9999;\n",
              "  position: relative;\n",
              "  font-weight: normal;\n",
              "  right: .2ex;\n",
              "  padding: .5ex;\n",
              "  margin: .5ex;\n",
              "  width: min-content;\n",
              "  min-width: 20ex;\n",
              "  max-width: 50ex;\n",
              "  color: var(--sklearn-color-text);\n",
              "  box-shadow: 2pt 2pt 4pt #999;\n",
              "  /* unfitted */\n",
              "  background: var(--sklearn-color-unfitted-level-0);\n",
              "  border: .5pt solid var(--sklearn-color-unfitted-level-3);\n",
              "}\n",
              "\n",
              ".sk-estimator-doc-link.fitted span {\n",
              "  /* fitted */\n",
              "  background: var(--sklearn-color-fitted-level-0);\n",
              "  border: var(--sklearn-color-fitted-level-3);\n",
              "}\n",
              "\n",
              ".sk-estimator-doc-link:hover span {\n",
              "  display: block;\n",
              "}\n",
              "\n",
              "/* \"?\"-specific style due to the `<a>` HTML tag */\n",
              "\n",
              "#sk-container-id-1 a.estimator_doc_link {\n",
              "  float: right;\n",
              "  font-size: 1rem;\n",
              "  line-height: 1em;\n",
              "  font-family: monospace;\n",
              "  background-color: var(--sklearn-color-background);\n",
              "  border-radius: 1rem;\n",
              "  height: 1rem;\n",
              "  width: 1rem;\n",
              "  text-decoration: none;\n",
              "  /* unfitted */\n",
              "  color: var(--sklearn-color-unfitted-level-1);\n",
              "  border: var(--sklearn-color-unfitted-level-1) 1pt solid;\n",
              "}\n",
              "\n",
              "#sk-container-id-1 a.estimator_doc_link.fitted {\n",
              "  /* fitted */\n",
              "  border: var(--sklearn-color-fitted-level-1) 1pt solid;\n",
              "  color: var(--sklearn-color-fitted-level-1);\n",
              "}\n",
              "\n",
              "/* On hover */\n",
              "#sk-container-id-1 a.estimator_doc_link:hover {\n",
              "  /* unfitted */\n",
              "  background-color: var(--sklearn-color-unfitted-level-3);\n",
              "  color: var(--sklearn-color-background);\n",
              "  text-decoration: none;\n",
              "}\n",
              "\n",
              "#sk-container-id-1 a.estimator_doc_link.fitted:hover {\n",
              "  /* fitted */\n",
              "  background-color: var(--sklearn-color-fitted-level-3);\n",
              "}\n",
              "</style><div id=\"sk-container-id-1\" class=\"sk-top-container\"><div class=\"sk-text-repr-fallback\"><pre>LogisticRegression()</pre><b>In a Jupyter environment, please rerun this cell to show the HTML representation or trust the notebook. <br />On GitHub, the HTML representation is unable to render, please try loading this page with nbviewer.org.</b></div><div class=\"sk-container\" hidden><div class=\"sk-item\"><div class=\"sk-estimator fitted sk-toggleable\"><input class=\"sk-toggleable__control sk-hidden--visually\" id=\"sk-estimator-id-1\" type=\"checkbox\" checked><label for=\"sk-estimator-id-1\" class=\"sk-toggleable__label fitted sk-toggleable__label-arrow fitted\">&nbsp;&nbsp;LogisticRegression<a class=\"sk-estimator-doc-link fitted\" rel=\"noreferrer\" target=\"_blank\" href=\"https://scikit-learn.org/1.5/modules/generated/sklearn.linear_model.LogisticRegression.html\">?<span>Documentation for LogisticRegression</span></a><span class=\"sk-estimator-doc-link fitted\">i<span>Fitted</span></span></label><div class=\"sk-toggleable__content fitted\"><pre>LogisticRegression()</pre></div> </div></div></div></div>"
            ],
            "text/plain": [
              "LogisticRegression()"
            ]
          },
          "execution_count": 83,
          "metadata": {},
          "output_type": "execute_result"
        }
      ],
      "source": [
        "# we are going to use simple model.\n",
        "# regression model draws a line based on the number of words being mentioned in the mail.\n",
        "\n",
        "# build a logistic regression model\n",
        "from sklearn.linear_model import LogisticRegression\n",
        "model = LogisticRegression()\n",
        "model.fit(train_X_vector, train_y)"
      ]
    },
    {
      "cell_type": "code",
      "execution_count": 84,
      "metadata": {
        "colab": {
          "base_uri": "https://localhost:8080/"
        },
        "id": "wztAIGpl8rsi",
        "outputId": "61fdf165-5d51-442c-a9cf-6fdbbecb8536"
      },
      "outputs": [
        {
          "data": {
            "text/plain": [
              "array([0, 0, 0, ..., 1, 0, 0])"
            ]
          },
          "execution_count": 84,
          "metadata": {},
          "output_type": "execute_result"
        }
      ],
      "source": [
        "y_pred_train = model.predict(train_X_vector)\n",
        "y_pred_test = model.predict(test_X_vector)\n",
        "\n",
        "y_pred_train"
      ]
    },
    {
      "cell_type": "code",
      "execution_count": 85,
      "metadata": {
        "colab": {
          "base_uri": "https://localhost:8080/"
        },
        "id": "3d8CGMtR8sc7",
        "outputId": "36267a1a-9248-4513-9d40-5c599d5904e3"
      },
      "outputs": [
        {
          "name": "stdout",
          "output_type": "stream",
          "text": [
            "              precision    recall  f1-score   support\n",
            "\n",
            "           0       1.00      1.00      1.00      2931\n",
            "           1       1.00      1.00      1.00      1205\n",
            "\n",
            "    accuracy                           1.00      4136\n",
            "   macro avg       1.00      1.00      1.00      4136\n",
            "weighted avg       1.00      1.00      1.00      4136\n",
            "\n",
            "[[2930    1]\n",
            " [   1 1204]]\n"
          ]
        }
      ],
      "source": [
        "from sklearn.metrics import classification_report, confusion_matrix\n",
        "\n",
        "# training dataset score\n",
        "print(classification_report(y_pred_train, train_y))\n",
        "print(confusion_matrix(y_pred_train, train_y))"
      ]
    },
    {
      "cell_type": "code",
      "execution_count": 86,
      "metadata": {
        "colab": {
          "base_uri": "https://localhost:8080/"
        },
        "id": "QP_LWghb8tNS",
        "outputId": "a49d3c62-e1dc-4c0a-f5c7-9b97cefdd184"
      },
      "outputs": [
        {
          "name": "stdout",
          "output_type": "stream",
          "text": [
            "              precision    recall  f1-score   support\n",
            "\n",
            "           0       0.98      0.99      0.99       730\n",
            "           1       0.99      0.95      0.97       305\n",
            "\n",
            "    accuracy                           0.98      1035\n",
            "   macro avg       0.98      0.97      0.98      1035\n",
            "weighted avg       0.98      0.98      0.98      1035\n",
            "\n",
            "[[726   4]\n",
            " [ 15 290]]\n"
          ]
        }
      ],
      "source": [
        "# test dataset score\n",
        "print(classification_report(y_pred_test, test_y))\n",
        "print(confusion_matrix(y_pred_test, test_y))"
      ]
    }
  ],
  "metadata": {
    "accelerator": "GPU",
    "colab": {
      "gpuType": "T4",
      "include_colab_link": true,
      "provenance": []
    },
    "kernelspec": {
      "display_name": "Python 3",
      "name": "python3"
    },
    "language_info": {
      "codemirror_mode": {
        "name": "ipython",
        "version": 3
      },
      "file_extension": ".py",
      "mimetype": "text/x-python",
      "name": "python",
      "nbconvert_exporter": "python",
      "pygments_lexer": "ipython3",
      "version": "3.10.14"
    }
  },
  "nbformat": 4,
  "nbformat_minor": 0
}

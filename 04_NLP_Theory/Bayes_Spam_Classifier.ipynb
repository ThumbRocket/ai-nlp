{
  "cells": [
    {
      "cell_type": "markdown",
      "metadata": {
        "id": "RuKqne9uLhwK"
      },
      "source": [
        "## Bayes Classifier\n",
        "The Bayes Classifier is a fundamental probabilistic model in machine learning that applies Bayes' Theorem to predict the category or class of a given data point. It leverages prior knowledge along with observed data to calculate the probability of each class, ultimately assigning the data point to the class with the highest probability. This approach is particularly powerful in scenarios where the relationships between features and the class label are probabilistic and uncertain. The Bayes Classifier is known for its simplicity, computational efficiency, and effectiveness in a variety of applications, including text classification, spam filtering, and sentiment analysis.\n",
        "\n",
        "Contents of this section:\n",
        "*   Implementing simplified rule-base spam classifier (recap)\n",
        "*   Implementing binary naive Bayes classifier (no smoothing)\n",
        "*   Implementing binary naive Bayes classifier (Laplace smoothing)\n",
        "*   Observe the effect of Laplace smoothing"
      ]
    },
    {
      "cell_type": "markdown",
      "metadata": {
        "id": "GicPOtSPLpdj"
      },
      "source": [
        "### Setting Environment"
      ]
    },
    {
      "cell_type": "code",
      "execution_count": 1,
      "metadata": {
        "colab": {
          "base_uri": "https://localhost:8080/"
        },
        "id": "nHbo3S7mNo5c",
        "outputId": "b6b8ae9c-86e1-43f8-e45b-50a407eb66fa"
      },
      "outputs": [
        {
          "name": "stderr",
          "output_type": "stream",
          "text": [
            "[nltk_data] Downloading package stopwords to /home/devrok/nltk_data...\n",
            "[nltk_data]   Package stopwords is already up-to-date!\n"
          ]
        },
        {
          "data": {
            "text/plain": [
              "True"
            ]
          },
          "execution_count": 1,
          "metadata": {},
          "output_type": "execute_result"
        }
      ],
      "source": [
        "import nltk\n",
        "nltk.download('stopwords')"
      ]
    },
    {
      "cell_type": "code",
      "execution_count": 2,
      "metadata": {
        "colab": {
          "base_uri": "https://localhost:8080/"
        },
        "id": "ZwJjJnJ_LsJT",
        "outputId": "a5b8c32b-1275-4fdc-d955-49891a5ade29"
      },
      "outputs": [
        {
          "name": "stdout",
          "output_type": "stream",
          "text": [
            "--2024-08-15 03:32:26--  https://drive.google.com/uc?id=1Ua1q2hOfN25B6H8PDWXl4yViE_cNj3mp\n",
            "Resolving drive.google.com (drive.google.com)... 142.250.207.110, 2404:6800:400a:805::200e\n",
            "Connecting to drive.google.com (drive.google.com)|142.250.207.110|:443... connected.\n",
            "HTTP request sent, awaiting response... 303 See Other\n",
            "Location: https://drive.usercontent.google.com/download?id=1Ua1q2hOfN25B6H8PDWXl4yViE_cNj3mp [following]\n",
            "--2024-08-15 03:32:26--  https://drive.usercontent.google.com/download?id=1Ua1q2hOfN25B6H8PDWXl4yViE_cNj3mp\n",
            "Resolving drive.usercontent.google.com (drive.usercontent.google.com)... 142.250.76.129, 2404:6800:400a:804::2001\n",
            "Connecting to drive.usercontent.google.com (drive.usercontent.google.com)|142.250.76.129|:443... connected.\n",
            "HTTP request sent, awaiting response... 200 OK\n",
            "Length: 5500631 (5.2M) [application/octet-stream]\n",
            "Saving to: ‘spam_dataset.tsv’\n",
            "\n",
            "spam_dataset.tsv    100%[===================>]   5.25M  15.6MB/s    in 0.3s    \n",
            "\n",
            "2024-08-15 03:32:30 (15.6 MB/s) - ‘spam_dataset.tsv’ saved [5500631/5500631]\n",
            "\n"
          ]
        }
      ],
      "source": [
        "!wget -O spam_dataset.tsv https://drive.google.com/uc?id=1Ua1q2hOfN25B6H8PDWXl4yViE_cNj3mp"
      ]
    },
    {
      "cell_type": "code",
      "execution_count": 2,
      "metadata": {
        "colab": {
          "base_uri": "https://localhost:8080/",
          "height": 423
        },
        "collapsed": true,
        "id": "ZQFxuYMOLttr",
        "outputId": "5996fc7c-7cca-43a2-d74b-6e0a137fcda6"
      },
      "outputs": [
        {
          "data": {
            "text/html": [
              "<div>\n",
              "<style scoped>\n",
              "    .dataframe tbody tr th:only-of-type {\n",
              "        vertical-align: middle;\n",
              "    }\n",
              "\n",
              "    .dataframe tbody tr th {\n",
              "        vertical-align: top;\n",
              "    }\n",
              "\n",
              "    .dataframe thead th {\n",
              "        text-align: right;\n",
              "    }\n",
              "</style>\n",
              "<table border=\"1\" class=\"dataframe\">\n",
              "  <thead>\n",
              "    <tr style=\"text-align: right;\">\n",
              "      <th></th>\n",
              "      <th>Unnamed: 0</th>\n",
              "      <th>label</th>\n",
              "      <th>text</th>\n",
              "      <th>label_num</th>\n",
              "    </tr>\n",
              "  </thead>\n",
              "  <tbody>\n",
              "    <tr>\n",
              "      <th>0</th>\n",
              "      <td>605</td>\n",
              "      <td>ham</td>\n",
              "      <td>Subject: enron methanol ; meter # : 988291\\r\\n...</td>\n",
              "      <td>0</td>\n",
              "    </tr>\n",
              "    <tr>\n",
              "      <th>1</th>\n",
              "      <td>2349</td>\n",
              "      <td>ham</td>\n",
              "      <td>Subject: hpl nom for january 9 , 2001\\r\\n( see...</td>\n",
              "      <td>0</td>\n",
              "    </tr>\n",
              "    <tr>\n",
              "      <th>2</th>\n",
              "      <td>3624</td>\n",
              "      <td>ham</td>\n",
              "      <td>Subject: neon retreat\\r\\nho ho ho , we ' re ar...</td>\n",
              "      <td>0</td>\n",
              "    </tr>\n",
              "    <tr>\n",
              "      <th>3</th>\n",
              "      <td>4685</td>\n",
              "      <td>spam</td>\n",
              "      <td>Subject: photoshop , windows , office . cheap ...</td>\n",
              "      <td>1</td>\n",
              "    </tr>\n",
              "    <tr>\n",
              "      <th>4</th>\n",
              "      <td>2030</td>\n",
              "      <td>ham</td>\n",
              "      <td>Subject: re : indian springs\\r\\nthis deal is t...</td>\n",
              "      <td>0</td>\n",
              "    </tr>\n",
              "    <tr>\n",
              "      <th>...</th>\n",
              "      <td>...</td>\n",
              "      <td>...</td>\n",
              "      <td>...</td>\n",
              "      <td>...</td>\n",
              "    </tr>\n",
              "    <tr>\n",
              "      <th>5166</th>\n",
              "      <td>1518</td>\n",
              "      <td>ham</td>\n",
              "      <td>Subject: put the 10 on the ft\\r\\nthe transport...</td>\n",
              "      <td>0</td>\n",
              "    </tr>\n",
              "    <tr>\n",
              "      <th>5167</th>\n",
              "      <td>404</td>\n",
              "      <td>ham</td>\n",
              "      <td>Subject: 3 / 4 / 2000 and following noms\\r\\nhp...</td>\n",
              "      <td>0</td>\n",
              "    </tr>\n",
              "    <tr>\n",
              "      <th>5168</th>\n",
              "      <td>2933</td>\n",
              "      <td>ham</td>\n",
              "      <td>Subject: calpine daily gas nomination\\r\\n&gt;\\r\\n...</td>\n",
              "      <td>0</td>\n",
              "    </tr>\n",
              "    <tr>\n",
              "      <th>5169</th>\n",
              "      <td>1409</td>\n",
              "      <td>ham</td>\n",
              "      <td>Subject: industrial worksheets for august 2000...</td>\n",
              "      <td>0</td>\n",
              "    </tr>\n",
              "    <tr>\n",
              "      <th>5170</th>\n",
              "      <td>4807</td>\n",
              "      <td>spam</td>\n",
              "      <td>Subject: important online banking alert\\r\\ndea...</td>\n",
              "      <td>1</td>\n",
              "    </tr>\n",
              "  </tbody>\n",
              "</table>\n",
              "<p>5171 rows × 4 columns</p>\n",
              "</div>"
            ],
            "text/plain": [
              "      Unnamed: 0 label                                               text  \\\n",
              "0            605   ham  Subject: enron methanol ; meter # : 988291\\r\\n...   \n",
              "1           2349   ham  Subject: hpl nom for january 9 , 2001\\r\\n( see...   \n",
              "2           3624   ham  Subject: neon retreat\\r\\nho ho ho , we ' re ar...   \n",
              "3           4685  spam  Subject: photoshop , windows , office . cheap ...   \n",
              "4           2030   ham  Subject: re : indian springs\\r\\nthis deal is t...   \n",
              "...          ...   ...                                                ...   \n",
              "5166        1518   ham  Subject: put the 10 on the ft\\r\\nthe transport...   \n",
              "5167         404   ham  Subject: 3 / 4 / 2000 and following noms\\r\\nhp...   \n",
              "5168        2933   ham  Subject: calpine daily gas nomination\\r\\n>\\r\\n...   \n",
              "5169        1409   ham  Subject: industrial worksheets for august 2000...   \n",
              "5170        4807  spam  Subject: important online banking alert\\r\\ndea...   \n",
              "\n",
              "      label_num  \n",
              "0             0  \n",
              "1             0  \n",
              "2             0  \n",
              "3             1  \n",
              "4             0  \n",
              "...         ...  \n",
              "5166          0  \n",
              "5167          0  \n",
              "5168          0  \n",
              "5169          0  \n",
              "5170          1  \n",
              "\n",
              "[5171 rows x 4 columns]"
            ]
          },
          "execution_count": 2,
          "metadata": {},
          "output_type": "execute_result"
        }
      ],
      "source": [
        "import pandas as pd\n",
        "import numpy as np\n",
        "from sklearn.model_selection import train_test_split\n",
        "import matplotlib.pyplot as plt\n",
        "import seaborn as sns\n",
        "\n",
        "df = pd.read_csv('spam_dataset.tsv', sep=\"\\t\")\n",
        "df"
      ]
    },
    {
      "cell_type": "code",
      "execution_count": 4,
      "metadata": {
        "id": "zEMG6UYBLvLy"
      },
      "outputs": [],
      "source": [
        "X = df['text']\n",
        "y = df['label_num']\n",
        "\n",
        "X_train, X_test, y_train, y_test = train_test_split(X, y, test_size=0.2, random_state=42)"
      ]
    },
    {
      "cell_type": "code",
      "execution_count": 5,
      "metadata": {
        "colab": {
          "base_uri": "https://localhost:8080/"
        },
        "id": "Dqepb0EMNxCd",
        "outputId": "8d04c4ee-d01a-4b40-ea1b-48c6ec336e33"
      },
      "outputs": [
        {
          "data": {
            "text/plain": [
              "[('Subject: april activity surveys\\r\\nwe are starting to collect data for april . the attached survey drives your\\r\\ncosts from your activities to the commercial teams . please select your rcs ,\\r\\nand fill in the driver quantity for the requested driver for the month of\\r\\nfebruary . please fill out the attached activity driver survey with april\\r\\nnumbers for your rc by end of day thursday , may 4 th .\\r\\nif your group currently generates a standard report that captures the\\r\\nsurveyed data , please send the report to me , and put me on your recipient\\r\\nlist beginning next month . this will eliminate your need to fill out this\\r\\nsurvey every month . if you would like us to collect this information from\\r\\nsomeone within your team beginning next month , let me know .\\r\\nplease contact me or lisa cousino x 3 - 6343 if you are unable to complete the\\r\\nsurvey within the allotted time .\\r\\nthanks ,\\r\\nshari\\r\\n3 - 3859',\n",
              "  0),\n",
              " (\"Subject: message subject\\r\\nhey i ' am julie ^ _ ^ . i just turned 18 - high school senior in houston , tx . i was waiting for such a long time until this day . i finally got my wish . . i am just simply trying to show off and meet new cyber friends . and who knows where that can lead to ; d . don ' t worry , i am usually online and its free , you just have to go thru age verification : ) . i can ' t have youngers snooping around hehe .\\r\\nhttp : / / oioaz . stuntscholar . com / ju 2 /\",\n",
              "  1)]"
            ]
          },
          "execution_count": 5,
          "metadata": {},
          "output_type": "execute_result"
        }
      ],
      "source": [
        "list(zip(X_train, y_train))[:2]"
      ]
    },
    {
      "cell_type": "markdown",
      "metadata": {
        "id": "VJbOzEILLw_L"
      },
      "source": [
        "## Practice: Spam Filtering"
      ]
    },
    {
      "cell_type": "code",
      "execution_count": 6,
      "metadata": {
        "colab": {
          "base_uri": "https://localhost:8080/"
        },
        "id": "MeQbTj6MmCt0",
        "outputId": "c18c52e2-b1fd-487e-a954-5b38be0e6c89"
      },
      "outputs": [
        {
          "name": "stdout",
          "output_type": "stream",
          "text": [
            "['win', 'free', 'iphone']\n"
          ]
        }
      ],
      "source": [
        "import re\n",
        "from collections import defaultdict, Counter\n",
        "from nltk.corpus import stopwords\n",
        "\n",
        "def tokenize(text):\n",
        "    output =  re.findall(r'\\b\\w+\\b', text.lower())\n",
        "    # remove stopword\n",
        "    output = [word for word in output if word not in stopwords.words('english')]\n",
        "    return output\n",
        "\n",
        "\n",
        "# Example\n",
        "print(tokenize(\"Win a free iPhone now\"))  # Output: ['win', 'a', 'free', 'iphone', 'now']"
      ]
    },
    {
      "cell_type": "code",
      "execution_count": 7,
      "metadata": {
        "colab": {
          "base_uri": "https://localhost:8080/"
        },
        "id": "CySShWXxwX1c",
        "outputId": "6a51e064-31fb-4ea5-ca0b-03f8179943e6"
      },
      "outputs": [
        {
          "data": {
            "text/plain": [
              "[('Subject: april activity surveys\\r\\nwe are starting to collect data for april . the attached survey drives your\\r\\ncosts from your activities to the commercial teams . please select your rcs ,\\r\\nand fill in the driver quantity for the requested driver for the month of\\r\\nfebruary . please fill out the attached activity driver survey with april\\r\\nnumbers for your rc by end of day thursday , may 4 th .\\r\\nif your group currently generates a standard report that captures the\\r\\nsurveyed data , please send the report to me , and put me on your recipient\\r\\nlist beginning next month . this will eliminate your need to fill out this\\r\\nsurvey every month . if you would like us to collect this information from\\r\\nsomeone within your team beginning next month , let me know .\\r\\nplease contact me or lisa cousino x 3 - 6343 if you are unable to complete the\\r\\nsurvey within the allotted time .\\r\\nthanks ,\\r\\nshari\\r\\n3 - 3859',\n",
              "  0),\n",
              " (\"Subject: message subject\\r\\nhey i ' am julie ^ _ ^ . i just turned 18 - high school senior in houston , tx . i was waiting for such a long time until this day . i finally got my wish . . i am just simply trying to show off and meet new cyber friends . and who knows where that can lead to ; d . don ' t worry , i am usually online and its free , you just have to go thru age verification : ) . i can ' t have youngers snooping around hehe .\\r\\nhttp : / / oioaz . stuntscholar . com / ju 2 /\",\n",
              "  1)]"
            ]
          },
          "execution_count": 7,
          "metadata": {},
          "output_type": "execute_result"
        }
      ],
      "source": [
        "list(zip(X_train, y_train))[:2]"
      ]
    },
    {
      "cell_type": "markdown",
      "metadata": {
        "id": "65evDwYrZY1e"
      },
      "source": [
        "### Rule-based Classifier and Evaluation\n"
      ]
    },
    {
      "cell_type": "code",
      "execution_count": 8,
      "metadata": {
        "id": "7u0C51c3Zm-2"
      },
      "outputs": [],
      "source": [
        "def keyword_classify(document, keywords=['million','millions']):\n",
        "    words = tokenize(document)\n",
        "    # DIY\n",
        "    # return 1 if the words include keyword, 0 otherwise\n",
        "    return 1 if any(keyword in words for keyword in keywords) else 0"
      ]
    },
    {
      "cell_type": "code",
      "execution_count": 9,
      "metadata": {
        "colab": {
          "base_uri": "https://localhost:8080/"
        },
        "id": "7trjYiHonNHK",
        "outputId": "0012f0db-ef36-4c81-ed67-3ea376e75bbd"
      },
      "outputs": [
        {
          "name": "stdout",
          "output_type": "stream",
          "text": [
            "Spam\n"
          ]
        }
      ],
      "source": [
        "example = 'Congratulations! You won a millions dollars!'\n",
        "result = keyword_classify(example)\n",
        "if result == 1:\n",
        "    print(\"Spam\")\n",
        "else:\n",
        "    print(\"Not Spam\")"
      ]
    },
    {
      "cell_type": "markdown",
      "metadata": {
        "id": "_IwkAI4uqYXD"
      },
      "source": [
        "![image.png](data:image/png;base64,iVBORw0KGgoAAAANSUhEUgAAAu0AAAGvCAYAAADvxuudAAAAAXNSR0IArs4c6QAAAARnQU1BAACxjwv8YQUAAAAJcEhZcwAADsMAAA7DAcdvqGQAAP+lSURBVHhe7H0HYBzF9f6nK+rVvTdcwYAbxqZX03sPBAIEkgAhhJpGAn8ghF8SICGh19B7r6aaZoxtim1w7129t9Pd/31vd06r80mWZFmWrPmkd7s7O21nZ2e+eftmNiEigIWFhYWFhYWFhYVFh4XP3VpYWFhYWFhYWFhYdFBY0m5hYWFhYWFhYWHRwWFJu4WFhYWFhYWFhUUHh7Vpt7CwsNgJYZr2tmriw+GwxuWNLzbuhIQEd699YNKPTbel+TD+uTVi4o69xraANz3vtikwH83xZ2FhsfPCknYLCwuLnRDbg3R64+K+kfZGLHk1x22Vl8bibyuY+GK3jSH2uto6PxYWFp0DlrRbWFhY7IQwTXtbNPGMg5r2uro63RIkjl4xbgYtSdcbrjF444v1Hy/8tlx3c+LfFpj4Yrfx0Nh1tHWeLCwsOj4sabewsLDYSeBtzrlPYtdUE+8lfvH8rVu3DmVlZSgoKNDt8OHDMWjQIPh8PqxcuRLLly/HsGHD0KdPHyQmJrqhHGyta2EcsWgqDP0zvxw0bNq0SdNOT09HXl4eunXrhrFjx8Lv97u+66/fhImFOR8MBvX65s6di/LyclRXV+s1TZo0SQcpbQmmadIlTH7NcTw0ViZNhbGwsNg5YUm7hYWFRQcFCen777+PoqIi9O7dG4FAQIklJSsrC7vtthv69++PzMzMKCHcVnjjeOaZZ/DCCy/glVdeQVpaGu644w6ce+652Lx5M4488kgsW7YM559/Pv76179qfmJJrjdPJN0kqTwmiTYk3MDrNx4MyWfYWbNm4aOPPsLjjz+ORYsWKcF+8sknlWzHgmkw7OzZs/HBBx9g/fr1SE5OxsiRI3HQQQcpYWe6jz76KB544AG9hmuvvRa33XZbm5J2c30U5skr5trioakyYVgLC4uuA7t6jIWFhUUHBQnl/Pnzcc011+Dkk0/Gb37zGyXK3333HS655BIcffTRuPDCC7FgwQIlcF5i2BTZI0h+SUpDoZBuKXTzhjvllFNw9dVXo1+/fqisrNTBAv1QG819hq2trVWJRzy9xJTxkuz/5z//UWEYunn9ULzwujNdCgcuU6dOxc9//nPsueee6q+qqgqpqam6b2Di4nUxvQMPPBBffPEFpk2bpvLll19qeA5CSOD//Oc/Y5dddlHNe3FxMSoqKjR8S2DyyrKIFZMf7nPwwuvglscWFhYWzYFtLSwsLCw6KEgmf/e73+Hggw/W4yFDhuC6667D7bffjvPOOw9r1qxRTfjbb7+t59saJJXUYpMQG0JPskkzmVdffRX/+te/cPHFF6NXr1563pBTQ1QZniSYpjMUmqDceOONSpBJmkmMOQAgjH8eU5iOIcEUnuOW52pqavTNw4ABA9SdAwDG7/Vv4vzDH/6Ayy+/XM1nbrnlFuy777447LDDcP/99+s2NzcXOTk56Nu3rxJ8hqUmPnYQEA/0a/JNmLyzLLx5odBPSUmJDjCai8YGXiZOCwuLrgVL2i0sLCw6IEjYSP5ot01yS1JaWFiIDRs2KKGl5jglJUX90oyGdt4khAsXLlTh/rfffoslS5ZoOEOk6ffTTz9Vc5KZM2cqaWV8JNfcUuj21Vdf4bXXXsMPP/ygYQj6ISmlW8+ePZX0kjwzfyS8BMkk7c3ffPNNvPjii7pPLT3zx3iYF9rHc8u4SLh5nQTfGHz88ccq3PeC5UHNPt3feecdfPLJJ0re6d4YuaW/Rx55RPN96qmnYvfdd1eCTv8sCw4g+BaB18trMOXNcmXeSLTpxmtgWTz11FP4/PPP9Q2IIerME8uabx4+/PBDvPvuu+qHYczbhPz8fH07Mn36dL02avx5b2JhrsWIIeaGpBuxsLDomrCk3cLCwqITgCSTJJW24wS17CS/1AgPHDhQbbZJSqlRPvzww/H3v/9dTWr22GMPtdEmSKKPOuoo3HDDDSgtLcWJJ56IY445Bp999pmeJwGlHTvDnHXWWWqa8+9//1tt6gmjQWY8fAtAm/qf/exnSvSNJvkvf/mLhqf9OAkq83Prrbfi5Zdfxn//+18lxQTjveqqq9QmnXHSDIdp8q0B499rr7003zRV4bUvXboUxx57rA5WaMvO+N966y2Ni/lmHmLBtwG8TpJ2vh1g/s0AgWD+r7/+eiXXJOrc8loZH/2RyF922WVqjsMBDgcrTP+EE05Q23gSdeb9T3/6k94DpkeyznxPnjxZ02Y8V155pZYzbfFZpr///e9x9tlnNzBLohiybuAl7hYWFhZsFCwsLCwsOhiExEWE0On+oYceGklKSopMmTIlsnDhwsgrr7wSEVIYSUtLiwiBjKxbt079/fnPf44IKY5kZGREHnnkkcivfvUrMsDI0UcfHZk7d25kwoQJkcTExMi3334bEWIaufDCC/X8pEmTInl5eZEZM2ZEevXqFRECHnn66acjQmIjX375ZaRPnz4RIY8RGQhoOqtWrYqceeaZGpZxVldXq7uQ00hycnJk77331uP7779fwwlxj8ybNy8ihFzzzPxNnz49UlhYqP5uuummiAw+Iscff3xEiHJkzpw5ERmcaD6EoEdkMBD5yU9+EhFirmUhgxUNd9ppp0WE0EeGDBmicfGavCJEWfPYvXv3yPvvv6/l6ZWCggKNh8jNzdUyZRosF177O++8ExHCr3EIaVf/o0eP1uNbbrlF75EMMCJ9+/bV+7NgwQKNi9uTTjpJr4Xne/TooWW4evVqPS/kXa9VBmFRYXoU5pt5Y9wWFhYWXlhNu4WFhUUnwTfffIN//OMfatpCO/KXXnoJDz74oJp4EFyOkdp4apapHeZE0tNPPx2/+MUv8PXXX6tNubT7avpCMw4u20hwgig1x++9957ujxgxAvvss49qr6mhFhKp4Wjmwi3Tocac6VDzTy37jz/+qFpypm9s8IXgqnaceRk1apRqs6mdZjjuc0UamqZw5RZqtQnautO8hPHTtpzabeb3jTfegBBj1WAzHM1XzHUbxGqlmV+DeLbkNJUxk065zziFNOtbBF47tf18I0D7d+aHK/lQG8/rpRad5cLrZ3iG/elPf4pLL71U9//2t79pfhkfzYJ4nZw8TBt7ltE///nPBlp2CsvWiIWFhUUsLGm3sLCw6AQgIaU5B00rnnvuOV2G8ZBDDkGPHj2USNJUhkSS+yScJMVc0pDmLvRH0k4zExJJksq1a9fqyjNPPPGErq7CQcCcOXOifkhiSXTNhEySVoohwvTHPNEPt7RZJ3EnIe/evbvmZ8KECWoLTrMYgmHplzbhXNudfklcGZbuzD8HElzCkksucqLraaedpudoesNr23XXXZX4M4904zlebzyQUDMNpss15wn6NyBRph9eI4m1uRYOXEisuf47By8cONDsh4MJgnnmHAOmywEKhbb9HBTdc889autPcs4y4Ao/XB6TAxAOPGgqRBMlXhvJeWNk3RJ3CwuLWFjSbmFhYdEJQHKXnZ2t5JCkm+SSGl8SSIIkPSMjQ8ke3Uk6GYb+SBjpxmP6mTJliq76Qpt32lYfcMABGjeJMP2QFJPoMhzjZ1wktIyb6RDUIJO4c0theIJ5o103Cb7xS+JMITFmHNSUc+lKglpqQ1xp/37BBRdons4880xdIYfXy7AMQ38E9wnmj+d4bdx6CTnBuOiHaXBCLs97yTCv86677sK8efM0DpYNr8No/bkyDwn23XffrXFxFRqmzbRI9hme18HVfKiRP+ecc3TdfA5KSNA54Xfjxo36RoTnjzvuOLV95+Dk6aef1rzEEwsLC4t4sKTdwsLCogOCBJOkmGYVXKmFxJnacRJCo+U2BI/H3i3PUUguqWGmRphEnVp5rj7DVVCoBSZJX7x4Me69914ll9TMk2jTZIQfLyJ5Xb16tYZnWgzDeE0aJPKG2NMUhuufE5y0SZLM/DDPNAXh6in0Q/8m/7wWfhCJE1AJmuxQW03iTxJNcxROZqXmnm8ZmAeu0GKum/miMH1j6uMFr+eMM87Q/ccee0zNdxi3CU8y/eyzz+pggFp1ljVXtWHa1KTTVIdmQ1wOkm8NqJHnSjAcpNAPCTzjJamnKQ0nyNLEiHnlWwGWPzXr/GgTV6/hWwe+JeFbBsZDeMvT7BuYfFpYWFgQ/hu4jICFhYWFRYcDiR1NV2jiQmJJIUGlNpfmLCR5dCOBpAkHSSNXJyGppD+SQ5JiY1ZCsxPah1OzPGPGDDVnoZkNNb/8yBDtxUmuuRINiTfNVki+6ZeDBpJQklljv07NOck+10sfP368kmtqnmlmY1ZbobaaGmlqzkl6GY4Dge+//17j4Yo3FJJurq5CdxJ3LtfI1WH4AaRDDz1UBwx0p4kKV87hsolc9YbheH0056EWm1tDfknoGTfPU+vNZSJXrFiheePqOpwjQO05zVuYT4p5Q8HyIoFnWXHgw3JhHDSd4WCG18a8sYxuvvlmDcPyJvGn9p62/FdccYWWJVeX4f3gPeP5hx9+WE2TaDpjyLp34GXcjFhYWFgQCTKSt0N5CwsLiw4ILodIskhQE0ytL4nzuHHjMGbMGHUnGSTR4/rlJL3GTIVLF5LsctIo/ZDAUoNOsknTDO7TxOOII47Q5QhJbKmFpt/XX39dNdo0F6GmetWqVUq8SYjNIIDEnIMHEn6mT9MPmsSQRJMck+CSaJOsM37mm90N46IWn9dC7TWFJjB8A8C13amp5psFEnAurcjrZHoMT8JOTTU1/Mcff7wOIDhwILlmXrjU5ODBg/X6SaIJXjevi4Sf+eL1U9u/9957q605w/FtAE16qPlnOTNOEnBqzFkWTJf5ueiii5S0880EByi0d+dghWVBd2759oJuJORMh24k9iwnDpj4toNmQCx3njeIJemxxxYWFhaWtFtYWFh0YpCcGi1tY2Az39bkj3EaYmy0wwY8ZySWeG5vEso0zTY27Y4Cbx7NvoHJb3uWmYWFReeAJe0WFhYWnRhswncEqWO6hrTTPMcLnjPCvLUnAWWaREcmuiaPrUFrrys2zY5cPhYWFvFhSbuFhYWFRYvBrsN0H7Gafu85kkNLEJuH1nbHzSnf2LjtPbGw6HywpN3CwsLCosXwdh3xCODWzls0Dm/ZxeuiY8tza+XbVDdv742FRedB04aQFhYWFhYWcUCyZ6QpWFLYctgys7CwiAerabewsLCwsOhgiNW2N0bkm0vwY7t6OzCwsOh8sKTdwsLCwsKiA6E53bIl3RYWXQ+WtFtYWFhYWOwAWHJuYWHRElibdgsLCwsLi3YEybol7BYWFi2F1bRbWFhYWGw3WHK6JWyZWFhYtAaWtFtYWFhYbDfwA0zsZkxXQzLqla4IS9otLCxaA2seY2FhYWGxXUByStLuFasnsoTcwsKidbCadgsLCwuL7YKIkPS6ujqERAiSVX49NeD3IyHmK6oWFhYWFk3DtpoWFhYWFq2C0aQ3pvuJhCOOeDTuciDCk44fCwsLC4vmwZJ2CwsLC4vthriE3Tnh7jQfjKuxAYKFhYXFzg5L2i0sLCwstgtI1IORBKTVAOkivpo6+DkB1T2/NTSqwbfE3cLCogvCknYLCwsLi1ajyUmVQq4Twj6s+uAr3HHZ7xCsqIXP55cTEsYSbwsLC4sWwZJ2CwsLC4vtAofQ+5BaFUZ6tRD4qlo9joWazsSAE1hjNerWPMbCwqIrw5J2CwsLC4tWgaTcSDz46C4kO8zVY+rCqKsR0i5batq95JsrysSCbvHcLSwsLLoqbItoYWFhYdH2EE6u1usk67UhRGRbU1Hlkvato0mzGwsLC4suCEvaLSwsLCy2DxKki6mLCGmnpj2C2spq3SqhjyQgVFMb1wzGwJjDmPNerX5jYSwsLCx2VljSbmFhYWGxfaDmMUDYkPaqGiDEpR/d84LocpAxICk357wE3etuYWFh0ZVgSbuFhYWFxTaBlDpWFFSKC8lWTXtItjUhYenOKXoKBIMIivj9XFGmIahRpzvF2LbTjfvG3cLCwqIrwZJ2CwsLC4tWI0rQ44EEXfi63xVUU+PuultFuYWFhUWLYEm7hYWFhUWLsIVGPR54MiRSE0ZJbj7SA8lIqBSHECen8lwYkVrZ1EYQkv1w2ImN5i+0cw+FQluYwPCY5ywsLCy6Iixpt7CwsLDYJnhJvBH9qRBWXlyu25SIH2Ub8oGyGoDLtQtRrzNkPUKzF2eCqTGBIRoj7Za4W1hYdEVY0m5hYWFh0WooQY8HZe9+RNbnomDdJoSKK1CwYh1QKCSeCCYiEKR9Otdjdwi7gbFnj12nPRAIqNj12y0sLLoibMtnYWFhYbHNUI7u7MLHHSrDq8JY8MVsFBYWITklFXmr1qNs0XLHnp29j3B18m9q22trqUGv16x7Ne5e0I3nLCwsLLoaLGm3sLCwsGgzKGGvEsmtQM1n3+C7j75AVv8+GH/I/vDXRjD7vU+ARRuASvEjfsm//X754brtoTrU1NQ6JjMWFhYWFg1gSbuFRRcAKZClQRbbE9R9+1nJaK++uQShJWvxyWvvwJ/gw+4HTkXfaQdi5MQ9sGrlSsx5411ghRB3+hWQuAeDPiQlcfnHAF2cEy5o2l5XF0GEinhJg1sjtmJbWFh0FfhvELj7FhYWOwlieUzjvKbhGUOV6l0dly3dLXZGNKTKLYOjYZefTaUonb0Qy2bMxpplK7HXIQeg/yFTgX49kJ2ThdKiImz8cRl8wsTD2amoDCQgNTXZiYSIJKiZjE+YfLTeSbQk6OomjuoubtzfpkxbdF7IfW9ue2SriMXOAqtpt7DYCcBl8hpI9M/p2OILfwmvq4Gz77hGUMdVO0TqY7XYGWDup/kLu/UnLpzKoJLgER/JNO3Xa0TyK1G7fANWzp6PLz/5FD1HDsawQ/cB+ncHAiFg1ABMOWEagukpmPXJZ1j/7Y8oXbgK2FzuaN0lnnBNnX5BNcQ13d302FEFfA5hj+ZBNgoeW3Q5xLvtbtWIioXFzoYEaaBt3baw6IRo6tGNRLVQpGKEQ3H4GyU7iojnuF6zSTAcrQ+4zJ43LWo7CTsZsPNji3vIiiMwriTl0QNTBcilaa8SlrrDr5Jy7fWyKoRWbcLij2dhwcw5qA2FkD24H47+42+BJAnjT5CopX4FxH+1/H+zCF+++R6WLVqM7r16YOJB+2LgxN2BIb2FnQOhmhoEUhPr0yaMion5qK+O6sccutlvcNpiJ4SnXpgqzHser0miUxxnxbayH9sEWrQ3LGm3sOikaD5pN8SdSBDuU9/TeDu0KGWnZ91luAQh7h4NrGdr0TlBom7IunclFu+Qzb39jtTJD/3Q0diQ62hOZHMxajcXYNPSlVj2zXys+m6hePVh0qEHYszx04De6agT7s0wJO0+Ie+6umNuFYrmLca86Z9i08o1yCspxPBxu2HiYQciZ+QwICjkPinoivgnYWc4pk0wbRemrkcJu3tssZPDvd9u9dV7rvsiunUrgam6Bt79bW3GTNoWFu0FS9otLDopvI9u7GMcJS6qKjUcx/QwDnHnkVc0gHiM1IWFp9WpOQwZlo/aUdkqKdIP4QiJl3PUuJP02TWzdyK4zFd/WWm4BKOI1haeC8n9L6sGCkuBonKsn7cIP8z5Fkt+XIiUjHTsOnUvjJkyCRnDBgHZaUCaH2GpPgSrKEmOVhfGzdVjSqqwae58fPvRp1i5YBEyklIwaOhQDB+/O/qMHg50zwKyJJ5UiYTknxljWKda6zF3TX13s+/Wfd212Mnh3Gu3QnhYtJJ1HpqtsxsVYlvZjyc5C4t2gSXtFhadFM0i7fJLDac5S605SQ/7GhJ3P1WYJGJKziJqn6ykKNrLyZaimk7ZuqQ9KhY7DwzjNdD7y3svN7+6FigoQtG6Tdi8Zh3WLF6GzavWoiK/CN2ysjFwyGAMGTsaPcaOBAb0BlI40JPgXAiGW4G3tmj1Cjn7KJRBwOYSrJ31LeZ//jXWLF8Jf1oyMnv1RP9dhqDvsCEYMHwoAj26AUGJUEUi1TrpRBHdEjGXYbGTgveZdUAlgjo5jg7eRPS8tl/y79ZB9Up3g21swrQeW1i0Iyxpt7DopOCjq32GPMH6GMuBeZjrSTv3HdJOY5eIkO6IkPME2froqTYCf1jIu4/sSsDJgFXC2quEUVXVCLGqc6RWhJ+OJ7l3IrPYaSE3N4H3OYLS3FwUbtyITavWIH/jJhTk5aOyphopOZkIZKRi5Ljd0WfoIPQZuQvQI4ezRZ3w3HDtdUPaPfVRo6cbB4d0lGqFGtkpqUCksAxrlyzH4u/mywBhM8pyC+CTQWXQ50fPnj3Ru38/9B86WAh9d1RIPjK6SZoWXQNkyEnJQLJIYlBEKlGyDA5VZJ91SqROhNVK20C33hlyrRyeIn7UiScF7ukWw8RrYdFesKTdwqKTQkm7+/RGH2PpRLinYjoU6VlUeS5/XEfbRw1ntbhwtQ/2cMXlQFEpqkrKUZJXiMJNuSjLK0L+5jzh6+7HboS0h2WfpJ/RUuFO0EyGYPq2KdkZIPdQK5XDqEN1NaiurJSBXR0y09PRrWcP9B7UH/1GDkPO4P7A0AFAUGoECZT8g6YwrCA6xgsjgTbsOgnVqZONajm5T/JupEJ+NuQh74el2LR8NTasWI2y4hJszstFxO9DUnoq0jIzUFvNSuwkabFzg3MlAv4gkpKSEOCcB6lXyZlp6NavF7oP6IOcvr2QJvVTKqr4lvrL+pgcRET81on3sBxrlZPKQtLO00rgHadWwZJ2i/aGJe0WFp0UfHS3IO0CQ5AMaXe2CQiIJFCTXio/64uA3HLkfb8Ehas2oHDjJmxct0FImhCtoPhMDKg2KyQdY5gaUyFK7KESZKsTF6XXoy17ICB+bc/VKeGtM7yX/oCI3F+KT9h1OJCA9N7dkN2nB7r36YluvXrA1z0HSEkWYi1kmbed9cTUD2rV41UFScbUxUZrCrMSkoGfDA4TImRUIsVlsg3q2yBUVqN8cy4qy8pRlFeA3A0bUVFahuKCQo0zatLMH9lvNB2LTgvWV34xt7q6Wra18Mt+XV4xguGI1tmMzCzk9OyJngP6od+IXZDCAWXPTCAtgNo0H8JJJPoiUjm0zsiPGUQ2GEy2ALbps2hvWNJuYdFZwUfXfXrNY8w+hHtekkRLB9VehoQIrd6AtfOXYtnsBchdugY1m4qQlZSG9PQ0pIpk9CBJ64WUblnI7NkdkaQAfPzwTXKS80qanR4JGsE0dek/R9tu0cngbfpJknlfeX9p4kIWI6QdycLEU0T47SPedlYo3m7zqoWEXdyVbHPCslY455RCvEU0AMF3Pd6TcUCvjJreuKWw7taE6s9xnyva1MqWYvLibqKIPbbo3OD9FMJeU1WFGi4JKvWgcrUM3nILUVpYiOLCIhQXlaBEBnNSG1El9XLk3uMwasp4ZA/rh4TMZNQF/fAlBZGQ6EfY1FW3urcGlrRbtDcsabew6GwwT6z76HoJe0OIC8lNWQ2wcDVWf/U9ls6Zh/xNeQgoQe+BfkOHoN8uQ5A9tD/QPRtIT6k3dWC0bqcWBY9jE/Iex56z6Nww99uIQWP32ePPqZY0p+JsCqIhaXfcGiJKgnjSK4R3a/Zj0Vi+LHYu8P7TzK+qVto4Gc1xsMkBXF4RNi5ZheWzF2Dt4hUoLi4Wch7GsNG7YMxe4zBg3K5A3+5OGxd03ibRpEvnWLQClrRbtDcsabew6EzwPq3xSDt3jbBTKyzDmo9nYsF7n6J07SZkZ2Zj8KgR6D92DNL09XEOkJUKpAWlE6NSMyKdnFAr8nZ2ZBKpdkxOEvWwndXOB7nHDW6rueey5a4xQTEwb3PqUe8h+qZni+6lYaAt4/CAJ2ODx4GXOFkS1UXg1ouK0nIEg0EEk9wPcfFtDJcS3VgOFJRj6edf6ZKkRZvzkJiWjBGTdscwIe45wwc75D0oA8pEae+EuDdZFxuBrW8W7Q1L2i0sOhO8T2ssaWcPwl1qn8qqgJIafPvQc9i8eAWKSorRa5fBGLH/ZPQdOwq+3tJhUavOpfM0WBgJahbBiKTvk86P9qP18Tq9U9R+3cPgvDbtthPrxJBb2tTta0DaxaP3kCeNPt2L+sVGBbrbMIWmiZKcJAnbCmz9s9B6JPVL6yhFzQFFykTyKlE+ewG+/vQLLF2yEN2k7dv74H3Rf9+JwOAe4Pr/EVfj3uQDEAe2vlm0Nyxpt7DoTPA+rebRNVu+JtY11xNQPHs+vn9vBtZ+9T0G9O2HoZP2wIAp44ERA4C0RImmTk3c+eEkru6hYFCJo07IurdZcEiR46eeIMWed+Ddt+hc8N45cx8bGrR4II71NUDoeqwa3oVZbNSBCeTG2CCORtBi0l6/b7Ezwqkx9YM9Zye2HvHYT+JOrXuVK0vW4dv3PsTi+fNVsz5q73HY47SjgD7Z4jmMcKLPMZNpQRWy1c2ivWFJu4VFZ4L3aY0l7bXCcCpDKJ+/FN+9/gG+/2o29jpwfwzacwx6TtwN6MU1rcMIcZoWyboIOylq1ZWouxNKSXwo5kunDUmRu+OF7bh2TrBamfrmrXeE3PN6p+aSdqJhZYkfygNL2i3ioCnSbs75xDHBaNwr5YAzT4vCKJ45F5+8+Q5WrF6Jw08/HrsecQDQIw2hVCHtqsQQ/82sRra6WbQ3LGm3sOhsME+seXTN6hkh6UGWrsMXL72JVXPno9/gQTjwnFOA/j2lU8pAbUToel0dEhP5PXjO2wqpRt3n9jwk6ZRY4tPg0HZSXQesVtG65m5dNDRraQlpb4jGzxCSSNPBFZa0dz00h7TTNUxlRCiMxASuR+pzvk2RX4eyuQsw/fW3sGnjekw79XgMO3RvIDsZoWACAikBJ75mVCVb3SzaG44qzcLCovOAHYXpLAypoUZyUwGWz5iFNd8vRM8RQzDl9GOBkQOB7unC6+sQEpLuEHMnMDXr3PP7/ULkg7q1pMeiAUx14NaI9BqsJvXivJnpCGJhYcaPCcLe+TE4NfmLSAMZroN+XyAjjPTxQ3HUBWcgKSUZX73/MfIXLJVzfvhDEYRqnHaRsCpNi44GS9otLDozSFQ4YTQEFK1ci5nTP0a4NoTJhx+EpF36A4EIwn550IN+/ZIgSTs7MWrYddUFkXozmPjSgLDFIvZ8S8WiYyDOvYnyldhzAh0ruvtbR2wEzRULi9bBEHe2byn8zoTfhwgn3WclAtlBoEcqkkcOwOEnHYOSkmJ8M+MLYF2umtNQmUFLwTCXy+W/7MdK/cNhYdG+sKTdwqKzgoyaqiBOQK2owfxZc3SVmEkH7IPMYQOlg0oDkhKjmnVOODXadBJ1/fKluEXXKPbyJa80hqbONRdtEYfFtqGRexCdlCdCjuIVE4bEvTHTGMJZpb1xiSbQmLCOs/7GkQSKjio94LGVnV7q367EPd1AWI18XBmLE+55TJv1dPnJCWLAXrth1ORxmP/1HOQtXArU1AopkvaRdcmt7G4UDUTPkcDL1mrjLdoTlrRbWHRmUCXEpRAKilG0MRfp3bLRa9ggIDNV3HlO/JhOhR2QHJPEa2fmgXoxPVJzpa0QL+7miMW2oTnl6PohgW8gdIuKl0S1rTSFKFeiPyMWFh6wjnjbNnOsb4lI3ntloe+IIcjOyMCG5atUAeLnm0f6jVawJtAcPxYWbQipnRYWFp0VOo/c70fp2g3YtH4DkrtlIWtQXyAlSbWRUUR7Kz3aAq3lO95oWyMWHQPx7k1zZHsjHpH3ivy4Pi0sWghWneQAukt7mZycjB/mzXfdnTrF+mU06bFiYbGjYEm7hUUnhln8qc6fgJyBfXV5R/Tp7rwKdm3Vt4DtdCwsLLo6yM0TE9Bj6ED0GDkE4czkekZk20iLDgq75KOFRWeFPLlhtcGUnqawFOtXrUFm9xykDxoA1FYDyVzasRFNpHH2nm7Ea1PY1sajFUnWw7Zc2wZP4be2KLfp/rUFbB3omoipeK2pBhpFnbShpdUI5ZegoqIC2SMGIyzNKfUdnIfa2IucqDu3IvaFj0V7wZJ2C4vOCj65fHxrQkAg6Oyrexi1VVUIpqc13pt5Ox2DVnQ829p4bFNft62Jd3V4Cr+1RblN968tYOtA10RMxWtVNWAgrhbDj9JxMj8R9CPizvlhc2pJu0VHQyPvzy0sLDos2Nl4eilqhnSNM9qwh+sQqq1x9i0sLCwsGsDl2bp0Y5jMnKtoJQfgSxHxc2Uth4SbbTyxsNhRsJp2C4vOhtgn1qiEuOU5brmqTIBfAeSxs2kA0/F4O6BWdEbxom4Jtqn/29bEuzo8hd/aotym+9cWsHWgayKm4rWkGpig2lzSPCYckX0nBufjc7rbPLh+LZG3aC9Y0m5h0Zlhnl52GvGe5Mae7nidTCs6nm1tPLapr7Mt17bBU/itLcptun9tAVsHuiZiKl6rqwG17SImfHNfUCpJF7Fk3aK90ZIxpYWFRUeG7UAsLCwsmg9pM6lZ9/Gr0SKxJJzH8cS2tRY7Cpa0W1jsDKCqyGodLSwsLFoMTgkyH/ZtQM4tLDoYLGm3sLCwsLCwsLCw6OCwpN3CwsLCwsLCwsKig8OSdgsLCwsLCwsLC4sODkvaLSwsLCwsLCwsLDo47JKPFhadCHxcw+Ew/H6/6+BsGkVj59tqkpXE09oGRLNgW58dB08d2KZ7uCNh60/XREzFa3U1YMDWBHbTt5NVLdoblrRbWHQi8HGtra3Vj4D8+OOP6J7TTTqOBFRVVaG6uhoZGRmuT7dfiSTINn7PIqecrbNRtLQP2tbGY5v7PNt6tRxS6KbY4tWB5iMiUTUeMhAI6OCyrq4OxcXFSE9PR01NjXu2bWBW/LDoWjD11mlBmqqFTUPbRjcyKkNCoZC2p2lpaUhOTka3bll6bgu46deT9tbnwMKiJbCk3cKiE4GPKzuW1atX4w9/+ANeeelljBgxApWVlUraSZDY6RD6Kx1So6SdP3KKW+PDS4Lih6qH8draBiSapru1aB/wfuk9c++9d78lcKhS46E2bdqk2/79++tAMzMzU+toW0HrTUszbbFTYHuQdqKiogIpKSlITEzUNnXt2lXumRi4QRqS9pbmwsm7hUVLYEm7hUUnxPfff4+99toLE8dPwCWXXKJaIhIjbg20O2gGaTfQtYo9+xY7L8hTeItNHWjd7Y7GEBdffvklpk+fjgsuuAD9+vVTzTvhraMWFq3B9iDtfHvJN0OUGTNm4MknnxQSX6rntoCbviXtFu0NS9otLDoJ+KiWl5erJmjz5s1K2vfeazIee+wxJCUl6Xlq2ZuraSdM5xf9sIhn32Lnh7n/rbvlDCXSSPV66aWXcNNNN+Hhhx/GxMmTgbo694yFxbahvr6SsDfevm0d0jq6kWmz6S7Ncd99D+LKK6+U9rZEj7d4PtwkLWm3aG9Y0m5h0QnAx5QScm0uN2zYgHHjxmHypL3wzjvvqPaSr3ONNpPQ7mArpN3A+Ihq283WYqdEtNHfppvMWOq7D5pmsY6yDvqSk/G0DCavu+46zJo1C30GDUKtDDgtLNoC9bWOFXhbKnHD8Cbe/z3xuJL2Upe0Gy+xz40l7RbtDbvko4VFJwCJOl/f0tYyGAwqOcrOznbPtg0sYe86MHRB7/l2EK1DTRxbsbIt4msHYTpRePctLHYgLGm3sOiE4IS+tnxJpp0hd9ytFSstFZ8MLM0+4T1HeI+tWNnhwrYuVuhOBQn32rB9tbBoK1jSbmHRSWAmm1JoisBtc2HMa7Ym8lN/HN7+ohqsbZR48baVxEvPikdioHXIwqK9EFsfWyKNQAefIrYuW3REWNJuYdFJYCaY0kyGdsO0b28KUfLdgTufbclfe1ybSaO1acWG35nFe70WFp0VbF8pusqRpyrHVmu3ObawaFdY0m5h0Ulg7NoNad+ZyJEhe+19Td5044lFy2DLzKLTw6NpD9fV12dWbRJ1Q9Z5bOu7RXvDknYLiy4AQ0Ljifxs4daeEot4bk0hNr6WCMFBkMW2w7wJsrDo1GhA2uuXKXWbCwuLHQrbW1lYWDhwO6UdTb28hFo7znA47tb42RZwboCwdveoHoxbzwm4NRLPL2Hy5c1bW+TPomOD5C6eGHjrRVvW29bADk5bjpDbBrBt9N437trn22JHwD7FFhZdAKQRjYr0Pd5jxQ7qj8rKyrQzTEhKkswkNEl4SI62tePU8EJmuBoPP1xVUlICX2qyEhye42fNtyDtyYmaN/j9TngeC+LlMfbYYmuQcuUXnzqC1D8NW8BLzs1+rJtB7Ln2BOtzVVWVk77UXX9ams6F4SR2f0qK68uiMfCZtrDoSLCk3cLCQkiKuyV2EMcksUhPT9f9kJBlYbtKnunOrT/ghy8YgC8xiAQKj0USfEKGyIdaIfoxKon7ww8/xB133IEXX3wRtaXlEn8iEpMSkZKagqCkZQSS1sZVq8Xv7bj26qsw86uZCJVLXhkX8+YXsu/5i02vgVhsCa178QprB0gTz4EZjJHUcTDnHVgSWl9lUBcIBhGQuqQi+3RrT413VlaWfkGZoKnH/Nmz8fe//x33338/KoqK1N2iCXgG3HbwbdERYEm7hYVFh8HKlSvx3HPP4eqrr8YZZ5yByy+/HFf89gpc/pvLcdmvf41bbr4Z773zDgpyc5VsK2EigZKwLRWCHXF1aSlef/113PqPW/WT+6tWr+IZ1AkJo9Y9v6BAtZQ+IfilhYX4ft48/Oe//8UDDz6IT2bMwIZNm1Amg4xykdpQaIt0GhPlho1gR2hlLZoG7wnfBH366ae4/vrrceyxx+Lcc8/Frbfeio0bN6oWm29rPvvsM/zpT3/CMcccgyOmTcPf/vpXzBWyXCj1yEvstweoVfcnJ6twn8Kv01K4//HHH+OW227BjTfeiOnTp7uhtg3tOQhpb7BtaQyWxFvsCFjSbmGxE8GjJ1Q0oH4uW4z9oEg8eONpD4kImSGGjhmFqVOmqEby3XffxcOPPYwePXrg7HPOQffu3XHTrTfh9NNPx//93/+x19Qw/I1aNahL88AOmZrxpLRU1aoHE4Lo07cPhg8fjlB1NT755BOcedIpuPbaa7F48WLJaAIyenTD4MGDdbDgkzz27N0LA3cZKu450po6JgjNhebVLYC4mvkuh4540Q3zlNW7N/bff3/ssssuWLVqFV59/VX89f/+ioceegh1QtgzsrKi57/77jv9gvHYsWMxYdIk5PTsqfV6e4F1Mk2ekTIZWD712GP4yU9+gvvuuw/z587VAW5qt276JislmIJ+/fph3LhxbshtQ0vqfNuiHeqLh5h7Sbol7BY7Cpa0W1jsJIjtwvSrfgL+UkuoZibu1kj0vO458O63F6KdYGU1howYgeOOPTaakb5CMKbstx/+8pe/YOKeE1EVqsJDDz+M2bO/Rk2oFoG0ZARSkx3NuJBwuoWFAPvF3Z+SrGTenxgUSVRNJ7d+8R9ITVHtOIJ+/Pvuu5Gbl4fH/vc/tVFnfqhBfP2N1/Haa69h0+bNQEAIl8Q1atcxWLlxHebNn4cLLrxQ3arLKpCWk4WgxFkXkTSSkxxhHkR8KUmoqKxUTaxP0i8tLVW3hEAACdxKWkp+eE9EWBo0+1HTnybAfHYkMXlqHHI90RGWXJ/WUiOsk7L11M+tC/1vi8SL04ic1z9u5d5IfsPllboM4IUX/xJnnH6mcz0it/79b3jqyadRXlKGhOQUnH/hRVKHj8fRR1HbfqT48SFcXQskSV1I8Ev9S5OBqtRL2foTpY74As6+X+qpOZeUAn8gUdOmG9OvkTjUn0iVPCvRcG4YhMJIT8vAiuUrMf3D9/Heu9MxZPBQ1BSXSnjgnLN/ioKCInzx+ZcYPGIUamtCTvjkVHlWnHhCtXWorqpx0pfjcqnbeuymo/6YT+Zb9iF5KCuVei3XVX8v68usKYn13zJx71Hce9d6sbDoyEiQBrapFtbCwqIDQTW8Qu5oRjJlyhSM33Mc3nnnHSWjVUIKaaMd7Xb4ZOvT7biYCade6OPvcefWaN9j/W43SEdZFxLyEAwyQ0Kig/h4+nScePJJSsRvueUWXH7FFUquTzv+RLz29uvokdMDzz73HPY7+EBsXLMOb7/7DmbOnImkYCK6deuGCRMmqPlCpZRJWnamkur/PfYYvp71NdJSU3XiKTX4v/zlL7FhwwYtQ5brCBkwnHDCCZg7d67a/dJUpyZSi99d8zsMGDhQtexFRUWqeQ9KPsdNGI/ddtsNH330kTO5T0gEt1OnTkX//v3x8ssvI08GA71798bpp52G5JRUPHDvvZg/fz6Ki4sxcuRI7LPPPjjo0ENVGyo3mLPfosSX90C/zNoIdmzzLWnHvKrhtbNcfFLGz0p5X3fddZg1axZ6DRqkmmgla56ate0kqWF8LQPz3vLy4zMYTEnBjddfj9zcXDUzodkMr5vmVYcccojW4V9L3TrwwANx6tk/QaSqWgdnBes34jEpl4KCAjWpGT9+PCZPnoxJ++6DcKVjzvLMM89o/aupqdG3S3vssYcO9pKSktRkjM84/axZs0aFYWiKw3pLf08++SQefPBBfRPAPNGUJy0tDaNGjcKCBQuwdu1adad/gnW3V69e+qwwDT43hYWFeP/993XS6u677469D9wfy39YqANYtj2c4Mo6zusbOXascwvqZNQg/tkWGWytfu54ktyw/rB6sh164vHHcdEvLkZufh7Ss9K1mtSE6pCY5LwpqdNnkgN7Q/RbU5capm1h0RxYTbuFRReDMYuJiuu+w2A67jgdeK0QZpJrEvYF336H2XPnqPsBQhb4er84rwBnnHUmrhBSf7CQpV9deomSkvPPP1/NWtIyMyWSOlxyySX4/R/+gOEjhuO2v/8fJkyaqHbpP/74oxIuEpcbb7kR11xzDRYuXKimLwnU2kv6BAcPJDUkJKtXr8Zf//pX/PmGv+CNN95AlQwAVgpBYnq/+e0VOpmVJImd+dKlS/FfSYckZ4WQnXN/eg5+/8c/4PAjpuGSSy/VeC6V7UvPP69kXUVgNX4dD/HuCQk17y8HgZsKNuGqq67CDz/8IPwtogSYdaauolIJ++cffISjjz5aB4P77bcfpk2bhqt+d5WS6vUrVirBpa355VdcjlQZ9PDNEuvXlVdeqWFo2pKfn4+zzz4bF/7yQn1bc8455+Dzzz/XOvTII49o/aTpC81wyqqdlZhI/pl35uX777/HP/7xD9x5551az3luxowZOPfCc/UZWrRokabNuN966y01QyPBn/nxDBx//PF49NFHccopp2CvvfbC5Vddjttuuw0/fPut8tUqeY68hN3CwqLtYUm7hcXODulQjRIoRjHaAEpJjD9ns8ORIH+c2PfXG/4ffvGLX2D9pvU49qhjdYJqek6WkmxqJakBP+CAAzBm111VQ19eWYF7778PH7w/HQVFhXjtjddRUl6CFCEkJDC09/33Xf9GppD6Aw8+GEcddZTatFNTSXK01z5TlWARQX8iDj30UFzw8wtx5PHH4Gwh3qPGjFZSVlNbi+GjRuDiiy/GnjKIqJB0K6oqMWDQQGT17IZDDz8Mx594As47/2eaz9eFhPXs2VO1sZP3nqzkZ9mqZUr0I66WkkKytWO16J0BrKXbUlNbHp51Rydeypb3iUT4MKknf5ABoU/+Fi5bqMS7Vtzpj/79gQBCZRX61oWEfuLEiTjihONUU92vZz98/PnHSrg5gPz3Pf9GYiARJ554or6pOe2001BUXqT19KSTTlICPW/ePATlj2+FaDbGtzWFZYU6B4ODxeOFVHNQQFCTf9FFF+GnF1yAg46cpgMF+mG+qV0fN2WyDjZ7ZvdEdaha31JxgDFm/J7o27evkvIJkyerzf7K1Su13u5/+KG6Dcjfq6++im+++UYHKckpKdF6a+uvhcX2gSXtFhZdAF56YvZjhYQ9ut9BkCiEmZrwPr1745cX/wIfvPM+HnzgQUw9YD81i6HpRaimVglOv4H9AX8CBg4ciOTkZBW+zifGjBmjWxIUmgmQWA0YMEC1ktTiZ2RkKMGiVp9axnBNjZohBBICqKmr0fPpQpyqyyuV1GdnZyspITGrErfe/frooCI5KRnffvutrkZDPP744zpxlhMSb775ZpRXlWs61GBywEFTi0RfIjZt2qRa1FjCYwh814G3RjZHiHjuzREinrtX6mHui5J2X4LeOx7XCQG+8qqrcMkvLlF/7733npJdat914mliEMuWLVOCy2O+Cbrx93/UpRdpftIrp5feZ9aL9KR0Jc98M8O5FST5aYlpOiilOVWPAf1UA/7mm29qnb/tlls0vtRgqn5TgKYyfAYMaPqVKiTduJGoMw+18qdpCCZOmqRadBkuatzLFvyIsrwCNes66cwzsGjBAjzx7BOokz+a41x7+RV6fUOHDNUlJfl8Fm7ejJAMYE0ZGcQeW1hYbBssabew2MkR7cJdUh7VvMdIQ4rSMUBtNjWTF1x8Mc45/3zsd/DBSE1JQbiqBrVCrPNyc5VcpwhZjtTWCdkOKUGmbXVxaTHWrVuHbr164He/+x2mHTpNiQdNAu68604cd9xxar4S4SQ7ITI14RolGNz3CWFivIwrKZDkZEZaSxIjajuVuAmYPx4TRxxxhA4EKqoq8MQTT2DmZ18ocdtv//2RlJai62VTG9unTx+cfPLJOO+881TDSsJOTWYPcTckp2uTHdbE5ghhtq1By8KSpLNecUsoyZYBnF/uLQkrTZ0OP+hwVNVV4Z///KcOKJVEC3JycnQuBM9xdaIzzzxTzV9mz56NOXPm4Fe/+hV2Gz9ezWByMnPUfOWeO/6lb2doe37BBRcgq3dPNfX6+uuvcfvtt+OGG27Arrvuqprz6tpqJf7pQqIJnVsgfwTni0CeC+HkCtZJknzWb0VSEKeeeioykjNU288lLfnmh2+uasvKsXz5co0r2Z+seacJ0J///GcdmNIv3zLl9O2t5N3WXwuL7QtL2i0sLDosDOmhprCmvBxhIRwkJ1wzna/ySZJJoGnWQtJAIsVJdCRWJMg0B1jw3TwlKJxUOv2d6WoaQ5Bsk3hQ40jyTVDLTg096iK6X1ldqe6cOEg3Em+Semo9q2qqVDvuT3TIT1a3bLWlT0tJ04mt1KyTjOXn5aEorwB77723ajMZlvkeO2Ecdhk9GinZmToYkExrPBY7Cp4RbFTqwbpFsP6hukbvGbXRJMSBVIcEP/DAA+jTvY/6/XbBt2ofjlCd1il9qyNgOJq2dOvXR02lONmUdYpjCBJw2smz3tJ06quvvtJJpfseerDWv+efeQY///nPlSxzgvZxp52icQhFduotB5Mh94NP8sdBJwcLdULiJeM6YC2vLlcNv5JqGQQQnAx70EEHYWP+Rn0LxI+NkcgHM9LUNIdvmjjg4LPSe/BADBk9EoOHDVPNPZ+9SGW1DgYsLCy2Lyxpt7Cw2LEQ8qCEKFYzJ4fhcJ2SZxIjEhCSdZ3cJySESyxyAh5BjeXaNWtRJwRp+dJlCEfqMGKX4Tj91NOwYN58XHH5b1SjeeBhh6hpzM9++jPViHM97Swh/8ZUQNMS1FRUKqkP+oNKgGiCUJCbp6Y4kTqhQ5IOkSxkn8v8bVq/EREhS5zwSpLDMAX5Bdj/oAP1LUB2do6Ssaz0LMz/cT7+3//7f8hdtwERIVGvv/CSkr0CGQBwAEICp9p+V5tvsb3grW8xdS8OeE9YB7llHeTgkJNAK2SwyFVT+BVdElpqyWtCNchOy3ZIu9zHzF49dAInbcdffuNl1WTXSL3hQJMTQ++55x5Ul5TqV3k/+uwjXV2IbpyE+tvf/hYvP/0sNq9bp0Sbdau8phybN2/W1Wg4MZpzP6j1Z33i4I+DS75VImHnKjJc5aZS6jYHFkn+JOH/zlsDmoaRuKdmZztmXAmJWLF2ha41371/XzWT4YDh8MMPR5IvSc1y3nrpFYQrqlAh8dHc7Omnn9by4LVbWFhsX/hv4Ds2CwuLTgF22iS47Iypgevbp4+uIEF3as9I9GJf+rNDd7aONAZzrik/2wVyPUaLWVlRgUcfegj33H23EujMjExdYo7EhKvFkCSTODGTPuFZe+41EWnJKWozPE+Izob16/WDMuP3HI+77rpLtZvUbNNWl9rDorx8fPHFF7o85JS9p+DWW/+Gjz74QM1UCoSg0FadJgK0ez/ksMPw7TffYL3EOf3995VI0ead5c70SNzzC/KVIJGQk+Qnp6eiUMg647/xhhux2+gxek/48Sia+fSU8OvXrcfrb72Op596Go//73+q/aRWc/SYMc667STr7n00H53qsIipLNRCk9QmSFks+O47XTaQEyHTsrIQIUnUAPWBzH2vR8PzW0dL/HphSDq3WyfsBPOaINf22aefKtHmBGm+aeEcBs65GDhkiGZnUL/+6N6tu2rJaQbVT84FU5IxfMhQfUaXLl6Kp559Ck8+/qROTmWd49Kj3Xr2RLYM+N59611d5YX27FzhZe43c/HKK68oyT7rrLOwYsUKLF+yXG3njd18SXEJPvvqM6xfu14nuNKMZdbMWVi0fBE+nP6h1mGSfdZzDjaCgaCavew+Zld5xjLAhQyZD5rjREIRfUuUmZODOqmb9DtJ6i6JOQe+nCdCcy7mnZNjOUmbbwvCHNC6A28tK480hqbOtQ+YvicPssuVo1j+/EbDtdddi8RkaW8EXObRH3AG0ka/sLXraxoxaVtYNAN2nXYLi04EdrwkgS1Zpz2Biw8LuHKMdjmeJ977+JtwO7QbSU1G8YZNDrGgZl2uNRSuUyJLu2Aek6RwIiD3SSQyhOiQlJBwkEB379ZNyTrNZ/jqnmXDcuOWhJz71IBOOWA/oDaMyrIynWBHEwDGyfP9BgxARLaV1VVqc04zHYbhhEASNUq6+Gf5BZMS1TSBJja0XV8upIyDjH2mTNX4vOXJeEiWmF/mp2/vPrpKR28ZfAk7cjzJYIBp8zzZgdACx73DQSuXu+9AbamFsLd+nfaG57eOlvj1gvk2QjS8jno0jJ+EjgNLDgRZtziA5H2iuRM/2lUqg+mMnt31zdDSxYv1TY4XLB++teGgj3FwdRfOcUjrnqPadC4fyXrGcqPmnPWb68Df9vfbMHzYcF0hhs8G6xfLedKkSTqA55rvjI+TsAczTal3myUdatgZD58FbunPC5q3eMHvD7Bu73fYIWryonXQA37llRp+Dj4Y5yC5r7x2+uNzQ7SEyLae8LYVmH59Hlg97TrtFh0ZlrRbWHQi7PSk3QPmTDtE6RjDkk+TV7rxksyx53IU3vwbUsCt2Sc0DgmvnJNETIh7Slam9My1SqxYxiQmZnDgBe8BCZM/JQlVpeWaFxO/apllyzA0o9E8iih5Z/occHBroiQnEn/UaJo88V6aa9Mv2PKPYTocJI87BWnndRg3L8RRnZw0zH3hPeZXbeFqXevKK+GXARvfJNCP95pir0+PWQecA7nBEge9SL37nZQVTWJomvLUU0+pSQ3rxx233aYmN/yQ0f+ETDJ8SAZ/gfRUJx6C9UjSNsJ8NAemnhE6GJZ7pyvjVFRqPWd+vfWf11kjgxa2Mz4ZYKOqRtNqDWEnWuJ3+4Dp1+eB1dOSdouOjIa9kYWFhUUHgiGxsuO6OG7C4qN9pLfbi+0C6dfEQWLBbayYuGvKHK08CQnDkKzEEnZ20MlpaepesCnXdXXSYVgSfRJXmrxwn2nyHLd0rxbCQ9viiqISlBcWy7YY5SUl6tf41zxZdDjwnrNuENUyAKmSe1jLQRvrj4huGwHPUaj5LszLQ40MsLmWe7XUBa7QwvA0M+Ga6zTf4pKKD999L/7v5pvx7rvv6ldzOV9CKqCmzXzQrpwDBt1KXFymNOypQ80RL7SuShx806MTrDk4ian//IBSIldBknPVxaUaB8MRLSXsFhYWLYcl7RYWFh0bHnK+hci5xiSe4suQJ5KN6L4QHUNQjBvBY0NEvGQk5K5gQ3ODWJJiwnvj8W7pn/EyPRIvCjXT5rzxGy9di+0FKWMWO9WsDcQ954L3wtwjc99UOy3gh7EMjB+vGHfajXOFGHNs4mR94uot/DIvJ3uOHj1ayTC/L3DTTTfhP//5D6bsv79q0Zl2bLwE46C0FoxHCb8MLmn6Eg+8Zr4V4lwLXrtJz9ZVC4v2gSXtFhYWHR9KqhqKlyJwP5YyNIdCGMLk1SjSLR4B8boZomRgSEuseBF77EW8cLHHFtsTLON4Ug/e89j7buoK61DsOS/ihWU4M3jjPgkx11mfeuCB+gVTTuA9+OCDdZIzJ3oKo3ZDOgQ9Ft66Yva3Jl6YYxN3U9fjTT9eXBYWFtsHlrRbWFhYtBKtISwmTGw4HnPwYDT8FjsfvPedpJjk1wi13CWFhYCaqIR0Pff0Ht2QlJqqplPVNKmp5Qo8HQPmOmxdtbBoP1jSbmFh0SFhqAC3sWLg3Y+LxpWFTZ8zaMKPSTueaQ6lOTAkrssQdb1EFo6RePCeb8xPW4CZ2fFl7iXvXDnGaLh1v7JaNezUyHvNcToKOned7QLPm8VOB0vaLSwsOiwa61bV3eVzTXW9PBePUKvwnEuajcSi6fD8k21MHN54zJ4hYt5zRKz/nR8NCtA5bgAeG9meMGXObVPlb847kpDAwVXzhbfdufVOWLP1+TiHgisNxQ8T5opCuvoQTVEYQcPwbSWMzytbO79ziYVF54Ml7RYWFh0aTXa1Soh2DExeYvPnFYumsLWbt71vbnPvUOxd3XaJJcdGeM5L9I3Ec7PSVmJh0XlgSbuFhYVFO8Jo17uWht2CsPfdwsJiW2BJu4WFRaeCoTxe6mNpkMW2IV4NsrXKohFwSVCtH9464nVrjlhYtByWtFtYWHQ6mC5Pt64Vhbc7NGJh0XzY2mPRAihxN4itO80VC4uWwZJ2C4uODBJSl5TGwtvsN2j+xb+Z5+dsI1GhYaz32CsMqFtjQNvBpUH+edyYeP21oUgm2kTixa2ynfO/7eLWrzgip5s8jgrjaBCnV7Z2XsR7n1sjGo9JpzEx/qzs9CJ1wtu28I9owM+9cE5vGxiHFStGtgJL2i0UzawvFjsYsfeJHUu9qyN080nH4xfh1iux/k3npCLnlRC75zq8uPltQMJixCf+YsugLYVpNMhTC0Tz14T4XT+dSVjnuOV94b4RHse7xtjwLRaW0bZIvDjbUOJdc0skXpxtKfHSbE+Jl6cdKcwTn03Nm+xx/oF5YuWAvwqf7FLUxXhorVhYeLGVOmFJu0WDOtKaNoTL2TUmFm2M+n6j/mZJObPDITkKhJ2tdjphecD1nASj360JEc+9swoRz72NhGXq30bxiUS1zjGi6RBmv6OJ8+NuHamnOM6+Ea+feiFkG+scFfnZqkgl3yaJF6eVLilhqQ+seLKvz6Xsk7TripsCO4HYot3g1rl4sKS9i4J1wkgsvOdixYvmEHMvgd+aX4sYxBQXy8/bcUT36E/6m8SQPNB14s6vnWv/Iyd4Tre644g5jifGz84g8a6vjSVBenRfXeuEYePF2UBIJOKSzQ4gzD/zp1tHdLCh1+UMPBoMQLYQ+VG/MfE2EKnMnVn0QdwGiRdnW0q8NNtT4uVpR4nmh/XRUXaQHPGjZ3QifFStc59ZN7A83mJ7gXXNiAeWtFso4tQNix0J783wdgzizofWLx0HtUHqT4l8AiLutqEIYm9sPG+Uzoh419GeQpj70FIh4sXZqUR+PBKO2Tfi9dNQ4sVpxcoOED6U7r55PH1ywME1B55KlswJs7WwaGdY0m7RoP1pTVsUq033ikXbgaWpfYsQ9sQ6IEjlkDzCEZ8PoYAPlSLchv3yWIsb9GMtnu3WhP52MolsZwlLObO8WyUMyzg6s/iElHukzt3S4Jf7Rngc69eKlY4krKeq+JB/rcfSKvrlwOeSdm173S7NjDktLLY7YupZghAry6y6ILw33exza+qHt5401jaZqtNUFYq1A7R2gc2Et0ilyHjIcmYHImwJxUtWYsqUqRgzcTxemv62Evmqymok+QJqyy69jxOI/ptCZ3/8d2R1YtptUX6d9hZIxrX8PRcQCgGBAJCWhFceexLXXXcdZs2ahaxB/YDyateThUUHBKsxlR2BIF584nFcdOnFKCgoAYJBceM5Edb3WLGw2J7w1DFaI1rS3kXhvelm32xNHdGtVI8E+YvUSmcsDgkBrmkhWyHfrSHtSnIa965pdQXUF4GnMOTSzZHaAeuO8nHydGfiYkh+QgkILV6NfSdPxQFHTMPf774bSE51PDOckvYYaaxYec6i9bDl1xAhqXwBYTdpwEePvYR//etfeOKJJ5A+eiBQZgvLohMgJQFvPfQ4Lvnjr7FyU6HUZWk8DWH3bFUv4rarVhdlsa2I9vkeVFZWIyU1SfdLSsqQnppmSXtXRexN5zHFtEtK/Gh+IZUmXFaO0rIyZPXqgXByABF2ytJKkZB7yXss6P7222+jTMIWFBTotlt2jnu2IUybl6Ct4M7fAjqNvSl18yuIuXT1IW4k7Zy8GKyuQ3JZLYandMejd92PAQMG48ILLobfnyhcKRE+8eiL+KQcnd6lQXTxb5OFxXbBypUr8dhjj+HXv/41+g8ejMrSUveM1Ey37eBEP7NvYdEuiM6MbgwRzJw5E4+//Cx+fcvvsXTzapRUlSMlJwOV4VqE/GyPIypK3CWE9IJOUAuLVoLVkq2gIe8R2amtrUFKWip23XVXTBg/wT1vSXuXBytAtBLIjq9GGHtJlb7OXvvlHGxcuw41gQRMPOwABPp3Rzg1Ef5gQGqPVCERViGf2+ly33TAoVAIiYmJ6NatG5KTk2XUWAl/gg4JGsDx7VRWh2Yal50XTpnzgqMlX38P3Mt3/IjIMbcBuS0JZVUYnJyN0/c6GEOSuiOtNogechwqrRFSz9LzyT3g2xC/dCpOWTPszl+iFh0RtbW1SElJ0bYgGAy6q3EI4QmHVerq6qL7FhbtA2kRdYmtOC0jG1tBVlYONtQV46Uln+HH0rXILStEbSCCGmlSQyLSxCqpYgwO+Ea6eagPY2HRELq4RBQRJKcmY+26tTjhxBPx5BNPIkn4lCXtXR3m7pMY1rqEu7gKubPnY9ns77Dku/lYu2EdUvv3xBmX/Bw9dtsFSE9GIDGoQVUaIe3ssFNTU3HTTTfhZz/7mbrV1Ya0o45t4OoJO/djz+5c0CKXS6xv8h2NjRf1fhzwPEn7wJxeyPt2CfJmLMDqz79Ht4Q0hCtqUVMlpN0nPYkECgtxD/PTPELaGY5xeMYGFhbbHy6h6dGjB/Lz81FcXCxtQYpzTmC061bTbtF+8NaxsOlt9Jdgv+MTCdT5ke6XPq5PJpL2GYQek3eR/q8b8qvLUBf0oU6COFr2aOusvy3Rtjf0KSF3UPXv6v3CtpZ7W5dfw+xEsHzFCvzilxejb79+eP/99/W8Je1dGebOU8lFqaoFKsOomL8Er979MKrLKtB79FD0EOm7x0j0HjEECalJ8CXJaM9frzH3EnVqzNgRE1VVVcjKysJ9992H8847T0l8XW0dgoGAat78QjK1w1bfToXd2Ql7LBpqa+KhntA7Nu1ykF+HVQ++gxWffoeIlGOfYQOR2C8H1UHxJOXJ1WS4pnAXK0qLDgC2BazPrNcrpMOZPXc2zjnnbIRkoF4bqtH2wRJ0ix0CaRC1t6H5IBUb0aXZHS25L+xD97QcVK0rwrovfkByVirKBwVx8G9/CgzIAFLFVwCo4zcW/AmyDTFSV2HFOJpPpRyf5jnYMmR7PSMReR55/eyz/ZxAzmTD8gyzTNx+PCzPrvHDfLHvJvx+Kok6ObaxnLfXXXLqQwTr1q/D7nvsgX322QdvvvWm3C+5L3Izml/TLHYu8M6TrIfCCFdUwRcJIv/zbzDzzemozivCkNEjMOHUo4HeWQinyAObliSNlTyoUlPDfKjdCm8eaIJadPMwV1RUIDs7Ow5pDyJUG0LA9WcqPket2+sh6KjgLWhArhuUgXk0HeJOLRA/noR8YP3972HJJ98grVsGJp14GDB1FJAh5Rng/dFYXbGwaCewK9Eq59S7eZ9+gmuuuQYvvvQi0vr2lroppMBWS4sdCtq2sK9y+p4o2OiyL8yvQ2juCsx78n2EKqtR3s+Pg357DjAkHWGdkOpDrZB1KkVI2mUDv/y0hLA3gLTpzvc1tnwsvMSd+16q1ha0zbwdD4cakvLovggJuxlomz6e59si/R0JvU5TvG45tBTR4G1UFMyPicrkbdOmTdjDJe2vv/mGulnS3pXBO0+pEiZYWgGUhTDrgWfw1SefYepxh2OPQ/ZFcEAPJOSkAUnS4XICqlQXEnbCNCrmISe8pF0nnnbr1ihp97NhEH8MHyXsZtsFoKUoF8utPqSyo6WoJ0w5uAcCHnOiKYoSsO4+Ie0zvkEkxY+DzzsBOGwMkO4NWB/OwqJdwHaBxMdtH1574UX89oorMHPmV+g5eJC4S8Wk7Tr9WFjsELBxFDFzq7hxnbRe1sr/pysx567XUZFbBN+o7jjoSpL2NISkG+Qb5pC+JU4QQiuknVEwOra3zW1yxX+9Vyfx2KCmbzVbA/aVRrYVjJt9sPa/TIdLWzJe6cPFwRFXy+4o6+TYm24b5GGHQvJvrqC15dnw7mwbmAMvcSc2b94cJe2vvSWkXU5a0t6VwTtPzS3fdm0owNqZ32HWi+8gIzsLh118FhKG9RUimAgkStMk/6aqmO3WSHtpaSm6d+8el7TTtp1h+HqOr+M0JlZI2bTlg9BRYR463Xoe1Ni3Dd5yIXQir0vaF3/6DaqDERz5y9OAw0fLvZIb6TFbUrj3xcJiu4DPbxRSS+tYk1mhI3jy8cfxxz/8Cd/M/QY5vXshUlWNhKCzfFkU3spuYdEeYJ1jNTWNrltltS+skH7rsyX48d7pqCusRN2wTOxH0j40BRGSdmlO60IRh7RLfyYdmKNoiUbWAmg+SNhlR/5jY2D/GiXtLmFmX0tpi4nbGrMkSm06+2wfSTtB0s5+g0LS7knL9P3a35u8dUawHLnRv/rraglM+bVVKRjCzq0ei+Tn5Slpn+oh7U59s+i64LrK/F+di6/e/hBloWrsfcxhSNhlsHB5eXiDfDhdv4LWVG4DRqPiRmH2NXp3S5v2LiP655aBEZZFDIxbvHOq5lFbRPds7P1hA2zFyvaSWLAz57ccpDpywh6CflSFOZiUpsYvDhzPS3WNCnsgK1baS9xmUrdyzHrKlWD4AlPdROpCdSgpKUFKKr99sXVon9hCYZgWiRBnEnUjdPMet0YYhwGVbfo8G3fZyo6eM35pLuMTcs/9UCjkmM50UuE1mOvnwIiDkB0tVMjxzUeAWxFuG8C9XTGuFl0KrASsGFVhrFuwDBuXr0H/UcOROXF3IFkqTlqyU7nFW+xDvq3Q9tETnafNdAjtTizsKfhnHkLCXPuWoCevNIRqYkjcCd6fWLGw2J7Yor6JSHWU1kJNCVjdDSHih9lCESEMchgV97wVK+0lbhNcL1IPow2w85I4ihAnXarUyaZOtex0o5DotmWfGAtDLL3ihdHEb6sY0igH0pfU27XLj+Mm0GP6CQQcvwITlmS+OWLS6QjCvBvw2ryDmfYUc1+N6CRgfsXcHMeCt8HdteiqYL3YVIBl8xaie3Z37L7f3kB2ijyR0ukm+nWWvLFh3x4wDYeVeOKUD59SbpyfVtwLJyIrVtpHBGaSG6urGZxzK92lbo2wA7Jipd0kpqp6JUrcm4loOy0kUJhgi6S5ZNYLkx7dac6yrWLiN3EqvH0990V4ngSS5kCRmhrdDwh5T6A5DVeSSww2S0BhmB0tfDPNwQfFLQdTHu0t5p5uDerHrZ8Na4VF1wKfz1qgZH0u1i1fi169+qDXqOHyYFbIKFBOSO0wj7DnUW49GElMROzc9c+tvF1B9Jqj+/UPbqyYc/IbdXOeXAuLjg8l5tzywLPvFQuLHYkt6mJM/0QyJz8qDtlNcLf1JE8a5tYLw7viJfJs64321SuE9gnixxDOBkK35oj4dfoTB7pvjuV8AomtpEdTEvoNJCZqOE1btvRbV1uDuqoqhKqro1InpD6eKOEXCUuYMI9FdACwI8TkxZj4NKL1bk9pCSxp78rg++nKEFbMW4QAghg/cW8ZDSeiLpCAMGuG1CVWJ1rQJFBFESPxqpo+9jwh4tWoeTtwlegxyakj+seGowuIuW6nnGQrx5QtzGi859ytI1tCH37GSXjSsrDoCGjQObFaequmOY4VC4vtia3Uufr+yNk4W2mJXaGJDMkfv5fREtEwNK/x7Bt76zo55qINRqqFDFNqhHDyOCTnNV0RJ28eaS5cv97rCEn8FGGw0r+z03fNZByPmh7TJoRqap74/QUv4Y0lwAZ6zhwzaRHt4lx/et4Ny7wYMW6x4g1HMWjMvTF47+WOkK2hgT+33Cxp78pgnS6pQtnmQvgCQaR1yxbSHnAmkLn2qKwvjVZ9+otFjGd6MULovsePNwrvfpeAFDD/3FLZQvhLOL7kaOttUHzwJlqxsj1kW8EomorGnLdiZXvINoCk0EvAtofEA92NZl0y0VBaAS7n6E9KQoCSmOiYkHDSuMSvbxqodXe17JonOU5IStSJuuatA+evUEy+jF8j0fwyvCsal7ttTDR/cdyNRNNz0zRpR92NX+PHIw3Ob4PIT+vEc23Nhni1pL0rgs82hZr2ogqU5xXJQxtEYvdMeSBldM1ni5p0YdemGWhNcxBbFY3GXfedjYWFRWeGtxMyos7ONhaNdlB0jicWFtsT21DnDOEiARQG2CLxhjH7XjLpJZ3eY+OmzxFlG8BBB7XZ1PIjLGTAkH5q/iurUVtVpZp9NWeRfWq4NV1q22tqNTzzoxpzxkfhfozoW3luWwmjMWdeVbsv6XOgkcABBgcVphw85cEwlKh2nlp7j5jVeIy/HYXmpu/cb+5IcTpOFl0SrCuFZSgrKEZKVjqQkyGVgtoD2chIWx9C/d026KMk0ehWYLZ00wrrVtxoBe4i4n1YvQOaHQvenZaIhYWFhUWbwO0Toi2sdMZRku6C/YYSTpFmw/Q5bjgSVyLAiaRCfEM0wxFiTtMc+uPgIZiUhGByMjOBOgnj58RNIcoSS9RMpi7S0FSF4PdZ5syZgxUrVjTMt6e70MGHpOtLTcL8+fMxe/ZsVFZW6jnvNRshqNFPlvwkcinOxADmzJyJGR99hDJJDylBzafJgwkXteFn3j1iBkcGUXLfCjFl2mJx89pSWNLeFWEeHqkzdWUycq2sQXK2EPZ0eUBlVGwekjaDWzcZq4ocq7jHitbVX4s2hbkb0Tu1FSHM1sLCwqLrIEpUWytC3KL7dbIvEjHCZf8E3kULKEyPRJGkmVpwJAewcuVK3HnnnfjVr36FG2+4AS+9+CJWr1qFed9/Xx+/wORXiSa3IjVC1GtqqrUZT0pOgl9IvH6gz9PM8627P0AzGRHZZ/haN31v3ijEQw89hBNOOAF77703vvnmG5SXl8MnpJqaciXNTEO2EgA/zP0OJ510Eg6adhAef/zxaB6NECZu1erTLeDDgjnf4Be/+AXOOOMM/POf/0R5biFHArqiTUJaUv0qMRJOCTK1614RN1MOJp3OAkvauzKkrtaUcfZ3CClZJO1S2YVN+2if5j6AbYrGno3O9czs5GjJfd8OdcRipwAfaWrWdKsu9fvm2MKiy4OEMY6wZRWqqkQ1ajfu9skkmyTAJO5vvPAKJk+ejNdeew1HHXUU9txzT7wopH333XfHn/70J/VvoMSXcQmZpfBYUotq0ZFMokvCLunwOOiQXtWIi9RWV6OyrEzDpKSlISktFQEhxxon/UheeUwwb5U1lUgTf5Sq4nK8+eabeOC++7Dkhx/VD1eU2bBhAwoKCvSYYXhtXjGTUUmsuVVtvGSP6XFibpUMOkolT7wG5vV7GSQ8/7+n8K6khSSSfHGXgUYD4fXxumQ/1hypNWLMmloszIMrLYEl7V0Vbj2pKq1EuCaC1OxMIE0eUk5AaVkdsrCwsIgPtiWxYmFh4cAlbIaUxmp+SQoNIaYQPE8yS/n973+P0qpS/OUvf8FRxxyNE087FQ8+/BAOOexQrFi1MmpXTon9sBQ13kkZaULAUx23mhAqSkqFGFc45FbSKS8vQzU18YlC8qmBF/cA38gLIa7lajMeoq35TvTh3HPPxTPPPIOXX3gZvXv3Vi07zV9uvPFGzeenn36KOhkAkOwfOm0aHnjgAdz/n/tx9tlnI5iYWC8cEHiumcL14dmGjJ6wB+666y7c9d//4KyfnIXMPt1RXVGOJ596Epf/5nLc+a87UZZXpAOOLSTArUOcNW6JT3IfTaOlIj+tE6YtW42jBbCkvYujXEbAAV8QGdlZTofK59KtzBbbFyxus40nhNm2HWJT8UoroEHlx4oV+TdgN0R9obN1YPYNaaBEqx7FwmJHQ+thtKa60jRaQ9yUrOnXL0l240tCAv15TGhEmD3aoxtN++rVqxGUvx8W/uj028JpqQW/+OKLMWTIECd/RiTwnG/m4vU338D0D97H6pUrEa4NIT8/H5s3b8amTZuwfv16rFmzBiuXLcNcIdqffPIJ5s2bh6oy4QnJSbpiDCPbtGYD3p3+Hp588kl89NFHWLRksYZfPH+hasB33XVXDBs2TDXhqAmrW3FxMcrKylBUVISNGzdi1apVKCrIx6GHHYZjjj1Wyj4BhYWFqnmncJ+mNQxrNO60l1+3ZAU2Ll+N4SNH4MQTT0QvGRjUlVdjzdq1KC4pQVFFMTZI/Lm5uSgsKmwgRRJnsaTPeJiXiqpKndyqS2mG65ea3N5iBjrxsLWm0LKzrgx5+LIysmTw7FYD1iFL2NsVOvm0EWl7HmNi5NYVZxF+j9CtJRIb3kqXFn39LNVX6oYSczlgdW4M5CLOjmfrlZ0dsdcbK9sb8dL0SkeH1LEG0hZIYEcoYiZebQfUZ9l5QtiU+vw016jfqumE+HE+a0+/CfD7/EjLzkaakGeS5NpILfzBAP7whz/gzDPPxKvPvYQKIaMHH3IIbrjxRjUb8SUH8O333+H4449XO3CS8P/85z+YMGkinnvuOXTv3QufzJiBiZMmYfLee+OCCy/Egw89hJ9fdBFOOf1UJdU33XyzZphEc8aHH2P3PffAX//6VyQKkX/2+edwwAEHKHFft24dTj/jDAwdOQy7T9gDixYvxhtvvIH/Pf441m1ejxrU4o233sTv//gHvPTSS7jyqqswfsJ49BvSD3fceQeqqqvwBzk3bJdhGDl6FM455xy1i09MTMQvf/lLDB8xHL/73e/w93/+A6N3HY3e/fuoGdCiRYvw0isv47kXntdqu2HTRtx40/+TuP6IP8r50WPGYNJee2HS5L0w99tvUFZRjrvvvQd9+vTBZZddhuXLl2t5a/vViHjNWRoT882Z5orE7Aj340g8SNWw6MqQqiENgls5OPJrpKJYbD/oQxtHtk+nqTG3DdowKoudDW4tdjcU08w0CY//rYqFhQHbyjZrL8mQGZmj8Xa03M7G2TY0aVBytY1iSBq15fWEzUmXexSeo0SqaxBITVFN9s/OPd+x766twfvvv48zzj4De44bh8svvxwDBw8Sf4lYtGAhbr7lFsyeMwfn/PSn+OMNf8KRRx2F4vISJc/rhWifcNKJOGza4SivrsCsb75Wwvzm22/hoosuRmWoCk889SQ2bdgIX0oAf7z+T6isqsIpp56K0047DQ8+9hDOPOssJb4HTztUSXRyIJlFoyT/2BOO10myA/sORKIvUSep/u1vf8Nv/3ANbrjhBmTJIISluW79evQdNAi/uuQS7DZ2LMprypGYlIR9DjoIkOs4//zzcczRx+CRRx9V4n7EtCORnpKumvJdx+6GSyTcySefjLSkNIwYMQJ/u+023PPQffi/f/wde44fp5p72u53794dfYcMUL97CZHnQGbXcbs3KPt4Iix7CzdzT4xsYbfeiEjghtICWNLelSF1hWuxOw2UixZWIIudBLztLRUBa44VK20hFhYthqsUb9uKVB+p1/TFIevcNfttkljLIGnSXISgfTc15iS+e+89Rdpk560WTVweffIxHHzwwdpOL1+xAq+/9TryiwtQXlmBd99+DzM++xTJicnIzcvD22+/jeSMFEyYMIFXjAF9B+BUIeR9B/XDkUceieRgsprP0KSktKBEw1TVVuGu/9ylWvWZn81UbfWxNHGRDDBfJOvBhKCaoMAvnDs1Vc1VasO1OtjoN3Qg6ipq0LdvX7VdT/YnO6vhiN89J07UdFODqfpW4NtZs1BTVIYZM2Zg6tSpCEhee/bvp+ZBJZUlqKyuApL8SE1L01VtKqo5WTUBfQb0Q6Q2jPScDPzmN79BWXW5hnlLrhd1wDvvvotpRxyhGniWE01rOgMsabewsLCwaB+4g714aBUFYqB44oX3uIn0txlMx/A9j0SEIMRK9HxXQVuUe8y91bJk+bqyxX1vNUxCLjF3ZbuTdifJhuIF0xMympSUhKqSUsycOROLFy7CZVf9Bk8//bSS2ttuuQ09evRQ7yTvr734qtqsB3wBpCSlqD11iZDTadOm4eFHHtEJo4fLPkLAqtWrNUlOAtXVWAQbN21CWnq6nK7DZiHdGd0yceutt2LQwMFYt2Ed3nzrTRxw0P64Qkjx0qVLlVGmi3+as9TJDVIiLveJ66vT3S9/tG1neiT2HAjk5OSgqq5KrwshyYHk8bjjjtNJrBs3bVQTHoahDfzPf/5zoDaCcFW15s8PZ4BA8H4wXX+C31lVprAYFRUVutjGMScei2OPOhZrN67Du0LWv//mWzWpockQUVdZqwOLNr+n2wGWtFvsUHgbwK4oFhYWLQcfnajlgkvavOIlzQ0Qe9xWJJ6PMvMiEg5zdQ8uV+cISUXsc08/9Kt5Zdj2gHutOmiQ/Yoy52M22xVuuWi5e6+zsXI3/uMJIduwEDsKwbI1E/tYng38tubeMoyGcyLyTgSNvYdG2hOcuIrEIJJTUnQCKO3KQ6VV6D2wL8aMHo1fX3YZbr75ZgzpPxhllWVqOhLkiiu8BKmLQwYNxmmnnIoLfn4+TjnpZBx7wrFKjnkdJNYk1dSUUyNNsk1TkrzCPGRnZKNXr16oLq9G//79ce/d9+DWm2/FuD32RGpSKj6a8RGeeuJJJb8Bvx/lVWXMLbp366bac06e5QecQvKnyzbKMQcHBM17CKaFYIL649KV1LbXyt/LL7+sbxTGjh2L5MxM9cv7TQ29PF26pCTh3LYI/D6fpksSnpblDCBI3Lmeu098/fjjj7jqqqs0veHDh0frEM1bOgMsabfYoYi1EetqYmFh0TqQLzkEOd4KDSTLJFXGsyN1obCS1YK8QmxcvwnlJRXO+TaCIXJ8tkkC/H6RgA8+ISOxkiBchdIqctkasAwkLa44QqSmpThu2wOMV/hluE7uj5Q5hftR8u4VuhmJPRcLKS9qTykJwkVJLkm6jETv9zZBItmOk1C3BUqmXfB6X3zlRV3BxZSVPzURA4RUc5Jqz+we2GfKVIwZMwYjR4xAdahav1RKzTvBlVkeuPcBfPfdd1pnqemWJ0dJLrXivH6mQdCNWnMS3uuuuw6DBw/GRT//Ob788kuce85PlQyzzvtTghpXVlqWZCmiK9EQWVlZSpLFl8bJZ5TLQ3KgQBOagPxxW83V7NKSkSDxXHrppeiR2QOrN67GF198gdNPP925J/LsBCQcV5ghaddBhgwmfELiU2QwU11XrXEtXbIE61eu1aUlQzW1GDpiGM48/UwUlhbqWwHV2gvMNRKdoU+2pN3CwsLConNA+tQ8Idzr1m3QV+ZcrYIfaDHCzpivxv1CCHwBhxhrR+8Kz3HN6KuvvhqjRo3SV+RtAsYvvSm/Trls2TIlFCSVHDzQPSJca9P6zVi6aBkWLliEzRtynTCNkUye2w5Y/OMS/WLl1zNnO71/W6cj8c384is8+MBDePjhR9SJtswkb3l5eTJgWIPVq0RWOtuVK1ahqKhYZeXKVULGK4WYCqHjfROprqrBooWLVbj/4/yFeOGFF/DEE09gxkefKuGimMFSFK25rmgYxmOk44DXx4FgTVm5Hg8dOlRuoQ//7//9P/zuymvUPOatl19XjTL9UgufnZ2N3XbbTSdbDhk4BPfefy9+8pOf4KLzL8I11zhhSKhpO/7hhx9qvEuE7PLrpCVFJTogGDxgMHLzc3U9ddrTz5o1S4k7w6xYsUKXhezdo7d+nbS8oERNbjioYt6mT5+OlVLnqQ2fOHGilGgEf//735WQv/T083jnnXd0+Udq4EnMP/jgA4mjWB7UEIYNH6529pnJmfoBqd6DBkqFqEGhPEcfSbycWEowP0yTH2vad999kZ2ejTnfzcGVV16JRx55BMsWL0F6diZCFTWqYeeAglp82tMTRoHWGQg7kSA3t2PVTIv2gzz7pY/OwtsvvIa9zjsSQ4/ZB5ABdjgQ1g8Q8GMMXsSr0lRImMaECEuDy5EtUV5aqqPr+++9D+eedx7CMtqtk/NBf1A1BgzDZY/MJ5ud+OU30jkenjZBk4+fnPNOEtZdKZuiBKy7710s/vQb1CQn4IhLzwQOGo5ISrXeN4W3AYrucxtTtuZcjHNz0VTuLbou6uoiSqy4kgS1cQMG9JMOP4SA33lVH7d6CuJVQz4i9MPt5s15+N///qd2rmtWrdYPsiQGg6pt+/zzz7F27VpcdNFFSsrjabFJntn2PProo7j++utx33334YQTHLtWJbFeUAEX6xYLPgDMm/BMmiv83//9n5KZ/fbbT1fIGDp0iMbx1ZezlAC98soryMjIUK0hV/jI6ZbtxBML5tuNOy6aOtdEvu+/9wEtm9/+9re48cYbGo/DYGvnCU9e5nw9F//4xz/QrVs33ZJQk1TyftEMgpMjSZY4eFq8eDHmzp2Ls846S7X/tDUmOeMn+UfvNgpV5dVKCnmP+MVPmnqQaJ4nfcnzzz8vg4KHlWiSbJkP8Sj54rWb62femguWW5U0r+/NxezbX0GPpBwUdgvg4N+eJww5FTVpEq2kwfrj5zKAddLXycavFbglCbUEW94Aasq79+yBhQsXOkUvF/zq66/pwIikmhM9zzjzTAwdtQtqpQy1f5Z+gQPcp556Cj/88IOWF5dpPOmkk3T1ls8+/VTduQQin6HRo0fLMzsA3377raZpJr+OHz9eNfQcnC5YsABVMsgaNGgQjj76aE1vqQxI+byzjjMNrihDu/HBI4dhzdKVSsw5uKaG/dSTT9EVbwiasjBdxs+0c/r01EtfxkHa8y/ocz5g+FBsWrUWvfv3w2Ny77lmfGZmJlavXaP1jV+E5RsBps96w7cN++2/P/Y5aD9dK15uGnI3btK4rr32Whx22GF6XV6yvmVpN0SDNTtU+Nf2IAViUpvzcrHHHntgHxmMvPLWa5qoJe1dGZa073g0+fjJOUvaLToh2py0S/MSFmKszYx4evihx4Sc/xwzPp6BCdLR89U+O2CSZS7lRi1bclqSE4EBK6tIqLZONezUylGjeNxxx+rp6uoaJKUmSublQNKprQ4hmEx1OVBcXIKsrEwhLBVIy0xV/xwAmLybx5gmBIceeii++uor1Wg++OCDCATlmZT4Kkor9WuR+wuR4MCCr/JpJhBI9KO6UtJOkbQlvnAtSRZ35N81/2E+SgpLkZmTgcqyKgnL1TYkf0kBaWfr88S8anlJtm/76//pyiDUdgb5SXrJRkGuYxpAokVbZn0bIISGbyZqqxxTEy0DAY+Zrl6n+DMgmY6WLa/bHSTU1Yb1YzeM+1//+hcCSX6Ng/3DH//4R9zxrzuwasUq9OeqHhKGmve9994bt9xyC0455RSdfPjBRx/g5BNPxnMvPqvR672QfP/kjLP1Y0F/vfUWTaumshbPPvssbrrpJn1zkpmZoWWnMNuWokOS9hgwLd5gSdjUOV3pvYlrNjlr627VdE0tidbbnTUHjcUdG01j10ZzoZeeeUGfQw4OOZBYLM8+STv3Y+nv1rTtsaSdGWnJ9TcXvB4m1YC0vy2kXcAm0MJih4EPTazIT9cRCwuLJmEek3iPCwmtaldFkpOT9BU+zQFIKvM3FyB3Yx6KC0pQXVHjTMCMgdrWshcUYkjSvHrFGqxfvwFVFY6GkuSQvXJWt0wUFhaptpfxEqrRFXjzlZgUxD777KPaRU6gu+eee9SdRDc1I0XXhSZZoD05iTCJbWV5lcZLO3v60zwRkicSRBJFXkdmVoYSeroxTyTsxYUlelxaVOaY3EgY8o51q9erRpRmCtRs5uXlS0aBbj1zMHLkSPTp31vDMT616ZV/EnTmjcSeRJ5vL3j9zCfLj+Y969ds0LLleQ4imA8OLBg33zBwxRIScQ5E9BL8fiSmBFUTmhRM0rzQzIVx9uzdQycYcmIj/XAwc8hBh6i5w0033KzhdTKvpMV1t0leeK9C1XXq/8ADD1Q/H3/8sW6VPe3sjMZUNlV0uftbAYtFt+K9LUXjdDbbDUwmnjQXnBjLNwiffvqpLks5/b33dFCdnJWmz9zWSHpHhCXtFhYWFhadElyJguSSNuT//vdd2H333XH44YcrUX/zzTd1KTyaVBxzzDFqfhELXclC+u2N6zbhz3/6C26//XbVEtM/zV1IDstKy/G3W27T9bD//e9/65rPH7z3YbT3ZL9vhBMuSUL50RmaevBLlV9+MVOJLgkw3wgMHDjQCSvsg0SbaVKYzz//+c+6tB3zRM3873//e02PZjeXXfpr/eoll9zj24KSolLcddddml/aCNPsRQcUwpdpTkJ7XhJp2jjzrcf7732A31/7B/3KJO3BabrAz91zfe07br9TiT5NCuj/Zz/7GV599VW9/rvu/I+aEvH6uTLJM08+q5p5av2d609ATXWtary5njfJt7I5GQjw654cGPDT9Rx80JyBmnza1N/xzztx9HFHYdy4cUrMGc+vf/1rnTjJ650za67zBqC2Vu2uGZbQeyYYNHSgljXfJujcAYtGwduxPaQzgANlPhu062e93veQA1BbVqX1zTvop3QGWNLeReFotN0DCwsLi04I2sGSaJK80tSFxJAabdo60wSF9r233XabTjqlDTlhJi8SJIOFeUVq486VMe686w4lyiTXnCBXVlyuEzdp4kNSfcNNf1F7XE7yW7F0pcbhBVetoM3xrrvuqq/kGQ9NQ6ilJgHmpExdok7aXprf0N6b5PmKK67QtwRM5y9/+YsSXRJ+2sDTBIRx0MyF8ZE8U0N/wQUX4LHHHtMvQZL0016Y5wjaGB9xxBF63fwCJW2XDznkECXE1GSTzI/adaS+FeBkROar/6B+6Dugj9ojkyjT5ve1l1/XOQQsy3vuv1s13jQtoMad2ncSc75x4BsGTmCkZp0ri5CE62oxco6mPrxmrkjCSbqfffK5Tibl5+lp/kLyT9Mm2iFz0EWTKprCkGhx8MUBD+8X7zPLjXbLLB+mzbcGNHXqLISrLeG94nia8OZIe2J7ptdY3KwXRxxzlD4//3fnP7D/YQc567xLfUrJTo8uN9kctHd5NQZL2i0sLCwsOiW4XB2JLW3IaQ5CUKNNu2q+DqepBid7UiPLiXjr121QhQU7bXbotCsncSdB50TW7+Z+j+ycLCXDJLmcIEeNNeNTTa8QRU6U++yzzzS+WNVjVg7t3ss1Pk7k42Di088+VXJO9OvXT01I6JcDDhJ1arrVDCaYoGSfcZMAcxIgSSzJbnZ2lpJhXWmD5jECEnN+2r1Hj+5qfkJiTPMTgmkzHMkwbfcHDxuk8VP7z3lGzCPtzWl3z/Pff/+9EmianrBsOFkvPSMN999/vxJ1rkJCcxhqxUnwOYGQGnO+WVAWIcK06c+n9tauqaOAZknUjnMFEk485WojvF+cSEkNOdNMSU/WwQIHMPsesI+W16eff6oDLr5x4Ad4ND4pt6TkRL0WavcZhuYPTNNJLEY6DdwK1GxxEO9Mi4RF2k6yveFNi0tQ6jKU4h7RuTRCzqWe6YRUqd9qzy71X/14wjUlHQWWtHdldKCK2BSYzebIjkK8vMSTWMTz4xVtcSwsLBoFySVNUahp5moY/MIiyfjEyRNU60xb1ptvukXJIjXk1FRTu2Y0szSrIQGkWQaJ78S9JmLcnuPVNGTgkAFKRKmB51ckSSR/9ctLdKk5mpg0R0t31jln4uqrrlZt/YP3PaSE2Zh3ME/hSBhff/21apcv+cWlqqnn1yo5SZRmPpysyfQWLlykeSGpJ+EguIoKX/ffc8+9+naA18IBCOEP+tRsiK//qTUnQadmnNdN8qtfp5T8U4vNOFhOixcv0fSZ5nEnHouC/EJd15sDBdqe00TmjTfe0DKnhrsovzhKzNlg8bpYvlVV1fomgG89CNqv0z0jLUO1/r/73e9UeJ3MnxmEkJjz/nHwcNLJJ+LKK67U+8p7QX8sE6ZTKySMSEwMqs2+DqZ2irZSaXQzxAMpj3gEszmiYZ1YuhbkGTCLZXRGWNLeRRFtbDs4IrHtlUgCtSru1is6lb+dES9/jYn6ddGccJ3jDllYbF+4/Dq69YKEslffnkoiuToEJ4wSH07/SLXIJMYXXnihrihDQkrNuSGU1ChziTuuxrLLyGGqab/jn3eozTlNYUiySQqp4aaG+R93/F1NRGi+8tBDD2LqvlMaPK8qsZCHmP5pakICynWpe/bsqRp7pu/3+XHQQQfh3gfuwY033ognn3kCd9xxh2rWaYbCtbi5ugpt0kmuORDhSjA0P/nvf/+rtvckrSTt1KJz7XozeVbXqxdykp6epgSemnFq+umu62jLYIXgmtV0p4kQTWeoWSdYRiTiNLG58eYb8K//3KlmQXfffTcmTZoUtTE3oJadAwQzKOGSm8yns6JNRNNlPminzqUf+ZaA/pNTk3RAQcLOgRPXaiczof38lClTVNvP+QV8k8AvoUYn6kr2GUY/208mI0mpdAXEq2vtBDPgJbjflFi0PSxp78roYKzQPOjszAhDcsPS4BthljXb4s/sR924lTCx7o3JtiIssbAzqpP8evPoldj0NH/udXnPxROiwXGbtIEm5sYh2Y5uuTQbl9ozol/1NsLzKluPc3uA6VJYX8x+rLQEJky8+BpDrD8jbYnYuJm/5kpb52Xb0HQFbk31VgIs9ZIk9MBDDuBDqaSWdti0mb755pvUTptaaJrCUONLsJ1h2dDUg+X0lz/doKYkv77iMrz44os49dRTdfUXEniSRE6y5NKHBMnsokWLsWbVWsehiSKmaQi12SS7zMMTTz2hWm5erE7AlIeKpjDUWvfs00M14jQR4fKT+qGZ8nJdJpKmPlddeyVyemRLfsJqYsN10Gkiw4/aUMPOtc5JpGk7z9VkOEDh9W7atJnNpYL29iTyJOYk95QevburVp+TbN966y0d/LAcs7tn6UBA1+qWY4LEn0SZE05DoZCWo56TMjDrr1N4T6I3VFgGy4zpkniTyDMe2q3rUpXij28PGI73gjbr9KOTYO+6C599/hlef/11x4QokKAkn+BkXKNp571p8AXcTgVTUC0Bw5hwvOjWCNuHBg25E6NsI3IfuByzcef9Myka4Xnts2PcWyLbHVonPMI20RWeayli894u1xADS9p3IsTroE1l9SLq1vI6226oqqnWLbNoyLx2EDHHxo2I+o3RwDcmSqClHLwkJ1bilR9hiDeJOWH8xfr3uhm/xJYxbolYP80J0zRMDNwacWEO2cgJSeF6+xEhB9q4Md9Rcfzx8vU1K7f89bq3m8ivm26s8Fy88w3Dx4r8buG/YTxe/+a815/5i+e/pcLvF4TlHlBi95sjTN+7Hy9PXvfYc20j0RJR0XQ88PptEsybeGJ1XLd2o05a5BcXSSjXrVuPjOx0h1SLH66lTrK9cfNG/PDDj/jqi1nqv7yiXAk5l1WkTTWfb37gh88mSTkndJaXVGhyJIO0Jyfh5gRWrsZCbTbtummTTa00SbIhs7oVeeqJp9UmnUs98i2A+WQ880PNeEpSijOhUvJJ0nrRzy/SlVJISqnx52CD+9SYk4zS1pyfW6f5zgnHnohrrrxWCTPPcUUWflCHH7qheQvdmSdOEs3ISFd7b9rN85pnz56j+eB5Dk6o8ScpZhkQ1HrTfIjLZZpBBcuJaXNgc87ZP9Wy4aovJPczZ85UEu4POBSC3I/mSbTz1y9V8obKPWNaHNxwYMJBE1f0YRvNa9V20R0IcZItP9bDtwzz58+XuCVeIf67jxuLx//3uPrROQsSLyfwEoyHk2+Zd3Mdnu6gg4MZNdIKuM9rFBoVH5IWiMAh5rIjwnbCtF3aZnCGsWzY5siBfmOFwn31x28u6Lqnmni9uPFRHJ+N/EnaDLE9YPpcQi+V1xMrAuOnOYjmlUFE3CJsd/hvMNPNLXYKeEmsF7HurKy+ah9q5q3D0h8Wof+44cgZORBIlHM+eXhlZG2IqUG8mI2biV8ffAlL1EqDzQ7puGOPw57jxrkkMKKvhNnIRh9at/IbkuxPTEIgNVkabfc4EAA/GqRiUmQaLXjgYqEPq4hJ02xjJS6YbyH93FIDocKPGtHJ9WKwxf2IPXahZR0nvBeOF/mtSkDpnGXIX70RdYEEDJ88VhhANyBYFy37Buk0kmY0NXNerpflYES1MIp44R03U0QmikaT2g5g2ka2zKNzHJufpvIXP76G8cSGbyz9xvw3FyZeXafafQ4Ifv2QQlITrXuNiMmTty6beHmO29j8tTa/sWDcJJwffvARfn7hRUIy0+U6+Ng6CUTLx7PfFIyfFStWKmmmnXnvXr2UlFKj3K9PPyWdCf4EXcmkokzIt+SBXyGliQmltqZWtd00k6GmmjbSJII0/2BYEmGaYTB+uvEDTVKSmLrfFAzoN0AnX9JMhes7cx12mm4QTLOosBhLly5TPyTc1AqTINP0JSk5CSnSng3oP0DNQ7gkYp++vTXuY487BqtXrdZlC0loSWxpSjN69ChdL56knISf2mfmlYMNmvHQ9Idfj+TbAB5Tc07SzFVh6I/L3NGsh6vRkMwzzzVVNbp6CzX51MxnZWRhl112kbJNQHJSsqZBjXvvPr30ugKJAYwZvSt6STlz0ignzZJY0y79mOOO1uUcFW494ko9XDOdH286+uhjlOCRwLNMSNr5VoR5oRnNyDEjpM30oa62TpfE5CCC95L1lveH+eMbEg6Exu45Vied0m33PcY6hF7Se/nFl7WO8V7QvMlpk50sRRF73BT4XMh4oGrZBqz/ciFSAymoSvFh6NRxQE4Qdfz2lVwo20ajheZG91sMhmkoTL45cPpAr3DT3ND1cMpL2hMpc9MX65bth7kmuUbdl2sO1dZK3y3npA7LjZIKwj7Y8aYFsZNDr5B13exvT7gJlFdUqAJg4KBBOPOcs9TNfhF1JwJvZSxJNLfX6043vvINlAZQ+tSO/SIq49RRvW5JFiMIBqR1lIa5RjoaNpD+oJB2N37613Ax10OYvDQXGoN08KWb85HBCVwmTomjVDrejF7dZeQhvYbkgW4UTtLqMagfyvOL1CxGX81KMKbKvNKPNw/efDJ/DfJdv1vf9rlbQptxb1wUBmr1F1FjoTG6u842LPWCdYPCvPpkgEUxMPk3W82d7JokzLY94BS3U97eciXq86mbKMwxi5V1zQxQDBiOYupzbDxmSzAOR+Kl33DbUoRCJOt1jjaTJEXgvP5vYjAZA69fkz+SRpIikuhaIUy8zujKG4LW5jcW0S+i/vF6IY4zMUAIWE2NPMvutUTLx7O/NbiPl16T3ifZZ1gN78ZRVlKO9CxnSUV+IMnAtBlGzP2NBck8J0Ty40cEV0dh/TDlVx8+JtMxh1HEuG/emKsacH7R1AzGTPzOvSCJAubO+UYJP0k5t7QD5zXd/Z971NabZJwrwmwB53Y74L6IWwUU3rpjroH5YPz8gBNNdAj9Cqqc5ldXWQ8bKz/68eKll17Gww8/rBp6DgA4oOIggoMRo5U3eTRZMffTCx7yPM9582zS5yCCS2LSNp5fU+VyldFrr/e+Rfk3CTYD7fZFVIapz5y3L2gOGnJ0OWjo0Gw4ehkncdZDljXbCHlQ9frMDWZfrG1RqjwX7K/5MPJLvwzPfcLcJ8/9arAfDxK99w10R4aWhGS1hbeqVTCcwn4R1aJDw3RaXKkhb/NmfUVdWV2lx3wVTCHh4CtX08B4G3RWdHYwPNdcqSuvQkbv7vhKOsG9J01S4T7dwnIuLGnRXETNRAQ9uIKB7PIFFbVxf7nxBn0FzoGKrnwgMB2L6YhMHvVBdPNcJ62lps+G0QWPvddUf2XtAKYpwjxH8yh54yt+DlRMuVNTSY0YX5nrm1EXbnC5Bke8+9siJH8Ug5UrV0s9YH0oUU2mKSvCW+4s+nhi4Bw7fnVynNw/3kfaD3ONb7ozbsefE4bkhnl66aVXcNVV16hZBhEvPQPvtZgyagqlpeVK2Kl55AREalb5NcuysnLVYPI+kAQ1R/j8UMNKkmGeC5pocGJfbm4+gtLpMu+xtsBby+OOAnkiuUQgkKBbjiW1DpryljImSTSg7XNySpLaddNmmrbuvM+GcMZD//79dJ13PnxcPYVEM5gY0C98BmRAzEEHy6y14KTZlLRk3Wc+GGd93hzCTnCCJu2/qanmSjDE2tWO6QmXaOTEUbUbFyHBptAOvK42jFBNnYoz4GjYRnphnPW8/Cthpxu5mpQty5X5aqz8WJ9CoTol9jU1tSonn3KSfgCK9ZcftmI8HEQxDSWIJit8TiQanqfGnlsVujVRvPRLbT7t+TkngB/MiRJ2E3cng8m2uYStCWG2UcR6aqY4bZcjfKOt94n1QY7NVnb0Xvvd+SB1OmdBKokM+uWEujUKht8KzPPENNobTLm5QpjtjoTbRFh0SfCh7IDgCga0H+UrX378g+slU6vCCVfssPhqmGsn62u95ICG4YPPjs40Os0VPzVepZVq07pw8UL9GiFf5aKiRuMjkSNB1clVZAqSzqrFS3WSG0kRl0DT1RJ8TsNnBh4Uc8yOjmCj5BVDpBjeTMJingiGNY1Zu8FNM1EaZ378ZOzYsfqBE2pM+XEWvv6mFo2kjxquvSZN3qI8jXi12F6J57cx8YabO/db3HHHv1R7R80D6wMn93EiHj8yQ5teLyT4VoXFy4Egr5kDEppGcHk5rvvMc0yXRH3z5lyN0wywuAweX1nSRMMgXvyGMJnrNuRYDqN+jBhkZKQp2eEHdWhfzI/hcNWQqVOnqr0vlx3kPokRjznIIHnhPeE9O/3003UFDt432h5zaUL6JflPTk7U1UZockHtZHl5paRdX96EyQu3Xukw4CPRmEhvxomKSkg8MGSQfnhfGxOC16of7hFQ465wz5ne0vhVcN97vDV4iGs0T9y6+wo5v/c+k/XLp1xx5rJLfo2/3nSrDrgIrmzDNqX+/njv39b3vaCTtjM8xert1s0oJF/xys8LE6+JhxNZSapPPPFEDUM3Dk6i4WLC67HXzXPMOL3CuLhSEJ8Dfj02KSkxmm+FN++dCuaimyttAJan9E8qBAdm0vY75ewobRRyXpcZlUFlbVm50xemqK2QE5ZvUFSkorCvY59Md7e/VIUXw9M/3bhvJEVEwDSpXIhXR7cXoqXIJJshrXyZ0eZw75ZFV0N7PhwtATujw444Qj+vTdLOSVucEPb3v/9dbSr79uuHt999W4/fevNNhCtrlTyzQUhMTUEwMVHai3rivDWpKi2FPyMFBxx4IC668CIlOSRBSE3UZ/W444/HXpMn455773UbJR/69O2D4084Accdd5wu05aUnIx8IXbZQpZ0xRhXCBJyX1IQgZQkHQQYEkowfWp5+eqYwoZxa5rA9kBFeblq15lfrs/8y1/+UteHZiPOtaH5dTluqc2lmxl8GHJqrt3b2bZU+Oqemkd29pQJE8bhpz/9qZJY2iKTsN9//73OVxtfe01JNBt9km8K8+5ISLWBziCCeWPd1+wpunfvJulJ3yGDt5/85CydEMcBCt14H7hP8mSOiauuukrJPW2TmWY8MWXCsjDXRNCN55gnIxwYmDcKa9asw3333af1kASbfjnRkHbEXEmDmkU+E7TRJmnhJ+e5T3vfCy+8QMuDEwm5zCEHvqyfnDTIAe+cOd/oR4b4WXxqankfiYB0uH6/o3E3ZdQpEe2FY9CK64mWAbeGaG/PcpG4qYnmV0S1PtSEtb5Tq8xBGxUVvJ8crNJe3dQnwtQvCusoxevWGMxzqvXac20axBxz6zlnQD+xaapyQty5z3ZNV+oxYfnoUBrLTpw04oH1kzb2lC3QzDgsXLB9kvaFW7aV0hips7bhsq/9FOuI3Fe/9Ku8d/TH+R/cX7VsGc6Q9vHa3/xW5fQTT8L1v/sdrr/6dzhZ2qv//OtOCR9GfmEBvvx0hrZP5593Ln4t/clfpB7//da/Yv2yVZomwbrE9q5dIZfHKtkc6SjYsezAYseiA/bOfP2PRJ9OouKEruqaaiVhWT1zMGz0cJ1slZaajhVrV+Lb776DT4huWrdMHf0XFxTqEmqFxUUqEXnSvEKYiWgkVgnSGGnDJBg5aiT+cfs/8Y+7/42xkyfoU1pcUozNuZtRWlaKisoKhKhRlzJLyk7H5VdcgceffAIHH3IIegmJTM/MkAbHsdNnqRpJy85EWVGJCveT0lLVRp+NnzFhYEPFV5P+xGB0PsCOAhtslg21vCR8PXv1RFp6quaR94MdMQkuP2hDIug1LaG5BQkgX+GTdFOaIg0GxvSJ4H0kh2CwykquMKFFzn5FNcgsN74N0RUuBCSgzDO15Ly31CYzT6Z8eT+YB+2IRBg387p27TrxXyjpVUeFr/c5uXDwYMdWmG9YaPLEvFVXS6cmYLycx3CgDPI4yGL88cC0WGb0TxMVXhcHcBSWrxmMsOy8ZfTMM89EVwxJl3LnNXGfS/5p3ZJ46Z9aYBLtESN20XvBY5I9lhHzzLR5P8aP31OJPgdhfIOQJAPIoUOH6BsKvq2i+VNlpbtSk1tGOzVY1F7xgLfBEdZbZ3+7oZlxsy5PmDBB20PawtfnMZ7UE/XmixO2qXKJC/Fj4mC99D4H1MqznaB5T1QD3gowHoppS9RN0gsmB1SYb62uJs+OF4tmgs+69n/SBun9474I3cx91QKWNowkHqGwuvmFtNcWl+uAcuPmTTjm2GMwYuQIfDnzSwwYOAAnnnQiamprpO/MBZKD6DGwL7Klffrs88+1r7zyqitxwIEHqHLi2eeec3PDpB2FhkXTkLtiYdFxoK/hpPFNTknRSaxEmZAvhbQfJDl8sAPyx44hFKpF7obNuP3OO3QVAU54pYaK2lB+4lwbGQlD8nPnv/+lX/O76KKL1M8R06bhpZdfxmcffIwrfvtb1ehPO+BgfPDmO/jwzXdx2a9/jRIhQNSe09+ZZ52FRx96CP+4+W84/PDDsL8MIBjXxk0b8cijj2LaEUfgrLN/gnPO/Sn+98TjCAgJ/++/7lJTBC7ZNu+b71AshJYr6tCM4Qoh/tSM/u2227CQphbC1+ukcTTkaUcQKDbWmVlZmChE4bxzz0VFuQxWah1tOsuRDWtpaRmGDhuiWr9333kHxxx9DK65+hq89OIrOOH4k3D2T87Gm2+8hcsu/TVOPulkrFi+AsVFxbj+T9fjkIMPwX333ocN6zfoUmKVFZV44fkXcMVvrtDl7/j1yM8/+1LvNesC02WaRkhcSAY4OJBDJcFcXYMfWOF5gutb8/5TC82P6rBz4NckGWbJkmW6rB611NTWcwUOrrhBIs97xEl/H374EZYuXa4mKrSbZ3wkzTRB4XJ+1L5T80mN97vvvqtrevNT9E899ZQOMFnvOJjgR2u4WgfzyDzQZIVp8MuSHDRwUEJSb66NZJ5L2B166KEyMEqSa4/o5/OZFjWLnNtBm23WaebLaOdJylnH6E7hKiC8j4aMs+6zLnEd7ZKSMhHnc/QsX9rJ8zzjYRiKxQ6AFLux76YdvREvYW0uzH1sj3vpTSuanrkWmiq1IcMw5WDWlyfa4RJ3WvB+sb2QH23bGxSmuHHASLANVjItbYi6iT+2W1SEcTnUA488DD2lfSqW9unY447DxP2m6Bvv/fbbTwJLQy7+UtJSJc4EnQc2dMQIHHrMkTjyqKP07TlXFErgfA4Rgu2gReOwpN2iQ0EbD20fIqiW0TpXLiE5ryytQFF+IT75dAbKq8sxceJEnHr6aaoFpQ3ljTfdiNPOOB2PP/44/iSk6PkXXsApQqY+/OgjhKTBufNf/8JfbrgBAwcPwrMvv6hacmonaZ/MD4jQbn7p6mWY+dVMXUHiQCFvbJBIEkmoaEd8y61/xX4H7K/p5HTrhjnfzMHXc2ajWojaYULiq6qr8NJrLyvxos03pNM6+thjVGNL+/Dhw4fjV7/6FW7+681qdvPYM0/orHDaf5JEomYb1FJtATNIkG13IcHU/qdKY8uGnfeDJI+klKY8BkcdfaQQ8YPxpJRnmQxwph1+OGZ99RVSkpMxdrfd8Nprr6JQSGG3nGwh8z/B0iVL8J4Q3f79+6pi7I7bb8cjDz+Mu/79bzz00AMax9VCuAm/GtI2BLXIJK7k5+xISMCpQaYJT79+fTBz5izVTFNjzg/r8OuN7BhIlAkuq8dJco888pAOnmj2w5UoqKE+//zzda4CCT6Xp+On5WmKw8HcpZdeqgM02tPTPIFzGailPkIGarSxnTFjhhJslhM1o+x4aH/PTor3lx+toXnLo48+rAMEDjDNIEPrvIBly0EB6zZJNJGcnKR5I2HRlYokfoajWyzY57IjpqkMy4bPzY8/LlJbd5rXMF66sU5zoEN/XGrQxMW4zZa77mHnAitVUxKLOOe83GWLcOY41r21iI2H+6z2FLMvW+feum6NiPHTEomGj4X3XDzhRrYNxOTZK7FoyXkDcyzxM43E5KCKcWsA49eIRePQCiBwFQcKcYsOvgiX0AeoTAu4Gnlp21J7ZGvbx36My2S+8sormLLPVPTt3w/hqlq8+PJLOGza4dEFHL6ePRsbN23CodJPIlHil7aloqoSvfr0RkZWZjQdEnsOBigW8RFb5S0sdhjYcGiDUec86CQ+PJ7zzVy1vz1MSNCiRYtwxeW/Va05icerr70mRPsrZGVmY6yQKz70I0aNxKTJe2HD5o345x236wo0tXUh4cQ1+lnz/z38iJrI3Hrb31QbmpiZqoSrX89+QkwdW3Y2TiQ51JIS/QcOwKg9dsXw3UZh8PBhahPMAQXfAvTt1xdDhg7Fz4T05WTloKCwEN99/712GjR/IdE/7/yf4euvv8a7770nY5KwvkWoLC7X66uuq9a1oWkWwYbLiDaQHQDU/jEvzBMJXYNGXUDSN3yX4apZufSyS/Dcc8/h0MMO0Vf6/fo6n03nFx5JkKnZJvmvrqrRAReXr+NbBxLS3M15qg1mOXzx+ZfOqhIxPS/zQZJO0x1qoB977LHoEnPEnXfeqVppar+ZzQED+ulETK4I89VXX+vHXzgR87333pfrSdCP5JCEM17OoeCAhAMDZ1m+FN3yXnM968TEgJD57jogoGaf9ZPae8bPASDt4TmRlO7MA+3+qcWm/TsHcawLBQVFWtdoQsSJrEyXt5llGu04XZhy5pYEmlvGzXvAcN77YPywHGnGxHLhIIPPDc1nOADJyclyfVt0aLABohjwNhtpCl5/zZVtQWxc7dFcefPs3bdoOaTN0KWUZatmmRS2R9xKY2IG8erOtsY9rGKfGIqg77BB2mbVyvGyFctVueEFvWubJkFXrVmN0aNHY5D0CVTKfTT9fTWvYbttlEBswyhs2whL3OOjY7ACCwuBeWjlSddjPvAhIdskOdR00vyAZJhEb8KkidrgUDNeFapWm/Lsbjna4PTs0wt9+vSRtiJBX/8zHpKuzPQsLFj8g5opcCUUmndwpM9GxbFJr0NVbZWaXyQIsUzNSFf3GtTqRw5UE+6uLEF3NmTde3RXDUIgyY+TTj4Zu+62m+bnwYcf0nhps0dNfo++PfHe+9NRVlWm4amN58QyvmY85ohjdKUFEjLm1Ui00dxRYPphJw/MD22z9f4QbtacdX4dW3SabxCcd0DwDQNtqWmukZScqNfH6yVp5zEHYHTjmtM0FeLkYl4zTVT4ViIeqB3mYI2EmJpyTrKkyRPj5LrjJPScmMk0CS6hSMJMos6BGj+YQ2JLTffkyVPUFp6DDtrCUwPOayBpJ8EmyTWTWknGjfab9YTE2JhvTZo0Qc2cuKY280CtO0k9ByAsA9ZBfuXx2muvxUMPPaTXzFWR6jXcuol2Vl7wXLTMBfEGTQaMl+VNP8wP6/nzzz+vq8jQHIZ5ayxsY+47HXiZXvEi9lzs+R2JeHnbnrI1eP2y2pqq25ywzYU3jabibY4fiy1hGh7CtD3Szktj4O7KPsU5YMOn/Svdy4qKUFVUpoqc1WvXYMXKlZgqbRpjNEJQYcZ5DTQxpEKN82h+f+11+O/dd6sSjuY0ND/l90EYxlFiWFraFGzpWHQIkDREH1iXmLBBCPgDyM7MUiI2dMgQZLrmKtWVVeqHpIogoWRYbgvzCnQSIokbCRhJDCdN0q54ysS9VXtaG6pVe2SuOpK/frP6YXgSfV3bWkjohvXr1YaPbjxHslYpZK682JnoZ0wQGLYgrwg9enVTMwTivffew/8eeVwnTU6bNk1fIZLYalzyR3/UCtOu+qU3XlEzDppemHh5jRTGTdkhkPIlESRMvrSM3Ead4Hnmk1ver8qKKl0bmy0wB1ssa96LKte+mloVli/JPuPiSgRcHeNf/75TVzz5v7/fpkST5in8CqK5drMlsWZ4avFJ3mNh/HHCJXc5AKO5C01qmBaJMr+SSft0knFqyVkvONGUfuiffnhfnXicVX9I2EnUGSfd+AaGhJzHFJ3bsHGjvibmIIR26SwTDgJYLk469+iqMNddd51q+PkZe5aBm2XdN2AZm2LmPq+Lx4yTx8Yv91n+BO8P80U3lg2/qukF3QlzT2NhzltYWHQBSJtC8xUVaRMi0s6pOYtxNw0T2wWKtC/S8GgbzjaQ7VowOUnn11AhQkWL6bco/BZJurT/hfnOm2eamPbs3QuTJk1Sc8b7H3pQ21umY9KybdDWYUm7RccBH1hpCPiVUhKzXj166gicxM+XyAYi0XmdJzCTZA7Y/wBkpWWipEgIVV0YSWkOyWIjUllTqcvykdhzjePhw3ZRMv3yiy/h2quukfMVeO2VV9G9Vy9NSz+DLnHy9V8gXfalHSkr4QeTIqiVOHguJSsNaZkZSE2WhksGBSXFJWr3zIaOr/1OOflk9OvVV+2xb7npZhx5xBHo1b83yiU/+++7H3p26ymxhbFs6VJdJYeTPqtLKvD5Z58hPy+Pl9RxIPeDjSjJs5ncSE03zVYM+OEZljehJiWpzodjOMmS94hmIAxHIk/Sy8mbJPG0TeUKNQxDm+uK8kqMGj1SzWYWL16s2ml+jt6AnQCJKleN4WCAAyCapjBur1CjzMmf/PiSHLKP0Ymm1K4TnPPAAcG5556jr2c5gZPzGlhHBgzorxp25pkrr/AjR8yvMyBJ0LQZJ8kx7znzxGMu20jNOdOm2Q7d99hjrF4/B5sMRzv6Yhns9e3bW/KSrnb0ZoKoEV4fyTa/GcB4CbMluM/OktfJ6+e1MS1zjpNXqeHntWoZi1ts+RC8HvPBLOY5vt+Gae+0IFfwSixizxuxsOjskAZEv3VCMc89GxUBt2rHzkaAhF7aGbY1JPdcdS2Ylopgeor2YdSi8801l+P1tmcUSDfN9oztFk0WaQfPt5xcfau2ylHkMF1C/VtsFc4dsrDYwdCHnAREZPPqdfhECBXXp5amAkuExH34zvso2JSHitIyJedhrm8tDchxxx6LM884AzW11Xjh+edRWlCCH+YvwNLFS5CVmol/3XEngv4A7r37Hl1vu7a6BntMmKBEKih//DAPQTOJ4qIi6Y8j+HrW18hfu1HNH2jX7pc/rgVOM4PZn3+FVcuWK5mrrqlSMv7Cc8+jW7ccbNy4CYOGDMIF55+vBJ/XQ40rO/m01DTsvffeOlGzV7de+nGQO/72D8yVBo1mISSuJJsdDSSo/NgVbcFJBqmhXr5shXvWAcuCGmVO4iwRYsrrJckngaTZCidhTn/vfTUboR07v6i6aOFiZAh5pXadkzq5UgvjffHFF1UTbt6gmAad+aANOMk8te0k2sZcxQuu8kIyyjcoBD/KxMmnnAC8775T1dabZiorVqxSzTqFplPsVGbPZpx1ej2FhcU6KKD2iGY8//vfE6qxr6kJKeEmWCZlZRVK8Am+MVi+fLkSeIJxkaTTtIumM7S937hxs1zjy7j33nv1OqKdm4CknWEZB5dvJNzL13JgWhxocPDDNzizZs3WcqLGi+Aa75w3QTdnRZxCdTfgZFZ9eyWDCV4DV23gPANjpkN0qY4z3qV2ocu3sIiFknNpt7ThcRVjbE840Gf7pO0x24hwBHUV1fqdFH7YjnN4kjJSou2ZtiM0rZSouDBBQNodTtDvKB8o6szw38DvsVvsNDAkJxax7hw1+6t9qJm/Hkt/WIT+44YjZ+RAYVvyTPoiOtKOxEQVL2bjZuKPyINqRuvUTtPu+Lhjj8Oe48Yp2eZ5v8+xi2MYDeU+yNznEoNcInDJ0iVqRz5lylTV5JLssWGgJtK8mmPjkZ6Vib0mTUJqSqpOYPzqy5k66ZBkhASw7+D+SElKgU/SIkn68vMv8IYQcBIjToDk0oDLhOBTWzBgwABMGDdB487OycbwkSPRW9Ik4eYKNMwvXw2yQSJpysnuht340aFwHfbfb3/UyIAgJSlZ4yHRo0nOpAkTEaquVaKU0T0LB+yzn56nLTa/UkkNLD94w8HDJCH1YWoyWC4qUiBs/Fg2POaWv1UJKJ2zDPmrN6IukIDhk8cCQ4R4BSWPbtk7gV149xvAibFRSLj5MgD6/PPPdUUd5pOEkWYdFJbDnDlzMVfIeq3km+Svmwx0uFxnaloKsrNzdBWaTz/7TAcku40dq5ORmEdq7EeNHKVvQqj55iom/BIo06AmhqZCTrblR/5JpFlm1BCTaPM+sDOhmYwpL4J25HvuuacONKZPf1/JK1/LkqizKBmeJlO8PxyIcfIUyz47O1MGC0/p4INaIw44Bg4coOlTU7RgwQIdiHCwx32WB7Xd7IgyM7N0n2XCQQrt7flhKAq19YcccpDktVbrJQdnrM/8eBgHCybfBPezs7PVH+dkDB8+InqeG7qzjvONEAeUfC3NgSDvA9MnEaftPOPn80W38ePHaViTDOPj2wTalrKsOGiiKZEZJJDYG79exHNrCixr5pXLZ3KyGd8ucJBllu2L5sez3yx4/bYkXEvQnHibm/bW/MWeN6SmJddmwhAmXDy3toQ3zq3Fz/Ne2R6ITaMxaQosM5oxLtuA9V8uRGogBVUpPgydOg7IkWdEPwLqmKOxP2El50b3W4yYDLUgDuOzNanGQrXnfFjdfXMcvSbZ5zGv2+eSeGnYdEOF1cpVK9XUbw9pR486/AjnqsSvtlsiNGO96z93aZt0+KGH6YR99eMK01H/sm+gYV143dsaJu7tmUar4WaKHIgKqIGDBuHMc85StwS5Id7H26ITwzxcXpjb63WnG0fOwRI/Sp+ZjbdfeA17nXckhh6zD5AuD29ACHVAiHVMbY5XuTlyZnzGxpYacPOBoHIhRyQX9997n66fHhbiUifng/5g/cjdDU/w0U0QQl5VzLXRw0gVgqRI8qOqtELJtLkOfdBFGEdlZQVSstJRVVKuNr0kV2k5mYhUh/Q4NTsDlcVlSvT45VKaJYwQ8oigD3VllUpY+Ol+/fxynURO/mJmWArqpMEhQeS66/zMsySMNStXYuDwIagoKpP401GwOR/dendHZVG5k44MELr37omSgiLND4UNV6KQOi379GSsW75aG7HUnAwnoZpwdJ12vT7ZRiQfvOLodXMkVZSAdfe9i8WffoOa5AQccemZwEHDEUmp1vvmePTcLe9+A2jMzm48eMKFap3BBPNGDTIHTtz6g341RSGZ1WuW+23yT5C4rlixUkkwySbPkSQStCNPkvIoKytHekaadAJyH6XsaH7DL0Pq1q0fNE8xmnV2LEybZUrwPGHSZPmSsPKeUbgUJMmzdrZuPaWWmXnmMT9iROTlFej9IKnnOWraiYoKZ/4E0+E1MO7U1GSNk/HTjfmhO/2Z+Hie8ZMk042ab76tYD1mXgxM/glq7S+88CK1l+ek1R49ukvcMsCWcty0abMOXJkWw/A6nTBSLyXcpk25Gj/NZKiV5z3iB5y84BclqfXnm40nnnhCX2kzjzSR4WRbT1YawC3aZoP3ivH/6Y/X40sZSA8Y0EfKyrkOwsTHTYvijvXbSH4V9MvnmWCyLHJ9tungbnmeWxOvZkiExcZtY/E7l6HgI9kYYq/NW76qdfSeN+e4pXjzSn9ev/XVx3FnfijGjze8EW94AxOWW5HY+6/5N+FMPIRxI7z7XtDd9R8vWINriEVjccZDS/wSMdeoYBysC1XSvL43F7NvfwU9knJQ2C2Ag397HjA0FTVpUlTyrPC583PwKc8hN34tpHiRNgVvpqVtadFDICH0RnnTbGn6LiRdjclz401bZ9pLiiHz3HINdnmQUSHt5NvvvqNvELkq2LnnnqvmgF58P2+ekk62keeffz723GMP94wDpmXSM3ngsUHbaObjl23U1U2jZXdg+4JtCrO1OS9XFVhcGvqVt1/Tc5a070TgrfRWeCLeg0A3Njwdg7Q7DyxB0u48QLI1uy6MM+Fcpxy6D3u9T2+I+NAoXG+aHsEnROAeRRGNTU40FrMbNHo+No5YbNEIuZpHQu+RkCpTHozVaVIdqE8m2JakPc5a6A3QSFDmkdk0mtNYkLSRaDcLsWViIMGZhpOO6xYHhv825Wd7wtyu2GJmvraWJ/pxytIRkuzCwiIl1s8++ywefPBBtZ9PlAEjCbcO/KTTZLxmUMB0G73FMbjzzn+rmRE7WGrpY0l0Y9fSUmyVtHPD+2rSaW16bn63gLket27oYVUYoY0FCLBh49d/aiRwlez7hYTIAB7VFUBqkgy8NyNlT5d8mHyZrQd8FFlOcbPgusctR54Q0VP8iY2AlmEF5QjnF8OXmKLkMByqhq9HN8mfHMvgEvy4UEJAwkoE2cIm0yX/6TIY5njYjb9k9SZk1omfoAwiZWCsNzc5EZXSLqdk50gFkoQCMjBODqDcH0Z6d2feR2OIdylbODZyzCzpruyEzUBK9p3aIPCGi40jHqIBBc3x3xiYMYN2Je2EybizbW4MJpSG0APZMrDstyoXkn+SccMRTL9qSLv3mFtVnom7HtdnRsHzXpg4mwOGjfW/baTdicsMiOLFFZu7thkkbDtYrsyKJe07OeJVenN7ve50Y8PTcUi7enfbH08+YxJsWFHlKHqeZxqejYcG3gXOMTXaMQnFQTwvJsVmBFfEbRBiSK8pT913ryvqQ53lqK1Iu7p7e78YNBKMiFevtgeidaPJvDjb7ZyV7QqSd9MpGtD2n9pyPkMk7URtrTy3QecT7iTGLH/30WsW+KVXpjNypNSXOOXWVmXZUUi7bulH+OnahUvx0v2PYUT/QUjPyBJWW4Pw6iKUFZai356jkZSVirUrlmJdcS5O/PUFyBnWXz8ow+d7i/Iwx3HKXrMk503WGNa4cUeD0oH7rpsXdQUVWDxzLpZ8ORe16/NVS9lt+CAMGD0cSempyFuzAeu/XSjbjZK3AHbdfy/03HsUeowciMQM98NnEmfNhkLMeOY15C5ZrfbH/QcP0ngqhKzXlleqmdewkbvg8JOOhW9wd70W3n9PFYxtnrbIa7QcDHhs3NytBpF9HUBxkCrkmPWcp6UHcMrAhCFijxUxCUczJu6MYAv/jSA2/9Fj2amTSNqVtBMMS2kNeO316XJPj1oRnd4PvY7mI94Ve9svoiVxNpaH1pYO4dSy+hiaIuXqS85vS3ptBbY5zGo80t6C5t7CYsfCPH5R4QPmlXh+PKLgk9AK6MMeIybOLfLRiDQXbLiMtBu8BWWkCZj88bK2RbYGFsHWiqE5fjo6SLxJaL0mYJz7YOZvmGs0+wTfcrSEsLM/pb2+szSbc2zcDUw6nR7uNbmKdkRCdSjKL1DzoclTp2D/aYdh993GonpDPvyl1dh1192w69FHYM+JE5GVnYME2mW5E4ybBNPxikCLT/ZNMTbgMeKoh02UsT87FWP23F3ne/hKKpFcEcLwXXbBwHF7oNe43bGrbPukZyNSUI6eKdkYOXgk+sl9VcLOeN24E4XsHzZtGtICiajNK0a35DTsOXUypp59PA44/UQcfOyRWLNyFXzGREjEm7cGWXTPK7z7W4GJj1sO1DSoFAiVO5zjpIWjjvTYGMxJ16M2ph6JPW5Kon53LkSvKlrWPq37zRVqo+O5NyWaJtPziI5iPBJ7vimJ699Nq7WyM8KSdosOBz6/upUnNq7wXDyJ5zdWPP4JujUX3rAqMfG1VAhv+i3Ji8XOB5JlQ97NmyuHtNc3016To52CXG9nKCfkc5rk18+lDxo+DN1HDAdyclBWWqZmJpmJKUhgGQeA3rvvijFCjIPs8fPKgWoJS3MVElsKVzflsdlWucJ9z3GCGy5B/PkkLp/s+8RNt3SnH/rntAQ+94zbyzYSg7ocaqS8GjXFZVoPdBARlgDpaUgJBuELhZESSEZKZraz0gdHYg51k8hFxA8yMpGWnIIsucYUmgHJvp6T+EZPmoSpBx0AZMsAYLOURX4VfBWSP4p7DeAHoc31eY+5TzHneB3e8uExLXjED6/VJ8cJIn45F6iKILEygkBZnZRBAuo2F6NuU7ETjtn3ShRywHzH1nk9jg20FYmNo5PDXBmvK7rfQsLcanHT224SL80mJFpHXOGHm2KVX7FvAzob7OoxOxka087GuvMVecdYPaY+VmfPcal3bQZa5LkeJr1WRyBofUgJq0k3fr2Om/OCrx5y1FarxzgZcPedTXtjByXbocHb4jxPCbrqULPnBmwFsVXCK20N9ovNWj3GpN3WefDGL3nhNikpGYOHDkGAE9yra+EvqsSiD2chIz0T/ffaHb4+Qn57JyHVl4j8lWsx8/V3UDxvMfKXrEQwKYgk+PDD9M8w//0Z2PDjElQsXYv102dixQdfIpRbhKpVm/Dj6x9h3psfIbKxCN179kZCopBpTmhemY95r76PZV9+g01zfsTGj+cgf/5S9OrVW9pc52NkMPeZ+6EISlauw7o5CyTvCRh50BT4+/eUhluYcUIAFYtX6UfhkrOyMWiP0UA/uaagBNTydeMhic4twdI536OmoBS9+/VDd66EIgOVFZ9/LWS6BoMmy3GoBrmLV2LB23Jd73yJstmLkCRls+TjmVggeU7LL0cktxhzXn8PGz/6GpXzlyGpsALz3/0E89/8EL68UuT06gNIGovf+Qxrv/oeG6TMFn86G5s/novEvAqk9esPFJcjX66dcW78dA6ShKhXrFqPT994V8pzKfpm5iDQTQYQUlzOFTjzPHTfc1mKaAVypUVoJBA7PBlYtM/qMQYM28rwzIJsKE40zptPLuIQSEzURQ26GrQsPPD7A7rqjS4kQbPdWA8uHC7i7rvbHQo3E/FWj3F7eAuLjgdth5oj8iDGdd+KNPYAtxTx4m6OMH3dWljEgDyAZN2rZbdoJsxDJVt9e0WR/aS0VCTJ4EGNqmtrUCfki5N6q6qrEEhJBvhdMOHYabv0R98B/VFZWIL13yzE6lnz0K1HP/hSMzCy/yDVfI8ZOQqjhg5HwY8rhNx+hdJVG9EnszsGd++DiJDYBe/OwHIhwaiWxDeVYansr/hoFvboOwST9toX/QPp+Pr16VjwyZdASQWZlpBsEeaVcImgMSPh4A1JvAhhjtyX3bAQeKG1uk+YoFFw5CR+qSjhykab1m9AWAYCa+f/iHlfyaBh02a5WCEyWSn61emshESsm/k9Vn3+DUrXbcYmGbjM+egz5C9fg/RAMrIjQaya+S1WffktKjbmY+PKNZjPeMQf8kqw6LOv8d6TLyCpIoTx4ybiwMOPQtGPMhiQsij8+nspcx8yahNQuGQ1ln82R8r2R6SFfVg0bwG+/vQLrFyyVPNMoq7CMjFwr9GiHtHSkbLhPrXKgbRkXX6X9ScxNaXrSUoKgh7xcaUyGcjy2x0k77Hzhjoj7ETUnQi8lY6Grh7m9nrd6RbqwBNR46WzJbzVVvZbY1uiQZha81JsazD5BL7GdA63AM+YJR8VJr/bYyJqI162hlaUegO0Mtkuh+gzso0FZuIx2Nb4GsMOnYjqjVPO85r1Omk9Qu1zpfyUVqP4m6X47oHXUF1Zg8N//0tgt37Q1VcoNcDK92Zg5qMvS76rce5frwOG9EP5j0sw74cFmHLKcRKfH1/95V9Y8t0CTD79GIw86XgJV4Nlb03HrJfeQU7fXjjypqtQvnYtvn7oBRSs34STr5Z0BvZH8Wez8eprryLULQ2n/+YXSB81SMhzkpNHXlNZLYq/XoAZtz8q+Y/gsOsuRurU3ZzHtawOKx96CbOEDPcbMQb7/fRkYJwMFlKkrVBtvQjjKJfrXFeCd/77CELr85HZozsGHbwX1hbkYu2CxZh20rHoNmWsvl1FbiXyPv8Osx98Qb8VMOWKn6GsphzvPfMi9ho/HgP3mYyi73/Axw89i779+mHvKy9CRUkeXnvxZUyZMAkD+vTFGy++gqKNm3HKeWcjY59xQFUN5t/3rAwQZqPfXmNx4M/OkeuLYPazL2KTDIZ2Hz8Og04+HO99+I4uizpp/30wYPKeiASlD9B7KBeh1cVsPTAV12hsWgSWjxuI5aSQnU42ETXijkh5KbonW3674T///a9u6x+uxtHaXHdEmKs1VICcJxhMRFIwSe/Zvvvuiwt/dn70nBc8VhcJu/VS2/4w99RORLWw6ECINjKNCGG2Fl0XJJ2NiUUTiC0fPkzs8ZJkYJuWolr2WiHkynNpwkJNOwkswwlxHzJ2DLL79EJSYgrmfvyV9KClWLJsBUaO2x3IEc9B5yNhfXv30cmram+ela6rtAzo0QuptO9en4v8leuAkir0yemBlatWY94XnyE3VImJhx6I0eP3RHrfPhKXJCjphqhtV+IuW+m5szOykJKYrN9J0AEH8+/3IymQiNRAEvz06zFl3wKZmSjKy0d1abkQ6z4Yss9U7HfCsRgzaU/lqFE7dCGjESkI/fYBB1bZaUgfPhAnX/cbDDxgCtAtS7X2/nCClJkEyM5A6q4jcOaVl2HIEYeioqgUJes2o0dGDjIy6ZflmYTRo8cgPSkVBWs2AoWlUr6Jkg4VCwmIUNGTkYqDTj4OJ/78PAyYIkSf12fgNn4kMLr1iKI1ipqdDm7huOA8CH4Ajx+jo4KsSZFBx84k/ACi2arINfJjemvWrNGVuPjNluYMZDo6rKZ9JwJvpdW0twAahKk1L8Xtgpj71QBauOyRXZj8Wk17l4F5NriNdxubqj47Eh1myUdBtOzol48TiWpZHcq+XoQv/vYoenbriWE/OQJZU8cK6ZaMmTir5X/mQjx514PCxbtjnyMOQnl2GMMPniz+hGTnV2Pmn/6NglXrMem0Y9Br3730giq+X4hZ/3tFP1h1zLW/xPKlS7H0zRno3qsnJl56DjCwl0QuiaRJHCTpKZK5gDN3sy4URhILp7gStYvW4eO/PaAXcOC1FyJx3EghveK3uAarH30N897/An2GDMdEaton9kEkLUbTXiYxbqrAR7ffj5IFK7HnflMw5KKTUZck/QTX+GfakvDq7+dhkAweNn85F0uefQ+J6anY68bLhJjTiJs3SqS6DgUzZuOLu57AkJHDMfb6XwJ9k8C171ERQumMb/HKA/9DZnoGjrvwbPgmj9JwNW/OxBv/ewaRXpk45fJfKdmf89Jr2DxrAUbsORbDLzwRkW4pSrYCtP/nevnuJTiXIXnVW2JuimzFnf2Z47Jln7d1MGI3jImWO51I0+5k31MqchzNgbvPlabUJIT5DPpRV+P2uSxjQjzxa9389kMKPwjHQIzX3VZXVDmDuG1AU/TS8BUf+yw3S/psMgzrMYO6wSOcA8d8h8QhIOfoz+3q6Cdc61xjSWExMmUgzTg0DLkI4+B8OnFjWZg8sXv11h3do5se7ViY+2k17RYWnQlO22JhIZ2Lu2PRerAMjUiHXltdjeqaKpUgCzhZukOSAeNH+vuk/t0xeI8xKC0qw7zZ3yNbiLdq6t2xdGJSIkI1QnyE4CA1XYh4JsqKS1BWW4XewwYBA/qi3y5DUJscwMJVy1GwYqUQQxkNkLCXVWD54h9RmJvvEBARH4mJnIKQkHIhIFx6MjUpGdUl5eIomWK6QrSCQkZSUpwv724JT8Mh4YPCAHy05aW2PjUVfgnnS+abgiR89ezLqFy9SckQ0yqrKEctJ7tW10gehUSzTISsMmlObKRNcLWUG/Ikz1T+J8r5nESk9euJ7P69sSl3M0oLiiRdCSBxrt+wAYH0FPQYMgDo30dIuxAqSYfEVxUMyYlISPcjkCHkMEXikiRN+fMqGpgPuu4849BVz3V2IZirljsmv/XiqLtE5H5TGRaWgVl5aRl8iX4U5RWiuEjqEwfNcnvzNuSitqoWpXKeJiQVpRUoKSoRol4tYcqxdhW/EcEvWEt0HsnPL9Aw/F6EpslBgIyq4omed7fxhOfKyytQJPWloqQCNRU1qJZno0aep5rKGnk+a/UNU2VFpabN8yUlpQjL4J/PSv6mfJQXl6OqvArF8sxFpL7xWogNGzZqGpUSf6HUVQ6gE6QcvIMIEuPOCJaohYWFhYXFTokGAx6S3so61BUUo2DjJqR1z0J5bSU2LF8BrMlzzhuQSPfOwuh9xwuxTBTymSzks7+Qdp8QolqdFBoREhQSkltGorpWiMLCZVi5ZBlK/WGkDReimpWM5F13weiDpyBJ0lr09bfI/WQWIrMXY/2c+Shbn4vK4lLUVIXhE8LqJ2kVPlSdX4yqvCLUCEGuFQK9aamQfS6LuLlE2EoRqiurUBmqQX5FKUKVXLqyUsm0rhhCYqK8yIcKyUtCqA6JKckoK5Wwi1ei6odlKJ+/FDXzlmCz7CdVCYsTklQjcaYLqfYHAqjZsBkoFOLOeDiQkfKqLi5DcnqajBlqULh2g2RS8ksGIXn2DeuDUYfug6TsDBRtypWylPDrcjFz5kzkDO6PYVPGiyfJ2+o1KMsvVPKfV5CPyvx8IWzValmk6bD8HU7X8L7JPumWEYv4cItOhUhLS0dVaSUKCgrQrWd3Iecy+JNBU4+ePcFVb2hOw0nKwWAQmTmZSEpNQlpGGvr06aMaeN4nA2rpe/Tqgcxs58u5nIdQKiSakzxjhecYL+PgWxSS5XiSKoNIfjshNTMViRzASZ4SUxN1MMzJ14Ekrp7ll4GHswwulz5l3KwEzHtKSorUyWSNh+78EBmXcqVNPwcoKRIv52jw+mqE3O8MsKTdwsLCwqJrQDhIZUU5NufnYlnuOuxy0F7oNWk0KpMiyC/Od3pE8hTaeVOks+8/bDC6D+2DSYdMBXqlCSNyCAdf06dnZgixSEReYQFWfvctvpv7NcIZydjv9OMw5icnAanCaHunSjp7Y5QQ9+JIDb6cOxtvfzAdPy5ZjJG7jUG/gQMQlIGA8m1JsrKsEms3b8TKgk3oNX40snYbirKEOuStXY0NlPzNSB3cB9m7DYNvQDcs3LwGK9asUpIUte+tqUVJ7iasKcpD2tC+6DlhFNA3G0uWLcLCJY4sWLoIvYYNQnLvbnKtVdhYVYr0MYNR2zMdq/M2Yd3qVVoG4fIaFJcWY3N1GXpNGI2kYX2xsaQQuTwvqCLp75GCkYfthwNOPx7lyT58+903+ODD6dhz2gHY59RjMHCfifp2IbesEIm9cjBo8h7IHDFQxiEFKJf7oQpZwkvUPbBEfevQOunZsigrhED/+tLLcMc/b9c3H4889DB+cuZZuPq3V+Lcc8/Fby6/HP/4xz9wzTXX4KzTz8L87+ZrYZPk//GPf8TPfvYzXH311fjTn/6EK664Al99+ZXGXVRUhLSsNGTkZMhAL30LSc1IRUpqipJlkm1D0mOF50pLS7FiyQrc+JcbcfTRR+M3l/4G11x9Da699lqcfsrpePvtt3UgS1L+wQcfaL6v/8P1Gp6Dig1rNuD+++/HOeeco4PEdevWqb+LLvw5Nqxer88DiT8HEzsDrE37TgTeylj7PnN7ve504+tJa9POH6bWvBS3C2LuV0Mwgx7Vn8mvtWnvMjDPRmNosvrsQHQkm/Yo6JfaXG75WHGfxJz71HDz0XHzhVWlKFu2Cukjh5OV4qtPP8Pkg/dFwoBMnaxaVytEoNqPL/9yF/JWrsP44w/HgCMPFnLBLwlJBKmpTlxJEjHjZlpGk2wunOclzTDTDUpW5Lya94of4ehKVFDE+MRjpiTKsEkizHNBueQjRXbkHMPLWCISNDbtAr77r5ZIQjwWPwzr7qrwGk05EHQjjD/GKfmmF42xWrJfVAp/WoaWB9KdJTLDbtT6ASnvNTI8wQgYN4/N+Vo3EZaBXHdE0tmCtHu2Qu/kchgR4WS8gS1yix8CRuqGMdFyp5PYtGtKEsSbIi+HBJaiRDkliIXfLcCvhZSfdNJJ+q0E5nvy5MlKjC+66CJcfe012LBhAx548EEluyTu3377LYaNHCbVOKQk/a233sIjjzyCvn374vbbb5dn+Uu8+uqrGDJ8CIrzi93UHaiWPDERySnJWLZ0mT7/f/jDH9yz8UFtOsORQ1xyySWYPXs2rr/+egwdOlTze9xxx+GWW27BecIfWB8/fv9jnH766apR//DDDzF8tDyfgrv/fbfm791338Uuo3bBvG/m4dlnntHBx++uvQ6DBg1SE5lEKRvC1BlhILoldE8Ktd5lx4H3k/fX2rRbWFhYWHRdsMejkEiz/xbeG+EcPOHEEZeoVm0sxDfTP8Dj9z+EZ+78Nz587x3sMn40EroJY04RT0LcOMkNNA+oq0ZeVZlqpiH76C2klsReyF6VXxgqTWwliMYvaYUlrbq0BIRkv1ZIb4gDADlfR9Ir+WJHTe5YR8Is59ErGeEc8UR+ThN2N8/oKQwyRwLkyD6tFcR9C/JKG95kyavEo9fIa+V3nEiUJcqw7NfJORXmgyJ+eGzyxbyr8kbc/H3k2uS/NjtR/bC8eI55JnmvlTzXSpw1cq5WwlNCjJvpyDmNX/ZDaUJ83TIIi3tstr2syUtMmwYDNVOaH2mnAgcUNJHi5NOKwlI8/fTTauZC4psog6wVK1bgyCOPVM35iN1G6aoqkyZNwp7j9tTlEHmO5JYDq0AwgNzcXOy+++448MADMXLXkbj44ovxw6IfMGfOHC1DmqekpaUhPT1dhfv65V4BV695/vnnlYw3JebtEAeb1JD37t0b06ZNw+7jd8euu+6qBH78+PHIz89HpNZRDo4bN063L7/8sjxyHAU6OOCAAzBkyBBUl1dr+N///veYP38+3njjDam8PtW2x8LkozOBzZeFRdcE23CLNkNM19ioWFjsUJiKyN7PI0bbm9wrB/1GDRWivhvSemRhwMjB6DFhONDD1Z5L2OKCQvw4fx5KAmEE+uRgc1EBlgpBKMsVclEjJED8JWcKgRFSSkKrgwQSVCGuCbL1CXH2k2gLj2C6KhKvirvPdKiTDoWpWifBED5VwwmlQjSM5pkbEe8iU1EoGaFW2hO3K4w7rhvz6smL5oEaXNnVwQePhdXx+xHROLx5V4mfJv2p3b577eb6VQvvpmvK1+wznLPlxMV6aQhzzG1zZecEbbu58sqPP/6oGvHLLrsM/fv3R11lLYYNG6aEvdeAPlg070ddDnHq1Kk62XPsuLH473//i0CykPXNucjPy8fChQsxduxY515IVSLBTk1KVYLOyZ/UXMcKbdjpnwTeS86bEmrU161Zh2XLlmH06NFqo567IRcbN27EWWedhREjRqB7z+7gV03ff/997Lbbbjj00EPx8ccfSx3yo1QGKNOnT8fee+8Nf5JfBy6coEp791NPPRWvvPKKTg5PTuOot/ODt8PCYgfD6Vz4a7bNkYZoTUO88zbezUYb9WEticKWukWbIV5lakEF03aE/kVITPVYiHXvSbtj2k9OwjHnnIqRB01FuLZKyWXeZmrU64RE9MCwXUfq8oY/veVPOO7c09Fr6ACkd8tCQrKbAeldVRMtWyW73OcpOVZy3BTcKMKROvErBwxD4i85JIVmnNQxMs9KqEni3TAKpiWbxkTP0z/z4QrzpOdiwAGCDhLcML6AT8gSVwiRkxRCtjyOFYPosSt6/dxnmrI1Ys4b1JvFEN79WM+eQE0h3gV2EDBrzZF4l8piovY5kMzXGhHVolM7vfd+QsqFFHPtdpqUUPMeqa7Tc3m5uZgwYYKaqJQWlKBH9+6oLqtCz749USL+VyxfjoMPOkjTqyqrxN1C6nv17IlJEycqsU6nlt0jaVyZSPIQqQ3rJNcANdtCymNFs+9ukxITVZgXpjliuAyOpUI//dRTePKJJ5CZlYnCggK9JvpftXIlph1+OI4/7jh8/NFHWL1iFTJkEFEhA4YxQvj5UDAMzWB43TSloUkPzW5Kixqa88RCcqfXym1zZEeBj47FToItNRAdH6ZDcDoFbsXR3W9aGNaJQyFO6tAicYJaOEXREjGQUlRpKWLDxUujObKzw5CdxqRTg8+xwr2bWzzjWxFTA1gOXmkMPGfIoruvWmIjRuNLcsz12od1h29od7UX99GGW9Ls0ae3nBePKUEk9e+BpN0GAf2ErIzui8wxA4B0qtPdeGLSM/fLe9+89zJWGCaQ6FdtogH3Kb5gAvwyuPC5ksC1qzWMG5j/krZP3BtcoysmP14xYWL9kaQzHjaZLCO/XH/0nCsmDrXxlp8G7jFxmrDefSNO0+zpE1w4x2YrO27E9UsKdm7w2rzl0KQI6kvGg3BElwnldu7sOdh19Bgh6CElzylC2MkPqquqdOnDt958E/379ceoESN17XISemqylUPURvDdd9+hSgaq33zzDW696a86IZUa7Oeee07NYipLKqQu+FBSUgJfkh/r16/Hww8/jCeffFI1/BRO/KR/rzB+atfNlpNQ+WZguQwQqPmnTf3FF16kE19pBsMJ1cwbtfyJMiD54YcfMHjwYOy///5qSkMN+0oh8jStoRvn1DEM41eRguK8OvrJ4AfCYuDUKbf8ecwf7jdDTJj2Bmu8hUWHgDTHnt+tC+FsY56mFkpsvM0VixjEK6R4YmERhVsh+ChuUVG2IhpmG+FpChqQSPJkkvegu28IpJ6jZ25FeF5Is27p38sh3S15UFPgeSMNwGMREmazr/F70zCIPSZMmDjiTVPTda891p1uPvd6tQRk69PyiBNPI+GbhPhpIE4qUSiJ1H/+mW3Uc+eGewnmirltrsQDSTDNUjg5gjblNGNJSHYmelKbzq/UJmWmqiabJHfcnntqOBJdVu+A3NjEgFRkqW9ffPY5hg/eRb/2u+fue+hkzn/+/R8YP34CEhOTnG8ESDw53bjyELDwhx/x8Ycf4b93/Qd3/+e/mPHxJ9i4fgOef/Y5PPbIo3j26Wf0/Pq161BXKwMJSYtLmWb34JeEoecmStzXXn0NfnHRxfj5BReid89eCCQH0a2XDJ6lsL7+8ivkZGVjyKDB6JadgzGjRuP1V1/DD/MXYPTIUXKdPkTqwnotFIbhcpIk9yTt8WDIPeEl7s0RwmzbE1t7pCwsdmrog9pK2VEj7Q6JlrReO6Kls7Aw8D7H7AGNeN2NROFx8J53naIwx+7WaJy9Iv8qW7jHkS1AN+Nu9qPHZseFOfb6M+K97kau3UtOCBNd7ONr8qrnYyTq3gTihTPiqHAI22hsDbpqW1DIedj5AJZZY51fBQ2mJ6Nwcx5QE0ZlaZlOJh0zZoyeN6B5DQk/Vy369NNPcfDBB+Oc887F0ccdi3ETJugk1braWv0oGSVUU4O6mloh/SEcdvjhePLp/8/eVQDGcSTbJ+2uGC0zM8WYOHbQYbowk8N8SS6M/8JwyQUuzMzgoBOH0RhzzMxsWZLFsJJ+vZrp1Wi1K7Yt2fPk8szONE9P9+ua6u4P8de0qfjx15/xxBNPqOkNV5ChNnzMmDH43//+h/bt2+sAwi9+uNJMXiY17cCcOXPQsWNHXTWGdvT/+te/sNc+e6spDzX/9DN16lQ179EJpVGRqv3nF4GPPvpI7dlDwUyMVeiqRRY4wGmu4OvqwsVuCWd3UB8hzHG3Rn0KwS04F80ZhliGQrjrNaCe3poXnI1nFZgbxpFTGgGNFExTBc1c9CiEmBpmNT0RwluQx910bVLui9SNh6hpP+qoo/S6AVdxoa15Rnq62sTvvffe8BcVWyIEnUSbA4FgwsvfXE2pXPzny4CgnGuXCrjcIuPU+yIafxCo5c7ctFXXYB9Mzb+kj247deqEknwZHHBiq7iJlMEI00STmehELp8EXdWGE28///xz9O7dW/MdDJro0H6fJjU1jh6bCVzS7sKFCxcuXDQBVDcWaPIIRYoN5zZSBcE3QzpyUQsomS4tU3J8+OGHY9WqVUrYqZnOEmJMIo/iUl3LnOSbvw2hNiL/4c8//1TNNjdQCr5PqWRSIr8JXWHIaPajPXqfgwCmxdwLRdrj4uPx8ccf60o1tJVn5Y8RIk7/lh17jLLURfMX4LffflO7e4MWLVrokpWl5aX61YDEPjitHLgw/3TnknYXLly4cOHChYsGcW16NuKiIaC2myYyPXr0UBLMZRGjEmOt7f1zc3VZRR6PO+44XcM8GLSF53ruNDchqTcE3SnBMMSdR5q8cHlJTipNSUmpUdOesXUrMjMz1RSndevWSF+/GUUFBXqP6S/Mz0d2RpaufsOlH1NTU7F57UZkbc7QMLlp1N3/vlvNaooLCgNpMeAylvRDzf2uApe0u3DhwoULFy5cNHMoaZV/PXv21DXOucHSkrkLEZNsbYJEm3Ku1f7uhx/gpJNOsn1VgNprru1OW/TzzjvPvlo7kNAXCOFmGvbZZx+1Na+JtLdIS8MVV1yhGzGdcdZZaNm+NaLjY1VrLgGqSQ7XWx++3z66M+sVV12l68xzQOCLj8aBBx+k/n1x0eqWXwi8cVF6pHnOjBkzcOaZZ2reUcYdma2vAKEGH80FLml34cKFCxcuXLho5lBTlOJiRAtJv/7665G+eYsS8IKsXCWqvE9CW5hrmc0YQt1Y4Oo1hhB37d1djzWBXwHoJ33zZh1wFOcXoii/AMVFRXqP6aW2nWQ8NzsbBdvydKLtti2Z6q5Fy5bI2pKh7pg/Tm6l/Tvz36pVK9xwww16XSKxjmFgFohq6nBJ+24Ojn5ZkfVFs182Fy5cuHDhwkXzAftwCkl4WX6xknJq2hPi4vHYo//F0sVL4LGXReSRSyKyx9den8S9FhLs3vmbR05I5ZGbLJVKGrjJUnXCCa7cCIn+UpKT4c8v0uv0zyOv+0tKdJ35ktxC3YiJ687zXlxsrB5LCgt1YyeeMx0rV6zAc88+i+F774233nwTpX6/FZY9UZcwZWWWh2wuhJ1wSftuDvP5Sj9dsdK7cOHChQsXLpodDBk1SG6dhlGjRuGyyy5Dzz36aj+vq8QIjJa9sTTtJpwAn9gJYN45KfWmm27C9bfdZF+1rgeUk80cLml3oS+ZVma7Pu8KFduFCxcuXLjYnVFeWKJrm3ODodL8ItW+k1Czj9/V+nnyGBJzCm3z/XlF9p3KaO75dkl7LWFGp7saWMH5EtMezIULFy5cuHDhwkXTRJ1IO0cyRnYnmBGcyfeuVA4bNmzQ0bduf+xitwV1D8HiwoULFy6aP8Jp1ndFjfuujjqRdvOAKSSx1D43JeLKtJh0BQuvG3GS7pqE64OapYTMtV0JmzdvhtfnQzyXRLJrw+41JHMRDm5T7sKFCxcuXDQdVEvaSVBJeLkL1fr16/Uaz0l8aVJh1rzcmeDSP1yP8+uvv8aVV16J888/H7fffrumm2Q7mLDTPdPM7XG5le+WLVuUmPM688tdwObNm4eXX345ENbo0aPVzY6aXLEjBwcsO49HnmVstMXW+ThFXOLuwoULFy5c7DpwKl53NndzUT+EZaEkjebBfvbZZ7jkkkvwzDPPVCK9JMWUhsAMDJwwBJuoibz6fD6ddMD0/PXXX3j//fcxZswYZGdnazpNPgy4UD9366I77qbFhfkvv/xynHLKKbqeJ7fK5dqg1EAznFdffRVTp07VwQrjMOkyYPjhpDYweXWK8W/OGxtc3sjHIhfJzc8Foj1SMFGAHAKEfbu+z4zBSCg474dz03CYLPJYHyHM0YULFy5c1AfBLWtNsovA7tpMjoJzub2FaE5LHTY2mmvea1QdkzhS6/z999/rlrDcppYggSWM2QhBtyTx/O0k4rSb5q5UJ554ImbNmqXXeJ9hGE04t9YljH8Kz02Y4cTEw215GT7TR414dHR0YKa0+SrAtE6fPh3HH388rrrqKhx77LG6jukbb7yBiy66CC+99JLuBsbds6hh58L8DIe7fHGLXTMIYLp5npOTo+lzikk7Yc6ZRuaPAx6GxQFFXl6euuE9p4QLp76gz3J5Q/VIYVilIiURWD9xCvIK89BtQG8gxZjHWIMcunXCvOQNggYi+ZK3xRK5pOIY+TMNtkREVlyvTuS/ektD/0KFWSfZmTCVohowhaEkgBr8VwuH31Bx1EZcuGgQzDvQXKW+CPIb6t2qTiqhPukI+LFCrPtfiHQ0YyiB3A5SXib9rC3mmilBrl3O/pPrtYcTpqshEirM7Smh0hBOmivCknZDNrkNLE1IiK1bt+LXX39VUhkXF6f36Y4mJQSvk0jzWmFhoZ7n5+dj8eLF+Omnn1SWLVum94xfgmTaTITkPRJsinFniGwoYRwEwzKmO8a/VkjbpIXny5cvx4MPPogpU6YoYT/nnHOUgJOk8/d9992Hdu3aKcFmupkuHlNTUzUMgtd4n+YySUlJmr7gNDItRkjSTXr4VYCafvpjOGbLXzOwYBqdfikNhqNlC4RZUgZsycHSaX8jIiYSXQf1AuK8qmlXgh/UGjZm41g5R9XnT1Jrn7nYrtiZxew+Yhcudg4a491rSBjuu18J7Gd3pLD89eiiWSEkaScJJRkmAaWJyPDhw9G+fXtkZmaqVpr3CRJRaoxJakncaUry0EMPqZb6hRdeUHJLzfrPP/+sfklSP/roI9VuT5s2Tc1uXn/9ddXk0x3j/P3333XbXQrPCWrPaX9O2/L//ve/ulHAHXfcoeYw1FobUJPNtJEQUwyJNumllp354bWjjjoKaWlpSExM1PschJx66qno0aOHkmsSaF4jmG6mjWGuWrUK3377rX51IOkn0Z84caLGzXBZJgsWLMArr7yC6667DnfddZeWyeOPPx6YF8B0P/zww7j55pt1EHHrrbfik08+0XvBaBTiLjAEWMNjcSzfgI0LliGlTTIS+3WWQpZrkVJeHnmNJe8G7kvtwoULFy5cuHCx8xGStJOgUvNL2+/Zs2fjxhtvVJJLUkozGRJoaqhJYqml5sRNmr+QfHI3KpqSkFQfccQRStaplSYMGaZfEmFq8LlzFU1VPv/8c7UjJ+G95ZZbcN555ymZJwnetGkTjjnmGDVh6dixI0466SS89dZbOOigg7B06VINm+lluo02mfEQPDJexklNPwk609yrVy/ND/2Q+PM6rzGOLl266HX6oWac95lX5vOwww7TCaopKSn45z//qeSb5PyPP/7QeEjer776aiXqI0aM0MmxJOsffPCBDnBI+mlDT5t67lR27rnnargk9SzXxoTSdP4nwq2L4S+Fp0zKpQQoXrsF+ZvS0WOPXkCaDE6EtNNkxRB2/u8SdhcuXLhw4cKFi6aBsOYxJKlfffWVmosMHDgQhxxyiBJYkm1qmkmSSXpJaF977TUlrXRntNUkwSTUe+65p9qQc3InSfDZZ5+tRHXo0KEB8kuyS/fctYsTQ/v06aPhUxPO63PnzsWKFSuUgNPfwQcfrPbm1MCT5DNNTC/9EIyHaSOcx0WLFukggKSecfJoSDyvExycECTYhoRTG09s3LhRTYQ6deqk5J1p4TlJNyerMo5JkyZh3Lhx6p9pYllcf/31St4Z3tixY3UgRPA380riT629mS9gYAYe9YESdhsaSqkMZIpK1Za9eMEy/P7VWLRLa6lbGyNG8h5RhnIpP8YZUS4+jLjYPWAP7iqJCxcuXLhw4aLJICRpJ9mkPTm1wyTb1ArT1IXklffefvttJaXURnOSKbXeJLfULJP8kry/++67aiJD0xkScwMSVZJ/huu8Hg4k1iTp1MqPHz9ebeI5YXTJkiVKkhk/jyTsTBtBIm6u8UgST2H6eY3n1P4zrZxoyjTRHp5xGOLP9DE8CtNA9yTqNLGhSQ+15yTbTjAuuuXXBn5h4ACFpP7HH3/EXnvthe7du6s9OzX6zMd+++2npkck+pxIy0HK9gBJeIS/DBGlkrdsPxaPm4qMzAwM3GcvxHfrCETJdfnn5Og81Z9NnbztyuMKyVslDl3LvDbaI2vqz96FCxcudgTstrCiSXRnXLkQBPXRdZH6IiRpJ5mlnTZBW3YSTGpgae5Ccmvs1KkZNlptklySZZLWnj17qukHte4kwTSz4ZE24pzYSbJPvzSHqQkk1STMtBGnLfs333yj5iv9+/fXeAmjoWa6DXFnOphmHg1533vvvTW9zAM19E7QDZeOpEafmnuSa9rpM08MkxNl+VWBZjzUnL/zzjvo2rWr7bsCI0eOVFt1Enemh4MfrkjDJTM5sCE5p7Rt21bTwrK89tpr1Q/zoZpuW6pDeTnzHr4KVPi2ziJpx74xA3ljx2HlxJnoOKgv2h88HGiRIAUnbmoRZ1NDINdM9q4oQXA+ZdbrAIJOOfhyDsBcuHDhwkXdoBxCG1Trtzap2rbahL05L0HiosEIPH1WjHpIXfpoo0wmQpJ22pDTNIZ26ly7/O6771aTFk6qJHklkTYTJzt06KDaZJJTrhJjJmSS8JKUEtSo8wUgYad/kmASYxL9mkCCTZMS2rlTu37PPfeoKQmXW6SGnAMBHgmSThJlZwYNSMJppkMtP0GtPdPHdHEQwTTzSC06J4oSJNEk7Qyf+SJR//e//63nJNocRBCM04CbPPFLAwc1v/zyi5J4ppEr13Ci7p9//qk2/DSh+fjjj7H//vvrff7mqjZEJUJmg9ecYl0U4s5TCjk8iTmFC+qIREjxRxbJeYFIPlC0eC1+/XyMDoK67j0I6NLGWqPd1rKH5uysXXIIJzsEoSK2ZNf+k8cqz9qIPvdI6yGZOmD1G3xGtlmTnEtXw4s2rGuhpYnAepSu7IoSDnLP5TwumiKM8orzwPTMrsumvupBf5hWumGwQtrx0vAuIFSou5c05E/9Sz0KKfZ9bnzJM6dCtQq7JfmeOXOmbjI0aNAgNYshQaDdNyeYkrzTNIY23JzYmZycrBNDiR9++EGJKckvSfvFF1+sBJgkn2YyPFKzTFt3npOsMlwS6TVr1qipy5w5c9T0xJBoxs/Jm0w0Sf7q1avx5ZdfKplnuszAgIMAmqTQH68zPEO4+ZtC+3puEEWSzUHJAw88oP4YNuPgxFJq2jnBlQMMMxjgOdOxdu1aJewEfzNvnDzKQQLjYnq5RCYn5LKMGA5Ni6hV50CF9u00Jbrzzjv1/IwzzsCjjz6q4TNvZrlJguk1cJ4HwDyVihQVSwJFciVdOXLcJuWRKbJVfm8Utj5jBfDrHCx76j2MfvQFFJaV4siLzkbHI0daE1CFtJPraRWx6okKzymsKkIHw/7VBcyHs/KZcx7DidbQMBJBESe7srCuGonk4NDn1byTxPMd0PrPScb8wOSJljKxBpAlJX65b+2DoM+Ug7qQIv9VI+y4qhVdA1iicMUVh0jVVfFTMcK6JIiK4n4ZvE/TRbnPAaip6C5cNAVIH85+in06j167PWW7W+4vld/sfNigsv7ayzQLyTIVXvvSOkrgZdnRIrByUn+QXJZtx78qZLaO4gyrsf8YOi0e6itlIa4FrtsxsM8np3Uqoj33CuxzBUktl3Wk7TZJKjXpNJEhqX3uueeUMBMkuyTtZjUXEu/JkydjwoQJqpEmgac5zQknnKBkn0SdhJ0a5b///ls13wMGDFDCyuUfaddNTT3jpNkMwydBp2aeYZPMLly4UCd9MgPMCLXXJPkcOKxcuVInyNIdCQ7JDMM3mn1DqmkiQ7MWau1J3Lm0JG33v/vuO/1iwCUc6Z9LMXLCKAcXTA9NZ3r37q0knennwIZp5ORZmtpwkivLgtp55odpZdpoTsPBBHdc5WRUDnaYTobD9H/66ac6cKHm/sADD1TyzvwpYbURILCVwE93kdi4bBW2rt6A1QuWYNWcRfjr+9+wcPJ0zJs4FUvHTcXqv/7G0t+nIH/pevTr0Qv7Hn8UEvfaA0iJQakvQiqFhKvkV47BUQiqRBsGJn0kcWzMiBIhlVyi8/jjjsfgIUOE5FnmU+b5sZwjvD4RLyJ4XkdRBuDd3UTKObcMWVMWI3/TNkTIoKv7XgOAjmm6AhDvs/y94pabZ0RyZFNdy1zNPXOroQ27i90TbD/Zj7Dta9nKmq9T6pcqKu0O4ZeBZVkZPw1KHQt0WtLZ1kU4aAx13ZVaifmCV1+RAEJer600NH75V3vh2DHUdfmPEsH72fnIX52OLdOWwVsagdi2qWg7oIe0r3HwxFAzUg5flBdeOS8rKpFjdEVfZPdLEdL21lo87Pvq1/81hkRK31tv8dF/A8PYzUW5T5BU3PcgJztb+Pib6Ny5M04/+ww2lcL7WFsdoKaZJJckjFplkkgzYZTac2rinb9JwEiC6Z5klg01ifKwYcOUBJMsMzxqns1SkbzP1V+oaWccNFXJyMhQW3gmjhpExsMj3TAcxkXNNkkyvwCQgJM48zrj4iRTauqp1eY1gulkOIyPWnMSRYJHknsOFHgkaWa8FIbDsDlgoOab+WO4vMdzlg83mCKBJ8mmmQ4HJBxscEDAyaTMC78W8MhBCcPhJFQSfzNxlvdJ2jl4odad4bGszONwknTnufyyj8K1pb9774nngbxilBQUobRQesRi6fhKylBaXIKoolK0LvOhaO1m+HIK0WfPgehz1j+A4f2BxAj4I8vl2VBTYAcocJ4TlaIOCavBY9kQZf5SSyMsyJOy4YBq3xH7oL2UAbVuZaUyapRAmSeKJ0IaDyGWlfPoojq0zovG/qWdMbBld6zPTsfyknTM8q/HtuRyeJJjkV9SgMS4WJTIuxUh1YklW+kld0Cvhyl64yecXwv07D673RVsK80g3OzXwTaRbS/bxGnTpuPQQw/TtpztH91FRkYgKopfQG0WRbCi1lDTqkLqXXCD5aJOaGjx6WNrABr++BhALQORtIZ2adW9KCHpJZuzMSS2E0aiOzy5ZVjuz8DSsq1YE52LgqRI5JcVwS/sPjY6WvoyvwxC/Zaiyg5FqySPgtoVTR3S3+TAfNculy7qh+ycXPz8+y84+fiT8dEXlkl6JdLOU9o7Gxt0Emo2soZgsXGmmHOC5yYIczT3qGEmYTaf9wm6odAfwzZ+CBOPEYL3SWbpluTfdBCEcWfioVtn+vib8TIf7DQ4ADHh8jo7HILhk9TzGleQobacbvnbhOUsBwOTDrozZjqE0011MOGZcJwIDqPit3XUvHFnU1rr8CgNB8ql3LflWb+FtKPIj7xla1CWno1VM+dg+coVSO7TFcNPPhqx+w4ArL2jrIbTEV3FE5HL1qOsBjWT9tYtWzHBKGZ9skk7/ajQxIdJ538uagTLuWt5Kk5OG4aD++yN9KIcTF47HxOzl2Jp4WYUxQAF/kJEyfMszM+r1B2EKuHqSt3cq/7JBFUeF7sV+CWS7RfbP77rJOylZaVo3ao1Nm/hQgMR6Nqlmyop+MWUSpSSkmJpz2B9DRICb737InWtRlox3brXELiknbDqH0l7Snk0ju25D85qfwBaeBIxdt4k/LlhNhZgE7LhRwGKpZstR4wMOtmPsT+juZfJh4bkOK8eJjW1TH+90MAHFARhLPYZIWHLv8rEfXvmZfdDmnCnNRvWhiftbHxJYElCee7nKFJuG3LpJFbmGsUQZd53uiHMNYbHo9OfEXOdCD4S9GtIoYHxZ1CdG4ozL8adOZpwjFvz2+SLZcJz5z1ed6aB585jKNBtuPvB94LdVfUn7jnCl0ZDPPMnC0FE3LHV0N9yFFKMAulU5y3F1LG/YsOsRejYuwcGnfUPIe79pOcUp+TYwcEb8Hq4ewqrTExZBpP2li1b4r+PPIrzzzsPeTRdivTAK/cD5SnpK+OAw4Y1mbIuEL919dJMwTrAMkvKANI/n4mVk+ahKLoce554CGKHdUV6jHQoiVGIio+Gj89F6ry84LZnq0oEQ6+FKT/jPpS/CtDzbvIAXChYB82R7a45N9cNuIDASy+9jP/85xH9kkilC9vhpCQuvRsh51R0VF+7XGxf1Lm5DcKuRtrLtuYhd/oqZH09F8Vb8hDVuy26HbYX4oZ2Rnp5NvLLCxGfFCd9bxlyc7KREJdghSABayh2BFosNSarluluEBr4gIIhGayaahOH3KtdxndZ1JW/0O6+OsybvwBnnHGm7pMUlrTzpyEHJKvhYEhk8DG44TYIvs+jiYsId6wtnGGFAu9R224GJexAgtNq0hR8PRSC46pvusMhXPgVYDrledmTIfhbr2qlEZEjCTIrUWShPMdiIdXLNmHRx99h5qSp6DB8AA688HSgT1uUc75tuGRXHgeFgFVe4Ug750Q8/t/HcPFFF6EgP78SaWeezIonAQT/rhbMc83PapdCtDyszaVY9/x3mP7tnyiOjcBpt1wB7NddhuUyRpOiL5b32CeDIanh4sGuF2GKVO/a98KVZPUlXJfn5WJ3AucK3X33Pfjmm28xYGA/+6qFokK2xfzSWX3tcrF9Ea5dqC12NdLuLYpA+m9zsOjVX1CWWYSiDgk4/MqzpH3tqAoucME7BlJWirL8AkRG2SvgBSejlkna/rDy1jiwM1ldcHXqv3dB1JW/1PAC5WbnoEePnuFJuyGsJFM8VkfaDUkz3oN/1xbGvSGlwcfGBvNE8s7waRLjjIdpqWv6DRo73cHhVA23MmnnbU272rPwK4CQYmHc/KOtu1BlybzcmrkKP735IQo2pmPgIfui25WnopyrYNI/gw1GEGmvmrvqSTvnIzz5+BO48OKLUVJQoKRd79M908svAQ5Ne50rfehU77LIz8tDzKZiZHzxN9bNWIJ0fy4Ou+JsYM9OQGspTuH0fimSKClXq87Ij5qKs7bFHRIN8uxiFwW/nnGS/xNPPInRoz/TuUY0O4yO8aKkmG1wkdq1c0kzFzsPLmknmAnpw4S0I68UGb/8jbkvfI+40ijEDeiE/mcdBXRJQGFMCWJaxKO4KB/+wkL4PF54RSzfAvEefL7zEUhRSJBB1BrysKw/B8S783cVJdxuhrrlX7hTDS/QgoWLcPjhR1Qi7VVaTCc5JBELJwbBv+uDxiK6tQHTSjtMYwLkJOlMR0Nl56EiDcwjk8Jz1iFPtBe5RQVAiR8Y0AV7HXEQkhMSsWjq38LwxF0Zfes7WQnBv4mqVSyEIwdo66rl7PfrOVeU8YuUUSQ9umygPAN9Dgxcj3WR+vhpvhKXnIzIpCQdfHL+hYLzKeyBV7Ewdr6OOuBWkYcbOK8qXNGnzBb6qZtY5nTW0RVXKsS0q1x6l8qRxKQ4aXepqgR8UR7EJ1j7a0Tag3hXdo6wH2yIhAqzLhIqzLpJJDyR/KpcC/FI3xhShMNIWOJIv2Sar/AMf9WqlUIapGFNiFK3/hLpv6TN4wCU/ayp59oLyimPKjzfkWLidUgFQt2tj1iQ6ELwAEL4hn22O0LYl31We1TvJ0LNi4NRiW07iachf+HEuK2vmDD4YgTfo2wvMF7GyReTx+C81DZvdOeUUG4aU0JB78kjNKuvsAN0uqUWXo/ylH3RUSimGY2ctxixJzoO6Iv07CzM+ugrcAlBvm184ejDiM0TqwgV4xT5ZyP88yJR1/JhOUk6qYHTyaeqYRcHDMf+zUk9JPi1FZ0ApCL+GyBMU30kVFh1Fc1/HcQq69q+H+JOyh2RQpaCxWNJhK9iiSlPOBE3oUU6TS9F3qldQUgAnBLKzQ4W07bwGOo+xbipdD0oD3RDaDhyvTbhNlRcNAOwTWmINBShwqyrNBTOMLTJtOqusy+tCva9cl/8kjSb32qOKmKO21Mq/ZmycIhJV3UiLUHt/2yeUVlYViY8HixFoYp1ZZcCn6tTHKUjJcDyqKPInzMM82c4nV2qlVBty1olgmrEINS9usj2hDN8q/OqStqbigSjOjd87Py/AubNNfTb0m75+RbTciUlGqndOsATF4uctZuAdVuEXYsPuW18hpO6guRaG0GRirK2KqVCA2XanVJbiNugl6guYn1KaKAEhVkXqV/8dUV9/DhQk3dn0uoqTQ1NMH18TajhM69LKLApcLYHhDXAqwBvW+8ff9jhRkq4lb25cLF7wbwnjvfFaM9rC32lxIuzbQ9FshtLNA7+mXM7ufarXVmYrlDXRRoLVYi7QWNG0qRg8hpOaotQfqsK/3ciZFcQTApDIdiN+V1bMX7McUdIOAS7Y+dWkwT72d4SCqHcVLi0CHs57V/kf0myalN1Mo0gqUs7tOzQFlsWr0Tu4tVAIU0kyqt09goGagdct+bMRbNG6Gq364CVOViIUNedsr1Q23hqmYZK77I8y0DfauB4r124cFF/1P81Mi9h7YV/bAMqXQ3+LULoke1ACDFkvzEQjqO4aHyEJO0umjeqvj5CxuWiL9oj//GnH972rdGpZ3dkr9+M/PXp4Nru5sXfmWD8tRXCHOsDZxj1EcIc6wNnGLWV7YodGlkTQKh82h1ZMOGtJAZ04xTC6a+uCBVPcPiEMw3VoFI/Kv4di0xZCA7XhQsX9YD1wprXttYS0JTXTfTrLkOQd5dHtlXaXjmEpixcR54IxBckhDk2BkIpNAknoad1Q0NR3QChkvlsSA3k9gVTVhepD1zSvosiQh6tJawaVuX1cJt7/ozyAq0S0b5HFyTHJmDV/CVAdi588jKErBCmMRDUt6LVBhq23SjVRrQBayBU21BPaRRNRVCYtZWG59xFAI7CNB2g9gtGwiH4Hp9Nde7riUCnXAcE0u8AOzENS8g7v6pZE0btmy5cuKgb9N2xX7SgvqlWEnhBzXlthbDOObcqMoITcrnxJOcX+eDxRSGCE7wjrc0odxRIpj0+H7yxMbrTvDcuRtqYin1/OL8tgvdjYnS/Bp1bGB2twg0wvfGxGkZ1kp2dLXn0BtxqPOKf+eTGbQa8x/ZuR5J3fTLBz7gGkf/rDJe07xZgpaWpjIC1hOQ9Gkjq2A7x8QnIy8xGSW6+klDerk52BELFG0oaC6HCro242IVgP1Bp61VqhVB9QWP3D450hQXTHNySh3DPjsw6WueW6CUXLlw0GHyZ6iKEOdYFFX6LiooRES0kPSoK+fkFWLF8BbZs2oxSf6n081ydacdRPBJkeCPx97TpeOKJJ/DI/Q9i69atgBD1qPh43RGZDc6PY8fi8ccfxznnnIM3X3sNb7z6Kp588kl88u77SuSNGK09wXOS9RatWnErZcydPhOPPfYYXnnlFSxbvBiRkv+ExERd1YfClanMYiMmjB0FxlYbqS9c0r6bQMac9pm8XKwxtG1PS0FyixbYumUr8rOy9Z4Sd61RXOfbOloXyUYcjKRR1MwuXDQhmNbUSH1R3athXiMjtUAVW/T6QPwzHBMWj5zg2uBwXbhwsdMQl5SEn7//HtdedRVOPvUU3HLbrfi/u/6NBx56EM8IcS4oKNihxL0krwB//fUXnn76adx3/316nk3iXm7t+/PYww/j//7v/7B8+XL8+uuvuPbaa3HbbbfhoUcfwgsvvID169erFp7EnEejJVeNOQcFEoZf8jR+/Hg8+uijuPv+uzF9+nQ60Ps7wyRmR2PHPU0XOwHskSt6ZXltrH2M7I4bEaWITUzAtm3bUJyXLy8EL4sDQ9IrkfWgc305KC5cNFOYquy09XZWaft+QJwI/u1EdUTYvJJGghEuPhtMq1MquXdIyPsuXLjYJWBe50kTxuOyyy7Dp5+OxjXXXIOPPvoI5557LiZMmIDbb78D06ZNt9agDwcJKLhJqq2oiUcQfPGxurZ4WloaunTugnbt2iGpVZre454NzzzzDNatW2eR+vvuw8EHH4y9994bbVu21Y0Y27dvrxpyYex6dGrJSdw5CKFpTOvWrREXF4fk+GR07dpVIvZg6dKluPnmm3HiiSfi7bffVgJfFxK/owm/yZkpTyOEUq0wcEn7Lg5dD7xSZZSe3JD2pDj06NMH8TJa35aRJcNkGeGWl8qLQj/C4MUt35lg4V4TnOQiBwHD3rGV3UUdYR6RUwyc57sTHPlmnSaU6Mp1Q3irtOHO37YfA/UX7L460G0occCkg/bnRkxHVCHiJoQYVLpu8iVSU9wuXLhoyqB6LQLPPfec2nIfeuihOOG0U9SOfMiQoUriS6X/zs7OUfMUbxQ3lPTK/TgV+qcJjU/OOZPN6/FJGyBhStvgieROrz74YuPg80bBFyNHOc/eJmGJm/y8AgkyWvzGyr1YaVvKlWAzbtILkuYVq1erNnyfffbR1HI39JkzZyIzMxNJwjfo/vLLL8eYMWMw9rvvVPNOIk8NO92wUab9e4UZn2UvH5uYqOGdcvaZmD9/PhYuXIi+fftKBKVK4r///nv89MtPWLt2LTwxMfDGxsLL/PMoZJ+Sn5+vZjP6W67zt9klf0fDTCx2ijVXzxyrwnOvwD530ZwR8vnaFUEqo3TvVqW0O2ceIkoiUDR7FZbMX4iOQ/ogtVdntXcv93ASBwk7XxbLvYH1M+iiwFR4DhK4kRLB3U/5CeuE40/A4CFDUFpSoi+42aSBkBj0SFS9shsguIBrArUmuaXIm7USm5avQ0SsD92H9ge6puo8BS7wqet6+8us1QPChW8u8+g8311g8m3n2SK2FcyV54H6H+SWL49xavnh++JwT5hjODjDDCcStN/v18/KJm3GztNaY92Kr4rI6xc4Z1D8z4aZmGXCo4vAfYe7xsDff8+WTvQHXHHFlUhJTbYuhoqjkeN14aJe4CtRChQv24QNkxchJiIKub5S9DpwGNAqVm5xImUkSstK4ZGXxtKGWu+hVYnrU5HrWfnt6N577z3MWTgXXiHanTt1RuuWrXWeGpMWK4R6jz36Y+vmLfhu7Fj8+utvmCvvZMaWdMydOxcffPABJo4br5rxNp06ICs9Q/2wvRnz9Ri89vIrevzz99/RtlVrdO3VE3lC3JNbpmHFkmX4+Ycf8YIMGn777Tc1g+kq8WdnZeHjjz/G/Hnz8Lv4a9+uHeJkwPD555/j/fffx4oVK7QNi4+Px7Rp05Ss0z8JPc/btGqFVrRbj/Zh45q1eO2115T8f/nll1i8aBE6deiATEn/W6+/gVWrVuGPP/5AixYtsE3ipbkN45YnouFvy8jASglziqRt5vTpmDvrb0ydNBkDBgzQCaxfjv4Mf0jcycnJ6Ni5c62eBMN2PjPr2VuwziwXdYEJ0QihR/kvLy8PL738Erp264bTzjpd77ma9t0B8gZrVdKO2inyPy9rFam4rhWGRz1xuhdxmsiouHARHgFu2JQh9Zx13SLBlljk2LpXBQH3JNGWA2fjHdJPPWDFYdJipctcJ1i2Du5dLaywrPCcYQVQg38XLlw0PXTu0gXx0fGYvWAOTjnlFBx11FF49dVXldBeddVVGLHPPjoBlCSdEzevvf5avPzyyzKg/lttwR965CGcd955+PDtd5HWro2u4kLzmptuugmDBg3CySefrOFRk//p+x8iKSUFa5ev1PujLhil5i177LGHhkN/NIFZsGABLrvyMtz/wP2YMWOGKgooGUKiqWHnoCAnJ0fTlZCQoIT8pltuwv/+9z9Lyy6E/dfvfsCVV16pae7YsaMS+TvuuAP//Oc/dXIrTWyu/OeVeOCBBzBnzhxVQlDBwT+2l0Y5wWs0m7nq2qtw3XXX6UCCcaanp+tAgxNi6T9DfpMgM21NHS5pb/Zw9rY8d4qBnCs7D75OWNesq4aIhxOD4N8udgk4H3UDH2+pLilomW84YYimkSYDeQHMRE0jVV4VJ6zXxjqlX1saFRKe1+eBL8qr4vFYzTWXebOWa7QL0BGvlivNX2wEypluRPgVxik15tOFCxdNFg8//DBGjhyJaG+0rpgyY9YMXHfjdTjhhBNw//33IysrC70H9MdJJ52Etm3bIsYXg0MOOQT3Pvigar+HDByCBYsXqJlKztZMvPXWW/j6268RExOjJHzfffdVzfS23G348ccf2fgo0aUZyv777I9//OMfaNOmjaZl9uzZSBFSf/XVV6NT+07werw6Xy4uMRHHH388DjvsME0j7d3PPPNMXHzZZTjuuOM0fIIDBtq0o6hENeY///wzjj76aI2jX79+KCkv0YFG9+7dldCnJKUoSSdB7zdkEM466yzs0WcPDZ/pvkLcnHn22bjxxhux99C9kV+cr6Q8IiYKfQYNQIcOHXDLLbdo2bRo3RoJttlOFYWGjabSTFq9gItmClON5GhIebCom1BiYHpt+5p08Ja1nJGKu+rC5gkudhFU9zzr8ayl/VSyzobUmHUYAm9dDyLyPN9ZdcrEXV0a5LqxA3eS4bCwX6MGIVx6JGxTrjwabZJxa5F5+x7L2n4OlLD5c+HCRbNFQoskNXN54bnnVRvesX1HRHmisHrdajz34nN48okn1F3nzp3VJKSwpFC1z9IoIEEI9pAhQ/Q+tc60A6fWOyk+Se3kOVGU2m1O/kxNSlXtNk1afvnlF7UJ79GjB+JTklUj/+Zrb6pWvGfPnkrct2zZguLSYg3bL2Q8qUULtWXPzs/W9oiEmctDcu12mqd4IjzadpE0T506FV988QWk5dLwEoX09+nTB6+88Ar++9//IrllS8smXdzGRcWpBr84J09/83zDlg2aV6JI0t6ibRtccsklwnQi8d1336kWPyc9A1OmTFHyzwFKqaSR5ruG59C01MzbM9JU2lCXtDd7VKpWQQh33QYroVZEpxu3d9/tUN0jr0N1IDdkI0yNiWlUzSdKNsiVyaYEvbOqGuN1xG3S4iTnRkiEnajixvi1pVFeH+dry3Ad8VELxLKlGLMZ45amOtY96Z6MNl3cUJzh6YRWCcuFCxfNG/+85ArkCUE975IL8MXnX2DCuPG4/dbb0DI5TchdhGrQs4Wgsi02mw9xHXNtrKVZoO03sWHDBm1LSNAJauU5oZRa6s8++0xJ/dixY5WQb9y4ESWlJTp5k+0JteNcc/2Kq69GdGK8avfZ7icnJGtcnPApDFjjJ8lmG8VNksoKiuCLjUV0dLRq0dl3UNvNdJDcEzSX8cTFKHk//6KLcNa552q6ad7Cdo2TT6lZjxLizfRQoj3RGqZk2jpK20dt/V5D90KRv0ht6zkXQCewBiGgBAklTQQuad9NwBfBCKGV04WLRgS5YXS0TxpSa8c72ghSeC0qyhtYM1hJZHUwVXN7VVG+Ak4RML3sVEyamVZ2ABxg8JUJmMzYbjkwoXse2dnwGt2q2QoJsWnoQ+UhxD0S6VJ/ZSbtLynFtm3ZqrWiHSdXOeD7W0HIrQmwgXDsdJo8EYF0ixuGX1hYpPljp6mrQbhw4aIJwDQItRDHvDKarNBUpaxQ2i9ps9p2bq9rn3PVFi4+0aVLl8CGQyS41MIrkeWu6AIqUhLjEtGrVy8l00OHDtW2jOByjV169ECnHt30nO0GtdLUfDNs/ib5Z7vHxj9T2ql1K1aprTpNWNiGGo23ONf2lO0V200zgCiXtpNp8Mgf7xVImLQ5b92itWraaftOrTg3VqJmPkcGBJB2jHHQ39asrdYgxGcpMpg3muBoHqTd07QJuEQkbfdbtWiF9z9+X4k7fzc+Kp5N7aTusLshF7sGDAsxUgPqV2eC0CiBuKgzavF8GwvONiZInFpgI0uXLMdrr76Gq/95Nb7+6mts3pQuBLQMiQmJkmpJt/gLW0MZpgnXPjrj2x4gKWfjbr4SsLPhkQ2/kuKghLKz4H1D2PnbCMOxpKo9f0jY+TJ+Nb82GD87LWqbSLLZ6ZmBA2HMYThQqBYSvt9fqv5NR8rwaG8agJ0OFRcuXNQCditWbh93AkicabtOk5KYJC7lyBUeffp+s6094YQT5XqCvvNsS2iyopM9qSQoKMK4ceO0TaANfK/evXHAAQcgvyhfJ64+++yz8NvkmhM4uR58RxkEkOzGx8Tjm7Hf4MXnn0eUDAaWLFqkmybRfIZKGdrJ06ad7Wd+5jaUSjhs3wpKCrTNpIbftJWMn2lluknA+w4eiIMOOkgn2L7z3jtq0uIXP0vmztfJpOMkLVwxhvnh4IHHAntzSA4qcgtzdSWaDStXa/uYl5GlCg/a6HNwQk08J8/26ddP/RjoE6y2/dPeyyFOM2Kr8bSOjYBqqpO75GOzhak6BhVViRLh7N0FRsNO8JwvS2RxBIrmrLGXfOyF1N7Wko8c0ZYJewivEQ2OVyqrHT5fUhP3jlnyka53sgQa7R0gnIyYV2Yv+bi2/ks+mrYlxO3Fi5fghRdexH8f/S/++P0PTJkyFb//9ju+/XYs3n33Pfw1+S8M22sYYqJjNHgGYYRLfhKtWrbUFQb4KfXqa/6p17ljnUfqlnHnrJNMD69ZZNeSCrA+W2dctuzJJ/+Hp596GpMmTsL48RPw8UcfY/my5dLgR6Nd+3bqjprrkhKSbvHN+sjggsRKq4Qttz2RHsTERiMuLhb333e/NvBHHnkkunSVd0JArXR0TDS2bN6C5JQk+tLO6yJ+sj3rLLTv0E41PSTa/BTNZ6BxaD6s84CEgPXeMJ9Mj5XZRYsW49JLL1Vb0P79+6sN5iuvvIp33nlX8z1p0iTt0Dhh68UXX0L6lnTExsbhkf88ooOm3+SZTZ40GV9++RV++OEH7RAHDhqARQsXyXN8F6+//jqGDhmKVq1b2eXOsnI8EyLoZ13gLvnoolmB72adlnxkxWVLYPpJ63ftpAGwvfMwbvw4JcATJ07Ezz/8hCULF+POO+9Uc5e777obV7DtLSxBQX4BRn86WgfqOdKWLV+6DG+/9TYmTpiIW2+5FZdfdjkS4xPQqWMndO/aHRs3bFT79vfffR9vvvo6iouKcfppp6NH394YOmAwoqWtnTRhEn784UddGpJt8fHHHY++ffriqf89hbWr12qbxq+ErVq1lj5lsU4u9RdbXw+5wkznzl1ksDENX3zxJVatWw2fJworVqzE8D2H4aijjkZ6+lbMnzdf+5333/9ABybnnGMR7yeeeAJLJQ9R3misX78Bbdu2Q79+/bUsZk6fiakyeKA/DhBGHnGY7kOT0qol8oTcs/+695570bVHT+kwS6Ucrb/Kz8eSQJssojbuFPNHJwqrUec1C4Eb9YcdRF5BPl56qfKSjxFSsGG6ERfNBXyE5jGaCkY4rzsJOK9xBOrNiUT2hxMxdvSXGHHhMeh23P4ATdyihXyU+pWEVAbDFdHGqgIMzwpfBgOlJPuWvzwZAaempuI1IRrnX3ih7rrK+1xT1qSHDZ+dRKueyu/KodeM+lbgusYTEg19eyre/NqBnzU3FmPzW79h9s+TEZEai8MuPg04uDuQBBRIgrw+KcNCIY9ko2EHXgJGbaK3j9Ta8tPlTz/9BI7n+Wy5yx53q6NG45FHHsHzzz+v2hrzKTIYrFv0RztChjVu/J8oKrTsDek+RshvkXQCPKc7DiCdMPXXeTTnmzZt0t3+OCDg8mZc8mvy5Mm45557NC4SURJcEueEhHjkS2cVFx+r8bMBT0iMV7MTanf4GZZFtE0achJjnhcXlWh4tAW9+OKLdbc9vgfcanvYsGE4d9Q56p9xUftEYVoYFjsMarSSkhORlbktoE0iTB5Y7535Yf4NzDnvsdPlgIBlyJUW2rVvi3Vr1+uzYIfF6w899JC6Z0dMcs88Me3s3Dig4PrLtN1kuf/nP//RyV2cXHbjTTdIp7xJtw3ncmhPPvmkdHptJH4NTuK3jgrneR3xztvv4vrrb8CMGTOl0+lkvSvO8EzWGxCHCxcNQsXrJyN9kWIg58e/MeOpr5EcGY8NsUU45o4rgX6pKC7PR2ScF8UlRYiSxiKyjBWX0xvZxta1Ejsjdp7XDNP9lrJtkQG+1xelmmUO4mkCQ1MWmqe0btdW1zRPFbK6ad16DB8+XNtA2qlzKUeu9sKVW2iTHp+YiJKiIvgSYlCUnS9EeL1O6uTRhNeinQzuC6yvkWz/2K5wuUS2tTRX4c6mBNto3mda6Ibh8zeJO23lqwNJPpd4pCbd7/ern5UrV+o9tsX999hD+7Rlcp39B9tmo7lvJfktyMmtFH9nIbtZtmlhe2mDPn3nQ12GkgMbttnO9rcmaLGL84onzR9B/oO4Ue1Q2Y+GKJd43Jy+RScLH3zIIfjoi094JzBEdLGLwpCDYNSlsjZlNCQXu0YJNC60AUyIw5577qlkkOvj0h6Q9YjEkasJkEySwEdFVybsrFOWuUapNqb8VMmGlYSZ/hOTErTBZ4NkyCsbU7OkIRtaHrnMIYUTKinOOty2XRuMGDECq9es1kFD69atcMIJx+sn4iVLluj21dTqkpzTfpudSU52rqaH13JzrLV4mRaS3JJivzbu5n1QzcxBB+Kuu+7Sjio2LkbTyA1ASIYJdkTsJLiEGQc2LBejXed1Ev+AZrkOMGVCov/tt9/qWspcl5jhsww7dGivZJ1lyjTzubCMe/fppasq8NM288TOmbas7JR69OiuE674WZlpo7aL5J+Tt26//XbdnIQDDz4TFrOjqF24cLGjwPeOBLA2oj1XubZpFH7BJKHlFz8uoci2myuyFOUX6MRReKyJmzSlYdvFNrFHn944+azT0GtAX21DsoSg040/z1pEgEqawYMHa3tDO3eGx3tsm9jW0a6dfcPhRx+Fgw8/TNvkSOkPKO2EdHfr2RNthKx3otIjKkp3XR86bJjeq04GSVwtuLmStIXcyZQKmGOOOUaFyz4yr+VC5rlyDVfE4So0zHsraQtlFCPtdZxqpfuKW65hTxv4M844AwceeCBGnX62DjJOPfVUJLZK1f6m0RHqeYUV208d4ZL23QBO0lMJUm+aM0zyObitj6hf6+DChl0s6CANboyQYmpb0lq2UCI/7s/xqsUgUaXGhIR39OjRShhvvfVWJZok2zTDYONOgk6iGB0TpQT/l59/1Y09Hn7oP6ol5jnJJ7F61RpdneDGG27CE48/ib8mT9HEhBpbssMgqB3Py8tX6d27t2qWOZggCguKdE1fauKpSeYnxmVLlytxZ3q2pmdo2u+++25dd5iDkU0bN2v+Xnj+RXzyySfayaVv2aqmJdw0ZNGiRXj3nfdUo0WbT6afad68aYtuqf34Y0/gnXfeUTMWmueYXQfffPNNzT8HJPxKwAHBzTffrOskO8HBBIm/1+vBN998o6s3sAOlZp+DCpqwkNjzK4d5p2mq88nHn2r+mQfmj2CHxPLnlwa/dHJcfYHPhAMQfv3i4IRfINj50a5VYR6+CxcudjDq3hOVlvpRKu8232W+43y/2S6QVLMNpkTI+ay/puuXQ7YHtPf++uuvMfqjj5GfSVtwa6IoyT3bdPoPyxeCwPhKi4rVxEQaKpRLf+CXdpdLPIaSQmlPc7dtQ0FurhJvCYCZQJmkv4rIfeaNcdRKwUg3IYSDFOZn3aZ1mDVrlhJ8DmqKs/O1nILBnIcTwhwbB5LGesAl7bsEQlUvItQ1+aUvpnn0le+52E3B9kPaUE4e0s/E8psa3Y5cT1dAYsqVCqiZ7dCxvXYUZrc8aneoEbniiivw6Sej1cyEBJRuSBKJVStXK7mnO2qoqREmoeWEKYKbXJAMUyNMDTE345gxfaa0uxU27hTalnMlldSUVCWvHEyQ+L/44ovYvGUzjjjiCA3vjTfeUJOR/fffXzUtJNxck5cknISaZP3PP//UwQY1NrQNp6aeAwISZu4mSLtLkmTGaz4Bs+PjNYLbZnMjEWqoaBZDEv/vf/9b88188cgBDtc3pob/9tvu0Mld3DDk7LPP1lUeaFtOos446J7lvmVLug4UzKYjvKcaNeZfwuWnY56znFeuWKUDBQ4azACIYDo5qCEx52CBgwt2gLTTp2aN/glq5/kc6tl/uHDhYidBybW8t0ZpW0kM+ZbmXOeyDBxoKS+ee0k1zbzGNphHgu012weDgH8HzG/ndbYj9KvkW/zzHq+FEvYnbEMZJ92WiR8TbyihHwMThoH5XZOktW2tCpvvxnynfdWFF16IyLgo/Yrsk3bQiUCuGE0IYTk3BbikfReB9SJVfsmqh7gNEHcXLiyQHBKsSZwwTJOQe+6+V8ntU089ZWmypfEiSWWdo+nFHgP66+dHajWcnxzZaJJIkiSTbJIk082IfYZreNzwgiYuX3z+pa46QCJL+8fTTz9dTVNonx4MEk6SUTb2tON87933cc0112D8+PG45eZbcNHFF+LvWbPV7p7En7v/9evfV01BqHnnxGimm9t885Mvw6KdOsk2TUZatW6p5j8cOPBei7RUXVmBn4K5wQdtxfkpmBM6OfggqKU66OCRuP7663WNYtpk0jyG2m92kIybdpkcDHCgw+XY6IYrJNDWPC/X2qmP5cVVXszXAvNFgYMEM1CgP3a2XObtvnvv10EOCT41bcY0h4MAljvt4kd/+hkefOAh3SL82GOPVdt83tdl3wQ8soPUFWjYKdWlCXHhwsVOBdsyIwZKWEl6KYV+baOPlTbssmuuxIVXXILLr75K2x5+cWsInPGyDTHnpr0KlmAwnYQJJ5Q0FNlbM9VU5xBpq/c96ABExkahMCtX23cONKqA5FwOoaSpwGVtLly4CAuaVdCumlpyklcS29zcPDWZoZaY2huSZG7AkZGZoZp1LltIrQobXZJ4EkraHnLnPIZ10okn62YdF1x4vjbmPCepJfkk8eVESxJXEuBgREX5tIOgVprabwq197RlJwEmVqxYgQULFyhp51rm/ErArwMk0YyL6WFa/vfU/3DwwQfjmzHfqoae5J5ppz04OxQONAryC3WgwHMOVGhaw3xxIMLtu5lPav4JanGotedgg+Y51MTTNpRfA2hLOX/BfLUfZzpfeeUVHTiYuBgm88J8qcZdwLCDwbRzYEWNOZdYo2kP7T2pWTfhcD12Pgdqk6jl5zPkpFNqnFq3aaVpoxkT3emgSsqT/rVnaiLaJBcuXNQO1ZFbtqNsF0qkHaY5TPq6TSiRNo1tS2QI85Daoro4mxJIzoukLcxl+52xDblbszTt1PizLTUDh+YEl7TvAuD7Q+FgtnHeJVZkI05srwpuxWWFbh23V0wuHAguaGnAqJ0x11iVqNVt07a1kr2LhJT27tULsfZnxcmTuMzXcfhDiOieQ4eidctWKKKmXcIhWeYSWV5q7uU3NdZffP45jjv2WEybOhVnnXkmbrrhJl1mcc7s2ejfrx9OlEHBdf/6Fy679FL88vPPeO7ZZ9Uv02GE/2VlZqq9Y98+fXDW2WfqkpL0r5sNCZn2yIvgjfQgSjqmrMwsTTvRulUr3T2QS5E+/PBDeOuNN5EtxPbEE0/AYYceikULFmn+07dskc4uG8lJSToRNUca/ERp/Bkuw2f++WmX6dgmA4vOQswL8goQHRWFg0aOxLvvvKPnkyZOlAHKiepntRD0hLh4jDr3XJw3ahSuuPxyfPjBB/jg/felY4mHTzpQhs800y/zynSa7bSdUiCdEI8s2169e+KC889Ht65d9brPJ+F4Jf9yj6ZNV8sg6eijjsKQwYOtZyGPl2XOI+PgvAWWMddBbuyXTp+XCxcuGhXmvXK+X8GmG2YAn5SaqoN8DszjUhP1650xtYNv135DmWcKzXES0pIRE8UlfeP0N+dqEWxHWQqhyrSpwiXtLoLAt98IEdQa8Hdg9nPwvbqBjUo5w2At5IBDj/ISBc7VUVhpFqP9oDRXkaYEacgt0m4RZZK83Owc+Iv8KPeX49BDDsUhBx8ijygSUyZNEbJ4AUYeOBL/EqLdv19/ce/V9YCtZhBCbmN1fV9WmeVLlmPtmrV47bXXMGH8BF0L/cUXXsTMaTOF6B6EzIxMIcnJQj67oUP7DkhJTkFcbJxV3Rx/JJu0Zy/xl2h8vL9181a9V+Yv06PP65N8lOu65SmpKZr+7Mxsjb+VDCx4b8xXY4Q8n4c///hT1xteumQpvvziS/XPcGOjK9LO9eh5ZL65ZCnzyN8dO3TU9Yq3ZW3TOOnvnLPP0TDOPutsDBo4SNc9Znw9e/REYUGhDAByNH8sG/ovKS5RUi9e1B//2rVtp+Fv2rgpcM380T83qaJ/hsvncsrJp6BXz16Il0EBUVpcqumM8kXBKySeZcAj16Knn7ISfjqXCOTf+nXr0TKtJZISk/R3JSGCr9VRmlgNd+FilwDfK/Z/JJ36m+dsIfjeybvNY7m0AeXavkhbwDYxv0SPvBfH9kN+87w5CfNWW6F7lgnzX5ZXrF91CQ5YaNJoyi7QVvHYDGDlwoULg0q9bLhabNfyRobRsW+f0F3UCE8kIoXccTBB0w1+QqWN+aaNG4XklSGSGyPJPWqeSeypte7Zowfyc/OEEK8R0hhn3SPkAVLzSzd0O37cODz5xBNYu3qNmoRQ+0sNdao0niO4fnBxMf735JOqbaYW+4fvv8frQvCr2EJKY7xl82Z0at9RteR52blIa9HCukUbRXG+97BhOO3UU/H0U0/pdW+UFz/+8AM2btigmvzcnByN6/fffkNyajKG7bUXDth/fw0nwhOBjK1bNb/FRUVCcEv1nBrwNatXq4Y/Nj5W07k1PV3vMZ+Mgxg8aJDm5+effsLQIUP0OsuNaaK2m5p1hpOUkoRVK1fivXff1fJlebETYR4YF8tnyeLF+tspfD2p3aeW3/w2wnImWD4Mi+VTLgMZI8aN88ivAYceckjQe+/ChYvmDBLT5mj60ZioSamn96WI6Ko5NX/ujqi7CYLrry4fxx1R54bYEVWIS8WOqMFVOvjc+m29INbM8druiBrqpaI2MRCm4/9qUQsnoWC81dN77RAijw0Cd0TNLW34jqgGvO1wUlbix4zp03U9by7huFkIID8pcoONtJZp6pbaZX521Img772nG3DQHptLatG+m2RyxfIV6p924CT+tAunzTo38+HyiVx27NBDD9WVVLr16K7kl8uScRlE2n3TLIc29C25Zq8DXL3mfSG+nNTKuPi5l7blrKsxQqapiY9LiFNTHa4YM2HceMydPUcnoXJSKieZ0j6d6eaSjJs3btLdBLkiC5dYLCoo1J0AeY2rwtDWPSk5GVOnTNHrnDDrkfrLz6v8zbXUiUEDBiIxOVUmqfMAAPWlSURBVAkxcTGI9lmfX7lajYdfA6TMklNTZFCQpvnmDqZ//Pa75oGr23BlB489WGInwkmpzBtt0LmqjkeIf/a2bN04ic+FS0rSXp1x0Cbfib9n/a3lSHt62sbTpp15a9+hgzWIysvTZ0FwzgA3W2I6Bw0ZpNcCcNSJ+mI2d0SVZ+7uiOqiWYAct147olrHBqHe3sVjNW18TcS1vggOd0fF05gwITcohgYnjwGECMS+lCdttrsj6m4E55MNrvt+IXXWjqgTMHb0FwjsiJognqIiHTuiBleqoHNpuJSI2wS/Ljui8oUk+XO+mKYh1HNxQ01nFW2rA4xbvdQD6s1ZRvYxGCRRWhahGhB+inPCmdbt8WpRo9tYO6ISzJIzW5LkAiF2JOssW25wQRtArp7C3yS81oYdEdi0fqNOsORER65qwnIiUeZ66e07dcDGdRt0IpTuuJeUgPycPJ0gSbLMlU72Hj5ciSQnBckIQ7XwCxcu1Lg4gbNFmgwSnLDLk6SfcdEf11UfNHiw3mNdYhpZnyJ9HmRs2aqTUklOmYZ+A2RwQ+sfcUcwj4yPXxT22GMPJLdI0e2uN27cqAMVDkQ4kSkxSQpWinHiuAlaFswvrzOvzDcn0Q7ec4iWXV5Orq7IQtLNwQTzVVxYhCjakQvSN23BvHnzlDiTrMdJOTA9rOvmWbDOk5BzY5PLL79cJ5p26NwRWVsztTydYDk5wXIhUWfemDYeuXRkpNejn4kNmGZOmOVAiyZLbTtYJjkBhKjqdcW73BH1hhswfVfeETU4TwbhrjtRGzf1gQlXjnxlbB1KswAneFPpsMPAsjLg67GzdkSth22G5UP632riron0sr2sC4z74HCdv9kOE+y3zbmBcRcuXcHpqSn9NaG6/GnIcrv+MdBz+PBrBQffMdAQ5RKP7o6oLpocDHkPvMxCjqk9pkCIl9/vh7Ani6zawsmO/PSPWPndAJiXwyDc66dpCNd4SPpffeUV3HP33Zg4YYJ90Qb91NTo8HYo2RmwC4BkmCYs3IiCxE93RLWfU4pZJkzctmnbFocfcYS6I8ElWSWBplaXHWBbaueFePMeiSiP1PoefNghuuV1YUGBBqUNu4THeEaOHKkkk4M9JddsdIMaXqaJcZIUK2EnhBwbsKGmOQjD4EYa1OjrbnpyjWExPgoHB1yqcq+99kIyByJCGLgMpNlpj+HrmsJChAku1chlH6nd52CGy1LSPXcO1A5fEC9knvfatGurAxuC+TZg/rnDIP3EcSMkSY/Wfc2n5YZp48CI6wpTa86Vceb+PQcpaamad6cEYNc1j8TFnQCHDd8bbdu3w6Ahg5WwqxPuLuuN1C8kDJtruz/99NP6jCphZ9W/OoJr3xuQ7OXnFYC733L3WApXxwn7UjcS+Ni4whA3wGJ8XH2IcfK6AdPGjcgI7jNQKV2NnD6WgROGtGTIgO/LL77C0iXL9DfT1FjYllVhEjd1yjR8/dUYLX+WC6HPSe6xbBgv82/Ki0cuU0rwHuu+8cdVjoiszG3qduOGTZoH7t9QqQxdNBnw+bFPN4Td9O1GDLSNdogTody7qICrad+F4XyywfW/qWjaIziTe9MmNRvgp3+fxydkpJMuyXflddegJLtAV/Pg5jc0r6Apxr777qty2OGHIyEpUeNqLAQPnJk3kjYv17MuKQk0RAbUDpP4ZeVl4ZorrsGDDz6o140bPRoJRohLVRD8dja2pt15m3Gx0gRVHP6q0oDyp3EWpqKx3GiiwWfNusTBD8MhiSV5dGq9SSj1qwXJtwmCtxg2w6wI1oL57Yia/vm8KMHp5W9zj0JoHWT58DcJNi+L0G6d5JfgOd17o2UQKaQiEDbDM2m3f1eC8yfzZbSH4oXlEqnvlg07PcHpI0iwaaZDst+HS1KSrDgQyGd18TtQUlSsXwhWr16t7xAHaDFxsfZdG2H81hXbS9NOcsflLrdIu8BBFU23uDEXv5bwywPLjGZYN954Iw6VAeL2BIkovzb98ssv2j4xfm7qxb0ISFb5xYWbklGYXg4QuXY/B61c6aexyjoYa9esQ8dOHZTcsp5/9dVX1nKrJ52Ehx9+WL8k8QtTY2nhmVcuY0oTLi59yi88NNHie8/nwi86NJXbb7/99OsY6x8H0rz/008/6dc5PtO99x6mZbJi+UotU+5twK9HHNCff/75+hXpo48+wmmnnSa/z2t4+VW8avpuupr26mHcB4drftOsMS5FOiJBvgzm4pKtc02stJfl8izZh5pwgsPj0UhjoLr8aQxyu/4x0XP48GsFV9Puorkhf9s2NYOgqQC1jz/9/hPefO9NteP66uPR8CXGol33ztrAd+vWTU0rqAXdY8AAJLW1JiCycocVqfxsW0MJ74Vyb0SaFiWR3pgYLFu8WDcEGjVqlNokGyLKI9OWGJOo2mlqNSmq1SQRJSl0NkA8NWLgvOa8TlR3r6EIGZf85xTJfwSJNFsKp8ilQOvhdO8AG14SA5aTsyFmo00CzDAqNc4kts4geG7uV3pIIuxgK/PXgNvqGnyTDoo26KZRtw8En6leF1Fiz/DsuAJhyz19xsHPNxSc9+VUNd+Mgp0Xy4L3RZxpY7yUXr16Kbnu07evpsHphiL/WVITtMysnV25rv1RRx2lXwz4fKxytsU820YSR7E2GrhBF+ckkMBxF17OiyBx5uCGG0ixLZk5c6Z+SdjeIOnllyF+0aHp1+tvvK47465bu16X8uzStbN+oSHp5ORukmamj7vUatVr5ALigGb5shW6fj+Ju9ZfSSPTd+aZZ+ruxZxfoMoHPutGAgcl3FmX8yP4tYzEnHM+uLMwN03jHAw+E5p6nXvuuTq3ggMtmn9RQfP1mK9x5513YsWKlRpet+5ddXDDdLO9JUmncoRHrlbFgcekSZPVrYsdA7aXbMs98dGqdOCA1AjfPQqVNAv+noMVi5YoYc/JyIS/oBDLpf/cIO9rRIzVH/j9fn1fuAs1iT77WLZNgfbWRVg04mvronlhO/QYtYYVd3l5mWr6SFzYOHPTmf69+uu95cuX4Z5770XWxi3a+e8rDfaV0gHsNWwYTjr5ZPTu3w/5GTkVOXAQBSMhSXmwhPJjS4AMRQtBksbkB+mYvv5hDDZKhxQRH6VmO5369cBHH3+kG+dccf213BEHkIYJ1MzynATNhGMfnAiZRl6zZWfAmQ6C52FRTRqDG1821obEU3tW5ndoXQKROiQY4i5AdNWPCLXYodzWEoxbBxEMwxGOU0PDfDBOptl5vU4I9qZZCB3Wdum0GCQHYDLQ4KCBE19pxqNfFLZDdEQ9S6p6SKDUUO+xR38888zTGDxkENq2baskkPMkevTsjksuvVjJnT7X2iBEQtXMpSbQnwhtsEnMOWmYk41Hjx6Nd955R9KUr/epaSYBpZnWgSMPUHJCzbSS5kYue9YpDma48Rl3xOWmWTRB4deIG264QSdW0xwlJsaaY2HQEHMZmsd88cUXSr45sZrvN7Xq3JBt+Ii91fyK6aLJFwcvVM5wQjjnmfDZkbjv0X8P/PLrL3jzzTd1sEFw3gi16xxsHHPM0XqNZXf4EYfpwIcbuykk6c7nVenZ1T9bOxh1rwjyNttHAduSegj91lZ0YQPpBzlZd/asWThZBqDcb+L6667DKdInn3vOObj/vvt034jbbr0VRTm5SGyVir8mT8YxMrA++6yzsHrxMnmBvbovBM1Jj/3HP/DO228jNzNT+9PgOBsiNeWPMMf6oyEh1M+vu3rMLoBgglGBcNelkZYOLbI4EkVzV++41WP8JUp+qLlV7a340d/inoSI2hg23McfdzwmTpmIrZnpmDFtJo496mjEpMSjOL8AH370oW6Gk9q2JXweGZlHe/HDd9/jlVdf1VVFJv/1F2Lj4lTrzVF/VFw0Fi5YiE9Hf4p333sXY8eO1YmMCxYswMSJk9RUoUu3bqqVo6aIZjpvSMcxe/ZsdO7SGS3btsaiuQtUszdeGhmfJ0o7jrUrVyNnWzYm/jEek6RRWrR4MVavWIl+vXvj/bffxW8//YzlS5Zgwrhx0nEWonO3rnhfOtJ5c+fiqy+/lM57JPILC/Dbb7/hyf/9T/P9x59/okOHjmpfzY6PGkUPtfZamjaovW+M1WOsx2WBR+uR6TmfpRHrt33PCXPNeaQ4qww9ShU0dU/rk4bJ66wnlkbZisdyEwB/murrqN8GJkwF65INc8b7TjHXzDH4up7Zv03aCKfbSmlVoQN1VnHuvGYQ/NuGhqvvmA3+1kNFnLymYuC8Vul6kISDuc9ojRA1+asH/ubqMd838uox4pbPYdR5owK2+FzP/qmnntIvEgceOFLee79qdElUvxnzjZCCd1BUWCTtSzYeeOBBFMo5q9QrL7+i13r06IGpU6fh999+1zaB7yDNR7hZ15bN6Xj9tdfxzTffYvKkyYiKikbHjh2UGJri50pc3PmXk54514ImMpwrQI1z9x7dkZ2doySWZjvc54DPlZt2rV61Bh999LHuD0Ct8YjhI7TOR8o7vmTxUrz04kv46cefdEWg6dOmY8qUqTIwSRDi2wqzZv4tg4PP8Nlnn+u+BzQppAnV1KlTVcPNlYnYxjNdbFfZnnFVJpqh0B3jpb9ZM2fp/ggk1B/Lte+lLV2yeAmGDB2iOwm/9dbb+PqrrzFu3Hi0bdMWLVu1VJLOTbn8MuhmWrlSFE1vSKL5NZQgqaZmnPnhV4X33nsfa9euxW233aZtG8n6iBEj1HySbS/Tynb/3vvu1UHOkCFD9RrNbGg+c9ppp+vz0H5DwuQg7X/Sbp5/3vnyrKz9CXif8Mvz97CdFPDZqJ/agM3MDls9JpQfc622UvF/uL/aQNuaWv6RWEPKl/WE9fKrL7/SVbduvOVGPPHYE7jm6mv0mW3etBlnXXQeUFCi+1LQpGn6nOno0rELhu+7j/TLsYiUd2j0p6Px8ksvIy7Zbh+ClDDKbfi7PsJDNf5p2aJtbIPBMOojBs5zG/alUKvHOHoMF7sfWHt3LCrHaP1yvjjsLC+44AJcd811crcc8+bNxZ3/93/qNEs6Hy6/p6t5yAvPiYyPPPAwTj/jDG3877jzTvw1ZQpOPOkkvCgVnVrEjz78WH8/9PDDOO3007Hf/vvjBmlgaGs7f+ECJfjs4I448kj8+667cOZZZ2Ef6fz/JyTgdHG/dUu6apy90VHIyctFdkE2/EL0ExIT1Ra4qKQYT/zvSdxw2434aszXKBKivXnLFjz+xBO46uqrdGUOapfWy0CBEwdpYpMjHfjqtWvw2GOP4ZTTT8U+++2reaAmf8jwofqpODsnG1HcrVKw3TXuweHzt5FagE/RSBWwQ3A2jNqIOsxOjATDBEb3DmgH4/QXym8tYcLS8Ag7bQoTthF2/EbkX23LJizo34TlRHC8jQ1mzym7APi1ziLZkXpOO3d21hy4k6DyHXz++ed1eU7aSHNZUZJYTsalNpgKA76bNN+47rrrdHlQ7irLSZvUApM8XnzxxWpOdP3112P+vAXqx9QDEmPGS2Lu9/tx++23qzaZRHbRwsUyCE9SNxyEM1382sTJlKeccoqm75JLLtF5BiT5rIt/TZ6iJiS8x/i5dOojjzyi+eO1P37/U4kSNdHU7lOzTzMUDkCoUGAamGaaEXKVIgpXCyKppmKDK0DRJIF+aTdOjTfzS3MFEgSa+3FAwTBph3/NNdfoJHOa9kybOl3zk5OTC6+Pm3VBTRwMEafCgOcsK4KKE4K/mQ7GQe0/J3Dz+TAdBMuEZXzUkUfhmWeeURt4kn2WGfPs/CrBwQL98jlnZmZqflmulTTsNgLvdpOGXZHqI1Iw2oaxPa2P1LV8hLAT++6zj+55ES31njtcx0XFohMnxkf7dM+L0087Td2xPV2/bp3ux3H0IUfpfhnwl6EkO0/eo3no1bMnrJ2a5eFRghCU2zoJ4w513UjDESrU+kjd4JJ2FzsNOgoOArXg7DTYYewzbB9sztysK2i88eIr2vCzkdGOQN7zX377Ffc/9IB2KCTm/Yf0x5577Ym8ojy89PJLWLx0CcaPH4+Va1fpihqHHnmIarjbtWmPaOlARkjDM1Tcz54zG1u3bUWPnj1UwzRg4ADpMHzqf9bsv9G3fz+ccuqp6Na9O+Ki43HAgQfirLPPxv6HjcTF0uH2lfRGSoJo2xedGq92neecew5K4Nel+9iRtu9prcYycNAg3HDTjdrRPfX006rV4+Q0pmVPOXrl74MPP1TThbyC/Aruat7tur/joREqPJ7XVgj7yHbfSDC0UxDZIZ2nHUV1cfGekXCocq+mpNd0vybQf0NlNwbJG98xElUKnx8JLjWv1LhzFSAKJ0hyojjt4DkgpzaYWmi2Qx06tsfJJ5+s4bF94eonbDuoHT5LBvK0sSZR5nKd1Bp6vZ7ACilx3GxLiAeF6aCJDte/p+adttdcBSWJigZBlJAaElVOumd7dvoZp2nY5513nn79Y5zUyM+YMUPNaUiEqcRgnmiC0659WyXdDI8T1Fq2SsPhhx+upjDMC80Mjz/+eCW6Rx55pApNVJh2fpkgOaYfDhhoKkONNcuMhJerIZ1xxhk6ifb777/X/QBI7Nu2a6N7HHDgwQEE853IJVzzCrSsOKmUgyYScYbDAYAZRJl3ieSbZJ3PikKizfKiG/1yKeXcpm1r3HzzzWrec/fdd+skWrbtdMM4Dfi8mBcOArg8qwmLR4LhGdgffXdZ8EsxJ8tzDxS/lDGPlDK5RuHETyMBYkxh3xui/60O/CrOMOWhonffvjhF3iEpeK2zVExx8EdGyXrKOqjzgORZcG8LDrIuu+wy/P7n79i8fr0+Q34VYt+nz8sOV6WRwLpXkzRHuKTdRZMCG2g22l169VSNS98efZG+LV3t3f/666+AGxIVasilyVJi+/4H7+Pyiy7Xjqa9kHI2CuzwTANOP8UFfu1kqBHLys7ShibCB1x08cWYP3cBnn/hBQnnA3wjHVOhdDCl0uqskg4J4ialRar42YZcGRAkJiUiJiVO00CNG19+bitPrX1u+jbEprEzPgNpSWnYJh3sc889p2l4+ZVX1D6zbdcOSsyLS4uV1L/z7ru4+ZabMevvWToplxO0qOHSlXEkjro1rQ0A27C6iItdC6GecQNkR9TbUr/1/hmyTnLId5xaYNqUk2hyaU+2A9Tc8v2jGQ3dK4Ft2VIJH5eKJBHm+8x2gf6okecEVx5PP+0MNZ8jMSHRZf6iY6zBAsH+n0RVFQoCTo598cUX1SSPE1MNoefSjyT51Hgz7ltvuQ133vF/upkXiSjbPpJaav6pBGC7RVLMPPQVosR0chIxSTWVAF98/qW2FTRJYBzUZDMN6VvTlfDGJ8SpvTrt/ZlngmS4RVqqavM5yZNfIFhu1LrzGkGTFMbNLxG333aHKk6YLu4TwLIhGD7zxDJj+Dwa4kyyTOEghWDa+DWCYVIbHxMbbd2XMBkO85eXm4/DDj8U//73v/Ht2G914EP3fK4mXIK/eZ1xc6DC3wxLv35IpeOz2F3AcmDZmvplzrWc7bIzouCxngVkyl3JPsPgfC2pNzRv4oR583UlWvqt6FQ5l3rGlehI6jn5nYPEuJg4rXNRMuhbvHix7nkhCbbqJsPk0QwoKLWFyZdTmNaapBmieabaxS4Dkms2tuwIqUHii89GJy8zC4OGDlWNC1dmWbtpLe6//351z86xcFueNtjx0dJZSIN+zNHH4JH/PILnnn0OM6bPUDvR5MQkXUXhwlEXYM7s2fo57wn53VI6xxuvuwHD994bJYWl2CQd3tMyQLj0ssswRUb/PaQhoSaeq8fwE3RZcbmmj40i4+NnxTLxV5hdgILCAk0P00XtFtMO6beHDRumnWtBaYHaki6aOVfDOOecc9Rukpv6cOlLrglODQS/LLzxxhuqfWBjxg45KyPTLiUXLlyEAtsMkgkOxKnJ5ftHUkmNL99J3iPh4zXaYvMdNkSSpF3Ju5B5bXOodRaPJO/U4nJTLtpdH3TQQdoOUePOOTEPPfSQ+icZpj+S4OLiEm3HGB+JOePmqinHHXucmqVwyUUSU6aDE0MZF9s6Lg9JExhq1amE4KCCZjLUkD/xxBOq1efSiZy4SbJPDTfzwIEAJ5aS9NKOnOaBzA9JFe3To3xRGhe/BFCzz/ywfJguasKJww47TNNEkyGu9sL0MyyuJU+31I4yXqaRXyFI3PnlgOYxZm12EnDGy3Iw5e80U2FZMDyCaWOZmnXYDdiOM/0sO2rv+SXkzDPOxIMPPagDJobP9BMsO+aB+eYAhWXB+wT9yy2VakeMdeCCTR6S5zpJQ0D/huiykMusfpFfhvjVKkr6QaKsQJ4v3z8OYMUZv06RtHuT4vTLF78yFWQ6dnSWcHUwIO8pvxzw+Rrw3Pk7GOY+vwJUEYYlYr46hPz60AzhknYXOw1sZNlRsPHl5Es2wNT4UOJbpCA/Jwcnn3aafjKNjozGgqULAstKsdHm6J4dBf3lSafdok0L7Ln3nnqMJ7GXTmuzdEbsmLgKAbVIXLuZneOjTzyiJJtxPfrfR/HOu+8gJTUFz774NEbsM0LJuEf+2IHzMzvdUcuUV2TZZHLJq5hE6URbJCuxzy3K1c4nNj4eRZIfRHuUoCfHJqvJD01maPbDtNK0h5O0isuK9bM2O7Lee/TGoL0G6Wd8as5o76w7j7rQPjZYwqE2bqqD+mXf1sD+rUljF8pbaotUbQtI3LRdEEKekpKs7yg1uyR71FjzHSXZNNpmuiPR5ztLkBCzvYiMiFQ7aYbFATXJLMMYOGiAauC79+imxJRgu6BtgRAOMxCgPw4CdNKktG+0RSchpfKA7zVJN9NDUxQOODg479q1i64q06lTR10WslXrlho32wjaxn/66ae49l/XKGFlBeUA/6233sJNN92ku+bSLcE2KjY2RsMlkWH8/K3adsk3teG8xjBoskNzFq6Nzi+aL7zwgraPdEu/bBvZbnFg0bNXD+w1bE/06dvbMsMRws7yVKIlYDvF8BkvSbwpY4Ir/SQlJ2qYTB9NYDgJlxsmMR10T6UHvzDwGZiBB82YRh44EnfddZe2+SYu1aYL2GeQMPKZ8IsHoQMGiYduSktJ3CQKJiWoMeDkVOvEOjRXsJzVNEaEq7EYMdeUAIsbihSM7asRIeHTPInPjmYu1Kpz4qk+Iznls8hcv0nfEU725j2aZXG+Avdd4XvFZ69pk3qphFrOnVItxE8VG30Kr9tiOav4ba41Z7ik3cVOBTtcdq7c4ZR23rTrpLbZn1dgzSiXBuDqq6/W9YXbtWynjTVf5shYn36CZqNNgs1ObOHsBVqjP//oM+2I2Onw0zInor325muqnWLnyYli/779Lm08SKJpT8kOm53rssUr1J6U6WInYD7L8tM1CbU0JXqfmvv8bXnI3LxVO2Of/GlnJZ01P/eiqBSHHn44hg8fjrySPO3suAwdGxV2IrRDTUum+cw21bBvXLMRZUVlat7DlSc2rFtfqfPb1UBirOS4BgQIdD2kNuE7wS5C0+U43+mw8xJWaov6+GkGKCkuUU0eCShJ47y58zWPfAepUSYp5z2+z9TwGoJH7Ti1yrzONdW5DCI1hiSNapqWGK8D/cVLFqvZCO+TVHK3z2effVYnajIekmK2HSSy/HrGyawb1m9ERkamuudAncSYRGbZMms3UrYlbLsYLs1iqKWnhvmZZ55VO/i5c+bpRkXcSI5uaE7w/nsf6OCecXKiLAkPiT/bwnHjxqk/to0kpBx08D4ntxYVWbbgbONI2kmcyYVonsIBBtshv7RxNHHgAIIDg+TkJLVJZr5oxsMvCsz/e+++r20zy4xtE01yCC71yLbS5E+JkXmJBFyBh8SN4M6svM5nwrzwHvPJsl8wf2Fg8innBXDAw+dhBlEEnx8JPDdxoqmSc1dgzjNg3EybIX2h2tBA+po5mA+WhVP4HJxHJbFyLj/owToa4e8GgvWddVtJu3SVHCwwXhSXIVL6Vt6n0owrOXFAwU3F2GdzaU/uLq31gCRfYJ5brcFnTD/BYj/7OoXVjOAu+biLIdxIMvg6X5DI4ggUzV2z45Z8lJe2XDoVbUzs9NAmlX64VTtJNRt+rnTATubggw6SF92PmJQEHHzASHzyySc6MuekrVLpRDp07YLBAwdJJzcXv4//HX/89gfefuNt7axomsIJox07dVRNzdQpUzFn/hx1O3vubEyYOEFNaDhBi8vBLV+2XO/98fsfqrmiNmzdxnVYKGXTokWaaryomVswb4H6XbpkqXaSXIXi559/0omr02dPl4FFG+tTYHw0yqUDjIuNw+gvP8NZZ5yNU844Q/JbgtJiP3r17q2dJDvLH3/5ER9+8KGudUwb2jPFHeNj+D6vL1DiemzMJR/N0XleR7BdNB1jyLoXdEmbUblWKn7oXv3QTTgRhGx6HXE5o3W203rZcc+KK0gEZmCghJ0if4Fl4uRgn4VGuH6hWk91wPYOx1xvrHgc+HvWbPzQ2Es+BuHbb77V1VNIZLnvQ0bGVvTt01faiVghmsX4QN4r7lTKATyJLNcD547NJPTt2rZTExQOlPkek3xQacD2onWr1roeeFJiMh544AG18Z7992wdIFCJQLKoyZb/2EZxoM32iYoHEmgS2ZYtWynZZHvA9oxLQe45dE/VZh922KFYLwNzto8k5jSBIUFl28a5OCSutImnvTnDpXkN57qcfNLJOhAg6eEEP6adXxy56RzzyHXSORmVfklseT0pMUnzxbXb2baybenaravWXZImtrlDhw5VzT5JM5eoHLrnEMRExyhxpv08l6Zlmrh5Ves2rfSLBNtiviet27SW+F7SdnPEiH2UMLJNYHlyHhIVKvRPrSwHRCThQ4YOVvt8ruDDdp/kjhrb1JRU9OvfVwcJ3JiKfQndc4IstedcYpJ9CJf45NcAmu94ffbEU3kWfCZcXYbKGL7v7FvYHjqhr70RJ/guC3/cMUs+Nhym/QwlATjP6wGSYA1PhOdsYCOkbMuFnHNA8NGHH+qA6/Z77kZRTo4+e0quDKCjkuLx3ZhvtB87/rRTtT/iF3DWiTE/jMEFoy7A0P1HoEyeNePg4NHJDWoDQ8x5NOeECYNHFTvcYJH/GlxG2wV2kkIt+RghGQ3X7bhoJghVWYlw1wm+IN6cSGR/OBFjR3+JERceg27H7Q8kiJ+oSPhLrRn5Vu1x+g06l4aL8RiCX8aGVTpFIk9eYmqvX3vlVZx/4YUolgpIks4lnszL6RcCy3WT2SGwoec18+LTDf8Yrkk/jyY+nkdJx5KRlanblrPR52dbTtjicmc0Ybn9jtvxuZBhaur5+ZcdNzU7tCMlKb/7/+7GtddeqySdtuTc3ZCfhPnpleGxY+CEMZrJFBUWIn1Luh75mxozfj53ptlLQmCn3UPhuZ12okzSrnngD7m8fsMGrJP0ZGRm6GdmEo60tmlqF78tI1M63ET1F9gtmR3UxmJsfus3zP55MiJSY3HYxacBB3cHkoACCdnrk/IqlOfLwZOkISTMZSbNJK8imTXDTg+1cCQmJv/MKqudmgkICbHHbyjKtzRt0XEymJG2v0TqX3DZ1AcanzkXcVR5hTN0dvbO36xvfB7cbIg75Fqw6peeSeBMvuHv/iLaR5ZVJgQOcl/pWF8E+VdeYMOZTwMtvqA8V0GYNNGb+g9zv6F4+613ccP1N2DGjJnS6XSyI7TuKUJlqI5YvWqV9RzttoMadpJJCpdM5RriHo9XtcMUvv88cqIqsXHDJn2H+T7zSxrbIYK/CbaTJNwkjqyvJMh8t1kHeCSoRaaW3yxfyC+HbIfMxMvqQMLM9ojp6i0DeQ5u/nnV1RofTUTYfvIeyTdJNTXf1ILTjIbCL3mMgwMNflWgVpMr4VCDzYEI82GE4Zj8048++xqwadNmJfoElQxsCwn6Z5mTkDGf3N+CA5B77rlHV5pRM0ABFR0k7yxHumcZmnSwfWAeeM35fMxXEoKrxnAwQvMKxsUBz7vvvKcTZEn499l3hLpjm2LaGtrRc/BBsH0KJu2V4Hx3qHuQx5/z49+Y8dTXSI6Mx4bYIhxzx5VAv1QUl+cjMs6L4pIiRElkkdpoVPRR9UNNL29oOPv2msD3ohJq8+BtGM15hDyrUqnnjNcbH4fS/AKtk5yDwS8+/Jq0/xGHoCy3EJHy/MrELb8uc1MxDlaplNP3Tu6NHTNGTbw42KbmXSFpojlP2PclOM12/mtbDlXKoAlDcyTJ5XFz+hZdJepgeac++uIT3nFJ+64A5yN0Vs5w14mmQtqNtsKAYZl088j7JhvO6wa+qGhExEh8cqm8RDpun6RD/nGi6IaNG9G3X1/ESKdCbRknfLIzoD0lJ4n98ccfqkHb/6D9pEGyPqsxz1xRhhoXNv6EaUg0lRKPSa2aupgiYoMvHQQbHpYBOyiCpDRUg6E5kMvWUU74j0e5oH54nTdZBuacaEqkXYSf49mwswNWNX+eEBd5JsJ+1Jmyzii5VyqjEHFn9aziMTEW/khrABOqfAwCg5VwCM6eVexVwGdbLs8FrJ9CvCPkWenqBvzSU1aKYqnz0ckJHCsJgbfSEyF5i2L6KdmFEpc8bJL0GHkGdv61zJgG1oMwRV0nWFEr9NWwEVwM5pYm1XnTnDv8hnquAWeNkeYw2BGkvVpoO2EF7mgyQiJkFQxVblJl+G6zPpl3PBimPpu67fwdjOBLS5cu03XRqSz44MP37avApImTVbnAvR04UZWbB/HdYzoq4rHcMq9a3+17OrCsGnWtYSadck5AJTieHwcJ77zzjg4UOKmW83nCEjCBsyxClQvB8jVlTTcclHAFH85J4prxo86zVrphOqiFN0Sfpk/mvEqdC4azXvBxNhPSHkCYslOwItSEavwbUxMiUgg3SbvWp4QYQPqXdTKYoqkoQfMYmsAQEULM2f5z4Pnjjz/q15yj//EPXZLSK+FskUEyv7ycIX2wVGT1U2cwXUacv+1zk+5wR1PneHSeNwVoCiUpPLqkfReF8xE6K16464S/iZB2bfDo3qSPDYWzsVbm4oyTTit+iwu9TY1pMHjl/gfu142SqCXiJFTmm5+Z+ZmbHQvXbqaGm9qymIRo+IXsU9tGEuqL9aKkwNIQUUimPZJWHvmbUJIveTFpNqTdlD3zGqox0LtymUdzrpAfPFUNtJxXIvBEUyHtAmaRxMHDZyTltvT3SVj/90L07NQFpdJpbt20WepYEcrlvGX/HigsKUb64pWIbpGEQeccj5I4q+xClY+B3jF5DwZvBnulW9t98C0OAMqKirFt1QZkzl+O3JUbkAAvsosLENuzA6I6tkLXPQei2Gv59MnALXf1RmTMXYat0xbA45e8tklFcoc2yJOOOyc7G6XZeYhLS8GgYw5GRGt5AMGR1hUO/1r1eXScG+hufjzyPzu/CnPudO8IJxi7NGkPBYnTNBXO9rEmBNfRaqpsJdQURXA4WVnblJjT9IU7g3LNa06Ap7afbRK/EHKddYLkVNtICcQIEQgzVBprn+UaEaocScb4le3oY47SAU44VMq38zwQJtsWu42V9oPmMmyjSdj5FYUr+gQ06OKW7k1drqRdZ3g8Ncdg8LpBMyLttam7gTobfHSihnAMcWdY/GJCUFtO8xjWy6S2LZXAcyUW3reUXj4+vMDqLKrc2l4ISn9d3mknAmXVBKA5kOTwGIq0b8fSdOGiZrBhLpHGmCuuFOblqekJG32+fLSbNJ2RU3jPiL5qUruNKQqFn2bZwUWJPPifBzF96jQ89uh/JTIhXRLmZZdcitGffIobbrkeqa1SlGgXSPxFuUV6TqLMxqo4r1i1yIyDYZGwczINOw/ToZDgc2dWHtloMc2Mm594udV3OG2TSTcROBfhufnNY30boR0GKSsrwZHI2LgZm1avRaIvBp1at0N8UTk2TJmLDVPnIUmutUptgZzNW7F8zgIpuFL4pDy94l+V1BIGheceybKRSGn3ud11JM95NMLfjN74DXFfiS2F7vgf65Q8j9ROndAuJQ1FmzLw9ze/Yt2UOUiI8KFlixbiqAL0Gx8bh5ToOOQtXSf5mIuSjRno3LEb+g0dhsH9ByA/KxvLFyySAWmB9aVB4q63SHzO3xGS9wg5BvJjHz32Nd4PuOc5hWEQvOaAubzbQJ4132Xam5PwUTjJUlcVYbvBOiMVJ5SEanOCwdeyNlJXcOUbmpjQRp7mMJwMSltxmpxQA0/Cbsgwte008yGp1Xks8kJQrPdRwPiDZTuD6eRylUyjs50OFj4H2p6XhHw+kgXJA/PHss/NydM2NTExQZcMVMIuzykAOdV8O0DibvJb3eChucJZN8NJFbBgKbUFw5H+lBNKacdOsk4hIWf43J0cJdbDojtq0emO9801/b09YOcluF4RgTKgQohpsNOhIvVIxfzmPfbR4r65IKiqu3CxY2E14NYonefUWvg8PumMhPCS9MbwGFUh0jB45LqHR750fDkZkBBymjNQaAKhwnNpVGjjzqXRLrn4Ylx80UXYZ8QIdGjfHv486ShEqBlPiE9Qwq0TZdkDsC2SPxJ1Ho09tBJyiVu/FkjcPkkDCT2Pas8uDYDRjjM/gQZEJBi8EiCVItrf8rd9rTmgjNtaawdZiri2aWgzpC8Sh/QB+nRHjBAQf0Ex4qJjEd+7OxL2HYyhxx2O5G4dUcK1mwvFX2Y+SjJzNc8okWeWL+HRsoYEOF9YqAycVHi9UO7nybUCORbKsZjPm4mw3RfIf7nilr9lAKbh8Zxhi7A6CBOQgo5AbL/eaN2lE1ITk+CL8KDD4D2Q2KU9SvkQbPel8hA8aclI6d0DLVq2FKLgkeokN5ISgA6piO7SDoeddQraD+iDcm40whFHboktkhamNU+ONK0hoZa0lWfmATmSNuZlWwFKt0o58LcMcCzbHBHmJbtI7uUCGeJerkUUSUfJ/DDfdMsyYvlxyWtmeWOWXJdzcVeJvDeXitTYkPeNAzQO4KOi5P2Ud5QDevOFj48xnPBVrUkMQt1zSl2hX64knbRv5yT5UaNG6XrqJPC6eY2kT8Ejw+cxlOwAmPw52zgjwW1fsPA5OBUszudDmGdBULNOsGyM/0DeiaD88j6VKsY/02LOdxmwnChSfipSfio853UpA+ab5UDFExeFKKZyTAaBhVSQiRTk5amyKqzI/WJxr0sxiigZl36aYVGxxmNRbq51j8+EbSvBwqZbOZaKGyq61E8dJNTylU4xnMEIv6AbYdr0nEcJS3eJlWOZHMt4tM+Zbl2vnXWF6W0msN4QFy52EtjAmoabR6vRlgaADItkkMJz+VepcWYjYTfwBBso5wtMzTcbqeLCIpSI+IukISjm9s7ykgpJdxJjHo0Ywq332PiI8IXWxkPCthoN/ra0eDwGxI7bpIMNptV5OBMeAkwLnTjS1FzA5yclBER70XuvwdjzyIOAzq3lRhlypOEvK6E5lBdlhZykV47UvQej7957Ytu6zVg/YTqWjpuKdX8vRNm2fJQLwV89dyEW/jkZK6b8LTILG8fPQvrEOchduApZc5dg2Q9/Yv7nPyB75mIhvdIgkxALaS1ctQnrZszHzN8nYPKX32POb5OQv3yDRY6FxJbL4E21cxTtYCLg56kkXWuR/FcmwsfAZ0DR/6gokoEjB4gxUTGIj423bPazi5G+dgNKfZEYNGIYYlqmIWflBmyYtQCrx0/HxmnzULp6M1ZPmonZP41D4byVMkApwLqZCzD/lwlYJ9dL1qZjraR53s/jkTtvmZB3SWimH+vHzcDiP/7CxjmLsWr6XCz5cQKKVm5EhAwAInILsebveVj09c9Y/cM4bJZyKly4UstxlYRbvHFrxWDFBvOk0EztnuAjp9QVdhNQRbYHahtuIB/bKR2NASXWtYB5LkbCoUobWk3erbBI7vnDurbLwZQHySbPeTTnBPPPQZAI2y72r2ayL78C65dge0JwdcLJ3FSeqZ065yZJOD4514GWHBmOQvo7YcvW0fGsGLeXbiXeugj9UOifwnwEhNd4j+4kfq+k0xcbWyHyW6/b4WgY4s+qExViEPy7qaOC9bhwsZPgfGkM+dZRspBuCkfJnARjxDlaNqB383mbn1W5qQfX7VWipgw9hEjLz1jDCRsfHqlVZ+NEbbqkVNPIwQUbLqO5M5qjgLChse/tyojkKhxchk1YYlTrFCR0bSeFJ2Wbl6uDJZYFJwJHJiRIuUmDHgUktU7D5gXL8ONL72HmZz9gzaRZKNycKX4KsVYI/Jw/JiF93Qb4coow+aWP8Osjr2DemF+ROWcZ0qctwMQ3R2PKq58i9/cZ8BRJ+W4rkvu/Y9KHY5AWnYAE+LBm/Ax88diLyBSSTI19hAwetKOnGIhX8yztn1VBrbfUOa5cUSIDP5+feZN6t2gd1kyYgZULlyCWmnfJs9dfhtnf/YGxz72Dsc+/hXnf/o6pn32Hb194C1NHj0XR30uw6s9p+OWNj1TWThBCP+YXfP/yu1j6yyRgYzYK5dr0z79HwcLVaJkHJGSXYPIn3+BXCRPz1+gXh/w1m7Fi7HjMePtL/P31LzpAWDT2T/wsYW5buU7Sy0Rb0CwznxReYCadsouDg2iaYFBojkHwlaxOnAh13yk1IZQfpzhhXasgFZWlqvumAJOu+gjhfDY0jSEqu6u5HHRCrmOQynqtE1Ftd8bfrgTVDks/SVENsi1GexxM4KUhVgmYh9RS1B/DYXj289F5Vbyn5+IuRog79z9wCjcbM/6DC5+/KWx3eV/6ShW6DxYOFIJF46cf+hUxyhjt64OEcdhiTGEqCd00M1i9lQsXOwiVXxH+qrhCsxQSKEOAqXmnqL26Q6gNN2JCcF4z1xkOCbfR4jNMXgu8qMpowouGIkfVrEvHwiNh/FOLbnUIlrBx08+R0mjqJz274aRrHSfwaIuB8zwU9D7T04RRJpnLLcjT9YtV605yHhen603T3CQzN1sa8Wi1IaTb+O4d0H/43ujasZNOVPVmFSCuSMizOO7WrgN6d+uBIYMGo2OffmgbGYf2nnj0atcJ3fY/ACNOPgV79R+I3MVrsFIIMDZnI2vuUsz/VUjv5hx07tILAwbtiY5JachaswGzJvwlJLtAOwcSA25kYxARIekplYFYuXQyZTIY4+d3vcMCZz7kYHdWfPLSTWLthvXYNGUqZv32Byb+OR4JSYnCrOPETQliW7bCPnsMRYe4FmgXn4pBA4fomtpxKclISktDtORnRP8h6JbSBq2iE9GtU3cM3mMQWqSmQWomkFOIRb9PQca8FejSuj2iBw5E2l7DMKhHH2TOXY7Vf06VNHnQp1df9GvTCRGZeWib3AJde/dB2w7tUSad1uaMrXb67VxIhqxfFpznOw47J1bC+opnDeAtG2n7houdDj6LQBsfaJvtm3WA+aIZDk3/meubWiex8kSzH3sBBBH2OzrHqrBQlyzOzcnRTQu3ZWYiMz0dGVu2IH3jRpUtGzZg8/r11cqmdeuwce1arF+9WmXdqlXYJL+3bd6C7K1bsVnC2SDXN6xchY0rV1eSTavWYNOaNVZY4o47kweEvykmDRKPioTtlE3rROTINAQL02ZEwxHRvG3aiK2bN6swz5QsSWtWRoaWw7asLC0TI80R7uoxuwCcjzBASAXhrhPUQO3w1WPy8vU+bb+Ne/6RLDlhNmfSmMg6gmDlq7KfYGh+6TUo3/TrLJfaoLpytFMZQCW3/M/+WcWf/HSmwpw7XfFcBw5OUMPQZFaPkUGKCPNGu0Hpcq2Olzbn6QWY/8WPWPT9OKR2aIsDb7oAnp7thTzbnjflAGu24Ltn3pAGfBNOueUqJA7qhylff4PhIw8E2rSQMHIx5z+vSwewFoPOOx6tD5frQrzTf5mAGR+M0aXERtx8BeZMmoilf0xBCyHGXQ/cS8rAj/WLlspAIh/lqfE48pxTEdurPUo4+JJ6H+MRkp5ViNVjxmPJpxPgS4rHyIcvQVnnBJR6pD7az4qrQ3hpM7NuGyb852XkbNyKtiMGYcjZp6r2fdyP3yG1e3sMOGIkHcvopBBF4xbj23c/RVK7Fjj8slFAyziU+SQwecCRxUDxtIX4+v2PEdsiGcf+83IgNQ7ZmzYgqUVLFC1ciV+efRspLVKx37XnA7076Sfn9PFTMeej7xCbnIh9broIiI/H8tc/w/JFS9DyAEnPCUdJ+GXIys9GSt/uKKWhvy9SB0i6SZT1L+TjDVEtGw1vv/0ObriOq8fMQNduXaxK7oygUqWXH3WNXP3X0VOldz+M37qmozo4owsFZ1y2WyaxSjNj0JhpawzUlL+aEJyfuoRn+zVadrvbCA2GG6rsnPExHHlHd8zqMc6I5Vy91yXz4lqcs+80VZrtMde9v/7663WzKva9JPL1BQcCDNPZpxmYa8HHRgPbLUJeBPYvVftdC8HXg13RJJZ7FCxduRT/+ue/dO8DJ8KFuzOhJSnJ4tFd8nEXhfMROithuOvEziXtFRuTONdhD4bGJPedMVbA6Sl8AGHuBCF0DLWB0c2GArXrerQOAZg0Occj5prTrWrngxuVJkbaubMpv2Zw8hBX5iEiOVFySwHmCWlf8IOQ9o5tcfANQtq7tQVixA0zSzebszHtpQ+FdE/F0MNHom2/HsguK0bvvYcK2U0R0p6Hv+97EZkbNmOPc/6BVgfurX5zpszBwo++VwK/9xXnYuaMaciYsxS9+vZB5yMPkHKIUVKNNq2AwjygS5rUaYlT8uf3S/mws92Sg5Vjp2DJx5MR0yIRBz54Psq6CMH2CtnVXEToUpaqAV+Xgz8efAH56dvQfv8hGHzGSWrDv2LOLLRu3xbxbdMkWaWIKI1C6e8L8e0Ho5HYoQUOuewcoFsaiqOYYUlCoTyfX6bj23c+RkxaMo67Vkh7R0lbqaQ1Og5Zf0zDX0+/p5t2Db36THj6dpVkRGDzrxMx7/1vUe7zYPh1o5DQvh3WffQDFsydh7QDB2PomccDsT6UyGClTNKFKE7QZhZs0i4I9IFWUizINftyAMG/GwJuqGKRdi75GI60y39MrCbMmbjaQPw5X6LagI1N8DvVVFCb7De1pNeU5urSS7/B98NdC4XGKAtn2DuVtIfLZHho/x7Uf9Lme+mSJbq5Fydk0qyTG1xxAyx+ceYyjTzyN6+Hgypf5D0hB+DR9NcGhlvw6DxvDGgoUpw8mv7PvOammJz9YpU+UsBrelXc82jcmM3BDEL53dlw5t9d8tHFrgt9M/mGOkSqvTRpegwtNkLdqo0Imt4rv2NRm/ybR6NlZhQ/UXI1KR7dhg1CXOsWWDRtFlbPmo92HTvI9TjrvgxQaEtO+01OAIYM9ui/KCdf7WC5shDat4EnPgZZOdm6s2xpUYGQdWmYO7a2w5ABZAE98auAeGc4MnCkWGmqsGln+vRrgd3g631CfrA/Z8ehbouFZMvgo1v/fojv0h4L/5yCuSKcnOopAfKzcpGblaNhy8gJkT7p1rnpF8UJRsL0pcRLeBHwy31fYpx+Idi2Zav4lfyVlCN9/UZk5+UiRQYhCZ2kfJITdc7Hlg0brTiYJiETvsQY+IS0sx9iWplmfgkpl4xYWbHOne9H40sTRxPspANg0mqSpoZQaXRKdQh1P9y1UOIiACWp+uKXo2evXmjbvj06demC1m3bonvPnmjXoQNatm6Nbj16oGPnzkhr1QpdunULK/RLd+0knLbt2qF1mzYVImG2kettJMy2XD5X3Lbr2gXtu3dtFOlgS0cRkuwOXTojOSVF09KuQ3skp6agfedOaNEyDe3lXjs5V2FabGnbsaOmj+lsLelvJWluJfk3JD1QXs0QQb2ICxc7F6Y9Nq9TrV8rkpdg/mCLk6dUFiH1PIqzeon4rS58gu6CYa4575kwCaf/poxKmhVzSkJMxkgNkDSKxZ4IlEQKcbVZZHkhVxgQd1zft7wUaXsNRM+9BiEze5tqhxLbtbEmMtkFwkmsnggPSnILAfrdkonFi5dgY3Eeknt3FcKbgDZ9eugykhvytmHxsmUAd3AUUpuxaSP+mjUD2ZkZQo6pLZIDv1REy0lpOfxlfhR5SyWNTJA0hmXSkNv5YINO8m6xdQlOuHWxp1y8yQAiRwg5V2hJiUXZkg1YIoONwky55i/FttwcFEsgEYyH9vPijmtG67rRJaVSFlZYurQk88hv+4xTnLfs0QXdhg9GcUIU1q5bZ9nii2RkZaK8RQI6Du0PtErlFpXIlsFJQloqikv9Eq9tp8+gWKx2HhSMQ+G8GAzeawxx4cLFzgLbY7VvLy3VZRopNFvUHZzlOvdD4Vc4adx0KUd45Tyc8Cs7G0xKMLmVsCBxlEvYZRJmaUEBSvML4M/NbxQpsaWYR2nfmIfE5GRtk7lHCvNZJHHGxMVZi1QYKbEXqOA50yViFrOgsFwa62vAzgS7DhcumgS0abAJH8XaDbVpo7oU1nhP2o9gN06y3vRzXxmqoZb2fMuqNZg36S+sWrsO5ckJyC7347eff8XSqTOtddUlj+XFQjbZObRIRNc9ByC2Y2v0GjGUuxlJhyE5V1IbifikJBQXFWPt4uVInzwDCydMQUZuNjocuCd6nnIEEBeJNuJ/8AlHIL5HR0yfOh1fvfEufvzoc0z+czy69uyBpM6tJC7tZ6RhL0fehiwsnbMQy1auQFFKBHJjijHp19+wYfHKynVO0rlq1jzM/HMc1uVkIMdbhmWrV2D8b79j+nc/Y8pHY/HHtz8iNyMLEd5IrF+5GPM3LUdSj7bwpSVi8tS/sHbFCt0MibJOzqcvmofI1ARIN4dfv/8ORZmZKMzJFYIvDtqkou0BQ5A0uCdyhJRvm78Qs3/+Bdn+InQ7cl+0PnwfrSDLly/D+qJseNqkYFPmVsyZNh25G9Olk7a+HtAUhsWnk7KlFvGayVVzq1MuXLgIDaMpdh6N8IsgheYtk375A99++60uh5i5YRPWrV6NAiG9G1atwtrly7Fm2TJkbNyIPLZF2dkqJOaceMpJnCTN+qWT8UiYG8XtMvHDCa8mDoqZVOycXKzLLibFVbkXVsT9hg0bNA6a8jD81ZLe5UuX6uRakvbE1BRslXRxELJ+/Xp1t3nzZr1P86CFCxdi/PjxmkdvQqyGQVOhQPnIb82LVWjWsRnBtWnfBeB8hKyUBuGuE/4maNOuIctvZwzh4ay2PHf+rgsYW+1iDI36+zUpNjzREPZKIQY3Kk3Ipt1MVGI90eUQWV9o58mNkLL98G/cCm9yihWutxzlnnJEtE62JqNuyZMKUogyafjzs3MxY8pUjDz3LLknnUNitOVnQ6HatOev24JuhwxH2wOFtBbmoziyHFFdaSYSI46k0EjyC8vg35KJ/PRM7WQSWqbA107IOk1kEj36AcAjRafhFkoy12Qh0i+FwCUchRQjXm62TgRiPfBLOlknPVzbnZsV6WZGIvJPnwfDYLnyd67U6ULpLLq2tcxf1mbJPZ+IvAt+eRpp8YhMYDolztxCeHKKJT79aZUD85oswudBhbmkDRnbUCgDASbXyw11mL40KbfEOHFTjJKt2+DJkDhj5Xd8lAxcRBgH5wvIP37E4JH1ykqulLud7GBY1+jBQig3tQd9V4TQJG3aXbhwwlnl5FVvTjbthDUJ14rb9PfOfn/evHl49tln0bNnT9z273/jpn/9Cz/88AOOOuoorFy5EmvWrMHRRx+tk8VXrFiBTz/9FP2HDFFCf//99+Ojjz7CE088gYuvuRI5m7Zi7dq1uOyyy9C+fXs8//zzaCXH6lAgAwBOju07cKB9pXpsERJ+2eWXY9HiRThK0sUvm+np6ZgwcaLuFHzJVZehICsXzz33HB577DFNu7Hb79q1K+76v38jLjkJD917H6b89RduuP4GHHz0EVYR5cvDNf0hy4jCtsdRXk0BmhomSw6uTbsLFy4aFWYwyCMbmTJpZMtpftIuDt7+HYEOQjrbi7RJQkQri7CXb8rGpHc/x+u33I9lf0yVziAd/YfvKaRUaCptvBkQLVYyM1FSUIT4uDhExwtB5Yoyg7sjau8eEn4M8ouE+CdFCMkW53ER8PZOQ9K+PZE6oh983VoLkZUbQtiVHEsydZEiOZZK71zeSsLrIaOcjvFAF0lXuwQhv+KQNujSsOv6/iThsULAE0VaCDFuIeQ6RY4k2clyLVWkY6IQdhmYxEvgsUL220bDnyI9aUsPInumwdMyBqWSLYonVYh1R4mzE+MVaSeSImGRnYt3DpQhyUHnZMQM6QLvHkJ0u0iee7YDJL3lVNcnREneWiFyj65AVxmUtJW4UzgHwGrKtR/iqT4WZtiFCxe7A9gGcw4Q2y9PYiwWLVqEU089VXfWve3eu7BeyDM10I8//jieePFZ1Vq3atUK9913H+644w6kpKSoiSLbDtqp8zdnw/z444+qCUhsnaY79XLVroMPPhitunRAeXFxtUK/7733Xsh7oYRhcgfcwYMH4+GHH8azQs45aODkfArBTZ969OiB7PxsHVi8+tYbuPTSS/HGG2+osL2/9dZbcdZZZ+HFF1/Enz/8bGkyuO673V/p0Zw3M7ik3YWLnQTTZKj5gs2vmmczIukWkqtZ8EiTQrtJEtXocpRFSbNP8YlEMqPyL8oHT4yQz/hYzF6yEGsyNqNlv57CqoWpc/UTcVZWXIKNWVuxvDADCwu2YvKKBdi8egnKS4tQRFtxcRObGo+c7CJEUFGdIPFLm1wkSSiS+EqFsBd7y1EgbmmCSS07NVB6HiudWlIUCkskrOhS+OMjURobgdJI0nmqrqiZjkAENfjU1It7S+Q8RkTig8QFXxkKkC/kPUbySIW8pEXOvW0SUZrkQznLQJxx1UiKDi7EX4m49Qt/90s45faAguXlpbZfzrlZDAcYzA/jYTi8H8E08FwOxRFC8CXPmg6GIdcI1a7rieRBDvZTceHCxS4Mba9EuDJMRHw0/Nn5uOuuu3DxxRfjuBNOkMbJr/evvPJKHH3SCSjOylWTkgMPPFDd9+rVC//4xz/QqVMn+PPy4RfyTw35BedfgD///FMJP+cUZWZm6lf64447ThoqiVcGCLppkRH+9notkXOarkycOLHiHtPJe/xtu3H6z96Yjo2bNup1aszFg05Affnll3HYYYdpgxoR49UvA106dNGJqmVFJaqN7tChA9atW4fszRm6W+vZ552HvPw8/Prbb7oevNoNNjGten1gN/UuXLjYGVCCZcN5XglsZ4w0IRgTJ/0cK40rG8UIknb5p0nlmudCKMtE/ELYaXbiF7clcR4Mv+BknP/c/Tj1vhsx7IxjUSwEtlgIKQkqCS63aWo7uA8O+78rccQD12LPUcejKC0WESnRiE4QQixuIsRtfGK0NPDiXhpzNYGRuDxepkX4rS8S0THilmlkeljAItpuy/0Y6ay42opH3EV62XlI+pkHyQs17ToQoR9xq8SYYtJIExo5RsfHSLx+Idml8EreSzlxSiRCRmH61UGOTJ9qvwWMmkWlxcXrDJNxGMjvSE6albD1nnFjMmG7jYoVBwTDdYiSdMmgzi/QeOwj3RJy2wwSVeSSU1y4cNF8YL3fFW9uVFSUkGu/Eu1JkybhggsuoBZAJ25yBZmLrrpCX3SauZBQDxw4EOV5RbqWObXtJM7c+p/mJjRLufrqqxEfH4+ffvpJGkyfEn0uF5lIsz1Orrf7gAD4m5oRipyzj6D7wD2mVY453NiIjbW5ZktGRoam7fTTT9e2dr2Q8MmTJ2P4gftImyjuxVlRTgFmzJyJgw4+WP1ESro2btqE9K1bMXjoECS1bCF+rXTcfc89eP2N15Gbl2unifE7pBkiqMRduHCxo8GmI2zzIe1ic4Cz4yA02XKJn1dp+knyy81+/EJuubRhXkwEcuNEYiOQHx0hhD0CpeKGou6FABcKMY7t3QFRvdsjqVdHtOnRRdtdJZ7SfjMOhltJeSK/TWEq4RZhv6BHkvLAffUt10jWrY5DtT7akFcESNIt1NsSuaVpE+ccjOiRbjW8ULDCYZxGnL/D+6sGzrwSlcKx8kTirsKkSeE4o6lPlC5cuGgeYBtGcPImtdDt2rXTOS/aPktbUJZfCM7jmT17NtZuXIvhw4erpp2rdEXGxkgA4k5IMCdzEr3791cN95dffon8rVmYPn06WrRogVSud67E14ovgGgPiouKVHjOgQHNWjhosDQqIqWlamqjjRF/m4ZRwAmuHCzQzGfh3/NwzTXXYPHSJSjKLUR8SgK4Mznt8EnsBwwYgIQWSZgyYTKeeuoptWkfNmwY/IX83irZLPWrGY3H68XCRYss0r4LIKjEXbhw4aL2MGSdR3NuIFf0/8AEKf7Hhp5uSZZtP8F+6S7C54E3OgrRMdGIi4tBrHQ8UTEe1UCHbLUqR10ZgXsWqbVTUgH9aaeVp5JGXducrLeSHxHLGbNQAR052GIciOgfvchPXiHs7G8HMCIh6IHwDXm3brlw4WI3ANtaIafz589Hx44dlcRTk677U0T5rLZYzqdMmYI+Pfro2uW8r5B2tYRLQQr++usv9OvXTzXWnLRKW3hq30mqqZ1nI5OXkYm8rCxdcMLId599hZtvvhmnnHIKLjn7PLVpHzNmDK666iqce/rpuOi88/Cfhx5CzuatQFGxpsWpdeHXAWrnaZrz5JNP6s6ugwYNsr5oFvola2UoLi7GomWL9GvCDVdfh9dee03t3P/3v//pGvVmF1gukJDWpo1+KViyZIk1QGBcjviaI1zSvptCSdL2YQ8uXFRqGw0ht0w2IlS77ZGGmTupOoWNNb2oN3FntOgqVJLYWvb6kdB6eQqCidyZCOc7xPOq75QSdx6tn6FR7c2a4EyPBWdwel7VSSPB5KxBGXDhwkUDEVg1RtpRaqN190/bvjw2JVnff2qdSV5pE87JpGxntX0WPyXZearhRkGxkvr+/fsrQxw5cqROUB07dqwOBqjNpj+SYZq+cOKoEdrE099+++2nZL9t27aq7d533301HB45GOC666qld3YUglmzZuGkk07C/z1wj04ivfDCC9G9azcU5FgTbH0xUTqAaJPWBjfddBNuv/12PPDAA3j66aex14i9NQxd9a6s3NorQwg8057NZSy9lgJJhVp3R7zNCS5pd+HCxXaFpW22NM+RXCpNzkNKJF1YbbkRuawItO07nR8yEU27sdfiYZkbsa81frGZELdfDC5cuKgD2GAKaSWZ5qRR1WTbmuf8LC5HG4lcub5gwQIl37rJkqCspEQ12Nx5lKSWa5zvv//+4PK0aZ3a4ZhjjsGrr76KTZs2YejQoRKOxBMbhcj4GETERVsSE40BgwfjiiuuUDJ9xqhRqpXfY489cNlVV+GKG67F5VdeqavZ8GtAfm6uLjxA05likTwh1hxMULNenJ2vfcY9992H5Fap8EZ6pHWROKU9+/2339Cta1fse8D+aN2qlQpbHt37Q6CkXTsMqJkOvxBQE6/e5bpTqLlvbnBJ++4Mw4hcuGhkBFctkkeLnEujKq0O5xSFEra3XOmFRyXucmRYKsGtVY3VVyJt4gS7RtSYx9Co5K1WRUAfdRXCHF24cLHTIA2ksWcnIe7cubNuPMRzbjpUkpuHuKQktTOfMGGC2ppzxZWoxARtbEmQ49NShYj7MG3aNCW61JoXk1gLr6XWfNb8WapNT0hrIWy4BOX5RZUkYO7iANdQp426XwYHhRnZKJC0RERF6QAhLjlZtfvRMsCIEqFpDAk3iX5UQhy2bdumO53mpGfBJwMCImvLVp2sqgMH6RuqQIi4fjmQI9OSJQMVEvM2bdrIb16uTNqbI1zS7sKFi+0Ctp0G2pDqsfL1mqBujR8KWyyKfU1FfgfOQ1xrCHHXLwQNlFqDToOlJqg7+S+E1D5u447HuooLFy52OkhA+b5T2yFHLuVIUxcS3/hWqfBxVRlBwdZtuhIMV3+hqQvNSKhl9/v9gL8Mmes26e6pJPW8r6S+tFzXTR/cbzD23ntvlHOipwwQIoSQU7tuBIzDHjho22OTYhJx/o4Rwh/LVWd8EUqkufGSasVjvCiQwcEvv/yiZiwk+UxLapuWEpwVnhJ08Uc79r///lsHIvmZOda9akDNPeNQki95bc5k3cAuERe7G/Sl4ntFMaSGlXmn1Gdr0hxhjnWHlZ86ifWfiwbBWYZVy5P1zJBHrXK1LfKgYANzPA3MuR5ZZ4KkpobZGZ4z3HrBGVjt0eBoDWoRfc1xNVpqApAnr/+7cOGiJtTnPQnyQ1MPtntCdPfZZx+1Of/kE2sXTV7LEjJMEnzIIYfoLqmcqMqJpJFeL3zJ8UK6I5HaqhX22msvXeqRGylRoy6MHl3798bdd9+t676TrDOe8qIilBUUWhp2ipB/TYOBuKF9O23YPbGxklxJLzXxxWWIkbSxX2DcJdn5iJIw99l3X7z8yivo3r27msyUF/lVI0/794JtebrUI9di50oxl19+ObZs2WJHFAZSFFOnTtVlMAfKoINpM31Rc4ZL2ncBGGIUXCHDXXeCa0lzObsEGQXrQtc7HIawyzFAtKzf1UsI6AikDuKiwWDVqqhn5rc0LDzKfbNaCqW2ME6pLeeTDvh3ioCP0NxjPE6RfxXhiAPjzkjAgZ3AijxUlpoQIYmsLJX9sW4Hp81IwJk5EjyvjbDlpvC80nvhELVJklPbHeOrEElnIDCRIK+NI47wXbhw4UDQe2HelzqJ5dVANcgkxXKLWnbuJEo79LlTZqhZDHcypdb52GOPxQknnKDLPZLYK9HnFv8UIejHH388Ro0aZe1Aynv2/aOPPlqXVRQmrdfYhujiAXKuYhP2QPsnv0eMGIFHH33U8sO0MSxq9eXc2Jl7fV5dnOCEE0/AiSediD333FM3iSoXPsKwSmUwECW/uVgBTXpOO+00dcNBRyBuW7ZuSQd31abfRQsX4rvvvtMdWWmTWcb4dwGwOXexG4IEg09fl7YT4s4tjXcKabffbwvyQge3RLUCAyE9qpsYfy62D0zbbUrY/K4OVZzIBfZPwai4Frq+KCm1pcKNqV9GaoYznFASDrVxUwnhnPF6KDHQ3/KfjgTk3CnqLjjPdr7tg/PS9oMzwS5cuKgMfYkbIBbY1vhJiAVcypEE95xzzsHzzz+PT956T/v4gLmJEyTSdYXDT9i2roZwtekRYq/HIDFQ85k6IK1dG2Ru3IJ33nkHN9xwA6677jr0HzoI5boztsRVn7w2MYR4gi52C7DuyjvGDW9KykpQyM0PlLRbLx5fwOZUwZXE1VFCkUEXjQu240bqg4BfJxkVcYYbSiqaf1OHt09ddnZYTqkX6C1YXLhw4aIWIClVUu4vBXw+JLdrheuvvx5HHnkkSkpKdFJmSNK+HaBt4E7gD+VFJVi+fLluAHXbbbfhzPPPBYpLYdZu3xWwY56giyYLbt1eWl6KvNw8m7SzSoRjDvZ5gCE3DThpWV2EMEcXzRnBTzaUuHDhwsWuC6Ms4IorBdu2oSy3UJdlPPnMM3HqqaeqeUxzI6+08Kst6JZlQJt8mvgcxHXohbD7aWu/C8El7bspjDIwKiZaP0EVcFMFv5B27s0Oj7wAPFYQ+Agh6vpS8MhrJO6uqtpFLWHVoprFhQsXLlzUH/xCzqUWibK8QpQVFupkTF4jqTX2381FuOpLbSTYH23YS21zoV0JLmnfnSEsKS4+Xoh7FPLz8mzSLhdLy+XllqphE3MSdZdauXDhwoULF00b1ZnA1Nt0z0WTgUvad3N4kuIQExeDwvxCJeuW9py69Ej9X7XqLly4cOHChYsmDZLy6mR3xK5WDi5p353Bp58Qg8jYKJQWFKn9l140xN3WtFu/nZB7SuaDxYULFy5cuHDhwsX2gEvad1eQY/Ppt2uBNj26IG/zVmQtWAYUloDb/aJMHChhl3MKLWeoiOfRPreoexCBp1sXLly4cOHCxQ5DbbTITm3zriDBcNq0E6HcENWF0dThkvbdGXz6KbFo260TCrKysXHxSqBIGHuJbdvOeq91nxWbv+0jYe4F3Lhw4cKFCxcuXDQdOAl6cyXqTrikfXcG664H6NC9MzzC0zcsX2XtikYte4mQ9wBJd4oLFy5cuHDhoikiFEk14qL5wyXtuzP4Dpf5Ed0qDR26dkb65i3YtnCZEHa5rks+igPVuNOhvPS2F8p2QR0DDij5G5Ig8ev8YNAUJDTqWvINKZTmBFMu9ZVdBOY9ra3sEDCemuKy74dKY23EhYtGh6lX4VtjFy52FlzSvrvDK1UgNQm9hg5EYakf8yfPADbnSLslDZff0WhV6ihJ4K1jY8DEUpcm0k5GIAn1aV4Dfpxh1UcaGVXzUodIAkSmHoljxM1JAjB5ravYCBX2jpJGRag8hpIdBYlL82mODgkJZxprIy5cNADB9bDS77CV1IWLnQqXtO/uiJIqEB+FzkP6I6ldK6yevwR585cBuWX2EpC2O4XdWQYYcx0RwosGbwfJ81D9exUJ4aa+CA6nXmLS35gi4Srk3AJPAj9sBFxZCPoZCChYiOBjc4QzP/VBQ/27qB5atqHqrcAtdxdNGqZxcFTUoFM2r4Hz5ijsHkJJKLfbQdgs6HEnwZmGpiQ1lYtL2ndnSOVQ8Yp074i++wwD8oswf9wUlCxfLRcbXj10Fjfj4LkRVkojjuuBykr31Yi6EVQKR4Sm+HWRYP91FqZhe4mEzzRWAm9wZR+5GaE/CHMMRrDnXRiBQqujNBWESltdpa4IFUZji/OlDYVKbusJZxiuuFIXCQW9zvrKkzL7aDkO1GJHdQ44D1PFq4Xxt5PE5CxYQrndHqJxCSr1qTtQNG7+x/MmJM5yCQWXtLvQyahIi0GfA0YgoXUa/p41C2vnLAKK5TpFl4AUMbWpEsLUrGA4K6Pzj9fteyp6XsNfhCXGl/NancUOo17CrEsY5mVrTDFlAo+8ohTuckexSXu5vxSRjDuQHuvACcXWS82AaglHEC52MBqr3M0zrK3sELAmRki19egysdVWyVBprI24cNEYYF1iHWX7KedlUZEo8ZajTNtYgRy0qedPEfug7bTtrZJCqFZSX38NkEC6KfwdJEQlN9tRCBPnzsCOzm9thXCWi7lmYPXvLnY7KFllxXBK62QMP+NYpPXpit8/G4Pp/3sdWLYJWJ+Jsqw8eevVYwg4apgT9mz10jLxKMLZ62XyF6F9eTm8cTHwxkZbx/gYeChx0YiMr17oRoXnIl6K/PbVUeiHfk04dZa4KFt820fifYBPCitKyjFKykx+6jwD/isuQbTHg+houUHJl3u54kwGYB4h9l66pbCsgyX4cfGZUgK9iCs7TEzZ74oiFS1CXnZ+bSvRye2VxV5Kucp1V1zZUcJXUM+pDPFbElFSiuIYD3J95YhJjJO2lY2rtKkeL8pKy7Te+qU/K4+MRIRXBqSeCDmvpzTEbx2F/XHw7yrC6ztQgle32dESKk1NQQJplDoWFcXOvwIR0qCyyrrYzUDSLtVDTuR/1gC2XkUi2UXYMmM+Znz5AzI2bkLrvt3RYUBvtJVjSt8eQKywPkP8NADxLlUoQhofoowaYCGTRF5uLpKSkvD6a6/hwgsvlAZP7kXKPb4sAZhArEO94QyyLmjKtd+ZNvOMsuW/bBlHvfIV1kybh4jEGAw/8wRgUDcgRhzFywvO56M9i/RARkPfVGE0Wbsr6qtqauxy2w4qr+8//RTPPvssPvjgAyS3bSttB0eRQWj8aOuG3bz67dYwdY91wJD23HL4f/sLv33+PYoLS9C6V2fsfe6JwBCpv8qd/CjzRiBSyHqZvwxlZeXS3DKg+lZkiXxHvQM1RLW7N8VNEStWrMBRRx2FPffcEx998Ylec0m7iwqNHxsumsPklSJ31gL89cMvWDJ7Hgr9JWjTpyuOPu8MpA7rZ9nAO9qpKqSdJFGIeX5eHhITE7HffvshJTkZuULiE+LjZSAZifz8fMTExIgPGU3aAdW30XB+5qoLbG8NbKwYiglp+4DDK4qnPBKeonL0jm6JXrkx6BPbEtkbt6D/gH6Ibp2M0qhI7VBKxbW/rBSlOkgSP/YgqmmChd+gB9CM0ZC605jltv3q8GeffYaTTz4Z8fLel/GLWxXszOe//fLtovmA5jBeId8+qZ7xEVHI2pCOlfOXwZsYj3HL5yA9rhSrkYP8BOnTxFGuvxBRMdHweH3avjaMQe3Yul+pxttRO98Al7g3LXi9Xoz9YSxOOv4kl7S7sMDHr52p/IsU9htRJoSbfWteGfLnLUbxpkwsnD8f2WVFOODEYxC3R7cK0m4rcMOR9gIh5gkJCTpKbNOmDTxynZ03yXxGRgZ8asNhNSPOhqM+qG8lbmi81oihwaGERMVghKQ9Up+PVwZVPeJaoltBDPrHtkInXwJiIzzYkp0Bb2yUPjoSdj4TPofAZ8Ami929+anvs2nscts+dSQ6OloH6JTQg8ed/fyb8rvhYnuDJJXdmBAhJe8e6s2lnS33l6N1j66YsmkplhRsweK8zUDLeCA5BpkFOWpe4hFCVVxMu68GYAey5OCoWPO19tvXzZvgEvemA7/fjylTpqi23SXtLhQk7NTI8sjGyqvkUFg52V+x/MedUQmvvNIU2liz7+UbTvsr+Vcdae/Rowfuv/9+nHvuuYiOilK3Hp/9mdyteTXDKlYtKm1M+Tg2FGH1uJn47qV30RGx6NyiNdZt2Yio2Bgl6HyeHCA1fCi0g9BMktnoaGj9b6xy207voRk40iazuLhYB/DZ2dn2XQd21vN32x8XAlP9WB2o8EhMSkZ0bCxWbNmAw0ediqT9hgBtoi1HNJERodu8/ELESpvbIOzguh+KuOvRed19L5oM1q1Zg2HDhuGggw5ySbsLC07SLr0sKbtqGyKpTidxZ/WgCA9XzS81t1RNkLATvG7fJ2EsL7UmnNJdYUEB3nzzTZxwwgno0LEjI9POO0rNYgRuzQsPR2Ou5S5lpQ0rn0lmOVZPm4t7r7weB3btj4vOvwjF8MMTEyWPQRyXcRAlIyvatPM3n0d1MLd31vNw47ewi8W/fOlSvPPOO7j00kvRoUMHq05KG6BtjYvmg12xftphMki2r+boL5f+UPqzeQsW4LX33sYDzzyOdnsNBFJ8KPWXoMRThnKv9fWyRNpXfj2iCUO9sRPV2iZqFgXPTTHvxCS5CML69etd0u6iMvj42YmajtR6gSMQWU76RyaulyugDqxTRTWkvaiwENE2QafWneQ/Nj5ef/uLiuCNsrUXLqrCLmPToRCRfESUYmDzwrU499iTMKxrH/zn7beAOCFE/ApCfyXig18+/HQsRzPAcuFiB+LnT0fj3nvvxXfffYfELp2si+YrnQsXOxOmDvLoFNbP7BJ8+cloXHnjlVi/ahPKvJEojixFTFIsInxAfmGRNsp+Ie3BK3vUGS5pd1ENNm3a5JJ2F1XBKmCqAY80q6CuXdmieZMNnLXFbujUjzGVcZB2f0mJ8EXOtPfKdWtipJeNHMNgfHTnIjTsouHaugbasLLsSoGMNVno2aMTjt/3SLw99jMUS3kWRpQhxuNBYa4MlmiCJNd8HqMFcj44C1bQ+jD0zLpS0zOp6X44VI3fght/844/XLjA6NGjceONN2LWrFmIi4tTxQDNZdR8LixqG39wvOHT0bjY2enb0fHTn/HLsGsbv0E497VNX0PjrwoNTRpS1YGIc53GJb8jpQ/T9lIcjPnyK1xy0SVYuXIlYqXu+mJ9qkDJztmm/R3nZpUUFzdMy14pb9sHVgx2HHIILh39LdfZTwd+O+AS+J2L9PR0l7S7qIxwj1/toZ23+Dbzt5Hq+l0Dhs3GwBmOgQkvuJVwUQEWnV18pvHUo8imtZkYMnAw9h02HJ9/MxolfuHycj1GuHpBXgmi7HkDlYvXCsR5jVNcA9DT6h5IdfdqA0dcAcg1E6wbv6A5xu8Mt+L8008/xc0336wTqdq0b6cbgpG466BeYLU9UgMDbZA5t8wPKNZkar2kGzTxPsWEYR3Nb2c6tgesOA2YVJMe63fF0aTfkop0Ngx1i59oSPxW2GXiy86P/AWW7GVwZVbcFfHqQY/O+J1HJ4xfxmFf0d8G1rlcs+OXgxytjscM/DRdtsgvvVYTNAYNTv7kaG06ZMVrxVOOL774AhdffDFWr16jczEiPZHwl3ERd4lLyD3XazeD0HrDNObbCYHytX+zdEz5apnxRH7q0YFKv0Pcd7HjkJ6+pQppb0CNc7Erw2rQHA2K882v7VusDaB9Hoxw111UAh+B8zGY8i+VN9cfWY4ir9yUfpROIu0G2Vm2PFXiL4FYz1OfrP6Zc9uVHVFNUl+ECkvEGacbf+V7IaW+CBWWSIPjd9yjfxUhYVUk1HXbvTMMRahrRPC5877z9/YUJ6q7H3zN+bsh4kR194OvOX/XQZzPp9KzIpy/w10Ph2A3zt+WWDzc8VvaPGrDPUKgeTSi7gL+aouKcNluRvJoCxUZljLDFhO+uKtIUjl8Xq9O+K+3RHgsCXWvEcR81XIObCj69Zvn8qdH/na6t8V5zZWdI6HgknYXdYc2Yi62O9g5hIXdoTg7lcBzsc/Zu1TpaJ1w3rNF/chpKKniviYEua8SZtB9dUPhvRAS7LZGBLmvEmbQfXVD4b0QEuy2RgS5rxJm0H11Q+G9EBLstkYEua8SZtB9dUPhvRAS7NaI+uG5EPGAcJmjUOJ0Y4uTyIcKX8XA+dt5XyRUmhtTguMTEb4jnStv8jdh7hEV7lScYdVHgsOrIkSoc1tChVmtWP6Yx4owqgnHuAkIYY5OOO9Z4WscVaQibuOGxJ2a7ggh7pRK7u3wai8Goe4Fi4VAVC5c7CS4pN2FiyYO7SRq1VNUdC6hz+Vod8RV74f6HSSBjtHAeR6MIHcBv04xCPc7SNz47XMD53kwgtxtr/gD9ckm4AG3FAcZVzFuK6S8nHsKOPyphIN1z9IY6qkNuR4yf5Y01l/V/Ftgeiw474kP8+Wrkt8GSFD8Ac2prZVjMsw1p7vKfqtK+L/KLsokP/wd7I+7g+qZxKFf9GwXZWpaY1wHS4U76yugnNhi3au4ryRdhOWp+eMgiW551xwrndcArYfm6HRvfgdftxHmcoPhjLIRhdljmRnNOiG1pMKNi2YJl7S7cOHChYsGwMkC5BggQyGE92whj7AIp0U0KVxCz4hFRMWRivyjW5+I19Kykizqp3zeDwPG2lgIFZbG7ZF0R3l1NRFvjBe+ZJ9OUOQ9QzQbHXaYxpTBac7A+Jzn1aG68qFf9c9/djglJfZmQtFyL9qDzMxM3b/DE+NDka4I5tP8e/TZ0MgkRP75k2HaZNwJpjkqOUb3nCCiYmPld5zWBw4adJWzGvK0I2BnQTdkaqrikXLyRcpz4BLAInJmpVmum/QHnvFujEBZNBGpCS5pd7F9UZta6GIHQFrxKqjtNQNzj0fneTDq6m5HYHeK34TLo/M8GM77RPDvYMg9fZ9td5XIORHqmhMV95RUCvkm8fZERcEjJM0TG43IWC8iY4RexAjhjJbuyScRcoEOLsUnkpeTb/0WycvLlZDKLA2v/jljcAjvN4aECYtlMnvWbDz2+ON46fmXsW1jNhBjEWeSTQv0XRmV0lgLqQRb600Sa8S4I4FXYktCbEuDysd2w3B++OlHPPDQg7jz5jvwwD3362ZExIK58/HyK6/guWefw5ola+XZWTuGMi0hwwsWqTe8V1oueSkoxaeffIIHH34QE8aPUwcR1ObLfa6NXm6IuwgHRZXDqTjfbrAj0KoukCjrKUKmVULda7gwjb5o7tparBId28DlKXdBmHJqSqJpqgYuaXex/eFsSVypkB2CUK2CLQpzJJzXwoj6lVMVc53mDU4J5y5YCHPcXpDwd8n4g8OqT/nXRyR8Y+4SuEbIsdbxSChC9rgkbElREcrkmL5+PWZNmYrbbrgZZ55yOs48+XTcduMtKC4oEuYBZGzZip9//Am333Ebjj/meJHjcNvtt1shSrzVSqW/qqmptUhZOn9zRZEI7hItRTFh4gT858n/4K6778K06dPUfD8iSrpX9rCShso+nSmpGUYbStdc8/6WW27BOaPOxR133oELLrwATzz5BC659BLccOMNGPvdWGRmZSIyQQZEHPiQsAeXRyUJTllVUXJsn5cKYZ44aRKeeu5pPPrYf5VElxSVYPyECbjzvv/D/931b0yYNNHKvwysIj0Vfp2iXwZk0OaN8sAX44NPCCXF6/NiS/oWjP5sNJ5+5hnN45L5i8QHPTEvQFFJsfyQtDMkuVYFvMR8hbi1/RCcwyYiUjffe+89XHPNNfh2zFi5ZoEDShc7EfLuhZVKz7Aq3CfnwsXOQk2dSn07nYC/4Bff2RiIaANRccWC+RVKiKBrwQ2OEbmny8XZYqHiOklbaalfNWWVEfzbCXPPCqdmiBtNi4Hx55RghLpmYO6F8xsMcbO94neUc6XfwdcDQoS6FgrB7mohleI0cF4Lvm4RBwrrQ2pqCgYOHIA99uiPhQsX4Icfv8d777+HRx99BJkbM9CibRpG7LMPhgwdgtlzZiN961Zcd/2/LOLJPx5DSOVyqYi7rrA05uV4/8MPcP6F5+Pe++9FgQw49AtAFBAXH48YTyy69+iB9h06WFvd++36rz4pFX9Mj0WY9Zd1rr8riyHMFjktx/4HHoD2Hdtj3ry5ePal55CTm4tDDzsMB44ciU9Hj8bpo87AuaNGYfXiNRpAKecMqE8RjdMpDFhDDwmdYEs3DjnpjJNw4oknol3rdsIHy5Cfnw9fgg+dOnVCclwSunXrhnbt2lr5l9e+tEzCl7iCnwPt3blvxz333IPzRp2HRx9+BBvWrUNknAdJyYnwl5aIm1K0lbB69e6lfoy5Dc1kOFjQMpF/FWXHP3PkmbleWQhzrA8kSJUKOEOti2xfMI25ObkY8/XX+OLzz/GZ1A9eM6vLmHyEk6aG7WHGs9NMgyo9/nD1IvR1l7Tv5jBanHCiNaQhYlqAcLK7I1R5OM/rAesVr+i4wkHvOjpTJTnVwtznsbJYxLzqdUsIObI+Cfgp3y+dLjtttVENwOG2kl8H7E7fKh+nuxBSY36CYdw7wghGk4jfcT3wuzohzLEmBPutSWqPyvbdlv/AaiB2e3P+hRfiyCOPREJCInLzcvGfJx7B50I4ivIKkdg6EZdcdgkOOexQnHveKPQa2BseIXlFJUWq9fbE+eTogcfngydWxP5dUFioNteeGC888V6UCCH0+MRdjEi8SKxItLgrEndypNBmXu9xp2GSVx8JcBkWL12Mr8Z8jUl/TVbiWVJYqqY6F1x0PlatWoUvv/wCffv20V2LqWmn3XeEhJGdnS1HH3KFZEdwMwXJq99fIuTUj0iJhyZBJKxqGiRlQg01NdEBiHuS1aSUZJx33nnYkp6uVbBjx47Ya/89cfGlF+GU006VZPowcfJEzJo9S4vYG+uFN8GrZkj0742JUiHpZfmS1HqlTGiLz3XIvXGW+wjuqCz5Zh59CdHwxUQLAZe8SpLSWqVh/eb1Enw5iiUPTMhhRxyOjZs3Ycy3Y3DAgQeqO5a7NyoCXp9IfASyc7IlfIt4e+MjJW0ezJ47B598+Snmzp+Hdh1lsCPBxabE4/0PPsC8+fPxiRBNREdqeqPjYxDXIh5xCXH6/PjcI2Jl4CfhaNlJHlmmkXGR2r6wbLVuSdyUgsICTavWWnOsI8SbDavN09xIuergTI8SahMRtq0Txo3DpEkTUeQvxFdffYklSxbD55P6IOXCL11ejxf5efmIiotClC8KPq8PUdFyLnWknAMuCadQnqMvXu5R5N0yRw5k2Yb7xD2vcQDOc8bLrya8T1E/cp1lw7kedEuYcMy5vhtSz31Rdlz8+iLpMO54b50M7Hhf45U0M0y9L6LX5Mi5FeqX4dhxqzAsptsetFAkg3YbZAlf9R0j8n5L7THtXrCYycPiVNPobPPdzZVcbH+4NazBYOeq767+ANavy8DggYMwfPhwfPvN5ygulIvyKkf5IqURLpaGl4a/0iBp2fM/PXF0OgbWdcIK2zQUdQObETY2TvCa8zqP/M1GnQ0swUY8/Kda+qsuNXJPkx/sRi7qJZM3HivyWXs09fgN6hu+M30NRKWBA1GOTz/9xLG5UnuUcQewKvmx86gVPEI63BI89/wLmDhxIoqFVPw2/jfER8fj199+Q48ePRCXGoeLz70EI0ceKET5Aunoc5CYloRVy1ZizJgx8l6sR35+Adq1a4dLLrkE0dHRSExN1ChefeFVzJs3D61atcLq1atx0EEHIytrG2JjYzFq1CghAR68/9aHuoNrcnKyuqVW+eijj0ZKahLefONtPPbYY1i+cjm6du6KUeeOwpDBQ9ChfQfMnTsXa9asQfu27XDUUUfqhM3PPhutpNoXZb2Lxx13HNavX49PPvlEN+wZOXIk+u85EFP+nKT5IyHJEXJ/2GGH4ZRTTkG8DFy4iY925DKIKC32q534ls2bMXjwYGTn5eDsM87Giy++JCTYg7tuvwdPPPWEkoHHH3scyULw8wvysUnI9KBBA9GhQweMHTtW37lLL70UaW3T+ADw9mtvC5lbgoyMDE3XOeecgyHDhshAqQjRQtiXzF+Cjz/+GMuXL0fnzp2xWeLn75yCXEz4Y6KG++eff2LZsmVa3iyzXv17AHzckvVfvv8Df/31l5KynJwcKYdjsddee+Hbb7/Ba6+9hr+mT0a3Tl21rqSkpOjuuYsXk1xaxPDss8/G1KlTNY1RQsRiYmJUo7//QfvjhzE/annk5eXhiCOOQPd+3THx1wn44YcfkJmRhbS0NElfR5x00klo2TENZflWHdXqFqirrH7WddNGcXOliy6+xNpcKTFR26hSGQjo1yFxw6+EZgI13RsEBVs9AkSsth7qBk9cNG685jppb8v1ua9etxrXye9HpQ4rJLGFeQWISYjFiiXL8f777ytBJ+nt2bOnljvfDRLh/Kw8NbNZsGCBeu3SpQtOPVUGifKMJkyYgIKCAq3zhx9+OBKlvL755hsNh9ePPfZYfQ9++eUXGUBMQmpqqr6fAwcOlIHEV1p+9Dd8/xFYtXSlbsrGOsZ3pW/fvjqIH37ACBTlFOrAjfjpux+1jeBzT0pKQq9evXDAAQdoHKwfjJf1nO8c69yvv/6KjRs3Yr9998UBh45EXkaOtUtzudUPGTi48XZERSRWPSTMtcAFxaZNG3VzpZEHH4SPPpcBrCBcb+nCReOB9dCV0LLdwcZApBKpckowQrmpWaTvqvTbaN6d153XvF6PiiH02w8VaQot2xuh4nRKfREqrLoKIUfWjYZKQ6FhlCM2JVGIVgsceOABuOXWm5EYm4C8ojycfe7ZyNyWKe6ApJQkNfug+0Qh09P/moYLadv9xOM4UgjzXsP2xD333Y1DDztESGsesjO34fxzzsO/rrtWNfIHSQc4Y+YMXHjphXjppZeUGHK7+kvOvwxXXHGFduYkzrNnz8b111+P0aNHC2ErVyJPIkCzkG3btmkJbpROdZMQjB9+/BH3/ed+ifde/P7nH1izbi1+/uVnXHb5pTj//PNkIDAT2dnbtO7//vtveP3119T2fJkQ4mv/9S+M/vwznHHWmRgkZPyqq/+J4084QUm8liw98TVxvipyznseak3lPcrcko1lQqpLJW177DEA3bp3V03zVf+6Cvc+eA/uf+A+PPvcM7jvoXtx133/lkHCL0Kqy3H04UfjtttvQ/89+mvZPSNuTjn1FPwopIj25QvnLlRb+UcefQQdOnaQ9A3C+g3rhbDnoEVyCyX5HISTVN/30H148MEHlSD5C+RdF8L+zBPPa5n+/PPPSt5I/Dko+Pe//60EnIMuD2mIPH8lUHLcuGkDPvzoA9x62y14+ZWXdeBBO/eHHn5InuG/cOf/3YltUpZFecUysCtWO/ppM6brV5V3X3sXx/zjH1oWN950oxI7muA8/fTTKMwq0vbGSOPCqr8q5p2oSQTU1EdQsdGYYqdjzrSZWCKDH5Y/B3nEZ599hi2bNsFfXEwbJcTExeL7b77DySefjA8++EAJMsn3v278F2666SYl7HOmz8bll1+Oe++9V0k0B8///e9/dSDE9+b777/H5VdcroOumTNnqn/WhzvuuAM33XaTzsOgGRVXGvroo49w2//dhttvvx1vv/22DDhfxEMPPYQf5f2Z+McE7L333vIeP4FDDz1UB8sP/ech3HDDDZoGDhA4V+LBex/Q95KDBQ4cGD93r+UAkIPJ8y46D1f88wqMGzdO6xjfbw4EOChhXV27bLUORojt3/9UB+s5VS9V4ZJ2Fy5c1A5KHmxxIuia0Tw5O0deM8JrkdSwi+hKFy7qifANe+0gfm3y0GQg1WHjxg3SQXtx8NGHCnG7FYnxCViyYjHuvPNO5GcVKHlWc5PoSGRnbcOzzz6DCZPHq1nKwUccolq71q1aY8GShUJUn1MzjS+/+gp+6fFJhg845ADsu99+WnIkvOdfPArthZD+OX4cisqKMWDQQPQTEturT29szc7A5Cl/wRMVgWOO/QdG7LuPJNEjBLYjbr31Vpx3/vk4+oQjcNZZZyEhOkHJPDX5+x+6n06UpdavhDYfghbtW6NTr27o06cPLhOSs/9hI5UYrVm7BkOHDsWB8vuII49AfFw8Jk6diJ9++kn9GeiT4uskYp4avxiQiF177bX46uuvMHzocFx3/XU4StJ0NjXmA4eo2z0GDNDffXr1RVpqS8QIafnfU0/h1z9+Q5u2bXHc8cfjpJNPksHSSKzZsBYff/KJmgk9ICT8h19+1PxeJsTtlDNPUfOXaF8MsnNylPR17N4eR//jGLRu2QaFxUVapt64SKxdtVGI9sNYu36dlvv+B4xAi7Q0ZAvhp43A6Weegbbt26kZA9NHW/zTzzkDF1x4IUYedBBKyv3IYnm2bo3Tz7CuMy/b5NnzWnRilIR5gBJSEsq4+Dg8//zzKJZnSPLZtU9XGTCdj4zcDDzzzDNKKJsSSLClQTSPtFGEK+tERlj26vzSdfDBB6Pf4D0wZMgQpKWkKXEeP368ElkiKyNTSfOCJQuUuFOj26ZNG71H7bw/v0QGmK/jsy8+068bV1xzpWrIt27bioULF+o1fhUqlb/8wnz90tKqQ2s14TL9gN/vR3KrFJzAOrD//vBF+PSLzVVXXaXPzi9/WVlZOiCmyRbfGQ4OOHBu2aIlps2apl+y+JVjvBDxZ599FktXLlUyP+KAfTROxk8N/5NPPonunbvLOxqJ+Ph4xCbFoV2X9qrZv+yyy7RedezUKeTXXdMUBpfp9hErMp5bb7NTqofbY7pwsUvDbiZs84MKqQEOEl4XmIbaiWDirr/ZaLLjqGc8zQ/MZyhxEQx24FnbstS+mR37ueecixhPND4Z/TGefPwJrFuzVjrzNNW6kXT88ccfiI2KVfOLu27/PzzwwAOWGYU3WjvnDRs2BEjK1q1bUS7h8tN9XHQcOgl5WLd2E+KTY/DTzz/j159/Q7SQhnfefReTJk+GzxOl9uOFhX619VXTLvmjNpFiwM//1NAXlhbqp3mCn+sPFIJLMk9tfcb6zVi1aJkSp3PPPRczJk3F9798r5/vaXbwwF3345FHHlEtYJsWbdSkpCZQG888keS88/Y7Uha/45wLz9J7JEsMyyN/JGJHHHOEapxfffVVHCTkhYMCnzdKaQIHN5dcehlWySCgbet2WCvhzp+7EL/9/rvU0kgcJgOhtkJ86JiEOUqIUnFZiZYNr5EIxUr+OTBieAW5Jfj8iy900JOYlIQDDxqJUrlx2hmn47FHH5e4LlV799QWLZBfXIDc/Dw1ASoqKFbSn5rWQsinR7XnTBPNgq4XksZyZrlTK8yIaBJF7WyHDu3xu6R17ry58MofNex3336PavgJfhFgvXLCqVRoCCq90ZKm2gqxXVoAKbN1a9fhu2/H6qD2ozffQ6HUyWKp8yXFxXhP6jaPbHtp1rR06VLERcWpKRG/jtBs678P/1fJOk1Uvv32WxmkRWM/GegywTSN4f0333wTLeT59e7dW6P1eXxaF0n0aV5DEh4VGaUmLOVFZYiXZ0AiXSIvIOtm1+7d9CvIV599hX/+859qAjNxwkS89dZb+pWLBJzuouXd55KVfL/5vLflbkPrFq118CCB6VeAV158Bfvuuy/6DOyrZj18R5976Tn8NX4yFs5eoH5pLlfGeVQipi/i14Yqz4Pn21NsmLi03gRJdXBJuwsXuzxq0xQ40JhE2hFWgNDzmhGBsz2rTlzsBpAqQZtXCldmoRbt4YcfVttx6WZVkzp9+nSLhMs/2uBuJakW4tezRw+cdeaZ+L877sQvP/2sZORf116r9tlvvPEGunXupv6fE4LKT+ck1SQGHTq1QVF+qZJkmm3QZIbkguSFJiaMKyaecy+g5CHGG6NkmGSbg4LcjAIlF5ynER0ZrQMGTkSNjI3ElVdeicKiQixfvVzNBEiSGG98iyQ1LYiKiFISw7kpt912Gx599FHVcPLT/4tvvGQXSnj84x//UDJCrf+pZ58EiR4bV29GztY8TQcHENRcbtmyRQYr5Tj0yEPVD6+zfIr8RUhKTsKo80bh4f88jNffeB0LFi7AG2++oRNPaZpCJCYlIirWK4RHylzyw+vxMfH6VcE0LSwPgmUXHe2TwdJ6JMQmqFkQ32AZ/+D444/Rgdjew4eAc1j5ZYJaUZYxy5JHknI+V35RaSHknYOlouIiiaul+D9e2xHaQk+dNA2TZWBFTS/rAss/JTlF8ztgwABcffXVuO6667BqySp1Ry1vY0OzXs/GyS42PTaGSMFY74W0q7P//ltJOOcIcK4BiTVJLsuO5kuLFi1Sgt5aBmA0NWK9NgMYrlDELzdHy7NieHyuBSVC+kn05fl37d0N191yPc4Ydaaaz9D+nGB9o3hjfDpA4rvLrx4k7xG+CqpJTTufdXFhEYbJgIvzG7r37YGszZk6yOJ7wHeFWvgMGfTp+yfPNCE1Ub+wsR1gPBwMyAukZlfnX3wBRowYoWFccMEFGDZkmMZFc5mvv/5aB6mB/kfgPDewyrBymW4XseMg9OhMStVkVYFL2l24cFEZIRq0ekPCMg1kQLPF35Qy58oxNaMRU+WiqUIeMokchQSBYOdPrV/ndp2V0JHsGq0p73ESGkG72f79+6NDt066BCG1y9SwMRzaw3bt2lVJH0nehx9+iG9/GKNaQ/acX375pRKVCZMnKAm+5PILlNiqqQHrrFRVVldq2knQSSJIWH1RkUhIjNVrJBQkuupeuBP8XFXlCAwduqd4L1c7YA4MSDKKcwqwzz77qHaemnDGRaLKMPsPHaBp37o+XfNVHVgOvgQPomI8KMrxY1t6rpLmxOR4JbEcXOQVWgQ+wheBkoISfR85KFJtaIRXTWxYTm3at0K/fv2QkByn7qlFpcnB/7d3HoBxFFcff+pdlgu2ATdMxzRTQugQCASS0HsNLSFAIIZ8BAIk4SME8lFCIIQeSoDQO6GEDqH3AKa4AO5Ftqyu00n63u/tzml1Op1OcpPk+cvPu7c7fWdn/jP75g0Ei0W2tdX1kq35Is0I4ULoWsMPDpQBXzzIRywWl2HDhkltQ42Rb3TZ66qZRWfg0ySTP/tKyZhYvJAwnivpyi1grUuulSV5I3zSUlRaoG7iRvh5tiwq5IsKixAnbLJR+HxaZeGShUbyyN+IMcPNROjwUasZOaV+8GgS7dAAQ1DvcqRSy4aFtMw4TzrnbBu4HH38T4wMU69YB8B9wFcfrMagooL1I8oRMm9lOWeBPYORI0eaW2bd66prpaVBXdc3G0GuqaxOzIbzjpneubJKFjVT9/jqQV3hHazVZ8l7zXoU6hRfa7DKRB3j/uWXXy7n/e48q4+kda+99pIh5UPMrX290rbBzepD2KdPn25f4/iKsmh+pV1jkDJ23XGy55572mDwbzf8zdSB0JGnrRgI8KTdw8OjM0KinRLJ9/gdXkvuDKMzGu6eXdOGnmk7M5Wml7sS27o8FPwRWrvon7njGJXgXiaIpm/ZwRIQgf7uEtzrSgY27Hla+bNDquaXKaiGmEydMkW+/OJLaYnF7FM2u2Guo8SchaZ1TbXSEK+3xXCxmkazXMIManFBiTzy+KNGRuL1MevAIQF33HGHmbRjwduLr7xoFmH4FM8n+FN+eprNxDHLDtFctGSRzQxD7j56/1OZOXOmxNviFhYWmZgpZvYSgoN1k9ffeF3mzJ5vNslz83OVd8RNfx3VGx7fkkVKULSes+gOUvPV9CmyxhprKJlc04jlGko+IfAsbGXQwBeEgpIiWTBznvztb38zNRbeDwhUW4srqyjajEi1NSp3aYIIZcmgilLJUWZds6RWcjWOhQsWSkXpIMlTItyoAwWOmPrDAgrl0KL5W7xosTz1r6dk9rdzZdjQIXL3HffIGaefYbPW+/x4HzMF+e9n/22WeZqU9E/5aoqZbwwIug5slHhB1iDgDbEGm3nlywSWO8asOUbLtVIuvfQSTessKxdUhc477zxtDwJVC8gVKkyQsIXzKq2dgOjxDmOCEFvj9dWNNgjhubMmgPj4GgEhbY0H5XLkkUfITtvtLFV1VfY15fOPvtBRncjnH39h6yFefPFFc5eM5FLt7/hWyTdfa36gxLWlvlEHYYPsuiOukHTq/+zpM2zRLvr/PAPq4MvPv2QEGvUUvlTwfrEgdFjFMHnyX09auNRv6h1fkXifeCcYWDFjD1mvXhgMunmmqKlQL6hzpYPKjFRT322wp88T0l9YXmSWkd5//30bwDLYY+CGWg4z7XF9h3j2sfom2XXXXWWdcevYO8lXsxlK8LmHWdgLLrjABnuAhamj1hgl+frSQvTXnbCekX8zYxli5bawOnBMnKlop2XCBU1iurTl/J4VHB4eHn0b4VvsXuYa7YCvVyJCo3rkEYcqOQiu5+RkSXNzi5ECkPzyt//mLCrt99yxWyQRdIdUs1hccwL5YPtzyIhrQx2B6yikpbvUpOpyg2v8354UTjqLpbUoT9q0zJjNodyIGxKXpwTKFHG7BGEocrL55qs/s6Sups46EewEm+HfMC8BQn3+BNw5x65kOWM5RvHZZ5+aVQgWgGE2z7afTxGhmc5TYRb6wgv/12bGKisXymOPPyZbbb2VDB85UppjTbLh5hvLoKIy+eSjT2TzzTeTrXfYxp4PM+2oUEz+dLLcd+99RtQx/YYKx7nn/kYqVquQEiXjn33ymTz34nPyzdffmGrI22+/Y2R04YIFZmHjmaeekfnz5ln86Iqvp+F+8MH7Ur2kWpZUVcnmm25hC9q+nvq1fPalhvXsc7Zwrii/2NRaMB8JuZ46bapM2HCCjBo9yp4/ah1PPPGkkqUCufyKK6Ri6GBpjSkz0srPbHvNkhr573//awtKb//7bWZhAzJ74oknSElJaVhnqDui5ORBUxfia0NxUXEwwPjoIyOyzCy3NLVKQVmeVFcukSuv/LMS1RfsPZs3d5401DfIdttup/UTM5LZRoCHDhkqM2fMkHs1TtQIbrn5FiP0xxx9tC0y/M7WW2v6qu3ZYH3j008+UfI+y4g+Zg/nzpkrC+Yt1HK/154ZKg9VVYtl2JDVZNttv2tfPubPnS9vvv2G/OP2f8hd/7jbBg4nnnC8LUZs0vcMU46Tv5gclKcS9C8+/0IefeRRqakO1I/mzZ0r31OyRrogh8wWU1aoPBxzzLFBJdJ6FY+3WDk01DXIW2+/JX//+61anrfLm5p2FiAedPBBtvAdC0IB9N3kEKmS7v1kkeWjjz4mkyadaTPC1m5pOXK0cx1MufOgoTFvPXqdnNue+OkOV191lS3KhTRTp8avNV5GaR8x9cuv5NJLLrVnvUTrKeX+lBLwcWPHyd5776VpyJKX//OyPPHo43L3nXeZ+gzrLjbbenNZe+x4U415XweV+PnrNdfYol7K/6BDD5ZBZeVGlj9Q0s39d99911TWmMVfsniJzdbn6yDrheeety9ckNOy0lJ5T91N0PpRUTYoKEtNPwNCbMkTDvWjpLDY9kb4YvLn9uVn1112sXcDM5/Pv/Sc3PfPe+UfoY7+uTo4HjFqpH3hKh86SCrnLZDJn30mN95wgwwaUqEjW21/9H10cQVob9+Xx/NIi0Q6ojG2p42qVVtXLzfeeJPmeZwcdNghwXXtUNL1Sh4eHssTGb59zB7j1l5oPXZrpz0/zxwGDQCRBOIahM4I75kz/qPRCF1zTG4m3L3wOs1Iwn0IyIKDNZQquIsrqUWNgGNpeTAL1AmEq/+wMYwfa6b0X3Ic6YBLnLuV+imhBKJeOxzIQG5xkbQ0NEpOWWALuGbeYinTDqlraOBF2RKvDhYlFg0tts+1zGhiVaNWwy0pLVF3xB9Ix/RbCoPTHsOF6ZAmj11C/TC7vcwQTVOmdtqjyFKCtsCOgJCGDhsqBeWlsqRykalC1FTX2gweHXpBYYGZAhyxxurSrGSR2W/0dyF6zGivtfZ4GTx4iDypBADrIZAHFnqiFkIYN910s9z2j9tl3KhxtnCRwRYzjHzWh0zn6bN949W3jZAQ3iYTN5LmhlabgWdGkdlAZg65h2oBxIFZRxb8jRq1pg78mrT+tkiukkTSRro22nAjy1sCeq1JB4uoj7AYFTeoqIwfP17j7/w5v7YqUBsBFRWDZcGChYn85ungc+HchZYmNlXCvnrZoDJ12f6MbbFhCK7m5OaYeURmTnlfKQNmJseOG6M3A3ezvw1mwRnUomIUBe4hUfN0sAMoE5vN1fepoKDQ3ttFSvAJnzKj/m+xxUQZOmJwYLJRy4yZeQbJzK6j6kD5oyLBkbCIl+fNsXxImTTUNNos+xYTt5DSkrIONSqvOFdmTp9l6a1SwliiYY4ZM9YGWyUVOggn0zpewvoszwa1peCd5EZwTpoztdPOuc3ehu9RT16noF0K291lBNYuuPoxSOtBYWGRFBWXWPlSzjyXKHJy86xsuO/eH35T/0bosVnrMvUw3hg8JwZY7n3YYostbNBYos8EM4r45TfPijpEneZ5Rp+fW/fgwMLiKHgHFirhh6BjUYjBMvsmACzgDBquA96GeKI+obZFelErG732WPl2ytdWb1YbOUJu1QEog/Pf/va3lm+ea3JZB2aIA9g9HqX9WhForzdRuCsc52qZb7XV1jbovOfh++y6J+0eHisTGb59/YG0gygptc/6ep1rdHYuHHY3bLbdIFukXImHwXlz0ag7goySdpxE50i6g7nX/9KRdsK1jmdohcye9o3ceOON1gFgS3rwiOEizIh2Ce2843yafdg6NDqV7XfeQVqa4pLD5lZESyZQAbLOISiLdgQ56h0s8ODU0HUeu4b66WOkPcuYYuAmCI0/BbPxWnZYMnFlaFvhh19sXB1zYqZE1RnFj+nFq66+Snbcfkdb6Jalr0ZtVZ38619P2UztfvvuZxvH8JUqCosmnJSNNepAU+srpDQnMVPbDuJxvjm69yGRC/1tg1iObsOkMM3u3NVzJ90DP+GpwoXjxBC+diA5bP7nCwcOnHvymF+sBaSPauHCSvvyNHhwhek511cHi1pTIRFfN+BrREVFMFCHXJq+s8L5j6bdDSKs3BTuHmLlRv71louZ6+z9gLqSIRYeaQoJIpTWlvBZ8FzUcxBf8Jw4p3z6HWm3PCQd7TkHdSTIY3jdnWsZkHTKIlo3XP2Iwn25dfWVI4CIF5WUBO8JwdJcpgjPhZlIhyIar0NhaVAfMkVLU7PtfkzcqJUdcsghRuTR56d+oQK24cYTwrYnSGIU/ZG0d259PDw8BgiSmx9+O1n2iDbIDh2uJTXeyJmTJslBBx1oi/9OO+00+cUvTpMzTj/dNuZAx9I17NZZasdhJCMC13nQuQNzF0pyelwHQZhOIHclQyqktb7JTOBd9pfLzAwZ6hWtjYFZNOeP82QwC4TFkXMvODdY3KV9QE5xrjTWNki8Sf3jTxHk1/VsTgYakvMVzWv0ei+g7AKyG1fixOwsEteOGJUF93yoA4n7mLfT8qe+7LLTzjJxk83lvXfeldNP+4XcdO1NctMNN8qfLrlUDjnoYKuDELI5s+eqv2aTeHOLNOuArSWm4aqw5Tk64sTXHGvuJOjs8rUlcWRgGp5bWvW31TetBxB/dLI5pqqnPQF+CQNS1VVYVndTgPS4dLoydYSdRZ8Qama66+rqbVacNOPHyjxJKL9MpKy0JHFeqmQP0hutIU64TpmjSlPArL0KKhY8A+cnmWCRz5g+i6r5S6RucWD1hvcRnX82e4o3kc6gLFwbgQwEuOfQStnq82xVoYyj5g15dlxjYyUT7uNP71FvqEPUSWal7cujDVBTb4DnwsTMZ9WiRfYFiM26Guu1rvDuafwufCQZqeKz+hXT9Ov7l6nkaH2tXlhls++o41BfZ8+bbeY/sUqD6lyj1t+BBE/aPTwGNFw3GBHrtzhPDRrUDg21Ns7dIVXDHr1GA+8QbbD5PIre85333GmfNZkp4Rozn4cfc7gtdkL1AP/ZeQFxZwaFTgHbzZBuwqNj4LOt/Xai1znqSSLe6BHQiTVV10q2dhrMsA8tG2qfftH3zS7It47Qhce55OfYzDwi+dlmGYNPyYPLgq25bZZPnaEek6thWtxITq4JW+wL29qrcE7H5sQGHrhltrAoJ7B80tfRpumNSnJd6yTJSH/fnmEo1MNOrpXMK62QbK1eSJb+RkQJfpsKz2LvvfaShx96SJ54/HHZCbvpShY33GADuf222+SWm2+2LySABXCOjDiykTzT6+DcOQF2lzRExKYy9X4ivVzLANF8p5OuiLqDS5s7AufehRG9F6tnoKGDIb3mBhYQqkQ8mh9mlnsr5N+da+z2m6P7S76P9R4nzg3ngb/AL3fsrl4jfSVFxfp6KQFUEtmig6+4EkFLd1gnTDR/CM82mv/+jGg+ks+jEgW/XT0A0aN75m5g4+65MDja4Ku01L7AMGClXXfxOEmH5Pjc88hEeDdZjA5Rp/1ETQs1uAfufcAsNf3khOMtTNI0kODVYzw8ViYyfPuMD6lba+L0mJl6TOg+EUlAHuyn9XDuOmi/F/hZOqRqVhLXaKj1H79mzZ5j28qzSQufMv/vysvs3oE/2l/J/L+VNOSZtQk29ihCJ5UJ9Zj6LMySylmB/m5XIB9s1FJTtdh+l+E27CQMLj1Kvs2xhlurAwI6g0EjhknNgsVKXPKlsAK9dJHGqjojMbnlga5xvDpm5KKpKWazS3ReBeWFsmhOpelkSrEGyid64nHxKl9vqArIeFFFqR07QPlh/ZKaQG2gWDub+q7Uc0h7mH5D9DxTkK7e+HPQPJl3V6YuvEDuv//+JPWY9s2I2oFf558zCELw2wVtR0VQfzqSzOjnbRAlAcFJCuLh7mkwLRoW4bkw3TE5HI7JblIhWpyBO8IOZtiBO7r0OLjwnWQGyFbHcBxcPFhTIg2J35GwzSKT/nFMTp87RmFX1HvnO72HS09yfKniB859wl9ioNj5Hgjup0BYbMFtl//giP/+qNMezb/lw35xbCfl0bIBLvbk8nbl4MRdc+7cfdDVEaQKN3p0cL+jfrtDlODzXAgj8WVAf7dpO05bHn3XOsZKfO3th93T6JPdLD8QWef8uiscvU67h0dfQ4ZvX58g7dGGNtpsuOvhNdekRBtiJ1yzmWtmk/X4zltvyzHHHqPkPTAh9n9/+pNdP0k7THTFmfWD/NFAv/POO7L6yJGyxupr2II6VFgg0WyPveHGG8mSRVWmk85nfhZWsTDw1FNPkdHrjpOW2kbJycuTqV99ZYsN0UHHusKECRPMCgKEG31n/ELAN910U9n1h3tY+v/71of2NYDFbczGkhY2b9lpp53l5ZdelpkzZ9l1FkqSlpxSZeaa9emfTpU777pTsKYBGGBgP/g7224rzZo+wmRhF50Ks/vM2JNHhHO2FWdRYmpQxpFn0OE8U6gf12l0RW4ygvPrwgskU9LegXhGSRj/6WmYwhDtZAF0R9odYXG/s7W+VOvADJTr87BZ2DSIhufiheSGSeyEzn0w9b6dtDtEiQSIhh/NX3oQZuqEuPgyIe3R2Jy75PQCu6KOO9/pPdzzS44vVfygU9lY9gK3qcqtQyiujuvB5TpxKXEMnsMKJ+29ff8iESbnP0yRxeDKs7Ob4Hqq8setE3c/enRhJR/TITkcB/c7kzAcaIcBfpy/5HDteUXetY538dv/SHvHlsPDw2OAINr0uHM9dugcumieaPiSGr9M0anR1XCiDSn3TS+dhjQny1Ri5i9YYA0wxFkKsk0vctr0aUagIc9mNk4bL2wL//KsX8rvfv87ueovV8lVV10lF/3xItNfnPH1t3L00UfLZZddJhMnTrQtrdlmmy3OP3j9HckpKVTCPkUuuOC3cuKJJ9kiuwMOOFDOP/8CJZb/Y50zcta5v5LfavizZs2W1tqYzPrq22CbbB0M7LvvvqZ3jz3hO+64wwYMpIt7p0461UiqEXbtB9584Q11v5/87dq/yVFHHW1x3nff/bLrnt+TRx58SHJysDwyWK6//gY593e/kXPOOdfO//Of1+Xxx5+Qyy+/wghvZog28z0RwLNxz8ed91Si6Op6KqR34+5GQ+yJAHd0gLBD1pGAvLtyyBwWZipvXQYVTVVqCV6b1Pe6lkyRyq++lxy1Pcj0L2g7nCxfOCKWLKnB9c7STopDydLBE9c0nCAHUfdLgQRhD8JKxNeNmB/9ay9Pd56pAHdMhXT3AnTlouuy7puAmDuVS9S6nI58OsIOuOYEdFUeyw/pYkx9z5N2D48Bh1RNUNI5HbC1y9HrKxgadW5+npF6dNW/+PJLueaKq2W77beXd95910z2Xf3Xa6SkrFSOPfFY2WjCBMFI24iRI83e9dhxYzWILNtRj+3oX3z5RTPVx/bzkHZ0zCHHt99+h6nVQISffvoZ2WKLLeW8P/xOKisxQZctL7/xiqy22nA5+eSfizb3Fkc1NqKL8m3Lb2bD0aFngDFs5Agl1Y+bug74xaQzbNa9orgiWHxV0yytDS22rfw3M7+R3Xf/vkzcekuzYHD2/5wtxTnFcuakM+XDDz6U7XffUY44/AgLZ5Gm5awzzzI72Zdfdrk0tTXJ++99YGbYGPh0Dde56hHykJGEXoD+TASxLNBtWESuTy1UW0lW7wiutYu6SvwFaYXwuFAspJR/VhwWHkf9wYyaSmlJsbQ2x0w4t/FjRByhSv6N3+R7pJz0JSQp7QE4xyW/cRPoZxNkVFya3Xnmfy7kjkI5WVlBynnXmVBUcb9NNNVBWoJzJGgXNJdBcSV+m6gL/gIEx3ZCjapCIAnPGUgQqgXUQdz1ZOnkztx2fC7utzoIjlE/dk3dmNsg18GzCu71HIGfDvF1KwF4FZMu9RzmX9OvEn2Gdh7Ww/a6mAqujJKfS3ANn1av9RgVK/vIEbHyTHLrriXfc8+jq9+ZSDS86DnCAybfHeJMQuKalaH+5riiYXFrSqLSZYoD0Jp4eHisEog2BmkahrAB7Q06dRAaTnTWhvv2m0+bLcH25YVKhmPxmMxfMF/Kystl0qRJSq6fljfeeEO22GqiDFltsMQamqUp1iRFuUW26GnUuFFy8y23yCMPP2IEndnvuP5BsNlNEosu7JrHDD56jfNnzbEdEWNtMbPTTWN58OGHySWXXCIP/vNBWX/jjcw+cHlZue3Kx0wN1gdZpMhCp3mL58l+++0nW262uVxzzTVm7cb06eNB+IvrF1temNnBPjE7BZKeDTbYIDA5l8t222Wa/2yZVzVfpk6dZlY6bGGqPofRo8eY5A1iO3BWs2ZJXRMbNWk5JZdpJ2hmetTjOLeuDjhZWoThWMeTDi6+7twFiLpOFkcGnHS4T7FEf3clWh8TomVjEr2WJJSfkZreIgiig5iKRdK1pZZuQN7dMVMJ0H6WjK7vpEKqRAcSHQREJeom+iwyE9Ln/LSjZ2lOBQ2TuhH+CuJJJ+qWZHS601Mk+0+SBAHsOfrbTLuDG0Ra/+LO00Fv976UlhYu5iTpQNyRjvCk3cPDIzPQADqJIumaI+6JBlTBteh1Z3oMooytX7ZM32WXXUzF5ejjj5HtdtpeSgaXGNltblS36p5Pn/jlsyezhsxw77bn7kbiMb2Yp39cO+igg+QXv/iF7eLI7nyozKDjXllZKflZ+YEuJEnRpJ10xsm2LoABBJZgCBuyjY56S01MNtl0U9sCffONAgsjX037ykxCon8PSYewm5UN/cN/dkGOqcwwOBg7cqy5gZwTH26dJQPyE6ttMj/4tW3bKStNGumDfuZn5wdlFpbb8gVx9EaWHq5uuPrRFaLuMhaqX3cSgfqwv3Rw46PuSiFVevoiVma6rPy03vdGeHiOhEeF7CA2644oyzGx3zwHddbJ38oGieqNdMbKrmeuri/PdLjwk3XWVwV40u7h4dFz0CCnaZRdgx0l7jSuXIeUGmlV0s7OeepAFi1ZZNdyCpXUqteGmnqpXlgtLQ2B6T1mviHnjS3BzonMXrNgNFbfZKYa0V1Xl7YjIER4g803lCFrDpM1x402/8S1ySabGJlmlzxpVHYMf9aDhZefZTvsWTr1j8EEeOThh03dBpWYm2++Wfb54T5G0l986UV59dVXLU+ku0X/mJEnXajljB45WmbPnW1hoJpDnmywosRduxsj7/mDCozU52blWl4YvLgWuSCrQOKtzgxkcK3/o7uMLJ+MEuoyF63STuB8XOsO5iZ4FTwUQdlBvIOy6bWEzyFZOnByJDzBTwIdfgx8uPY42i6nQ1dulxUhJ5x06aDtRlKloSs4t5m672/wpN3Dw6MDOjV4GTTQqRrI6LVoI891yChkd6oSaKyu5CqDrqmukbnfzjE3bNrBzHpOUbYUlOUbibZZFf1D7aVydqWUDCkxMp5fWCAHH3ywlJeUyzsfvCN33323xGubRfTfn/5widx+++0yevRo2XXXXbXLbjNVmrvuvFPvt8p8je/000+Xd197y8g7xB3yT3pzivPllltukRtuuMEI+X4HHGCz7AwKRgwfYcesvBzTdWeWnwFD5YyFstaE8WZvnrg++OADqWHjkZjY1utN8SY5ZL9DZI899tCBg8gXX3xh+aI83Bbf5I+8N+uf2WoPDAH1UfBcMxXgjiHa9HdCwmsrGsTbE1FEc2Hnep1jOnF++zXIpxP92Umi97sRgJ/ewvyG4XhkBmtDI5IOrv1OPrq2nGO0Xe8pXD/ABAZWnWjLmcRA6BuQVHGlitNdcyQ/Ki7dAwWetHt4eCwTpGocO1yLNLxcR/5w0R+kTolpfl6+/PvZZ21zjMkffWaz4G7L9CULquXee++VqVOnSllxmbz33nvm7tuvvpXSYWXmFpWYU089VcasMUbOPv9sW5C647bbG9ln5rtgcLGceOKJcs6Z55iVGvTmJ26+uW13zaJS1GHQhWdGf7VBq8nf//53efc/b5kJR3ZKRYf9gfvuk2uvvdY6lbPOOku22Xlb+d/f/l4mT54sJcUlMnPmTHnssceMjJ900klywW8uMLOSl19+ubq70NR19tx9TznzzDOlYo3B8sLzz8u8efMsPWwM9eSTT8ozDz9tg4qSkhIZOXikpeOjN9+3sutXgIR3pHOhpEImbpYTetOfh36iqbUj19OJ8xD12EeQKrlIMjokO53DDODCihZJT6S38Q48RB9ERGxkhIRkPSTH2VhVKcg3ySkMNiZCcrTtwywuX/1QJ3Q2z/HLMbntdtJbEB5EnQ3rJC9LCrXNKyguloLSYskvLpL8oiJLTy7pjQw0XDqiiKYHos5ggONARJZmsvel7uHhsXTI8O0zDqRuXWeV3k57c8ROe8cIghkud02PiYY9/Gxsp8H9ROPIMbmZcPfC6zQjyY1ptNHkHoK7eGuLxJlp1+O338yQisEVUqAEnW2ocbPO+uuqB5F5s+bJ0KHDrKGGsHMcVFYuc+fONeI8cauJ0tIUl1hTTIrKi6Ut1mqLQCHKqLCMX2sts38+aPhgaa1vlmzKJFvkv+99aDuasrPqWupmvQ02sK2/mfXG/jvWab7Uc9Ru6LxWHzdKPnr7ffMDuWbha/lqg01Xfc6MWdrhtdhsuyPgY9cepx2RSPXcJTZ7/tFHH9mMOapAm2870fIm9W1mGYZNmJYsWWIz/NwfVFEh8zR/xFtaqgOBWTNls4mbB+Xc4RlwHhE3dZkpEqTaoeOzWzoEabr/gfu6tNOeqCuajmQLMisUVg69gHnjv/Y3LO0TUKfJ9y2IHj62ZEDE7EsMKlgtAWFJwJJnsXSCe19bNQHpkmDvbXgO2qsZJxHSFt7oSTV0+uipU5gBehBXO6xQ7LFb7GHkLijqInnK3E67+m1r1Xy358Md02KZvX9BGQbeOxaIS1G0hGmPaMOYpOBImzZ8+HD7umdt3eqrS15JkTQsqTFCTdsWxeDB2u5FkHj+aeDe9WS3RsCpv1pn2TuDtpcvjNH0YRnMqUayw3S9tqOkmd+lwwbZ11TJFalbVC0zZs4MFv47hPF1lUZSZTteBz/7DCy1miiOc+fPk6222spvruTh0WeQ4dtnbby6tQZGj5mTdhBG4vwbuMaF8Kjiwm530w1ojLtoPtI1KxCFFm0s2a00NydPf7VJc/gpNK5HVGPYGImUBLM9gfpIbkGOxBvikluirbQS5ubGZsnTRl4KsqSustYa8pw8/a3/FsyaL6uNHi6i5YLd98IhJVK3oNriKB5SJm0aThbhwHE0qfWLa6R4WJm01jabbnnJsPJEQXANcmQNPH5Ag3okj3na6cA5kSYVNkutb7UOsHBQcaA336DuijQwFqSqNGgHWVReYmSrra5FsjRfTu/d3COAIiRc/DWH8SXAeUQ8ae8drBx6AfPGf4H/5NLv8FuddPV00saewlN2UY5M+fQree2118xCEQO+3Xbbzb4WjR4/JvAT1mnqS/DXDt5L926yyZm7H3XjVBZANH12rg4TOabOOY+etCfy4Y5psUzeP5dqPXZR8Mml+8c//lEeeugh6zeYKGB9z0YbTbBJha+//lrOOeccOfTYo2TJvIW2/8Tf/36rLe5ncoGvlhBIFvmXDquQpnCHaNt3I0SLknwzGJBIGzkL7ltda9UURdxn5+bJo5qe884/z6x6Qdb5IrnFFlvYRAhWxPiC+j/nnWtt4SW/u8i+iO75gx8EX0bLi6RmQZWc/etfWztzwQUXmJUvJmSw7kWb3RVIhVkkCpPasaRWHiw5mhiOqUj7SmwtPTw8Vgish6JJctJLQLQc2QJh55+MBCmIuHVkAeG66auHZJzZQZt10evMkDPrHZjwU396rxVCr/5aGiH22jHUx6UlFnSa+G2tD2a68d+qnUZrY4vN2rTpdfybmo2eo3Jii071vqVNr3EuTS3Bdf1NOnAnDXqd++E18prwg+hvQzP+teGHxNNB6JHOqbBI44yF12l+ORrxbtVBSZES8eCedWBcxy/mHZ0fhLQRl/7z6GPg8Ueqvz7FDnC/33zrTTnxpJPkiCOOkMMOO8xUtE455RSZMWOG5BTnyHQlSkcdfbScpkTox/vsI7+cNEkWVlbaILGlNainzHgywM1W9wQMgRo1apT885//NLWxO+64Q0avNUZidTpqZExJuhizq1/+nClMq7OhsBsq4VsW9D7vEe9mvsbBO+nUIyJZDN3q0Un422NlwD0ZPaYZKbmBkZNnn31Gie35ct2NNxhBpm37x/33yFV/vkqKCotk/FrjrQ0aNGKYbLD+BtJQ32D7RrBJHPtL/OnSP5mZXWHSg/YQRKKg7mRp2z5v7jz57jbflVkzZyXcmVnT8OiEuvevf/1L9tt3P3nkscflkIMPkWnfTpMrr7hSrr/5ZlM7HD1qtLaX6labxO9s/R0pLSmVJ594wtQRW+piUlJaajPsm222mW2ARz1mvZH1N8QXSjIS10ge9bmf1GVP2j08Vjlk0Dq5BjkVku/x2zXM2lBGkWjYFe6eEQlmaJQUGCGOwFy7Vtakw48k6SvomK4gyx2v9U5CaEcYlINHXwaPvb22K/THFltuaTPhb775pjz19FPyzDPP2G9UEgDqWyxufuedd4wks4YCtSz0ivPK8qWmtkYKK4qkrqZWFs2utGoxZMRQ2VLDhaDokNXcxhuDL0TNNTGJ66C3WcmM1Rkqo6tOKkaW9DqCiprNqudm6yAzTwcLC2XurAWSl58n5RUl0tDYYHlw3oE7evQF6NNIEHb3lJIlqJNODjv0UNmejeHicfni88myyYSNcSIjR4yQQw85RNYPrXlJc5t89OGHMmzoUClGt7y0QLbfdWf7PeWrr0SKck1tJXlvhBza81wdKuggkC8TXKMOuvuE7c7tt9a/fbXO77/ffmbB6y19TzZaZ0ObdCH5p+tgdiut69YGKnGfPm2aWQobO3asWfTKKcm3uvzlV1/Keutr2qOBWwTtCEqjI1wpuXup3PQ1eNLu4eHRERGivdSgwQ7Dc2TBfiNJhN3DY6CBLy6Q60MPO0wwDFpTV2uz5sVlxdKkBJsvTutvsL59DTrjjDPke9/7nmTlZUlBcYE0LmmU8tUGmYoX782QNZTIxEWqK5fY1yCnv87Al3DMilFRvuSW5hkZhzxBklLBvYeFOjBYsqRa6uqbbC3HyFGrGXFZsGBxoBIWvrNdiUdfQJRyRgW4Y4D9999fVhs7WmbNmmVrajBny8x6QWmpWbwqHzlM2pRsiw78UFPZaKONZLVRa5jfj995z77AJPTamXgJ23aHPCXysErqJuuODK69TwG+qu64446y5Tbb2JdF1GEwIiCFudKqg9Gf/OQnss6GG9oAgK+RGCHYa6+9bF0RX5r4ytnY1CiTP/9cvqvXOpVA6mj7NXyv6eHh0RHLsjOOhBUl73Zdxa7oKUd3nikGYHvsMcCAGVMWJ2NtqLSo1Ag2Jkmp5wXF+ZJXkCd3/uNOGT9+vOy2x27mZ9H8RfLuW+/KAw88IL8561w599xzTRf547c/MrWX8opBRtJZkA0IkwWGLOa7+fqb5KZrbpQHH3xQmuoabRE08d1///1m+tSpwThcddnV8per/iLnnnOO/PKXv5QX/v2Khb3aaoNtJtUjU/SkNVoeLVeqhrPztZGjRplKHwv2l1QvMX1pZt3jDQ2y+pgxRuCpH3y1YXfp3Xff3fzN/HK6XHXVVaZ3jo65rbPRgSFuWRsBrH3XgR6gnsUh2imAH+osR74uMdgE8+bMkc+VfG8DgQ9RUFZqR9w2K4nHUtf2228vu+y8iw06GHyYCeDKSpkwYYK5HejwpN3Dw6MztJHsDZJnXgANLuAeYr+ZJWQ2sFUbcP3JV14T3GUohiBoD48+CdZKYAVjxJrDZVclGvF4s/zn1dfkow+UgDNRriQcU5/MHqKPnl2Ubbq67Dtw4s9PtFlHFuXdeuutNhP6zqtvB/rqClRs2L3XkSAW3912221y+q9Olz//+c8yR0kQZJ7wTzzpRCP/kJ788gKzxjRJSTq7/a6rRGyH7XeQhx96SH5+8sny3L//bYuh58wONwfzyBBhy5RQ+u9KAtcrHLTNEGmVN954QwZXDJY111zTZsxtVlzb48baWskuKLBFqVjzYr3Eb399rlx44YW218UVV1whuSVFsmjuPAsvK08rY36umanFlO1hBx0kxx92tPz617+2QSV19qjDD5cf7r23LUqf7eqUxmn9QH6eEXzinj59up2zCR7FmF1UIDWVi2xAkatp4r1AFWyMDi54J7B08+ijj8on//3E6vBqawzXstUwO0gQ3UCCJ+0eHh6ZIdoYRpF0LTqjnkzYHWnncydiDTb37f/eICktqwRS5bknJdj70s4YKyCK/gDqN8Qdq0fnn3++5GTlmIrBffcFliA+ff9TmyXcc889paW+RarmVRn5nrtwrhTnFcs+B+5rlj6YkZwxZ4aZFcXMHeFi+g5A2EuGlsouu+xiuu75+sfiVVRodthhh2A2VVHbUGsbmbGwGQsid911l2w8YYLtcXDwQQfKJhtvItO+mSYP3P+ANNe3yuhxa6yar1ePQWVnyWf7MTMJirfXotGlvB5KJ9AuQ7L1iHlbTMzaAnzWNLBYX9tlsxqUl2UbwXEN0o61GAZ3F158sdUvaWq2xdAQ7Rol9gzwIP+QbdRtEOosajTUa1S+2NiOhaLEZ/2DCvW2paEx+KJTlGvrOlgcO2LEiCC9mgnSw5cfKci2++PGjTPVGdaC7LzzzvLSSy/ZepEJG00QiamHaAEgAxCetHt4eCw1HDl3cMQ9CncNt3El7IiZ3OrU0qaTKPQ3QSam6ZPvr0gQ94oS4I4h7JYWRkYSeOkIF/aylH4ALY6lkm4AQQcQbEjLuuuuK02tTfL8889LdVW1vPjii0Y+Bo8cbCQGUrPT93aSF559waxq3H/3fWZ+sLKmUvKzg52Bm5TooLduZCZErLpJcvPzzMwdRCeu75ZtXFOYFSzqUxQXFNuMKlaYIECx1pjNpl522WVy/PEnmDrE0EFDbYaemXi97ZEheK3syH/JdSRTyRRduY+GpdLpDWSCRNtg1EzQV2dBtBFmJeEYBWDxKNa7sKb16quvmroJBBqCzsLPVq1P0YkYUMYgUAekI1dfXY47/ng5RQn+T356ki2ohoD/7Gc/k+NVUA879thjjchTz+0rq8L6BOpxPNgxGvOSWH6BgEPobVBBmhSvvPKKLULlCxWbQu29997y7rvvtuvBryLwpN3Dw2O5w82ucKRPSUA7APebY89F/ROGSfg7vAfcMR1cRxTtjHoG54/jipIo2kujZ+KxPJAoWX1MZaWlRp7LK8ptdvy4446TXP377LPPTO8c8oQpyFhNzO7nl+XLrG9mGYE58YQT5JWXX7EZT3bpjbfG7bxgUKERF4g5YUGqjGzBffRaQ0uDvWfo0gN0hrV2S31TvdVx7s2eNUsKcwttxpLFiRdddJG8/vrrZvv9kksukQ02XleqqpYE7wR+LKQUtcaqYlAfeQc5j84lpxPzY/+vKKSILUhGrxH1HiXuvRL1n5F05TfpGki+Fqurk+qaGpk2c7oRXfTR6/UaC0LjWndYwFxXXW322zfddFOrk+mEumEC9BjXAQH1EOLtNqNjQWlWEQtUs031Bn9tGo/t0KrkG3+N1TU2UDT77IN1IIAbvW71T9MFqUff3TZPatFrylxxS9pZt7H22mub9Zl0SHWXa05A+hD6Bjxp9/DwWGoYKe8OYePOTEtejtKN7HaTjzZJnpHofx1EryXgfnBsJwZdIdEpROCupbrXEUEcgYB0btMhGk5vxKMvwhGB1pZWM4tn+usKZjfLy8qtbp133nkybuxYWVOJc35pfqCaoLjh+uvl8ssuk+ZYs1xz019N3WDBkgUyqCxYgGqIBXrsAD1fU5XRn+4aRyNVCjbRUYolJYUlRvqxXoM6Q46+f2yqU6BEas011zCiNXR4hd2rrWqw65pQCwPYG64/ox+2AgLOOe7cO5eZmNsObLSHEsTcA0mFTNykAhMQlLX60aNNRvRI8BOVVG6WTtjoIvkaM+uoaQ0pGyJv6oBRCzKxEJT7OVq/sP2PGtaCBQsS/hyS28ZEGxke2bUU8EWIrzojR460324vihqti3El4Y7wN9dRb7Pl5ptvto3C+MqzYMZskcIc859FePm58uj9D9hXIQi6xdUissbI1U39ZouJE+0LE3DpdRLs9xHuVdCVRP70woqTCKLlGpVUCN5wDw8Pj2UMGsTo0YHfkIqcHDorrtA4BZ14ZqJhdCnt7jJFd41k1wjSHUhv4PxFw+mJLCukCntppH8hVQ4ykUxAnYRou7q14WYbygEHHGDnEGb0fQsLCqWNzbSUj9dX1tmGNEvql9h78v7r78knn3xi7lGRwVIGYEYUUgUZJxyn385iwRz9Q0+eRaezp82yBXy4q2+stxl+UR50zDHHSEOsXj75/BN57LHHlEi1GPm//tqb5HodNBB2EQRf31Nnixu4Y0cEJRJ1k4m0I9Xd5SeZPrvu4cLMvD4sFwRJSIngybRLTInwIYceKhf94Q/ygx/8wDbZAkF7rIPGojyrk+iwn3DCCZKbl5dSIPfMlCe37ZVab+LVDbZI+vDDD7eBX7YRbxtR2qCReHI0DD0xP01af9GVZ6E0X51w01ITqJXVVVVJrKZO1l9/fTnttNNMlQzy39LYaBZuztN0sgvqcPTglcg7SzYZI8h+v0LO7xXhuYeHR19F2Da6JrKmpkGuv+46mxU78ohDpSW0rpWTkyXNza1BA6xIbs/bf4etVcSBO032szRIbtQ7gdvBlF0Gwn/AHVMhes95VNCYI7mhMGDQ36QPF45UufTavah7hN9ZKobk1r63rT95zzT/TvgPuCPo4CADSYJd7mk60ogCgvjss8/KSSedZFvBozPr0F4vtPwT5yse7VSzNwhn57oDTly90j+2ev/ggw/MfN45v/615JbkmXnG3Ow8ySvIl8qFC+Wrz7+S+fPnm847esB5em/urLlGxHGL/vnLL78sbS1tRtBZYLrRehva4tO5s+fKR5M/kpeef8lmJ3FbOb9SmmJNUr2kWtZfZ33bFn3dtdeVV195VZ5/4QUj6qjkQNwxqbfNNlvpO9H+Xjgk5zb66Nxpspv0wHXPfCwTJKLUk0j0ri6iivHoo4/JpElnSr4ST65TfznauZaL+6rRAXjvTgyJk96jQ3idYbcsP+2OmL1mXQXrK9hQCbg6bO1dW5ZUDB0qG2+0kYxbfz1pbmiUVh0gJgtlEa0blAkDSdtwScMpWa1CNlp3fZvFh+BbOlrUT1iGVnZ65B6DgNFjxsjELbaQsWutJQUMFrX/wuY7ZQ/BH6aDAO6PHjvW/Ln7rNdYa/xaQVrYYbWb+toJSe77DMKE19XXyY033ihjx42Tgw472K5laWb7aKo9PFYBZPj22ddgdWvvsh5nz1okm22yqa3Sf/KJhyTWqBf1Vc7PQ0exWRvPYPGOc+/Q3ohBoAiQm4E4t+1uljdc3D0BqUuXwui9wC1NHB0FgEgyC8RsDrOTdB4c+W2zNeo22iTyuTZxX/3Zwi3109Ic00PQgQfoaT4Ahd0bf4qEeoBD9DwTRONdinSkAbbBMfP29ttvy4g11pBWJQwOiXLTfARqBiselmNNR29znhU+g65K3oXLbGa2DhKJK0vrDKQdE3lraUc8bORq5qa5Pmakp7C4yGbCp3021fSK0UvfboftpbG+wfTN4/G4DdSdznCZDoaoo5Tn+PXXNt3fb77+2kgn6gbbbbedjBo7WmZ+M8N066nbDAKGrDlU6hfXW9refOtNma1hYEKP9mRQBQMsJQx19VbfO9SyRGFxovmym8G5c9dVeaREp3q8/GFZ0CgTqQ7PAeVIGbH497jjT5Bvv51hA07aCaxdceTLA88qmBgJQnEhZJwTy/dSINJuR+NPBrXT1vqHoA4UFhebTrntWKrvHn+AfEPqORaiMqP5tBzZMQXUndM9d+WG2gtmRhlEZpcUSEttY/ususbZin66AtINIPFOjaunsFwTp565QQDpSIje55gWvYx7mYDyC0E+HOxMk81x3oL5Zv2JQfY9DwcWpzxp9/BYmcjw7bM2Xt1aE6RHT9q7QvQeHQntcqvkFOTL2WeeZSbC+PwLAWLWcr/99jPSgzUNZjR22W03aW5slEsvvVRuueUWM5nHtvKuk+az8Wqrj5RmbAfnRj8P9zQfgMLujT9FJ7KTrkxSIRrvUqQjDTxpbz8aiVCGC5EeNLhCmptitnsp28WTBmYvjXjgvovOHER/O7JDvbTw+RpEYlrUnd5zg02QTF74rcNTI+2E6UJ17giTOp+cOU/auyLtASwn7T+XHzIg7eTDaqeVcYC45oFFy/bMtY4kSDvPXa/ZEVAX7fmneTdxr6AeWv1zfkEYnqujrm7z27nnmqUjDKcnwL+p9hBN+Ntdjx7ThW0u9H7gsu/AUqyJ4piKtKd5Ih4eHh79G+g90jksqVxkW12znfwfLr5YNpowwRZJ/d///Z9MmjTJ1AqsY9GxTl5xYFUDc33oS7JRDZvdPPLII/LMM89oz9NmHR9m0rR3CGPy8EiPNupNrlYw5TG5OblGro31KnFwpKYnBMb5oY6baUm8xvU/vZxVmJ1YYJgJqMVRMUKnR4/+D0eMEcgsAw7OqT9Wh5zQnrlz3KtfCDZEnxn4qHAtruEgNvAjHiKjPYyEl007yTnXw98MdmygiV58fr7k9ELwx4ZLuToozVOx8zBs8ujymw5BeoPjspBkpHKTTjKFlqaHh4fHwAMdjn3e106DzuXHP/6xLY7KLcuX//73v2ZbOLs4TzbaaCNbmLf55ptLa32zdi5iC/FQQzDrB3k5MnHiRFtUNWPGDOuAmMWsWrRIW9ueNLceqzqMSGudgfS0tSh7X8rqA0FhoSvSGlcCpXXeTOLpP0deeoPe+luVQPnmaNuQk5+bkOwVJnkqAXntSnK0vcLEYo6SWs5RU6GekG4n+l8gjmg74StiXhBPbkG+EuOCDhIsSNU8Q8RzghnzltYWI/SxWJPEmhrNjKRrH60+hWEnSDySDtzuSqjgba3Spu8R8ZikGESkE2DHVOH3QiIfNNo/IPVAov7TwavHeHisTGT49tkLrW7tvdbjqq0ek4zotaT7Ssrb6lu0A8qR5saY5Clh/+Td/5qpsCsuv1wOO/oIiTfEJLcw34pkwbx5stqIEbLfPvvIkMGD5e+33262h1Gh2WabbczCwS9+/UuJVzdKbnEh5hjCiHqaD0Bh98afItErOKQql3SIxrsU6UiDVV09BkTDTpAVJdboFkOgnG5vAkndcXL3nOo3Qnkya2qkXQFBQ3/Y3UuUtwP5xq/+mZpBiGR3dsdd0h/td2kvCDs4D34H6BhCN+hUj5c/XJ4SqQ7PAfmnXKLqMawfoFwRyjhXnxnkFMI6b95c9eV8hzlp/7n8kIF6DMjPy7cddgFmEfkqk4CWfXYX757VA70X1J3gGIWrd5RJtI45cbP43KOsQIEOJPSu/eY65Qc474TIM0kFl56oG5cWd8wEvX/7O6NjCaVPv0PCJKYiJ/L+Or9ep93Do68hw7fP+jZ1aw2DHldd0h6FS2maFGuHYy1coHwrWbk58twzz5ppsZdefEk21jJ0i6MAzSHCltynnHKK/GLSGVK7eImdY4kDPffho1aX6oWLpLQ0VKkJfIbHnoDC7mX+O5GdNGWQEtF4lyIdaeBJewAXvuUZ0foV1zrniE06dNc9J993vwkXAuBIVCrg0tyTpOBSt2gPyXxbdhLnnCpSx9YFOtXj5Q/Lq0aZSHV4DigrygTSzi6xs2bPkbIyNsgKZnLzdKCVV5gr7771npx66qnyzTdfq3fnWxGeunLnOaR7BungnmXyMzZkSNq7gqXJMm7/d0pfMJCjLNRJGH90cJcK0RBceI7wu3ru3HRXHsTkyHeiHOz/ZYwetHtRp+35Szra/+1pZWCOSVa+sKFSySJdjuz0ynlVdZWsv+761laOX2cd+3Lg/PJqYC/fk3YPj76EDN8+69vUrTUKevSk3YHUpk4xITO7GY0hqyhX/vKnK+W2226Tl156WcrLglk0h5ySXHnr5Tdl1z12laMPPcrusUgQyzGo0Gy45cYSr25Sl+iEtndGvcuH+uktWe5Ednr61KLxLkU60sCT9gzgyqErdNM9d9d9pyJHzgdH869O0ofSDgsNx2G7EQQfnnOq6BxjGnSqx8sflleNMpHq8BxQXpSJI+1Tpky1hei0A7n5OdJY3ySF5QVmpeeRhx6VmiVL1Jfz3Q7CQZaGtKdFpN1ul56BfFJ7o9ZlgKVX2zb7M9Kt7ye/M8iDa0YIOyDdAflORndh4T8qNmBYxkUYoGflltxMQspRleRrjNtDgfVRLDiHmLPWZMyYMdLcEjeLTkMHDzGLUKhfYnoTdUvqCJNIlAl5BfZaKDxp9/Doa8jw7bOXWN3au6xHT9odSG3qFBNylLRzRB1h7732Mv30++69T3JYEBhJQnZxjpL6q+Suu+6SSy+5xGbc+ayLFQ4z96j36xfWSHFpibTGAxIaEPfe5EP9JPcCmaIT2enpU4vGuxTpSANP2jNAd0Som+65u+47FTlyPjiaf3WSPpR2WGg4DtuNIPjwnFNF5xjToFM9Xv6wvGqUiVSH58ARp5SkPTdHjwEZbSfjeFLpqgq7gHuKIHEq+p9Kp+ccabfbJXMk6gXvHs/A/XZwP+3dTLqXKaLJSg6ip0H2MgnLHdF0ubxGH0X4/ILT9nckgYIcaaiqlaKKUonXNCYmgey1UKQi7SuntfTw8PBYgXDtKLPms2bNMjKeV1YQXu2Ijz/+2GxWf/e735UhQ4KZEfQv6ayrZldaw4qd42AmKdpCe/QMfbUnHthwpZ4ofa3C/kmkBrOlfFHjXXcqMoD3nmu2+Lc5Lm2xlpTCouCGmjor4OaGJhPO7RoLhrsUbVtoY1SIsyshDe48Hu9s5cXdg6S7cyf4dYSyA6KVQd3V19TYtaaGBhPO6/Qa6UsW3COoeTCpEY/FbJFovClm0hJKa1Nzeompfydavq3NlHNmwtoljlaOzE050d/OTVtcn52du/Azk7YkaaiuFdGwahZVBfnSuGsXV2l8rdJQq/co35xsK29m5K2/UKKOoDbTXBsQ9XhdkxH1TPoTT9o9PDxWGbz++uuyaNEiWW+99bQRDy9GsEhJOTbc+aRZPLTUGlGETo9ODgJPI2sdnsLNzK2ysJ6mtxKG4bHCoaXf4eiIe7Ks6ggIbrDDtGsLEN5/d44bzL9OmzZNHn/8cSPLELRvv/1W5s2da2thFs1baMeFCxfK5I8/laKKEok1NUmdEjd2wJ09a5bMmjlT5s6ZY78dqXbxpIKbLSdtrh1KltyiItvlVh1Zuthcjh10SQvXv/3mG5k1Y4ZM+eILqauulmq9rh5l4fz5MlvTQz6KB5fJwnnzLQ4mPL6ZNt38og7CwlbcJAvXLX4s2YTtZVSCcu0sLPifPXu2hTFT42emea6WIW12dmFAdNnhlyP5QM0EIUzuo5YSZ8CgvxPQdCAubtJDXlgM3p3gnrjtGeqRuDjybF08PEPUYEgvi35LKyqCHbQVPP+vJn9u8ZG2F154Qb79arpILOhLeHakx8E903TwpN3Dw2OVwRtvvGGNMY0+28EbIizlpZdfkoWVC6W+oV6aa2J2my4zakZMW9ZQxzJQrei1aHwpr3chyxfddxad4fyEhddr6c9Y/k9mhSHjCjeA8pwBHNGLkisHR5YffvBBOfvss01HmfaFc/SU77jjDjn22GNNxeHKK680dbHdd99dPnzrfckvCnZl5tr2228vf/zjH+2cBa7sH5FTlGektyvBQhBxM8lA2ljgiApfVOqURPK1ANJ6/vnny3HHHSeXXXaZHHXUUTJu3DjbhwKLWHvvvbe8+OKLUj5kiDQrIb/uuuvMzC1+WupjZnkGYnrhhRfK/vvvL9OnT5fSIeVSXFEqJUrqnUDwnUBgp02ZYov/nanJZEBa80oL7T5k+MQTT5RddtnF9s5gg7tLLrnEfj+o5Uu1K68YJE899ZRNupx55pmWvpNPPll+/etfS+2iGtshmHIAkOo4s/wcQ4JNGtAtl9wsKSwpUilOKwxMrr/+eouPsrv44ovtOR199NFy6KGHSonGx2Dj66+/tjJEZulAiJn9orJSWzu122672V4fxP/KK6/In/70J3n7rbfMrKZLU0/gSbuHh8cqgw022EDOOecc2WyzzayjgHhHZa3x4+V87ciO0ka5tq7WrtGodilYpaHN7Y30EOmpkmNamUoS7LImqkcSeF114QrAlWlvpI8AHelkSZleFX30wfmqDQgzbcCzzz4rf/nLX4yk//znPzci/uabb8ppp50mv/zlL21hIgT40iv/T44//ngZNmxYYK9fmx+nL7/++usbqb/11lvlBz/4gdx0003y8bsfmnpJOmHmHH/fKFHEGklUNQaBuJNOTNlOUQJN/JDhjTfe2PahuP3ee+T3v/+9Ec8RI0YoI1TyX1ZiJB1CzXqU+fPnm0lc1gGx4BK1QfLTXNfUSVDzcPKWElPWBsUagskR2wAsCcSLikhcSTWqiMTBLtSQ9b/deL2lbezYsbaXhtU7LTPKjzzhhl2sMRBwzz33yH333ZcYXHUlfCmgvKZ/NU3qa+pUatPKoGGDzQjB0KFD5fLLL5e/XH21pYk0Dh482PJQPnRworymTp1qXwJg1vXVNbLjjjvKhAkTrG6MGj/GBhqQeAYa07+aYv4dqEuZwJN2Dw+PAQejFMm8Un/vtvtuMulXZ8nGm2wsOcXaA0Rc0HnSmTGLsuv3d5UCtoAnjCSh1Uz81p+9F2bqM5+tB8GRRIBULnoDwnNp6Y10TkmygFTXViasFDUhqfhqJgIyy31XAtwxgpwMu+UMO3mDuqV+IxCejoimpaNE89cxrwGCmoMEaelBihQ9c91Xceutt2m7sYkcfMihSgxzBN33s8/+tRK1w7XYs2XatOmy7rrrWXZxd8wxx8r6G2xofquqlihxbVXSN1gKyoskr7RAttnmu7JgwUKZMWOmEkE2MEqWYEdRhOf5n//8x2bTy3UAwESEE+6DuBJiVDG+//3vywknnCC5OoiAjLOZHLrzkHXI/Nbf+Y4sUFIrsRZZuGCBDR7YhA7yTZuHSgyz58x8ZxfmWj1yai0I8bmBDOcMJJ577jm7lq3pyQ9nwEkzbhyRjoKZbWbKh2le2OQOYvzb3/7W2mVhHXuszdRQIMmQ96zcbNn/4ANscMJXDgYqLj3kG3EDGJe2p59+2tR3inVwUlxWmlZaGptNNYZ0Qt6rlyyRsmEVss8++8j//M//JHT8p+sz3u6728qoUaNsAFGzcLEUV5RZ+fFsWCOFSgyDtQMOOsgGaX/961+DTIdwbUp38KTdw8Ojb0AbvwQZXhaiQaLGYqK/OOYXFNgn0yJtSOMNQUPexs56ZvcsMOPIsaUprh2BdjL87CT6X3i0dtaOvRHSqcdQLFy93q1EG3d3eSlBeUWjWBFica5kLE0Slj757kFaTTCpq60xstLYUC/z58014oMerbIgU0lAhQBdXkiJVlarv+jXQliySnLtOtvDQ0pQAcM/Fo/UYRBT4the58lIUP2SviKFkh1Kx+safVIB6FUNricSeuwncKQvitde+4+8//4Hcsopp4rk64WcLCV3I+TQIzHhly0ff/xfI+Z77/1Dcz9izEg5+eSf27nElIc2x+X119+Q/fbbXxqqlADqI3nllVdl7NhxUl4+SB0RX7s4E4zuObg1NqYCo3BEGHFuAESY2d1CJY1V8+aZSg0z5sqgTcXjvAsukDY9hyS3hDP4JyiRZ0b59ttvtzAWa92br363mDjRCGizusOPEyxzER+EnTpImoo1PgYjgIFEXnFhIk0At3lFhZJXWGj6/u+9956pnagjmfzBJ/bFYsfddpYiJlC0OabtfvWVV2RXHThgM5935avPvpA582fLCCXVrq6ygJcjGxYxe9+o7wNxtSiJH1ReLhWDBkltVbX5jzfGpLG2XmoWL7Hyj0qO9gFPP/W0bDxhYxk8bKiGVSiP3/+ofHen7WX8Wmsrgc6WeG2TTJ0y1Z7Xb3/7O3n44UeC1y0u8vp/3pAf/vBHwi62WOLJzaVPyZJTTzlN7rv3fpny5VcdJgEygSftHh4eKw+RPol2y4TzTMX5iUhr5L6Fy7ELtLkWU0Xb1MR5V7/bRQPl39Kox2jjHSC4AJGP3Owkne8DTZsJcOeZSgB3lnx3WQro6trKRnKpZirLBpES0UBLBpXb6YknnmCzeVdffbWRmPFjx8oNN9wg5513nulHf/LJJ6YqAIlH3YFP7pf/758CYqJkCmKPf/Rvp386xcg8pIr7jrgHcYZx9xYWhJLD6AvXY+m/gGSuscYasvbaa0tbY5tUL64OFn4qYWN7/w8++MDcjR8/PihmvVUypMQIKCQfVQqeDeS7qKJIJn882WZqt9xyS9lxlx3tWaUT1D2YKUePHkTvAQgyBD4Bff4Q9riSV9Q21GF4Q93qPdwyszx3zlxZZ+11ZK+99pLJkydL5ez5piZD3mwXTw0XMkx9cjP7DADQtbd2Tc/r6+rNVG79osD6DDPs9UtqbOKEc9KA21h9g1la+fDDD21wQTwvPf+8qb98+eWX0lLfLIVlxUqOY7KocpHMmztPxumgJqcgT5bMWywX/+Fi2XLTLWXvvfaWvPwCHUC0KbmPK2HX+q5uaqtrZNBqqLJkSdXiKh1IFMsSHUihk88zwT3hlw1hkKSgSEKZMe0bHUjXydrj15ZPPvhYfqeknJn6Os1TtKxZK4Xd9e22287KApOhgEW0a41by86bNJ/ERVmgFkXZcL+niDxNDw8Pj5UD107SoLnzpEmP1EJnkCTOv5PukOw+KtYBpZFUfpZKNNiuJC0S5CsTSQUi6I2s6khVvj2RCCBQ+Vkyc1owo3766acbcYEQQrAuvfwy2Xfffc0pazOYJRw2ZoSRBtQK3nnnHZttB6PXH2ekaOuttzZLSDkl+WatBLfRmc52JKerO/EAkG5mpwtKCuzLBkSsbHBZQMpV0CNHNQJi31TTZIMpZtjrFtdZMX700UdmVeTJJ5+UX/78l7YAlb03LrroIhuUJeO1116zRa4seGQxKQsc33//fdOlP/Kgg+TII4+Un/70p1JdXW3EmOfdAfr7pZdeMtJoKidJyFZCDUmHkI9Yc00j7XzpYXCCdRx02ktVGuvrzT0E1c3ss0D02KOPlmOPOcaEwQfWulhDdOyRR8kRRxwh11xzjc3Yo85SgF6/pgeiXjS41GbVuc4XJdJ4/yP329cAFuQyCGJwQ1omfzHZBh6TTjvD8k3c1157rYxZe5yZnUQVhjrOAGPK5C/ljDPOkJ8cfowcuP/+NvD96LOP5H//93/l6EOOlH1/8GNbxPrWq29IW1NLp6pNOTJw4Pjvf//bCDsDrJKKMksrkqfCVwLeNfajYNEqJL6hptb8maWy5mAXZHv34m1WH/gSgQ58h0FVBvCk3cPDY6UiQQO0PXPnUbLaayFMjxTwJdMnAcFScgLxO/DAA+WIE4+RfD3H4sSGG25oJA4Sg44vpErqlWSoMMv6wx/+0IjM1P9+aQR+0cwF5gY95pyy/EAf2GOZA1LmwKxzfqGWtT6W5vpmaW1sNbLLgCu7KFsKCgtk6Iih0trSasSS1/CLL76QbbbZRn7zm98YkcQ6y58u/5OMGTdGFs5aaKQ7KiwexT1kmme70UYTZMSIkbLzzrvYb+oHX2J49hDE5AEa9tOZ0V5rrbVk0NBh4dUIcrJMNYb7gAHjFltsIc8884x93UFdhnaa9Duy7gSdbwYcTrBOgzUXBpiEsemmm9qiUtJm6l2aH0ewKTMIPl+HWLwLkb7mymssjFhtoyxZvNjIPW6GDh5qbiDsDHL+ftdtsvl3tpCG6sAEJeGRHo7ovlP+lMu2225rXzyGDRpm7xMkm+vol5t+vD4/0mQSggERBJtFxagXEa+p7yjxZlDAwOhdHSyj68+AhoHaQTp44rkzaCFcBm0NOsjhvQYMnsvULenDxGXyM+oOfkdUD4+ViQzfPkgobu311uOA2BGVuPNypXL+fGlsajR9S1JCAuyYEUhtmhRrwa2w/PQKHXPK7qvYKaaBH7veeDO35kBxWW4TXrgQ8d8xqG7QXm7mTTuOHnnPANEdUVfXjg99VAc6Kotd6yy6pysPSxv3Upaa6WCF0LJwJAYCmJWdIzNnzJT1N1lfHnvgMdltrz2MLBgoM3VfuWCBLS6E9J100klGZE4+81T596NPyxVXXCFPP/ts4F7RqoQNMkOXb97DtFvb0ot8OG9LW4IrGpZTyz+iJ+E5oOwpH7cjKotBsf7CjHKCYEZwysk/t/f1yeeelObaYMEjz66gVAdVSkTXXXtdM6t4zPHHSN2SOikpL5Gqyiojs4SFFRYsi5x7/rlKqIPZ2OD5BPEkHwNQ6EH7DZHmi8xjjz0qpaUlwW0FYbhnHQVEE+JNnFgyMR3rqBPtN4459DAjzwcdcoj+zpVbb7jZZv5Hjx5tVnI21zTzLucqiTaEcUBgUcGS/KBO33XLHfLA/Q/Iw489ZmS2VQcypEnyckxNhjLFT6GWLzbiWRiLqcdTJv3Cyq560WIpR8c+bDdyivPkyIMOt/Ubr7z5mlmrwSINZV5eXi65BTpg0qRgstKB/JPnsmGB6ssXH09OWJtZa721gw2wFFa+pC2pvH5y7LGmwmLvkeZh3rdzZMSo1aV2cbW10bkl+fLgXffZVwZMaQ5efZh8/flUsxqDhbKJOli56P8ultrKaimtKDfdeadSxGDhuJ8cK+eed14ij+45B+/kCtwRlUxiRP7mm2+20SMPglEKwjnXuIeb3uj0eHh49H/QPC5ZtEgu/N8LZYMNN5RRY0fLaJVRY5adWHgR4XdflVFjR8nw1YfLxC0nmi1f9Eg9Vh0kEyyA5Y7ywvJA/zgkGIbQLZ/umVn/zvbbGgF84IEHbLYeFQcsWURhhMpjmYKZYNRi6hbVGRljNhjC3hZrkxeee8HUnJwqE8+3tTnYWCgnP8csi6AKss4661hjmEqdhd9R6YgsGTSowlRGghl/mF4gLFaN/nby6aefaZoWy8iRqyvhDBavRjF7+tc20w5BV2apDLjFrMXMnj/bVDnIb5MSZQg7izoh7+QHIf02MI/pgKKpxcgyZaM3pbmmMUh/oRaEJq1YBy355dhJD/T7qa/MkmP2sa0xLosXLJTyIYOlXv1TrqjIxDQMyovdrMkOakWopwwZPsxIsO26GovZwMDNtHO/bPAgqV+s6dBkMcsP0ec5MTPfAZp+TWTi3QKQZsxNonZTs3BJ8IXLuH2bpYtFqK++ysLhsTJ4tWE2MBmngwH8PP/K8/ZVBOAWMCjLKyowCzgMNtCD14TavUyxTGfa+XSB+SH0uHoCKi2bC6DE7+GxSiHDt89G3urWXm89DoSZdhaBZpUUyAtPPSNTp02TESNHBCnRBNABtCBhZ4CkBqltT3F04jlA0kz7CsxfZuiYYGba6Sj4jLvnXnslZmAAebPcJrxwIeK/Y1DdoL3czJt2HD3yngH8THsG6Gam/awzz7J+9Y133rZt0xMzgiGuvuoqm2298c5b5JG7HzQzdKjTMOvHZ/1fnX126FLhuno7Ms8e/A5m9XqeD+dtZT693sByqokOSkFPwnNA+UKJMp1pf/nFl0xn+h//+IepgIhyOlSRpk2ZZouIeQfYnAcddEcksadOu3bHHXfIOeedI3++/M+mi146qFRiDTFzkxyPQ3CdQg/aQ9Q3jjzyCPnoo2ARZ3R2HbfJ9A59eOJFDeeUSWcoudbERpzccfvtttgZ3fMf//jHtoETFm4wCUm6sYVuxFOvJ7fJLj7qLuX1jzv+IXf+40556KGHggXW6OjruLOlMWZlaYRdy4HFtFdpPb7uhuvkqiuvkhN//jNp1XThJkfDYTYbfw/cc59tPIUaEF+RmPHmy5NrV1KVGWmEJLfGdCSrYJDL5lA83w0mKBmPRwbCIcgDX0/Q4acMDjnkEEsfeuzN9U2WLlCs6f/gvffklFNOsa8Xf/jDH4JnUJwnN11zvZx+1uny+Sdf2JoSBjB8ScbiDmY9n3jwMfs69tijj8g45b8t4dcBl4fgnUw9075MSDsrpNm+l8JfGqCvRSExY+DhsUogw7dvIJF21yARGedGH+wYiCVAGy8aMNfRpWqQ21Pafq8zaU9Cd/f7CmiWw8GKa6IdaXd5yEpkNjy6nxnBCtnOzJuWb4+8ZwBP2jNAEmmHzPG8bbYwJ1cOO/Qw+33vAw+YPnLiPWDmTq8ffuihZjnmxNN/ZnrsLHqDcEGUUH/YNtVEmPoj3Z60I3oSngPKl/LOlLS3tbTazC+61XvuuafNxLK5Ulyf1b/+9S/7CgLp2nzi5jZDCymH2GF16sEHHrTw8GNrD/SZEjeSHI9DcJ1CD1LP7Pd11/1Nzjnn16Y/HYXLSxR8iWH2mc2CUEcpLytrz7yCSVf0rNH53nCjjWxhKl8JJn/4iX0ZOOSIw5Vgxqye2sAykk7ioozIT1Zerjz64EPy8Ycf246rlB9tmd0vL7aZeOpwLDRNyoJcZp/Re6cOY5LX1GzUWasOGrILcuWlf79gO4+6hdmoxHRVTg7cZ7CBfXTSC3n+2c9+Zuo+49YbL62NAZl3IC2kn/ePsgB8AWBAhs4+eeCZlg+pkIaaOqlcuFCef/5501tn4pm6AnDD4Pn7e+xha05IB+o0WXxpUFzxx8vkiSeekBdfedna+U7qMfZjOZH2O++80z4PLEugD8TKaA+PAY8M3z7rWNWtvdJ67K+k3ZHzABGyHh7rGxtsdX6uNvqY7aLBowOkgabBLSgukCWLllgDWFBUIM1NzdLY2CRlFaUyd9Y8GbnmCO0Imq1xzVZCxKIvGmsa7iFDB0tzTImPxa351AbSdTQczdax9hP1tfXWyRhx0jAcqcQN4SJ5RYH+ZFu81dJIR0hnTRhZOdlSXbVEysOFSXWLa6WkrNQKNtbQJPmFBVKzpFrKhpabKgMzUK2NgUk+++QckjMTi5j/AvA7TI2JpY1TnmPEXffoGJJG1jPvGcCT9gyQRNqpW4Dyqa6ukYkTt7BZvn0O3N/qUktNQACyeb+1bu+hZA+TjxAw/LINPJYrWGDHluujUHNw0PDb4Uk7x6Ul7XnaTt15x51G2plt32zLzaR6UbWUV+i7DfRxumcKHNlNBdy5+F08nIPkeC1guxTkoj0HPUOgRtMOF58DaWXzpyhIS5S0Oz8cyQPXaTtxE9wIDj1GcpZTgK0GOpdNO6LpS4Vkvy4PpH9pkapcqEeQfAYyWLLZTAcptPvYlY/CfGrS5s2bu+x02lktyye4ZU3YAWESNnF4eHgMDESbTiPp1mB2lIrBFUqCm+XBBx6SyZM/l+KyYtucZOrUaTJ9+tcye8Yc60ToTGd+O0uWQH6VsIORI0fInJlzbXYCXdJp06eZ3mNeUbDRx6LKxeaOdCBstqSttjTqYKBZiXKTkm+SwTmqOcmNfRYkXoUGOFbfJLO+nWmzUtgVdsJGN//96GMpHzZI6mprZea0GXYdW8FTv5xia3gWzl9ghL2+qk4+/e8n8o9b7gg6OOVhEHYH4k9OA3DpJ7FtAePyGCDgeWeXFkiWDgLR86U+OKsTi2ctNH1cdpcEH37wgekyo17KJ/nc8gL79D9n/hwbQI4aM4YA28VjmYMB/lFHH2WmOK+77jp5+P6Hg+fFuxyLW1sRRVeEHdC2QCLTkdB2qJtl8EiDNiZaRYJ22EkyYQdWRzWtHMlfEEaQGHc9QdhBxyAzlwzQXVm5dHUFl3YnYFkQ9mS4cmEt57333mvqRrYjrYKNqVKii6T3KnWQafS1eqq73hMQNnF44u7hMXCR3C59+slnppfLwJ0O7vlnX5Dvfe97pmd566232pcFzG5hxYDrV155pcSbWqRNuS67E7JiH3vAbCqD1QZmNN5/+wPtSAsSjbKDm4XhczWzaXxqXji/MrHLYKcOQd1C3OmomHVjQMAiLXQamWTAZjKL7Q844ACZ/sU0+8yKu7POOsvMi7G4lM+yWPm45oqrpbiixPJIXsnztM+nhhF1RHK6PQYoXH3Tuvyt1kVUGahDEHUWBGK+zghhYZYs0oEfFiuoPwwcG1hopzxp1113lXGjx5keLe48li9oO9gk6aJLLjKzm7QhDJhaG4IvcsmkPRM44h4Vj4EB+gPMdZ58ximJutHT9r1XpP2mm25aav31TEAcxOXh4TEwATlubmmfXeaTPrOLLDhiMSZ6lOiMXn755ab3iSoKBBfSzsp7Os3cArbNFtsZkEbxuOOOM4LMoJ8NMW688UZTQUHFhhmgqACID3GizoE9YhpRfjs9zKh7FhJxDXUYSBSbajB4+N3vfidXX3uNmdxD5xK3dLZraR5QzSEvN952k/z+97+3TU0g+LO/nmX6mwwuUP1BDSKKdLNyHgMPth281r22ppht2MNncexVY4mCOsfW8NbBNwaqXJiMC8z25ZoOcKymQcpXG2x17NhjjxV23/RYPnBkmvYLgt7W3CY/+tGPbNBeMbzC2iF7lj0kZD2GBQ+p7w2x7+eDgX44l/GTn/xE9j/sQBuYR9UFe4Iek3Z02JfnDHsyiIs4PTw8Bh7o9CDIecX5ZmXh888/t81j1l1vHSPkCHrRo8auaTPSEG8WrOOHResHH3ywNNXHpBkzYYsX23UWZOFv9VEjzSYvu+tN/+prySsMSI8TiBCdK24h4Ww6QnuTWxgsCEsm7AjXIdOkm0kF/LMoyvTTlWMz04lVADYnwfJBY0NDgrS3NMRlzVGjbM3OrHmzzPID/kePGyPnn3++7QjIwKGgrNDUe/DvZ9pWHTgSSB0r03p+2OGHy4k//amsowM7Z66Ruof5OWbcUYXhqw51DcJPPcZcHtdZ0KcV1vx4LD/wzKLtSXFRkbTUx22dRo4+S0RvJmj1shf9U/Ka1caxp4K/fiwpy6PvCHXAHZ1gHQyzkFiC4l3vDXrkCysxy0OHvTsQJ3F7eHgMHNDhQVohIrG6JpvlhvRCzGtr6qwTPPXUU2T7nbYzFRgsDLDADvf4O/nUn9mq/Xg4K/7uu++aVQRmJvOL8qRRw2QRJL8h+hB73EWFcKIE3RrS1va0JYP7EHzus208agiovuDnuX/928LaafedJSc/17br5nM5goUPQ56YHeTxY8bbjDtEC7JPurFQ8BgbkShQi0henOQxwKF1CvUrpBO4BvnjqO6Usyy1AOVuSwf1Hw1vVQPveyfopZxsHdizyNMVzjIV/ovCPUSOvRGPFQ3qTbdfUrt4NClah66BWceegs+/rJKNCtd6it7E7eHh0XcBSYYsQ1wx5fXVV18ZaUe/HMIMMWYjEGbSmXnGDRvGQOpLyoultblNhq42xM5pBDHRhSrNOuusLVWVS+TBBx+07aT5ZJ1fnNqusNuZkLUzqCSwFXXVomATDbYdx0IN1l6cGLHPy7GwGBDQ8LIV+aMPPiJ///vfgzU42qe2NrdYeBB23LDoiHhef+k/Zo4PEj9uvbXsGnadC8uLbCMO1IEWza20PFIGyWlefujAClageKTkT1102MsSjrAnnob+TifJSDw97nXhZtVBohS1LJa3uPg8+i94fplIZ2RM2tngoTd67HzCTkaqa92BuEmDh4fHwACz1sx2YwcXssvCTjaEgchC5LkPgS8oCrb2d3Z8IbJYiYFAQ7BNPUYJLgSZDTHOPfc3tlgVaw6YYUMXfva3c4zY45fwOWdnZtRr0IFHTx4zbyz+Qx0HW74HHnCgPPv0s1K5YKHpxDc1hLv6aadJOKjSQMxffPFFWyTLAMEWACps8aDGg8pNVU2V6dWfdtpptgHHTjvtJH+94VpprgvsHdfX1dlMPbsQYieYwYuR+UwQkiVnui4zOIdBxxDYe1+en/ADdHVtVYWRXBXXPZvw212z+3oWujO3y0Ta7AiIJxF+N3B+okik234FbqK/BzQSmQxOls33j0zFYyAgePVoe9vFXe/qmWdM2p2h+XRgdoiOCYsO6WbVo7PvuMX6AjNe3SGTNHh4ePQfQIKdlRW3vTTXIOwcTX1EWzC2c4/H47ZrMseRI0ca4bUZ8eJ8M7UIiZ40aZKR8HPOOUdefvllI+yEHd14BEKMWcidd97Z1G1QU2HmmwEDpBs1FazQcJ94IOax2iYpKC0MyHRLYEGLMA499FDbZZAdBi+55JKQrAdxoArDbPyRhx1p9rOxHHPLLbfYQsGqBYtNj588FpeVCDv7sYX3gkULrB0lHO51Td6DJj6K4HcmEkH40w7JfcRyFhsr9BNQ56hvPRUDn8Hz89nutoNkmWoUO5+GlopUEuox9tsVFTrTrXbkGhvzINk5bMCULTm5OYlzJ85NanH3cYsefaBLn4mwB4ETQB1lAIs4M6nujxQPOLh6q3nFSHjiLcRgeIhU76yVSy+ka3AvKqsqksuhb0n4Wiek/Z7+tv87w11vbx/1JNJYZrS5EraFsY6QDnQ0WEHg2BuwiIxOjZ2k0oHOkY7Uw2NAoNu3L4DNcvHu2o/+ubmSJUMDt9jCSLCNXjy4VF55/mU56OCD5c677zIzipAAZuGZea6oGCRnnnmWEXc2pnCgc8RNTn623HXH3TZD/txzz8mETTaS2uo62wWvpbldL5wwATrpEHnCHjp8iOm6s0nKIYccavrpv/jFL2wwkKVFWF9VnygP4kPVhYEE23kzQYHZvS233UqaahrD8HRwoBmMNTaZ6TfUYrDwcfrpp1sYpME1ua5jJg/gySeftAmMe+65R7bbZXtprG6QXAhf4NyQ/GyCjiCAnarbZDddA8dh4O6BLENEN1caoQOiVi1zhyixSd7gZcUiw3wX58k3k6fYM6X+sBA0+BqktC1NF8q96DMHdqbRBleC+N21FY+u094d7F3IybXBCYNMLDthOcnBsqPBr5RspUG0/K3VC88B9ZJn1dXmSjpcCV0GvllcuHLgUuzR/xA8O1dzrAmOtMOuKebK3Pnh5kq77Cz3PPSAXc+ItL/wwgtmED4dMBaPTiaLxajw2I7NBCwkO+igg2y2i21f77rrrvBOajCzhYk1D48BgW7fvgADlbTHtCMsKi2RLz7/XH704x/LFX++0mbHo7N7zGrvs88+NuP9xBPta1taW4NNPOhoIcase2HBesXgQRJXsh6PxzV7WQmC6MgTZINOODs/S+qWBCSMDZj2+v7eVp4X/uH30lDbqInUlFpiLeWGotJiaapvNGsvjzzyiOmgO9INbIvr8nKbiXz9tf/Y1uaQ8B/u/yPBzFdrPLBAAzgmBhI6SHhASS723lG12WjzCTYQCKxPmBND8rOJcgY7VbfJbroGjiOBL2N0T9pVSEI/IO2QdcyI3nbbbeEVh/TlRz5thjryoMyH/rTNvfSEo3sfVjx69vyjyaT+ki/qPwPW9dZZ19TR1lp3XWnU3/k6qNG3r4OfvgBX/hyXHWnvWTl6rMoI6gpfaYIjSNTAxBnHufPn9Y60s4sTlhLSgQYNu8U00pg46wn4dI19ZhabsRlKOjATxqdmD48BgW7fvgADlbRrL2ntRdmgcvmODvr32HMPOf+CC4xI0zQhWI867LDDjADTFrmOlSMdKbruqKjMmDHDFp9C7ocMHSzNTXFpU2IfBSQZMo8/OmPgCBWbMqEag21s0oT5tmTSgdtPP/3UdOC//PJLm2hg1nXYaquZsmFNVbWUDS6XBXPmy7XXXmvqMOw1gR47M5FRNUDyQHoYeGBn+8xJk0yf/fGnnpD66jobXAxs0q6wQVU/mGlX0vbqiy/amgk3086xu5l2pyaDOHf8j3oKR0caOzzIFYqePX+XSld3o0dwxGGH25HfRmj18srKWVewlAZJS5S/KwXXtvSWtLtfHh5dI6g7IKgv7b+5EvbE1kfOnddL0s6Cre4WoaKfDljA1Rtk6h/Tbdhx9vAYEOj27QswUEk7xFRyc6Qt3iJX//UauVlJLrPluYW5UrekzjpRdNX5gsdCTRowR/g4oqIAkWK9C8Rov/32s2sVwyqkNQYhDmayAU0dAmk3QqzCLCj+uAbBZsMadNkh7cOGDpUWTVe0PHBLW4iqDqQNc5Lowpud9rhIY32DEbr58+fbAtXKykoj7HxJjJIbBxuwKJGHEGy77bamcnPCz07UtIdfCtRNdNgQTQtIcAaFnfbo+eG4Y3qWJQYUaQcMoKivvFpUq7iWHbrM0YeQKZS0mz+8kv1eBLFSQbVBGBRTp1Wo3/zmyHvFteRBb18AySZRQRaCZ2DXFEtD2t1ZIjAPj1QI+9xEfQnrUoDuSXtGrSX65r0FLwHb+/LZF9l7773DO73D0qTFw8Ojb8FILMRY24njjjtO1lt3XfvqtmDOAikpLzG9dMw4HnXUUbLDDjtY5wkh4AjpzivIMxU7dpo76acn2Sw792KhRZlkkgxsoKBwZB0UlxSZJZndd9/dyDhgl1IIiCPbCHEzeMDtvvvua3GzOyWqLPW1wSADaziYjjz0iMNsEmLDDTe0uFKlpWL4YHPPmqGJEyfaF4VIa+7RR1BdXU1nJi2NjdJa2ySigyp+S0GO1NAn5ULoA6KqDzultMZiWi/rJa71yoBWVbxV6qpqpHZxjbTpIBPhPPp7+YrWyx4IdbOxuk4aa+o0v5otfcda9B1y9RtxxHeVhGab19eLly4lrCO9RUaknU6lt0BfHX1U9DwROjp+9xZLkxYPD4++A9e5Q44hQOVDBtkOpp988oltMvTNtG/snhNIOIA4I5DvViU9nKN6EmuKme6xbUykRJvwkWS46/hjVt5m0WJxs96CugOz385OuwPhQUxIA3Gx8A7BHSCM4pKShIUZy1MGmDlths3q8bXgpJNOSoTn0oh4rHyUDxsaEG+tB4bCHCWuNfLk/Q+bOVKwYOYsmT5lim2KNW/uXJmj15dUVcnnkycHZj0VrF2gzk/94gupq1xig0YGpqUVZQlznxz5WoMJ1GUhrh5xPlnTwtcf1l4sWLDALCAxEUa/St6Im69EDFKydECSlav51HpOHlEHq9U0o4b26KOPStW8SnsfEPKBuAGur7seHssHGZH2TMCMUirVFkyqJYMZMw8Pj1UL0S6c2QY3G2dEiHM97HvAfnLJH/8o33z9tZEd/HQlAAJdOqg0QarNqkdRnhEGSLmRB3WXSogTgsU5uuOoFKEOw7U8JeHx5niCeLjwIOcQfWbjOZIH4mUAEVOiXh+q9PBJvU0HFN2B3VEhathx33bHwJwl5eDKxqNvoLG6htGiPf9sfdazp3xji5GxIsRg7/knnzI1KNZDnHHGGdbHse4B9SAmqvjKjD+AxSEsJf3oRz8y8ozpxaa6RrnxppvksMMPl7v/+U/JLczTQWOhDeKo0+nEuYH8J9+zdRv5WWYBji9YfMlhTRhrQFB7ZdE3ewew2DtH35snnnjCrDcdcMABMmv6DFNbA2wchtsHHnzQvjSxJwL7rVD3Ed4/dgB170sC+pOa7Guzh0cUSe9Je6/ULTIi7TQGvYV1yBmgK9KfjKVJi4eHx8pF9NOgU6e2GXNm6JpbpLkxJmPHjjXzsViJMtKdQgwhsY01xIxMObUXVGNwY8RXhcWotiDV4la/eAuF660tSviVnDQ3Ndt5SXGJbUMe+MFhgOQ0IEbilHRBtjlC5kmHI/OA866EPLJGB732eGOwCyxkn3sOyXFGxWP5wj2nxBcQHahJUa6ZBaUvuv3ef8pqq68hTz/9jOyxx55y3wMPyhFHHCkLFi7U5/o7uf76G2SLLbZUYj9Ue1utn/pYd931ezrYbJY33ntL3njrTQ0zWwrKCmWzzTeTwqJCOf6E4yWm7wH213O0flHHnDBQRJglZ0IM8szvwuIiq3dRN8FC2WzbY2DkqNXN/OhCTdcVV1whf7vuOvnrtddq/dtN61G2jBgx0nbm/e53t9VwcuXDDz+STz751Gbai8pKZMcdd5KRI1eXY445VvLyC+TMs34lvznvfPP/zdffSpEOnPGXrXnkSJjo5lodpZry2vnq6uERgOY98UJEX4zIuXUB/FaJvDwZkXb0RHuLVLuYvvbaa+FZz7E0afHw8OgD0MbINUEQIkfaIblG6rsQFoG5cxa8mV8lJV0CwqXuwmavk7CIjGObxp18z0kUjsA5yQSZunOgLCgH588T876DNgZh+Vny8F332TNiNtoWpCr22msvm1FHbYaFt4MrBsvQoUMlp7DQZtRZZCxKzpmtR/1r3XXXle2+s52ZDSWM5oZm+fyLL2SMDlhLdQBnGx+Fkg6QdDdYdQPH6KCOemRqZZp0VLCGDx9u6zBYTFtXW2trQVBhtTByRb755hsZN26cWVEyM88EHW8z1Zh11lnHwscts/jkecKECXL33Xcb4QcuXgdqsRPQs7fBw2MgIlXvkuqaQ8d7GZF2rCN0B7fDaTJolNB/Q0+UT3CYZENftbfIJC0eHh4DA1ECkkwIeotlFc7yRn9I46qGeHWD7SXCJkITt/+OsVAWmPLF5Hvf/765wUQp1oJQm6GvxfgCO+waY83LMTOhmC7GxCh94eJFi+1Zv/fee2YpIleJP3AEPB1xZ0admXrg1nw4uMElwmJRJsvY8be4okTqq+rkCx0kTNxmC5uxp2+G2DPgYEb+wAMPtH0P5nwzm9GtWUtiN+JkMCBhTcYMJfv2XpHW8Ojrr4fHskdGpH38+PHhWc9Bg/Gvf/3LdPvQ93v22WfDO2INGTucsq03jVwmWJq0eHh49C3YrDnH4NAjRP2mEuCO/RaRqckBk6d+DBZpopICucbEJz0o6yrYMVUKsqVxUY3dR6c9qyBfmXRcBq85XPKKiqS1oclmrrHzv95665lpURaAvqNEOTc/V6ZOmSLbujVg2m8aCe6GtNsMeXibmXbAVyv88TUAv+i1ozvP+okNNthApn8xzfTx0XFva1K36obFptS1Dz/80Ppl9NXpu99//32bgYfgQ+ajAwGEPKAv//nnn9vCVQ8Pj+WLjEg7toi7g43UFT1RXznyyCNl5MiR9rnu8MODTRm6QyZp8fDw6Ptw5DpbyYKpv/RQon67lEg8/U6S0g+4Brlyvz2WLxxxdoJOOBZXmCmXcA8AiDEz8JB4VFCwvALBNZOOQImxMlzJzlNi3xC3zcAgz+usvY5sreSfmerKeQulob5B1l1nXWmuaw7UunKUsGNGMjvL9i5g4gtTo1hY+uUvf2n7F5xwwgly8L4HyYH7H2CTX9OnT0+Qd45G4HUwwd4C8xfNt2vsR/Dkk0/aDuYQb2bh+SrAQmoGJXxFWHOtUabSw5fyRXMrLe+YLk0m7WyoyOw9M/TJlRI/Hh4eyxYZkXaINfps6cAoHkC+R4wYYefdwS3UyhSkgbR4eHgMECwFCTUCyzGNuPD7pSTB5deQ4r7H8gdEtbahNrDlD6GOtybMOELS2QQMlRUWUxuSZsm/+PxzI870Y1l5ObLXD/aS/7z2mjz99NOyxuqry2AlwU026x084CWLq6yXZlNB9ivAQg2z22yqxgQZM/ru95Zbbml7BgBLjzvqmOGZZ56RQSWD5PTTT5eLLrpIzjvvPPOXXRisJ8kvKbDZdAYg6L0zAGF/lXfffdfUW4kLk82EFxVMm7Kjuc3UB2MFDw+P5YiMSDvYfvvtw7PUYLYAvXU+rWFKyum4RyUZ99xzj81aMPPwz3/+M7zaNbpLg4eHh4eHx/ICVmRy9A975owK3S6vbjHoG2+8YYR91KhRIrHOI6t33nnHJrUgumC33XYz0oyePJtrQfgJi2vomBtRbm61r9FsPobVmp/+9Ke21wlhYF7ytEm/MPOS6MgHew1km3/CsdluDefjjz+WTTfd1BbHMvO+//77yzY7ftcWkNrkmRJuZssJkzDYKGzXXXc12+533nlnkLZw07Eo8MuXBTYTsy8PxOfEw8NjmSNj0s4iFEb7XYEXF3uvrIxng5NMwKwE5s4Y+eMvHYg71UIYDw+P/oVod865++3OMxXQYfY5Genu9QNE85j8VQG4c/fboD9wmomk8L2CsTLj7h1KS0uN1KLHzSw7pBW1Eo5tdTH74sy6q9Lhg6XRiH3HPKLvzhfjrLxc84+6JwSfxatYYsG9M2uM2koUEHDTn8/PMjJPP8vGSLG6JiPqpAFrMrhzpB0hHPToUW8pG1wuzZrOMvUPUWdW374atLXJt99+G+zwW15iXwPQu2cAwgJZ1IHiSQtdCZt42bAJ2+02qx+VVQaBhargSL57Kh6rLtK1ganvZUzaAYtT0gG99muuuUYmTZqUsLselaVBd3F7eHj0H0SJKLDzHopr0lxYnYR76jC9OHd9TwD5cHDXgJ1zr03PVPhL5AaimIHg1flfOUIm+hcg7JDZ559/3n5DVCGuecXFcscdd5iKCUR6ztRvpXBwmblZAMHX8n77jTfsizT9ZG3VEtvEC+KL6UTs9EP2MT8K+ea6U0FJkGB+MwOvmD9vnpHoMUqWMV3qNgmLCu453n3XXTJ92jRZVFkpzfVNdr1ZBxqtzXHzx6ZPr+mg4YnHHzczkKjTlA8bZO7223dfiTU3yaabbGJx20BABwa1NTXK2rM03OkSa4ulXGtmaR/wCMo4OJLfnojHKg+rClqDotL+BqdEj0g7n8h23HHH8NeKA3ESt4eHx8BFtLnKSLTBS3m9p0I4fVUi6UxGh+vq1h0yFXy748qV/oPiIYPMvOMLL7xgv9Fnj8fjEm9osH7qqquukpNPPtlIeEttI6ZcjOhLXpaZK2YnUgwwlJaUmolGLLcceuihctNNN5lqqanFKBgIMGNupRN5aHYlLrLWuLXk+OOOT1xnUzB2JOXo3NliVr221ZZbyZ8u/ZMcecSRCfcIG4rl5eYZeWdR7Nn/c7YccfgReqNN6iprLIxjjj5G7rrjLhk9arTk5uRK1aLFUrukWgYNHWzkHrXXQ/Y/xBbWmioOAllfJQi7Q1igPc7yqlRGHp3B251COhB3pCN6RNrBUUcd1e2i1GUJ4iJODw8Pj2RAbF2f2Wvpo+jcXHv0BRx//PGml37pxReLFOZK4ZAyyS0sNCsqBx58sC3wdLrpkNgc1E9irTJK7x+hhH2HnXZSth+oljB7TVjMtvM7HZi5Rv2loaZOKoYNkWOPPTa80xmEZbP1Gj5qMcdpmomDa0auQzdO5YaFsQweWOiKOg0DCgYQWIfZb7/9zD2o0AFI6dByaWlslueeedbUfQ477DBLF2YlGaR4eHgsP/SYtIOTTjoprX77sgJxEJeHh4dHV4jOSQwk8ehbgDQ3VtXI0FEj5YILLjBd7+v/fI18/dlXrMgMSHeekmI2PIIY5+eFPiMoyg12Vo3FJa+k0PThmxqbjCQzY49qjJttBwkVGQVhQrpZP9bW3CKjxo4xspwO+CU8yDtHOw/Dc/Ek4gjJPGngS0Gye4BaTf3iWrn//vvluuuuMxOULKYl7SzS9fDwWL7oFWln9I3pqOU5407YxEFcHh4eHssNcJL+JB4rDcygM2uOuuall15qdtvdHiWgblGV1Cuptln26F5DIfFlsSpEGNWU5rrGgBAjrYG+utFmd83EvJk7R56x8GJhxAKinwrc554j3rZQNhKGA79txl+P6Lfjzs3ER+H8IthyX7BggU2oYTPeLX514Thx/jw8PJYdekXaAWQaM1PLQ8edMAnbE3YPD4/liv7IKTwPWilA/xxi2lRfb0c2ITrnnHPMfroyV8kOZ70dQYbcu9lrQ4TAKq21I+EgkF7TV+dyRKIEGPSUBOPeEXckVXiObLv7jrS7Y9Q9gxEsxZxyyiny/e9/P7wauI268/DwWD7oNWl3QN+chTfLQl2GMAjL67B7eHh4ePQphKQU4sqmQlKUJ7nlRUZ2m7C6kpsjJUMrpGzQICPCZsNdCXwyHEG3YxeyLJAqnOR4nGRKuKNfFaLnHh4eKwZLTdoBnwqxt87CmN6ozOAHv4ThrcR4eHh4ePRFQHAh7ehvt9Y1Sby6IUF8m+vqpRWTikribQYdFRm9bmR/gMxCR79+9+pLOMWhh4FRGh4eKx7LhLQ7sPkRai0XXnihrURnQwZmz9la2TVsnHONe7jBLX78xkkeHh4eHn0d9GOQcYg5BB5B193pdneYtY4Sdj2aX0VWdseZbiddgTBTzYanCsNJuvvJ6O5+V/Eno1XdOAncE1YggUVzFcJXaUsRj4eHR3pk6YvV/Zvo4eGxfJDh22emW9WtdXN6nD1rkWy2yabyne98R5584iGJNepFfZXz87Klvq5Z8kPLFc69Q3s3ieUIAuRmIM5tu5tVAFaw/RCRZLvH29OsBM87fO7LAVgY+dWvfmXb449YY43Elv8gSgxTkcQVh6WLu7vuM1XeILREG/WZHMqyKpNMu/fl9QzShWr3lmP96wpWIhopR4s9PAeUA2XGJljHH3+CzJgxU0pKSmxAhoWf7ERqA9869tIrYUgukB6B8FyYHh5hXQzr5Nz582SrrbaSnXbeWe55+D7uLNuZdg8PDw8PD4+uATG0P45dyLJCqrBTiYeHR/+AJ+0eHh4eHh4eHh4efRyetHt4eHh4eHh4eHj0cXjS7uHRLxHoUYYacIJCZbsuXHiucNcSYgj9JSlhOrfh3eUufQKJMulHCNPcoRx7kQ/zu4KeN0h1fVUU0F+XUixLWFmsoPoXFRenh0d/hCftHh79FZGO3zqkBHFnU5dW/R0eJSLhdefWEXzXiQX+V4z0GeKSlK4+Lwr3vAx6LfrbPc/uBNgxOfxVTZYGqcKLSgq4ep/8LAYionlMFmDH5DJbzpKIm98eHv0MnrR7ePQHuJ4mRFubEm+V9tlyjip0ShByI+XhX/g7mI1vd2d+w44s8KdHRehiuQsgzlT3vKQX97xc+YGU97qTiL9lJewcikSvgejvPiWpyiVTSRVeVFL4AdxLgGsDWbqAK4MO5bUCBLjnQPoS10JLOyzMZcOsjj6i6OJ6mrymgwvNixckWicxJ5sMb/LRw2NloqdvX/hmf/PNHNuIbKcdd5B7771X2rSTaYm3SH5entmPjsfjZqKMzifbWYdQf+39ShBxYK6sHfD4FYle9nPLECs/Bb1B9DHZeaShB5k+xuTnv7SIxWIyeOhQTUCb3HrLLXLxxRfLU089JetuvIEsmrNAhgwZQk8ksYYGqaurk/Ly8tDnSsKyzX5mSFHlVkYyVgT6+tuVqtwx70ibetppp5nJx2gugvZR/+OEg13FcGSqkDIBIfT1UvJYkXA1iYFlbW2trLXWWrL3D3+YMPnoSbuHx8pET98+dc8E+9Sp38rWW29l8sTjj0t+fo60tohKq+TmZGvPE7pPhXRx+tag/yG5z19ZHMBNTjI5FBf55913yxm/OF1eeukl2XDDDW3r/8LSYqmuXGxk3Xc9AQZ6KfRVSpqq3JnkyC3Olwf/eb8cccwRUltVF95pR5CfwHdgt53zMLSeZtam/PtqCXmsDCS+AikWL14sa6+zjuy1116etHt49An09O1T95DzKVOmy4477iB77PF9ufzyy/V6m22tXltTYx1PUVGRzbZH4WbRo11E8sz6KtV9WN77d45dA09WUp13j6QKsBQgypaWFokpOc/Pz5c333hTrv7LX+T3v/+9bQJGfWyoqze3w4cPt9/Mtnt49AXwhRKhDt+tA052a//yy6/Cux3hZtYTM+9I5P2LHtMDTxm/rB6rGD777DM5+uijZeutt/ak3cOjT6AXb1+rcvFp076WH/zgBzJ7zqzwqutA0ncBUZLu3KW6tsogc3bb96BJ59GZhNng6K51C/OTkcuMQFfSGm+RuFbQ4cOGS+XChVKg5N1FkSjp1uCCudcBpp2Hfx4eKxO52bk2+UHdrG+sT1Mj23dydTuigvaz9mN6EErizfDw6IA1R6whs+bNkv1/vL/c85CSdq0qnrR7eKxM9OLta2sRWbBgkVx99dUyddqU8Covc3gMDinhSXsS+jFpTxD0MAsdCHt43j0yc5UJXElG69Og8nLTy6ytrtGo2uwLUFFBod2Lx+NGjvyOnB59Da5OZmUFtjo619H2Sp5M2jN/9wDh+vrvkRrV1dVSmF8gO+ywg/z8jFOtqnjS7uGxMtGLtw/STh9SVVUrZeWl4VVe5vAYHFIiSqg6wbcE/Q/hw+4dYV/2iNa9aH20675+efQ3JF6qCDpVZj2HRkUqvxtIdwtzmKljj1UJNlDUemUqh7GYFJUXB9c9affwWInozduHRgHvsx7x7t7gTEh7FObOv/39twzCB700hD1jctEFkicgqYPRSzZPyYWljMfDY4WjN+2Cr+ceS4OkOtdY2yiFJYXS3BCTvKJ8q1+etHt4rEz05u1TPyxGtYE4P8Mw0s6iK1L1J9358ejbsOcfPlh7lGGdyBTLg7TbMTgEE5A9SZCHxwpEcv116HCd82R3yXW6i3A8PHqMbtpLT9o9PFYmevn22b5KmXQmHqsOVgJxCNeRdgJ105Lj0uTrpUdfRBf1N1Fve/NO9caPx6qLnrSN6taTdg8PDw8PDw8PD48+jmBptIeHh4eHh4eHh4dHH4XI/wN2QTJGX+KAYgAAAABJRU5ErkJggg==)"
      ]
    },
    {
      "cell_type": "code",
      "execution_count": 29,
      "metadata": {
        "id": "nVsM6UVYZvqP"
      },
      "outputs": [],
      "source": [
        "def evaluate_classification_result(y_true, y_pred):\n",
        "    # DIY\n",
        "    # (1) Compute TP, TN, FP, FN\n",
        "    # (2) Compute and print Accuracy Precision, Recall, F1\n",
        "    # (3) Print Confusion Matrix\n",
        "    # Hint - access i-th elements of each input with y_pred[i], y_true.iloc[i]\n",
        "    true_positive = 1\n",
        "    false_positive = 1\n",
        "    true_negative = 1\n",
        "    false_negative = 1\n",
        "\n",
        "    # Your code here\n",
        "    for i in range(len(y_pred)):\n",
        "        if y_pred[i] == y_true.iloc[i]:\n",
        "            if y_pred[i] == 1:\n",
        "                true_positive += 1\n",
        "            else:\n",
        "                true_negative += 1\n",
        "        else:\n",
        "            if y_pred[i] == 1:\n",
        "                false_positive += 1\n",
        "            else:\n",
        "                false_negative += 1\n",
        "\n",
        "    # Accuracy\n",
        "    print(f\"true_positive:{true_positive}, true_negative:{true_negative}, false_positive:{false_positive}, false_negative:{false_negative}\")\n",
        "    accuracy = 100*(true_positive + true_negative) / (true_positive + true_negative + false_positive + false_negative)\n",
        "    print(\"Accuracy:\", accuracy)\n",
        "\n",
        "    # Precision\n",
        "    precision = 100*(true_positive / (true_positive + false_positive))\n",
        "    print(\"Precision:\", precision)\n",
        "\n",
        "    # Recall\n",
        "    recall = 100*(true_positive / (true_positive + false_negative))\n",
        "    print(\"Recall:\", recall)\n",
        "\n",
        "    # F1\n",
        "    f1 = 2 * (precision * recall) / (precision + recall)\n",
        "    print(\"F1:\", f1)\n",
        "\n",
        "    # Confusion Matrix\n",
        "    print(\"Confusion Matrix:\")\n",
        "    print(\"Pred\\t0\\t1\")\n",
        "    print(\"Actual\")\n",
        "    print(\"0\\t\", true_negative, \"\\t\", false_positive)\n",
        "    print(\"1\\t\", false_negative, \"\\t\", true_positive)\n",
        "    return accuracy, precision, recall, f1"
      ]
    },
    {
      "cell_type": "code",
      "execution_count": 11,
      "metadata": {
        "colab": {
          "base_uri": "https://localhost:8080/"
        },
        "id": "_QIVJwwmaPVH",
        "outputId": "01072c36-b763-490c-c291-e2af04adb70d"
      },
      "outputs": [
        {
          "name": "stdout",
          "output_type": "stream",
          "text": [
            "true_positive 23, true_negative:738, false_positive:4, false_negative270\n",
            "Accuracy: 73.52657004830918\n",
            "Precision: 85.18518518518519\n",
            "Recall: 7.849829351535837\n",
            "F1: 14.375000000000002\n",
            "Confusion Matrix:\n",
            "Pred\t0\t1\n",
            "Actual\n",
            "0\t 738 \t 4\n",
            "1\t 270 \t 23\n"
          ]
        }
      ],
      "source": [
        "# Inference on test set\n",
        "y_pred = [keyword_classify(text,keywords=['million','millions']) for text in X_test]\n",
        "acc_rule, prec_rule, rec_rule, f1_rule = evaluate_classification_result(y_test, y_pred)"
      ]
    },
    {
      "cell_type": "markdown",
      "metadata": {
        "id": "1WGA4orpLzLT"
      },
      "source": [
        "### Naive Bayes (without smoothing)\n",
        "The Naive Bayes classifier is a specific type of Bayes Classifier that makes a strong assumption: it assumes that the features of a data point are conditionally independent given the class label. Despite this \"naive\" assumption, which rarely holds true in real-world scenarios, the Naive Bayes classifier often performs remarkably well in practice. It is particularly well-suited for high-dimensional data and is widely used in text classification tasks such as email spam detection and document categorization."
      ]
    },
    {
      "cell_type": "code",
      "execution_count": 12,
      "metadata": {
        "colab": {
          "base_uri": "https://localhost:8080/"
        },
        "id": "KvSB5b_VL1ib",
        "outputId": "2dc510a2-0441-4251-e7db-522b27d817ca"
      },
      "outputs": [
        {
          "name": "stdout",
          "output_type": "stream",
          "text": [
            "Counter({0: 2930, 1: 1206})\n"
          ]
        }
      ],
      "source": [
        "def train_naive_bayes(data):\n",
        "    class_counts = Counter() # Counter extends dict, providing useful methods for counting word occurence\n",
        "    word_counts = defaultdict(Counter)\n",
        "    vocab = set()\n",
        "\n",
        "    for text, label in data:\n",
        "        class_counts[label] += 1\n",
        "        words = tokenize(text)\n",
        "        for word in words:\n",
        "            word_counts[label][word] += 1\n",
        "            vocab.add(word)\n",
        "\n",
        "    return class_counts, word_counts, vocab\n",
        "\n",
        "data = list(zip(X_train, y_train))\n",
        "class_counts, word_counts, vocab = train_naive_bayes(data)\n",
        "print(class_counts) # class 개수\n",
        "#print(word_counts[0])\n",
        "#print(vocab) # 단어의 vocab set"
      ]
    },
    {
      "cell_type": "code",
      "execution_count": 13,
      "metadata": {
        "colab": {
          "base_uri": "https://localhost:8080/"
        },
        "id": "8ZMsi7TTg6Jl",
        "outputId": "623ccc48-850b-460b-ed7f-88a762912d88"
      },
      "outputs": [
        {
          "data": {
            "text/plain": [
              "34129"
            ]
          },
          "execution_count": 13,
          "metadata": {},
          "output_type": "execute_result"
        }
      ],
      "source": [
        "len(word_counts[1])"
      ]
    },
    {
      "cell_type": "markdown",
      "metadata": {
        "id": "jmupuTr7N9_7"
      },
      "source": [
        "![image.png](data:image/png;base64,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)"
      ]
    },
    {
      "cell_type": "code",
      "execution_count": 14,
      "metadata": {
        "id": "lSPz2tpPxs_0"
      },
      "outputs": [],
      "source": [
        "def calculate_probabilities_ns(class_counts, word_counts, vocab):\n",
        "    total_docs = sum(class_counts.values())\n",
        "    class_probs = {label: count / total_docs for label, count in class_counts.items()}\n",
        "    word_probs = defaultdict(dict)\n",
        "\n",
        "    for label, words in word_counts.items():\n",
        "        # DIY\n",
        "        # compute conditional probability for each world: P(w|c)\n",
        "        # word_probs[label][word] = (condition probability)\n",
        "        # Your code here\n",
        "        total_words = sum(words.values())\n",
        "        for word in vocab:\n",
        "          word_probs[label][word] = words[word] / total_words\n",
        "\n",
        "    return class_probs, word_probs"
      ]
    },
    {
      "cell_type": "code",
      "execution_count": 15,
      "metadata": {
        "collapsed": true,
        "id": "ebxqleBfx3X9"
      },
      "outputs": [],
      "source": [
        "class_probs_ns, word_probs_ns = calculate_probabilities_ns(class_counts, word_counts, vocab)"
      ]
    },
    {
      "cell_type": "code",
      "execution_count": 16,
      "metadata": {
        "colab": {
          "base_uri": "https://localhost:8080/",
          "height": 430
        },
        "id": "xulHg_8fOFbb",
        "outputId": "fd506b2e-2cb7-4d25-f976-ba931a8a7f4a"
      },
      "outputs": [
        {
          "data": {
            "image/png": "[encoded data removed]",
            "text/plain": [
              "<Figure size 640x480 with 1 Axes>"
            ]
          },
          "metadata": {},
          "output_type": "display_data"
        }
      ],
      "source": [
        "# bar plot for class_probs\n",
        "plt.bar([\"0\",\"1\"], [class_probs_ns[0], class_probs_ns[1]])\n",
        "plt.show() # class imbalance!!"
      ]
    },
    {
      "cell_type": "markdown",
      "metadata": {
        "id": "_0Y2ZEl0OI6b"
      },
      "source": [
        "Now that we have P(w|c) for each class c and word w, we can examine the strongest predicting factors."
      ]
    },
    {
      "cell_type": "code",
      "execution_count": 17,
      "metadata": {
        "colab": {
          "base_uri": "https://localhost:8080/"
        },
        "id": "KfKgCsl_OOLb",
        "outputId": "fa527e0e-fbb4-472e-97de-b3f62e84bd08"
      },
      "outputs": [
        {
          "name": "stdout",
          "output_type": "stream",
          "text": [
            "0.00838747487223437 \t subject\n",
            "0.00561475590620648 \t 3\n",
            "0.005066513747014601 \t com\n",
            "0.004782940216398112 \t _\n",
            "0.004215793155165134 \t http\n",
            "0.004033045768767842 \t 2\n",
            "0.0038818065524390474 \t 1\n",
            "0.0038250918463157498 \t company\n",
            "0.003283151321137571 \t 00\n",
            "0.0032453415170553726 \t e\n",
            "0.003226436615014273 \t 0\n",
            "0.0030373875946032806 \t www\n",
            "0.0027790206000415907 \t information\n",
            "0.002640384651740196 \t email\n",
            "0.0025899715796305982 \t price\n"
          ]
        }
      ],
      "source": [
        "# Top-15 words for Spam (Class 1)\n",
        "word_probs_spam = sorted(list(word_probs_ns[1].items()), key=lambda x: x[1], reverse=True)\n",
        "top_spam_word = word_probs_spam[:15]\n",
        "for word, prob in top_spam_word:\n",
        "    print(prob,'\\t',word)"
      ]
    },
    {
      "cell_type": "code",
      "execution_count": 18,
      "metadata": {
        "colab": {
          "base_uri": "https://localhost:8080/"
        },
        "id": "dLuygyQeOPsb",
        "outputId": "38aa71d0-cc26-4dd5-f653-fc0027ad67a3"
      },
      "outputs": [
        {
          "name": "stdout",
          "output_type": "stream",
          "text": [
            "0.034796794374912836 \t ect\n",
            "0.018233533225441325 \t hou\n",
            "0.016394612318499802 \t enron\n",
            "0.01633299063026014 \t subject\n",
            "0.01103028219489967 \t 2000\n",
            "0.007530818952236705 \t com\n",
            "0.00723892674478567 \t gas\n",
            "0.007099467134559064 \t deal\n",
            "0.007018385965822666 \t please\n",
            "0.006042168694236426 \t hpl\n",
            "0.005996763239744043 \t meter\n",
            "0.0059156820710076444 \t cc\n",
            "0.005880006356763629 \t pm\n",
            "0.005211897526375704 \t 2001\n",
            "0.005056221682401819 \t 1\n"
          ]
        }
      ],
      "source": [
        "# Top-15 words for Ham (Class 0)\n",
        "word_probs_ham = sorted(list(word_probs_ns[0].items()), key=lambda x: x[1], reverse=True)\n",
        "top_ham_word = word_probs_ham[:15]\n",
        "for word, prob in top_ham_word:\n",
        "    print(prob,'\\t',word)"
      ]
    },
    {
      "cell_type": "code",
      "execution_count": 19,
      "metadata": {
        "colab": {
          "base_uri": "https://localhost:8080/",
          "height": 36
        },
        "id": "Uy6Rviv8icpt",
        "outputId": "17057b8c-1e02-4d9e-f7fe-38a80f0db426"
      },
      "outputs": [
        {
          "data": {
            "text/plain": [
              "'ect'"
            ]
          },
          "execution_count": 19,
          "metadata": {},
          "output_type": "execute_result"
        }
      ],
      "source": [
        "top_ham_word[0][0]"
      ]
    },
    {
      "cell_type": "code",
      "execution_count": 20,
      "metadata": {
        "colab": {
          "base_uri": "https://localhost:8080/"
        },
        "id": "FbrYEs19OUWt",
        "outputId": "359ae17e-0179-4f41-e0ee-b08169a502cb"
      },
      "outputs": [
        {
          "name": "stdout",
          "output_type": "stream",
          "text": [
            "0.003567143805273945 \t http\n",
            "0.002621847302267594 \t company\n",
            "0.002599549283426728 \t www\n",
            "0.0025708818181042867 \t font\n",
            "0.0025035130743065606 \t statements\n",
            "0.002268588244931911 \t nbsp\n",
            "0.0019030934721373251 \t pills\n",
            "0.0017841675098838265 \t email\n",
            "0.0016414832308261794 \t 2004\n",
            "0.0015395479296957104 \t size\n",
            "0.0014544840762690074 \t money\n",
            "0.001449375823150943 \t td\n",
            "0.0014309576870976046 \t within\n",
            "0.0014068438964375915 \t investment\n",
            "0.0013758324046675586 \t 3\n"
          ]
        }
      ],
      "source": [
        "# Top-15 predictors: words with largest P(w|spam) - P(w|ham)\n",
        "# DIY\n",
        "# diff_word_probs is a list of tuple (word, prob diff)\n",
        "diff_word_probs = [(word, word_probs_ns[1][word] - word_probs_ns[0][word]) for word in vocab] # Your code here\n",
        "top_diff_word = sorted(diff_word_probs, key=lambda x: x[1], reverse=True)\n",
        "\n",
        "for word, prob in top_diff_word[:15]:\n",
        "    print(prob,'\\t',word)"
      ]
    },
    {
      "cell_type": "markdown",
      "metadata": {
        "id": "T2Fqi0ASOWVk"
      },
      "source": [
        "Now, let's implement the classification with conditional probabilities."
      ]
    },
    {
      "cell_type": "markdown",
      "metadata": {
        "id": "_o5Y10hhOYK0"
      },
      "source": [
        "![image.png](data:image/png;base64,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)"
      ]
    },
    {
      "cell_type": "code",
      "execution_count": 21,
      "metadata": {
        "id": "9Hif5neEdH-2"
      },
      "outputs": [],
      "source": [
        "def classify_ns(document, class_probs, word_probs, vocab):\n",
        "    words = tokenize(document)\n",
        "    scores = {label: class_probs[label] for label in class_probs}\n",
        "\n",
        "    for label in scores:\n",
        "        for word in words:\n",
        "            # DIY\n",
        "            # compute score for each label, using word_probs\n",
        "            # hint: you should handle the edge case where 'word' is not in our vocabulary (i.e. unseen word)\n",
        "            scores[label] *= word_probs[label].get(word, 0)\n",
        "\n",
        "    return max(scores, key=scores.get)"
      ]
    },
    {
      "cell_type": "code",
      "execution_count": 22,
      "metadata": {
        "colab": {
          "base_uri": "https://localhost:8080/"
        },
        "id": "lxMJswZse7g2",
        "outputId": "9d7a0dfc-4e44-41b4-839b-5c2454a5c54b"
      },
      "outputs": [
        {
          "name": "stdout",
          "output_type": "stream",
          "text": [
            "Spam\n"
          ]
        }
      ],
      "source": [
        "# Example\n",
        "result = classify_ns(\"Win a free coffee now\", class_probs_ns, word_probs_ns, vocab)\n",
        "if result == 0:\n",
        "    print(\"Not Spam\")\n",
        "else:\n",
        "    print(\"Spam\")"
      ]
    },
    {
      "cell_type": "code",
      "execution_count": 23,
      "metadata": {
        "colab": {
          "base_uri": "https://localhost:8080/"
        },
        "id": "EbPkGFYCfJNX",
        "outputId": "41efdf0d-f09e-4bd4-c9ef-199914b06b80"
      },
      "outputs": [
        {
          "name": "stdout",
          "output_type": "stream",
          "text": [
            "true_positive 32, true_negative:739, false_positive:3, false_negative261\n",
            "Accuracy: 74.4927536231884\n",
            "Precision: 91.42857142857143\n",
            "Recall: 10.921501706484642\n",
            "F1: 19.51219512195122\n",
            "Confusion Matrix:\n",
            "Pred\t0\t1\n",
            "Actual\n",
            "0\t 739 \t 3\n",
            "1\t 261 \t 32\n"
          ]
        }
      ],
      "source": [
        "# Inference on test set\n",
        "y_pred_ns = [classify_ns(text, class_probs_ns, word_probs_ns, vocab) for text in X_test]\n",
        "acc_ns, prec_ns, rec_ns, f1_ns = evaluate_classification_result(y_test, y_pred_ns)"
      ]
    },
    {
      "cell_type": "markdown",
      "metadata": {
        "id": "24f160hwfXrA"
      },
      "source": [
        "### Naive Bayes with Laplace smoothing"
      ]
    },
    {
      "cell_type": "markdown",
      "metadata": {
        "id": "jW0Zpfm9OinE"
      },
      "source": [
        "![image.png](data:image/png;base64,iVBORw0KGgoAAAANSUhEUgAAA2sAAAH7CAYAAABSTAf6AAAAAXNSR0IArs4c6QAAAARnQU1BAACxjwv8YQUAAAAJcEhZcwAADsMAAA7DAcdvqGQAANAMSURBVHhe7N0HuBNFFwbgUUGQXkVAqVKULj9NQHrvCkgTpFlpIog0ERFRpEkXRVC6UgQBQUCkIyJSpfcuIF1BxP33mzsbNptNuzfJTXK/93kWstlN25Q7Z8/Mmfs0nSAiIiIiIqKwcr/6n4iIiIiIiMIIgzUiIiIiIqIwxGCNiIiIiIgoDDFYIyIiIiIiCkMM1oiIiIiIiMIQgzUiIiIiIqIwxGCNiIiIiIgoDDFYIyIiIiIiCkMM1oiIiIiIiMIQgzUiIiIiIqIwxGCNiIiIiIgoDDFYIyIiIiIiCkMM1oiIiIiIiMIQgzUiIiIiIqIwxGCNiIiIiIgoDDFYIyIiIiIiCkMM1oiIiIiIiMIQgzUiIiIiIqIwxGCNiIiIiIgoDDFYIyIiIiIiCkMM1oiIiIiIiMIQgzUiIiIiIqIwxGCNiIiIiIgoDN2n6dRlIiIiChO3b98W69evF0mSJBHlypVT11Ko4T24fPmyyJkzpyhYsKC6logoNJhZIyIiCjPbt28XhQoVEnXr1hXDhw9X11J8uHLliujQoYMoWrSoaNmypbh27ZraQsuWLRMDBw4Ud+/eVdcQUaAxWCMiIgojHTt2FKVLlxZHjx4VnTt3FrNmzVJbKD4gYF64cKFIly6dmD17tsidO7fYtm2b2powrVy5UtSpU0fUqlVLTJo0Sfz3339qCxEFGoM1IiKiMHD8+HHRuHFjMXnyZHH//feL1atXi6FDh4qkSZOqPSi+IHg+ePCgKF++vLh48aIoVaqUGDlypNqacOAziSCtWrVqYunSpfK6ZMmSyf+JKDgYrBEREcWzw4cPy3Fp8+fPFylSpJCZC45TCy+pU6cWS5YsEVWqVBH//vuv6N69uxg8eLDaGt1WrFghX3flypUdQRoRhQaDNSIionh05MgRUaNGDXHq1CmBml/Tp08XTz/9tNpK4SR58uQyoM6aNatc79evX1SPKVy7dq2oWrWqaNGihTh58qS6lohCicEaERFRPLlw4YIM1JBZg759+4r69evLyxSeUqVKJebNm+fontqjRw8xYsQIeTna7N27V34ef/nlF7F//34xdepUkShRIrWViEKBpfuJiIgCYNWqVWLXrl2idu3aIm/evOpa9+7cuSNefvllMWXKFLmePXt28dtvv4m0adPKdQpvnTp1EuPGjZOXH3jgATmeC2PaohkKieTJk0dmgw2PP/64+P3330XixInVNUQUSMysERERxRGCNBReeOutt8Sff/6prvUMWQojUIM333yTgVoEGTBggAywAaXrX3rpJXHz5k25Hq3uu+8+WWyFiEKHwRoREVEc3Lp1S7z22msyU5YhQwaRL18+tcU9lOVHcGZAo/+FF15QaxQJMmbMKMesGfbt2yenXYhmCNZ8+XwTUeAwWCMiIooDzDO1fv162UUMXSC9Zccw+uDVV18V169fV9cI0b59e5EmTRq1RpGiUaNGTu/3nDlz5Gch2DDNAzKzWM6ePauuDQ1UwiSi0GGwRkREFEsoutC7d2+1JuT8W95gbNPy5cvVmv6H+P77Rb169dQaRRJMlI1qiQYE7O+99574559/1DXBgYIfbdu2lcvu3bvVtUQUjRisERERxQK6MtasWVP89ddfch1V8jAPlSdozFvn5ipcuLBcKPKgW+Czzz6r1mJgTrIff/xRrQUHCpoYzJeJKPowWCMiIvITshmVKlUSx44dU9cIUbBgQZEtWza1Zg9ZtZ9++kmtxShRooTMrlFkKlSokHjooYfUWoyxY8eqS0REccPS/UREEeLq1atix44d4vvvvxeXL1+WY5/QSERWplatWiJz5sxqT//hvjDp7cKFC8XBgwdlxgALgo8GDRqIHDly+H0GH5M8f/311+LEiROyKEHjxo1lUYZg+uOPP2Q1xh9++EE8+OCDcjJfzItlhWIQKLV/6NAh2ZUNGbEyZcp4DZrwHowaNUpmx1BQxAzd3/r376/WXOEYt2rVSsycOVNdE+Pzzz+XY9ZiCwVO8J6tWbNGfgYwL5avZdTRXe+bb76RWUGMv8IxcwePgX3x2WvatKn43//+Jz8jkebSpUti3bp1cmzZjRs35PuC112tWjXZpTFZsmRqT9/gc4DPNzKtBnxXNm3aJAPxYFiwYIEjo4fPsbeMbiC98847YtCgQWqNpfuJgk7/kSIiojD2448/arVr19aSJk2Kk2ty0RtGmh6EaHpwoekNZk1vYGpDhw5Vt/CdHtxovXr10nLmzCnvy7h/86I3PLWyZctqGzduVLfy7OzZs1qnTp00PZB0uh+94ar9/fffai/39ManVqVKFS1Xrlya3hCUt/v222/V1hj//vuvduDAAU0PLjU9SNIqVaqkPfroo5re6JbHA4+XO3duTW+Mq1vEOHLkiNauXTtND06cnhuWvn37qr2c6Y1xbeXKlVqdOnW0FClSuNzOWDJkyCCPY/bs2bVSpUppu3fvVvcQQw8SND1YdboNju3WrVvVHr7RgzN5m2HDhmkVKlTQ0qRJ43jvUqdOrV28eFHt6d3EiRPl7fC6rly5oq51tXPnTi1lypSO541jPGLECLU1/OlBqTZt2jStePHiTu89Pi/m9xTv4RdffKFu5Zv//vtPe/nllx33YSx64K72CLz58+c7Hgffl1DC6zK/TnxHcXyJKDgYrBERhakdO3ZoVatWdTSK0CBHwLB69Wrt8uXLch8EBAUKFHDsM2DAAHm9N3fv3tUGDx4sG/rGbbNly6b169dP++GHH7S1a9dqr7zyilPDFpdnz56t7sEegiEETcZtzAue/759+9Se7j3//PMut12yZInaGtM4xnFJkiSJbdBlLM8995y6RQwEOOnSpbPdFwuC38OHD6u977l27Zps5CP4xGMiMDYCQmPBOhr+xoKgzRqELViwwOV2CIAQ3PoC71mHDh2c3jO7BQGsL/BeGYEKXtPRo0fVFlcIDK2Pg2DYl+A7vuF7lD9/fsfzxomOVq1aadu2bZPvLfz2229awYIFHfvMnDlTXu+rbt26OW5rLIUKFQpaEMNgjSjhYLBGRBSGRo4c6XTGH1mm33//XW119uWXXzr2QzCBxqkne/bs0f73v/85boMAonPnzi5ZKJg7d65jPywIjubMmaO2OkPjH1kl7JM5c2aXwMSXYO369evyPsy3e+yxx1yyPuvWrdMWL16s7dq1S3vjjTec9jcWc4MbgROyTsY2a9bPWGbMmKFu4QyZPGNBIGsNEpHZM+9jp3nz5k63wVKxYkW11TsEqRs2bNDeffddbdKkSVrv3r1tM32tW7dWt3DPLhuE99odBMt2mVcci3CFAMKaRW3ZsqV27NgxtYczBMLGfsjm+gPHx7itseBxt2zZovYILAZrRAkHgzUiojBy9epVrUmTJk6NoUaNGmknT55UezhDRiBr1qxO+yOIcQeBHQI68/7NmjVTW10h8ChdurTT/ng8dOkzQ4YF2SR01ezRo4d28+ZN2y5/3oI1dDfEfubbIZvoyZkzZ1yyTQjGjGOGQM3owoegd/ny5TL4e/LJJ51ug8VdsGaG12e93YQJE9RWewiOypUr53K7evXqqT1iB11krYFjgwYN1Fb3cJzNt8HiKVgDBIjm9wbH/MKFC2preEHGGV1Rza9v0KBBaqurWbNmOX0vcExxIsBXyNKZH8tYvvnmG7VHYDFYI0o4WH4qwPRjKjZu3Ci+/fZbOVAfC6p/YUAzEZEnKNyA+bZQxMGAggd6w0w8+uij6pp79IBIFtA4ffq0usazadOmiXbt2onbt2+ra4QsUjBlyhS15kpvnIvmzZurtRh4PEz+a0CBi5dffln+ztWtW1cMGTJEFlew/u7lz59f6MGSWrOH13r37l21FuO5555Tl+zpAYPQgy+1FqNYsWLymOG1NmzYUBbSQEEMzE9VvXp1WZhFDzbU3jHuu+8+kT17drVmTw9e5X2Y3X///V5L76PYit6gV2v32BU/8QcqUhYtWlStxcDzsx4Pq4EDB6pLvuvYsaMYOXKkWhMiRYoUcgk3e/bsETVq1BA///yzukbIghj9+vVTa8727t0rXnzxRafvhR5cu3wOPXG3L4oBERHFBYO1AMMfhLJly8qqWmggYEGVJkyUiopoRETuvPHGG2Lt2rVqTYjcuXN7DKRQPh4NTbPUqVOLIkWKqLV7fvvtNxmomRuVWbJkEWPGjBFJkyZV19irUqWKS9U/VKMzIGhEBUb8zqFkeaJEicTmzZtlg9esePHiHivGXbt2TSxevFitxUiSJInXSnc4DlYIQv/++29ZyRKBC47JsmXLZOVHQMPc7tghoPQEv+NbtmxRazGefPJJ+do8wfExBwOGOnXqqEuxV758eXUpBl6v3WMZ8JlCNUSrI0eOqEvulSxZUl0S8n3x9tkJNQTleO/NJzBQ5bFv375qzRUmKLceLwTA/sx9h8+AXaB/5swZdYmIKHYYrAUQ5tv5+OOP1Zqzw4cPi9GjR6s1IiJnyFgg82VAtmbo0KG2GTUDyuAjmDFDQGa9zfnz52V2DFkhs2HDhsmAzRs8FytzIzR9+vTiu+++E0uWLBGZMmWSQRrKolvhRJYnW7duldMHmGEOq6xZs6o1e+jNYIXMGkrsY3JiBL1Lly6Vz9Nw9uxZmRE0Q+PcvI8dlMdHEGj21FNPubwPVggI7LIvdsfWX9by8Jik+9dff1VrzhAQ9+7dW5aqtz42AmxvcN9G4P7SSy/J/8MJntOBAwfUmpBTT8yYMcPjFAP4fJi34/KHH37o8TZWKPdvl2VEhhnTSRARxRaDtQDCGWrM2eIO5tJB0EZEZIZua2+++aZTJgoZF2MeJXfQpfDLL78UTzzxhGxw4oQQAjwz3CfmRdq/f7+6JgaCGW/3b7DLDhw/ftxpXikwsmbIIqGRaoYMDLp0eoLu4+hKboYACpk6dxBwWbua4VhkyJBBfPTRR/K26LJpDcKQwbMGXegm6Q2CNSvMa+aNP13q/GWXRXMXILz99tvy/UGQnjJlSnWt78aPHy/fZ2TYSpcura4ND+g+jO+DWc+ePb3O7Yeux8gIP/7443Ji81mzZnn9rNpBAGyFTJ/1Mx0I5oxmuGU3iSiwOCl2gOzatUuUK1dOnrUE/BHEeAjrWeIOHTqIzz77TK0RUUKHhja6TZsDDowT++mnn+RvSlxt2LBBPPPMMy5dEjExs3Usmjt9+vSR49CskAmz6/6H547GrjlAwXOwC3QMCAjRUMa4PTMEVZ66CuL1VahQwemxnn/+edlVEWPmpk6dKo+vVe3atV2CPHRBtXYpNEPDG0EuJgA2IKOCLqZ58+ZV19hD4IhAyWr27Nny+cYFxmbhGJiDNnR1xDgsMzxvHGN8vjBpOLrdYpJ1A4L3efPmqTVXeJ14v9FswNhCu+MaX/C3F10Rzd0fkVXD67OOTQwWZFhxjMzw+UD3UmSc3UHmGyd7/WmOIXs4d+5ceblly5Zex1qa4bPapk0bteY/TopNFGII1ihu9EaCnMAVhxMLqo7pjRJZocxaqvm+++6TcyQREYG57L6x1K1bV22NG1RyxH1Z779o0aKa3rBXe3mnN85c7gNVFTE5sx1MA2DdXw9U1FZ7dscBv6WYtNuT0aNHu9wOE4inT5/ebQl7VDDE5Mfm2+iNacecW+6gqiR+w823q1y5strqGeavM9/OWLzNW+cLzLmXNm1ap/vt0qWL2hoDf6dQHRFzjNWsWVNeV7JkSafbFC5c2OO8aXowJ+djs85fFw7GjRvn9Fqw4LMRSnog7/IcMOeetwqomGrDertgLv5MF2GH1SCJQovdIAMAZ2MxLgLQZx1ngnEWOXPmzHIMCrphGGec9GPudlwbESUsyNQMHz5crd2jBzvqUtwcPHjQthrdq6++attlyw4ycnbFKFDF0G6cFvZHtssMY39QJdIdHAeMEbJ6+umnPXZhw+2M7IIBRUJWrVol7ty5I/RGpbrWGTJ/1kqVyEx56xaIbBR+w82QTfEFxswFC7KK1uelBwjqUgyMJ0S2Ee+FUQnSOiYL3VqN3iFWX3/9tSwqg3GPyKyEk+vXr7t8fvBe+trNN5jwGbUbU0lE5CsGa3GEP1zvvfee/KOHfuP4g4hAzYDuJhhDgj90Rr9y/NFetGiRvExECReqGFob1Y899pgoU6aMWosbnDgydw+E5MmTy9L1vkLwZVclME+ePOqSM+xrrc6IgAvj6tz54IMPXCozgreS/VevXnUppGGMG0a3Q3TPsoMS+tbgxttjgTUIBV8DAgSPoWR+fagO2aNHD1lQBF0fzRUdzazHxICxfQh88TcMf+/8qZIYCiggYh1ygODbW2GaUEDbIGfOnGrNHgoCjRs3To6b83XBNAqGLl262O7jbunevbu6JRFFBP3HmeJgxIgRcpJQdA356aef1LX2MMFmvnz55MSbeoNMTn5LRAmXXffCQHWBhKefftrl/mvUqKG2+uaXX36RXees9zN8+HC1hzNMrGzdt0WLFmqrKz2407JlyyZ/Q823we/q5s2b1V72FixY4NItEUvx4sXlpNx20HVTDxyd9teDEDmJsifHjx/XUqVK5XQ7/I576jZoZjeRNpZAdINEd9f69es73a+5qxsmg0Z3PDzf8+fPq2s1beDAgU63SZEihdN2w1tvvSX/bmHSc3S5DCd6EKxVrVrV6XVgmThxotojdOy6QeJzfe7cObVH4CxZssTxGBs2bFDXhga7QRKFFjNrcYCzuqgahYpsmPwaZ/I8wcBudJdE+Wp01cFtiChhQsbKWjERvM3X5SsULUA3SCtfKh6aoUKjNSuEbt21atVSa/fof1NcuiWCp2qJ6JKJY2HMf2YoUKCALObhCYph4DHNkD3CNAgo7GAHx8SazURXRhSn8AQFFKxdBNGLwtdKfN4qEsYFenCkTZtWrTnD80ZxGHTHQ1GIhx9+WG0RLsccWUlrphKfUXTVxWdgwoQJISvW4StkjlHgywoZ6mhmLiZjnYKCiKILg7U4eOihh2R3RsxN42uZX5RLxngKjHMLp0paRBRaCKZQxc8KY10DAdXiLly4oNbu8aeLJebUsqsOWLNmTdtujWjQW8fn4HcSEwzbmThxoqwoiUp21ueKCbY9jatDA3X79u1q7R5UefRU0RHj76wBHk6gWcdvWdmdXGvYsKG65J11jrtAQ8BrZnR/xfgyBGqYr85addJ6GzCX/McxbtGihQzOX3nlFVGjRg21xT0cW7yvmFwcJx7sgvdAQpdbnDg1Q6Du7jNHRBRpGKzFARoSjzzyiMvZSV/gLKjdBJpElDCgoWzNWCFgQFGNQLCbbBnj1fLly6fWvMO8VdYsFJ4jxj/ZQZl065xsyOTZPSYyOH379pXPE+PFrHOFYe4rT5BN2bNnj1qLgft666231Jo9zGln5WlqAEDQai0QguIq6C3hK3d/J+wCpkDAe4HpGVBiH4EipoyxZgGtQasZtnXr1k1OHo5AD9lKX+Dzgmwp5vXD2EBcxrxuwYJS/eGcWcL8fr5mX4mI7DBYIyJKIBCs+Zq5Q4DirkJjiRIl1JozZMmsGSS7fW/evClat24tAwIEbCtXrlRbYmBOKm9zzK1evdol2PCWVUM3xmXLlqm1GDly5HBbcMNw+PBhl0mm8bqQPfIVel+gu6IVilIFA4JAFAXBYzZo0EBmKq0qVarkdm4sdH/99NNPZXA+adIkn6uHWgMnZPWsRW4Cye6YxhfrCQdAV14MeyAiii0Ga0REYQLBh7VLly9Qih5dAs2N4rhmbND90ZpVQ5fGESNGyP+t8NzRvdvKrvIkutSdOHFCVhVs1aqVy9QAyOS4G4NlQLBm9frrr6tL9pDNO3funFqLgaDL7vWYYaJjaxBi7vqOY+0tIEEpebvsmlG9Mq6sQTKytseOHZNdAlEZ0w6yPtZgBxlLZMXQ/RHbMF7Nny6FuXPnlrdFNgnj23r16hXU8XqBguOHLpt2nytfHDp0SH6mrbyNuyQi8obBWhTCH/9gda2JJGisGMUEULo6XKGRi3mCKOGx66pozTJ5g6IPyJw0adLEKdBDQ9luHjRfnDp1yrarI7Jg7rJQ+N2xBl0IBqyNVYxnQvdKZGyMMWvI4pkZj4HvcLt27UTXrl2dutJhPrD169ertRgo0+6tCylK71uzcUbmD/ffpk0b0bx5c5kNMrObagVZKcP06dNlQINpWtxBttCu4R6b4NyONROJLA/+DqBUv7uur3Z/JxD0N2vWTAafGFf92muvqS2+wfx7KKWPwAXHtE+fPmqLPYxxRKGunTt3usx95wu7sYaYasBuugl3cBzwOWvbtq1tNtkXeK12gbc/XWWJiOwwWIsSOOuLMQmoaoaxHsEezB4J0PBChTcUQpg2bZq6Nvy8++67sotShw4dwjqopMBC492u8iMmXvb1+4tuamhMJ0qUSM7laM7cIDtVpEgRtRYDjVK7rlpWb775pku3PwQxCNbcQRdDa+CBIMGcVUF3OoxhwnNAgx7dCBGsWbNSKGACmBwcEzGjiIR5jC8yP9aGMX73ECi4g4DQWuwCXQCN8WoIKjCBODJg5i5/GLOFolBmeE3GPHOo8IvvLsbPeasoiW6aVhjXZc32xYZdwRcUbsHxdgeBqzV4RRYRxxdzf02ZMkVd6z8cI7tAyoAxdfiMIshEJg6fVXxe/C1IgsDemrHEa8IJAV/h/UPAje6K+E7FBr6DVuh2HKjqrkSUgOk/auTFxYsX5XxqrVu31tq1ayeX9u3b+7S8//772nfffafpf/y0EydOBGVuNf2Pq5zfBfPg5M6dW5s3b57akrCVKVMGrRC5jBo1Sl0bftatWyfn39P/2Gt6A15bvXq12kLRbvLkyY7PqHnRgxRND6zUXq70wEPr3bu33Pehhx6SvwF2vvrqK5f7/vbbb9VWe59//rnL3GV68Cbn8vIE84WZb4NFDxTkNj0Y08aNG+e43/fee09eD3pj3ek2Dz/8sPbnn3/K3zG8tkceeUTbt2+f2luTx6Vjx45Ot8GybNkytYe9S5cuyXnEzLfBfGygB2qa3rDWypYtK5+r2alTp+QcZebblShRQm7D88ySJYvc3qlTJ3mdJwcPHpRzupnvC7/bmMMtrvQg3+l+segBvNpq79atW5oe7LjcLkOGDNqvv/6q9gq8O3fuyGNtfVwsmNNv/vz5ak/v8HnA32br/dx///3aihUr1F72jh07punButw3c+bM2tGjR9UW/3344Ycuz6FmzZpqa+DhGBmPs2rVKnVtaFjn58uTJ4/L94aIAofBmg/wg48gyPzj5O+CRsoDDzwgJ1UtX7689umnn2oXLlxQjxB7w4YNkw0aPAbu98qVK2oL4XgYxz+cgzW4fv26VqFCBcfz7dWrl9fGMUU+TNz85JNPOt5384KJpE+ePOn0OThz5ow2adIkObkxflPSpEmjbd++XW11haDO/LnCggmE3TWsEKjhd8rYF4+ByZx9MWPGDKfHwYJA5LnnnnP6/TQHateuXZMnKsy3yZgxo7wvNKDx+IsWLVJ7x0CAgddvvg1+V701tBHM4ISI+XaYjPull16SgRomfD58+LDa+545c+bI52K+XePGjbUdO3ZohQsXlvfZrFkznyYFRpBiDU6xfPnll2qP2LMGawgUfHlODRo0cLodlthM1I3XhoAY78PYsWO1wYMHa7t27VJbneG5GoG73YJJy32dbBz27t3r+DtoXvC5mDZtmvyemZ09e1Y+P2zHe5s9e/Y4BWrw2muvuTx+MCfmjs9grUqVKk6vE4Gu3WTqRBQYDNZ8hAYT/iDgB97uj4J5wR8h7IM/BClTprTdBwuyKNaGiK/QyMHZYOO+8LzYuHcWScEaIGCrVauW4znj+f/xxx9qK0WrzZs3uwQRxoIsQ44cObRChQppuXLlkuvGNjT6Dxw4oO7FvZ07d8rGqHE7LK1atdJu376t9tC0GzduyKDFvA8aYEuWLFF7eId9zbe3W/r376/2joHnZrcfFjSikY2zwm2s2akaNWqore4hyDXfxljwe43jc+jQIbWnMwSw1tvgfTCCjXr16vkUFBlGjx7tcn/ogRFX5mANz8/XzBiev/m5DB8+XG3xDYKGihUryiAbwbk5sF2wYIHayxmu9xSsYfn+++/V3r7B+2v+fpgX/B0uUKCAVrBgQZkJNb5veA7I/uLzHxcIVPPmzev0mPj7f+TIEbVH4MVHsIZM8jvvvGP73j399NPa7t271Z5EFEgM1mLhjTfecPmhwoLG1OLFi+UPNBregDPY+KOJDJj1bLCxINDyV9euXR23xxlU/LEgZ5EWrAE+N7Vr13Y8b3TlDEQGlsIbArbHH3/c8b57WhC8IdtjDra8Qca9WrVqTveDrFzp0qXl7xIyS8b16IaIgMKajfAGmRBz12PzggYyumRa4Tb5LJk1LDjZhca3HQR81v2HDh2qtrq3Zs0al9theeqpp2wzaobTp0/bnqBDg7VNmzZ+vQ9w+fJlGdiY76ty5cpqa+wtX77ccX8vvPCCutY78wkif25nwLGbMGGC7NKbLl06x32hy6m744rPo/UYWJeFCxeqvX23dOlS+bm2uz/rghMgP/30k7pl3OCkibWLLdoJwfTNN984Hstbd8+4QDd9ZP+xoEuy+TVaFwTBxr6BOrZExGAtVsw/kuYFY0g8wdk7dG2yu+2YMWPUXt7hzJZxOzQ0kGUjV5EYrAECNgT+xnNHgxrjJim6ocvizJkz5RlqBFDojohMBRqf6dOn15o2bSoDDnQDjK21a9fK+8HnCxkQZCIQqKHhjHE/GPcVlywDPqcYA4TMFzILyFh98MEH8rW5gyAO3d4w7guvs2XLlrIXgztbtmzRvvjiC9nFDN3J8Zp8+X7gxBl+O9GoxnFFt0cEpd6OJ8ZEYewXxqnhPcHtS5UqJU/MxRbGMxvfbyw4VhgbFxcrV66UwRKCX3Tz8xV+G9EIx/sWl270yC5i7JLxmrxlOxFY4bkax/SZZ57R8ufP77h9bII1OHfunHxf8bcRn2vcf7JkyeT3CN1xX3/9dTnGM5AnODG+0njeWPB64tqt0hu8ThxDLMH8+4DujRjnigU9gYzHtFvwnTD2xfMjosBgsBYLdn3TsfhyJgmNFvMfNGN59NFHferyNmjQIMdt0CDCWS+yF6nBGqxfv96pC223bt3UFkoo8HsQzBMxGF/kKYiKC9y3v0I13hbPzZ/xUGaB6paMhix+843vN5YpU6aorbGDoBNZO38hyArEsUd2yZyB7Nevn9riHrKS5mOKDKlx+9gGa1a4f3+zn/5Ct2LjeWMJdlaNiBIWlu6PBetEsZA5c2af5lPR/5iJxo0bq7V7MK/R5MmT1Zq9zZs3Cz1YU2tCTiZrnVuHokPZsmVFly5d1JoQerAppk6dqtYoIciYMaMsIx8sKHeO36NgsJZS9wXKpocCnhsmbI4NvCeBgGkb3nrrLbUWw9+S9VZJkiSRc+v5K3HixAE59j///LOc3wzuu+8+Ub9+fXnZE0yRYD6mmMbBgNcTCLh/81QMgXb69GmxZMkStRbz3nbr1k2tERHFHYM1P50/f15O3mlVvXp1OQGsL+zm2gHrJK9m169fl3MO/aMma02WLJmc7JSiF+bPMjd6MUnxsWPH1BoRRbJXXnlFnpQxrF27Vhw6dEitRZ4ffvhBXRIiV65ccpJwf/zxxx9ixYoVMtArUKCAqFixotoS3saPHy8uX76s1oQYNmyYyJYtm1ojIoo7Bmt+wh/TP//8U63dg8mo42rTpk3iwoULas3ZiBEjnM46Ijv3pJcJWCmyZcmSRQZshkuXLjFAJ4oSyGh9/vnn8sQb4IScOZseSW7duiV+/fVXtSbEM888I1+fP5YvXy6DHk3TRK9evQKWWQsmvGdz5sxRazF/l9HjhYgokBis+WnBggXiv//+U2v3BKI74t27d23ve9u2beL9999XazEaNmyoLlE0a9KkiVOjZ+HChWLlypVqjYgiWf78+cW4cePE/ffH/Cn+/vvvxdKlS+XlSILeJubhAf6evPztt9/ESy+9JLNqNWvWjJiAZ8iQIeLw4cPyMrpbjhw5Ul4mIgokBmt+WrVqlbp0zxNPPOHTeDXDAw88oC45w7gBu7EUQ4cOFf/++69ai8m4lC9fXq1RNMPnqlChQmpNyLPOr7/+urh27Zq6hogi2YsvvijGjBmj1oT8ftv13ghna9ascZxoxN8wBFy+QvfPpk2byi7+6D45YcIEGbSFuwMHDoixY8fKy6lSpRLffvutePTRR+U6EVEgMVjzA7pAHjx4UK3dU69ePb8GMNsFfFC8eHGXgd7oWoJsnhnOxmbIkEGtUTTDGfcaNWqotRhoJHga30hEkaVjx47i2WeflZcxLhXd6dDFLlKY/6bh79Pjjz+u1txDt+53331XVKpUSWan0IsAf+9y5Mih9ghfKAhWrVo1+R4lT55cZkSffvpptZWIKLAYrPkBFZ9u3ryp1u753//+py55h7798+bNU2vO7KpEfvHFF46iIoaqVauqS3Fz584ddck/5iyfN9bnnlDgdd++fVsuyIbFBbKo1jPNxhldIop86Oo8ffp0MXjwYLm+evVq0aBBg4jIoCO43LBhg1oTPmXVUEgkd+7csroxslHffPONmDFjRsgqgsYFhiu8/PLL4uTJk3K8IcbaMVAjomBisOYjNLjNA6gNjzzyiKhQoYJa8w5Zsu3bt6u1e1A5yxqs/fXXX7bjF/x5PDMEEBs3bhT9+vWTVcjwRxJnM/E4vkKgWaxYMXl7d8VQANsQZKRNm1ZWNHz++eflH7dohmpm/fv3FyVLlpSNDnSNwZIiRQrx8MMPy2O9Y8cOtbfv0DXICg2ELVu2qDUiinSYRqFPnz5i0qRJMghAwFa3bt2wD9j2798vbty4odZieogY3J2oQs+QgQMHyozc8ePHxXPPPed2eEA4Qa8GVKlE5cvChQuL3bt3O1X0JCIKCv3HlHzw559/apkyZXKa+BJLpUqV1B7e4T4KFizoch9Ypk+frva658cff9T0P2BO+2Ei7EOHDqk9vNP/kGrt27fXChUq5DTJsrE8+OCDPt/f1atXNT2odNzu1KlTaosrTApqfSw9GNX+++8/tUfwhWpS7J07d2q1a9eW743xeHpwprVr104bMmSI3JYoUSJ5fZIkSbQxY8aoW/oGExfj/TPu21j69u2r9iCiaILf7VKlSsnflPz582u//fab2hJe8Hv+0ksvOX6T9CBMTkK9aNEirWrVqtq8efPUnpFvzpw58vWlSJFCa9q0acgmcSciYmbNRyibj8yJFbqq+ApdPnAmzqpr166iRYsWau0eZOHQ5cKsSJEisvuIL3BbPOZ3330nzp0755iw1AzZNj0oVGuejR492pEV9HYW9MyZM+rSPTiLGmkD5z3B8f3www9FmTJlZAYUXVxREATjF/D6Mcn522+/LbvP4j0AdIscMGCAX1lGnHFHds5q8eLFCbabKVE0y5s3r+wFgW6R6HaOjFs4wu/ZsmXL1FpMsS38jejdu7ccMuBPoZFwhr+R77zzjsiaNaucYgfl+iOhyyYRRQcGaz5CQQc9uFVrMTDOwJc/RhiEjIHUdmV9MdE1rreOScJ8M2jkW/kzdw2KU6BLzYkTJ2Sgie4qCPaszOMN3MFtR40apdZixrvZBa8GdLVEF8hodfHiRdkdxmiUJEqUSFZxQ1CPz4Q1mDVPpI6A1d24RXfsxkQcOXLENij2BJ9hBO3othSKBV1s7aajICLP8PvdvXt3sWfPHjFz5kx1bXjB3ylzN02jOAoqQs6aNcsxh1ykK1GihPj5559lAO1P5WciokBgsOYDNDgxv5UVxhLhTJsnixYtkg1t9M83Q9CFrAsCILsyxXjM06dPq7V7zOMBvMH9IitjTC6K54vA0JjTx2DME+MJziqiepcBZ3s9jZnCHzQMIjcHh3g+dq810uAsK16XUZERx3Pq1Kmy6IfdRK4TJ06Uk7ya4Yy0P3DG2gonAfwdA4dB/JkzZ3aMJQzmkj59epEzZ06OrSOKA1QaTpMmjVoLL/jtM/f+QI8BjM+dP3++yJ49u7o28qVMmVJm0qIl+CSiyMJgzQcoloHMkhXK+KNLYq1atWTZZRSXQBc3BGbIumA+NHSTtHZ9xISh6BKICTWtgZMBgYBdtUZfSiJ7gsqV1oIVyLzhDKk7mLB07ty5as13CCxHjBih1mKyQ2jERzKcXcV7as5otWvXTrRs2VKtObt69arLhObgb+PLXXBnV6zGk7Nnz8rnhGAbn69gLuiiieyrv4EpEUUGBGY4AYSiV1WqVBHDhw8Xv/zyi8iWLZvag4iI4orBmg/WrVvntsGJxij67GN8GRrl7733nuzyiElC0TA24IwcKnuhihS6ynmb1BrBQDC6j+EM4ZNPPqnWYuCx0K3PDsZhvfTSS7Gu1GUeU4VqiJEM3Re7dOkiu/cZEHh7KqOP12+tmol5efwdy4EKk3ZZu71796pLvsFYGFQBxecR4+CCueCzhhMDPBtNFJ3QUwLzjP70009i5cqVsttmuGYBiYgiFYM1H6CfunW8GhqjKOWP5Y033pCl6VHCF5k2FJxAMIZ1DAxHMIcujSgygYk0fekKaDdeLVDQ/94MQaHd/HHw9ddfi23btslum9ZgAWWMvcHcQbgtusRVr15dXRuZ0G3V3KUPr2vChAm2QZQBnxNkXY33HIHL559/7ncXIZypxrg4K4wRsRah8QRZQZTKxjiTK1euBHVBthafEX/mISQiIiKiexiseYEGp91cZ5gXDQsyK+jqN3v2bNl18dChQzK4W7t2rVxHNa8aNWr4fbYR45GCBfPDmCFYQ7dMKwSYr776qgwSmjdv7hIUIIjz5OjRo7KQBm6HipeYky5SIXhGdUezpk2byoyXJxgziIH2OFao3ohiAc2aNVNbfYdjaD1hAPv27fPYhdUOut4iUxqqJRrGKRIRERHFBwZrXmA8FzIRVo0aNVKXgsNuLBuus2bFYsOu3Ltddubjjz+WgRyKqHTq1MmlW6a3bpofffSRzD5hYHbHjh3VtZEHXV2trx+vq1u3bmrNOwT2derUETly5FDXEBERERF5dp9md7qeHFAExG6OG2SiKleurNYCD10pN2/erNZioCoYiprEdfD26tWrZbYPRSAMCKzeeusttRZTzr9cuXIyK4Ly/9gfFRDNWZxnnnlGjs2zg4IsGBuHzMoXX3whWrVqpbaEDp4fxhsCqm4iuxcbeP7t27dXazFQUARdPEMF4x9RXAZVQs0QCCObmyFDBnVN5MPJBLs5AYmIKDxhOIBdV/2EgD1IKNgYrHlRunRpWQHQLGPGjDIYCeY8YsEM1jA+DQ1/TJRtQFCKMVmAhjIKYGA8HsbdLV++XF6Pil/o3mlAoQpUI8R4NDN8pBAooYpk/vz55euIjx/xQARrCByqVq3quB/Dl19+KVq3bq3Wgg/BGoqDmIubQLQFayj9japy6EJLREThD3/zURk0VapU6pqEBe2LaJkAnsIUgjWypwczmh6IIJh1Wp599lm1R/DoQaLL42JZunSp2iP2rl27pmXKlMnpfitWrKi2atqnn37quP6nn35S12pyH/Nt9OBR04NHtfWeefPmaQ888IDcrgds6trQK1++vOO56j+m6lr/bN261ek1Y0mWLJl25MgRtUdonDlzRkuRIoXLc9GDNe3ChQtqr8iHz5P1NXLhwoULFy7husyYMUP9BSMKDmbWPMD8MXbd99D9zd28WoFil1mDMWPGyPFTcYHiJXny5BHnz59X18TMv4b5cdDNDttQbh7zh2FCZ4M5UwXIlqF0vHnuN0wBgGwaMkCYwsDI1sWHQGTWUCCmX79+ai0GKnpiCoZQClQ3SMyvZjdmMVhQYMWf7iHI9qLLqS8TtRMRUfzDeO7MmTMn2GkbMIQEvZCIgkaGbGRLbzS6nEFJkiSJtmPHDrVH8LjLrOnBmtoj9q5evaplzJjR6X71YE1u69Gjh3b//fdreiNbO3r0qLzO0LhxY6fb6MGaS2atWbNmWvLkyeXz1wMDda1nf/zxh7ZkyRLt999/l1m/QIlrZu3u3btanTp1nF4zllBkVq2QWUNGz/pc/M2sff755zJDlzhxYpn5DOaSNGlSrUiRItq2bdvUoxMRERGRP1gN0g2M2zKPzzIUL15cFCxYUK0FT+3atdWlwMNA4CeeeEKt3XPkyBExcuRIOVgWk5taKxdanxOyNOZKmcheYV42VJb89NNP5f14owdosnAJKiWiIAmyeeECZwtRGt/KnEmMb5g6wJ/xanqgLrOeKC6DDFswF0yovmPHDjmnGxERERH5j8GaG+gSaFfkAN0F7crqB1owuxMgWCtUqJBai4HGO+ZUe/DBB0XOnDlduv6BHtyrS/egiAhg/jB0ecTt0f3ROpebO998843s4mdYtGiRDBrDhV1hFG9zqwWDu2pT/s5dlzx5cvke4b6CveB7gknBE2qFMCIiIqK4YrDmBqocInNkVb9+fXUpuJDBw1xeVmfOnFGX4sY6rxrGsa1cuVJmFBF0JU2aVG25x928ahhH9frrr8sgoHr16uKNN95QW7xD5T8EEAZUnMS8buHMPOVBqGzdulXcvn1brd1Tt25ddck3bdq0kZVMkTHE/8FeEHiHOrhFVu/PP/+M+AUZUGQniYiIKOFigREbCNIQRFi7QT722GOyoIY5uAgWZJty587tMt8U5j6zlpGPDWTRzMVDAJkQdEdcsGCBbRfGuXPniueff94paBs+fLgshLJw4UI5lcGmTZtkZs4fGzduFDNnzpS3a9u2rUiXLp3aEjdxLTCCzwGKpViLXaDozLRp09Sad5gqoXPnzjJbiqAW76u/xo8fL29rheMeqhMIkQABDt733bt3y88pMnyRCs/9xRdflPMcEhERUcLEzJoNzPW0ZcsWtXYPqh2hul0oYO4ydLm0CmZsjQCtd+/ebseaoRGMbm1mCBbQlRHZDFTP9DdQg6efflqMHTtWvPnmmwEL1AIBwWu+fPnU2j3Iuvo6aTMCtUaNGsljhInGY/v6kLW0wn1hHkC6B9+P06dPy+wnsscIuCN1wWvgfHNEREQJG4M1G5MnT7btfoQueqEYrwZonKORb4WCHpcvX1ZrgYXuj5gywB/IPqK75oQJE2Q2MprgvbY7HsjazJo1S625h65syFT++OOPckJrlPuP7UTquA8rHG9MREr34GQCiuREi23btolLly6pNSIiIkpo2A3SAvM8oVLilStX1DX39OzZUwwdOlStBR/G/BQrVswpi4NiDQgW7DI+/rB2g0RFwZ07d8rsoTt//PGHnIPNWt3P326BVsZHMNBd1gIxzxqqVZYqVUp2rzNLliyZ7C6KMXp2vvvuO1nZEoE1ql2uXr1apEqVSm31H56DNds7e/Zs2S2VnCGjhnGTmJPQFxhThy6q7sZkBgO+SwjC8F3CeFF3kD09cOCAzLQTERFRAoRgjWLcunVLa9KkCSIH26Vu3bpy7q1QuXPnjtNcYcby2WefqT1i75VXXnG6z7Fjx6ot7l28eFHTgzmn21WtWlXTg0m1h3eYL2zVqlXapEmTtEaNGmk1atSQc4XpQaC2YsUKtVdgxHWeNQPmtjO/ZmPBXGX4vOiBqrZhwwa59O7dW9MDacc+FSpUkPPaxcWxY8dc5ljTg2vt3Llzag+y0gMv7emnn3Y6Zu6W119/Xd0q9DCv4A8//KDpwbh23333uTw3PViT3zsiIiJKmBJ0sIYGHRpKnTt31po2baplyZLFpbFkXR555BGtXr16Wvfu3bV9+/apewqeuXPnujyHd999V22NPXOwVrx4cRmo+uL555933C5Tpkzazp071RbfLFiwQKtUqZKWNWtWx/1gwWTjmBQ7kAIVrN2+fVt76aWXbBvT7paUKVNqo0ePlp+xuFq8eLHL/bdp00ZtJXcOHz6s5c2b1+XY2S1vv/22ulX8+fLLL7UHHnjA6Xnhc8RgjYiIKOFK0GPWUBRjypQpciJnjCfCOLWMGTPKcUB2C7bhNuvXrxfLli0LyeD/ihUrCj2IVGsxlixZEudCI+YxeW+99Zace80X6JKJAiTo0odjYJ2vzZuGDRvK8VeosIjjaUBhkuzZs6u18ILxg5jkG10qMYbN3bhFdOPE56RXr17i2LFjsgJkILp24vNmhvcKk5aTZ7ly5RJffPGFT/O8jRgxQixfvlytxY/WrVvL3yPzZwZdJNE9mYiIiBImjlmLAB9++KGs0mhAsPTrr7/KsVCxhYYpJv4uWLCgDKB89e2338qxdDVq1BBFixZV1/pvx44dsgok5mgDjDFCgzmQAjFmzQ7GEK1atUoGUQjeMa7oySeflMcEQaevga8vMI4KVUGNyccBjfovv/xSrZE3GE+JEvjexqRhSg5MI+HrhO7BgvfXPAYU01o0b95crREREVFCwmAtAly8eFGWaDfP9/X++++Lvn37qrXIg2ADDWgDCnL4O8GzN8EK1kIJQW2JEiUcE3FjsnLMaxeXQD0hQrEXZK28wfds8eLF8VrQA0VtkLE2gstwCNbwZwInd1DVFMVYiCjy4WQpCjKlTJlSXZNwoHcR/p4SRQKW7o8AqNSIecjM3blQCRBzeEWq77//Xl2KqXiHgIRcoYuuEajBe++9x0AtFsaNGydq166t1txDIPzKK6+otfiBidgDfeIiLlAhF8Fi06ZN472rKBEFDnqJoJrzqVOn1DUJB/62osdSJLejKOFgsBYhatasKTp27KjWfJ/rKxyhDP7WrVvVmhAFChSQY73IGSZ3Nk+vUL58eTlxOPkPk9kju+ppagrD3LlzxYABA9Ra6GFMZOXKldVazLi1+HLmzBnZXRnTVGCcatWqVdUWIop0+Nt79uxZeQLQ/Dc5IcC0SPj72qRJE8dwDKJwxWAtggwZMkTkyJFDrcV07YvEs0KYL8xcnKVevXoBn2MtGiAbhIm1AfO6YT1Uk7JHI8wRiOI8vnR9QTdjFB2KL5UqVVKXYgoKxQc04sqVKyeL5aBbJuYK5HxvRNEjceLEYsaMGbJrc61atRJUwIbfNIw9R3sE85Uyw0bhjC2/CJI6dWoxZ84c2W0Q9uzZI7vFRRoURzEXe0CFRXK2bds22fUVEKChGqW/lTfJFc6mDh482OvJAXw+0e3v559/VteEFoIidHvG88SYklBD10cUzEH3KBTPQfdHBmpE0QcnsVDZGZlzdBVPSAHbU089JT7++GM5Trlly5YM2ChsMViLMCVLlpTjvYyG07Bhw2QBgkiBRjCKiRhQrh8/mHTPlStXRJcuXRzd36ZOnSrHFVBgYNoDVB/15urVq3Jf/B9q6K6JrBaygKEeBH/p0iXZ7XrXrl2ysAgyugzUKK5Yyyx8IWBDl8ALFy6IRo0ayS74CUXbtm3l34OFCxeKFi1ayArPROGGwVoEQsC2dOlSR4atQ4cOsoJcJED3R3O2AoVF0MWP7sG8dxs2bJCX8YfkhRdekJcpcPr16yeDIW9Qyh/z5oUasqkYAI8pGyZNmqSuDQ10AUUVUsBnsUKFCvIyUWwg6K9WrZp499131TUUFzjh2alTJ/l3PxBzrhrwHqFiMrLpr732mtNcrNEOfw/Qg2DRokXis88+U9cShQ8GaxHKyLCh5C5+VNHfPBSTdMcVGoHmM1f+zPEW7W7fvi0byp9//rlcx4TOxmUKrLRp04r58+c7TczuDrqgfvTRR2otdPDc8uXL5zgpEwqYsH7MmDHyMsbHIlgjio2///5bBhWYDuOnn37iuOQAwYkcFP1BRWhUjUV35UBlwjCsAtVoEbRMmDBBXRsZULgMgRbmJUVvFH/gN/aTTz6Rc6S+8847skomUVjRKKLt379fq1q1qvbggw9qiRMn1r766iu1Jfz8999/WvPmzXEaUC54vrt27dIOHz6s6X8cND3YVHsGRvny5R2PNWrUKHVteDpz5oymB+DyfcyUKZO2ZMkStYWCadWqVVry5MkdnxN3i/5HXNu0aZO6VXT6888/tTx58jhes954UVuI/LN79275e6YHFtrjjz+ubd68WW2hQDl27JiWK1cuTQ+CtbRp02pr165VW+Jm/Pjx8vuP+9y+fbu6NnzpQZo2ceJE7YknnnD8dg0ZMkRt9U+TJk3k7WvWrKndvn1bXUsU/xisRYF///1XGzlypJY6dWq5DBgwQG0JL/jxy549u+MHtUCBAtpff/2l1atXT/5h37Bhg9ozMMqUKeN4rHAO1lauXCkDNAQNL7/8snbhwgW1hUJhzJgxjs+JpyVDhgza3r171a2iT48ePRyvNWfOnNrVq1fVFiLfbdmyRUuZMqX8HBUrVky7fPmy2kKBhpN8+fPnd3xvhw8frrbEHr73RuBTrVo17datW2pLeLl27Zo2YcIErWDBgo7XbyxDhw5Ve/ln69atWtKkSeV9IGglChfsBhkFHnjgAdGtWzexf/9+0bp1a1lFTg/g1NbwgSqQ5u4a6B7TrFkzeX379u1l145Ayp07tyzOoAdBsrtouEJ3Ibxv6NaKQd6YBJ1CB+Mz2rVrp9bcu3jxohzTge420QbjVMxj415++WVZHY7IH6gkWL16dVkcCXN4oVstysJTcKAQEcrP68GVXMc8nJjSJy7wvcfcY7BixQq/uxQGGwo+oVJy4cKFxauvvirnnA2U4sWLO6ouv/322+LgwYPyMlG8U0EbUdAtX77c6eyXHmRqGTNm1PQGsNojsO7evSszd1ju3LmjriVydfr0adsztHZLmzZt1K2ihzmrhu7JO3fuVFuIfPPLL7/IrnP4DKVIkUJbt26d2kLBhqEEOObGd3jEiBFqS+zoQYqmB9nyvtAlMFyg10mpUqXk0I+OHTtq7dq10x566CHH6zaW2GbW4MsvvwzI/RAFEoM1Cplz585pJUqUkOMY0M8+c+bM2uLFi9VWovh1/PhxRwPF04LPbjSN5zpx4oSWKlUqx+srXbq0PNFB5CsE90aghmX06NFqC4XK119/LU+AGu/B2LFj1ZbYqVWrlrwf/L3+6aef1LXxC0M+9uzZo9ZiYAiI8ZqNJS5B1tmzZ+VJZNwPuoNiTBxRfGM3SAqZTJkyiTVr1oi9e/eKffv2yS4GderUUVuJ4le2bNlk5ccHH3xQXWNP/92U3Y2M6RUi3fjx48W1a9fUmhANGjSQFeco4fnrr79kSXh0g0PXWF+gim3nzp3F5cuX5Tomnm/Tpo28TKGD98z897RPnz5y2oTYMqY2wVQBmDg6HGDIB0rsm2H6H2+/2f545JFHHI+BtsqsWbPkZaL4xL/IFFIPPfSQyJs3r1wwlowonDRt2tSn+aAwJhSNo7g0hsIBGufffvutWouBcRuUMGHqEEwZsm7dOp/H+WKsI07CGV5//XWOd4wnvXv3lgEN4AQMJnuO7STPGHtoTLeA8dT4TIQjnBx4+OGH1VpgYDoEw4gRI+QYTKL4xGCNiMgEDZyWLVuqNffOnj0rC/sgsxCp0AhDltuA+YYwTxElPJs2bRLDhg2TmePnnntOpE6dWm1xD0Eavi8GZKcbN26s1ijUULQLc68ZUHwktpPqFy1aVBQpUkReRnbtu+++k5fDDT6vgfbUU0+JxIkTy8vIrq1du1ZeJoovDNaIiExQQRRVOXPlyqWucQ/V7vr27avWIg8mBjdD1ydMGE4JC7owYgLrO3fuyPWSJUvK/z25e/euzMThfwOqiPoS5FHwYCJ78wTkmOT55MmTas13qCptzlgtW7ZMVi52Z8iQIaJVq1YR/XtoQO8Cc8+fefPmqUtE8YPBGhGRRYoUKeSZZJTG9mbkyJHis88+U2uRA1MR/PDDD2otRjhPcUHBgawJMmnbtm2T6+jCWK1aNXnZk/Xr18uTFQZ0v+MY5PiHbFjOnDnVWkwgjnGpsVGzZk11SYg9e/bIaXbcWbp0qZgxY4ZYsGCBuiZy4YRV2bJl1VrMFAaYMoAovjBYIyKygUHmw4cPV2vuobGLrmA7d+5U10QGdGFDwGZWuXJldYkSAnThxRjN1atXq2tismpZsmRRa/bQ9QxZNXz2DY8++qjIkSOHWqP4gowQim6YoXDS8ePH1ZrvsmfPri7F/M4tXrxYrblKkiSJ/B89EyIdTjwYrwfQ5T1aCkpRZGKwRkTkRvPmzWXmzJubN2/KrMKRI0fUNeFv48aN6tI9qIQWSleuXBGXLl1yavQHCrps/fnnnx67bvnq1q1bsshAfIxPRBEYFLTxBMfR39d57tw5UaFCBTFo0CB1TYwqVaqoS+799NNPcjyUGSYpDlQXSHTH9Pczge8gjoMvY5iwLzIl5i6c4QBFQf744w9Hd9TYql27troUA9k1FI7xF4p3mIMWZM/wXUgIqlatqi7FdPn1lFUkCjYGa0REHmAsj7k6mDsodd6rV684N7RCAQ1hdO0xQxfI/Pnzq7XgOHDggBgwYIAcwI/AMGPGjHJKDxSmQEYHY0Ni24BGsLJo0SLZdQvjDTNkyCC7sT722GPyvj/66CMZoPgDwferr74qs0Z4vghu9u/fr7Z6dvr0aZnRwOOi9DkuHzp0SG11hfcEt0H2AgEUPnP58uWT00TYHRNUIm3RooXIkyePzIThNSNL5i1YQZagS5cu8r5//vlnde09yBCPGjVKPufZs2fLYNrq66+/dnmcevXqqUv+O3PmjKxKigqrhQoVksGGP93Obty4Id9jBIxbtmxR17rCcRw3bpz8vOH9rF+/vs/vZzDg84jPBcaK4jOGzyzey6xZs8rjgM8OXpu/8NqMqpAGHF9/f5sw9s18PzhWvk7pEOnwGTHDCQqieKP/4BIRkQfXrl3T9ABDTpTqbXn99dfVrcLX4cOHNT04c3reetCk3bx5U+0RWJhUt1ixYnKCXTwWJhbXgyitSpUqWvXq1bUiRYo4nkfFihU1vaGubumdHuBor732mtPE3smSJdP0xpZjcltjSZEihTZkyBCfJv0ePHiwljRpUqfbY9GDAk1v9Kq97OmBl9awYUOX2/7www9qD037559/NL0BrTVt2lR78skn5fNPlCiRy2169uypbnHPe++9pz344IMu+2Lp0aOH2ssZJj/H8bZ7DHcL9t2+fbu6hxj4jOC9s+6rB5lqD++OHj2qzZw5U3v++ec1PbCwfS1Lly5Ve3vXvXt3x+30gF1d62r16tVOj4EFn7dQO3DggNa6dWstSZIkjuehB2qaHrRpepCulS1b1nG9HsRpu3fvVrf0zZUrV5y+D1j0oEvTA1m1h+/wnMz3M3fuXLXFGT5b2I7veShh0mocI/NzjMuk2IZVq1Y5fVcw6fuZM2fUVqLQYrBGROSDTZs2aWnSpHFqFNgt+AP/5ZdfqluFJzRorc87c+bMAQ/WTp06pXXs2NHR6EGw9uyzz9o2PtFwN57LK6+8oq71bM6cOVr69Okdt0udOrU89n///bfaQ9PWrVvn0nBF496TAQMGOO1vXvBaDh06pPa0h8e3NiBz5sypXb9+Xe0REzzVr19fBskI1hBgmvc3FnPj+NKlS1rz5s1t9zMWNCovX76sbnEPnnOdOnVkYFyiRAn5mHa3LV26tAxIETCMGjXKJbBdsWKFy+0Q+P/xxx9qD+9atGghXy8+D0YAb106dOig9vbs999/l0G4cTtPwdrChQudHsNYNm/erPYIrr/++kvr27ev03uN9wOBrvU4I+Aw9kEAZP5Me4PvcdGiRR23NxZ8rv1lBGHG0qdPH7XFWbQFa9b7xecUn32i+MBgjYjIR8uXL3dqFLhbEDSgMR6uXnrpJZfnXLlyZbU1MDZs2KDlypXLcf/InsyfP19tdYUgztgXGbGLFy+qLa4QjJiDOywPP/ywtmvXLrWHs5UrV8rMgnl/ZLXs9OvXT2bU8By6du3qdBssyCohc+EJMonIHppv16hRI7U1xr///qsuxUAgYQ1cEIScPXtWbke27oUXXnBse+aZZ2TQZX0cd8GaFbJz5tth+fzzz9VW97p06eJyOwScvjymAUHrn3/+KY/juXPnZDbaep/IuHqDY2INJjwFaydPntTy5s3rtD8WZNyCbf/+/VqlSpUcj4mgv3///mqrq/fff9/pOW7btk1t8U379u2dbo+lcOHCMqPrD+vxxWfOTrQFawh4rff70Ucfqa1EocUxa0REPtIbkEJvzKs19zAmCGOlwpXdGCiMYQoUjHWqWLGio+CKHqjJcU56wCLXzTCOpnv37k5zvl24cMHtgH4UkcD7MGfOHHWNkPNBoeBFwYIF1TXO9IaknDDYDBU8UTTEDPPrYbxWmjRpZAEWjKGyevzxx70W0kD5cv3vq1qLgfL4ZtYxRSiZrwdrai2GMbYP99W5c2cxffp0WfAB948xNBifFZsKjHj/zccP8Hww5ssTFJewGxOGMuc4Zr7C1Bgoj47jiDGLH374ocvrwOPYjZczw3EwTx8Ansag6Y1vOVbT+l4Eu4IhpkUoVaqUo+omHm/lypVCD5jlutWUKVPk2M64sBufduzYMfn98Yd1Gofz5897fV+ihfV30pjegijUGKwREfkBxR88FVPANl8CuviCBncwiyp88803cnJco7GIQA2BQYMGDeS6Ffa3VtxEwx8FFqxQ3RFVN3/55Rd1TczkvSie4C5QMzRu3FhdinH06FGnAHH37t3i7bfflpe///57GZRhrj0rBKGeoHrjwoUL1VqMhx56yOvtUHzFWvXRCCpQuAaFMRCoYXLihg0byuIPaDhbC1DgsayBoBWKRJw4cUKtxcDxK1q0qFqzh+dn99nx9njeIHizBgV4XZ6KWaByYteuXV2CYm8NahSOGD16tPzcGOvFihWTl4MBJx1wssAcJGECaRSrsYMiM3hddidU/GEXeOOYbd26Va35BkVPzDDBNgrCRLvEiRO7FFz6/fff1SWi0GKwRkTkJ1Rws2vg4cw9qughQAlXqJqICW6DAZUMEaiZG5oIgBBcuIMsmhUqOtpNSN62bVuXKQd69+4typQpo9bcS58+vbp0j7lhj0zPJ598Iic4R9CC17Bu3Tq19R5kuzxBYxgNWjM0nL1NsG6tNodgDM8DgSMCNWRjUDrdHPTt27fP5fhhu7fJzXGf1qwiMj9ooHqC12YNDgPFXCodEBh6+pxOmzbNNphDVU1v8N4agTECKXN5+kDCyQWcvDEHam3atBHdunVTa65QMdT63uTOnVsu/kB1TDsJJSsWV/gu2J28sJ5QIQoFBmtERH5CwxuTZpuhMY0MTyC7EwYDMhF2DVoj0xBbyPJgmoN//vlHXRMzTxOCKU+eeeYZWcLfUKRIEdvJyL/66iuXTBcaU8g6xZY5GEO5dDSkmzVrJtcRBCEYMkMGqHjx4mrNHrrmWbMi6P5p7eJohmO3fPlytRYDJflxZv/555+XWUpkJytVqqS2xrDeBsqXL68uuWdXhhxl7L1xNwcYjl1c4USHr5CFxOcKGT1rF0a752dlZJfwnqALbjDge9C+fXs5VYIBxwldPj154oknZJYTwTogy4w50tBN1h/uggq7+RX9gd8PT9MjRBPrMdy7d6+c2oIo1BisERH5CV0hZ86cqdZisiDDhg3z2pAPB+vXr3c5cw/WiXT9geBv4MCB4vjx4+qamOBvwoQJXscDIaBDA2jNmjVy3BmeH+aaMsNYmx49erh0eevbt69Injy5WvMMWQ4r6/2Z7dixw+U2yOB5ypDhuFq7QIK3bnaHDx92eaynn35azvGGgATj1azBFBqSmzdvVmsx8DlEsOsJMmMbNmxQazEwbgzjzrxxF3Ai4I4rfE6sGWkEsXbw/cME5eg6ae3uh26a3iYvR1YOj4XA3Fv32diaPHmyPHlj1rNnTzkG0ROMv8T7gznwkKlGYBqI42vAdymurF1owQgujf+jEb5zvpwMIAo0BmtERH5AMGGdfPi1114Tr7/+uloLb2is22XWMNYpttC4RHEOMwSu7rpiWaEBiwZp5cqVZfbKCmParN39EAB56l5phYavP6yThoO37pYorIKxcGbZs2eXgZcn1iIZgEwTxqdhTJVdIQq8j9u3b1drMZCJ+9///qfW7KHoCzJkZgh4fCkQEtexaZ4gS2otymN3XJYsWSJPlCBzhWAdYwvNkMny1FUTJwaMgDouWVlPMKbLmlHGa0Pm1hfIopUoUUKOzzRnnUNlxIgRcqJuLDgJZYUCKMZ2YzHGkSJYtm7ztsQ12xdK0RyMUvhisEZE5CM0jlEowxzsoCGOcWqRItCNDRyLDz74wCVLhS6RgXgsZJ3QDcwKXQt97bqJ52iXbXGXKbp586ZYtGiRWouBQAWNZ3dwm6FDh6q1e1CF0i4ANbN2S8T4urFjx8ps0/jx422zh2vXrnWp7Ifxat7GnSFQMXdVhWeffVZd8iwQWRlPvH1eMN4SYyDxvuEECRr61i6ndiciDHjdrVu3lu8lupd6q34ZW3jvrl69qtZidOjQwa+KmfEJhTRwAgaLtSswYEymsd1YjNeL74F1m7fFbtwqEd3DYI2IyAfo4oYqbebuauiyhIZZXLJSkQ5VFK1jp1CG3dcAwBtkUqyZEhTQaNu2rVrzDo1Lu6kAMAWAHWRGrEVC8F57Go84Y8YMWRzCqlatWuqSPQSj1u6MRlerF1980W33RHSxswbI7l6PGbqamiFA8paNM9iNkQskT+P6AAVg8HlDQGpkxazjityN1YK5c+fK7q34/KDbbjAgaLGeXEBw6MuYwHCBcXM4yYAFGXJrRhVZX2O7sRjTWeDEgnWbtyU+soexFdexvUSxwWCNiMgHOKOPbIYBDUt0e/M2HinaoXuhNWhAxcRkyZKptdhDwxul/a3QZdKfghTIQGHKAit3hTE2bdrksj8CIXfzqyGYRNcxa1VBdGdDtUFPULQA2QgzlFjH2DiM07OD52YtUY8TBmhke4Ig1Ho7VBn0Ns7NEMwxmQgardM1mE+M4D1E5hKN5TFjxsjuoWCt2If3wi4wx2vv2LGjDDzwXuXMmVNtCSx0k7ZminB87aaiCFdvvvmm/A5gQVEf63cZhW6M7caCbpuAExrWbd4Wb92EwwmCfaJQY7BGROQFSvVjMUPD0VqdL6FBMIVshZUvpfR9gQITdvNCWedM8wYNTmv3OARWNWrUUGvO7MZKecqMIMuDAMva3RGBkKeCEghyzXO9mb311ltui5ns2rXLpaw9Su97q0SKrJq1uAwayt66ThqMBnkwIFizTouAhrFRTbF///7yuefKlUtOD2Gwe0525elfeeUVmbFEIR10hQwWfB+snzW77FQkQ8BvfY3GCRvriZtog8IvRKHGYI2IyAOMU0M1PvPYGIx3wdnnhA6FKswVIAGNbl+64/kCZ92t46vAyKr4Ag38qVOnqrV7UPwE5fGtkBVBYQ8zdO1yl3364YcfZBdIZHwQsJkhEPLUbQoTaFsfC9C4x2fMHZROt3b386Wao13GyZ/uqu66GAaqQIT1/hEQYEHXR8w1h+8gTpKYM5junpPZtGnTZAYYwfSoUaPkZzQYEKhYC8xAoE5ehAt8poN1DMMdungThRqDNSIiN3CGHgVFzOWa0dVs0qRJai1h++2331xKzqN7aKAmBUdBC+sZfJSZ93WMFSCQwLgwK3SJs4PHtFZLRNBlNykxgrOXXnpJNlwxkbe1rHfdunXVJXsoy249fsjAoJufp3GQGMdn5W3qBQSG1qIp6N5WoEABteadtZiHwRqwBxqKcyD7hwmm8X00s3tO5s8MJs7GyRZ8LtH9EZm5YDl9+rT8ToQzjL2MK2SkE2qwhukiiEKNwRoRkQ00vDFhrnlOobRp04rPP//c7wlqo5W3ghBxZdd1zG4+LneQ6UDZfytMaN6kSRO15mz16tUuXbms3fMAAQGyqygogS6S1q53mCvO21gcVGa0VqnEGEgUXXAHASIyTWYIJL2NJ8PYOGvWB10nraXvPcE4L2/z5gUSAgJ0SUXXM2RY+/Tpo7bcg6kRrNUyjWAW1SMxMTX+R6CHgi3BhN8M61hHfIaDNZebJ+6CqapVq6pLsRfKz0C4cXfCgiiYGKwREdnAXGpfffWVWovx2WefRdRg+Gjkz5iYdevW2c6XhmIx7hqcCNbM0OjFNAFWc+bMkfNNIeMzYMAAl3FuCPA8BfV4HeaCNQZkgTxlLdA11FqpEsGdtbiJFSYdt/I3S4AgNxCFY9yxNoRxMuCNN96Q3e4wZg3BpRUy3dbCL0b1UGQoV65cKbs/2gXtgWb3vuF99qWrZqDZdR/G8fQnOCei8MBgjYjIAkUfhg8frtZiDBo0SDz33HNqLXK5OzNsF9R4Y3df/gRThnPnzskCENbMiV3jF1kkX87sI8sxePBgl26UeA9feOEFteYM49tQvMMMVSetFQcxjtG4j8mTJ8uJgK1znpm762EcnHX6AVQntBZPwVg8b58xBKBW5uInyAQbRTkMOBbWQjA4tuYCOej+iYyd9XWYIaNpl2U8ePBgQAISFGMxv+fouoluogh6Ma+aHXwGrZ853AemGUDhF1xGRdFQjDXC87B+3rBuN1eZJ3i/cEIBXXUvX76srvWPtcsrIGi1687rCSqVMptEFL8YrBERmWCuLFSbM3dPQwbCrgtWJMqbN69tFsY6dsoXaPhZu6ChcYqiG75CIIPJnKdPn+6SIalcubJLgQ4EVNYGsR0EUdbngdeOSabdQaMa447MENCYj9fFixfl5wPPCw1qdK+zFglBBsMYV4cJrzHVQIsWLZw+U6jMaA3gcF92E2AbEAxY5zrDczMCKBThQHEXa/EbBGAIKM3y58/vmHYCWZjy5cvL52xX8MSAYM2uuyXGBMY2qDBDFz1zsIb3Ga/5/fff91pV0wxdU9u1aycvf/jhh/Jz5A2ylej2jM8ixvGhu7N1Ymtv0E3arviN3fx77iAwQnGZCRMmyGqose1yja6fVjjp4O+cZsj+ImimGNbPGlFI6B88IiLS6Y0zrXDhwvhr7FiyZs2q6Y0mtUfkw2tMly6d02vE8uqrr6o9fHfnzh1ND9hc7ktvsGpnz55Ve7m3ceNG7fHHH9ceeughrVmzZurae/QAUsucObPTfeP9uHbtmtrDnt441lKkSOF0u2TJkml6IKL2sKcHjE63waI34NVWTTtx4oRWpEgRTQ/UtLJly8rncevWLa1MmTJOt8mXL5/277//art27ZKPqwc52vz589W9xOjcubPTbbDoAZzaam/79u3yvsy3KVmypNy2Zs0aLWXKlPJ4HTlyRF5nWLx4sdNtsLRs2VJu0wM1rVGjRvK2DRs2lO+pJ3jP9GDU6b70AFM7deqU2iP29GDZ5b71QFTTg1y1hyts04Nhp9vgPnCc9OBP04MWtad769ev19KkSeN0H1jwPupBnNrLNziG1vtJnTq19ttvv6k93Dt48KBWoUIFLWnSpFrjxo3lZyg2cEyqVKni8jx69uyp9vCdHrS63M/y5cvV1nuMxytWrJi6JjT0QFJ77LHHnJ7fxx9/rLbGjfU7it8q/H4ShRoza0REysCBA8XOnTvVWky3IZT9DkQFtXCBbIU1WxVbuB8jg2GGrniokuiuSx0yTJi3DhknZB0wcTQyYVbIVKAroxkyXxi35Q4KfTRv3twpa4VxTcgQuJtXzYAJja3wWnCfqACK+8HnAxkplILXAxzZTcxa8APHBdmqNm3ayO6B/fr1cxr3hiIhmPvNTA8WZObPE2T1rGOR8FjIbDVt2lRmpVCa3jrhM7rVWWGcG67XgzbZZQ4ZvU8++cTrZwPZN+v94xjYdc+MK4wHRLYQGT13sM061xo+48j6ojuzL11m9SDG9rOKbCTGEPoDXRetxxAZOnTz9ZR9RMYUxxafQWRYZ82aFeu52ZBVs3axRXVRfCfjCp8xd/P/xQd8N61ZxEB127S+j/iOsLgUxQsVtBERJWgfffSR01lULBMmTFBbo4fekJFn7a2vNTaZNdADCE0PYlzuD0v27Nm1QYMGaXowIbNdGzZs0PQGo5YxY0bHPqNHj5bPyR294S0zP+b7RfbzzJkzao97fv/9d5n5Mu+L7IovWT7QG9ROtzUWvdHsuKwHOZre6Fa3iMniITNo3h+ZEbz2JEmSaHrD2yW7s23bNqf9sSAj403Xrl1dbofMHbJiyCR+9dVXak9nrVq1crmdHtxp1atXl1mohx9+WGZ1fIUMjfX+8P2JK2tmDc/bF926dXN6LnqQr/38889qq2f4HOH1m29vXbxlZK3wGbe7HzyvLl26aJs2bZKPu3btWpm5zZMnj2OfFi1axDqjZjh+/Lj8TJgfu2LFimqrf6yZNWQJrZlbiK/M2uTJk52en/EckDGOC2QncczM91u5cmW1lSi0GKwRUYKHLmToymX+wxzb4CUStGnTxum1YkFXMgRGsXHs2DHb7pDGgmDH2r0tZ86c2ubNm9U9eHbz5k2tWrVqTrdHA3fBggXa6dOntT179shGb6JEiRzbM2XKpI0bN85jIGg1ZswYp8ewLujuaA7UYM6cObb7YkGQadcN77333nPZ98svv1Rb3evUqZPL7bDg2M6YMUPt5apPnz62t8Py6KOP+hWowdatW52ONZaaNWuqrbGHYO2+++6T94duiehG6gtrd7VvvvlGbfHuxo0b8rNovr116dixo9rbN+gei+Nhd19Y8H5Zjx+CKwQe/nxe3bH7TI4dO1Zt9c+QIUOc7qdEiRJqi7Ny5crJ7ThxE0zoiozv+6hRo+TvmLVbsLHg9wInipYsWSJPFvkLvznWLtiBOCFBFBsM1ogoQcMYBIxFMP9RxjiZaBqnZoXAwPx6saBhggZKbCFTgKyB9Yy+eUEjFePZ0Cj1NA7JDp7bBx984JSVM+7TuIygsGDBgtrEiRO169evq1v6DrdBJs58/1jSp0+vjR8/Xjbsra5cueKSWcRzevvtt22PJ7Im77//vgwQUqVKJYOSAgUK+DTmyxgDZ36svHnzes384LOcP39+p9thQYBulyXxBcYYmu8LWaNz586prbGDzKhxf4MHD1bXejds2DDH7XBs/fXpp586bm8s5mxq8+bN1Z6+w2cFzwXHxXy/1gWfLWQqMT4zUF5++WWnx4jLWCvr2DcEQXbwWvGZwOc+mEaOHKm9+OKLMhPdoEEDmSHG41oXnChBVhvvXd++ff0+EYXvLk5kmF/7iBEj1Fai0LoP/+gfQiKiBAdVzjCWyFw1EBUJd+zYISfbDQd6o0HojQ05BgtjoFC1L67w+jBnFcaOGTJlyiT0hnuc59HCuJwFCxbISZj1xresnoZxRXjuqECIcV9xgeOBaQa2bdsmx2qh7D/G9ugNNDkmLWvWrGrP2ME4LkxWjYmVMUYMz7tWrVoeqzSi7D3GGG3cuFHOY4WxQXF9ne5gvN7MmTPFgQMHZNVAPD+8fm9wnDBvIKYdwLi3Tp06yTkDPY0H8wT3g8+QeQwd5pozTwfgL4ztQhVEPFd85n2tXIhKpphHDe89xobFxtKlS2XlSChTpowcl4ixj4D/ccxjA99bzN23ZcsWsWfPHjm+Ct+JZ599Vj4GKjRibF6g4BhiPjxMDWHAMY3tcUGFTlQuNXz88ceiR48eai164XcGv1enTp2S6/iO4XcTlUKJQg7BGhFRQoSzwfgZNBaMPUK3mXCCbIrx/N599111bdyg4h/GVJlfO7qB6gGA2oPIOz1YdPoMvfHGG2pL5EO20nhdHTp0UNeGPzxvoyspFmSykf2NLaN7IxZkjH3tuhzpVq5c6dRVFd2u43IcieKC1SCJKEFCdb/+/furtRiYS6127dpqLTzgrLwhUNk+VHTDWWMznEnG5MZEvsI8c6iYapgyZYrMMkYD83x2yIJFCmS19badWhPyN846f6Gv8F4ig21AFchcuXKpteh269Ytp4neCxUqFOvjSBRXDNaIKMFB+fXevXs7NWpQ+hwl1sMJupihe53BmGg5rtClB13grIwuP0S+QBc+BGgGlL8fM2aMWotc6Eo4d+5ceRndg8uVKycvhztMg4GpRgx169YVHTp0UGv+w++POWBB90p/J9WOVMePH1eXYtSsWVNdIgo9BmtElKCgAdKqVSs5zsWARsjw4cPVWvjAWe3NmzfLy/fff79cAgXZAuscVJiLjMgf+By1aNFCrQk5X16kZ9emTp0qTp48KS8PGjRIzqcXCTBuD+NwAXMUjh49Wl6OLYxVM49JrF+/vroU/czj9PA7Wbx4cbVGFHoM1ogowUBBjfbt24tdu3apa2Imi0XxgEcffVRdEx4wse/777/vyP4VLFhQ5MuXT14OBNyfNWNgNzEwkSc4gYDCHHny5JHryEq99dZb8nIkmjdvnujevbu8jJM6bdu2lZfDHQq+GFlOBBeYENw6ebm/zJNNo/BQQskuYVJtdIM04LcSC1F8YbBGRAnGF198IaZPn67WhKzChvUiRYqoa8LH559/LisSGpIkSeJT1T9/NGnSRF2KgWqGqOZI5I/HHntMVug0ArZvvvkmzlmd+IAuhOgOjRMlqLSJ4CdRokRqa/jCSShUIEVwheqey5YtExUrVlRbY888bg+VP1HpNCHAbyB+Cw2dO3eOddVUokBgsEZECcKaNWtEt27d1FoM/BEOx+IBaPj26tVLrcUIRslolLo3d4VEI+Xnn39Wa0S+Q/GblStXirx588r1rl27OjX2wxUy15i6A1MttGvXTgZnEydOFDNmzIiYQO25554Tv/zyi1xHt80KFSrIy3GBbuL79+9Xa0K88MIL6lL0+/XXX2XBJUiXLp2cvoAoPjFYI6Koh8HiOPNsHn9RuXJlOWdQOEEDAUVOqlev7tIlEdXIAg1dP63jUNBQIYqNbNmyycDHyMAgO4XueeEMAQnmIMOJitdee02cOHFCvPzyywHPYgcDfs8QqGGOOGTeUQmyZ8+eamvcYA5DHAvIkiWLaNiwobycEGCsMOZbBMxriddPFJ8YrBFR1MOEyZhE2ICCIujyFMiCHbGBsRH79u0Tc+bMkRMvozT24MGD1VZnaAgHGhqkGF9knpQXE0LjeRHFBjJsGzZskJN1o9hF6dKlw7pCJE5Y/PbbbzIw+eSTT2T1x0hw4cIFOc3I999/78hqIqDCtByB8N133znGy2LsHgqWJASofonfQDB+H4ni2336l/Fe7WoioiiDP7bWDBq6tmDAfHwHJTgzjjP6GCPjCYKpvXv3ity5c6trAgtn51GQAPBYW7ZskWXZieJi8eLFMqONz/iAAQPkvGwUd/iudurUSRZzad26tRgyZIhIkyaN2hp3+F3ENCHIiqZPn152sYxrsZJIsWfPHlGsWDGZWUOvAyNwI4pPDNaIKGqhSxbOPkd6pghdnBCsBavBhK6PyIAYcyqhCmXfvn3lZaK4QNELZItxcgSTzlPc4MTOBx98ILOWyKSVLFlSbQmcrVu3yoIieCyc7Proo4/UluiHyqaYgxPjFTGVSZkyZdQWovjDYI2IohIaHKiIZgwUj2QIpDZt2qTWgsOcXUOXyx07dgT0bD0RRQZk7caNGyd7IOBETo4cOdSW6IYAuGzZsjKjWK9ePZlVC1S3UqK44Jg1Ioo6ly5dksUCoiFQA2Qlgg3ZNCM4w/gdc+lqIkoY0GXV6PrXoUOHBBOoASrhIlBLkSKFzAIzUKNwwWCNiKIOykwbpayjAQqiBBtKlxuTAQO6A3kbS0dE0eWzzz4Tp06dknNPYpxhQoHuuuj+CPgdRG8GonDBYI2IogbGpmF8BSaFjSaFCxdWl4KrS5cujsdat26dGDlypLxMRNEPFXMxTxuq5I4dOzYkGf1wMXfuXJlZQ2EVjtelcMNgjYiixo0bN8TAgQMdJaejxWOPPaYuBVfq1KnF+PHjRapUqeQ65nzbtWuXvExE0Qu/mcik4TcUE/KXK1dObYl+6DaPngTo9jhhwgTx4IMPqi1E4YEFRogoaqArCya4XbNmTVR04UPjAdXeJk2aFNJ5jpBVq1Onjmy4FShQQPz000+yhDcRRafJkyfLMWooVz9z5kyRPHlytSX64TVjXrlPP/1UTjVBFG4YrBERkQtMe1CjRg15uXPnzmL06NHyMhFFly+++EK0b99eVkCcNWtWggrUMEcdehCgR8HLL7+sriUKL+wGSURELqpXry7HrWCSbJTx7tq1q9pCRNECGTUEanXr1hWzZ89OMIEa8hSogIuqj/h9Y6BG4YyZNSIicgtdShG4oXgLBuFjIl4iinwoKPLUU0/JaU769+8vUqZMqbZEv3nz5skTUJhgvHXr1upaovDEYI2IiDzCNAiYMLtJkyaycUdEke/06dNi/fr14vnnn1fXJByrV6+W44CLFi2qriEKXwzWiIiIiIiIwhDHrBEREREREYUhBmtERERERERhiMEaERERERFRGGKwRkREREREFIYYrBEREREREYUhBmtERERERERhiMEaERERERFRGGKwRkREREREFIYYrBEREREREYUhBmtERERERERhiMEaERERERFRGGKwRkREREREFIYYrBEREREREYUhBmtERERERERhiMEaERERERFRGGKwRkREREREFIbu03TqMhERhRB+fq9evSouXbokkiZNKhIlSqS2xMD227dvi/vuu09kyJBBJEuWTG0R4q+//pK3hfvvv3fe7b///pNLihQpROrUqdW1REREFIkYrBERxZO///5bvPLKK2LNmjXizJkz4u7duzIwM0MQlzdvXjFkyBBRo0YNda0QI0eOlAtuh59x3M74P2XKlKJv376iR48eam8iIiKKRAzWiIjiEbJgt27dkkHbtGnT1LUxypUrJ7744guRM2dO26zbjh07RMWKFZ0ybJ06dRJdunSRtzFn3IiIiCjyMFgjIgoD6AqJAOv69evqGiF+/PFHUalSJbVmr2jRomLnzp0yeJs8ebJo166d2kJERESRjqddiYjCADJsZunTpxclSpRQa/ZWrVols2vo+shAjYiIKPowWCMiCkOJEydWl+yhwEivXr1k0ZEWLVowUCMiIopCDNaIiMIAio2Ys2soLOJpzNmIESPEnj17RK5cucRnn32mriUiIqJowmCNiCgMrF69WmbLDOXLl3cq1W+2ePFi0b9/f3n5888/l4EdERERRR8Ga0REsYSiHsiGIciyW6zZMk/u3Lkj78/w4IMPqkvOLl++LNq3by/L83/wwQeiVKlSagsRERFFGwZrRBQxTp48KZYtWybL3A8ePFjcuHFDbXGFwhuffPKJLMJh9dNPP4mOHTuKhg0birVr16prvbt27ZqYN2+evG3JkiXlRNUoBJImTRrb5bHHHhObNm1St/bM2uXRrgvkv//+K15//XUZ2CFI69q1q9pCRERE0YjBGhGFtcOHD8t5w7JmzSpL29eqVUt8+umn4t133xX79u1Tezm7efOmLLjRp08fWdbeqlu3brL74MKFC0W1atXE3r171Rb35syZI3Lnzi0aN24sb/vLL7+IP//8U1y5ckUGT3YLyvFjDjVfWPdLmzatunTP1KlTxTfffCMnzx43bhznUSMiIopy/EtPRGENZelRROOFF14QBQsWVNfGZJmOHTum1pwhsNq2bZvsinjo0CF17T0Iugz//POPuH37tlpzhe0tW7YUzZo1ExcvXhTJkycXderUEfPnzxdr1qyRY83cLVu2bJEZOF8gcDSrUaOGuhQDrxUTXuN4zJw5U+TNm1dtISIiomjFSbGJKGKcOnVK5MuXTwZh8PLLL4uJEyfKywZk1YoVKyYOHjwo18uVKyfWrVsnLxvQfRJZtzFjxsj13377TU4ubQdZPWO/mjVryqwasnyBVqFCBacumei+WblyZbUWU3Bk+/btMmhk9UciIqKEgZk1IooYmTNnlkGL4fz58+rSPaiSiK6TBrvzUSlSpBBVq1aVRTowrsycaTNbvny5mDBhgrxcu3Zt8f333wclUANPXRoRWCJTiGza8OHD1bVEREQU7RisEVHEeOCBB2SAZdi1a5e4fv26WhNyfBqyaAjqDOjGaGf37t0iXbp0skuj+T4NqOI4YMAAOT4MJfQxRixY8Br++OMPtSbk83riiSfk5Y0bN4pRo0aJRIkSyeeQKlUqeT0RERFFPwZrRBRRnn76aXVJiAsXLji6RCK4QqVElLZv1KiRvA6OHz/ukoHDPihSgmzWm2++qa51huIhKGCCzByKmuTIkUNtCbzTp087FUtBcIgqk3ieqDyJ54DnWbp0abUHERERJQQcs0ZEEQWl+xE8AYp9oMtjpkyZZNGNDz/8UHZTRFCDapGAjBSyaBjrZvjoo4/E9OnTRYMGDcT777+vrnW2YsUKUb16dXkZj4fqkr5WdjRkzJhRlthHGX9P9u/fLwoUKCCzeIDAENe1bdtWfPvtt7LrJ143ERERJSwM1ogooixevFjUq1dPXjaCNWSi0G0wceLEsqoixpa9/fbbch90ndyzZ48jWMNlBGHZsmUTK1eulPdhB9tQ1j+ucD9VqlRRa/ZQsTJ//vyOYA1j6IYNGyarUOL5o7tn9uzZ5TYiIiJKONgNkogiCro7GtAFEsHae++9J7NXyJQVLlxYFgMxCnaYz0fhtu3bt5dj1D744AO3gRqYHwf3nSdPHhlE+bPgsXzpPrl+/Xqnx0O5f2TyYPbs2QzUiIiIEigGa0QUUVKnTi0zaIBADHOZffXVV7K7o9Gl8cEHH5T/A4IgzIcGQ4cOlQEeMl2VKlWS17mDx8F9wvPPPy8OHDggM2D+LCjzj6DNG8yhZg4qEbxhvU2bNjLwJCIiooSJwRoRRRRknTAWzDBv3jwZWKG4CEryg7V3N4qFIGBDUIdAD10MvSlevLgMtIxJqFGoJFjQ1dEMBUcef/xxMXDgQHUNERERJUQM1ogoolgDsR07dohcuXKJ1q1bq2tigh8j+wYYC9a5c2dZIGT06NHioYceUlvcQ1atU6dO8vFQWn/QoEFqS+AZGTwDnvukSZOcglIiIiJKeBisEVFEQ7dGzIeWJEkSdY2QwVvRokXVmhCTJ0+WgVqvXr1E2bJl1bXeIQBEJg9wH3PmzJGXAwnB4IYNG9RaDFSyLFasmFojIiKihIrBGhFFtCZNmogyZcqotRjWzNrZs2dFxYoV5Zxl/sAE1F9//bVj0uzmzZvLYO/HH3+U2TpMuG3N9PkLtz948KBaE6JZs2aOSpZERESUsLF0PxFFFGTSMJbs3LlzcuLonTt3iixZsqit9yA4MwqLYK4zFO2wdjf0FR4DxT62b98u1zGOzShiYi5EYlWhQgU57gyVJN3BTzCmHUABE7yerVu3svojERERScysEVHEuXHjhsye9ezZ0zZQg3///Vd2jcQk2ei+GNtADTAdwC+//CK+/PJL2T0R93v79m25/PHHH+LMmTO2y6xZs8SJEyfUvdi7c+eOuHbtmgz6xo4dy0CNiIiIHJhZI6KIgiDs008/lV0b+/TpIyfEtrNp0yaZWWvYsKGccDqQrly5IgNGPAcEZcacblaYnw2BHgIxd5C1Q3VKBIFvvPGGupaIiIiIwRoREREREVFYYjdIIiIiIiKiMMRgjYiIiIiIKAwxWCMiIiIiIgpDDNaIiIiIiIjCEIM1IiIiIiKiMMRgjYiIiIiIKAwxWCMiIiIiIgpDDNaIiIiIiIjCEIM1IiIiIiKiMMRgjYiIiIiIKAwxWCMiIiIiIgpDDNaIiIiIiIjCEIM1IiIiIiKiMMRgjYiIiIiIKAwxWCMiIiIiIgpDDNaIiIiIiIjCEIM1IiIiIiKiMMRgjYiIiIiIKAwxWCMiIiIiIgpDDNaIiIiIiIjCEIM1IiIiIiKiMMRgjYiIiIiIKAwxWCMiIiIiIgpDDNaIiIiIiIjCEIM1IiIiIiKiMMRgjYiIiIiIKAwxWCMiIiIiIgpDDNaIiIiIiIjCEIM1IiIiIiKiMMRgjYiIiIiIKAwxWCMiIiIiIgpDDNaIiIiIiIjCEIM1IiIiIiKiMMRgjYiIiIiIKAwxWCMiIiIiIgpDDNaIiIiIiIjCEIM1IiIiIiKiMMRgjYiIiIiIKAwxWCMiIiIiIgpDDNaIiIiIiIjCEIM1IiIiIiKiMMRgjYiIiIiIKAwxWCMiIiIiIgpDDNaIiIiIiIjCEIM1IiIiIiKiMMRgjYiIiIiIKAwxWCMiIiIiIgpDDNaIiIiIiIjCEIM1IiIiIiKiMMRgjYiIiIiIKAwxWCMiIiK3du/eLTZs2KDWKL6cP39e/PDDD0LTNHUNESUEDNaIiIjIxc2bN8WoUaNEtWrVxI4dO9S1FF+uXr0qmjVrJlq0aCGOHz+uriXYuXOnePXVV8WePXvUNUTRg8EaEREROdm1a5f43//+J6ZPny5mzpwpXnvtNbWF4kvevHnF5s2bxaFDh8TTTz8t35eEbvv27aJ169aidOnSYuLEieLs2bNqC1H0YLBGREREDqNHjxYVK1YU6dOnFytWrBCVKlVSWyi+IWBbtmyZyJ49u2jZsqV45513xLVr19TWhANBWrt27WTQOm3aNPH333/L6x944AH5P1E0YbBGRERE0siRI0XXrl3FE088IRYtWiTSpk2rtlC4QBCN9waByqBBg0TTpk3F9evX1dbohiCtVatWomTJkmLKlCmOII0omjFYIyIiIhmode/eXWTIkEF88803Il26dGoLhRu8RwsXLhQFChQQy5cvF02aNJFj2qLV3r17xfPPPy8aNGggVq9eLZIlS6a2EEU/BmtEREQJ3Lhx48Sbb74pHnroITlOLXPmzGoLhSsEbCNGjBCpU6eWAVs0jyu8dOmSqFq1qli3bp04evSo2Lhxo8idO7faShTdGKwRERFFCWRXNm3aJP766y91jXfIWmDsE0rCI0NTo0YNtYXCXfXq1UXv3r3l5Tlz5sigOxqVK1dOdOzYUWTLlk08+OCD4sknnxSlSpVSW4miG4M1IiKiKNGvXz9ZeOK+++5T13j2zz//iB49eog///xTJE2aVF6myNK+fXuRNWtWcffuXdG3b18ZfCcEderUUZeIohuDNSIioijw008/ibFjx8q5uNCd0Rd9+vQRS5culZcxJqhQoULyMkUOdIfs3LmzvIzMaqNGjcSVK1fkejTD6yZKCBisERERRThUxcOkwPfff7946qmn1LWeYezP559/Li+j5DmCPIpMyK6hiyDs379fjjsMBUzO3a1bN7msXbtWXRsa//33n7pEFN0YrBEREUWwmzdvynLm+/btk1Xyypcvr7Z4hvnUjAqCWbJkkaXgKTIhy1S3bl21JmThkVDMv3bmzBnxySefyOWXX35R1xJRIDFYIyIiimAIuubPny8vFytWTKRJk0Ze9gRZtS+++EKtxRSqSJkypVqjSFSvXj11Keb9/eqrr9Ra8CCTa0icOLG6RESBxGCNiIgoAqHrY4sWLWQlRwOqOSZJkkStuYcAz5x5ee6553wuSkLhCROZP/zww2pNiFGjRiWIsWtE0e4+DbV6iYiIfIDGH87ab9iwQVafA4x3qlKlisifP3+cGvz//vuv+OOPP8SKFSvEjRs35Fl73F/OnDlFmTJlRKpUqdSevsPzXbRokQxs0NXPnH3wBH8aL1686BgXg3VMEo2y4d5cuHBB3m7NmjUiUaJE4tlnn1VbnF2+fFnuc/78ebmOY/j444/Ly57cvn1bzJs3TwwbNkz89ttv6toYc+fOlWXOAccvffr0TtkPOHbsmBzXhscHvK4tW7bEed4qvI6ff/5ZHmsUK/HHnj17ZBXDxo0bq2vcw2vEvFsITtDlMxKDTHw+8FlftWqVrMRpfM5QGKZ+/frikUcekev+ypcvnzhw4IBaE2LBggWiYcOGai3w8H6XLl1aXkZXyC5dusjLobBs2TJRq1YttRbjxx9/FJUqVVJrRFECwRoREZEnmzZt0tq1a6dlzJhRS5IkiZY9e3atbNmyctEblpoelGiVK1fWtm/frm7hO73Rqs2YMUMrWbKkljRpUpxA1FKnTi3/NxY9kNA+/vhjTQ++1K28++yzzzQ9+HG6n6+//lpt9UwPBrRcuXLJ54Hlscce0/QgR22NoTew5XP/7rvvND0g1Dp27KjpgZmmB0iO59+zZ0+1t7PZs2drjz76qNNzw2vUgxa1h6vjx4/L+ytUqJDT7cxL4sSJNb3BL5cMGTJoZ86cUbe+Z8KECU63KViwoNriG7zuf/75R9ODWW358uVar169tDp16jheM14H9vGVHqRrxYsX1/Lmzev1dubnrgeh2vvvv6+2RAZ8Xr755hv5vTE+63rQ6fgupUqVSsucObP8rPsLxw7fUeP4YGnZsqXaGhybN292PJYerKlrQ+P77793eq1Y9GBNbSWKHgzWiIjIrd27d2vPPfecozFUr1492SC6ceOG2kPTLl++rHXr1k1uRyBx69YttcUzNNLnzZunFS1aVN42Xbp02sSJE7WDBw9q58+f144eParNnTtXNmaNx0dAiMfz5Nq1a/J5GrcxLyVKlFB7ebZw4UKn29WoUUNtuQeNxcKFC8ugDgGaeX8sCJh+/fVXtXcMPPfu3bu77Gss5cuXV3u6mjlzppYjRw4ZDOGYpEmTxum2WM+XL59jQQB1/fp1desYd+7c0apVq+Z0OwQJ/gRXp06d0vLkySMDd/P9GAuC+R07dqi9vZs+fbq8HYKX33//XV3rCgEigjrzY2XJksWvAD4+4bOOoB/PG4H6yJEj5Wcd74nh5MmT8jOAfWITsA0cONDp+OBECk48BAuDNaLgY7BGRES2xo4dKxt7aAQhIEGj2p1du3bJ4AT7TpkyRV3r3oEDB7TmzZs7GlkNGzbUDh06pLY6Q9CGAMXYFwHbzZs31VZnaLhjOxrxL774opYtWzbH7bA0atRI7enZu+++63S7MWPGqC33nD17Vj7nu3fvaufOndNKly7tdJusWbM6BUtoNBcpUkRuw+tp1qyZSwbxqaeeUnu7QkCFx8KCQBe3N98WmURjOxY7CIJTpkzpdLvBgwerrb75+++/tVWrVmkrV67UfvrpJ61v374yI2S+z6lTp6q9PUN2Dpkk43bbtm1TW+zhNZofJ23atEENRgIBGdH27ds7njMu43W789prr8n9MmXKJDNx/pg2bZrMOBqPhcvz589XWwOPwRpR8LHACBEROdEDDDFkyBDRqVMnoQchcmwQxpG1bNlS7eEMY5Tefvtt+T9gHJYnv//+u6hRo4aYNWuWXMeYmhkzZrgdM5UjRw7x5ptvqrWYcSlff/21WnPWr18/WU58x44dQg8aRcmSJdWWGGXLllWX3Lt165b49ttv1ZqQBTtKlSql1u7BuCI8Z4wJ0xvWolq1ampLjKpVq4rkyZOrNSELgeB5ffTRR3KMGF7/yJEj1dYY1vFlZhibhe1YUHIfk2AbMG6wQoUKju3u7kdvXDveJ4MeBKpLvkmaNKnQA2I5xg6P+f7774uePXuqrTE2bdqkLnmmB19CD3rVWsxr9KRDhw7ys2nsp7dj5BKuMD6wdu3aYvLkyXJ9+PDhcm47jCW0g6qe+C4ACsDgs+gPfL7N7z3eW+u4RiKKLAzWiIjIAUEAKgr26dNHrqNgweLFi0WuXLnkuhWKgrRr104sWbJEXeO5wY25wDAfFIqUAIIdlBjH/GCeoLR82rRp1ZoQY8eOdQkyJk6cKIM43B/mnUJjF49nQLEPBJ7eIJjcuXOnWhPycfPkyaPW7N29e9elUWxUWEQwgWBz3Lhx4ssvvxRvvfWWLOoB5tcEuB9fICBGgQpDkSJFHJMie4LgAe+ZAUFe4cKF1Vrs4TODIM6AiZlRCMUTHGMEL2Z4j7zBiQGjAmbevHm9fnbiCyaMrlOnjiyeggAKr7V79+5qqyucEMF8ecbcd7EJQu/cuePyGcL9ElHkYrBGREQOaFAuX75cXkZWCGf63QVqgMYhMl1maKDaQRCEbUagBuPHj/dpfi9k1xCAGXBfyFKZoXojshYlSpSQ6whmEDQY0KhHFURvkFUzB4LIkHmbuwzZqm3btqk1IV8TAl1AsItJipHpa926tbzOYA4mwZqdcwePZX6OyE76UrIf1QfNEKwVLVpUrcUegqZChQqpNSF27drlksGz+uCDD+R7Znbw4EF1yTMjQ4rKiaigGG4QFOOkBD6ngMueAjWwZj1Rht+cmfUFKqai6qkZqmweOXJErRFRpGGwRkREEjI/aEAbBg4cKJ588km1Zg+N/axZs6o1IUup25UKR5alY8eOTo1GdLNExswXyBaYgxM0ao0MhKFv376yUWxAYGLOIiGIy5gxo1qzh2wGSv2b+VL6/JdffnGU4If//e9/MoBBsNi+fXs5AfWLL76ott5jDnRxLDGptTd//fWXWLhwoVrzL+A6deqUunSP+RjFFjKI5owOJkj2lCWbM2eOPM6vvvqquiaGuWunJ+hCiteNYC3c3Lx5U35mdu/eLdcRQGFeO2/M3yMcz3fffdeRgfUVuuYWLFhQrcXA98T6XSGiyMFgjYiI5Nl3BDtGgxvd/l5++WV52RPMO4aGc69eveQkvJjXCY1oK4zN2rhxo1qL6f7Xo0cPteYdupFZu1eaM1mA7eZ9EECZu5IhWLN7bmYIFnAsDMiQFShQQK25h8cyBysIQhFUtW3bVmbT8L8VxgOaXwOO5TPPPKPW3Dtx4oQjEAA00BEk+wJBVLCYA0bMk+cuS4Zs7IABA2SgZf2M+dINEscNn7OaNWs6ZfPCBcbwmbO+Xbt2FdmzZ1dr7uFzMmbMGPldmj59uu1nxhfWbpAQrPfd3PU1mJ8tooSMk2ITESVwaNyhCMIPP/ygrokZE/b666+rtbjBBMZoyJuzOugSZh2v5Mmvv/4qAxkEQIbevXs7ZQLNMNEwHvPkyZNyHV3lEIhZC45YocE8bdo0tSZExYoVZfbLGiiaoQgEJuJFNzZAYInJgtGdEmPoMJbNrjvb+vXr5f0bjWtM/I3HMjeA7UyaNEm88sorjkAUE1DPnj1bXvbk0KFDMuNnzrIgQERw6qmrq68+/fRT+bwMOI4Yg2WF8ZAI7BHgIkNqdFsFBPAff/yxWrOHIjIIatatWxeQ8XaBhAAVnzvjc4pgEsVkvL2ngYSutCtXrlRrMXC8ETR6gs8xJppGMO0rfKaM8a0ILq2TVHuCEyEoNOTpu+UJJ8WmBAPBGhERJVyrV6+Wk1rjTwIWTCStN+jV1rjTAyrHfWPBfGAoZ+6PFStWON0HljVr1qitrjZu3Oi0L+a10gMDtdXeiRMnXOYO0wMDtdW906dPO6YtwILy+3qjUdMDIW3Dhg1qL1fG3HTG4su8Wnpgp1WvXt3pdqNHj1ZbPdODBqfbYcFzPHz4sNojbjC9gfm+MS+cFSYWxzxsmA8M8B6ab4PpFvAa3cEUCZjuANMFhKNXX33V6fXEx/OsWrWq03PAgrn9vMFUFPg8WG8brAXTapjnmPMXS/dTQsFukERECdwnn3ziNG4JY8swziYQ0B0OGRczZLcee+wxteYbc7c/wz///KMuuTJnCQFZOWSRPEE28cKFC2othi8FP1CZ0Vz5UA8MhR6IyeXpp59W17oyZz/QPbN48eJqzT1kbIyiFYDCJ8iK+sJdOf9AQQEXc5bErsspMm/otmmMVcPnwFw4BuMMPVWRREYNmchAZX0DCVkmo+w+oKsvphoIB966/xJR+GKwRkSUgGH8D7qTGTDuJJBdy9Ad8PTp02otRqNGjfzq+qRpmtNzhMyZM7sUUjCgsW8uwAEoLe8pWEGXPFSSNO+TP39+nwKouXPnOhU/wTg0dMPEGEB30F0OY88MqPxn7g7oDrqDmo8nilIEogtjIGCcnrm7JyoimiE4Rdc1BFxGoZecOXO6FNZwZ+vWrWLo0KFiwoQJ8v0PNwj2MV2EAYE6qpiGA1+KyCC4RPVXjAf0dcGcgQYEpnb7uFsw9xyDSCIfxCTYiIgoIZo+fbpTNyK9wabpgYbaGnfWbmEpUqTQjh49qrb65tKlS9ojjzzidD+lS5fW9ABJ7eHs1KlT8nUY+yZLlkzbt2+f2moPXcdq1qwp9zVu17BhQ7XVPXSt1IM6x22MRQ/g1B72RowY4bR/rVq1NL1Brba6N2TIEKfbvfHGG2qLd8HuBoludClTpnTcN46p4caNG1r27Nk1PfjV/vnnH3WtJt/DQoUKOW6DrnF23VVxXYECBTQ90PfpOIXa5cuXtXz58jleB5YPP/xQbQ0tu26Qs2bNUlsD67fffnM8xvjx49W1ocFukJRQMLNGRJSAIVthVq5cOZ/mPfOVucseoOCCv9kG6wTQgNLo7rIwyObpjWe1FjMHmDHnmR3jDD/2MQpDIMPWuHFjedkTZLqsc6WhaAiyh+4gC4dMnhkey1uWAcU4ULTEzJfMnyFTpkwygxcseptCXYphfj2YDFwP5mRWzVo10CiwAriMQhdWgwcPlhnFYcOG+ZSNwbFCphRz23nqLhso+NxgEmwDnuPjjz+u1uJfsKpmmrus+lOYhIh8x2CNiCiBQuPKmADbgHmdfCmf7gs0rs2TUkO2bNnUJd+h0qG5m2H69OlFs2bN1Jor61xdnsra4/m98847ssLgnj171LUxE4L7UlVuyZIl6lIMNNLffvttj10u0bBfu3atWovp+leqVCm15t6VK1ecxu6hK2GVKlXUmnc49uh2GGoIYlDOvnnz5rLipZV5/CICOvMUD4DgGxUiUT3U1y6fPXv2lGMv27VrJ9/fYNu0aZNTV0N8h3x5T0OFgRRR5GKwRkSUgFmzDuagKK5QIt48UTSgVLc/kLnCOBozZK7czVuFgGbp0qVqLWYM3rPPPqvWnOG1oux9gwYNZBCABrcB49UwhscT3N4uM1m1alW1Zg8BojnzhzGCmNfOm9WrV8uMkQHZEhTr8IddlilQhUeQWTNnyQyDBg2S/9tNs4BA1Xy8cEzNgQXGgGHydASlCLx8tWvXLnXJvjhNoCEgtY4L82WcWDBYM84o/IKpK4goMjFYIyJKwDwVdIgrBAHWQMCuMe8JChiYG73I/KHIhDvIzJi7o6VIkUI8+eSTas0ZKhIiOEAXu++++07cvHlTbREygPPWwD18+LDM+hiQVcPcb9666aEro9HdEvBY3ipVwrx585yCaV8qVVohCDVDYGSdkyu2kI00B9E4fgiAMd8ajkuWLFnUFmfWz4T5M4lADV1gv/nmG3WNbzCfnMF8OVh86ZoZCjiW1oAcJwM8dQMmovDGYI2IiBxim2WZM2eOOHDggFqLgUZ3XIJBVFVctGiRWovx0ksveewKh26d5uAOXSDNpeENuN+ZM2eKr776SmbQzGPI8JyRIfNm586dTtX/EBSiIqInyD5hMmwDjjcmUfYGwR0mrzYgMKpXr55a8x2mMDDD87FmP2MrderUokiRImpNiDNnzog33nhDVnts06aNutaVOQAFY+zb+PHjZaCHcWfIDvljyJAh8jOJSp39+/dX1waP9TVAbLsTI1vr70kNAypwmk8gQLgEkkQUOwzWiIgSMGsj8/r16+qS7z777DM5HsnctQ8wPsqXQMQdZNXMBQzq168vBg4cqNbsWQuRNG3a1CUAxTgzZLMwtgzPDw1j8zg3zJNWrFgxtRbTfc86tg8WL16sLsXA8/MWnGIc32+//abWYop+VKhQQa3FzHmHAMMKgas5WEOhEHMWC8epVq1aTuPu7GAcXpIkSdRajECNUQRzkLFlyxYZOHzxxRce5+1DkGc+bjjWO3bskHOpYSxh5cqV1RbfIVOJ9/65557zGqxgLkB0TcVinWfPV3h95teAEwbmrpi+QnCLwNZ8EsAfeA7W8Wl16tRRl4goEjFYIyJKoNBINwcKgMmk0cj2FSopItvVq1cvl4IKaDBb52zzNTBAV0dz0ILABMGbt+6C1oIfCATMMJ4Nc661atVK9OjRQ16HwABZIAMyZEZFTIwTQ2ELaxVFzKNmnngbAQECQG/w+BjLZyhdurTs2gkIUlCIo0CBAnLdzDwOD8qWLSu7eAICtdatW4uTJ0/K4iueYIybdULyFStWuFRyDBRU7cQYQ09q1qzp9L6i6ySCLIwnNMa7Bcv3338v57fDMceCIB3zpfkLr8EckCJoRXbPV5jvEN1yjXnOvI2XdAcTc5v5mrklovDFYI2IKIHCWXhkH8yQZXjttde8ljvHfiNGjJAT4b711ltuG6bdu3cXSZMmVWsxZfi9QTcwZLOMrB8CNWSxrOOt7FiDDiPbgdczY8YMGQQgc/bpp586MkwoQGEu3IGuk7gdXiMyhqgsaM60ASa0NmdhEODZBVlWGFNnZnSbRPl/NNbRNfOJJ56Q15lZu8WZs03dunWTjXx0G/RWcATBKwILMwQKxnEKJAQco0ePVmvuWR97+/bt8nmOGjVKXeM/fHYQUFuDFzNkOBEQ4tjj+GJB5rNz585i1qxZai/fYJJuTIJthu6uyAx6gyI6+BwgIP/xxx/lVBOxhUqa5s8KAlFvBW8ild1nNrbduInCGT/VREQJGIpUWLNraDxi3q8NGzY4BTGADBSyaQheBgwYILvtIePlDgIYdDc0oBHsqXsYHhvdCY3sU926dWW2rGDBgnLdXwj6sGCsFrJpyJChwId5DNSyZcvUpRgXL16UQSUqV6Kx27VrV7XlnoULFzp1N8Nz9jauCgGE9bEuXbokC4fgsZDxsysagkDTejuU4Udg+t5778mpDfB8rOPR3EF1THNDF6/31KlTai1wUL3RmsWzg9dhDjCQ1URW1Z9Kl+j+ijncEBwhwEalTGSUMObNHQTc7rr94uSDueCMNwgS+vTp43RiAq8LxWv69u3rcnwxl9zmzZtlRrpkyZLy/UCgljt3brVH7JgL1wA+l9Z57aIFTr5Y4QQLUdTRf0yIiCgBO3TokPbkk08iJeW06A1ITW/0anogIZfq1atrekNabtMbwpoe0Kh78OzatWvaCy+84LjfIkWKaKtWrVJbY+iNZu3jjz/W0qRJI/fB/+PHj9f0QEXt4Zt8+fI5Hse66MGadvToUbXnPc2aNXPaT294y/9r166t6Y1ftZczPYhz7I/j9N1336kt7ukBiaY3xh23My+9e/dWe7nSG/Zazpw5nfbPnj279r///U/TG+KaHsyqPX2D+ytdurTT/a1YsUJtjRs94JT3lz9/fu306dPqWs/Onz+v6cGnvF3y5Mk1PXhVW3w3f/587fnnn9dee+017cEHH3S8Lj34V3u40oN2x352y9q1a9WevnvnnXds7ytt2rSO7xGWwoULy+vx2dGDPO3vv/9W9xA3BQsWdDymHjhqO3fuVFuCQw84HY/3ySefqGuDA78RV65c0fQgW35fHnjgAcdjGwu+XwsXLpT7YcFtiCIdgzUiItKOHDmiVahQwaXxY10KFCig9e/fXwZg/ho2bJj28MMPO+6rYsWKWvv27bXmzZtrGTNmlNehsdW5c2ftwIED6lb+eeuttxz3byzJkiWTj+0u8OvWrZvT/gjWWrdurd28eVPt4ezYsWNa+vTpHftnypRJu3jxotrq3n///ecUtGJJly6dNnDgQLWHPdxu0KBBTrfDggBn6dKlai//zJ071+m+cAwCoVGjRvL+pk2bpq7xTa1atWJ1Ozs4GYD7ypEjh3bp0iV1rauDBw9qKVKkcBwD6zJr1iy1p3+mTJkiT3LY3ad5wcmAdevWqVvFHV6PcbIDS9OmTdWW4AllsIYgF981BL7GY7pbsB+WevXqqVsTRa778I/+wSYiogQO3fRQdRDdBNE9D13v8CcC42lQuAIFNJ566imf5gRzB2OC0MUQj4NuliiKga6OmJMLpejRJcwonBEbeL4YJ4UiDeiahqInzZo1cyopb4WucOhOiLm80O0R3RGtY/nM0NVKbxg7xsegmxnGmZm7FrqD0uoY44dpDvTARlb+04MKtdU9dIVEl1O8LoznwnuB7n7WAiq+QrfBMmXKCD1Il+voCotCI3HtMocxjDiemBLBWnXSkxYtWsjHRhfbuFSnRHdDzKuG6QjwubWr4mmGMYJ6IC/Ht7Vs2VJ2G3zllVfkuDmMIcQ4wNhAd8Svv/5aVufEc1m7dq18n/H5QiESFF5BV81AQmEUjLcDHEsUailevLhcDxa8TnwXAFM02E2TESgYW4iuqfieearwid8Ao1stfks4xxxFOgZrRERkC+Nq8CfC2+TQsYX7RhDiT6PeV8afNl8CKAPG5wXrtVphvFtsAiME1EaQGFcIyjF+DccK87YhgI5LcQvA+xmbYB4VLQPxOcAE3xj3h/d9woQJ4uWXX1Zb3EOZfbwfxnuPgBNBIwI9owBMXOGzhfFs/nwe/YHXUKNGDTnuDXDCAcEiEUU+FhghIiJbaFwGM3hBwzUYgRrgvv1tGIcqUIPYZrACFagB5mUzMi/IWKCMfVzFNusaqM/Bd999J//HZxfBiy+QyTPeewRVKHKD12FMqRAIuP9gBWqAjLUxGTay4ChqQkTRgcEaERFRAoQACeXxja5rEydOdKn+GUkQcBrz0eXKlStWXfJ+//13sXPnTtl1Dl1+IwXeO6N6JapSeur2S0SRhcEaERFRAoXJtTEFA2BMEObOi1TILmF8GGD8Y2zGPmIydnQ17dSpU0CzmMGEcXqTJk2SlzEB+RtvvCEvE1F0YLBGRESUgL3++uvipZdekpc//PBDcfz4cXk50qAbJ4qbgHnScF9honSM86pdu7bo2LGjujb8obAICqSgqyXG6QWzuyURhR6DNSIiogQMjft3331XTnSOSpfdu3d3mVw53KH6HyYXB0ymjQmx/YGqj6gCWb58efHZZ59FTMCDiqrIhiJQwwTg+fPnV1uIKFowWCMiIkrgMmfOLItzIGCbP3++6NKli9oSGTAFxJYtW+TlKlWqiIwZM8rLnqC74+7du8WLL74ou4IOGjRIrFq1SmTJkkXtEd4OHz4s2rZtK7trYqqE5557Tm0homjCYI2IiIjkPFmLFi0SzzzzjPjiiy/ElClT1Jbwh3nRMG0AIOD0BQKzOnXqiLNnz4olS5aIfv36xXmeuVDB/HiYVuDq1ati+vTponHjxmoLEUUbzrNGREREDuhS+Pbbb4tx48bJycFRaRCl8MMVmjEvvPCCmDFjhiy5v2PHDtkdEIGMp0nDUYwEFRRROTKSoFolCqjgtSHIfOyxx9QWIopGzKwRERGRwwMPPCA+/vhjsWDBArF+/XqZtTl48KDaGn4QXBpzjGHeOARqmBy6W7du8jp3MmXKFFGBGoqnoFplo0aN5IJJuxmoEUU/BmtERETkApNKb926VQY1c+fOVdeGH0xifeLECXk5WbJkspQ9xp8hOxhN0PVxzZo1YsWKFXJ+PIwzJKLox26QRERE5BGyV8i4hSMELxi/BZhbLXfu3LJgCLJP0QTNNZblJ0p4GKwRRYFLly6J/v37i3///VddE1zoeoPHIyKKb5gMu1atWmLPnj3y/549e4oKFSqorUREkY3BGlEUOHr0aEjHXuTJk0ccOHBArRERxS+csDp37pwoUKCAuoaIKDowWCOKAphjCAPrb926pa4JrsKFC8vCA0REREQUPAzWiKIAxpNcuHBBjmkIBcxFlCFDBrUW//788085oe+zzz4rUqZMqa4lIkq4MOH3/v375dg9TJxNRJGJwRoRRaxr166JyZMny3LWFStWlJdRDY6IKKFDoIZJvx9++GHRt29fOZ6PQRtR5OG3logiEuZRKlWqlHjzzTdFnz59xFdffcVAjYhIyZcvnyz1j3nn6tatK1588UU5VxsRRRYGa0QUUW7evCmrvaFU90MPPSRWrVolOnfuLLtmEhHRPVmzZhVffPGF6Nq1q5g2bZooXbq0WLt2rdpKRJGA3SCJKCQwF1K/fv3UWuyh6+O+ffvk5ccff1xkyZIlZIVViIgiDeZm+++//+Tk4fgf8+UVK1aMXSIp3kyaNEkUKVJErZE3DNaIKCTQTbFNmzZqjYiIiBKi1atXy3Hm5BsGa0QUEnv37hWLFi1Sa77DWeAtW7aIb775Rq4XLVpUNGvWTF4mIiL//PXXX2LkyJFy/FqqVKnkmF+iUGrZsqV49NFH1Rp5w2CNKArcuHFDfP3117KEfyikT59elskPhRMnTogqVaqIQ4cOiaeeekoGfBiHQUREsfP999+L5s2byy7kY8eOFR06dFBbiCjcMFgjigLHjh0TOXPmVGvBhypjxrixYPr7779FkyZNxJIlS0SmTJnkmAsGakREcffhhx+K3r17yzFtyLShCAkRhR+OLiWKEqEcLJ4oUSJ1KbhwtheBGqo+fvLJJwzUiIgCpEePHuLVV18VOGffrVs3Oa6YiMIPM2tEUQBdWX7++WdZ6SsUUqRIIUqUKKHWgmPq1KkyWEPXTpz1RWOCiIgCB13oUc5/z549Ilu2bHJethw5cqitRBQOGKwRUdhBMZL//e9/ciB85cqVxeLFi2V2jYiIAuvAgQPi6aefFpcuXZLFm6ZPny4LOxFReGA3SCIKK8ikvfLKKzJQw5ledH9koEZEFBx58+YV7dq1k5dnz54ti1URUfhgZo2IwsqwYcNEz5495eVp06aJVq1ayctERBQcKOOP7Nru3btFlixZ5P9p06ZVW4koPjGzRkRh488//5SZNHjyySdDNj0AEVFCljJlSjFu3DiRJEkScebMGVkpkufyicIDgzUiChuff/65OHXqlGwwjBo1SiRLlkxtISKiYHrmmWdE/fr15WX8/u7YsUNeJqL4xWCNiMLCxYsX5eSsgAZDtWrV5GUiIgqNXr16yZNl//zzjxg6dGjIKgwTkXsM1ogoLEyePFmcPHlSXn7ttdfk/0REFDrFixd3ZNfmz58vTpw4IS8TUfxhsEZE8Q5nb2fMmCEvFyxYUJQsWVJeJiKi0Oratav8//bt22LOnDnyMhHFHwZrRBTvli1bJidlve+++2QlSI5VIyKKH0WLFhWFCxeWl6dMmSKnUyGi+MNgjYjiFSqOYW4fZNfSp08vatWqpbYQEVGoJU+eXHTo0EFePnz4sDyZRkTxh8EaEcWrq1evipUrV8rLFStWFBkzZpSXiYgoftSsWVP2cPj333/F3Llz1bVEFB8YrBFRvFq7dq04d+6c7ALZuHFjdS0REcWXHDlyiBIlSsjLv/76q/j777/lZSIKPQZrRBSvcNYWXSHTpUsnKleurK4lIqL4kjhxYtGwYUN5ef/+/WL79u3yMhGFHoM1Ioo3ly5dcnSBzJcvn0idOrW8TERE8Qvjh1OlSiXnXPv222/VtUQUagzWiCjeHD16VE6GDaVKlRIPPvigvExERPErb968ImvWrPLy5s2b5f9EFHoM1ogo3qxfv17cuXNHXmYVSCKi8FKtWjX5/8mTJ2VPCCIKPQZrRBRvjhw5Iv/HeLU8efLIy0REFP9Q9Kl48eLyf/SCOHHihNpCRKHEYI2I4s2aNWvk/9myZZPVx4iIKHyULVtW3H9/TFPx+++/l/8TUWgxWCOieLFr1y5x8OBBeblw4cLyfyIiCh+PPvqozK7BH3/8ISv3ElFoMVgjoniBCmPG3D3FihWT/xMRUfhIkiSJSJo0qbyMzBomySai0GKwRkTxYtOmTfJ/VIBksEZEFJ7QFRL+++8/+T8RhRaDNSKKF7///rv8H+MhUCKaiIjCT4ECBeT/qAi5detWeZmIQofBGhHFq0ceeYTzqxERhTFUhLx9+7a4fv26uoaIQoXBGhGF3M2bN8UPP/wgL2Pwevr06eVlIiIKL5UqVRJp0qSRl43KkEQUOvzWEVHIoaLYX3/9JS/fvXtX/k9EROHnoYcecgRp3333nfyfiEKHwRoRhRz+8Bt//FldjIgofJnL9Z8/f15dIqJQYbBGRCF39epVWbofSpUqJf8nIqLwZARsDzzwgPyfiEKHwRoRhdyGDRvEhQsX5GWW7SciCl/oBWHMtUZEocdgjYjiFbtBEhGFr9SpU4vKlSvLy8ysEYUegzUiIiIisoWy/cb0Knv37pXVfIkodBisEREREZFbxpi1/fv3ixs3bsjLRBQaDNaIiIiIyCt0g0SmjYhCh8EaERERERFRGGKwRkREREREFIYYrBEREREREYUhBmtERERERERhiMEaERERERFRGGKwRkREREREFIYYrBEREREREYUhBmtERERERERhiMEaERERERFRGGKwRkREREREFIYYrBFRgvbvv/+Kf/75JyqW//77T70qIiIiigb3aTp1mYgoJObOnSuaNGkiL3/77beiQYMG8nJ8ePPNN+VziAZffPGFqFChglojIgqMdu3aiSlTpog0adKI/fv3i4cfflhtIaJgY7BGRCEXTsFa27ZtxdSpU9VaZFuyZImoXbu2WiMiCgwGa0Txh90giShBGzBggChWrJha8yxp0qQiUaJEIV0eeOAB9ejeJU6cWF0iIiKiaMDMGhGFXDhl1uD3338XTz31lLh9+7a6xl6rVq1E//791Vpo3L17VyxdulRcv35dnD9/XixbtkwcO3ZMbXX2wQcfiN69e6s1IqLAYGaNKP4wWCOikAu3YA1mzpwpOnToIP7++291jaskSZKI1atXizJlyqhrQg9B2/r162VG8JdfflHXxnj22WfFvHnz1BoRUWAwWAutw4cPi5w5c4r774/sDnAnT54UGTJkEA899JC6hmKD3SCJiHQtWrQQr7/+ulqzh8wbAqJff/1VXRN6KVOmFLVq1RJr1qwR3bt3V9fGQLdJIiKKXLt37xbdunUTEyZMUNdEpiNHjojBgweLt99+W11DscVgjYhIGTRokGjWrJlas3fu3DkZJP3111/qmviBM5XDhw8X1apVU9cQEVGke+ONN8TixYtldi2SjRo1Snz66acyE0txw2CNiEhBAZExY8aIxx57TF1jb+3ateKFF16Qc7TFt/Hjx4u0adPKy/4UIyEiovBj9JCI9J4Sxt8jFr6KOwZrREQm6F+/cOFCkTlzZnWNvfnz58t5zeLb448/LseTwM6dO8W1a9fkZSIiIop8DNaIiCxQyn/gwIFqzT2McUOxlPiGcXRw9OhRcfPmTXmZiIiIIh+DNSIiGx07dpSDoz1BN0iUysdA6viUL18+kTVrVoHivvfdd5+6loiIiCIdgzUiIjfefPNNUaFCBbVm79ChQ6J+/frx2v0wffr0Infu3HJONgZrRERE0YPBGhGRG5hXDfOWoVukJ3v27BF9+/YV//33n7om9KpWrSr++ecfOQ8bERERRQcGa0REHiBrhRL5qVKlUtfYGzt2rBgyZIhaC70nnnhC1KlTJ+LLPVNkC4cKqdHkzp076hIRJVQM1oiIvKhUqZKYNm2aWnPv448/Fj/88INaC63GjRvLuXlq1KihriEKnfXr18vJ2vEZpMBBoaMXX3yRJ2GIEjAGa0REPqhXr56s/ujJ1atXRdOmTcXx48fVNUTRDd1u+/TpI2rXri0KFSokypYtq7ZQIGA8LCYVLl68uJg8ebK6lsgVTiiiy/5TTz0lSpQoIb+L7pZSpUrJzxT2RTXhW7duqXtxduPGDdljw9P9lSxZUt5XtWrVxOXLl9UtKZAYrBER+QCFO0aPHi0aNmyorrGHgK1t27bi0qVL6hqi6LRv3z7x3HPPyS7AS5cuFUOHDhUZM2ZUWykQ0BBevXq1qFy5sujQoYPo3r27OH/+vNpKdM+jjz4qunTpIsqXLy//Dm3cuNHtcvr0aZEiRQqRM2dO0a1bNzk+287ff/8t8ubNKwto2d0Plj///FPeV7NmzUTq1KnVLSmQGKwREfno/vvvl+PX8ufPr66xh8ZVjx491BpR9EG3R5xV//XXX8XKlStFuXLl1BYKtKRJk4qZM2fKwHjkyJGiZs2asrFNZIbu+jhR+Mknn4hffvlFVK9eXW1x1rp1a7F7926xZs0aWUDrmWeecVtFGCdf8Jnbvn27eO+999S196DHyZYtW+R9tW/fXv6NpMDjUSUi8kOuXLnEN998IxtQnkyfPl0MGzZMrRFFDwRqyDDfvn1bfP/99zL7Q8GF3xv8pqDLGhrOaCSfOXNGbSVyhgwX/k5lz55dXRMDnyPMDZomTRp1jW8eeugh2c3R7KOPPhKLFi0S6dKlU9dQsDBYIyLyU8GCBcWYMWPcdh0BVMXr2bOn2LBhg7qGKPIhUGvUqJHs5tuvXz8GaiFkBGxlypQRv/32mwzYTp48qbYSOUMF4+TJk6u1GI888ojInDmzWvOPuXjWhx9+KN566y21RsHGYI2IKBYwfqRTp05qzb0WLVqIXbt2qTWiyIUADZ/nixcvyi55b7/9ttpCoYIMB7q5pUyZUmzbtk289NJLaguRK2v3RhQKic24snPnzokJEybIyxg/+eabb8rLFBoM1oiIYmnAgAGyWpsnJ06cEJ07d5YTVhOFCzT4cbLBn3m80EBDJgcZ5V69eqlrKdTQ4G7evLm8vGzZMvHOO+/Iy0RmCLCs1RljO7VL165d5f0hk47ulYkSJVJbKBQYrBERxRLObqOcdtasWdU19jD4ul27dpwwmMICMr0ot//XX3+JxIkTq2s9mzRpkpgxY4a8jO53CBgo/qDYQ44cOeRlFD1CVT4is71797qMa3zsscfUJd/hez937lz59w7jsDlGLfQYrBERxUGGDBnkH7JMmTKpa+zhDx7GmxDFJ2TSUN4bgRq6MvoCZ9RRlMA42YDbU/zC7w2qQgLeS1Sf9SdLmlBg/rBjx47JBXMCJiR2lRn9PWF46tQpeWJH0zQxa9YsOS0AhR6DNSKiOCpdurR499131Zp7r776qliwYIFaIwq9ESNGiJ9++klWifO14YViOphLCR5//HE58S7FPwTNRlXan3/+2akABMXAuL4nnnhCLgg2EhJrV0UEb/50X0SAhu7O6MqPLtOYHJviB4M1IqIAeOWVV0T//v3Vmj2c5UUFLc6RRPEBXZiMoiB58uSR1eK8QTeqzz77TK0JUbduXTkBLsW/3Llzi6eeekpe/u+//+TkxpyM3xmOC353sSS0bujWSsSYNBsnFn2FsWmY3w/j1DDGleIPgzUiogBBKXOU1fbk0KFDssF77do1dQ1R8CFQw1QSBuucSe6MHz9eXLhwQV7Gmfn//e9/8jLFvwcffFAUKVJErcX8tnDsmnvuJn6OVpj42gxZNW/zgxpwkqZ79+6y1D8CtoR27MINgzUiogBB42n+/PmiaNGi6hp7mNR20KBBsptJNEMFTIynMS+B9PfffzvuF5fjOmYH94El1PCYmGDaE2yPzfP7448/ZNVSc6CGz2n16tXVmnsI0lBYxICGXoUKFdRa3OCzgdcSm+8AsiS+3A5ZFTwG9g8XeC7m7wOWuECxF7OhQ4dy7BpJ1i6P+M748r25e/euaNq0qewBgvnUkMGl+MVgjYgogHAmEg0mzIfkCTIdH330kVqLHuhqhO4zKPWcL18++YceXe6w5MqVS2YVcaY2tpA9GDt2rKhUqZKsbIYxVDlz5pRjsEqVKiUDE3+zlhjvg2INeL5Y0FDxtRgBim+gpL2x4PE9BQcInjCh8cSJE+X+zz//vHzMzz//XO3hbOfOnTLQwgkA7IexN+hK6y1o279/v/wcomojKgeaIYgxHh8L9rNrxK1evdqRVQNMBh+XSnCoTjdv3jx5xh7j3pClu3r1qtrqGxTqwe28BTnoDogxNjhmTz75pCwCFF/wXDFO8LXXXpPfAXxmje8EPrv4DCxdulTt7R+8H+bJ+dH1bcuWLWqNEjJrNszXbqCoLorPEQoQtW7dWl1L8Ur/gSYiCim9MY+WoVy+/fZbdW10+frrrzX9j6XjddotadOm1dasWaNuEdnu3LmjLViwQCtdurR8bffff7/WvHlz+V6vW7dOLl999ZVWoEABeVwmTJigbukbPUjTOnbsqOlBsLz/p59+WuvUqZOmN4LlfdWoUcNxXPEYeDxf6IGMliJFCsdtjaVbt25qD8/04MHpdnrQJ4+Fmd7w0apVq6YVKlRIS58+vdP+WHA89KBM7R1DD6i02bNnO16vdfnss8/Unq7wmuxu427RAxr5eFZlypRx2k8PYtUW3+iNQ00PQrVXXnlFK1y4sNN9YUmcOLH2yy+/qL290wNUTQ+8tESJEmnbt29X19obMmSI02NlzZpV0wNltTU09CBNmzp1qqYHufI54HPWtm1bbcmSJY7vxPjx47Vs2bJpSZMmld8ff/3zzz+aHvQ5vVY9GFZbAwfPG/edJk0a7fz58+ra8IdjbBwXHOtIgN8QPN+ePXuqa/x39epV7fHHH3e8diz4DbL+NlnheKVOnVr+Jty8eVNdGzv4DcXj1q1bV11DscVgjYhCLiEEa9CuXTvH63S3pEuXTtu/f7+6RWTau3evVr9+ffl60JDu0qWLtm/fPrXVmdF4SpIkibZjxw51rWdTpkzRcuTIIW+XOXNmbeLEiS7Bxd27d7WXXnrJcVwRFOGxPOnXr5/c97HHHpPBpXFbLE2aNFF7efb666873W7QoEFqyz1z586VQQuC1c6dO7s8VrFixeTzN9y+fdvROMaCY2XeH0uVKlXkfnY2bdqkzZo1S5szZ478ruXOndvptl27dpXbjMXuffj999+15MmTO93O3wAbgUSzZs20ChUqaJUrV9bKly/vdH9Y+vbtq/b27u2333bcDsfSE3xmzI+DxZ/AMK62bNmilS1b1vHYb7zxhnbixAm11dm0adPkPsmSJdO2bt2qrvUNjjEa1sbjYMH69evX1R6BwWAtdAIRrF26dEmeDDReOxb83nmCAM/4LP3444/q2thjsBY4DNaIKOQSSrCGs5hGEONp+eijj9QtIs+yZcu0jBkzytfhLTuAgMRoiGAZM2aM2mIPZ3YRNBkZyly5crkNAgEBXOPGjR33nyFDBm3Pnj1qqzMcc2Rbfv75Z+3ixYtazpw5HbfDMmLECLWne7du3dKeeOIJx23w+nft2qW2uvfMM884PRaCTLPXXntNXl+yZEn5XTl8+LBWu3Ztp9sgs4jMjTd//vmnDHCN2yEg8HQMDQgwzY+HZcWKFWpr7BmvzViQvfPF0aNHZaBg3A4ZTU+uXLmi1atXz+mx/A2EYgvfARxnPCY+g96OW61atRzPcdGiRepa3+Azj0DQuD0WPDYy0YHEYC10AhGs4XtvzeLjZIcnOMmG/QYMGKCuiRsGa4HDMWtEREGCAd4YD4RxKe5gXADK/keid955R471wrgmvYEo5zFq2LCh2uoMg9YxFkIP7tQ1numBmmjRooUc/6b/rZKTAC9evFiOQXIHYzRatmwpHnjgAbmuB2Fi9OjR8rKZ3oCTBV4w5xjKUqMUPSodmpmr7LmjN/7lGDoDxiNhXJcneuPa8fwgceLETpNTo0DNhAkThB7AyeepB5/yfq1zm2EclrdxkbBjxw5x9uxZtSbk/fhSMGDJkiXq0j0oChJXGG9nLv2Pz4UvY2lef/11oQdgak04HUM7qVOnFrNnz5bl7AHfRRzrYMJrwZg8fG4xTi1jxoxi4cKFomrVqmoPZzieGDP4/fffq2u8vy4rfOZTpkyp1mLgsdeuXavWKCFCQSL81pjhd9SdqVOninHjxsm5F71NQUOhx2CNiCiIEFxgIuzkyZOra+7BvDeffvqpT/NdhRuUdEfAAyhwgMIP7gI1OHbsmOjdu7dai4EAzI4RqKGha0CRDBTX8AbFJ8xV0DBRsDGhs6FPnz5yEnMUEgEUZDh69Ki8DA8//LDHoNDw7bffOlXeK1u2rLrk3qlTp8TmzZvVmpBBrjFXFp4HnlOHDh1kwIaqje54aniZmY8hoAiL+fi4g8DDDIFh+vTp1VrsZc2aVTz99NNqTchiKwcOHFBr9vAeWgtw4Dh6g2P7xhtvyIAGQXSBAgXUluBAgxfvH4q/4DFx8sL8Wq1++eUXecLADLcLBF+OD0WvH3/80enkBlhPSBmOHDkip53B7w1+d/w9YUDBx2CNiCjIkKUxAhsDGr84Cx+IBnCoIdgYOHCgWhOiffv2HgM1QOPfHAAULlxYVuuzwtngF198USxatEhdI+R+CGB8Yc3SoFqjtXLinDlzZEbDgNdjPgudLVs2kSVLFrVmDwGlOfuEBo45Q+bOtm3bnMr0Y16+tGnTyueJ143qawjgzQ0rHDdkyMxQVdMbVKW0Zshq1aqlLrmHRh6qF5rheBQvXlytxR4CRfOxNQe7dlDZE1lGPLY5I+dr9cR9+/bJwLZt27ZBbYTi84osnvE56ty5s6hSpYq87I4104cqkd7mabSD74f1tfmawabohKyt+YQOTgLY/Wbg9xIT5aNM/5dffhn0ExoUOwzWiIhCAI1GM5zJRBe8SIOg4tlnn5Ul6AHl899//3152RNkEXv06CEyZMggs1/IKCDzYYXuW+gKaEADHV0Z3Z0V9gaNljVr1qi1GOZgAQ0ac6YLGjRo4DXDsWvXLqeMEILvQoUKqTX3kD0zB4bIxKChjfL8yBx+9tlnLo+NoAsZKAO6vfmSZTx58qQ4f/68WhOy+2Pp0qXVmnsIDq1TF+A4WbtVxRaCEgNeq7krqdWUKVPkZ27MmDFOJep9Dby+/vprGSCiPH6w4Bh36tRJ3LhxQ64ji4fvtzf4HiCoQ7CO+eswpUWaNGnUVt+hy6dVMAPTSGL+Lnn7TkcTu+y53WdryJAhsqs5Tob5crKJ4geDNSKiIEMmxzyPVpcuXWRXvEiE7o/mMVBGY9MbBGYff/yxDFoxh49d1gEZHTR6zUFBq1at5JgtX1kbKQg8zM/XCvN84fmY+ZK1QrBpzhSiuxvm2PNm+fLl6lLM5NQI2DFvHLotISi1a2Rv3LhRBiwGzJ3mSzdNZJ/Mc87lzZvXKTvlDhq1sQ2OfVGxYkV1KSYIdDe+Cl1TP/jgAznODcGpecycLw1vdO9CANSmTRs5fixYkJlAYGzAmB9fHg/HGO85gn68/3hfYyNQQXQkME4a+LMY7LZ5WyLVmTNn1KV7rK/n119/lXN9IpuGkyHB/M5T3PCdISIKohUrVsjGovGHEt2cfDnrHo6QFfrwww/VmhA5cuSQXSD9gW6f7sZiTZs2TezZs0etxWQHUFjCH5hE2hxEoVFvl3kwIHg0j+1AphBZQE+QVbRm63BW2ltjB+OITpw4odbuFTHBRNooRIPxXHbQXdb8mjAhuC/w2TPgOPh65hxdPM2PF2jWro/uxtDhuKCrIE5soOuo+TmhiIa3LpRoiCKbgMI2wWqIYqJvZCYMmOi6UaNGas03yDYH+vmhu62njGWkwoTqyGD7uuC314AeAHb7eFpQRCgSWbsJI8jFYsBvGE6M4bs+adIkkTRpUrWFwhGDNSKiIME4AHT9M8YoIfOCYiPBPMsfLAg20fg1N5DRKE2XLp1aixsETKNGjVJrMRDYovHrD3RPNI9bQ0avevXqas0V3g/zGLIaNWrIxrMnGIRvdAMFdM9Dw84bFMpAhUoDKq8hK4NME6pY2kE2Ca/JgKDrmWeeUWvuXbp0SWzfvl2txWTx3FUltFq9erVLcYJAQnBmDk7sAhU8BxTowIkNNCRxjM1BNIpzmANfKwT9kydPlt1LPQXrcYHGL7LFaPAaUL0z2FUnfYHnhO6z0QZZyN9//93nxVw4CBl2u308LdbuwJHC+p1C9sxclRhjjtH9+5NPPvFYBIfCA4M1IqIgQcEBZHoA3c9QOMJdBcRwh4YOumqZ+ZtB8ARd/dBtzezll192GqfkCzTirTxlLaxd8Mxd9OygexFKXJuhe6EvxTfMRTsQsGAcGrKV6FrqDhqn6K5kQHdAo3qkJ8j8mbtC5c+f32sQavCllH5cYKyWedwapn4wd9HCZWRQEMyi6AogQ2Y+xtjHnCkww7aOHTvKBqq/mV9/oGuqOauGoDKYj+cvd8cnkiEbjZM4vi7mghkIVuz28bT40sU7HFm7U6NHg9EFGieN8JuDk1ivvfaavI7CnP5lJiIKKUz0i58fLNE4KbbeWNT69u3rmMwZi7cJoMPdF1984XgtWPLkyaP9/fffamvc4Hi1a9fO6f71RpKmBxtqD9/cuXNH04MAp/upVKmS9s8//6g9nOnBoaY3YBz7pkyZUl7nybPPPqvlzp1b0xtDjtthomdvrl+/Lif1Nm5jLEOHDlV72JswYYLT/s8995za4hk+f+bbvfPOO2qLd7Nnz9b0ANfp9njut2/fVnvEDd5vvRHtuO8cOXLICcYNo0aNktdjQmOzpk2bOm6TOHFitxM/4/nrwbCmB+LqmuDA8zR/x/VAX34GQ+333393+jxiefTRRzU9mFR7xF2kToq9ceNGxzGZOHGiuja8xXVS7EuXLsnfZ+N1YylXrpzctn//fi1Llixywuy9e/fK64KFk2IHDjNrREQBhrFCgwcPdpzZRulxnOmPZN999526FAMV7wI1zgHjj1auXKnWYqByob9dLNGl0ZqdQ+VKd93SMBmxUcEP0B0IY9bcQWYR88VhzBiyNwZfxpAhc2jttofKjMggeYLugAZ0gcTr8QZjuzCBuAG3Q5bAV3g9salK6Ct8L4zvBuD5GdBNFJOtY340vYGpro1hPuZgN2bNqMyIIj7IzAXTV1995fQ6kLl0N/4u1JC5jNQsfiCZxzlaPz/RCt+BgwcPqrUY+JziWKBbPjLuKNOPbDtFBgZrREQBhHEAL7zwgloTomjRorLbnL/d+cIJJpU2j5sCX4tc+Mpa0ALBhb/HDFU3zQ0ylLivWbOmWnOGxguKMJhh7jd3jW2M/3nllVfkWA8UCjEa6SgK4q3rJKA7rLV7Ya9evTyWWEejyhysYeyVt7m7AO+VuVALxkpiMmxf4RiYAyjAuvW6QDLuG8ErgjDzPHgG81hPHEvrHHJgVCdFFclgwpgwc6AP3uYaDCXr94kSDnT7tv6uYLzn9OnT5Uk3lOmvXbu22kKRgMEaEVGAYDB6165dHcUncGYbRRLC5Wx7bKG8/fHjx9VajEA2Bjdt2iTHLZm5C7LcQXBiLosPGNvlruw/GvvmMXh4jzyNwWvevLksdoKM3/r169W1Qt6/t7FgeCxk/cwQPNlNCm6G4gjm44LH9yXjhTFu5sAQhUX8yZQh4LW+vwigAlmwwnr/KICCMXxoUKLoil1lzPr166tLMcE2MrJmKPaBMWTIGgT75Ih1nj3wZVqEYLALoq0nBijhsDsBhEJL6OFRrFgxecIpmCdeKPAYrBERBQgGa6NgBKDxj1LR0dDVBH/YPWWA4gqVC81zaIG/FTOHDRvmkunA/Fzuiovs3r3bqaJj9uzZ3RYJQVVBZLhQ4hpBoflxfMmmYA4ucwlwPCdk1bxVDfz222/VpRh4LF+CEHMwCWig+dM4S5UqlUsmDtlE6+ThsYXnki1bNrUWczxwoqNdu3aygErv3r3VFmfmLodgfk0///yzePfdd2WZfn+6fAZSfHWzswvMfMnAUnRCISPrZxFddvF9mThxosiSJYu6liIFgzUiogBApUdk0QzohoXuJtHKn8a/GbJ01kY3uq1ZAxd/Gr4IvGbPnq3WYqCKIMrwu4PbmEuuY0Jiu+AJ+6H7I95bZHvmz5+vtsRkg3zpToRMl3l8FYJCb1k17G/t5udL11MEkuY54HBG3ZdJvs3wuqwNOrwfgcrW4LNTuXJltRYz9QGOL7qK4nvjLoh1F6z9/fffolmzZjJIQ2Y7FKzPBWKbQcd3Ii7wObFmKs1l2ilhwbha6+cTnw8EapiEnyIPgzUiojhC4xiTNxsNJjTg/Z3MOZzhD7+1MRibLnEYI4aiEdYulSjsgdLSsTVixAin54OxZ4MGDfKYDURxETM0YqwBKAqCoGskMj61atWSXRJXrVqltsZk4zAezIBulZgk2QzHbu7cuU6Np3r16rmdGNyAY4TpEgyYgNxchhwBoDEthBm6lCKTZ0Bm1zxXHQKuvn37eg0Q7AJdb5lAf5g/T+juibFqTZs2FQ0aNFDXukJQZ35PUZQGwSm6qGKuPATSvmaAEQzHJUjC+2cNzqzvvS/w2vGdQHY5tqwZZQTonDsr4bL7DuB3rFWrVmqNIg2DNSKiONi/f7+cD8xofKJKIrI8aDBFi4cfflg8+eSTai0GutUgo+ErjEeqVq2a7J5lntwY0OjFY5j5mqVAlx8UFjGgEY0zyNbHMMOEz+biIghCrMEJgiXMQ4Rt6M4Khw8flsVWDJjzyRgLhmIgyO5gHzMER0bXWEAFTfPYK3d27NjhNDF1vnz5ZPdEQKCGgM/adRQwEbY5A2YtfjJ27Fh5fKzjvazwfj/00ENqLYY5UA0kfI4QbKFrqCeonml+X/FeIFBfunSpmDlzpuP4eIOxbagUie6hOKmCyY/9hcJB5iAYECxaT2p4gmATnwUE1MmTJ1fX+s+aRcmcObPtmD9KGKy/nTjR8+GHH8Y680vxj8EaEVEsoWtY27ZtZcAGGGc1YcIEWYUwmqAhieDADA1c6+TQ7iDziCIXyAwNGDDApdGAAAYTiJsh6PDm8uXLMiNjBB44o/z55597HbOE4ABjsMzMjWUEasikoRGMoiXG+DmMBTMHQkYWCGPfUBAF69YuhwiszI+FIKhQoUJqzT1rF0gEuoDnjteM0vSYXNoK00YYMBbMPA4PE+GiJD6CNTToPcFJB2QozazTIgQSAjUEQJ4gcDaPQdy3b58cp9anTx+fKnIim9a/f385lhFj3JDVwjFB4GaesNwX+Kyh66wZJmQ3T5LtCd4nfFYwofqMGTNiPQ0GgkNrlhiZ/Wj7DSLf4G+S+UQUPqcYa4vPGUUuBmtERLGE8THodmb47LPPXOaGihYobmFtAKJqHzI17rIJp0+flg1jjE9CsLdo0SI5Ps0OslIoLmH4+uuvPY6RQqD23HPPyYwdGI1e87QJ7qC7o7mrEBo4CA4RdKFQSdmyZWUggMDbPO/aoUOH1KUYqP6HAADBAuYHQ8bGCtkW83g1HEd3RU8MCD4xVs6A54p5s9BtD92ZkPHCsbfC+2B+LxCAIugEBCXIImEOMxw3b3CMrMVT8H76k031FbJAdqX6rawZJGQWUaofJwB8ce7cOfHRRx+ptXuQoWvSpIlTwRlfYM4qc5CFzxG6zHoK2DD/FQLtxo0by/cSY/W8dYn1BBlJfBcM+Gz5MhcfRSd8Bs3dozHe1jjRQxFM//EjIgopvTGDVpdcvv32W3VtZNEDDy1x4sTyNegNW01vPGv6H0q1NTq9++67jvfNvOgBqvbBBx9oP/74o1w+/fRTrVWrVlqaNGnk9qFDh6p78Gzjxo1apkyZHPfbtm1bTQ/Y1NZ7du3apekBoGO/qlWraseOHVNbvTtz5oymBzKO22PRG8yaHkjKy3rwoE2fPl3tfY8eTDrdJn/+/Frx4sW13Llza3v37lV73aMHaVr16tWdbrNt2za11b0TJ05oSZIkcbodHid79uzaM888o+mNc7Wns6NHj2p6IOe4DT6fI0eO1PSARq73799f7embI0eOaOnTp3fcnx6canpAo7bGzfvvv++437lz56prPbt165aWK1cux+2KFi2qXbp0SW317vjx45oeXDlub13mzJmj9vQdPvfW+9EDJk1vIGujR492fCeGDx+uPf/88/L9we/F1KlTA/J7sX79ek0P5h2PjeOjB9Rqa+Dgu4j7x3f6/Pnz6trwt27dOsexGT9+vLo2vNWsWVM+3549e6prfIffnLx588rbly9fXrt48aLaEnrdunWTz6Nu3brqGootBmtEFHKRHqxt2LBBNlyN11CrVi21Jbr9888/2uDBg7VkyZI5XrunpX79+rIx6Y/Nmzdr+fLlc9xHgwYNtK+++koGQ2hMN2/e3LENDeIlS5b43ei9fv26VrBgQcf9mJcyZcq4DfxKly7tsv+jjz6q7du3T+3h7ODBg04N6UceeUS7cOGC2ureuXPntNSpUzs9DpY6depoV69eVXu5un37tktwaCz+BmqGRo0aOe4DASQav4EwaNAgeZ8I9O/evauu9Qzv86uvvipvV6RIEe3kyZNqi28QpKdKlcrxeqxL06ZN1Z6+Q2CEoAwBmN19WpeyZctq27dvV7eOu2HDhjndf79+/dSWwIrUYG3NmjWOY4P3KRLEJVjDya2cOXNqKVOm1LZu3aqujR8M1gKH3SCJiPyA7m4YM2RUYEPXPZTtDyfmbneBhDFD6PKHMWiYYBUD11Fgw7ygAAS6gm3cuFEsXLhQdin0B+b3wniiMWPGyGOLMWN6A12OK2rfvr0cF9SiRQtZVOKHH36Q43PQZc8f6L6IwhQYz2U8b1SDRCERvDZUebSD8V7p0qWT+6MKJLp46oG7LP5hxyg60rJlS7mg+5u3CbQBk6nrjW45rgyPhS6e+IwtXrzYYxENdKdDl0CMNTNeF44/5mt777331F7+QddJY4whutzhPQ0EdB9El1h8nrx1CzXgfcaxwYLupZ6KyNjBezZ16lRH5VF0J0WXUON+MNZHbxfJy77C60BXTBQLQbU94z0zL+jCiuOI7ml6sCsL0wQCniu+ZwaMrcRcj3QPPivG98/czTpaYR5IdKPGb5N5vCpFOBmyERGFUKRm1nBmv0qVKo7njkzDd999p7aGD5xd14MYt93lAuXKlSuyW5x5CeRj6gGxvE+cyUe2Cf/rDRG1Ne6QiTKeN7KGvkBmDPv70/0utvAYeCxkAv2BY2S8LrtupP7A7c2feXT9DMR7YLy3/sKx8CU76cnhw4e1SZMmOTJcY8eOla+tYsWKce6aaLxn5uXatWtqa2Chi9vDDz/seG9imz31RaRm1iJRXDJryPTi/QlEF9u4YmYtcJhZIyLyESbsNZcvR+VBa/W/cIBMCjJPesNWXRMcqVOnlmfzzQsyCYGCAhm4T5T1xxly/G8tJx8XyEQZzxtZQ18gM4b9kWELNjwGHguZQH/gGBmvy1xIJTZwe2QhjcIwKLziS6VOb4z31l84Fr5kJz3JlSuX6NixoyPDhYwhoBCDv1laK+M9My/BqsyICpbI9AO+G8hAU8KGTC8+C3H9HFN4YbBGROQDdHdDJT0DujxhMt5wgyqCKD2P7m+xaQwTWaFb5YsvvqjWYipLRhOjeiO62kYSVJL877//5OWRI0d6nY6BiCITgzUiIi+QSWjatKmjYYQz8JMnT45z1iIYpkyZIjNqCNTMZcWJ4gJjy4xgZt68eU7lwSMZpt7AOEiMO3zqqafUteEP4zqRQQf8Nj3//PPyMhFFHwZrREQe3Lp1SxaWQLEIyJYtm+wWFpe5kYIF83BhLjPwZeJlIl+h6+Enn3wiC5xgrrWhQ4eqLZELhXgGDhwokiVLJgvamCdGD3eYLw5z6iHI/PDDD8PyxBERBQaDNSIiNzApc5s2beTYEEBVPHSZKliwoFwPN5iU25i4uUyZMvJ/okApVqyYnKwcYxXRBQ8BTqRCoIaunag2iu9NJE0cPHfuXFkZNGfOnGLJkiXyfyKKXgzWiIjc+Oqrr2TjFDBgG2ewUeI9HKGgCMq9G4JVvp8Stho1asisWpIkSUT//v3lGMlIgy6ceB0LFiyQXQmbNGmitoS/o0ePyiATWbUhQ4aI3Llzqy1EFK0YrBER2fj111/FK6+8otZiGqlvvvmmWgsvy5YtEz169HBUtcN8UuEaVFLkwxx7mOcMmWfMc4e5nSIBxnLWr19fLlmyZBFbt24VDRo08Hmet/h27tw58eyzz8ouj5h3j+PUiBIGBmtERBbHjh2TEzsb2aly5cqJmTNnysvhZP/+/aJTp06y8bl37151bczk1UapdaJgqFmzpuyOd+3aNVG1alWxa9cutSV8YSJ7TAGBjNr06dPFk08+qbaEv7Nnz8qumleuXJFFUTp06KC2EFG0Y7BGRGSBOZiManeoqjh69Oh4D37QKEaXs40bN8rKfFWqVBElSpQQ48aNc+nyGMi5zojcQcC2bds2OYazVq1acmynpmEe3PCE0vYYn4axd5Fk4cKFMiBGMZGVK1dGVJBJRHF3H2bGVpeJiEICZ+SNcSIYM4KuSOEApfl79uwpqz0aUAWvQIECcoxIfDp//rwsHuLLT3b37t3F8OHD1RpR8KFSJE5q4OTB/9u79yAr5ziO4z82Je3O2trIjCxapIQprC66aeVS7WwRSyaJ/LORFBEzyriEqSUZpTKGGbch2agt2lpJlw0pSxItNtputsumktXn23PqqHN2t1XnPGe9XzM7z+88z1Zbfzw9n+f3+32/CnE4OtQ/TfdLvUBSsaNoNTvWSgO1BdGLIM3oq/Eyjg29+NDSdv1fFMtVV1VFOScnx/Xo0cPl5uZ6Z1EThDUAEefXsBb8c8WyWP9PHrFJLxR2797tmjZt6p3Bf1VUVOTOPPNMay8QTYS1yCGs4VAsgwSAfdT4+q677vI+xbaePXt6IyBytB+MoHZ0acljtIMagOgirAH439Omfb0F3Lx5s3cmtiUkJHgjAAAQywhrAP73ghtfxzoFtfj4eO8TAACIZYQ1AP9rkyZNcjNmzPA+xT4VQ0lNTfU+AQCAWEZYA/C/lpeXZ1Uga4vy8nJvBAAAYh3VIAFEnJ+qQebn51t1s9pCRR4yMzO9TwDw31ENMnKoBolDEdYARJxfS/cDAA5HWIucrl272kvEIUOGWJ+9WJWdnW19F9PT093s2bO9s6gJlkECAAAAPqCw1qdPH9e6dWvvTGxq06aN/T26dOninUFNMbMGIOKYWQOA2MHMGhA9zKwBAAAAgA8R1gAAAADAhwhrAAAACOu4447zRgAijbAGIOKC+5rxEAAA/rV161ZXUFBgY927KXUARBZhDUDEaXN6vXr1bLx37147AgD8Z8+ePW7Tpk02Vh/HwL0bQGQQ1gBE3GWXXeaSk5NtPG3aNDsCAPxHqx+OP37/46Lu3aoICSByCGsAIk5Laf766y8bl5WV2REA4D9xcXEHlqvXrVvXjgAih7AGIOL0n3+TJk1sfMIJJ9gRAOA/y5Ytc9u2bbNx79697QggcghrACKufv36rmPHjjb+/vvvbQM7AMB/SkpK3K5du2zMfjUg8ghrAKIiMKOmsBZ4awsA8JcffvjBjtq3VqdOHRsDiBzCGoCoyMjIsKP2QmzYsMHGAAB/mTdvnh1TUlJcWlqajQFEDmENQFQEltP8+eefLj8/38YAAP9Q2X59iV6sUWAEiDzCGoCoaNSokUtKSrJxoDIkAMA/iouLXWFhoY21z1jFoQBEFmENQFSkpqa6Zs2a2Tg3N9eOAAD/KC0tdXv37rVx69atD5TwBxA5hDUAUZOenm7HNWvWuPXr19sYAOAPH3/8sfXFlG7dutkRQGQR1gBEjd7UalnNunXrDlQcAwBEX0VFhZs/f76NGzdu7BISEmwMILIIawCipl27dgc2rH/00Ud2BABEX1lZmVu1apWNW7Zs6U4//XQbA4gswhqAqElOTnaXXHKJjb/88ssDeyMAANH11VdfWUNs6d69ux0BRN5xFZrnBoAoyc7OdhMmTHCJiYlu+fLl1ssHoSnMjhgxwv3222/WSDzQ/kBUUVO38/j4eHfttde6rKws78p+qur20EMPufLy8gMNybUXZefOna5hw4Zu5MiRrnnz5nYeAEaNGuUeffRRd9JJJ7klS5bY7BqAyCOsAYgq9Vi76qqrLGxMnDjRDRo0yLuCQ+l2rWIs27dvd+PHj3dTp071ruxvhfDEE0+4Dh062PjUU0/1ruynfnZFRUVu8ODBbuHChd5Z54YOHeoyMzNd27ZtKcsNwOzatcuWqX/xxRe2/FH3DvasAdFBWAMQVZrZadWqlYUQLbWZNWuWdwWVUfjSTJhmzGTy5Mlu4MCBNq6MwnHXrl3tbfnrr79uQQ0AgmlZul7gKLSNHj3aPfLII94VAJHGnjUAUVW/fn13zTXX2PjTTz+1N7mo2oknnugaNGhgY/U+0lvw6pg5c6YtnySoAQhHvS8V1HR/5j4BRBdhDUDU9evXzwKE9lO999573llUJnhRhMa7d+/2PoX3888/uxdeeMFm4XgAAxCK9sZOnz7dxi1atGCvGhBlhDUAUZeWlmY91+S1115zW7ZssTHC27Nnj+3zE+1P0z61qmhPW0ZGxmHFRwAgYM6cOVYJUlQASjP3AKKHsAbAFwKFRTT78/LLL9sY4RUWFto+Pzn33HOr7IGk5Y/arzZlyhQKiQAISRVix4wZY8fzzjvP9e3b17sCIFoIawB8QQ8FF1xwgY21VG/z5s02Rmha9hjoS6cHq8qsXr3a3Xbbbe6ll16ywiIAEIpm1QoKCmysFiDcL4DooxokAN949dVXLVTI008/7YYPH27j/6KsrMz9+OOP9tChN8WVWbx4sfUgCyzJDFBfs3nz5rn27du7M844wztbPTt27LCKjeohVxnNdvXo0aPaD0fz5893nTt3trF+rgULFtj4UCrz36dPH9epUyfrswYAoWhZdXp6ut3rNFv/ySefVDljD+DYI6wB8A2V8b/00kvdN998Yw8JK1ascCeffLJ3tXo02/TBBx9YoZKNGzdadcmtW7daxcnKipesX7/eXX755banKycnxzu735AhQ9xzzz1nM39665yUlORdCU9/7iuvvGJV1UpKSg7sL6vM2rVrq90UvLphTQFt7ty5Vmkz0AwbAA6lWTXdJ3UP1b0r8OIMQHSxDBKAb6hM9MMPP2yzTL/++muNevvoQUOb4xMTEy2AlZaWWk+yVatW2SxbOGPHjrWwFB8f7505qE6dOnZcuXKle/fdd20cjkLZU089ZUVTtJxTM2sKgZolrOxr5MiR9jNXlwJpQK9evbzRvy1ZssQqP2oPIEENQDi6N9533312/1T1xxtvvNG7AiDqNLMGAH6SlZWlGf+KevXqVeTl5Xlnj9zOnTsr9gUl+732Ba6K4uJi78q/LV26tCIpKcm+b19o8s4etHHjxopOnTrZ9UWLFnlnD/f3339XDBgwwL4vJSWlIicnx36tzh9t/fv3tz9HX/sCmXf2oJKSkorU1NSKd955xzsDAKENGzbM7iVxcXEVBQUF3lkAfsDMGgDfGTdunGvSpIk1ZdXbXi1nrAk1jr7iiitsvO9+ZxUUQ9FSwcraBagsvvqSJSQkuH0ByDt7OM26aflQ8+bNbb/HPffcY7/2WJS+Pv74g7fvQwuM6O86YsQI23+i/WoAEI6WSY8fP97Gut8G7pkA/IGwBsB31DfsrbfesrClpYfqD1ZT3bt3t6OW93z77bc2DqZy9ipAoqbcEi5YbdiwwXXp0iVsP7M//vjDDR061H6fN954wzVr1sy7cmwEl9/X3y3YtGnTbCnoM888Q48kAGH9/vvv7qabbrIXYwppDzzwgHcFgF8Q1gD4UseOHd2wYcNsrJm2mga25ORkb7R/pi2Y9mlo9kshK7AvLVQhEBUoUQC7++67vTOHW7hwofvll1/sgefiiy/2zh4baoitoiXSoEED17ZtWxuL9ubdeeedbsKECXYNAELR/a9///72IkqrBiZNmuQaNmzoXQXgF4Q1AL712GOP2XI+UVhbunSpjY9EcPhSwY1gKrzRoUMH6yekIiTy4YcfWhgKpu9TAOvatat35nAqdy16S32sKTx+/vnnNq5bt+6B8tqa3VMFt9GjR7OUCUClbr31Vjd79mwrqvTmm2/a8m0A/kPpfgC+p31XKruvfWyqgqjy/tWl2S59vypDnn/++a6oqMjO66glkgpwCnR6UCkvL3dnnXWW++677ywEiQJQt27dbGlh06ZN7VwoDz74oFWBPOecc2r0dlrLJ99++21bAloVNQxXH6RNmzZZawPNpp1yyinu3nvvdV9//bWbNWsW1R8BhPX888/bqgLtfZ0+fbr1eATgT4Q1AL6nMv69e/e2mbWaBLZ27drZTFSrVq0szMiAAQNcmzZtXHZ2thXo0KyZepdpr5mCXCCsDRo0yBphq6VAZQJhrabUtkChq7JAGKAAqUInCmt6K65/H/3Mffv2dXl5ea5FixbedwLAv6mYiJZ0a5m0Qtvtt9/uXQHgRyyDBOB7Wuan6or333+/bYjv2bOnW7ZsmXe1aodWS/zss88sGN1xxx32WW+XA3vWgqlIh4JQYO9cZQJ/hppnr1mz5oi/1Aj8tNNOs9+jKtprEigqouWZ+qy+SC+++CJBDUBY6v0YCGoq4kRQA/yPsAYgJmgD/JgxY6xamTbEX3311Ra6joQqI2rJo2bJNAsWXHAkeJGBvk9hSI2qR40adVhhklBUJl8WLVrkzj777CP+0vLLUIExFM0AanZNNMOmWT1VqlSIBYBDbdu2zd18881u8ODBB4Ladddd510F4GeENQAxRSFLS/20R0vFQR5//HHvStUUulTxTEspVW0yHO33evLJJ63KYnWXW6alpdl+NT0E1aQQSk1pf5oqQz777LPeGQA4SC92rr/+eqtoqyXhc+bMIagBMYSwBiDmqOCHSuVnZGTYLNnAgQNttq0qxcXFVtlx7Nix3pnDqdCHNtyXlpbassvq0szf8OHDbTmkqliGagFwtAT3Ttu+fbvNODZu3Ng7AwD7aRZee3ULCwvdxIkT7UVXcKsPAP5HWAMQkxITE937779vpadVvVEl87V3K5RAcFJFyKysrEr3hm3ZssVNnTrVlgsFioxUl36GCy+80OXm5rp+/fq5FStWeFeOLjWwDdB+Os3qAUAwzfLfcsst1ppk8eLFVixJBYkAxBaqQQKoFfQwctFFF4XcX6aS9jk5Oa59+/ZuwYIF3tl/u/LKK93cuXOt2Eh+fn6lyyQr89NPP7levXq5lStXWtjLzMy0SpZVFQ+Ji4uz6pSa2auKHr5mzpzpbrjhBlvapF8LAMG0PFpLIFu2bOmdARCLCGsAaj1VSVRPoRkzZlhvtVA6d+5sQU572v5rhTSV1J8yZYqVxdYDU3WtXbvWpaSkeJ/C076T1atXW484FSYBAAC1E2ENQK2nvkLLly93kydP9s4cTtUcFYJU/fFo0b43tRjQUs1169Z5Z0PTjNq4ceNco0aNvDPhqTiA9utpWRMAAKi9CGsAar0dO3bYkkRVeQxHs2EqEnKk+9SiQXvztGcPAADUboQ1AAAAAPAhqkECAAAAgA8R1gAAAADAhwhrAAAAAOBDhDUAAAAA8CHCGgAAAAD4EGENAAAAAHyIsAYAAAAAPkRYAwAAAAAfIqwBAAAAgA8R1gAAAADAhwhrAAAAAOBDhDUAAAAA8CHCGgAAAAD4EGENAAAAAHyIsAYAAAAAPkRYAwAAAAAfIqwBAAAAgA8R1gAAAADAd5z7B1AXWblVSA0tAAAAAElFTkSuQmCC)"
      ]
    },
    {
      "cell_type": "code",
      "execution_count": 24,
      "metadata": {
        "id": "XW0DJW-yfhW2"
      },
      "outputs": [],
      "source": [
        "def calculate_probabilities(class_counts, word_counts, vocab):\n",
        "    total_docs = sum(class_counts.values())\n",
        "    class_probs = {label: count / total_docs for label, count in class_counts.items()}\n",
        "    word_probs = defaultdict(dict)\n",
        "\n",
        "    for label, words in word_counts.items():\n",
        "        total_words = sum(words.values())\n",
        "        # DIY\n",
        "        # implement laplace smoothing\n",
        "        for word in vocab:\n",
        "          word_probs[label][word] = (words[word] + 1) / (total_words + len(vocab))\n",
        "\n",
        "    return class_probs, word_probs"
      ]
    },
    {
      "cell_type": "code",
      "execution_count": 25,
      "metadata": {
        "id": "0eg-2JsjxkN9"
      },
      "outputs": [],
      "source": [
        "def classify(document, class_probs, word_probs, vocab):\n",
        "    words = tokenize(document)\n",
        "    scores = {label: class_probs[label] for label in class_probs}\n",
        "\n",
        "    # DIY\n",
        "    # compute score for each label, using laplace smoothing\n",
        "    for label in scores:\n",
        "      total_words = sum(word_probs[label].values())\n",
        "      scores[label] *= word_probs[label].get(word, total_words + len(vocab))\n",
        "\n",
        "    return max(scores, key=scores.get)"
      ]
    },
    {
      "cell_type": "code",
      "execution_count": 30,
      "metadata": {
        "colab": {
          "base_uri": "https://localhost:8080/",
          "height": 336
        },
        "id": "8Yst-agyf7xe",
        "outputId": "870d8885-a03e-42b0-ac9d-7e55c3b7ca2c"
      },
      "outputs": [
        {
          "name": "stdout",
          "output_type": "stream",
          "text": [
            "true_positive:1, true_negative:743, false_positive:1, false_negative:294\n",
            "Accuracy: 71.60731472569779\n",
            "Precision: 50.0\n",
            "Recall: 0.3389830508474576\n",
            "F1: 0.6734006734006732\n",
            "Confusion Matrix:\n",
            "Pred\t0\t1\n",
            "Actual\n",
            "0\t 743 \t 1\n",
            "1\t 294 \t 1\n"
          ]
        }
      ],
      "source": [
        "# Inference on test set\n",
        "class_probs_ls, word_probs_ls = calculate_probabilities(class_counts, word_counts, vocab)\n",
        "y_pred_ls = [classify(text, class_probs_ls, word_probs_ls, vocab) for text in X_test]\n",
        "acc_ls, prec_ls, rec_ls, f1_ls = evaluate_classification_result(y_test, y_pred_ls)"
      ]
    },
    {
      "cell_type": "markdown",
      "metadata": {
        "id": "orv3vRchMF_b"
      },
      "source": [
        "### Visualization"
      ]
    },
    {
      "cell_type": "code",
      "execution_count": 31,
      "metadata": {
        "id": "5GXHRtaCMIQb"
      },
      "outputs": [
        {
          "data": {
            "image/png": "[encoded data removed]",
            "text/plain": [
              "<Figure size 640x480 with 1 Axes>"
            ]
          },
          "metadata": {},
          "output_type": "display_data"
        }
      ],
      "source": [
        "# visualize the results\n",
        "import matplotlib.pyplot as plt\n",
        "\n",
        "# function to add value labels\n",
        "def addlabels(x,y):\n",
        "    for i in range(len(x)):\n",
        "        plt.text(i,y[i],round(y[i],2))\n",
        "\n",
        "# compare accuracy\n",
        "x = ['Rule-based', 'Naive Bayes (NB)', 'NB + Laplace smoothing']\n",
        "y = [acc_rule, acc_ns, acc_ls]\n",
        "plt.bar(x, y)\n",
        "addlabels(x, y)\n",
        "plt.show()"
      ]
    },
    {
      "cell_type": "code",
      "execution_count": 32,
      "metadata": {
        "id": "3Ls91vKgixKf"
      },
      "outputs": [
        {
          "data": {
            "image/png": "[encoded data removed]",
            "text/plain": [
              "<Figure size 640x480 with 1 Axes>"
            ]
          },
          "metadata": {},
          "output_type": "display_data"
        }
      ],
      "source": [
        "# compare precision\n",
        "x = ['Rule-based', 'Naive Bayes (NB)', 'NB + Laplace smoothing']\n",
        "y = [prec_rule, prec_ns, prec_ls]\n",
        "plt.bar(x, y)\n",
        "addlabels(x, y)\n",
        "plt.show()"
      ]
    },
    {
      "cell_type": "code",
      "execution_count": 33,
      "metadata": {
        "id": "MUSbU-rsi2Ze"
      },
      "outputs": [
        {
          "data": {
            "image/png": "[encoded data removed]",
            "text/plain": [
              "<Figure size 640x480 with 1 Axes>"
            ]
          },
          "metadata": {},
          "output_type": "display_data"
        }
      ],
      "source": [
        "# compare recall\n",
        "x = ['Rule-based', 'Naive Bayes (NB)', 'NB + Laplace smoothing']\n",
        "y = [rec_rule, rec_ns, rec_ls]\n",
        "plt.bar(x, y)\n",
        "addlabels(x, y)\n",
        "plt.show()"
      ]
    },
    {
      "cell_type": "code",
      "execution_count": 34,
      "metadata": {
        "id": "ZedZFCCXi-U-"
      },
      "outputs": [
        {
          "data": {
            "image/png": "[encoded data removed]",
            "text/plain": [
              "<Figure size 640x480 with 1 Axes>"
            ]
          },
          "metadata": {},
          "output_type": "display_data"
        }
      ],
      "source": [
        "# compare f1\n",
        "x = ['Rule-based', 'Naive Bayes (NB)', 'NB + Laplace smoothing']\n",
        "y = [f1_rule, f1_ns, f1_ls]\n",
        "plt.bar(x, y)\n",
        "addlabels(x, y)\n",
        "plt.show()"
      ]
    },
    {
      "cell_type": "markdown",
      "metadata": {
        "id": "W8b_RmqpOx1L"
      },
      "source": [
        "### Naive Bayes with Scikit-Learn"
      ]
    },
    {
      "cell_type": "code",
      "execution_count": 35,
      "metadata": {
        "id": "b4chnTxtOzrs"
      },
      "outputs": [],
      "source": [
        "from sklearn.feature_extraction.text import CountVectorizer\n",
        "from sklearn.naive_bayes import MultinomialNB\n",
        "\n",
        "vectorizer = CountVectorizer()\n",
        "X_train_vec = vectorizer.fit_transform(X_train)\n",
        "X_test_vec = vectorizer.transform(X_test)"
      ]
    },
    {
      "cell_type": "code",
      "execution_count": 36,
      "metadata": {
        "colab": {
          "base_uri": "https://localhost:8080/"
        },
        "id": "ce2Kol8IO1qk",
        "outputId": "2ad88799-2922-47cf-85a2-a979c213f385"
      },
      "outputs": [
        {
          "data": {
            "text/plain": [
              "{'subject': 39174,\n",
              " 'april': 6223,\n",
              " 'activity': 4617,\n",
              " 'surveys': 39475,\n",
              " 'we': 43448,\n",
              " 'are': 6335,\n",
              " 'starting': 38749,\n",
              " 'to': 40788,\n",
              " 'collect': 11830,\n",
              " 'data': 13854,\n",
              " 'for': 18947,\n",
              " 'the': 40346,\n",
              " 'attached': 6779,\n",
              " 'survey': 39472,\n",
              " 'drives': 15777,\n",
              " 'your': 44820,\n",
              " 'costs': 12911,\n",
              " 'from': 19294,\n",
              " 'activities': 4616,\n",
              " 'commercial': 11973,\n",
              " 'teams': 40014,\n",
              " 'please': 32435,\n",
              " 'select': 36925,\n",
              " 'rcs': 34424,\n",
              " 'and': 5795,\n",
              " 'fill': 18482,\n",
              " 'in': 22908,\n",
              " 'driver': 15775,\n",
              " 'quantity': 34024,\n",
              " 'requested': 35161,\n",
              " 'month': 28661,\n",
              " 'of': 30311,\n",
              " 'february': 18236,\n",
              " 'out': 30926,\n",
              " 'with': 43916,\n",
              " 'numbers': 30033,\n",
              " 'rc': 34415,\n",
              " 'by': 9724,\n",
              " 'end': 16861,\n",
              " 'day': 13900,\n",
              " 'thursday': 40558,\n",
              " 'may': 27485,\n",
              " 'th': 40316,\n",
              " 'if': 22582,\n",
              " 'group': 20688,\n",
              " 'currently': 13499,\n",
              " 'generates': 19848,\n",
              " 'standard': 38710,\n",
              " 'report': 35108,\n",
              " 'that': 40342,\n",
              " 'captures': 10121,\n",
              " 'surveyed': 39473,\n",
              " 'send': 36981,\n",
              " 'me': 27657,\n",
              " 'put': 33730,\n",
              " 'on': 30531,\n",
              " 'recipient': 34571,\n",
              " 'list': 26276,\n",
              " 'beginning': 7796,\n",
              " 'next': 29552,\n",
              " 'this': 40450,\n",
              " 'will': 43798,\n",
              " 'eliminate': 16595,\n",
              " 'need': 29378,\n",
              " 'every': 17531,\n",
              " 'you': 44808,\n",
              " 'would': 44149,\n",
              " 'like': 26164,\n",
              " 'us': 42198,\n",
              " 'information': 23244,\n",
              " 'someone': 38187,\n",
              " 'within': 43932,\n",
              " 'team': 40009,\n",
              " 'let': 26015,\n",
              " 'know': 25235,\n",
              " 'contact': 12539,\n",
              " 'or': 30724,\n",
              " 'lisa': 26265,\n",
              " 'cousino': 13008,\n",
              " '6343': 2788,\n",
              " 'unable': 41820,\n",
              " 'complete': 12105,\n",
              " 'allotted': 5449,\n",
              " 'time': 40640,\n",
              " 'thanks': 40335,\n",
              " 'shari': 37248,\n",
              " '3859': 1853,\n",
              " 'message': 27935,\n",
              " 'hey': 21621,\n",
              " 'am': 5566,\n",
              " 'julie': 24646,\n",
              " 'just': 24695,\n",
              " 'turned': 41512,\n",
              " '18': 860,\n",
              " 'high': 21682,\n",
              " 'school': 36602,\n",
              " 'senior': 36989,\n",
              " 'houston': 22120,\n",
              " 'tx': 41596,\n",
              " 'was': 43336,\n",
              " 'waiting': 43209,\n",
              " 'such': 39237,\n",
              " 'long': 26525,\n",
              " 'until': 42065,\n",
              " 'finally': 18520,\n",
              " 'got': 20417,\n",
              " 'my': 29110,\n",
              " 'wish': 43901,\n",
              " 'simply': 37645,\n",
              " 'trying': 41400,\n",
              " 'show': 37465,\n",
              " 'off': 30316,\n",
              " 'meet': 27762,\n",
              " 'new': 29508,\n",
              " 'cyber': 13616,\n",
              " 'friends': 19263,\n",
              " 'who': 43713,\n",
              " 'knows': 25243,\n",
              " 'where': 43654,\n",
              " 'can': 9986,\n",
              " 'lead': 25827,\n",
              " 'don': 15495,\n",
              " 'worry': 44131,\n",
              " 'usually': 42240,\n",
              " 'online': 30562,\n",
              " 'its': 23946,\n",
              " 'free': 19196,\n",
              " 'have': 21250,\n",
              " 'go': 20282,\n",
              " 'thru': 40529,\n",
              " 'age': 5017,\n",
              " 'verification': 42608,\n",
              " 'youngers': 44815,\n",
              " 'snooping': 38043,\n",
              " 'around': 6436,\n",
              " 'hehe': 21427,\n",
              " 'http': 22221,\n",
              " 'oioaz': 30427,\n",
              " 'stuntscholar': 39145,\n",
              " 'com': 11892,\n",
              " 'ju': 24607,\n",
              " 'txu': 41612,\n",
              " 'fuels': 19370,\n",
              " 'sds': 36757,\n",
              " 'nomination': 29809,\n",
              " '2001': 981,\n",
              " 'is': 23847,\n",
              " 'our': 30918,\n",
              " 'takes': 39810,\n",
              " 'under': 41880,\n",
              " 'gas': 19674,\n",
              " 'sales': 36279,\n",
              " 'purchase': 33676,\n",
              " 'contract': 12593,\n",
              " 'between': 8100,\n",
              " 'fuel': 19368,\n",
              " 'company': 12038,\n",
              " 'previously': 33109,\n",
              " 'tufco': 41464,\n",
              " 'advise': 4863,\n",
              " 'should': 37458,\n",
              " 'any': 6027,\n",
              " 'questions': 34073,\n",
              " 'concerning': 12213,\n",
              " 'ccs': 10503,\n",
              " 'see': 36858,\n",
              " 'file': 18467,\n",
              " 'sdsnom': 36759,\n",
              " 'xls': 44472,\n",
              " 're': 34442,\n",
              " 'richardson': 35547,\n",
              " 'volumes': 43034,\n",
              " 'nov': 29937,\n",
              " '99': 4184,\n",
              " 'dec': 14051,\n",
              " 'meter': 27961,\n",
              " '0987283': 223,\n",
              " 'nick': 29619,\n",
              " 'not': 29902,\n",
              " 'sure': 39437,\n",
              " 'what': 43633,\n",
              " 'happened': 21125,\n",
              " 'volume': 43033,\n",
              " 'cannot': 10046,\n",
              " 'tell': 40111,\n",
              " 'audit': 6865,\n",
              " 'trail': 41057,\n",
              " 'but': 9623,\n",
              " 'there': 40385,\n",
              " 'connection': 12399,\n",
              " 'hpl': 22143,\n",
              " '987283': 4123,\n",
              " 'midt': 28111,\n",
              " '989807': 4173,\n",
              " 'referring': 34741,\n",
              " 'mid': 28079,\n",
              " 'tex': 40271,\n",
              " 'pipeline': 32243,\n",
              " 'it': 23915,\n",
              " 'pathed': 31459,\n",
              " 'as': 6522,\n",
              " 'point': 32555,\n",
              " 'nom': 29790,\n",
              " 'no': 29751,\n",
              " 'deal': 13996,\n",
              " 'reference': 34733,\n",
              " 'do': 15371,\n",
              " 'think': 40438,\n",
              " 'correct': 12837,\n",
              " 'because': 7719,\n",
              " 'hplc': 22144,\n",
              " 'purchaser': 33678,\n",
              " 'mips': 28294,\n",
              " 'supply': 39406,\n",
              " 'set': 37094,\n",
              " 'up': 42096,\n",
              " 'sitara': 37711,\n",
              " 'shows': 37475,\n",
              " 'moved': 28823,\n",
              " 'get': 19962,\n",
              " 'thu': 40536,\n",
              " 'when': 43652,\n",
              " 'she': 37274,\n",
              " 'returns': 35385,\n",
              " 'anything': 6034,\n",
              " 'about': 4315,\n",
              " 'moshou': 28770,\n",
              " 'enron': 16973,\n",
              " '12': 399,\n",
              " '20': 975,\n",
              " '2000': 977,\n",
              " '09': 190,\n",
              " '07': 165,\n",
              " 'sherlyn': 37314,\n",
              " 'schumack': 36626,\n",
              " 'hou': 22099,\n",
              " 'ect': 16245,\n",
              " 'cc': 10477,\n",
              " 'hi': 21649,\n",
              " 'could': 12935,\n",
              " 'check': 10890,\n",
              " 'why': 43738,\n",
              " 'at': 6717,\n",
              " 'were': 43574,\n",
              " 'zeroed': 45014,\n",
              " 'above': 4319,\n",
              " 'months': 28664,\n",
              " 'paid': 31169,\n",
              " 'back': 7176,\n",
              " 'then': 40371,\n",
              " 'yesterday': 44710,\n",
              " 'noticed': 29918,\n",
              " 'recoverable': 34625,\n",
              " 'amount': 5692,\n",
              " 'entire': 17024,\n",
              " 'amounts': 5693,\n",
              " 'each': 16091,\n",
              " '127856': 462,\n",
              " '131729': 490,\n",
              " 'additionall': 4690,\n",
              " 'info': 23235,\n",
              " 'era': 17207,\n",
              " 'medical': 27711,\n",
              " 'care': 10168,\n",
              " 'few': 18356,\n",
              " 'nudities': 30023,\n",
              " 'so': 38070,\n",
              " 'objectionable': 30166,\n",
              " 'naked': 29182,\n",
              " 'truth': 41395,\n",
              " 'man': 27118,\n",
              " 'thinks': 40442,\n",
              " 'mouthing': 28816,\n",
              " 'hard': 21143,\n",
              " 'words': 44070,\n",
              " 'he': 21319,\n",
              " 'understands': 41900,\n",
              " 'things': 40436,\n",
              " 'all': 5388,\n",
              " 'prejudices': 32991,\n",
              " 'hate': 21228,\n",
              " 'everyone': 17534,\n",
              " 'equally': 17176,\n",
              " 'great': 20580,\n",
              " 'spirits': 38459,\n",
              " 'always': 5561,\n",
              " 'encountered': 16845,\n",
              " 'violent': 42841,\n",
              " 'opposition': 30677,\n",
              " 'mediocre': 27732,\n",
              " 'minds': 28231,\n",
              " 'mobil': 28486,\n",
              " 'beaumont': 7703,\n",
              " 'brian': 9149,\n",
              " 'nichols': 29617,\n",
              " 'exxonmobil': 17923,\n",
              " 'confirmed': 12325,\n",
              " 'they': 40413,\n",
              " 'accept': 4415,\n",
              " '30': 1463,\n",
              " '000': 1,\n",
              " 'midcon': 28083,\n",
              " 'tomorrow': 40854,\n",
              " 'want': 43287,\n",
              " 'leave': 25870,\n",
              " '10': 233,\n",
              " 'flowing': 18800,\n",
              " 'guess': 20797,\n",
              " 'goes': 20310,\n",
              " 'through': 40523,\n",
              " 'tenaska': 40149,\n",
              " 'iv': 23965,\n",
              " 'outage': 30927,\n",
              " 'update': 42101,\n",
              " 'fyi': 19509,\n",
              " 'forwarded': 19070,\n",
              " 'mike': 28142,\n",
              " 'mazowita': 27502,\n",
              " 'corp': 12819,\n",
              " '05': 132,\n",
              " '32': 1559,\n",
              " 'gough': 20429,\n",
              " '28': 1389,\n",
              " 'respond': 35277,\n",
              " 'scarborough': 36539,\n",
              " 'dan': 13765,\n",
              " 'ward': 43297,\n",
              " 'chuck': 11153,\n",
              " 'closure': 11559,\n",
              " 'has': 21210,\n",
              " 'been': 7767,\n",
              " 'frustrating': 19327,\n",
              " 'say': 36488,\n",
              " 'least': 25863,\n",
              " 'projecting': 33342,\n",
              " 'late': 25688,\n",
              " 'friday': 19256,\n",
              " 'early': 16113,\n",
              " 'saturday': 36440,\n",
              " 'morning': 28731,\n",
              " 'startup': 38752,\n",
              " 'barring': 7470,\n",
              " 'unseen': 42036,\n",
              " 'problems': 33217,\n",
              " 'mg': 28004,\n",
              " 'texas': 40275,\n",
              " 'log': 26466,\n",
              " 'name': 29190,\n",
              " 'home': 21921,\n",
              " 'pager': 31162,\n",
              " 'george': 19916,\n",
              " 'grant': 20532,\n",
              " '281': 1394,\n",
              " '282': 1398,\n",
              " '9084': 3632,\n",
              " '713': 3090,\n",
              " '764': 3247,\n",
              " '5128': 2377,\n",
              " 'charlotte': 10835,\n",
              " 'hawkins': 21263,\n",
              " '655': 2865,\n",
              " '0952': 199,\n",
              " '506': 2350,\n",
              " '4006': 1931,\n",
              " 'aimee': 5145,\n",
              " 'lannou': 25622,\n",
              " '594': 2623,\n",
              " '6562': 2869,\n",
              " '698': 3035,\n",
              " '7722': 3277,\n",
              " 'robert': 35772,\n",
              " 'lloyd': 26361,\n",
              " '847': 3475,\n",
              " '2808': 1393,\n",
              " '5446': 2473,\n",
              " 'stella': 38826,\n",
              " 'morris': 28745,\n",
              " '448': 2125,\n",
              " '9067': 3626,\n",
              " '200': 976,\n",
              " '8376': 3452,\n",
              " 'susan': 39483,\n",
              " 'trevino': 41243,\n",
              " '688': 2977,\n",
              " '6186': 2707,\n",
              " '8368': 3450,\n",
              " 'kim': 25069,\n",
              " 'vaughn': 42500,\n",
              " '586': 2592,\n",
              " '0910': 192,\n",
              " '761': 3237,\n",
              " '8153': 3385,\n",
              " 'jackie': 24031,\n",
              " 'young': 44813,\n",
              " '528': 2425,\n",
              " '4562': 2177,\n",
              " '990': 4185,\n",
              " '6400': 2816,\n",
              " 'carlos': 10205,\n",
              " 'rodriguez': 35820,\n",
              " '344': 1667,\n",
              " '0991': 232,\n",
              " '2722': 1366,\n",
              " 'mandy': 27143,\n",
              " 'allen': 5409,\n",
              " '970': 3883,\n",
              " '6561': 2868,\n",
              " '8332': 3443,\n",
              " 'june': 24663,\n",
              " 'specials': 38378,\n",
              " 'summer': 39315,\n",
              " 'valued': 42431,\n",
              " 'golfers': 20344,\n",
              " 'kingwood': 25098,\n",
              " 'cove': 13017,\n",
              " 'convenience': 12650,\n",
              " 'visit': 42884,\n",
              " 'following': 18896,\n",
              " 'sites': 37715,\n",
              " 'being': 7827,\n",
              " 'developed': 14674,\n",
              " 'benefit': 7939,\n",
              " 'future': 19460,\n",
              " 'subscribe': 39191,\n",
              " '90027': 3611,\n",
              " 'members': 27833,\n",
              " 'lists': 26288,\n",
              " 'clubcorp': 11587,\n",
              " 'www': 44298,\n",
              " 'ttimeonline': 41438,\n",
              " 'index': 23085,\n",
              " 'html': 22202,\n",
              " 'play': 32403,\n",
              " 'pay': 31520,\n",
              " 'price': 33119,\n",
              " 'after': 4991,\n",
              " '11': 333,\n",
              " 'sunday': 39332,\n",
              " 'holidays': 21886,\n",
              " 'offer': 30326,\n",
              " 'valid': 42387,\n",
              " 'cart': 10266,\n",
              " 'green': 20592,\n",
              " 'fee': 18247,\n",
              " 'per': 31718,\n",
              " 'player': 32408,\n",
              " 'must': 29057,\n",
              " 'present': 33047,\n",
              " 'mail': 27010,\n",
              " 'invitation': 23706,\n",
              " 'prior': 33169,\n",
              " 'registration': 34827,\n",
              " 'sr': 38610,\n",
              " 'jr': 24569,\n",
              " 'rates': 34357,\n",
              " 'other': 30890,\n",
              " 'offers': 30332,\n",
              " 'expires': 17793,\n",
              " '06': 149,\n",
              " '00': 0,\n",
              " 'call': 9903,\n",
              " 'now': 29950,\n",
              " 'book': 8769,\n",
              " 'tee': 40059,\n",
              " '358': 1742,\n",
              " '1155': 371,\n",
              " 'pick': 32134,\n",
              " 'partner': 31397,\n",
              " 'monday': 28585,\n",
              " 'pm': 32489,\n",
              " 'non': 29821,\n",
              " 'holiday': 21885,\n",
              " 'ea': 16087,\n",
              " '16': 761,\n",
              " '14': 589,\n",
              " 'includes': 22990,\n",
              " 'tournaments': 40971,\n",
              " 'special': 38367,\n",
              " 'two': 41591,\n",
              " 'one': 30542,\n",
              " 'before': 7781,\n",
              " 'golf': 20342,\n",
              " 'good': 20359,\n",
              " 'players': 32410,\n",
              " 'lesson': 26009,\n",
              " 'lessons': 26010,\n",
              " 'save': 36455,\n",
              " 'hplno': 22148,\n",
              " '405': 1949,\n",
              " 'refinery': 34755,\n",
              " 'needs': 29386,\n",
              " 'enter': 17000,\n",
              " 'into': 23614,\n",
              " 'remember': 34970,\n",
              " 'first': 18605,\n",
              " 'eog': 17087,\n",
              " 'transport': 41148,\n",
              " 'lee': 25895,\n",
              " 'papayoti': 31264,\n",
              " '03': 87,\n",
              " '27': 1351,\n",
              " '56': 2524,\n",
              " '24': 1191,\n",
              " '02': 70,\n",
              " 'lpapayo': 26665,\n",
              " 'bcc': 7624,\n",
              " 'did': 14846,\n",
              " 'estimate': 17386,\n",
              " '120': 400,\n",
              " '125': 429,\n",
              " 'bbtu': 7617,\n",
              " 'side': 37533,\n",
              " 'note': 29907,\n",
              " 'bring': 9205,\n",
              " 'down': 15617,\n",
              " 'turbine': 41498,\n",
              " 'generator': 19852,\n",
              " 'pressure': 33074,\n",
              " 'requirements': 35171,\n",
              " 'essentially': 17366,\n",
              " 'zero': 45013,\n",
              " 'be': 7655,\n",
              " 'hydrogen': 22391,\n",
              " 'plant': 32369,\n",
              " 'stays': 38792,\n",
              " 'demand': 14341,\n",
              " 'transfer': 41103,\n",
              " 'low': 26648,\n",
              " 'arrangement': 6450,\n",
              " 'approximately': 6215,\n",
              " 'days': 13911,\n",
              " 'sparkasse': 38333,\n",
              " 'security': 36848,\n",
              " 'issue': 23906,\n",
              " 'sehr': 36907,\n",
              " 'geehrte': 19792,\n",
              " 'kundin': 25419,\n",
              " 'geehrter': 19793,\n",
              " 'kunde': 25416,\n",
              " 'im': 22718,\n",
              " 'zusammenhang': 45198,\n",
              " 'mit': 28366,\n",
              " 'der': 14489,\n",
              " 'komplizierten': 25271,\n",
              " 'situation': 37727,\n",
              " 'die': 14854,\n",
              " 'unserem': 42038,\n",
              " 'land': 25585,\n",
              " 'banking': 7370,\n",
              " 'zustande': 45199,\n",
              " 'gekommen': 19813,\n",
              " 'ist': 23910,\n",
              " 'haben': 20940,\n",
              " 'wir': 43884,\n",
              " 'verordnung': 42628,\n",
              " 'bekommen': 7837,\n",
              " 'alle': 5397,\n",
              " 'konten': 25277,\n",
              " 'von': 43046,\n",
              " 'unserer': 42039,\n",
              " 'bank': 7367,\n",
              " 'zu': 45184,\n",
              " 'berprfen': 8029,\n",
              " 'diese': 14864,\n",
              " 'manahme': 27130,\n",
              " 'wurde': 44270,\n",
              " 'wegen': 43515,\n",
              " 'tageskonten': 39777,\n",
              " 'getroffen': 19968,\n",
              " 'den': 14386,\n",
              " 'missettern': 28341,\n",
              " 'fr': 19130,\n",
              " 'geldwsche': 19820,\n",
              " 'gestohlenen': 19959,\n",
              " 'mittel': 28381,\n",
              " 'benutzt': 7967,\n",
              " 'werden': 43573,\n",
              " 'bitten': 8370,\n",
              " 'unsere': 42037,\n",
              " 'kunden': 25417,\n",
              " 'instndig': 23437,\n",
              " 'form': 19013,\n",
              " 'kontobesttigung': 25279,\n",
              " 'auf': 6876,\n",
              " 'offiziellen': 30356,\n",
              " 'seite': 36914,\n",
              " 'auszufllen': 6923,\n",
              " 'bis': 8345,\n",
              " 'zum': 45192,\n",
              " '08': 175,\n",
              " 'dieser': 14867,\n",
              " 'nicht': 29618,\n",
              " 'angegeben': 5835,\n",
              " 'zur': 45195,\n",
              " 'feststellung': 18345,\n",
              " 'umstnde': 41817,\n",
              " 'ihrer': 22638,\n",
              " 'erffnung': 17234,\n",
              " 'und': 41877,\n",
              " 'verwendung': 42653,\n",
              " 'gebunden': 19781,\n",
              " 'kontrolle': 25280,\n",
              " 'sowohl': 38303,\n",
              " 'privatkunden': 33190,\n",
              " 'als': 5508,\n",
              " 'auch': 6853,\n",
              " 'firmenkunden': 18601,\n",
              " 'aktuell': 5234,\n",
              " 'entschuldigen': 17050,\n",
              " 'uns': 42029,\n",
              " 'unannehmlichkeiten': 41829,\n",
              " 'ihnen': 22634,\n",
              " 'durchfhrung': 15970,\n",
              " 'bereitet': 7987,\n",
              " 'hoffen': 21860,\n",
              " 'ihre': 22637,\n",
              " 'mithilfe': 28376,\n",
              " 'verstndnis': 42644,\n",
              " 'freundlichen': 19245,\n",
              " 'gren': 20619,\n",
              " 'de': 13979,\n",
              " 'druuugs': 15828,\n",
              " 'onliiiiine': 30560,\n",
              " 'very': 42654,\n",
              " 'cheaaaap': 10878,\n",
              " 'hello': 21467,\n",
              " 'calvin': 9935,\n",
              " 'viaaagra': 42700,\n",
              " 'ciiiialis': 11231,\n",
              " 'ambieeen': 5591,\n",
              " 'xanaaax': 44345,\n",
              " 'highball': 21683,\n",
              " 'christie': 11114,\n",
              " 'mcdermott': 27573,\n",
              " 'leather': 25865,\n",
              " 'ascription': 6540,\n",
              " 'laryngeal': 25664,\n",
              " 'acapulco': 4401,\n",
              " 'delicacy': 14282,\n",
              " 'droopy': 15794,\n",
              " 'arty': 6515,\n",
              " 'thor': 40477,\n",
              " 'spatterdock': 38344,\n",
              " 'bayou': 7598,\n",
              " 'stretch': 39059,\n",
              " 'baccalaureate': 7165,\n",
              " 'rogers': 35828,\n",
              " 'osiris': 30865,\n",
              " 'dalzell': 13749,\n",
              " 'jigsaw': 24328,\n",
              " 'ice': 22494,\n",
              " 'stepmother': 38845,\n",
              " 'caramel': 10128,\n",
              " 'chunky': 11166,\n",
              " 'hart': 21200,\n",
              " 'dagger': 13710,\n",
              " 'derelict': 14502,\n",
              " 'snapshot': 38014,\n",
              " 'heinrich': 21441,\n",
              " 'blomquist': 8544,\n",
              " 'shoji': 37404,\n",
              " 'asteroid': 6678,\n",
              " 'cranston': 13127,\n",
              " 'brant': 9035,\n",
              " 'jig': 24325,\n",
              " 'desecrater': 14539,\n",
              " 'profess': 33275,\n",
              " 'shinto': 37355,\n",
              " 'oscillatory': 30858,\n",
              " 'waaaaaant': 43168,\n",
              " 'reemooveeed': 34720,\n",
              " 'noms': 29818,\n",
              " 'actual': 4627,\n",
              " 'flow': 18796,\n",
              " '21': 1048,\n",
              " '01': 50,\n",
              " 'agree': 5075,\n",
              " 'eileen': 16469,\n",
              " 'ponton': 32644,\n",
              " '22': 1093,\n",
              " '54': 2461,\n",
              " 'david': 13882,\n",
              " 'avila': 7040,\n",
              " 'lsp': 26715,\n",
              " 'enserch': 16989,\n",
              " 'tu': 41449,\n",
              " 'charlie': 10832,\n",
              " 'stone': 38945,\n",
              " 'utilities': 42262,\n",
              " 'melissa': 27811,\n",
              " 'jones': 24502,\n",
              " 'scheduling': 36571,\n",
              " 'liz': 26332,\n",
              " 'bellamy': 7866,\n",
              " 'mcf': 27578,\n",
              " 'mmbtu': 28443,\n",
              " '60': 2644,\n",
              " '53': 2432,\n",
              " '223': 1107,\n",
              " '660': 2880,\n",
              " 'btu': 9388,\n",
              " '027': 82,\n",
              " 'survivor': 39481,\n",
              " 'junction': 24660,\n",
              " 'genuine': 19889,\n",
              " 'college': 11839,\n",
              " 'degree': 14235,\n",
              " 'weeks': 43512,\n",
              " 'ever': 17521,\n",
              " 'thought': 40494,\n",
              " 'only': 30574,\n",
              " 'thing': 40434,\n",
              " 'stopping': 38963,\n",
              " 'job': 24442,\n",
              " 'better': 8097,\n",
              " 'letters': 26025,\n",
              " 'behind': 7814,\n",
              " 'well': 43545,\n",
              " 'them': 40366,\n",
              " 'ba': 7147,\n",
              " 'bsc': 9355,\n",
              " 'ma': 26894,\n",
              " 'msc': 28895,\n",
              " 'mba': 27506,\n",
              " 'phd': 31991,\n",
              " 'study': 39131,\n",
              " 'required': 35168,\n",
              " 'completley': 12112,\n",
              " 'verifiable': 42607,\n",
              " 'these': 40409,\n",
              " 'real': 34469,\n",
              " 'degrees': 14236,\n",
              " 'include': 22988,\n",
              " 'bachelors': 7172,\n",
              " 'masters': 27398,\n",
              " 'doctorate': 15393,\n",
              " 'student': 39124,\n",
              " 'records': 34618,\n",
              " 'transcripts': 41099,\n",
              " 'also': 5511,\n",
              " 'available': 7004,\n",
              " 'opportunity': 30670,\n",
              " 'exists': 17720,\n",
              " 'due': 15899,\n",
              " 'legal': 25917,\n",
              " 'loophole': 26558,\n",
              " 'allowing': 5454,\n",
              " 'some': 38183,\n",
              " 'established': 17373,\n",
              " 'colleges': 11840,\n",
              " 'award': 7072,\n",
              " 'their': 40360,\n",
              " 'discretion': 15080,\n",
              " 'order': 30752,\n",
              " 'yours': 44827,\n",
              " 'today': 40803,\n",
              " 'number': 30031,\n",
              " 'below': 7896,\n",
              " 'phone': 32057,\n",
              " 'll': 26347,\n",
              " 'thank': 40330,\n",
              " 'later': 25693,\n",
              " '206': 1031,\n",
              " '338': 1632,\n",
              " '5523': 2499,\n",
              " 'smutty': 37999,\n",
              " 'snore': 38045,\n",
              " 'regimentation': 34813,\n",
              " 'tighten': 40614,\n",
              " 'unction': 41876,\n",
              " 'doff': 15427,\n",
              " 'goodbye': 20360,\n",
              " 'hogging': 21865,\n",
              " 'headset': 21342,\n",
              " 'dross': 15804,\n",
              " 'matchmake': 27408,\n",
              " 'pomegranate': 32623,\n",
              " 'dutch': 15986,\n",
              " 'drugstorepotash': 15819,\n",
              " 'eccentric': 16195,\n",
              " 'coolant': 12700,\n",
              " 'atrium': 6769,\n",
              " 'equivalent': 17200,\n",
              " 'gangland': 19622,\n",
              " 'plato': 32394,\n",
              " 'floor': 18782,\n",
              " 'cetera': 10676,\n",
              " 'raleigh': 34279,\n",
              " 'cygnus': 13640,\n",
              " 'runty': 36117,\n",
              " 'polyglot': 32609,\n",
              " 'scalar': 36520,\n",
              " 'architecture': 6310,\n",
              " 'cane': 10025,\n",
              " 'puffin': 33638,\n",
              " 'diplomacy': 14980,\n",
              " 'amp': 5695,\n",
              " 'pearlite': 31608,\n",
              " 'perish': 31771,\n",
              " 'transcription': 41098,\n",
              " 'irreverent': 23834,\n",
              " 'yankee': 44620,\n",
              " 'newcastle': 29512,\n",
              " 'tristate': 41320,\n",
              " 'cactus': 9808,\n",
              " 'lobule': 26424,\n",
              " 'teamwork': 40015,\n",
              " 'traverse': 41186,\n",
              " 'adsorptive': 4819,\n",
              " 'spheroidal': 38434,\n",
              " 'cochineal': 11692,\n",
              " 'businessman': 9608,\n",
              " 'sideline': 37540,\n",
              " 'cleric': 11477,\n",
              " 'bart': 7475,\n",
              " 'quantile': 34020,\n",
              " 'tutelage': 41537,\n",
              " 'apperception': 6137,\n",
              " 'incurrer': 23059,\n",
              " 'bakelite': 7266,\n",
              " 'electra': 16548,\n",
              " 'deportee': 14458,\n",
              " 'danger': 13777,\n",
              " 'brain': 8996,\n",
              " 'malaise': 27072,\n",
              " 'plaything': 32423,\n",
              " 'fussy': 19456,\n",
              " 'greylag': 20628,\n",
              " 'senatorial': 36978,\n",
              " 'trw': 41397,\n",
              " 'precursor': 32951,\n",
              " 'luminescent': 26793,\n",
              " 'quadrangle': 33991,\n",
              " 'pupal': 33671,\n",
              " 'basalt': 7485,\n",
              " 'cabin': 9780,\n",
              " 'softball': 38115,\n",
              " 'bankrupt': 7373,\n",
              " 'desk': 14564,\n",
              " 'needed': 29379,\n",
              " '378': 1831,\n",
              " 'an': 5737,\n",
              " 'ena': 16818,\n",
              " 'sale': 36276,\n",
              " 'delivery': 14311,\n",
              " '202': 1015,\n",
              " 'buy': 9667,\n",
              " 'receipt': 34538,\n",
              " '216': 1079,\n",
              " 'priority': 33176,\n",
              " 'bridge': 9163,\n",
              " 'close': 11551,\n",
              " 'possible': 32756,\n",
              " 'completed': 12106,\n",
              " 'noon': 29841,\n",
              " 'fred': 19190,\n",
              " 'fw': 19484,\n",
              " 'red': 34653,\n",
              " 'white': 43688,\n",
              " 'blue': 8580,\n",
              " 'original': 30799,\n",
              " 'carter': 10270,\n",
              " 'rhonda': 35517,\n",
              " 'mailto': 27026,\n",
              " 'rcarter': 34416,\n",
              " 'cooperinst': 12713,\n",
              " 'org': 30773,\n",
              " 'sent': 37002,\n",
              " 'september': 37031,\n",
              " '33': 1596,\n",
              " 'al': 5238,\n",
              " 'abbott': 4250,\n",
              " 'compuserve': 12166,\n",
              " 'mabner': 26897,\n",
              " 'sprintmail': 38541,\n",
              " 'aggiebob': 5029,\n",
              " 'hotmail': 22092,\n",
              " 'adamsck': 4662,\n",
              " 'flash': 18693,\n",
              " 'net': 29460,\n",
              " 'gadams': 19531,\n",
              " 'promus': 33382,\n",
              " 'pjadell': 32301,\n",
              " 'yahoo': 44613,\n",
              " 'bob': 8661,\n",
              " 'cybersitebuilders': 13623,\n",
              " 'worml': 44126,\n",
              " '998': 4204,\n",
              " 'janie': 24090,\n",
              " 'beth': 8081,\n",
              " 'prodigy': 33254,\n",
              " 'gakin': 19557,\n",
              " 'mccarthy': 27556,\n",
              " 'vja': 42921,\n",
              " 'locke': 26439,\n",
              " 'alder': 5290,\n",
              " 'gte': 20736,\n",
              " 'calexaol': 9883,\n",
              " 'erika': 17250,\n",
              " 'publish': 33616,\n",
              " 'irs': 23841,\n",
              " 'gov': 20436,\n",
              " 'ali': 5344,\n",
              " 'buz': 9677,\n",
              " 'brada': 8977,\n",
              " 'ticnet': 40592,\n",
              " 'svallen': 39519,\n",
              " 'aol': 6051,\n",
              " 'jand': 24079,\n",
              " 'allan': 5390,\n",
              " 'stratsolgroup': 39030,\n",
              " 'anderson': 5802,\n",
              " 'oxy': 31096,\n",
              " 'mdqsga': 27651,\n",
              " '96': 3786,\n",
              " 'anhalt': 5865,\n",
              " 'bigfoot': 8220,\n",
              " 'aranda': 6266,\n",
              " 'nbstx': 29306,\n",
              " 'aggiemom': 5031,\n",
              " 'archer': 6298,\n",
              " 'cx': 13601,\n",
              " 'jard': 24109,\n",
              " 'nortelnetworks': 29869,\n",
              " 'abarch': 4238,\n",
              " 'airmail': 5176,\n",
              " 'narguello': 29227,\n",
              " 'jarmstrong': 24111,\n",
              " 'tqtx': 41014,\n",
              " 'mikie': 28151,\n",
              " 'aggie': 5028,\n",
              " 'zzn': 45236,\n",
              " 'ag': 5005,\n",
              " '85': 3480,\n",
              " 'kmarnold': 25184,\n",
              " 'hollya': 21901,\n",
              " 'designs': 14559,\n",
              " 'hughashburn': 22252,\n",
              " 'netscape': 29476,\n",
              " 'olinatkinson': 30479,\n",
              " 'dellnet': 14314,\n",
              " 'papaayres': 31261,\n",
              " 'abackof': 4233,\n",
              " '68': 2942,\n",
              " 'badgett': 7229,\n",
              " 'ti': 40570,\n",
              " 'kbailie': 24853,\n",
              " 'nortel': 29868,\n",
              " 'wjbaird': 43950,\n",
              " 'mapsco': 27213,\n",
              " 'jbaker': 24134,\n",
              " 'ecomtrading': 16225,\n",
              " 'tim': 40635,\n",
              " 'banigan': 7363,\n",
              " 'atbarlow': 6722,\n",
              " 'smu': 37995,\n",
              " 'edu': 16307,\n",
              " 'arnonvic': 6431,\n",
              " 'john': 24469,\n",
              " 'laurabarr': 25727,\n",
              " 'email': 16671,\n",
              " 'msn': 28906,\n",
              " 'jillmbarrow': 24333,\n",
              " 'barton': 7481,\n",
              " 'tbates': 39947,\n",
              " 'normabautista': 29856,\n",
              " 'worldnet': 44117,\n",
              " 'att': 6775,\n",
              " 'baweja': 7584,\n",
              " 'gbaxley': 19731,\n",
              " 'nt': 29998,\n",
              " 'dabayers': 13690,\n",
              " 'juno': 24676,\n",
              " 'jbeard': 24137,\n",
              " 'halff': 21008,\n",
              " 'bearden': 7682,\n",
              " 'grainger': 20502,\n",
              " 'tbeaslel': 39950,\n",
              " 'tuelectric': 41460,\n",
              " 'kayebeatty': 24848,\n",
              " 'triciabeaudreau': 41267,\n",
              " 'abeckley': 4263,\n",
              " 'executrain': 17681,\n",
              " 'dal': 13738,\n",
              " 'scott': 36671,\n",
              " 'marshmc': 27340,\n",
              " 'chiaggie': 10966,\n",
              " 'dbenefield': 13926,\n",
              " 'merit': 27911,\n",
              " 'bryan': 9344,\n",
              " 'dalmac': 13746,\n",
              " 'bennie': 7956,\n",
              " 'bergerd': 7994,\n",
              " 'earthlink': 16130,\n",
              " 'ted': 40055,\n",
              " 'bernard': 8014,\n",
              " 'ac': 4389,\n",
              " 'sberry': 36496,\n",
              " 'jody': 24453,\n",
              " 'bingham': 8290,\n",
              " ...}"
            ]
          },
          "execution_count": 36,
          "metadata": {},
          "output_type": "execute_result"
        }
      ],
      "source": [
        "vectorizer.vocabulary_"
      ]
    },
    {
      "cell_type": "code",
      "execution_count": 37,
      "metadata": {
        "colab": {
          "base_uri": "https://localhost:8080/"
        },
        "id": "jjFtzOw_O2Bc",
        "outputId": "22a5be97-6db6-41ee-a39f-2230a4889a86"
      },
      "outputs": [
        {
          "name": "stdout",
          "output_type": "stream",
          "text": [
            "MultinomialNB Accuracy: 97.20%\n",
            "MultinomialNB Precision: 95.52%\n",
            "MultinomialNB Recall: 94.54%\n",
            "MultinomialNB F1 Score: 95.03%\n",
            "Confusion Matrix:\n",
            "[[729  13]\n",
            " [ 16 277]]\n"
          ]
        }
      ],
      "source": [
        "from sklearn.metrics import accuracy_score, confusion_matrix, classification_report, precision_score, recall_score, f1_score\n",
        "\n",
        "mnb = MultinomialNB()\n",
        "mnb.fit(X_train_vec, y_train)\n",
        "\n",
        "y_pred_mnb = mnb.predict(X_test_vec)\n",
        "\n",
        "accuracy_mnb = accuracy_score(y_test, y_pred_mnb) * 100\n",
        "precision_mnb = precision_score(y_test, y_pred_mnb, average='binary') * 100\n",
        "recall_mnb = recall_score(y_test, y_pred_mnb, average='binary') * 100\n",
        "f1_mnb = f1_score(y_test, y_pred_mnb, average='binary') * 100\n",
        "conf_matrix = confusion_matrix(y_test, y_pred_mnb)\n",
        "\n",
        "print(f'MultinomialNB Accuracy: {accuracy_mnb:.2f}%')\n",
        "print(f'MultinomialNB Precision: {precision_mnb:.2f}%')\n",
        "print(f'MultinomialNB Recall: {recall_mnb:.2f}%')\n",
        "print(f'MultinomialNB F1 Score: {f1_mnb:.2f}%')\n",
        "print('Confusion Matrix:')\n",
        "print(conf_matrix)\n",
        "\n",
        "# There is performance gap\n",
        "# Remember that we used simplified tokenization above (split by space)"
      ]
    }
  ],
  "metadata": {
    "colab": {
      "include_colab_link": true,
      "provenance": []
    },
    "kernelspec": {
      "display_name": "Python 3",
      "name": "python3"
    },
    "language_info": {
      "codemirror_mode": {
        "name": "ipython",
        "version": 3
      },
      "file_extension": ".py",
      "mimetype": "text/x-python",
      "name": "python",
      "nbconvert_exporter": "python",
      "pygments_lexer": "ipython3",
      "version": "3.10.14"
    }
  },
  "nbformat": 4,
  "nbformat_minor": 0
}

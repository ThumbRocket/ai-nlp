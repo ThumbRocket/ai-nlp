{
 "cells": [
  {
   "cell_type": "markdown",
   "metadata": {
    "id": "EidE4YTn28gP"
   },
   "source": [
    "Code from https://ratsgo.github.io/nlpbook/docs/language_model/tutorial/"
   ]
  },
  {
   "cell_type": "markdown",
   "metadata": {
    "id": "AanLMepm2z5V"
   },
   "source": [
    "# 패키지 설치\n",
    "pip 명령어로 의존성 있는 패키지를 설치"
   ]
  },
  {
   "cell_type": "code",
   "execution_count": 1,
   "metadata": {
    "id": "_KCr-1QM2qiS"
   },
   "outputs": [
    {
     "name": "stdout",
     "output_type": "stream",
     "text": [
      "Collecting ratsnlp\n",
      "  Downloading ratsnlp-1.0.53-py3-none-any.whl.metadata (741 bytes)\n",
      "Collecting pytorch-lightning==1.6.1 (from ratsnlp)\n",
      "  Downloading pytorch_lightning-1.6.1-py3-none-any.whl.metadata (33 kB)\n",
      "Collecting transformers==4.28.1 (from ratsnlp)\n",
      "  Downloading transformers-4.28.1-py3-none-any.whl.metadata (109 kB)\n",
      "\u001b[2K     \u001b[90m━━━━━━━━━━━━━━━━━━━━━━━━━━━━━━━━━━━━━━━\u001b[0m \u001b[32m110.0/110.0 kB\u001b[0m \u001b[31m5.5 MB/s\u001b[0m eta \u001b[36m0:00:00\u001b[0m\n",
      "\u001b[?25hCollecting Korpora>=0.2.0 (from ratsnlp)\n",
      "  Downloading Korpora-0.2.0-py3-none-any.whl.metadata (26 kB)\n",
      "Collecting flask>=1.1.4 (from ratsnlp)\n",
      "  Using cached flask-3.0.3-py3-none-any.whl.metadata (3.2 kB)\n",
      "Collecting flask-ngrok>=0.0.25 (from ratsnlp)\n",
      "  Downloading flask_ngrok-0.0.25-py3-none-any.whl.metadata (1.8 kB)\n",
      "Collecting flask-cors>=3.0.10 (from ratsnlp)\n",
      "  Downloading Flask_Cors-4.0.1-py2.py3-none-any.whl.metadata (5.5 kB)\n",
      "Requirement already satisfied: numpy>=1.17.2 in /home/devrok/.conda/envs/snuenv_pt/lib/python3.10/site-packages (from pytorch-lightning==1.6.1->ratsnlp) (1.23.5)\n",
      "Requirement already satisfied: torch>=1.8.* in /home/devrok/.conda/envs/snuenv_pt/lib/python3.10/site-packages (from pytorch-lightning==1.6.1->ratsnlp) (2.3.1)\n",
      "Requirement already satisfied: tqdm>=4.41.0 in /home/devrok/.conda/envs/snuenv_pt/lib/python3.10/site-packages (from pytorch-lightning==1.6.1->ratsnlp) (4.66.4)\n",
      "Requirement already satisfied: PyYAML>=5.4 in /home/devrok/.conda/envs/snuenv_pt/lib/python3.10/site-packages (from pytorch-lightning==1.6.1->ratsnlp) (6.0.1)\n",
      "Requirement already satisfied: fsspec!=2021.06.0,>=2021.05.0 in /home/devrok/.conda/envs/snuenv_pt/lib/python3.10/site-packages (from fsspec[http]!=2021.06.0,>=2021.05.0->pytorch-lightning==1.6.1->ratsnlp) (2024.5.0)\n",
      "Requirement already satisfied: tensorboard>=2.2.0 in /home/devrok/.conda/envs/snuenv_pt/lib/python3.10/site-packages (from pytorch-lightning==1.6.1->ratsnlp) (2.17.0)\n",
      "Collecting torchmetrics>=0.4.1 (from pytorch-lightning==1.6.1->ratsnlp)\n",
      "  Downloading torchmetrics-1.4.1-py3-none-any.whl.metadata (20 kB)\n",
      "Collecting pyDeprecate<0.4.0,>=0.3.1 (from pytorch-lightning==1.6.1->ratsnlp)\n",
      "  Downloading pyDeprecate-0.3.2-py3-none-any.whl.metadata (10 kB)\n",
      "Requirement already satisfied: packaging>=17.0 in /home/devrok/.conda/envs/snuenv_pt/lib/python3.10/site-packages (from pytorch-lightning==1.6.1->ratsnlp) (24.1)\n",
      "Requirement already satisfied: typing-extensions>=4.0.0 in /home/devrok/.conda/envs/snuenv_pt/lib/python3.10/site-packages (from pytorch-lightning==1.6.1->ratsnlp) (4.12.2)\n",
      "Requirement already satisfied: filelock in /home/devrok/.conda/envs/snuenv_pt/lib/python3.10/site-packages (from transformers==4.28.1->ratsnlp) (3.15.4)\n",
      "Requirement already satisfied: huggingface-hub<1.0,>=0.11.0 in /home/devrok/.conda/envs/snuenv_pt/lib/python3.10/site-packages (from transformers==4.28.1->ratsnlp) (0.24.3)\n",
      "Requirement already satisfied: regex!=2019.12.17 in /home/devrok/.conda/envs/snuenv_pt/lib/python3.10/site-packages (from transformers==4.28.1->ratsnlp) (2024.7.24)\n",
      "Requirement already satisfied: requests in /home/devrok/.conda/envs/snuenv_pt/lib/python3.10/site-packages (from transformers==4.28.1->ratsnlp) (2.32.3)\n",
      "Requirement already satisfied: tokenizers!=0.11.3,<0.14,>=0.11.1 in /home/devrok/.conda/envs/snuenv_pt/lib/python3.10/site-packages (from transformers==4.28.1->ratsnlp) (0.13.3)\n",
      "Requirement already satisfied: Werkzeug>=3.0.0 in /home/devrok/.conda/envs/snuenv_pt/lib/python3.10/site-packages (from flask>=1.1.4->ratsnlp) (3.0.3)\n",
      "Collecting Jinja2>=3.1.2 (from flask>=1.1.4->ratsnlp)\n",
      "  Using cached jinja2-3.1.4-py3-none-any.whl.metadata (2.6 kB)\n",
      "Collecting itsdangerous>=2.1.2 (from flask>=1.1.4->ratsnlp)\n",
      "  Using cached itsdangerous-2.2.0-py3-none-any.whl.metadata (1.9 kB)\n",
      "Requirement already satisfied: click>=8.1.3 in /home/devrok/.conda/envs/snuenv_pt/lib/python3.10/site-packages (from flask>=1.1.4->ratsnlp) (8.1.7)\n",
      "Collecting blinker>=1.6.2 (from flask>=1.1.4->ratsnlp)\n",
      "  Using cached blinker-1.8.2-py3-none-any.whl.metadata (1.6 kB)\n",
      "Collecting dataclasses>=0.6 (from Korpora>=0.2.0->ratsnlp)\n",
      "  Downloading dataclasses-0.6-py3-none-any.whl.metadata (3.0 kB)\n",
      "Collecting xlrd>=1.2.0 (from Korpora>=0.2.0->ratsnlp)\n",
      "  Downloading xlrd-2.0.1-py2.py3-none-any.whl.metadata (3.4 kB)\n",
      "Requirement already satisfied: aiohttp!=4.0.0a0,!=4.0.0a1 in /home/devrok/.conda/envs/snuenv_pt/lib/python3.10/site-packages (from fsspec[http]!=2021.06.0,>=2021.05.0->pytorch-lightning==1.6.1->ratsnlp) (3.10.3)\n",
      "Requirement already satisfied: MarkupSafe>=2.0 in /home/devrok/.conda/envs/snuenv_pt/lib/python3.10/site-packages (from Jinja2>=3.1.2->flask>=1.1.4->ratsnlp) (2.1.5)\n",
      "Requirement already satisfied: charset-normalizer<4,>=2 in /home/devrok/.conda/envs/snuenv_pt/lib/python3.10/site-packages (from requests->transformers==4.28.1->ratsnlp) (3.3.2)\n",
      "Requirement already satisfied: idna<4,>=2.5 in /home/devrok/.conda/envs/snuenv_pt/lib/python3.10/site-packages (from requests->transformers==4.28.1->ratsnlp) (3.7)\n",
      "Requirement already satisfied: urllib3<3,>=1.21.1 in /home/devrok/.conda/envs/snuenv_pt/lib/python3.10/site-packages (from requests->transformers==4.28.1->ratsnlp) (2.2.2)\n",
      "Requirement already satisfied: certifi>=2017.4.17 in /home/devrok/.conda/envs/snuenv_pt/lib/python3.10/site-packages (from requests->transformers==4.28.1->ratsnlp) (2024.7.4)\n",
      "Requirement already satisfied: absl-py>=0.4 in /home/devrok/.conda/envs/snuenv_pt/lib/python3.10/site-packages (from tensorboard>=2.2.0->pytorch-lightning==1.6.1->ratsnlp) (2.1.0)\n",
      "Requirement already satisfied: grpcio>=1.48.2 in /home/devrok/.conda/envs/snuenv_pt/lib/python3.10/site-packages (from tensorboard>=2.2.0->pytorch-lightning==1.6.1->ratsnlp) (1.65.1)\n",
      "Requirement already satisfied: markdown>=2.6.8 in /home/devrok/.conda/envs/snuenv_pt/lib/python3.10/site-packages (from tensorboard>=2.2.0->pytorch-lightning==1.6.1->ratsnlp) (3.6)\n",
      "Requirement already satisfied: protobuf!=4.24.0,<5.0.0,>=3.19.6 in /home/devrok/.conda/envs/snuenv_pt/lib/python3.10/site-packages (from tensorboard>=2.2.0->pytorch-lightning==1.6.1->ratsnlp) (4.25.4)\n",
      "Requirement already satisfied: setuptools>=41.0.0 in /home/devrok/.conda/envs/snuenv_pt/lib/python3.10/site-packages (from tensorboard>=2.2.0->pytorch-lightning==1.6.1->ratsnlp) (72.1.0)\n",
      "Requirement already satisfied: six>1.9 in /home/devrok/.conda/envs/snuenv_pt/lib/python3.10/site-packages (from tensorboard>=2.2.0->pytorch-lightning==1.6.1->ratsnlp) (1.16.0)\n",
      "Requirement already satisfied: tensorboard-data-server<0.8.0,>=0.7.0 in /home/devrok/.conda/envs/snuenv_pt/lib/python3.10/site-packages (from tensorboard>=2.2.0->pytorch-lightning==1.6.1->ratsnlp) (0.7.2)\n",
      "Requirement already satisfied: sympy in /home/devrok/.conda/envs/snuenv_pt/lib/python3.10/site-packages (from torch>=1.8.*->pytorch-lightning==1.6.1->ratsnlp) (1.13.1)\n",
      "Requirement already satisfied: networkx in /home/devrok/.conda/envs/snuenv_pt/lib/python3.10/site-packages (from torch>=1.8.*->pytorch-lightning==1.6.1->ratsnlp) (3.3)\n",
      "Requirement already satisfied: nvidia-cuda-nvrtc-cu12==12.1.105 in /home/devrok/.conda/envs/snuenv_pt/lib/python3.10/site-packages (from torch>=1.8.*->pytorch-lightning==1.6.1->ratsnlp) (12.1.105)\n",
      "Requirement already satisfied: nvidia-cuda-runtime-cu12==12.1.105 in /home/devrok/.conda/envs/snuenv_pt/lib/python3.10/site-packages (from torch>=1.8.*->pytorch-lightning==1.6.1->ratsnlp) (12.1.105)\n",
      "Requirement already satisfied: nvidia-cuda-cupti-cu12==12.1.105 in /home/devrok/.conda/envs/snuenv_pt/lib/python3.10/site-packages (from torch>=1.8.*->pytorch-lightning==1.6.1->ratsnlp) (12.1.105)\n",
      "Requirement already satisfied: nvidia-cudnn-cu12==8.9.2.26 in /home/devrok/.conda/envs/snuenv_pt/lib/python3.10/site-packages (from torch>=1.8.*->pytorch-lightning==1.6.1->ratsnlp) (8.9.2.26)\n",
      "Requirement already satisfied: nvidia-cublas-cu12==12.1.3.1 in /home/devrok/.conda/envs/snuenv_pt/lib/python3.10/site-packages (from torch>=1.8.*->pytorch-lightning==1.6.1->ratsnlp) (12.1.3.1)\n",
      "Requirement already satisfied: nvidia-cufft-cu12==11.0.2.54 in /home/devrok/.conda/envs/snuenv_pt/lib/python3.10/site-packages (from torch>=1.8.*->pytorch-lightning==1.6.1->ratsnlp) (11.0.2.54)\n",
      "Requirement already satisfied: nvidia-curand-cu12==10.3.2.106 in /home/devrok/.conda/envs/snuenv_pt/lib/python3.10/site-packages (from torch>=1.8.*->pytorch-lightning==1.6.1->ratsnlp) (10.3.2.106)\n",
      "Requirement already satisfied: nvidia-cusolver-cu12==11.4.5.107 in /home/devrok/.conda/envs/snuenv_pt/lib/python3.10/site-packages (from torch>=1.8.*->pytorch-lightning==1.6.1->ratsnlp) (11.4.5.107)\n",
      "Requirement already satisfied: nvidia-cusparse-cu12==12.1.0.106 in /home/devrok/.conda/envs/snuenv_pt/lib/python3.10/site-packages (from torch>=1.8.*->pytorch-lightning==1.6.1->ratsnlp) (12.1.0.106)\n",
      "Requirement already satisfied: nvidia-nccl-cu12==2.20.5 in /home/devrok/.conda/envs/snuenv_pt/lib/python3.10/site-packages (from torch>=1.8.*->pytorch-lightning==1.6.1->ratsnlp) (2.20.5)\n",
      "Requirement already satisfied: nvidia-nvtx-cu12==12.1.105 in /home/devrok/.conda/envs/snuenv_pt/lib/python3.10/site-packages (from torch>=1.8.*->pytorch-lightning==1.6.1->ratsnlp) (12.1.105)\n",
      "Requirement already satisfied: triton==2.3.1 in /home/devrok/.conda/envs/snuenv_pt/lib/python3.10/site-packages (from torch>=1.8.*->pytorch-lightning==1.6.1->ratsnlp) (2.3.1)\n",
      "Requirement already satisfied: nvidia-nvjitlink-cu12 in /home/devrok/.conda/envs/snuenv_pt/lib/python3.10/site-packages (from nvidia-cusolver-cu12==11.4.5.107->torch>=1.8.*->pytorch-lightning==1.6.1->ratsnlp) (12.5.82)\n",
      "Collecting lightning-utilities>=0.8.0 (from torchmetrics>=0.4.1->pytorch-lightning==1.6.1->ratsnlp)\n",
      "  Downloading lightning_utilities-0.11.6-py3-none-any.whl.metadata (5.2 kB)\n",
      "Requirement already satisfied: aiohappyeyeballs>=2.3.0 in /home/devrok/.conda/envs/snuenv_pt/lib/python3.10/site-packages (from aiohttp!=4.0.0a0,!=4.0.0a1->fsspec[http]!=2021.06.0,>=2021.05.0->pytorch-lightning==1.6.1->ratsnlp) (2.3.5)\n",
      "Requirement already satisfied: aiosignal>=1.1.2 in /home/devrok/.conda/envs/snuenv_pt/lib/python3.10/site-packages (from aiohttp!=4.0.0a0,!=4.0.0a1->fsspec[http]!=2021.06.0,>=2021.05.0->pytorch-lightning==1.6.1->ratsnlp) (1.3.1)\n",
      "Requirement already satisfied: attrs>=17.3.0 in /home/devrok/.conda/envs/snuenv_pt/lib/python3.10/site-packages (from aiohttp!=4.0.0a0,!=4.0.0a1->fsspec[http]!=2021.06.0,>=2021.05.0->pytorch-lightning==1.6.1->ratsnlp) (23.2.0)\n",
      "Requirement already satisfied: frozenlist>=1.1.1 in /home/devrok/.conda/envs/snuenv_pt/lib/python3.10/site-packages (from aiohttp!=4.0.0a0,!=4.0.0a1->fsspec[http]!=2021.06.0,>=2021.05.0->pytorch-lightning==1.6.1->ratsnlp) (1.4.1)\n",
      "Requirement already satisfied: multidict<7.0,>=4.5 in /home/devrok/.conda/envs/snuenv_pt/lib/python3.10/site-packages (from aiohttp!=4.0.0a0,!=4.0.0a1->fsspec[http]!=2021.06.0,>=2021.05.0->pytorch-lightning==1.6.1->ratsnlp) (6.0.5)\n",
      "Requirement already satisfied: yarl<2.0,>=1.0 in /home/devrok/.conda/envs/snuenv_pt/lib/python3.10/site-packages (from aiohttp!=4.0.0a0,!=4.0.0a1->fsspec[http]!=2021.06.0,>=2021.05.0->pytorch-lightning==1.6.1->ratsnlp) (1.9.4)\n",
      "Requirement already satisfied: async-timeout<5.0,>=4.0 in /home/devrok/.conda/envs/snuenv_pt/lib/python3.10/site-packages (from aiohttp!=4.0.0a0,!=4.0.0a1->fsspec[http]!=2021.06.0,>=2021.05.0->pytorch-lightning==1.6.1->ratsnlp) (4.0.3)\n",
      "Requirement already satisfied: mpmath<1.4,>=1.1.0 in /home/devrok/.conda/envs/snuenv_pt/lib/python3.10/site-packages (from sympy->torch>=1.8.*->pytorch-lightning==1.6.1->ratsnlp) (1.3.0)\n",
      "Downloading ratsnlp-1.0.53-py3-none-any.whl (42 kB)\n",
      "\u001b[2K   \u001b[90m━━━━━━━━━━━━━━━━━━━━━━━━━━━━━━━━━━━━━━━━\u001b[0m \u001b[32m42.2/42.2 kB\u001b[0m \u001b[31m2.6 MB/s\u001b[0m eta \u001b[36m0:00:00\u001b[0m\n",
      "\u001b[?25hDownloading pytorch_lightning-1.6.1-py3-none-any.whl (582 kB)\n",
      "\u001b[2K   \u001b[90m━━━━━━━━━━━━━━━━━━━━━━━━━━━━━━━━━━━━━━━━\u001b[0m \u001b[32m582.5/582.5 kB\u001b[0m \u001b[31m24.2 MB/s\u001b[0m eta \u001b[36m0:00:00\u001b[0m\n",
      "\u001b[?25hDownloading transformers-4.28.1-py3-none-any.whl (7.0 MB)\n",
      "\u001b[2K   \u001b[90m━━━━━━━━━━━━━━━━━━━━━━━━━━━━━━━━━━━━━━━━\u001b[0m \u001b[32m7.0/7.0 MB\u001b[0m \u001b[31m44.3 MB/s\u001b[0m eta \u001b[36m0:00:00\u001b[0m00:01\u001b[0m00:01\u001b[0m\n",
      "\u001b[?25hUsing cached flask-3.0.3-py3-none-any.whl (101 kB)\n",
      "Downloading Flask_Cors-4.0.1-py2.py3-none-any.whl (14 kB)\n",
      "Downloading flask_ngrok-0.0.25-py3-none-any.whl (3.1 kB)\n",
      "Downloading Korpora-0.2.0-py3-none-any.whl (57 kB)\n",
      "\u001b[2K   \u001b[90m━━━━━━━━━━━━━━━━━━━━━━━━━━━━━━━━━━━━━━━━\u001b[0m \u001b[32m57.8/57.8 kB\u001b[0m \u001b[31m3.9 MB/s\u001b[0m eta \u001b[36m0:00:00\u001b[0m\n",
      "\u001b[?25hUsing cached blinker-1.8.2-py3-none-any.whl (9.5 kB)\n",
      "Downloading dataclasses-0.6-py3-none-any.whl (14 kB)\n",
      "Using cached itsdangerous-2.2.0-py3-none-any.whl (16 kB)\n",
      "Using cached jinja2-3.1.4-py3-none-any.whl (133 kB)\n",
      "Downloading pyDeprecate-0.3.2-py3-none-any.whl (10 kB)\n",
      "Downloading torchmetrics-1.4.1-py3-none-any.whl (866 kB)\n",
      "\u001b[2K   \u001b[90m━━━━━━━━━━━━━━━━━━━━━━━━━━━━━━━━━━━━━━━━\u001b[0m \u001b[32m866.2/866.2 kB\u001b[0m \u001b[31m29.8 MB/s\u001b[0m eta \u001b[36m0:00:00\u001b[0m\n",
      "\u001b[?25hDownloading xlrd-2.0.1-py2.py3-none-any.whl (96 kB)\n",
      "\u001b[2K   \u001b[90m━━━━━━━━━━━━━━━━━━━━━━━━━━━━━━━━━━━━━━━━\u001b[0m \u001b[32m96.5/96.5 kB\u001b[0m \u001b[31m6.9 MB/s\u001b[0m eta \u001b[36m0:00:00\u001b[0m\n",
      "\u001b[?25hDownloading lightning_utilities-0.11.6-py3-none-any.whl (26 kB)\n",
      "\u001b[33mDEPRECATION: pytorch-lightning 1.6.1 has a non-standard dependency specifier torch>=1.8.*. pip 24.1 will enforce this behaviour change. A possible replacement is to upgrade to a newer version of pytorch-lightning or contact the author to suggest that they release a version with a conforming dependency specifiers. Discussion can be found at https://github.com/pypa/pip/issues/12063\u001b[0m\u001b[33m\n",
      "\u001b[0mInstalling collected packages: dataclasses, xlrd, pyDeprecate, lightning-utilities, Jinja2, itsdangerous, blinker, Korpora, flask, transformers, flask-ngrok, flask-cors, torchmetrics, pytorch-lightning, ratsnlp\n",
      "  Attempting uninstall: Jinja2\n",
      "    Found existing installation: Jinja2 3.0.3\n",
      "    Uninstalling Jinja2-3.0.3:\n",
      "      Successfully uninstalled Jinja2-3.0.3\n",
      "  Attempting uninstall: transformers\n",
      "    Found existing installation: transformers 4.27.1\n",
      "    Uninstalling transformers-4.27.1:\n",
      "      Successfully uninstalled transformers-4.27.1\n",
      "\u001b[31mERROR: pip's dependency resolver does not currently take into account all the packages that are installed. This behaviour is the source of the following dependency conflicts.\n",
      "fiftyone 0.24.1 requires Jinja2==3.0.3, but you have jinja2 3.1.4 which is incompatible.\u001b[0m\u001b[31m\n",
      "\u001b[0mSuccessfully installed Jinja2-3.1.4 Korpora-0.2.0 blinker-1.8.2 dataclasses-0.6 flask-3.0.3 flask-cors-4.0.1 flask-ngrok-0.0.25 itsdangerous-2.2.0 lightning-utilities-0.11.6 pyDeprecate-0.3.2 pytorch-lightning-1.6.1 ratsnlp-1.0.53 torchmetrics-1.4.1 transformers-4.28.1 xlrd-2.0.1\n"
     ]
    }
   ],
   "source": [
    "!pip install ratsnlp"
   ]
  },
  {
   "cell_type": "markdown",
   "metadata": {
    "id": "gs4GqkCd2wEl"
   },
   "source": [
    "## 토크나이저 초기화\n",
    "\n",
    "BERT(`kcbert-base`) 모델이 쓰는 토크나이저를 선언"
   ]
  },
  {
   "cell_type": "code",
   "execution_count": 2,
   "metadata": {
    "colab": {
     "base_uri": "https://localhost:8080/",
     "height": 116,
     "referenced_widgets": [
      "b860e5773ed143cca217926091115ffb",
      "b11fcbae2fea4deb9ec816bdaed80d47",
      "923652d7f0bd45b0b4e939fd1d0d2da2",
      "6c2f7e7e165845e9989ef27a8b08946a",
      "40781fad917b48f28f6304bb09ff657b",
      "e824541e2a504e2ba09bf1ee99eaf334",
      "2071310744c5496db08ee96b82071367",
      "19c544aa05f746c6bbbfdfe846292a1b",
      "daa1ab91c2bb45f9b026a2a1fb9f49c3",
      "47adb3c24cfa4844b901564b3a6f8d4b",
      "e15d758bdb234e9b8005cfa2be085073",
      "f9186b7f712c44019b5a29c22b2ca740",
      "2266331bf3d64fbdb0dc8da79530d4f7",
      "0de116d41931489b83c0105016ce7cec",
      "d87e3e92744a4a638d4d4ca8c03aaa45",
      "e971b5dc9f55400ca146ae4775d1b642"
     ]
    },
    "id": "cq9mi-Iq26Bj",
    "outputId": "301b182f-e54c-49ea-9d13-4c1358611c8c"
   },
   "outputs": [
    {
     "name": "stderr",
     "output_type": "stream",
     "text": [
      "/home/devrok/.conda/envs/snuenv_pt/lib/python3.10/site-packages/huggingface_hub/file_download.py:1150: FutureWarning: `resume_download` is deprecated and will be removed in version 1.0.0. Downloads always resume when possible. If you want to force a new download, use `force_download=True`.\n",
      "  warnings.warn(\n"
     ]
    },
    {
     "data": {
      "application/vnd.jupyter.widget-view+json": {
       "model_id": "2a76f4f136874e1db5f535a05e5be3e4",
       "version_major": 2,
       "version_minor": 0
      },
      "text/plain": [
       "vocab.txt:   0%|          | 0.00/250k [00:00<?, ?B/s]"
      ]
     },
     "metadata": {},
     "output_type": "display_data"
    },
    {
     "data": {
      "application/vnd.jupyter.widget-view+json": {
       "model_id": "df27165411264fddb1290d35a5ef73fc",
       "version_major": 2,
       "version_minor": 0
      },
      "text/plain": [
       "tokenizer_config.json:   0%|          | 0.00/49.0 [00:00<?, ?B/s]"
      ]
     },
     "metadata": {},
     "output_type": "display_data"
    },
    {
     "data": {
      "application/vnd.jupyter.widget-view+json": {
       "model_id": "eba250b9064546febf1013a3cb3b4a11",
       "version_major": 2,
       "version_minor": 0
      },
      "text/plain": [
       "config.json:   0%|          | 0.00/619 [00:00<?, ?B/s]"
      ]
     },
     "metadata": {},
     "output_type": "display_data"
    }
   ],
   "source": [
    "from transformers import BertTokenizer\n",
    "tokenizer = BertTokenizer.from_pretrained(\n",
    "    \"beomi/kcbert-base\",\n",
    "    do_lower_case=False,\n",
    ")"
   ]
  },
  {
   "cell_type": "markdown",
   "metadata": {
    "id": "K0NCnzpRTdnJ"
   },
   "source": [
    "## 모델 초기화\n",
    "\n",
    "BERT(`kcbert-base`) 모델을 읽어들임"
   ]
  },
  {
   "cell_type": "code",
   "execution_count": 3,
   "metadata": {
    "colab": {
     "base_uri": "https://localhost:8080/",
     "height": 189,
     "referenced_widgets": [
      "dd7a14e1b71049ec8e30a213da049ddf",
      "d2a1150a2f4d4a6689702b5a67536333",
      "99bac06470884a5e9c8e192465fa28f5",
      "0c7b748dbafd40dab65fba80a1fdeb77",
      "9f0c4ef6f5de4ea1919b9a2e5d211f2c",
      "6a80ae9b74204ceb95e74cfc73b4c18f",
      "04d2881abf924ce0aa9a9516880472aa",
      "0989be37fa3149a397a76ba7a8bd48af",
      "d802ddf1d1de490fbdfee58af5966a49",
      "0b097dd8923d43ab951d986351aa40f9",
      "904409fa2e7c4463a63e7583ab8726cd",
      "3dd25ca47d6e4fed8846ff370e39693d",
      "0e95fa4fd79e4a06bd7d9e64b305ef01",
      "7e88c1adb28343468ec4c95634b76784",
      "64d8c3a1d09a429483bf1776d97af3ec",
      "4ce0205c763f42c1980740cc44a5cb46"
     ]
    },
    "id": "FSVDbnFUTiXx",
    "outputId": "a4813d89-d4a5-4b51-985e-87aa3add5ce7"
   },
   "outputs": [
    {
     "name": "stderr",
     "output_type": "stream",
     "text": [
      "/home/devrok/.conda/envs/snuenv_pt/lib/python3.10/site-packages/huggingface_hub/file_download.py:1150: FutureWarning: `resume_download` is deprecated and will be removed in version 1.0.0. Downloads always resume when possible. If you want to force a new download, use `force_download=True`.\n",
      "  warnings.warn(\n"
     ]
    },
    {
     "data": {
      "application/vnd.jupyter.widget-view+json": {
       "model_id": "98d3fc36a4bf4764a175be7e7f54c36a",
       "version_major": 2,
       "version_minor": 0
      },
      "text/plain": [
       "model.safetensors:   0%|          | 0.00/438M [00:00<?, ?B/s]"
      ]
     },
     "metadata": {},
     "output_type": "display_data"
    },
    {
     "name": "stderr",
     "output_type": "stream",
     "text": [
      "Some weights of the model checkpoint at beomi/kcbert-base were not used when initializing BertModel: ['cls.predictions.transform.dense.weight', 'cls.predictions.transform.LayerNorm.weight', 'cls.seq_relationship.weight', 'cls.predictions.transform.LayerNorm.bias', 'cls.seq_relationship.bias', 'cls.predictions.transform.dense.bias', 'cls.predictions.bias']\n",
      "- This IS expected if you are initializing BertModel from the checkpoint of a model trained on another task or with another architecture (e.g. initializing a BertForSequenceClassification model from a BertForPreTraining model).\n",
      "- This IS NOT expected if you are initializing BertModel from the checkpoint of a model that you expect to be exactly identical (initializing a BertForSequenceClassification model from a BertForSequenceClassification model).\n"
     ]
    }
   ],
   "source": [
    "from transformers import BertConfig, BertModel\n",
    "pretrained_model_config = BertConfig.from_pretrained(\n",
    "    \"beomi/kcbert-base\"\n",
    ")\n",
    "model = BertModel.from_pretrained(\n",
    "    \"beomi/kcbert-base\",\n",
    "    config=pretrained_model_config,\n",
    ")"
   ]
  },
  {
   "cell_type": "markdown",
   "metadata": {
    "id": "sWboOauTTyXp"
   },
   "source": [
    "`pretrained_model_config`의 내용 확인"
   ]
  },
  {
   "cell_type": "code",
   "execution_count": 4,
   "metadata": {
    "colab": {
     "base_uri": "https://localhost:8080/"
    },
    "id": "tup5LreLT4vE",
    "outputId": "898d0726-01c1-41a4-8a8f-194ba0efbfb3"
   },
   "outputs": [
    {
     "data": {
      "text/plain": [
       "BertConfig {\n",
       "  \"_name_or_path\": \"beomi/kcbert-base\",\n",
       "  \"architectures\": [\n",
       "    \"BertForMaskedLM\"\n",
       "  ],\n",
       "  \"attention_probs_dropout_prob\": 0.1,\n",
       "  \"classifier_dropout\": null,\n",
       "  \"directionality\": \"bidi\",\n",
       "  \"hidden_act\": \"gelu\",\n",
       "  \"hidden_dropout_prob\": 0.1,\n",
       "  \"hidden_size\": 768,\n",
       "  \"initializer_range\": 0.02,\n",
       "  \"intermediate_size\": 3072,\n",
       "  \"layer_norm_eps\": 1e-12,\n",
       "  \"max_position_embeddings\": 300,\n",
       "  \"model_type\": \"bert\",\n",
       "  \"num_attention_heads\": 12,\n",
       "  \"num_hidden_layers\": 12,\n",
       "  \"pad_token_id\": 0,\n",
       "  \"pooler_fc_size\": 768,\n",
       "  \"pooler_num_attention_heads\": 12,\n",
       "  \"pooler_num_fc_layers\": 3,\n",
       "  \"pooler_size_per_head\": 128,\n",
       "  \"pooler_type\": \"first_token_transform\",\n",
       "  \"position_embedding_type\": \"absolute\",\n",
       "  \"transformers_version\": \"4.28.1\",\n",
       "  \"type_vocab_size\": 2,\n",
       "  \"use_cache\": true,\n",
       "  \"vocab_size\": 30000\n",
       "}"
      ]
     },
     "execution_count": 4,
     "metadata": {},
     "output_type": "execute_result"
    }
   ],
   "source": [
    "pretrained_model_config"
   ]
  },
  {
   "cell_type": "markdown",
   "metadata": {
    "id": "8Y2JYqRGUFll"
   },
   "source": [
    "## 모델 입력값 만들기\n",
    "\n",
    "문장 2개를 모델 입력값으로 지정"
   ]
  },
  {
   "cell_type": "code",
   "execution_count": 5,
   "metadata": {
    "id": "9Rk2Ga65USFb"
   },
   "outputs": [],
   "source": [
    "sentences = [\"안녕하세요\", \"안녕하십니까\", \"안녕하십니까.\"]\n",
    "features = tokenizer(\n",
    "    sentences,\n",
    "    max_length=10,\n",
    "    padding=\"max_length\",\n",
    "    truncation=True,\n",
    ")"
   ]
  },
  {
   "cell_type": "markdown",
   "metadata": {
    "id": "wLq1JRVJUb7U"
   },
   "source": [
    "`features`의 내용을 확인"
   ]
  },
  {
   "cell_type": "code",
   "execution_count": 6,
   "metadata": {
    "colab": {
     "base_uri": "https://localhost:8080/"
    },
    "id": "XZl8OKdsVIQg",
    "outputId": "66de0c7e-d3a8-4f9b-ebc3-2b49ba29609c"
   },
   "outputs": [
    {
     "data": {
      "text/plain": [
       "dict_keys(['input_ids', 'token_type_ids', 'attention_mask'])"
      ]
     },
     "execution_count": 6,
     "metadata": {},
     "output_type": "execute_result"
    }
   ],
   "source": [
    "features.keys()"
   ]
  },
  {
   "cell_type": "code",
   "execution_count": 7,
   "metadata": {
    "colab": {
     "base_uri": "https://localhost:8080/"
    },
    "id": "LzkJ31vQVbjl",
    "outputId": "1dd39af5-9c3d-4688-de6e-f26456848cbe"
   },
   "outputs": [
    {
     "data": {
      "text/plain": [
       "[[2, 19017, 8482, 3, 0, 0, 0, 0, 0, 0],\n",
       " [2, 19017, 22796, 3, 0, 0, 0, 0, 0, 0],\n",
       " [2, 19017, 22796, 17, 3, 0, 0, 0, 0, 0]]"
      ]
     },
     "execution_count": 7,
     "metadata": {},
     "output_type": "execute_result"
    }
   ],
   "source": [
    "features['input_ids']"
   ]
  },
  {
   "cell_type": "code",
   "execution_count": 8,
   "metadata": {
    "colab": {
     "base_uri": "https://localhost:8080/"
    },
    "id": "Lc_71OjafQgS",
    "outputId": "630eb839-6506-401f-b1e4-d3e99723cf20"
   },
   "outputs": [
    {
     "data": {
      "text/plain": [
       "[[1, 1, 1, 1, 0, 0, 0, 0, 0, 0],\n",
       " [1, 1, 1, 1, 0, 0, 0, 0, 0, 0],\n",
       " [1, 1, 1, 1, 1, 0, 0, 0, 0, 0]]"
      ]
     },
     "execution_count": 8,
     "metadata": {},
     "output_type": "execute_result"
    }
   ],
   "source": [
    "features['attention_mask']"
   ]
  },
  {
   "cell_type": "code",
   "execution_count": 9,
   "metadata": {
    "colab": {
     "base_uri": "https://localhost:8080/"
    },
    "id": "Fdv1TGOHfQpm",
    "outputId": "eceff107-25f3-4400-b4b9-286802ddea69"
   },
   "outputs": [
    {
     "data": {
      "text/plain": [
       "[[0, 0, 0, 0, 0, 0, 0, 0, 0, 0],\n",
       " [0, 0, 0, 0, 0, 0, 0, 0, 0, 0],\n",
       " [0, 0, 0, 0, 0, 0, 0, 0, 0, 0]]"
      ]
     },
     "execution_count": 9,
     "metadata": {},
     "output_type": "execute_result"
    }
   ],
   "source": [
    "features['token_type_ids']"
   ]
  },
  {
   "cell_type": "markdown",
   "metadata": {
    "id": "wR-3V6zIVsPp"
   },
   "source": [
    "## BERT 임베딩 추출\n",
    "\n",
    "위에서 만든 `features`를 파이토치 텐서(tensor)로 변환"
   ]
  },
  {
   "cell_type": "code",
   "execution_count": 10,
   "metadata": {
    "id": "FdvUPuJoV3w3"
   },
   "outputs": [],
   "source": [
    "import torch\n",
    "features = {k: torch.tensor(v) for k, v in features.items()}"
   ]
  },
  {
   "cell_type": "markdown",
   "metadata": {
    "id": "W0S2EbdkWIdq"
   },
   "source": [
    "BERT 모델에 `features`를 입력하여 계산"
   ]
  },
  {
   "cell_type": "code",
   "execution_count": 11,
   "metadata": {
    "id": "YOWkywHaWOL6"
   },
   "outputs": [],
   "source": [
    "outputs = model(**features)"
   ]
  },
  {
   "cell_type": "markdown",
   "metadata": {
    "id": "Fog_9z0SqHog"
   },
   "source": [
    "BERT 마지막 레이어의 단어 수준 출력 벡터 확인"
   ]
  },
  {
   "cell_type": "code",
   "execution_count": 12,
   "metadata": {
    "colab": {
     "base_uri": "https://localhost:8080/"
    },
    "id": "-wRQNlJMqMjh",
    "outputId": "cf91d293-8c65-429f-a997-e7c461d5bcda"
   },
   "outputs": [
    {
     "data": {
      "text/plain": [
       "tensor([[[-0.6969, -0.8248,  1.7512,  ..., -0.3732,  0.7399,  1.1907],\n",
       "         [-1.4803, -0.4398,  0.9444,  ..., -0.7405, -0.0211,  1.3064],\n",
       "         [-1.4299, -0.5033, -0.2069,  ...,  0.1285, -0.2611,  1.6057],\n",
       "         ...,\n",
       "         [-1.4406,  0.3431,  1.4043,  ..., -0.0565,  0.8450, -0.2170],\n",
       "         [-1.3625, -0.2404,  1.1757,  ...,  0.8876, -0.1054,  0.0734],\n",
       "         [-1.4244,  0.1518,  1.2920,  ...,  0.0245,  0.7572,  0.0080]],\n",
       "\n",
       "        [[-0.4433, -0.9240,  1.7883,  ..., -0.8659,  0.9727,  0.9249],\n",
       "         [-1.6224, -0.0682,  0.1769,  ..., -0.8680,  0.7786,  1.9937],\n",
       "         [-1.1414, -0.1960, -0.7010,  ...,  0.6878,  0.3851,  0.4984],\n",
       "         ...,\n",
       "         [-1.0095,  0.0397,  1.5963,  ...,  0.8457,  0.3166, -0.0534],\n",
       "         [-1.2240,  0.4880,  1.3206,  ...,  1.4305,  0.7170,  0.7261],\n",
       "         [-1.2351, -0.0513,  1.4715,  ...,  0.6764,  0.1578, -0.1697]],\n",
       "\n",
       "        [[-0.1236, -1.0882,  1.5019,  ..., -1.0845,  0.5248,  0.6436],\n",
       "         [-1.4286, -0.1186,  0.1144,  ..., -0.7928,  0.7173,  1.9609],\n",
       "         [-0.8282, -0.1456, -0.6139,  ...,  0.9649,  0.8140,  0.4001],\n",
       "         ...,\n",
       "         [-0.1945, -0.2689,  1.6015,  ...,  1.1928, -0.0607, -0.3073],\n",
       "         [-0.3753, -0.2505,  1.3539,  ...,  1.4079,  0.8314,  0.2978],\n",
       "         [-0.9675, -0.1184,  1.1998,  ...,  1.4431, -0.2637, -0.1747]]],\n",
       "       grad_fn=<NativeLayerNormBackward0>)"
      ]
     },
     "execution_count": 12,
     "metadata": {},
     "output_type": "execute_result"
    }
   ],
   "source": [
    "outputs.last_hidden_state"
   ]
  },
  {
   "cell_type": "code",
   "execution_count": 13,
   "metadata": {
    "colab": {
     "base_uri": "https://localhost:8080/"
    },
    "id": "nruSHwDE6kj1",
    "outputId": "5942b442-9b90-4b3c-9e52-085cfab6780d"
   },
   "outputs": [
    {
     "name": "stdout",
     "output_type": "stream",
     "text": [
      "torch.Size([3, 10, 768])\n",
      "tensor([-1.4803, -0.4398,  0.9444,  0.4441,  0.6319,  0.8464,  0.5650,  0.2841,\n",
      "         0.3534,  2.0140, -1.3429, -0.4704, -0.6285, -0.6812,  0.5594,  0.0941,\n",
      "         0.6915,  0.0828,  0.4902, -0.3403,  0.3471,  0.7107, -0.4473, -0.3360,\n",
      "         0.8616,  0.0462,  0.2277,  0.8386,  0.3912, -0.4810],\n",
      "       grad_fn=<SliceBackward0>)\n",
      "tensor([-1.6224, -0.0682,  0.1769,  0.4605,  0.1461,  0.4836,  1.0702,  0.3585,\n",
      "         0.5402,  1.9740, -1.0956, -0.7817, -0.8804, -0.5016, -0.1314,  0.3771,\n",
      "         1.0445, -0.4988, -0.0756, -0.0102,  0.9213,  0.3548, -0.7024,  1.2910,\n",
      "         1.3515, -0.2282,  0.4545,  0.5006, -0.3627, -0.8802],\n",
      "       grad_fn=<SliceBackward0>)\n",
      "tensor([-1.4286, -0.1186,  0.1144,  0.5986,  0.2569,  0.4758,  0.8051,  0.3198,\n",
      "         0.7381,  2.0553, -1.1412, -0.7723, -1.1986, -0.5407, -0.1609,  0.3903,\n",
      "         0.9213, -0.5395, -0.0479,  0.1581,  0.9003,  0.3982, -0.5360,  1.4631,\n",
      "         1.3810, -0.3041,  0.6067,  0.4754, -0.0529, -0.6580],\n",
      "       grad_fn=<SliceBackward0>)\n"
     ]
    }
   ],
   "source": [
    "print(outputs.last_hidden_state.shape)\n",
    "print(outputs.last_hidden_state[0, 1, :30])\n",
    "print(outputs.last_hidden_state[1, 1, :30])\n",
    "print(outputs.last_hidden_state[2, 1, :30])"
   ]
  },
  {
   "cell_type": "markdown",
   "metadata": {
    "id": "AwDi0WNdrG7r"
   },
   "source": [
    "BERT 마지막 레이어의 CLS 벡터를 확인"
   ]
  },
  {
   "cell_type": "code",
   "execution_count": 14,
   "metadata": {
    "colab": {
     "base_uri": "https://localhost:8080/"
    },
    "id": "0FQ1nayZrLQl",
    "outputId": "c25c4e68-46ba-4dde-ca87-5426550a361e"
   },
   "outputs": [
    {
     "data": {
      "text/plain": [
       "tensor([[-0.1594,  0.0547,  0.1101,  ...,  0.2684,  0.1596, -0.9828],\n",
       "        [ 0.1988,  0.0735,  0.0183,  ...,  0.2965, -0.1216, -0.9984],\n",
       "        [ 0.1642,  0.0842,  0.0423,  ...,  0.3627,  0.0049, -0.9981]],\n",
       "       grad_fn=<TanhBackward0>)"
      ]
     },
     "execution_count": 14,
     "metadata": {},
     "output_type": "execute_result"
    }
   ],
   "source": [
    "outputs.pooler_output"
   ]
  }
 ],
 "metadata": {
  "colab": {
   "authorship_tag": "ABX9TyPBLLajiXKoMuzUi4kwxkZg",
   "include_colab_link": true,
   "name": "Lab7.ipynb",
   "provenance": []
  },
  "kernelspec": {
   "display_name": "Python 3 (ipykernel)",
   "language": "python",
   "name": "python3"
  },
  "language_info": {
   "codemirror_mode": {
    "name": "ipython",
    "version": 3
   },
   "file_extension": ".py",
   "mimetype": "text/x-python",
   "name": "python",
   "nbconvert_exporter": "python",
   "pygments_lexer": "ipython3",
   "version": "3.10.14"
  },
  "widgets": {
   "application/vnd.jupyter.widget-state+json": {
    "04d2881abf924ce0aa9a9516880472aa": {
     "model_module": "@jupyter-widgets/controls",
     "model_name": "DescriptionStyleModel",
     "state": {
      "_model_module": "@jupyter-widgets/controls",
      "_model_module_version": "1.5.0",
      "_model_name": "DescriptionStyleModel",
      "_view_count": null,
      "_view_module": "@jupyter-widgets/base",
      "_view_module_version": "1.2.0",
      "_view_name": "StyleView",
      "description_width": ""
     }
    },
    "0989be37fa3149a397a76ba7a8bd48af": {
     "model_module": "@jupyter-widgets/base",
     "model_name": "LayoutModel",
     "state": {
      "_model_module": "@jupyter-widgets/base",
      "_model_module_version": "1.2.0",
      "_model_name": "LayoutModel",
      "_view_count": null,
      "_view_module": "@jupyter-widgets/base",
      "_view_module_version": "1.2.0",
      "_view_name": "LayoutView",
      "align_content": null,
      "align_items": null,
      "align_self": null,
      "border": null,
      "bottom": null,
      "display": null,
      "flex": null,
      "flex_flow": null,
      "grid_area": null,
      "grid_auto_columns": null,
      "grid_auto_flow": null,
      "grid_auto_rows": null,
      "grid_column": null,
      "grid_gap": null,
      "grid_row": null,
      "grid_template_areas": null,
      "grid_template_columns": null,
      "grid_template_rows": null,
      "height": null,
      "justify_content": null,
      "justify_items": null,
      "left": null,
      "margin": null,
      "max_height": null,
      "max_width": null,
      "min_height": null,
      "min_width": null,
      "object_fit": null,
      "object_position": null,
      "order": null,
      "overflow": null,
      "overflow_x": null,
      "overflow_y": null,
      "padding": null,
      "right": null,
      "top": null,
      "visibility": null,
      "width": null
     }
    },
    "0b097dd8923d43ab951d986351aa40f9": {
     "model_module": "@jupyter-widgets/base",
     "model_name": "LayoutModel",
     "state": {
      "_model_module": "@jupyter-widgets/base",
      "_model_module_version": "1.2.0",
      "_model_name": "LayoutModel",
      "_view_count": null,
      "_view_module": "@jupyter-widgets/base",
      "_view_module_version": "1.2.0",
      "_view_name": "LayoutView",
      "align_content": null,
      "align_items": null,
      "align_self": null,
      "border": null,
      "bottom": null,
      "display": null,
      "flex": null,
      "flex_flow": null,
      "grid_area": null,
      "grid_auto_columns": null,
      "grid_auto_flow": null,
      "grid_auto_rows": null,
      "grid_column": null,
      "grid_gap": null,
      "grid_row": null,
      "grid_template_areas": null,
      "grid_template_columns": null,
      "grid_template_rows": null,
      "height": null,
      "justify_content": null,
      "justify_items": null,
      "left": null,
      "margin": null,
      "max_height": null,
      "max_width": null,
      "min_height": null,
      "min_width": null,
      "object_fit": null,
      "object_position": null,
      "order": null,
      "overflow": null,
      "overflow_x": null,
      "overflow_y": null,
      "padding": null,
      "right": null,
      "top": null,
      "visibility": null,
      "width": null
     }
    },
    "0c7b748dbafd40dab65fba80a1fdeb77": {
     "model_module": "@jupyter-widgets/controls",
     "model_name": "HTMLModel",
     "state": {
      "_dom_classes": [],
      "_model_module": "@jupyter-widgets/controls",
      "_model_module_version": "1.5.0",
      "_model_name": "HTMLModel",
      "_view_count": null,
      "_view_module": "@jupyter-widgets/controls",
      "_view_module_version": "1.5.0",
      "_view_name": "HTMLView",
      "description": "",
      "description_tooltip": null,
      "layout": "IPY_MODEL_0989be37fa3149a397a76ba7a8bd48af",
      "placeholder": "​",
      "style": "IPY_MODEL_04d2881abf924ce0aa9a9516880472aa",
      "value": " 619/619 [00:13&lt;00:00, 46.9B/s]"
     }
    },
    "0de116d41931489b83c0105016ce7cec": {
     "model_module": "@jupyter-widgets/base",
     "model_name": "LayoutModel",
     "state": {
      "_model_module": "@jupyter-widgets/base",
      "_model_module_version": "1.2.0",
      "_model_name": "LayoutModel",
      "_view_count": null,
      "_view_module": "@jupyter-widgets/base",
      "_view_module_version": "1.2.0",
      "_view_name": "LayoutView",
      "align_content": null,
      "align_items": null,
      "align_self": null,
      "border": null,
      "bottom": null,
      "display": null,
      "flex": null,
      "flex_flow": null,
      "grid_area": null,
      "grid_auto_columns": null,
      "grid_auto_flow": null,
      "grid_auto_rows": null,
      "grid_column": null,
      "grid_gap": null,
      "grid_row": null,
      "grid_template_areas": null,
      "grid_template_columns": null,
      "grid_template_rows": null,
      "height": null,
      "justify_content": null,
      "justify_items": null,
      "left": null,
      "margin": null,
      "max_height": null,
      "max_width": null,
      "min_height": null,
      "min_width": null,
      "object_fit": null,
      "object_position": null,
      "order": null,
      "overflow": null,
      "overflow_x": null,
      "overflow_y": null,
      "padding": null,
      "right": null,
      "top": null,
      "visibility": null,
      "width": null
     }
    },
    "0e95fa4fd79e4a06bd7d9e64b305ef01": {
     "model_module": "@jupyter-widgets/controls",
     "model_name": "ProgressStyleModel",
     "state": {
      "_model_module": "@jupyter-widgets/controls",
      "_model_module_version": "1.5.0",
      "_model_name": "ProgressStyleModel",
      "_view_count": null,
      "_view_module": "@jupyter-widgets/base",
      "_view_module_version": "1.2.0",
      "_view_name": "StyleView",
      "bar_color": null,
      "description_width": "initial"
     }
    },
    "19c544aa05f746c6bbbfdfe846292a1b": {
     "model_module": "@jupyter-widgets/base",
     "model_name": "LayoutModel",
     "state": {
      "_model_module": "@jupyter-widgets/base",
      "_model_module_version": "1.2.0",
      "_model_name": "LayoutModel",
      "_view_count": null,
      "_view_module": "@jupyter-widgets/base",
      "_view_module_version": "1.2.0",
      "_view_name": "LayoutView",
      "align_content": null,
      "align_items": null,
      "align_self": null,
      "border": null,
      "bottom": null,
      "display": null,
      "flex": null,
      "flex_flow": null,
      "grid_area": null,
      "grid_auto_columns": null,
      "grid_auto_flow": null,
      "grid_auto_rows": null,
      "grid_column": null,
      "grid_gap": null,
      "grid_row": null,
      "grid_template_areas": null,
      "grid_template_columns": null,
      "grid_template_rows": null,
      "height": null,
      "justify_content": null,
      "justify_items": null,
      "left": null,
      "margin": null,
      "max_height": null,
      "max_width": null,
      "min_height": null,
      "min_width": null,
      "object_fit": null,
      "object_position": null,
      "order": null,
      "overflow": null,
      "overflow_x": null,
      "overflow_y": null,
      "padding": null,
      "right": null,
      "top": null,
      "visibility": null,
      "width": null
     }
    },
    "2071310744c5496db08ee96b82071367": {
     "model_module": "@jupyter-widgets/controls",
     "model_name": "DescriptionStyleModel",
     "state": {
      "_model_module": "@jupyter-widgets/controls",
      "_model_module_version": "1.5.0",
      "_model_name": "DescriptionStyleModel",
      "_view_count": null,
      "_view_module": "@jupyter-widgets/base",
      "_view_module_version": "1.2.0",
      "_view_name": "StyleView",
      "description_width": ""
     }
    },
    "2266331bf3d64fbdb0dc8da79530d4f7": {
     "model_module": "@jupyter-widgets/controls",
     "model_name": "ProgressStyleModel",
     "state": {
      "_model_module": "@jupyter-widgets/controls",
      "_model_module_version": "1.5.0",
      "_model_name": "ProgressStyleModel",
      "_view_count": null,
      "_view_module": "@jupyter-widgets/base",
      "_view_module_version": "1.2.0",
      "_view_name": "StyleView",
      "bar_color": null,
      "description_width": "initial"
     }
    },
    "3dd25ca47d6e4fed8846ff370e39693d": {
     "model_module": "@jupyter-widgets/controls",
     "model_name": "HTMLModel",
     "state": {
      "_dom_classes": [],
      "_model_module": "@jupyter-widgets/controls",
      "_model_module_version": "1.5.0",
      "_model_name": "HTMLModel",
      "_view_count": null,
      "_view_module": "@jupyter-widgets/controls",
      "_view_module_version": "1.5.0",
      "_view_name": "HTMLView",
      "description": "",
      "description_tooltip": null,
      "layout": "IPY_MODEL_4ce0205c763f42c1980740cc44a5cb46",
      "placeholder": "​",
      "style": "IPY_MODEL_64d8c3a1d09a429483bf1776d97af3ec",
      "value": " 438M/438M [00:11&lt;00:00, 36.9MB/s]"
     }
    },
    "40781fad917b48f28f6304bb09ff657b": {
     "model_module": "@jupyter-widgets/controls",
     "model_name": "ProgressStyleModel",
     "state": {
      "_model_module": "@jupyter-widgets/controls",
      "_model_module_version": "1.5.0",
      "_model_name": "ProgressStyleModel",
      "_view_count": null,
      "_view_module": "@jupyter-widgets/base",
      "_view_module_version": "1.2.0",
      "_view_name": "StyleView",
      "bar_color": null,
      "description_width": "initial"
     }
    },
    "47adb3c24cfa4844b901564b3a6f8d4b": {
     "model_module": "@jupyter-widgets/base",
     "model_name": "LayoutModel",
     "state": {
      "_model_module": "@jupyter-widgets/base",
      "_model_module_version": "1.2.0",
      "_model_name": "LayoutModel",
      "_view_count": null,
      "_view_module": "@jupyter-widgets/base",
      "_view_module_version": "1.2.0",
      "_view_name": "LayoutView",
      "align_content": null,
      "align_items": null,
      "align_self": null,
      "border": null,
      "bottom": null,
      "display": null,
      "flex": null,
      "flex_flow": null,
      "grid_area": null,
      "grid_auto_columns": null,
      "grid_auto_flow": null,
      "grid_auto_rows": null,
      "grid_column": null,
      "grid_gap": null,
      "grid_row": null,
      "grid_template_areas": null,
      "grid_template_columns": null,
      "grid_template_rows": null,
      "height": null,
      "justify_content": null,
      "justify_items": null,
      "left": null,
      "margin": null,
      "max_height": null,
      "max_width": null,
      "min_height": null,
      "min_width": null,
      "object_fit": null,
      "object_position": null,
      "order": null,
      "overflow": null,
      "overflow_x": null,
      "overflow_y": null,
      "padding": null,
      "right": null,
      "top": null,
      "visibility": null,
      "width": null
     }
    },
    "4ce0205c763f42c1980740cc44a5cb46": {
     "model_module": "@jupyter-widgets/base",
     "model_name": "LayoutModel",
     "state": {
      "_model_module": "@jupyter-widgets/base",
      "_model_module_version": "1.2.0",
      "_model_name": "LayoutModel",
      "_view_count": null,
      "_view_module": "@jupyter-widgets/base",
      "_view_module_version": "1.2.0",
      "_view_name": "LayoutView",
      "align_content": null,
      "align_items": null,
      "align_self": null,
      "border": null,
      "bottom": null,
      "display": null,
      "flex": null,
      "flex_flow": null,
      "grid_area": null,
      "grid_auto_columns": null,
      "grid_auto_flow": null,
      "grid_auto_rows": null,
      "grid_column": null,
      "grid_gap": null,
      "grid_row": null,
      "grid_template_areas": null,
      "grid_template_columns": null,
      "grid_template_rows": null,
      "height": null,
      "justify_content": null,
      "justify_items": null,
      "left": null,
      "margin": null,
      "max_height": null,
      "max_width": null,
      "min_height": null,
      "min_width": null,
      "object_fit": null,
      "object_position": null,
      "order": null,
      "overflow": null,
      "overflow_x": null,
      "overflow_y": null,
      "padding": null,
      "right": null,
      "top": null,
      "visibility": null,
      "width": null
     }
    },
    "64d8c3a1d09a429483bf1776d97af3ec": {
     "model_module": "@jupyter-widgets/controls",
     "model_name": "DescriptionStyleModel",
     "state": {
      "_model_module": "@jupyter-widgets/controls",
      "_model_module_version": "1.5.0",
      "_model_name": "DescriptionStyleModel",
      "_view_count": null,
      "_view_module": "@jupyter-widgets/base",
      "_view_module_version": "1.2.0",
      "_view_name": "StyleView",
      "description_width": ""
     }
    },
    "6a80ae9b74204ceb95e74cfc73b4c18f": {
     "model_module": "@jupyter-widgets/base",
     "model_name": "LayoutModel",
     "state": {
      "_model_module": "@jupyter-widgets/base",
      "_model_module_version": "1.2.0",
      "_model_name": "LayoutModel",
      "_view_count": null,
      "_view_module": "@jupyter-widgets/base",
      "_view_module_version": "1.2.0",
      "_view_name": "LayoutView",
      "align_content": null,
      "align_items": null,
      "align_self": null,
      "border": null,
      "bottom": null,
      "display": null,
      "flex": null,
      "flex_flow": null,
      "grid_area": null,
      "grid_auto_columns": null,
      "grid_auto_flow": null,
      "grid_auto_rows": null,
      "grid_column": null,
      "grid_gap": null,
      "grid_row": null,
      "grid_template_areas": null,
      "grid_template_columns": null,
      "grid_template_rows": null,
      "height": null,
      "justify_content": null,
      "justify_items": null,
      "left": null,
      "margin": null,
      "max_height": null,
      "max_width": null,
      "min_height": null,
      "min_width": null,
      "object_fit": null,
      "object_position": null,
      "order": null,
      "overflow": null,
      "overflow_x": null,
      "overflow_y": null,
      "padding": null,
      "right": null,
      "top": null,
      "visibility": null,
      "width": null
     }
    },
    "6c2f7e7e165845e9989ef27a8b08946a": {
     "model_module": "@jupyter-widgets/controls",
     "model_name": "HTMLModel",
     "state": {
      "_dom_classes": [],
      "_model_module": "@jupyter-widgets/controls",
      "_model_module_version": "1.5.0",
      "_model_name": "HTMLModel",
      "_view_count": null,
      "_view_module": "@jupyter-widgets/controls",
      "_view_module_version": "1.5.0",
      "_view_name": "HTMLView",
      "description": "",
      "description_tooltip": null,
      "layout": "IPY_MODEL_19c544aa05f746c6bbbfdfe846292a1b",
      "placeholder": "​",
      "style": "IPY_MODEL_2071310744c5496db08ee96b82071367",
      "value": " 250k/250k [00:00&lt;00:00, 459kB/s]"
     }
    },
    "7e88c1adb28343468ec4c95634b76784": {
     "model_module": "@jupyter-widgets/base",
     "model_name": "LayoutModel",
     "state": {
      "_model_module": "@jupyter-widgets/base",
      "_model_module_version": "1.2.0",
      "_model_name": "LayoutModel",
      "_view_count": null,
      "_view_module": "@jupyter-widgets/base",
      "_view_module_version": "1.2.0",
      "_view_name": "LayoutView",
      "align_content": null,
      "align_items": null,
      "align_self": null,
      "border": null,
      "bottom": null,
      "display": null,
      "flex": null,
      "flex_flow": null,
      "grid_area": null,
      "grid_auto_columns": null,
      "grid_auto_flow": null,
      "grid_auto_rows": null,
      "grid_column": null,
      "grid_gap": null,
      "grid_row": null,
      "grid_template_areas": null,
      "grid_template_columns": null,
      "grid_template_rows": null,
      "height": null,
      "justify_content": null,
      "justify_items": null,
      "left": null,
      "margin": null,
      "max_height": null,
      "max_width": null,
      "min_height": null,
      "min_width": null,
      "object_fit": null,
      "object_position": null,
      "order": null,
      "overflow": null,
      "overflow_x": null,
      "overflow_y": null,
      "padding": null,
      "right": null,
      "top": null,
      "visibility": null,
      "width": null
     }
    },
    "904409fa2e7c4463a63e7583ab8726cd": {
     "model_module": "@jupyter-widgets/controls",
     "model_name": "FloatProgressModel",
     "state": {
      "_dom_classes": [],
      "_model_module": "@jupyter-widgets/controls",
      "_model_module_version": "1.5.0",
      "_model_name": "FloatProgressModel",
      "_view_count": null,
      "_view_module": "@jupyter-widgets/controls",
      "_view_module_version": "1.5.0",
      "_view_name": "ProgressView",
      "bar_style": "success",
      "description": "Downloading: 100%",
      "description_tooltip": null,
      "layout": "IPY_MODEL_7e88c1adb28343468ec4c95634b76784",
      "max": 438218004,
      "min": 0,
      "orientation": "horizontal",
      "style": "IPY_MODEL_0e95fa4fd79e4a06bd7d9e64b305ef01",
      "value": 438218004
     }
    },
    "923652d7f0bd45b0b4e939fd1d0d2da2": {
     "model_module": "@jupyter-widgets/controls",
     "model_name": "FloatProgressModel",
     "state": {
      "_dom_classes": [],
      "_model_module": "@jupyter-widgets/controls",
      "_model_module_version": "1.5.0",
      "_model_name": "FloatProgressModel",
      "_view_count": null,
      "_view_module": "@jupyter-widgets/controls",
      "_view_module_version": "1.5.0",
      "_view_name": "ProgressView",
      "bar_style": "success",
      "description": "Downloading: 100%",
      "description_tooltip": null,
      "layout": "IPY_MODEL_e824541e2a504e2ba09bf1ee99eaf334",
      "max": 249928,
      "min": 0,
      "orientation": "horizontal",
      "style": "IPY_MODEL_40781fad917b48f28f6304bb09ff657b",
      "value": 249928
     }
    },
    "99bac06470884a5e9c8e192465fa28f5": {
     "model_module": "@jupyter-widgets/controls",
     "model_name": "FloatProgressModel",
     "state": {
      "_dom_classes": [],
      "_model_module": "@jupyter-widgets/controls",
      "_model_module_version": "1.5.0",
      "_model_name": "FloatProgressModel",
      "_view_count": null,
      "_view_module": "@jupyter-widgets/controls",
      "_view_module_version": "1.5.0",
      "_view_name": "ProgressView",
      "bar_style": "success",
      "description": "Downloading: 100%",
      "description_tooltip": null,
      "layout": "IPY_MODEL_6a80ae9b74204ceb95e74cfc73b4c18f",
      "max": 619,
      "min": 0,
      "orientation": "horizontal",
      "style": "IPY_MODEL_9f0c4ef6f5de4ea1919b9a2e5d211f2c",
      "value": 619
     }
    },
    "9f0c4ef6f5de4ea1919b9a2e5d211f2c": {
     "model_module": "@jupyter-widgets/controls",
     "model_name": "ProgressStyleModel",
     "state": {
      "_model_module": "@jupyter-widgets/controls",
      "_model_module_version": "1.5.0",
      "_model_name": "ProgressStyleModel",
      "_view_count": null,
      "_view_module": "@jupyter-widgets/base",
      "_view_module_version": "1.2.0",
      "_view_name": "StyleView",
      "bar_color": null,
      "description_width": "initial"
     }
    },
    "b11fcbae2fea4deb9ec816bdaed80d47": {
     "model_module": "@jupyter-widgets/base",
     "model_name": "LayoutModel",
     "state": {
      "_model_module": "@jupyter-widgets/base",
      "_model_module_version": "1.2.0",
      "_model_name": "LayoutModel",
      "_view_count": null,
      "_view_module": "@jupyter-widgets/base",
      "_view_module_version": "1.2.0",
      "_view_name": "LayoutView",
      "align_content": null,
      "align_items": null,
      "align_self": null,
      "border": null,
      "bottom": null,
      "display": null,
      "flex": null,
      "flex_flow": null,
      "grid_area": null,
      "grid_auto_columns": null,
      "grid_auto_flow": null,
      "grid_auto_rows": null,
      "grid_column": null,
      "grid_gap": null,
      "grid_row": null,
      "grid_template_areas": null,
      "grid_template_columns": null,
      "grid_template_rows": null,
      "height": null,
      "justify_content": null,
      "justify_items": null,
      "left": null,
      "margin": null,
      "max_height": null,
      "max_width": null,
      "min_height": null,
      "min_width": null,
      "object_fit": null,
      "object_position": null,
      "order": null,
      "overflow": null,
      "overflow_x": null,
      "overflow_y": null,
      "padding": null,
      "right": null,
      "top": null,
      "visibility": null,
      "width": null
     }
    },
    "b860e5773ed143cca217926091115ffb": {
     "model_module": "@jupyter-widgets/controls",
     "model_name": "HBoxModel",
     "state": {
      "_dom_classes": [],
      "_model_module": "@jupyter-widgets/controls",
      "_model_module_version": "1.5.0",
      "_model_name": "HBoxModel",
      "_view_count": null,
      "_view_module": "@jupyter-widgets/controls",
      "_view_module_version": "1.5.0",
      "_view_name": "HBoxView",
      "box_style": "",
      "children": [
       "IPY_MODEL_923652d7f0bd45b0b4e939fd1d0d2da2",
       "IPY_MODEL_6c2f7e7e165845e9989ef27a8b08946a"
      ],
      "layout": "IPY_MODEL_b11fcbae2fea4deb9ec816bdaed80d47"
     }
    },
    "d2a1150a2f4d4a6689702b5a67536333": {
     "model_module": "@jupyter-widgets/base",
     "model_name": "LayoutModel",
     "state": {
      "_model_module": "@jupyter-widgets/base",
      "_model_module_version": "1.2.0",
      "_model_name": "LayoutModel",
      "_view_count": null,
      "_view_module": "@jupyter-widgets/base",
      "_view_module_version": "1.2.0",
      "_view_name": "LayoutView",
      "align_content": null,
      "align_items": null,
      "align_self": null,
      "border": null,
      "bottom": null,
      "display": null,
      "flex": null,
      "flex_flow": null,
      "grid_area": null,
      "grid_auto_columns": null,
      "grid_auto_flow": null,
      "grid_auto_rows": null,
      "grid_column": null,
      "grid_gap": null,
      "grid_row": null,
      "grid_template_areas": null,
      "grid_template_columns": null,
      "grid_template_rows": null,
      "height": null,
      "justify_content": null,
      "justify_items": null,
      "left": null,
      "margin": null,
      "max_height": null,
      "max_width": null,
      "min_height": null,
      "min_width": null,
      "object_fit": null,
      "object_position": null,
      "order": null,
      "overflow": null,
      "overflow_x": null,
      "overflow_y": null,
      "padding": null,
      "right": null,
      "top": null,
      "visibility": null,
      "width": null
     }
    },
    "d802ddf1d1de490fbdfee58af5966a49": {
     "model_module": "@jupyter-widgets/controls",
     "model_name": "HBoxModel",
     "state": {
      "_dom_classes": [],
      "_model_module": "@jupyter-widgets/controls",
      "_model_module_version": "1.5.0",
      "_model_name": "HBoxModel",
      "_view_count": null,
      "_view_module": "@jupyter-widgets/controls",
      "_view_module_version": "1.5.0",
      "_view_name": "HBoxView",
      "box_style": "",
      "children": [
       "IPY_MODEL_904409fa2e7c4463a63e7583ab8726cd",
       "IPY_MODEL_3dd25ca47d6e4fed8846ff370e39693d"
      ],
      "layout": "IPY_MODEL_0b097dd8923d43ab951d986351aa40f9"
     }
    },
    "d87e3e92744a4a638d4d4ca8c03aaa45": {
     "model_module": "@jupyter-widgets/controls",
     "model_name": "DescriptionStyleModel",
     "state": {
      "_model_module": "@jupyter-widgets/controls",
      "_model_module_version": "1.5.0",
      "_model_name": "DescriptionStyleModel",
      "_view_count": null,
      "_view_module": "@jupyter-widgets/base",
      "_view_module_version": "1.2.0",
      "_view_name": "StyleView",
      "description_width": ""
     }
    },
    "daa1ab91c2bb45f9b026a2a1fb9f49c3": {
     "model_module": "@jupyter-widgets/controls",
     "model_name": "HBoxModel",
     "state": {
      "_dom_classes": [],
      "_model_module": "@jupyter-widgets/controls",
      "_model_module_version": "1.5.0",
      "_model_name": "HBoxModel",
      "_view_count": null,
      "_view_module": "@jupyter-widgets/controls",
      "_view_module_version": "1.5.0",
      "_view_name": "HBoxView",
      "box_style": "",
      "children": [
       "IPY_MODEL_e15d758bdb234e9b8005cfa2be085073",
       "IPY_MODEL_f9186b7f712c44019b5a29c22b2ca740"
      ],
      "layout": "IPY_MODEL_47adb3c24cfa4844b901564b3a6f8d4b"
     }
    },
    "dd7a14e1b71049ec8e30a213da049ddf": {
     "model_module": "@jupyter-widgets/controls",
     "model_name": "HBoxModel",
     "state": {
      "_dom_classes": [],
      "_model_module": "@jupyter-widgets/controls",
      "_model_module_version": "1.5.0",
      "_model_name": "HBoxModel",
      "_view_count": null,
      "_view_module": "@jupyter-widgets/controls",
      "_view_module_version": "1.5.0",
      "_view_name": "HBoxView",
      "box_style": "",
      "children": [
       "IPY_MODEL_99bac06470884a5e9c8e192465fa28f5",
       "IPY_MODEL_0c7b748dbafd40dab65fba80a1fdeb77"
      ],
      "layout": "IPY_MODEL_d2a1150a2f4d4a6689702b5a67536333"
     }
    },
    "e15d758bdb234e9b8005cfa2be085073": {
     "model_module": "@jupyter-widgets/controls",
     "model_name": "FloatProgressModel",
     "state": {
      "_dom_classes": [],
      "_model_module": "@jupyter-widgets/controls",
      "_model_module_version": "1.5.0",
      "_model_name": "FloatProgressModel",
      "_view_count": null,
      "_view_module": "@jupyter-widgets/controls",
      "_view_module_version": "1.5.0",
      "_view_name": "ProgressView",
      "bar_style": "success",
      "description": "Downloading: 100%",
      "description_tooltip": null,
      "layout": "IPY_MODEL_0de116d41931489b83c0105016ce7cec",
      "max": 49,
      "min": 0,
      "orientation": "horizontal",
      "style": "IPY_MODEL_2266331bf3d64fbdb0dc8da79530d4f7",
      "value": 49
     }
    },
    "e824541e2a504e2ba09bf1ee99eaf334": {
     "model_module": "@jupyter-widgets/base",
     "model_name": "LayoutModel",
     "state": {
      "_model_module": "@jupyter-widgets/base",
      "_model_module_version": "1.2.0",
      "_model_name": "LayoutModel",
      "_view_count": null,
      "_view_module": "@jupyter-widgets/base",
      "_view_module_version": "1.2.0",
      "_view_name": "LayoutView",
      "align_content": null,
      "align_items": null,
      "align_self": null,
      "border": null,
      "bottom": null,
      "display": null,
      "flex": null,
      "flex_flow": null,
      "grid_area": null,
      "grid_auto_columns": null,
      "grid_auto_flow": null,
      "grid_auto_rows": null,
      "grid_column": null,
      "grid_gap": null,
      "grid_row": null,
      "grid_template_areas": null,
      "grid_template_columns": null,
      "grid_template_rows": null,
      "height": null,
      "justify_content": null,
      "justify_items": null,
      "left": null,
      "margin": null,
      "max_height": null,
      "max_width": null,
      "min_height": null,
      "min_width": null,
      "object_fit": null,
      "object_position": null,
      "order": null,
      "overflow": null,
      "overflow_x": null,
      "overflow_y": null,
      "padding": null,
      "right": null,
      "top": null,
      "visibility": null,
      "width": null
     }
    },
    "e971b5dc9f55400ca146ae4775d1b642": {
     "model_module": "@jupyter-widgets/base",
     "model_name": "LayoutModel",
     "state": {
      "_model_module": "@jupyter-widgets/base",
      "_model_module_version": "1.2.0",
      "_model_name": "LayoutModel",
      "_view_count": null,
      "_view_module": "@jupyter-widgets/base",
      "_view_module_version": "1.2.0",
      "_view_name": "LayoutView",
      "align_content": null,
      "align_items": null,
      "align_self": null,
      "border": null,
      "bottom": null,
      "display": null,
      "flex": null,
      "flex_flow": null,
      "grid_area": null,
      "grid_auto_columns": null,
      "grid_auto_flow": null,
      "grid_auto_rows": null,
      "grid_column": null,
      "grid_gap": null,
      "grid_row": null,
      "grid_template_areas": null,
      "grid_template_columns": null,
      "grid_template_rows": null,
      "height": null,
      "justify_content": null,
      "justify_items": null,
      "left": null,
      "margin": null,
      "max_height": null,
      "max_width": null,
      "min_height": null,
      "min_width": null,
      "object_fit": null,
      "object_position": null,
      "order": null,
      "overflow": null,
      "overflow_x": null,
      "overflow_y": null,
      "padding": null,
      "right": null,
      "top": null,
      "visibility": null,
      "width": null
     }
    },
    "f9186b7f712c44019b5a29c22b2ca740": {
     "model_module": "@jupyter-widgets/controls",
     "model_name": "HTMLModel",
     "state": {
      "_dom_classes": [],
      "_model_module": "@jupyter-widgets/controls",
      "_model_module_version": "1.5.0",
      "_model_name": "HTMLModel",
      "_view_count": null,
      "_view_module": "@jupyter-widgets/controls",
      "_view_module_version": "1.5.0",
      "_view_name": "HTMLView",
      "description": "",
      "description_tooltip": null,
      "layout": "IPY_MODEL_e971b5dc9f55400ca146ae4775d1b642",
      "placeholder": "​",
      "style": "IPY_MODEL_d87e3e92744a4a638d4d4ca8c03aaa45",
      "value": " 49.0/49.0 [00:00&lt;00:00, 289B/s]"
     }
    }
   }
  }
 },
 "nbformat": 4,
 "nbformat_minor": 4
}

{
  "cells": [
    {
      "cell_type": "code",
      "execution_count": 1,
      "metadata": {
        "colab": {
          "base_uri": "https://localhost:8080/"
        },
        "collapsed": true,
        "id": "N3PWSfQOKLIA",
        "outputId": "0ae1f71b-758c-4308-c1e8-5f70cd107c3e"
      },
      "outputs": [
        {
          "name": "stdout",
          "output_type": "stream",
          "text": [
            "Requirement already satisfied: transformers in /home/devrok/.conda/envs/nlp_pt/lib/python3.10/site-packages (4.44.0)\n",
            "Requirement already satisfied: filelock in /home/devrok/.conda/envs/nlp_pt/lib/python3.10/site-packages (from transformers) (3.15.4)\n",
            "Requirement already satisfied: huggingface-hub<1.0,>=0.23.2 in /home/devrok/.conda/envs/nlp_pt/lib/python3.10/site-packages (from transformers) (0.24.5)\n",
            "Requirement already satisfied: numpy>=1.17 in /home/devrok/.conda/envs/nlp_pt/lib/python3.10/site-packages (from transformers) (1.26.4)\n",
            "Requirement already satisfied: packaging>=20.0 in /home/devrok/.conda/envs/nlp_pt/lib/python3.10/site-packages (from transformers) (24.1)\n",
            "Requirement already satisfied: pyyaml>=5.1 in /home/devrok/.conda/envs/nlp_pt/lib/python3.10/site-packages (from transformers) (6.0.2)\n",
            "Requirement already satisfied: regex!=2019.12.17 in /home/devrok/.conda/envs/nlp_pt/lib/python3.10/site-packages (from transformers) (2024.7.24)\n",
            "Requirement already satisfied: requests in /home/devrok/.conda/envs/nlp_pt/lib/python3.10/site-packages (from transformers) (2.32.3)\n",
            "Requirement already satisfied: safetensors>=0.4.1 in /home/devrok/.conda/envs/nlp_pt/lib/python3.10/site-packages (from transformers) (0.4.4)\n",
            "Requirement already satisfied: tokenizers<0.20,>=0.19 in /home/devrok/.conda/envs/nlp_pt/lib/python3.10/site-packages (from transformers) (0.19.1)\n",
            "Requirement already satisfied: tqdm>=4.27 in /home/devrok/.conda/envs/nlp_pt/lib/python3.10/site-packages (from transformers) (4.66.5)\n",
            "Requirement already satisfied: fsspec>=2023.5.0 in /home/devrok/.conda/envs/nlp_pt/lib/python3.10/site-packages (from huggingface-hub<1.0,>=0.23.2->transformers) (2024.6.1)\n",
            "Requirement already satisfied: typing-extensions>=3.7.4.3 in /home/devrok/.conda/envs/nlp_pt/lib/python3.10/site-packages (from huggingface-hub<1.0,>=0.23.2->transformers) (4.12.2)\n",
            "Requirement already satisfied: charset-normalizer<4,>=2 in /home/devrok/.conda/envs/nlp_pt/lib/python3.10/site-packages (from requests->transformers) (3.3.2)\n",
            "Requirement already satisfied: idna<4,>=2.5 in /home/devrok/.conda/envs/nlp_pt/lib/python3.10/site-packages (from requests->transformers) (3.7)\n",
            "Requirement already satisfied: urllib3<3,>=1.21.1 in /home/devrok/.conda/envs/nlp_pt/lib/python3.10/site-packages (from requests->transformers) (2.2.2)\n",
            "Requirement already satisfied: certifi>=2017.4.17 in /home/devrok/.conda/envs/nlp_pt/lib/python3.10/site-packages (from requests->transformers) (2024.7.4)\n",
            "Collecting yfinance\n",
            "  Downloading yfinance-0.2.41-py2.py3-none-any.whl.metadata (11 kB)\n",
            "Requirement already satisfied: numpy in /home/devrok/.conda/envs/nlp_pt/lib/python3.10/site-packages (1.26.4)\n",
            "Requirement already satisfied: pandas in /home/devrok/.conda/envs/nlp_pt/lib/python3.10/site-packages (2.2.2)\n",
            "Requirement already satisfied: matplotlib in /home/devrok/.conda/envs/nlp_pt/lib/python3.10/site-packages (3.9.2)\n",
            "Collecting tensorflow\n",
            "  Downloading tensorflow-2.17.0-cp310-cp310-manylinux_2_17_x86_64.manylinux2014_x86_64.whl.metadata (4.2 kB)\n",
            "Requirement already satisfied: requests>=2.31 in /home/devrok/.conda/envs/nlp_pt/lib/python3.10/site-packages (from yfinance) (2.32.3)\n",
            "Collecting multitasking>=0.0.7 (from yfinance)\n",
            "  Downloading multitasking-0.0.11-py3-none-any.whl.metadata (5.5 kB)\n",
            "Collecting lxml>=4.9.1 (from yfinance)\n",
            "  Downloading lxml-5.3.0-cp310-cp310-manylinux_2_28_x86_64.whl.metadata (3.8 kB)\n",
            "Requirement already satisfied: platformdirs>=2.0.0 in /home/devrok/.conda/envs/nlp_pt/lib/python3.10/site-packages (from yfinance) (4.2.2)\n",
            "Requirement already satisfied: pytz>=2022.5 in /home/devrok/.conda/envs/nlp_pt/lib/python3.10/site-packages (from yfinance) (2024.1)\n",
            "Collecting frozendict>=2.3.4 (from yfinance)\n",
            "  Downloading frozendict-2.4.4-cp310-cp310-manylinux_2_17_x86_64.manylinux2014_x86_64.whl.metadata (23 kB)\n",
            "Collecting peewee>=3.16.2 (from yfinance)\n",
            "  Downloading peewee-3.17.6.tar.gz (3.0 MB)\n",
            "\u001b[2K     \u001b[90m━━━━━━━━━━━━━━━━━━━━━━━━━━━━━━━━━━━━━━━━\u001b[0m \u001b[32m3.0/3.0 MB\u001b[0m \u001b[31m36.0 MB/s\u001b[0m eta \u001b[36m0:00:00\u001b[0m\n",
            "\u001b[?25h  Installing build dependencies ... \u001b[?25ldone\n",
            "\u001b[?25h  Getting requirements to build wheel ... \u001b[?25ldone\n",
            "\u001b[?25h  Preparing metadata (pyproject.toml) ... \u001b[?25ldone\n",
            "\u001b[?25hRequirement already satisfied: beautifulsoup4>=4.11.1 in /home/devrok/.conda/envs/nlp_pt/lib/python3.10/site-packages (from yfinance) (4.12.3)\n",
            "Collecting html5lib>=1.1 (from yfinance)\n",
            "  Downloading html5lib-1.1-py2.py3-none-any.whl.metadata (16 kB)\n",
            "Requirement already satisfied: python-dateutil>=2.8.2 in /home/devrok/.conda/envs/nlp_pt/lib/python3.10/site-packages (from pandas) (2.9.0)\n",
            "Requirement already satisfied: tzdata>=2022.7 in /home/devrok/.conda/envs/nlp_pt/lib/python3.10/site-packages (from pandas) (2024.1)\n",
            "Requirement already satisfied: contourpy>=1.0.1 in /home/devrok/.conda/envs/nlp_pt/lib/python3.10/site-packages (from matplotlib) (1.2.1)\n",
            "Requirement already satisfied: cycler>=0.10 in /home/devrok/.conda/envs/nlp_pt/lib/python3.10/site-packages (from matplotlib) (0.12.1)\n",
            "Requirement already satisfied: fonttools>=4.22.0 in /home/devrok/.conda/envs/nlp_pt/lib/python3.10/site-packages (from matplotlib) (4.53.1)\n",
            "Requirement already satisfied: kiwisolver>=1.3.1 in /home/devrok/.conda/envs/nlp_pt/lib/python3.10/site-packages (from matplotlib) (1.4.5)\n",
            "Requirement already satisfied: packaging>=20.0 in /home/devrok/.conda/envs/nlp_pt/lib/python3.10/site-packages (from matplotlib) (24.1)\n",
            "Requirement already satisfied: pillow>=8 in /home/devrok/.conda/envs/nlp_pt/lib/python3.10/site-packages (from matplotlib) (9.4.0)\n",
            "Requirement already satisfied: pyparsing>=2.3.1 in /home/devrok/.conda/envs/nlp_pt/lib/python3.10/site-packages (from matplotlib) (3.1.2)\n",
            "Collecting absl-py>=1.0.0 (from tensorflow)\n",
            "  Using cached absl_py-2.1.0-py3-none-any.whl.metadata (2.3 kB)\n",
            "Collecting astunparse>=1.6.0 (from tensorflow)\n",
            "  Downloading astunparse-1.6.3-py2.py3-none-any.whl.metadata (4.4 kB)\n",
            "Collecting flatbuffers>=24.3.25 (from tensorflow)\n",
            "  Downloading flatbuffers-24.3.25-py2.py3-none-any.whl.metadata (850 bytes)\n",
            "Collecting gast!=0.5.0,!=0.5.1,!=0.5.2,>=0.2.1 (from tensorflow)\n",
            "  Downloading gast-0.6.0-py3-none-any.whl.metadata (1.3 kB)\n",
            "Collecting google-pasta>=0.1.1 (from tensorflow)\n",
            "  Downloading google_pasta-0.2.0-py3-none-any.whl.metadata (814 bytes)\n",
            "Collecting h5py>=3.10.0 (from tensorflow)\n",
            "  Using cached h5py-3.11.0-cp310-cp310-manylinux_2_17_x86_64.manylinux2014_x86_64.whl.metadata (2.5 kB)\n",
            "Collecting libclang>=13.0.0 (from tensorflow)\n",
            "  Downloading libclang-18.1.1-py2.py3-none-manylinux2010_x86_64.whl.metadata (5.2 kB)\n",
            "Collecting ml-dtypes<0.5.0,>=0.3.1 (from tensorflow)\n",
            "  Downloading ml_dtypes-0.4.0-cp310-cp310-manylinux_2_17_x86_64.manylinux2014_x86_64.whl.metadata (20 kB)\n",
            "Collecting opt-einsum>=2.3.2 (from tensorflow)\n",
            "  Downloading opt_einsum-3.3.0-py3-none-any.whl.metadata (6.5 kB)\n",
            "Collecting protobuf!=4.21.0,!=4.21.1,!=4.21.2,!=4.21.3,!=4.21.4,!=4.21.5,<5.0.0dev,>=3.20.3 (from tensorflow)\n",
            "  Using cached protobuf-4.25.4-cp37-abi3-manylinux2014_x86_64.whl.metadata (541 bytes)\n",
            "Requirement already satisfied: setuptools in /home/devrok/.conda/envs/nlp_pt/lib/python3.10/site-packages (from tensorflow) (72.1.0)\n",
            "Requirement already satisfied: six>=1.12.0 in /home/devrok/.conda/envs/nlp_pt/lib/python3.10/site-packages (from tensorflow) (1.16.0)\n",
            "Collecting termcolor>=1.1.0 (from tensorflow)\n",
            "  Using cached termcolor-2.4.0-py3-none-any.whl.metadata (6.1 kB)\n",
            "Requirement already satisfied: typing-extensions>=3.6.6 in /home/devrok/.conda/envs/nlp_pt/lib/python3.10/site-packages (from tensorflow) (4.12.2)\n",
            "Requirement already satisfied: wrapt>=1.11.0 in /home/devrok/.conda/envs/nlp_pt/lib/python3.10/site-packages (from tensorflow) (1.16.0)\n",
            "Collecting grpcio<2.0,>=1.24.3 (from tensorflow)\n",
            "  Downloading grpcio-1.65.4-cp310-cp310-manylinux_2_17_x86_64.manylinux2014_x86_64.whl.metadata (3.3 kB)\n",
            "Collecting tensorboard<2.18,>=2.17 (from tensorflow)\n",
            "  Downloading tensorboard-2.17.1-py3-none-any.whl.metadata (1.6 kB)\n",
            "Collecting keras>=3.2.0 (from tensorflow)\n",
            "  Downloading keras-3.5.0-py3-none-any.whl.metadata (5.8 kB)\n",
            "Collecting tensorflow-io-gcs-filesystem>=0.23.1 (from tensorflow)\n",
            "  Downloading tensorflow_io_gcs_filesystem-0.37.1-cp310-cp310-manylinux_2_17_x86_64.manylinux2014_x86_64.whl.metadata (14 kB)\n",
            "Requirement already satisfied: wheel<1.0,>=0.23.0 in /home/devrok/.conda/envs/nlp_pt/lib/python3.10/site-packages (from astunparse>=1.6.0->tensorflow) (0.44.0)\n",
            "Requirement already satisfied: soupsieve>1.2 in /home/devrok/.conda/envs/nlp_pt/lib/python3.10/site-packages (from beautifulsoup4>=4.11.1->yfinance) (2.6)\n",
            "Collecting webencodings (from html5lib>=1.1->yfinance)\n",
            "  Downloading webencodings-0.5.1-py2.py3-none-any.whl.metadata (2.1 kB)\n",
            "Collecting rich (from keras>=3.2.0->tensorflow)\n",
            "  Using cached rich-13.7.1-py3-none-any.whl.metadata (18 kB)\n",
            "Collecting namex (from keras>=3.2.0->tensorflow)\n",
            "  Downloading namex-0.0.8-py3-none-any.whl.metadata (246 bytes)\n",
            "Collecting optree (from keras>=3.2.0->tensorflow)\n",
            "  Downloading optree-0.12.1-cp310-cp310-manylinux_2_17_x86_64.manylinux2014_x86_64.whl.metadata (47 kB)\n",
            "Requirement already satisfied: charset-normalizer<4,>=2 in /home/devrok/.conda/envs/nlp_pt/lib/python3.10/site-packages (from requests>=2.31->yfinance) (3.3.2)\n",
            "Requirement already satisfied: idna<4,>=2.5 in /home/devrok/.conda/envs/nlp_pt/lib/python3.10/site-packages (from requests>=2.31->yfinance) (3.7)\n",
            "Requirement already satisfied: urllib3<3,>=1.21.1 in /home/devrok/.conda/envs/nlp_pt/lib/python3.10/site-packages (from requests>=2.31->yfinance) (2.2.2)\n",
            "Requirement already satisfied: certifi>=2017.4.17 in /home/devrok/.conda/envs/nlp_pt/lib/python3.10/site-packages (from requests>=2.31->yfinance) (2024.7.4)\n",
            "Collecting markdown>=2.6.8 (from tensorboard<2.18,>=2.17->tensorflow)\n",
            "  Using cached Markdown-3.6-py3-none-any.whl.metadata (7.0 kB)\n",
            "Collecting tensorboard-data-server<0.8.0,>=0.7.0 (from tensorboard<2.18,>=2.17->tensorflow)\n",
            "  Using cached tensorboard_data_server-0.7.2-py3-none-manylinux_2_31_x86_64.whl.metadata (1.1 kB)\n",
            "Collecting werkzeug>=1.0.1 (from tensorboard<2.18,>=2.17->tensorflow)\n",
            "  Using cached werkzeug-3.0.3-py3-none-any.whl.metadata (3.7 kB)\n",
            "Requirement already satisfied: MarkupSafe>=2.1.1 in /home/devrok/.conda/envs/nlp_pt/lib/python3.10/site-packages (from werkzeug>=1.0.1->tensorboard<2.18,>=2.17->tensorflow) (2.1.5)\n",
            "Collecting markdown-it-py>=2.2.0 (from rich->keras>=3.2.0->tensorflow)\n",
            "  Using cached markdown_it_py-3.0.0-py3-none-any.whl.metadata (6.9 kB)\n",
            "Requirement already satisfied: pygments<3.0.0,>=2.13.0 in /home/devrok/.conda/envs/nlp_pt/lib/python3.10/site-packages (from rich->keras>=3.2.0->tensorflow) (2.18.0)\n",
            "Collecting mdurl~=0.1 (from markdown-it-py>=2.2.0->rich->keras>=3.2.0->tensorflow)\n",
            "  Using cached mdurl-0.1.2-py3-none-any.whl.metadata (1.6 kB)\n",
            "Downloading yfinance-0.2.41-py2.py3-none-any.whl (73 kB)\n",
            "Downloading tensorflow-2.17.0-cp310-cp310-manylinux_2_17_x86_64.manylinux2014_x86_64.whl (601.3 MB)\n",
            "\u001b[2K   \u001b[90m━━━━━━━━━━━━━━━━━━━━━━━━━━━━━━━━━━━━━━━━\u001b[0m \u001b[32m601.3/601.3 MB\u001b[0m \u001b[31m12.7 MB/s\u001b[0m eta \u001b[36m0:00:00\u001b[0m00:01\u001b[0m00:02\u001b[0m\n",
            "\u001b[?25hUsing cached absl_py-2.1.0-py3-none-any.whl (133 kB)\n",
            "Downloading astunparse-1.6.3-py2.py3-none-any.whl (12 kB)\n",
            "Downloading flatbuffers-24.3.25-py2.py3-none-any.whl (26 kB)\n",
            "Downloading frozendict-2.4.4-cp310-cp310-manylinux_2_17_x86_64.manylinux2014_x86_64.whl (117 kB)\n",
            "Downloading gast-0.6.0-py3-none-any.whl (21 kB)\n",
            "Downloading google_pasta-0.2.0-py3-none-any.whl (57 kB)\n",
            "Downloading grpcio-1.65.4-cp310-cp310-manylinux_2_17_x86_64.manylinux2014_x86_64.whl (5.7 MB)\n",
            "\u001b[2K   \u001b[90m━━━━━━━━━━━━━━━━━━━━━━━━━━━━━━━━━━━━━━━━\u001b[0m \u001b[32m5.7/5.7 MB\u001b[0m \u001b[31m21.5 MB/s\u001b[0m eta \u001b[36m0:00:00\u001b[0ma \u001b[36m0:00:01\u001b[0m\n",
            "\u001b[?25hUsing cached h5py-3.11.0-cp310-cp310-manylinux_2_17_x86_64.manylinux2014_x86_64.whl (5.3 MB)\n",
            "Downloading html5lib-1.1-py2.py3-none-any.whl (112 kB)\n",
            "Downloading keras-3.5.0-py3-none-any.whl (1.1 MB)\n",
            "\u001b[2K   \u001b[90m━━━━━━━━━━━━━━━━━━━━━━━━━━━━━━━━━━━━━━━━\u001b[0m \u001b[32m1.1/1.1 MB\u001b[0m \u001b[31m19.2 MB/s\u001b[0m eta \u001b[36m0:00:00\u001b[0m\n",
            "\u001b[?25hDownloading libclang-18.1.1-py2.py3-none-manylinux2010_x86_64.whl (24.5 MB)\n",
            "\u001b[2K   \u001b[90m━━━━━━━━━━━━━━━━━━━━━━━━━━━━━━━━━━━━━━━━\u001b[0m \u001b[32m24.5/24.5 MB\u001b[0m \u001b[31m15.4 MB/s\u001b[0m eta \u001b[36m0:00:00\u001b[0m00:01\u001b[0m00:01\u001b[0m\n",
            "\u001b[?25hDownloading lxml-5.3.0-cp310-cp310-manylinux_2_28_x86_64.whl (5.0 MB)\n",
            "\u001b[2K   \u001b[90m━━━━━━━━━━━━━━━━━━━━━━━━━━━━━━━━━━━━━━━━\u001b[0m \u001b[32m5.0/5.0 MB\u001b[0m \u001b[31m18.7 MB/s\u001b[0m eta \u001b[36m0:00:00\u001b[0ma \u001b[36m0:00:01\u001b[0m\n",
            "\u001b[?25hDownloading ml_dtypes-0.4.0-cp310-cp310-manylinux_2_17_x86_64.manylinux2014_x86_64.whl (2.2 MB)\n",
            "\u001b[2K   \u001b[90m━━━━━━━━━━━━━━━━━━━━━━━━━━━━━━━━━━━━━━━━\u001b[0m \u001b[32m2.2/2.2 MB\u001b[0m \u001b[31m19.4 MB/s\u001b[0m eta \u001b[36m0:00:00\u001b[0m\n",
            "\u001b[?25hDownloading multitasking-0.0.11-py3-none-any.whl (8.5 kB)\n",
            "Downloading opt_einsum-3.3.0-py3-none-any.whl (65 kB)\n",
            "Using cached protobuf-4.25.4-cp37-abi3-manylinux2014_x86_64.whl (294 kB)\n",
            "Downloading tensorboard-2.17.1-py3-none-any.whl (5.5 MB)\n",
            "\u001b[2K   \u001b[90m━━━━━━━━━━━━━━━━━━━━━━━━━━━━━━━━━━━━━━━━\u001b[0m \u001b[32m5.5/5.5 MB\u001b[0m \u001b[31m20.6 MB/s\u001b[0m eta \u001b[36m0:00:00\u001b[0ma \u001b[36m0:00:01\u001b[0m\n",
            "\u001b[?25hDownloading tensorflow_io_gcs_filesystem-0.37.1-cp310-cp310-manylinux_2_17_x86_64.manylinux2014_x86_64.whl (5.1 MB)\n",
            "\u001b[2K   \u001b[90m━━━━━━━━━━━━━━━━━━━━━━━━━━━━━━━━━━━━━━━━\u001b[0m \u001b[32m5.1/5.1 MB\u001b[0m \u001b[31m13.5 MB/s\u001b[0m eta \u001b[36m0:00:00\u001b[0ma \u001b[36m0:00:01\u001b[0m\n",
            "\u001b[?25hUsing cached termcolor-2.4.0-py3-none-any.whl (7.7 kB)\n",
            "Using cached Markdown-3.6-py3-none-any.whl (105 kB)\n",
            "Using cached tensorboard_data_server-0.7.2-py3-none-manylinux_2_31_x86_64.whl (6.6 MB)\n",
            "Using cached werkzeug-3.0.3-py3-none-any.whl (227 kB)\n",
            "Downloading namex-0.0.8-py3-none-any.whl (5.8 kB)\n",
            "Downloading optree-0.12.1-cp310-cp310-manylinux_2_17_x86_64.manylinux2014_x86_64.whl (347 kB)\n",
            "Using cached rich-13.7.1-py3-none-any.whl (240 kB)\n",
            "Downloading webencodings-0.5.1-py2.py3-none-any.whl (11 kB)\n",
            "Using cached markdown_it_py-3.0.0-py3-none-any.whl (87 kB)\n",
            "Using cached mdurl-0.1.2-py3-none-any.whl (10.0 kB)\n",
            "Building wheels for collected packages: peewee\n",
            "  Building wheel for peewee (pyproject.toml) ... \u001b[?25ldone\n",
            "\u001b[?25h  Created wheel for peewee: filename=peewee-3.17.6-cp310-cp310-linux_x86_64.whl size=275767 sha256=1dc86a2a68d2b98868ed6c26e36ab70c209a75819e35ff432ed859ec231586cc\n",
            "  Stored in directory: /home/devrok/.cache/pip/wheels/4b/b9/b0/83d6e258e8f963f5ff111a2cd8c483ca59372a86e6a2535212\n",
            "Successfully built peewee\n",
            "Installing collected packages: webencodings, peewee, namex, multitasking, libclang, flatbuffers, werkzeug, termcolor, tensorflow-io-gcs-filesystem, tensorboard-data-server, protobuf, optree, opt-einsum, ml-dtypes, mdurl, markdown, lxml, html5lib, h5py, grpcio, google-pasta, gast, frozendict, astunparse, absl-py, tensorboard, markdown-it-py, yfinance, rich, keras, tensorflow\n",
            "  Attempting uninstall: protobuf\n",
            "    Found existing installation: protobuf 5.27.3\n",
            "    Uninstalling protobuf-5.27.3:\n",
            "      Successfully uninstalled protobuf-5.27.3\n",
            "Successfully installed absl-py-2.1.0 astunparse-1.6.3 flatbuffers-24.3.25 frozendict-2.4.4 gast-0.6.0 google-pasta-0.2.0 grpcio-1.65.4 h5py-3.11.0 html5lib-1.1 keras-3.5.0 libclang-18.1.1 lxml-5.3.0 markdown-3.6 markdown-it-py-3.0.0 mdurl-0.1.2 ml-dtypes-0.4.0 multitasking-0.0.11 namex-0.0.8 opt-einsum-3.3.0 optree-0.12.1 peewee-3.17.6 protobuf-4.25.4 rich-13.7.1 tensorboard-2.17.1 tensorboard-data-server-0.7.2 tensorflow-2.17.0 tensorflow-io-gcs-filesystem-0.37.1 termcolor-2.4.0 webencodings-0.5.1 werkzeug-3.0.3 yfinance-0.2.41\n"
          ]
        }
      ],
      "source": [
        "!pip install -q datasets\n",
        "!pip install transformers\n",
        "!pip install yfinance numpy pandas matplotlib tensorflow"
      ]
    },
    {
      "cell_type": "code",
      "execution_count": 1,
      "metadata": {
        "id": "8ejE2s9hPJlg"
      },
      "outputs": [],
      "source": [
        "import numpy as np\n",
        "\n",
        "%matplotlib inline\n",
        "import matplotlib.pyplot as plt\n",
        "plt.style.use('ggplot')\n",
        "from sklearn.preprocessing import OneHotEncoder\n",
        "from sklearn.decomposition import PCA\n",
        "from torch.utils.data import DataLoader, TensorDataset\n",
        "import torch.nn as nn\n",
        "from tqdm import tqdm\n",
        "import gensim.downloader as api\n",
        "from gensim.models import KeyedVectors\n",
        "import torch\n",
        "import numpy as np\n",
        "from sklearn.metrics.pairwise import cosine_similarity\n",
        "from gensim.models import Word2Vec\n",
        "import pprint\n",
        "import seaborn as sns"
      ]
    },
    {
      "cell_type": "markdown",
      "metadata": {
        "id": "1NJ8aJpeH1uY"
      },
      "source": [
        "# 1. One-hot encoding Example"
      ]
    },
    {
      "cell_type": "code",
      "execution_count": 2,
      "metadata": {
        "colab": {
          "base_uri": "https://localhost:8080/"
        },
        "id": "2vCwI0LyE70P",
        "outputId": "ffdacba6-7b13-4d44-e34e-403d1ed09225"
      },
      "outputs": [
        {
          "name": "stdout",
          "output_type": "stream",
          "text": [
            "'king'의 One-Hot Encoding: [1. 0. 0. 0.]\n",
            "'queen'의 One-Hot Encoding: [0. 1. 0. 0.]\n",
            "'food'의 One-Hot Encoding: [0. 0. 1. 0.]\n",
            "'milk'의 One-Hot Encoding: [0. 0. 0. 1.]\n"
          ]
        }
      ],
      "source": [
        "# 단어 집합 (vocabulary)\n",
        "vocab = ['king', 'queen', 'food', 'milk']\n",
        "\n",
        "# One-Hot Encoding 함수\n",
        "def one_hot_encode(word, vocab):\n",
        "    one_hot_vector = np.zeros(len(vocab))\n",
        "    index = vocab.index(word)\n",
        "    one_hot_vector[index] = 1\n",
        "    return one_hot_vector\n",
        "\n",
        "# 단어들을 One-Hot Encoding으로 변환\n",
        "king_vector = one_hot_encode('king', vocab)\n",
        "queen_vector = one_hot_encode('queen', vocab)\n",
        "food_vector = one_hot_encode('food', vocab)\n",
        "milk_vector = one_hot_encode('milk', vocab)\n",
        "\n",
        "# 벡터들 출력\n",
        "print(f\"'king'의 One-Hot Encoding: {king_vector}\")\n",
        "print(f\"'queen'의 One-Hot Encoding: {queen_vector}\")\n",
        "print(f\"'food'의 One-Hot Encoding: {food_vector}\")\n",
        "print(f\"'milk'의 One-Hot Encoding: {milk_vector}\")"
      ]
    },
    {
      "cell_type": "code",
      "execution_count": 3,
      "metadata": {
        "id": "a7c1u640Uocr"
      },
      "outputs": [],
      "source": [
        "# 코사인 유사도 계산\n",
        "def cosine_similarity_custom(vec1, vec2):\n",
        "    cos_sim = np.dot(vec1, vec2) / (np.linalg.norm(vec1) * np.linalg.norm(vec2)) # vec1와 vec2 내적 -> similarity\n",
        "    return cos_sim"
      ]
    },
    {
      "cell_type": "code",
      "execution_count": 4,
      "metadata": {
        "colab": {
          "base_uri": "https://localhost:8080/",
          "height": 509
        },
        "id": "9_0QjrQnUlUu",
        "outputId": "30b237a5-469f-4fc9-c402-7449d9f0e10a"
      },
      "outputs": [
        {
          "name": "stdout",
          "output_type": "stream",
          "text": [
            "'king'과 'queen'의 유사도 (One-Hot): 0.0\n",
            "'king'과 'food'의 유사도 (One-Hot): 0.0\n",
            "'king'과 'milk'의 유사도 (One-Hot): 0.0\n"
          ]
        },
        {
          "data": {
            "image/png": "[encoded data removed]",
            "text/plain": [
              "<Figure size 640x480 with 2 Axes>"
            ]
          },
          "metadata": {},
          "output_type": "display_data"
        }
      ],
      "source": [
        "similarity_king_queen = cosine_similarity_custom(king_vector, queen_vector)\n",
        "similarity_king_food = cosine_similarity_custom(king_vector, food_vector)\n",
        "similarity_king_milk = cosine_similarity_custom(king_vector, milk_vector)\n",
        "\n",
        "print(f\"'king'과 'queen'의 유사도 (One-Hot): {similarity_king_queen}\")\n",
        "print(f\"'king'과 'food'의 유사도 (One-Hot): {similarity_king_food}\")\n",
        "print(f\"'king'과 'milk'의 유사도 (One-Hot): {similarity_king_milk}\")\n",
        "\n",
        "# 코사인 유사도 결과를 시각적으로 확인\n",
        "cos_sim_matrix = cosine_similarity([king_vector, queen_vector, food_vector, milk_vector])\n",
        "\n",
        "sns.heatmap(cos_sim_matrix, annot=True, xticklabels=vocab, yticklabels=vocab)\n",
        "plt.title(\"Cosine Similarity (One-Hot Encoding)\")\n",
        "plt.show()"
      ]
    },
    {
      "cell_type": "markdown",
      "metadata": {
        "id": "z6ISvgNVJxUS"
      },
      "source": [
        "# 2. Word Embedding Example"
      ]
    },
    {
      "cell_type": "markdown",
      "metadata": {
        "id": "Z2qgUpfRTO32"
      },
      "source": [
        "### 2-1. Word2Vec"
      ]
    },
    {
      "cell_type": "code",
      "execution_count": 5,
      "metadata": {
        "id": "X8zDWeJhTOfa"
      },
      "outputs": [],
      "source": [
        "sentences = [\n",
        "    ['king', 'queen', 'man', 'woman'],\n",
        "    ['food', 'milk', 'bread', 'cheese'],\n",
        "    ['king', 'man', 'queen', 'woman'],\n",
        "    ['milk', 'cheese', 'bread', 'food'],\n",
        "    ['king', 'man'],\n",
        "    ['queen', 'woman'],\n",
        "    ['food', 'bread'],\n",
        "    ['milk', 'cheese']\n",
        "]\n",
        "\n",
        "# Word2Vec 모델 학습\n",
        "word2vec = Word2Vec(sentences, vector_size=50, window=2, min_count=1, sg=0) # vector_size 50차원"
      ]
    },
    {
      "cell_type": "code",
      "execution_count": 6,
      "metadata": {
        "colab": {
          "base_uri": "https://localhost:8080/",
          "height": 509
        },
        "id": "-HG0O4YrUAeF",
        "outputId": "151f938c-5c36-4d1d-d73c-55cde9f5fdd9"
      },
      "outputs": [
        {
          "name": "stdout",
          "output_type": "stream",
          "text": [
            "'king'과 'queen'의 유사도 (Word2Vec): 0.11253499239683151\n",
            "'king'과 'food'의 유사도 (Word2Vec): 0.04491342231631279\n",
            "'king'과 'milk'의 유사도 (Word2Vec): -0.2187258005142212\n"
          ]
        },
        {
          "data": {
            "image/png": "[encoded data removed]",
            "text/plain": [
              "<Figure size 640x480 with 2 Axes>"
            ]
          },
          "metadata": {},
          "output_type": "display_data"
        }
      ],
      "source": [
        "vocab = ['king', 'queen', 'food', 'milk']\n",
        "\n",
        "corpus_embeddings = np.array([word2vec.wv[word] for word in vocab])\n",
        "\n",
        "king_vector = corpus_embeddings[0]\n",
        "queen_vector = corpus_embeddings[1]\n",
        "food_vector = corpus_embeddings[2]\n",
        "milk_vector = corpus_embeddings[3]\n",
        "\n",
        "similarity_king_queen = cosine_similarity_custom(king_vector, queen_vector)\n",
        "similarity_king_food = cosine_similarity_custom(king_vector, food_vector)\n",
        "similarity_king_milk = cosine_similarity_custom(king_vector, milk_vector)\n",
        "\n",
        "print(f\"'king'과 'queen'의 유사도 (Word2Vec): {similarity_king_queen}\")\n",
        "print(f\"'king'과 'food'의 유사도 (Word2Vec): {similarity_king_food}\")\n",
        "print(f\"'king'과 'milk'의 유사도 (Word2Vec): {similarity_king_milk}\")\n",
        "\n",
        "# 코사인 유사도 결과를 시각적으로 확인\n",
        "cos_sim_matrix = cosine_similarity([king_vector, queen_vector, food_vector, milk_vector])\n",
        "\n",
        "sns.heatmap(cos_sim_matrix, annot=True, xticklabels=vocab, yticklabels=vocab)\n",
        "plt.title(\"Cosine Similarity (Word2Vec)\")\n",
        "plt.show()"
      ]
    },
    {
      "cell_type": "code",
      "execution_count": 7,
      "metadata": {
        "colab": {
          "base_uri": "https://localhost:8080/"
        },
        "id": "ds2jaW7zWuwc",
        "outputId": "3e8a3f6d-41da-4d31-f0c5-dbb2176e8be5"
      },
      "outputs": [
        {
          "data": {
            "text/plain": [
              "0.11253498"
            ]
          },
          "execution_count": 7,
          "metadata": {},
          "output_type": "execute_result"
        }
      ],
      "source": [
        "word2vec.wv.similarity(vocab[0], vocab[1])"
      ]
    },
    {
      "cell_type": "code",
      "execution_count": 8,
      "metadata": {
        "colab": {
          "base_uri": "https://localhost:8080/"
        },
        "id": "SGzBcwuEJKrM",
        "outputId": "2c60e273-1f24-48d6-fbf3-c839348e8ef0"
      },
      "outputs": [
        {
          "data": {
            "text/plain": [
              "[('woman', 0.13662855327129364),\n",
              " ('cheese', 0.13204145431518555),\n",
              " ('queen', 0.11253499239683151),\n",
              " ('food', 0.044913437217473984),\n",
              " ('man', 0.029596175998449326),\n",
              " ('bread', -0.17547552287578583),\n",
              " ('milk', -0.21872581541538239)]"
            ]
          },
          "execution_count": 8,
          "metadata": {},
          "output_type": "execute_result"
        }
      ],
      "source": [
        "word2vec.wv.most_similar('king')"
      ]
    },
    {
      "cell_type": "code",
      "execution_count": 9,
      "metadata": {
        "colab": {
          "base_uri": "https://localhost:8080/"
        },
        "id": "dvTkcd0infvc",
        "outputId": "873fd827-5c3d-42b0-c299-511793db9ef6"
      },
      "outputs": [
        {
          "data": {
            "text/plain": [
              "[('woman', 0.12486250698566437),\n",
              " ('queen', 0.07399576157331467),\n",
              " ('cheese', 0.04237300902605057),\n",
              " ('man', 0.018277151510119438),\n",
              " ('milk', 0.011071980930864811),\n",
              " ('food', -0.17424818873405457),\n",
              " ('king', -0.17547553777694702)]"
            ]
          },
          "execution_count": 9,
          "metadata": {},
          "output_type": "execute_result"
        }
      ],
      "source": [
        "word2vec.wv.most_similar('bread')"
      ]
    },
    {
      "cell_type": "code",
      "execution_count": 10,
      "metadata": {
        "colab": {
          "base_uri": "https://localhost:8080/"
        },
        "id": "RgSF6FJWXY89",
        "outputId": "db59ec3f-905b-487e-e4bb-180480af22b8"
      },
      "outputs": [
        {
          "data": {
            "text/plain": [
              "[('man', 0.14278708398342133),\n",
              " ('woman', 0.05390901118516922),\n",
              " ('cheese', 0.04846587032079697),\n",
              " ('food', 0.0005640055751428008),\n",
              " ('bread', -0.06803111732006073),\n",
              " ('milk', -0.08714812248945236)]"
            ]
          },
          "execution_count": 10,
          "metadata": {},
          "output_type": "execute_result"
        }
      ],
      "source": [
        "word2vec.wv.most_similar(positive = ['king', 'queen'])"
      ]
    },
    {
      "cell_type": "markdown",
      "metadata": {
        "id": "rofU7-F0KTGN"
      },
      "source": [
        "### 2-2. GloVe"
      ]
    },
    {
      "cell_type": "code",
      "execution_count": 20,
      "metadata": {},
      "outputs": [
        {
          "name": "stdout",
          "output_type": "stream",
          "text": [
            "[==================================================] 100.0% 252.1/252.1MB downloaded\n"
          ]
        }
      ],
      "source": [
        "import gensim.downloader as api\n",
        "\n",
        "glove_vectors = api.load(\"glove-wiki-gigaword-200\")\n",
        "glove_vectors.save(\"glove-wiki-gigaword-200.kv\")"
      ]
    },
    {
      "cell_type": "code",
      "execution_count": 11,
      "metadata": {
        "colab": {
          "base_uri": "https://localhost:8080/"
        },
        "id": "l_gjU7ZGvSl1",
        "outputId": "fff1ba77-27eb-4295-9d33-ae2fddae9e69"
      },
      "outputs": [
        {
          "name": "stdout",
          "output_type": "stream",
          "text": [
            "Loaded vocab size 400000\n"
          ]
        }
      ],
      "source": [
        "from gensim.models import KeyedVectors\n",
        "\n",
        "def load_saved_embedding_model(file_path):\n",
        "    \"\"\" Load saved GloVe Vectors from file\n",
        "        Args:\n",
        "            file_path: path to the saved file\n",
        "        Return:\n",
        "            wv_from_bin: All embeddings loaded from file\n",
        "    \"\"\"\n",
        "    wv_from_bin = KeyedVectors.load(file_path, mmap='r')\n",
        "    print(\"Loaded vocab size %i\" % len(list(wv_from_bin.index_to_key)))\n",
        "    return wv_from_bin\n",
        "\n",
        "# 파일에서 로드\n",
        "glove = load_saved_embedding_model(\"glove-wiki-gigaword-200.kv\")"
      ]
    },
    {
      "cell_type": "code",
      "execution_count": 12,
      "metadata": {
        "id": "auvDxPq1Pt74"
      },
      "outputs": [],
      "source": [
        "vocab = ['king', 'queen', 'food', 'milk']"
      ]
    },
    {
      "cell_type": "code",
      "execution_count": 13,
      "metadata": {
        "colab": {
          "base_uri": "https://localhost:8080/"
        },
        "id": "FDrGavJSQB_w",
        "outputId": "a550a32c-4e77-4b39-df3e-9f67ad28f940"
      },
      "outputs": [
        {
          "name": "stdout",
          "output_type": "stream",
          "text": [
            "Dimensions of the GloVe vectors: (400000, 200)\n"
          ]
        }
      ],
      "source": [
        "# Print the dimension of the GloVe vectors\n",
        "print(f'Dimensions of the GloVe vectors: {glove.vectors.shape}')\n",
        "\n",
        "# Sample corpus embedding from Glove\n",
        "corpus_embeddings = np.array([glove[word] for word in vocab])"
      ]
    },
    {
      "cell_type": "code",
      "execution_count": 14,
      "metadata": {
        "colab": {
          "base_uri": "https://localhost:8080/",
          "height": 509
        },
        "id": "W4GosaeMSh4K",
        "outputId": "1755d241-f3e4-4792-c3d6-6932a6af2b8b"
      },
      "outputs": [
        {
          "name": "stdout",
          "output_type": "stream",
          "text": [
            "'king'과 'queen'의 유사도 (GloVe): 0.6665197610855103\n",
            "'king'과 'food'의 유사도 (GloVe): 0.22469617426395416\n",
            "'king'과 'milk'의 유사도 (GloVe): 0.14077116549015045\n"
          ]
        },
        {
          "data": {
            "image/png": "[encoded data removed]",
            "text/plain": [
              "<Figure size 640x480 with 2 Axes>"
            ]
          },
          "metadata": {},
          "output_type": "display_data"
        }
      ],
      "source": [
        "king_vector = corpus_embeddings[0]\n",
        "queen_vector = corpus_embeddings[1]\n",
        "food_vector = corpus_embeddings[2]\n",
        "milk_vector = corpus_embeddings[3]\n",
        "\n",
        "similarity_king_queen = cosine_similarity_custom(king_vector, queen_vector)\n",
        "similarity_king_food = cosine_similarity_custom(king_vector, food_vector)\n",
        "similarity_king_milk = cosine_similarity_custom(king_vector, milk_vector)\n",
        "\n",
        "print(f\"'king'과 'queen'의 유사도 (GloVe): {similarity_king_queen}\")\n",
        "print(f\"'king'과 'food'의 유사도 (GloVe): {similarity_king_food}\")\n",
        "print(f\"'king'과 'milk'의 유사도 (GloVe): {similarity_king_milk}\")\n",
        "\n",
        "# 코사인 유사도 결과를 시각적으로 확인\n",
        "cos_sim_matrix = cosine_similarity([king_vector, queen_vector, food_vector, milk_vector])\n",
        "\n",
        "import matplotlib.pyplot as plt\n",
        "import seaborn as sns\n",
        "\n",
        "sns.heatmap(cos_sim_matrix, annot=True, xticklabels=vocab, yticklabels=vocab)\n",
        "plt.title(\"Cosine Similarity (GloVe)\")\n",
        "plt.show()"
      ]
    },
    {
      "cell_type": "code",
      "execution_count": 15,
      "metadata": {
        "colab": {
          "base_uri": "https://localhost:8080/"
        },
        "id": "Tg0gvxxSRxIe",
        "outputId": "d2bcc29d-826d-40f3-939d-4afe9558a8b9"
      },
      "outputs": [
        {
          "name": "stdout",
          "output_type": "stream",
          "text": [
            "0.6665197\n"
          ]
        }
      ],
      "source": [
        "pprint.pprint(glove.similarity('king', 'queen'))"
      ]
    },
    {
      "cell_type": "code",
      "execution_count": 16,
      "metadata": {
        "colab": {
          "base_uri": "https://localhost:8080/"
        },
        "id": "fZ-bPWRPJj_f",
        "outputId": "715e4eaa-6fce-4816-abe6-874791f09f37"
      },
      "outputs": [
        {
          "name": "stdout",
          "output_type": "stream",
          "text": [
            "[('prince', 0.6854567527770996),\n",
            " ('queen', 0.6665196418762207),\n",
            " ('kingdom', 0.6303210258483887),\n",
            " ('monarch', 0.6224350333213806),\n",
            " ('ii', 0.6146443486213684),\n",
            " ('throne', 0.6074705123901367),\n",
            " ('reign', 0.5911680459976196),\n",
            " ('iii', 0.583712637424469),\n",
            " ('crown', 0.579647958278656),\n",
            " ('emperor', 0.5552704334259033)]\n"
          ]
        }
      ],
      "source": [
        "pprint.pprint(glove.most_similar('king'))"
      ]
    },
    {
      "cell_type": "code",
      "execution_count": 17,
      "metadata": {
        "colab": {
          "base_uri": "https://localhost:8080/"
        },
        "id": "b5jzxN-yXQIY",
        "outputId": "77d75fe7-5810-4c2a-e7ef-383f4381b232"
      },
      "outputs": [
        {
          "name": "stdout",
          "output_type": "stream",
          "text": [
            "[('monarch', 0.5550335049629211),\n",
            " ('ii', 0.502287745475769),\n",
            " ('kingdom', 0.5022493004798889),\n",
            " ('reign', 0.4935906231403351),\n",
            " ('throne', 0.47744500637054443),\n",
            " ('henry', 0.473604679107666),\n",
            " ('iii', 0.4697798490524292),\n",
            " ('vi', 0.45458969473838806),\n",
            " ('kings', 0.4501577615737915),\n",
            " ('crown', 0.44721829891204834)]\n"
          ]
        }
      ],
      "source": [
        "pprint.pprint(glove.most_similar(positive=['king', 'queen'], negative = ['princess']))"
      ]
    },
    {
      "cell_type": "code",
      "execution_count": 18,
      "metadata": {
        "colab": {
          "base_uri": "https://localhost:8080/"
        },
        "id": "u_-CDPV_oKRe",
        "outputId": "967b31ba-1955-4cf9-e209-b23e29b7e4aa"
      },
      "outputs": [
        {
          "data": {
            "text/plain": [
              "array([-0.49346  , -0.14768  ,  0.32166  ,  0.056899 ,  0.052572 ,\n",
              "        0.20192  , -0.13506  , -0.030793 ,  0.15614  , -0.23004  ,\n",
              "       -0.66376  , -0.27316  ,  0.10391  ,  0.57334  , -0.032355 ,\n",
              "       -0.32766  , -0.2716   ,  0.32919  ,  0.41305  , -0.18085  ,\n",
              "        1.5167   ,  2.1649   , -0.10278  ,  0.098019 , -0.018946 ,\n",
              "        0.027292 , -0.7948   ,  0.36631  , -0.33151  ,  0.2884   ,\n",
              "        0.10436  , -0.19166  ,  0.27326  , -0.17519  , -0.14986  ,\n",
              "       -0.072333 , -0.54371  , -0.29728  ,  0.081491 , -0.42673  ,\n",
              "       -0.36406  , -0.52035  ,  0.18455  ,  0.44121  , -0.32196  ,\n",
              "        0.39172  ,  0.11952  ,  0.36979  ,  0.29229  , -0.42954  ,\n",
              "        0.46653  , -0.067243 ,  0.31216  , -0.17216  ,  0.48874  ,\n",
              "        0.2803   , -0.17577  , -0.35101  ,  0.020792 ,  0.15974  ,\n",
              "        0.21927  , -0.32499  ,  0.086022 ,  0.38927  , -0.65638  ,\n",
              "       -0.67401  , -0.41896  ,  1.2709   ,  0.20857  ,  0.28315  ,\n",
              "        0.58238  , -0.14944  ,  0.3989   ,  0.52681  ,  0.35714  ,\n",
              "       -0.39101  , -0.55372  , -0.56642  , -0.15762  , -0.48004  ,\n",
              "        0.40448  ,  0.057518 , -1.0157   ,  0.21755  ,  0.073296 ,\n",
              "        0.15237  , -0.38362  , -0.75308  , -0.0060254, -0.26232  ,\n",
              "       -0.54102  , -0.34347  ,  0.11113  ,  0.47685  , -0.7323   ,\n",
              "        0.77597  ,  0.015216 , -0.66327  , -0.21144  , -0.42964  ,\n",
              "       -0.7269   , -0.067968 ,  0.50601  ,  0.039817 , -0.27584  ,\n",
              "       -0.34794  , -0.0474   ,  0.50734  , -0.30777  ,  0.11594  ,\n",
              "       -0.19211  ,  0.3107   , -0.60075  ,  0.22044  , -0.36265  ,\n",
              "       -0.59442  , -1.2046   ,  0.10619  , -0.60278  ,  0.21573  ,\n",
              "       -0.35362  ,  0.55473  ,  0.58094  ,  0.077259 ,  1.0776   ,\n",
              "       -0.1867   , -1.5168   ,  0.32418  ,  0.83333  ,  0.17366  ,\n",
              "        1.1232   ,  0.10863  ,  0.55889  ,  0.30799  ,  0.084318 ,\n",
              "       -0.43178  , -0.042287 , -0.054615 ,  0.054712 , -0.80914  ,\n",
              "       -0.2443   , -0.076909 ,  0.55216  , -0.71896  ,  0.83319  ,\n",
              "        0.020735 ,  0.020472 , -0.40279  , -0.28874  ,  0.23758  ,\n",
              "        0.12576  , -0.15165  , -0.6942   , -0.25174  ,  0.29591  ,\n",
              "        0.4029   , -1.0618   ,  0.19847  , -0.63463  , -0.70843  ,\n",
              "        0.067943 ,  0.57366  ,  0.041122 ,  0.17452  ,  0.19431  ,\n",
              "       -0.28641  , -1.1363   ,  0.45116  , -0.066518 ,  0.82615  ,\n",
              "       -0.45452  , -0.85652  ,  0.18105  , -0.24187  ,  0.20153  ,\n",
              "        0.72298  ,  0.17415  , -0.87328  ,  0.69815  ,  0.024706 ,\n",
              "        0.26174  , -0.0087155, -0.39349  ,  0.13801  , -0.39299  ,\n",
              "       -0.23057  , -0.22611  , -0.14407  ,  0.010511 , -0.47389  ,\n",
              "       -0.15645  ,  0.28601  , -0.21772  , -0.49535  ,  0.022209 ,\n",
              "       -0.23575  , -0.22469  , -0.011578 ,  0.52867  , -0.062309 ],\n",
              "      dtype=float32)"
            ]
          },
          "execution_count": 18,
          "metadata": {},
          "output_type": "execute_result"
        }
      ],
      "source": [
        "corpus_embeddings[0]"
      ]
    },
    {
      "cell_type": "markdown",
      "metadata": {
        "id": "Asfdn5PzZun1"
      },
      "source": [
        "# Task 1: Word Embedding"
      ]
    },
    {
      "cell_type": "markdown",
      "metadata": {
        "id": "S570wTYjgUHk"
      },
      "source": [
        "### 1) 원하는 단어들 중 관련 없는 것 예측하고, 실제로 그것이 출력되는지 확인해보기\n"
      ]
    },
    {
      "cell_type": "code",
      "execution_count": 19,
      "metadata": {
        "id": "AVQn0Nuvb9Se"
      },
      "outputs": [],
      "source": [
        "vocab_list = list(glove.index_to_key)"
      ]
    },
    {
      "cell_type": "code",
      "execution_count": 20,
      "metadata": {
        "colab": {
          "base_uri": "https://localhost:8080/"
        },
        "id": "txuAxbXBcEIf",
        "outputId": "057d2405-39e5-4b24-8ad0-e3e1a21c3464"
      },
      "outputs": [
        {
          "name": "stdout",
          "output_type": "stream",
          "text": [
            "True\n"
          ]
        }
      ],
      "source": [
        "# 원하는 단어가 있는지 확인(소문자로 검색) - True\n",
        "word = 'samsung'\n",
        "print(word in vocab_list)"
      ]
    },
    {
      "cell_type": "code",
      "execution_count": 21,
      "metadata": {
        "colab": {
          "base_uri": "https://localhost:8080/"
        },
        "id": "6nJxqfBrsnae",
        "outputId": "44d6742b-8874-4bfc-a774-0c2685814e87"
      },
      "outputs": [
        {
          "name": "stdout",
          "output_type": "stream",
          "text": [
            "cereal\n"
          ]
        }
      ],
      "source": [
        "print(glove.doesnt_match(\"breakfast cereal dinner lunch\".split())) # 4개 단어 중 연관이 없는 단어 1개 선택"
      ]
    },
    {
      "cell_type": "code",
      "execution_count": 22,
      "metadata": {
        "colab": {
          "base_uri": "https://localhost:8080/"
        },
        "id": "zkRlqqtTtafF",
        "outputId": "a6423162-cd16-4ecd-e618-22c7d685c343"
      },
      "outputs": [
        {
          "name": "stdout",
          "output_type": "stream",
          "text": [
            "samsung\n"
          ]
        }
      ],
      "source": [
        "print(glove.doesnt_match(\"samsung kaist yonsei\".split()))"
      ]
    },
    {
      "cell_type": "code",
      "execution_count": 23,
      "metadata": {
        "colab": {
          "base_uri": "https://localhost:8080/"
        },
        "id": "hv0VBaK6v6K7",
        "outputId": "800eae2c-1d61-4b3b-dbe0-0aede09bf807"
      },
      "outputs": [
        {
          "name": "stdout",
          "output_type": "stream",
          "text": [
            "dance\n"
          ]
        }
      ],
      "source": [
        "print(glove.doesnt_match(\"golf baseball dance\".split()))"
      ]
    },
    {
      "cell_type": "code",
      "execution_count": 24,
      "metadata": {
        "colab": {
          "base_uri": "https://localhost:8080/"
        },
        "id": "szWiu_MfZw_t",
        "outputId": "2e2defcb-83b7-4a7d-e639-74a5421b308f"
      },
      "outputs": [
        {
          "name": "stdout",
          "output_type": "stream",
          "text": [
            "snack\n"
          ]
        }
      ],
      "source": [
        "# Do yourself\n",
        "you = \"computer snack keyboard mouse\"\n",
        "print(glove.doesnt_match(you.split()))"
      ]
    },
    {
      "cell_type": "markdown",
      "metadata": {
        "id": "vjBpOZEs0zU3"
      },
      "source": [
        "### 2) 4개 이상의 단어들을 입력하고 유사도가 높은 단어들끼리 매칭되는지 결과 확인해보기"
      ]
    },
    {
      "cell_type": "code",
      "execution_count": 25,
      "metadata": {
        "id": "3wyLLsLH01pf"
      },
      "outputs": [],
      "source": [
        "def cosine_similarity_custom(vec1, vec2):\n",
        "    return np.dot(vec1, vec2) / (np.linalg.norm(vec1) * np.linalg.norm(vec2))\n",
        "\n",
        "def display_pca_scatterplot(model, words=None, sample=0):\n",
        "    if words is None:\n",
        "        if sample > 0:\n",
        "            words = np.random.choice(list(model.vocab.keys()), sample)\n",
        "        else:\n",
        "            words = [word for word in model.vocab]\n",
        "\n",
        "    # 단어 벡터 추출\n",
        "    word_vectors = np.array([model[w] for w in words])\n",
        "\n",
        "    # PCA 수행\n",
        "    pca = PCA(n_components=2)\n",
        "    twodim = pca.fit_transform(word_vectors)[:, :2]\n",
        "\n",
        "    # 단어 시각화\n",
        "    plt.figure(figsize=(10, 10))\n",
        "    plt.scatter(twodim[:, 0], twodim[:, 1], edgecolors='k', c='r')\n",
        "    for word, (x, y) in zip(words, twodim):\n",
        "        plt.annotate(word, (x, y), xytext=(x + 0.05, y + 0.05))\n",
        "\n",
        "    # 유사한 단어 쌍 연결\n",
        "    for i in range(len(words)):\n",
        "        similarities = []\n",
        "        for j in range(len(words)):\n",
        "            if i != j:\n",
        "                cos_sim = cosine_similarity_custom(word_vectors[i], word_vectors[j])\n",
        "                similarities.append((cos_sim, i, j))\n",
        "        # 가장 유사한 단어 쌍 찾기\n",
        "        most_similar = max(similarities, key=lambda item: item[0])\n",
        "        _, idx1, idx2 = most_similar\n",
        "        plt.plot([twodim[idx1, 0], twodim[idx2, 0]], [twodim[idx1, 1], twodim[idx2, 1]], 'k--', linewidth=0.5)\n",
        "\n",
        "    plt.show()"
      ]
    },
    {
      "cell_type": "code",
      "execution_count": 26,
      "metadata": {
        "colab": {
          "base_uri": "https://localhost:8080/",
          "height": 830
        },
        "id": "OwwXCSMmzxuX",
        "outputId": "eaec1a40-e694-4889-f1d8-72f6bdb0f0c7"
      },
      "outputs": [
        {
          "data": {
            "image/png": "[encoded data removed]",
            "text/plain": [
              "<Figure size 1000x1000 with 1 Axes>"
            ]
          },
          "metadata": {},
          "output_type": "display_data"
        }
      ],
      "source": [
        "display_pca_scatterplot(glove,\n",
        "    ['korea', 'seoul', 'japan', 'tokyo', 'china', 'beijing'])"
      ]
    },
    {
      "cell_type": "code",
      "execution_count": 27,
      "metadata": {
        "colab": {
          "base_uri": "https://localhost:8080/",
          "height": 830
        },
        "id": "AszzYCEIprSY",
        "outputId": "a6730748-6cf0-49d9-9962-7f6c3ad08c10"
      },
      "outputs": [
        {
          "data": {
            "image/png": "[encoded data removed]",
            "text/plain": [
              "<Figure size 1000x1000 with 1 Axes>"
            ]
          },
          "metadata": {},
          "output_type": "display_data"
        }
      ],
      "source": [
        "display_pca_scatterplot(glove,\n",
        "    ['samsung', 'lg', 'sk', 'nexon', 'ncsoft', 'google', 'microsoft', 'apple'])"
      ]
    },
    {
      "cell_type": "markdown",
      "metadata": {
        "id": "P0OBQ_Qsacpq"
      },
      "source": [
        "### 3) GloVe 빈칸 채워서 유사한 단어 찾기"
      ]
    },
    {
      "cell_type": "code",
      "execution_count": 30,
      "metadata": {},
      "outputs": [
        {
          "name": "stdout",
          "output_type": "stream",
          "text": [
            "--2024-08-15 12:16:28--  https://nlp.stanford.edu/data/glove.6B.zip\n",
            "Resolving nlp.stanford.edu (nlp.stanford.edu)... 171.64.67.140\n",
            "Connecting to nlp.stanford.edu (nlp.stanford.edu)|171.64.67.140|:443... connected.\n",
            "HTTP request sent, awaiting response... 301 Moved Permanently\n",
            "Location: https://downloads.cs.stanford.edu/nlp/data/glove.6B.zip [following]\n",
            "--2024-08-15 12:16:29--  https://downloads.cs.stanford.edu/nlp/data/glove.6B.zip\n",
            "Resolving downloads.cs.stanford.edu (downloads.cs.stanford.edu)... 171.64.64.22\n",
            "Connecting to downloads.cs.stanford.edu (downloads.cs.stanford.edu)|171.64.64.22|:443... connected.\n",
            "HTTP request sent, awaiting response... 200 OK\n",
            "Length: 862182613 (822M) [application/zip]\n",
            "Saving to: ‘glove.6B.zip’\n",
            "\n",
            "glove.6B.zip        100%[===================>] 822.24M  5.08MB/s    in 2m 45s  \n",
            "\n",
            "2024-08-15 12:19:15 (4.98 MB/s) - ‘glove.6B.zip’ saved [862182613/862182613]\n",
            "\n"
          ]
        }
      ],
      "source": [
        "!wget https://nlp.stanford.edu/data/glove.6B.zip"
      ]
    },
    {
      "cell_type": "code",
      "execution_count": 31,
      "metadata": {},
      "outputs": [
        {
          "name": "stdout",
          "output_type": "stream",
          "text": [
            "Archive:  ./glove.6B.zip\n",
            "  inflating: glove.6B.50d.txt        \n",
            "  inflating: glove.6B.100d.txt       \n",
            "  inflating: glove.6B.200d.txt       \n",
            "  inflating: glove.6B.300d.txt       \n"
          ]
        }
      ],
      "source": [
        "!unzip ./glove.6B.zip"
      ]
    },
    {
      "cell_type": "code",
      "execution_count": 32,
      "metadata": {
        "colab": {
          "base_uri": "https://localhost:8080/"
        },
        "id": "67AM6uzVych2",
        "outputId": "638d4834-f4e2-4143-f0cb-102cac9f178e"
      },
      "outputs": [
        {
          "name": "stdout",
          "output_type": "stream",
          "text": [
            "similarity word (GloVe): [('warcraft', 0.76388866), ('everquest', 0.6020596), ('shenmue', 0.5900681), ('kombat', 0.57015586), ('dota', 0.5611353)]\n"
          ]
        }
      ],
      "source": [
        "import numpy as np\n",
        "\n",
        "# GloVe 파일 로드 (다운로드된 파일 경로로 변경 필요)\n",
        "glove_file = 'glove.6B.100d.txt'\n",
        "embedding_dict = {}\n",
        "with open(glove_file, 'r', encoding='utf-8') as f:\n",
        "    for line in f:\n",
        "        values = line.split()\n",
        "        word = values[0]\n",
        "        try:\n",
        "            vector = np.asarray(values[1:], dtype='float32')\n",
        "            if vector.shape[0] == 100:  # 벡터의 길이가 100인지 확인\n",
        "                embedding_dict[word] = vector\n",
        "        except ValueError:\n",
        "            print(f\"Error converting line to float: {line}\")\n",
        "\n",
        "# 단어 벡터 얻기\n",
        "def get_word_vector(word):\n",
        "    return embedding_dict.get(word, np.zeros((100,)))[:100]\n",
        "\n",
        "# cosine 유사도 계산\n",
        "def cosine_similarity_custom(vec1, vec2):\n",
        "    # Do yourself!\n",
        "    similarity = np.dot(vec1, vec2) / (np.linalg.norm(vec1) * np.linalg.norm(vec2))\n",
        "    return similarity\n",
        "\n",
        "# 유사한 단어 찾기 함수 (코사인 유사도)\n",
        "def find_similar_words(word, top_n=5):\n",
        "    target_vector = get_word_vector(word)\n",
        "    similarities = {}\n",
        "    for w, vec in embedding_dict.items():\n",
        "        if word == w:\n",
        "          continue\n",
        "        similarities[w] = cosine_similarity_custom(target_vector, vec)\n",
        "\n",
        "    return sorted(similarities.items(), key=lambda x: x[1], reverse=True)[:top_n]\n",
        "\n",
        "# 특정 단어와 유사한 단어들 찾기\n",
        "similar_words_glove = find_similar_words('starcraft')\n",
        "print(f\"similarity word (GloVe): {similar_words_glove}\")\n"
      ]
    }
  ],
  "metadata": {
    "colab": {
      "include_colab_link": true,
      "provenance": []
    },
    "kernelspec": {
      "display_name": "Python 3",
      "name": "python3"
    },
    "language_info": {
      "codemirror_mode": {
        "name": "ipython",
        "version": 3
      },
      "file_extension": ".py",
      "mimetype": "text/x-python",
      "name": "python",
      "nbconvert_exporter": "python",
      "pygments_lexer": "ipython3",
      "version": "3.10.14"
    }
  },
  "nbformat": 4,
  "nbformat_minor": 0
}

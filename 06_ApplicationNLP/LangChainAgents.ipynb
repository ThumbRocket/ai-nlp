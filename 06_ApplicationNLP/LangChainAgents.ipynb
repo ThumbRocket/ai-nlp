{
 "cells": [
  {
   "cell_type": "markdown",
   "metadata": {},
   "source": [
    "# OpenAI Key Setting"
   ]
  },
  {
   "cell_type": "markdown",
   "metadata": {},
   "source": [
    "Tavily Search 를 사용하기 위해서는 API KEY를 발급 받아 등록 필요\n",
    "\n",
    "[Tavily Search API 발급받기](https://app.tavily.com/sign-in)"
   ]
  },
  {
   "cell_type": "code",
   "execution_count": null,
   "metadata": {},
   "outputs": [],
   "source": [
    "import getpass\n",
    "\n",
    "api_key = getpass.getpass(\"Please enter your input API KEY :\")\n",
    "organization = getpass.getpass(\"Please enter your input ORGANIZATION ID :\")\n",
    "tavily_api_key = getpass.getpass(\"Please enter your input TAVILY API KEY :\")"
   ]
  },
  {
   "cell_type": "markdown",
   "metadata": {},
   "source": [
    "# Import Pakage and Data Setting"
   ]
  },
  {
   "cell_type": "code",
   "execution_count": null,
   "metadata": {},
   "outputs": [],
   "source": [
    "!pip install langchain==0.1.0\n",
    "!pip install langchain-openai==0.0.2\n",
    "!pip install langchainhub==0.1.14 # langchain python라이브러리로 프롬프트, 에이전트, 체인 관련 패키지 모음\n",
    "!pip install langserve[all]==0.0.39 \n",
    "!pip install faiss-cpu==1.7.4 # Facebook에서 개발 및 배포한 밀집 벡터의 유사도 측정, 클러스터링에 효율적인 라이브러리\n",
    "!pip install tavily-python==0.1.9 # 언어 모델에 중립적인 디자인으로, 모든 LLM과 통합이 가능하도록 설계된 검색 \n",
    "!pip install beautifulsoup4==4.12.2 # 파이썬에서 사용할 수 있는 웹데이터 크롤링 라이브러리\n",
    "!pip install wikipedia\n",
    "!pip install fastapi==0.109.0 # Python의 API를 빌드하기 위한 웹 프레임워크\n",
    "!pip install uvicorn==0.23.2 # ASGI(Asynchronous Server Gateway Interface) 서버\n",
    "\n",
    "!pip install urllib3==2.1.0 # 파이썬에서 HTTP 요청을 보내고 받는 데 사용되는 강력하고 유연한 라이브러리\n",
    "!pip install python-dotenv pypdf"
   ]
  },
  {
   "cell_type": "markdown",
   "metadata": {},
   "source": [
    "# 1. Tavily Search"
   ]
  },
  {
   "cell_type": "code",
   "execution_count": null,
   "metadata": {},
   "outputs": [],
   "source": [
    "# TavilySearchResults 클래스를 langchain_community.tools.tavily_search 모듈에서 가져옵니다.\n",
    "from langchain_community.tools.tavily_search import TavilySearchResults\n",
    "import os\n",
    "\n",
    "os.environ[\"TAVILY_API_KEY\"] = \"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\"\n",
    "\n",
    "# TavilySearchResults 클래스의 인스턴스를 생성합니다\n",
    "# k=5은 검색 결과를 5개까지 가져오겠다는 의미입니다\n",
    "search = TavilySearchResults(k=5, TAVILY_API_KEY=tavily_api_key)"
   ]
  },
  {
   "cell_type": "code",
   "execution_count": null,
   "metadata": {},
   "outputs": [],
   "source": [
    "# 검색 결과를 가져옵니다.\n",
    "search.invoke(\"판교 카카오 프렌즈샵 아지트점의 전화번호는 무엇인가요?\")"
   ]
  },
  {
   "cell_type": "markdown",
   "metadata": {},
   "source": [
    "# 2. PDF 기반 문서 검색 도구 Retriever"
   ]
  },
  {
   "cell_type": "markdown",
   "metadata": {},
   "source": [
    "내부 데이터에 대해 조회를 수행할 retriever 생성.\n",
    "\n",
    "*   웹 기반 문서 로더, 문서 분할기, 벡터 저장소, 그리고 OpenAI 임베딩을 사용하여 문서 검색 시스템을 구축\n",
    "*   PDF 문서를 FAISS DB 에 저장하고 조회하는 retriever 를 생성"
   ]
  },
  {
   "cell_type": "code",
   "execution_count": null,
   "metadata": {},
   "outputs": [],
   "source": [
    "from langchain.text_splitter import RecursiveCharacterTextSplitter\n",
    "from langchain_community.vectorstores import FAISS\n",
    "from langchain_openai import OpenAIEmbeddings\n",
    "from langchain.document_loaders import PyPDFLoader\n",
    "\n",
    "# PDF 파일 로드. 파일의 경로 입력\n",
    "loader = PyPDFLoader(\"./data/SPRI_AI_Brief_2023년12월호_F.pdf\")\n",
    "\n",
    "# 텍스트 분할기를 사용하여 문서를 분할합니다.\n",
    "text_splitter = RecursiveCharacterTextSplitter(chunk_size=1000, chunk_overlap=100)\n",
    "\n",
    "# 문서를 로드하고 분할합니다.\n",
    "split_docs = loader.load_and_split(text_splitter)\n",
    "\n",
    "# VectorStore를 생성합니다.\n",
    "vector = FAISS.from_documents(split_docs, OpenAIEmbeddings(api_key=api_key, organization=organization))\n",
    "\n",
    "# Retriever를 생성합니다.\n",
    "retriever = vector.as_retriever()"
   ]
  },
  {
   "cell_type": "code",
   "execution_count": null,
   "metadata": {},
   "outputs": [],
   "source": [
    "# PDf 문서에서 Query 에 대한 관련성 높은 Chunk 를 가져옵니다.\n",
    "result = retriever.get_relevant_documents(\"YouTube의 2024년부터 AI 생성콘텐츠 표시 의무화에 대한 내용을 알려줘\")\n",
    "print(\"find document :\", len(result))\n",
    "print(result[0])"
   ]
  },
  {
   "cell_type": "code",
   "execution_count": null,
   "metadata": {},
   "outputs": [],
   "source": [
    "# langchain 패키지의 tools 모듈에서 retriever 도구를 생성하는 함수를 가져옵니다.\n",
    "from langchain.tools.retriever import create_retriever_tool\n",
    "\n",
    "# [create_retriever_tool]\n",
    "#  - langchain 라이브러리의 tools.retriever 모듈에서 가져온다.\n",
    "#  - 이 함수는 특정 데이터를 검색하기 위한 도구를 생성하는 데 사용된다.\n",
    "#  - langchain은 언어 모델과 관련된 다양한 기능을 제공하는 라이브러리로, 이 중 검색 도구 생성 기능은 데이터 검색 및 처리 작업을 용이하게 한다.\n",
    "retriever_tool = create_retriever_tool(\n",
    "    retriever, # base retriever\n",
    "    name=\"pdf_search\", # retriever name\n",
    "    description=\"2023년 12월 AI 관련 정보를 PDF 문서에서 검색합니다. '2023년 12월 AI 산업동향' 과 관련된 질문은 이 도구를 사용해야 합니다!\",\n",
    "    # Agent 작업의 성격과 용도를 명확히 정의하여 적절한 방법으로 작업을 수행하도록 유도\n",
    ")"
   ]
  },
  {
   "cell_type": "markdown",
   "metadata": {},
   "source": [
    "# 3. Agent 생성"
   ]
  },
  {
   "cell_type": "code",
   "execution_count": null,
   "metadata": {},
   "outputs": [],
   "source": [
    "# Agent 가 사용할 도구 목록 정의\n",
    "# Agent 가 사용할 도구 목록을 리스트 형식으로 만든다.\n",
    "# tools 리스트는 search와 retriever_tool을 포함합니다.\n",
    "# 이 리스트는 검색 및 정보 검색 도구를 저장하는 데 사용됩니다.\n",
    "# 각 요소는 특정 작업을 수행하는 데 필요한 기능을 제공합니다.\n",
    "\n",
    "# tools 리스트에 search와 retriever_tool을 추가\n",
    "tools = [search, retriever_tool]"
   ]
  },
  {
   "cell_type": "code",
   "execution_count": null,
   "metadata": {},
   "outputs": [],
   "source": [
    "from langchain_openai import ChatOpenAI\n",
    "\n",
    "# ChatOpenAI 클래스를 langchain_openai 모듈에서 가져옵니다.\n",
    "# Agent가 활용할 LLM 정의\n",
    "llm = ChatOpenAI(\n",
    "    model=\"gpt-3.5-turbo\", \n",
    "    temperature=0,\n",
    "    api_key=api_key,\n",
    "    organization=organization\n",
    ")"
   ]
  },
  {
   "cell_type": "code",
   "execution_count": null,
   "metadata": {},
   "outputs": [],
   "source": [
    "from langchain import hub\n",
    "\n",
    "# hub에서 prompt import 가능\n",
    "# https://smith.langchain.com/hub/hwchase17/openai-functions-agent?tab=0\n",
    "prompt = hub.pull(\"hwchase17/openai-functions-agent\")\n",
    "prompt.messages"
   ]
  },
  {
   "cell_type": "code",
   "execution_count": null,
   "metadata": {},
   "outputs": [],
   "source": [
    "from langchain.agents import create_openai_functions_agent\n",
    "\n",
    "# OpenAI 함수 기반 에이전트를 생성\n",
    "# llm, tools, prompt를 인자로 사용\n",
    "agent = create_openai_functions_agent(llm=llm, tools=tools, prompt=prompt)\n",
    "# 입력을 받아 어떤 Action 을 취할지 결정하는 역할을 수행\n",
    "# Action을 실행하는 것은 AgentExecutor에 의해 수행"
   ]
  },
  {
   "cell_type": "code",
   "execution_count": null,
   "metadata": {},
   "outputs": [],
   "source": [
    "from langchain.agents import AgentExecutor\n",
    "\n",
    "# AgentExecutor는 주어진 에이전트와 도구들을 사용하여 작업을 실행하는 역할 수행.\n",
    "# 에이전트(agent)를 AgentExecutor 내부의 도구들과 결합 (이는 반복적으로 에이전트를 호출하고 도구들을 실행)\n",
    "# AgentExecutor 클래스를 사용하여 agent와 tools를 설정하고, 상세한 로그를 출력하도록 verbose를 True로 설정\n",
    "agent_executor = AgentExecutor(agent=agent, tools=tools, verbose=True)"
   ]
  },
  {
   "cell_type": "code",
   "execution_count": null,
   "metadata": {},
   "outputs": [],
   "source": [
    "# 'agent_executor' 객체의 'invoke' 메소드를 호출하여,\n",
    "# 'input' 키와 '안녕, 반가워' 값을 가진 딕셔너리를 인자로 전달합니다.\n",
    "response = agent_executor.invoke({\"input\": \"2022년 월드컵 대한민국의 축구 경기 결과를 알려줘.\"})"
   ]
  },
  {
   "cell_type": "code",
   "execution_count": null,
   "metadata": {},
   "outputs": [],
   "source": [
    "print(response)\n",
    "print(f'답변: {response[\"output\"]}')"
   ]
  },
  {
   "cell_type": "code",
   "execution_count": null,
   "metadata": {},
   "outputs": [],
   "source": [
    "# 'agent_executor' 객체의 'invoke' 메소드를 호출하여, 'langsmith'가 테스팅에 어떻게 도움을 줄 수 있는지에 대한 질문을 입력으로 제공합니다.\n",
    "response = agent_executor.invoke({\"input\": \"YouTube 2024년부터 AI 생성콘텐츠 표시 의무화에 대한 내용을 PDF 문서에서 알려줘\"})\n",
    "print(f'답변: {response[\"output\"]}')"
   ]
  },
  {
   "cell_type": "code",
   "execution_count": null,
   "metadata": {},
   "outputs": [],
   "source": [
    "# 검색 결과를 요청 후 질문에 대한 답변을 출력합니다.\n",
    "response = agent_executor.invoke({\"input\": \"판교 카카오 프렌즈샵 아지트점의 전화번호를 검색하여 결과를 알려주세요.\"})\n",
    "print(f'답변: {response[\"output\"]}')"
   ]
  },
  {
   "cell_type": "code",
   "execution_count": null,
   "metadata": {},
   "outputs": [],
   "source": [
    "from langchain.chat_models import ChatOpenAI\n",
    "from langchain.agents import load_tools\n",
    "from langchain.agents import initialize_agent\n",
    "from langchain.agents import AgentType\n",
    "\n",
    "llm = ChatOpenAI(\n",
    "    temperature=0,\n",
    "    model_name='gpt-4',\n",
    "    api_key=api_key,\n",
    "    organization=organization\n",
    ")\n",
    "\n",
    "tools = load_tools([\"wikipedia\", \"llm-math\"], llm=llm) #llm-math의 경우 나이 계산을 위해 사용\n",
    "\n",
    "agent = initialize_agent(\n",
    "    tools,\n",
    "    llm,\n",
    "    agent=AgentType.ZERO_SHOT_REACT_DESCRIPTION,\n",
    "    description='위키피이아에서 정보를 검색하고 계산이 필요할 때 사용',\n",
    "    verbose=True\n",
    ")\n",
    "\n",
    "agent.run(\"gpt-4o는 언제 출시되었어?\")"
   ]
  },
  {
   "cell_type": "markdown",
   "metadata": {},
   "source": [
    "# Appendix. 완성형 Agent"
   ]
  },
  {
   "cell_type": "code",
   "execution_count": null,
   "metadata": {},
   "outputs": [],
   "source": [
    "# 필요한 모듈 import\n",
    "from langchain_community.tools.tavily_search import TavilySearchResults\n",
    "from langchain.text_splitter import RecursiveCharacterTextSplitter\n",
    "from langchain_community.vectorstores import FAISS\n",
    "from langchain_openai import OpenAIEmbeddings\n",
    "from langchain.document_loaders import PyPDFLoader\n",
    "from langchain.tools.retriever import create_retriever_tool\n",
    "from langchain_openai import ChatOpenAI\n",
    "from langchain import hub\n",
    "from langchain.agents import create_openai_functions_agent, AgentExecutor\n",
    "from langchain_community.chat_message_histories import ChatMessageHistory\n",
    "from langchain_core.runnables.history import RunnableWithMessageHistory\n",
    "\n",
    "########## 1. 도구를 정의합니다 ##########\n",
    "\n",
    "### 1-1. Search 도구 ###\n",
    "# TavilySearchResults 클래스의 인스턴스를 생성합니다\n",
    "# k=5은 검색 결과를 5개까지 가져오겠다는 의미입니다\n",
    "search = TavilySearchResults(k=5)\n",
    "\n",
    "### 1-2. PDF 문서 검색 도구 (Retriever) ###\n",
    "# PDF 파일 로드. 파일의 경로 입력\n",
    "loader = PyPDFLoader(\"data/SPRI_AI_Brief_2023년12월호_F.pdf\")\n",
    "\n",
    "# 텍스트 분할기를 사용하여 문서를 분할합니다.\n",
    "text_splitter = RecursiveCharacterTextSplitter(chunk_size=1000, chunk_overlap=100)\n",
    "\n",
    "# 문서를 로드하고 분할합니다.\n",
    "split_docs = loader.load_and_split(text_splitter)\n",
    "\n",
    "# VectorStore를 생성합니다.\n",
    "vector = FAISS.from_documents(split_docs, OpenAIEmbeddings(api_key=api_key, organization=organization))\n",
    "\n",
    "# Retriever를 생성합니다.\n",
    "retriever = vector.as_retriever()\n",
    "\n",
    "# langchain 패키지의 tools 모듈에서 retriever 도구를 생성\n",
    "retriever_tool = create_retriever_tool(\n",
    "    retriever,\n",
    "    name=\"pdf_search\",\n",
    "    # 도구에 대한 설명을 자세히 기입해야 합니다!!!\n",
    "    description=\"2023년 12월 AI 관련 정보를 PDF 문서에서 검색합니다. '2023년 12월 AI 산업동향' 과 관련된 질문은 이 도구를 사용해야 합니다!\",\n",
    ")\n",
    "\n",
    "### 1-3. tools 리스트에 도구 목록을 추가합니다 ###\n",
    "# tools 리스트에 search와 retriever_tool을 추가합니다.\n",
    "tools = [search, retriever_tool]\n",
    "\n",
    "########## 2. LLM 을 정의합니다 ##########\n",
    "# LLM 모델을 생성합니다.\n",
    "llm = ChatOpenAI(model=\"gpt-4-turbo-preview\", temperature=0, api_key=api_key, organization=organization)\n",
    "\n",
    "########## 3. Prompt 를 정의합니다 ##########\n",
    "\n",
    "# hub에서 prompt를 가져옵니다\n",
    "prompt = hub.pull(\"hwchase17/openai-functions-agent\")\n",
    "\n",
    "########## 4. Agent 를 정의합니다 ##########\n",
    "\n",
    "# OpenAI 함수 기반 에이전트를 생성합니다.\n",
    "# llm, tools, prompt를 인자로 사용합니다.\n",
    "agent = create_openai_functions_agent(llm, tools, prompt)\n",
    "\n",
    "########## 5. AgentExecutor 를 정의합니다 ##########\n",
    "\n",
    "# AgentExecutor 클래스를 사용하여 agent와 tools를 설정하고, 상세한 로그를 출력하도록 verbose를 True로 설정합니다.\n",
    "agent_executor = AgentExecutor(agent=agent, tools=tools, verbose=True)\n",
    "\n",
    "########## 6. 채팅 기록을 수행하는 메모리를 추가합니다. ##########\n",
    "\n",
    "# 채팅 메시지 기록을 관리하는 객체를 생성합니다.\n",
    "message_history = ChatMessageHistory()\n",
    "\n",
    "# 채팅 메시지 기록이 추가된 에이전트를 생성합니다.\n",
    "agent_with_chat_history = RunnableWithMessageHistory(\n",
    "    agent_executor,\n",
    "    # 대부분의 실제 시나리오에서 세션 ID가 필요하기 때문에 이것이 필요합니다\n",
    "    # 여기서는 간단한 메모리 내 ChatMessageHistory를 사용하기 때문에 실제로 사용되지 않습니다\n",
    "    lambda session_id: message_history,\n",
    "    # 프롬프트의 질문이 입력되는 key: \"input\"\n",
    "    input_messages_key=\"input\",\n",
    "    # 프롬프트의 메시지가 입력되는 key: \"chat_history\"\n",
    "    history_messages_key=\"chat_history\",\n",
    ")"
   ]
  },
  {
   "cell_type": "code",
   "execution_count": null,
   "metadata": {},
   "outputs": [],
   "source": [
    "########## 7. 질의-응답 테스트를 수행합니다. ##########\n",
    "\n",
    "# 질의에 대한 답변을 출력합니다.\n",
    "response = agent_with_chat_history.invoke(\n",
    "    {\n",
    "        \"input\": \"YouTube 2024년부터 AI 생성콘텐츠 표시 의무화에 대한 내용을 PDF 문서에서 알려줘\"\n",
    "    },\n",
    "    # 세션 ID를 설정합니다.\n",
    "    # 여기서는 간단한 메모리 내 ChatMessageHistory를 사용하기 때문에 실제로 사용되지 않습니다\n",
    "    config={\"configurable\": {\"session_id\": \"MyTestSessionID\"}},\n",
    ")\n",
    "print(f\"답변: {response['output']}\")"
   ]
  }
 ],
 "metadata": {
  "kernelspec": {
   "display_name": "base",
   "language": "python",
   "name": "python3"
  },
  "language_info": {
   "codemirror_mode": {
    "name": "ipython",
    "version": 3
   },
   "file_extension": ".py",
   "mimetype": "text/x-python",
   "name": "python",
   "nbconvert_exporter": "python",
   "pygments_lexer": "ipython3",
   "version": "3.11.7"
  }
 },
 "nbformat": 4,
 "nbformat_minor": 2
}
